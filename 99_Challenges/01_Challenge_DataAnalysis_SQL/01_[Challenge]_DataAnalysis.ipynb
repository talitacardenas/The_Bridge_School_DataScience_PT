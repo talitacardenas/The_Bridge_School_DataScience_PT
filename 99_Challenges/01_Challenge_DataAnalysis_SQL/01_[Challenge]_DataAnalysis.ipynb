{
  "nbformat": 4,
  "nbformat_minor": 0,
  "metadata": {
    "colab": {
      "name": "01_[Challenge]_DataAnalysis",
      "provenance": [],
      "collapsed_sections": []
    },
    "kernelspec": {
      "name": "python3",
      "display_name": "Python 3"
    },
    "language_info": {
      "name": "python"
    }
  },
  "cells": [
    {
      "cell_type": "code",
      "metadata": {
        "colab": {
          "base_uri": "https://localhost:8080/"
        },
        "id": "Af5KqAT7ov-4",
        "outputId": "3e48c91c-cd18-4381-9ac1-4e1a8852aa40"
      },
      "source": [
        "# importamos las librería\n",
        "# Python version\n",
        "import sys\n",
        "print('Python: {}'.format(sys.version))\n",
        "# scipy\n",
        "import scipy\n",
        "print('scipy: {}'.format(scipy.__version__))\n",
        "# numpy\n",
        "import numpy\n",
        "print('numpy: {}'.format(numpy.__version__))\n",
        "# matplotlib\n",
        "import matplotlib\n",
        "print('matplotlib: {}'.format(matplotlib.__version__))"
      ],
      "execution_count": null,
      "outputs": [
        {
          "output_type": "stream",
          "name": "stdout",
          "text": [
            "Python: 3.7.11 (default, Jul  3 2021, 18:01:19) \n",
            "[GCC 7.5.0]\n",
            "scipy: 1.4.1\n",
            "numpy: 1.19.5\n",
            "matplotlib: 3.2.2\n"
          ]
        }
      ]
    },
    {
      "cell_type": "code",
      "metadata": {
        "id": "cAjjZ0EhuQh_"
      },
      "source": [
        "# Leer la documentación de SQLALCHEMY\n",
        "import sqlalchemy"
      ],
      "execution_count": null,
      "outputs": []
    },
    {
      "cell_type": "code",
      "metadata": {
        "colab": {
          "base_uri": "https://localhost:8080/",
          "height": 191
        },
        "id": "2Ix0sGcfueWQ",
        "outputId": "2ee65fcb-d30c-416f-c326-0cf579bb0ef1"
      },
      "source": [
        "!pip install psycopg2-binary"
      ],
      "execution_count": null,
      "outputs": [
        {
          "output_type": "stream",
          "name": "stdout",
          "text": [
            "Collecting psycopg2-binary\n",
            "  Downloading psycopg2_binary-2.9.1-cp37-cp37m-manylinux_2_17_x86_64.manylinux2014_x86_64.whl (3.4 MB)\n",
            "\u001b[K     |████████████████████████████████| 3.4 MB 3.1 MB/s \n",
            "\u001b[?25hInstalling collected packages: psycopg2-binary\n",
            "Successfully installed psycopg2-binary-2.9.1\n"
          ]
        },
        {
          "output_type": "display_data",
          "data": {
            "application/vnd.colab-display-data+json": {
              "pip_warning": {
                "packages": [
                  "psycopg2"
                ]
              }
            }
          },
          "metadata": {}
        }
      ]
    },
    {
      "cell_type": "code",
      "metadata": {
        "id": "xIibAqHjugOD"
      },
      "source": [
        "# Leer la documentación de PSYCOPG2\n",
        "import psycopg2"
      ],
      "execution_count": null,
      "outputs": []
    },
    {
      "cell_type": "code",
      "metadata": {
        "id": "WNg87a_G0x4l"
      },
      "source": [
        "## DB\n",
        "from sqlalchemy import create_engine\n",
        "import psycopg2\n",
        "\n",
        "## data analysis and wrangling\n",
        "import pandas as pd\n",
        "import numpy as np\n",
        "import random as rnd\n",
        "\n",
        "## visualization\n",
        "import seaborn as sns\n",
        "from scipy.stats import norm, skew\n",
        "from scipy import stats\n",
        "import matplotlib.pyplot as plt\n",
        "%matplotlib inline\n",
        "\n",
        "## Warnings and other tools\n",
        "import itertools\n",
        "import warnings\n",
        "warnings.filterwarnings(\"ignore\")"
      ],
      "execution_count": null,
      "outputs": []
    },
    {
      "cell_type": "code",
      "metadata": {
        "id": "cPGRD0Pq06ma"
      },
      "source": [
        "# Cargamos las credenciales de la base de datos"
      ],
      "execution_count": null,
      "outputs": []
    },
    {
      "cell_type": "code",
      "metadata": {
        "id": "NOSWiwkM09as"
      },
      "source": [
        "# Cargamos en pandas la query anterior o consulta de una tabla (TABLE) o cargamos unas vistas (VIEW)\n",
        "\n",
        "# Obtenemos un dataframe"
      ],
      "execution_count": null,
      "outputs": []
    },
    {
      "cell_type": "code",
      "metadata": {
        "id": "co8RO-Si1ItZ"
      },
      "source": [
        "# EDA...lo de siempre"
      ],
      "execution_count": null,
      "outputs": []
    },
    {
      "cell_type": "code",
      "metadata": {
        "id": "xrTWaszJ1Lak"
      },
      "source": [
        "# INSIGHTS"
      ],
      "execution_count": null,
      "outputs": []
    },
    {
      "cell_type": "code",
      "metadata": {
        "id": "HhCkigci1NH1"
      },
      "source": [
        "# Conclusiones"
      ],
      "execution_count": null,
      "outputs": []
    },
    {
      "cell_type": "code",
      "metadata": {
        "id": "9MVQVmsL1Ohj"
      },
      "source": [
        "# Inferir datos con otras fuentes externas con API's"
      ],
      "execution_count": null,
      "outputs": []
    },
    {
      "cell_type": "code",
      "metadata": {
        "id": "ey6-4e5E1Yml"
      },
      "source": [
        "# Pueden mostrar los datos en Power BI Desktop (free) / Tableau PRO (de pago)"
      ],
      "execution_count": null,
      "outputs": []
    },
    {
      "cell_type": "code",
      "metadata": {
        "id": "0_PpdhiW1jo1"
      },
      "source": [
        "# Seguir las tareas restantes para paquetizar el trabajo anterior.\n",
        "\n",
        "# En caso de crear funciones utilizamos bien try...except...finally (pass)\n",
        "def nombre_funcion():\n",
        "  try:\n",
        "    (cond)\n",
        "    print(\"Función ejecutada estado 200\")\n",
        "  except Exception as e:\n",
        "    e\n",
        "    print(\"Ha fallado\")\n",
        "  finally:\n",
        "    print(\"otra condición final---- ejecutar otra tarea/función\")"
      ],
      "execution_count": null,
      "outputs": []
    },
    {
      "cell_type": "code",
      "metadata": {
        "id": "UinIoG052yl2"
      },
      "source": [
        "# en caso de utilizar logging\n",
        "import logging\n",
        "\n",
        "logger = logging.getLogger()\n",
        "logger.info\n",
        "logger.warnings\n",
        "logger.alerts"
      ],
      "execution_count": null,
      "outputs": []
    }
  ]
}