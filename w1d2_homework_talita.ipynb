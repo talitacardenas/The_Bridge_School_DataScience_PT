{
  "nbformat": 4,
  "nbformat_minor": 0,
  "metadata": {
    "colab": {
      "name": "w1d2_homework_talita.ipynb",
      "provenance": [],
      "authorship_tag": "ABX9TyN9P06/q0ShRdeIOqtA+FbE",
      "include_colab_link": true
    },
    "kernelspec": {
      "name": "python3",
      "display_name": "Python 3"
    },
    "language_info": {
      "name": "python"
    }
  },
  "cells": [
    {
      "cell_type": "markdown",
      "metadata": {
        "id": "view-in-github",
        "colab_type": "text"
      },
      "source": [
        "<a href=\"https://colab.research.google.com/github/talitacardenas/The_Bridge_School_DataScience_PT/blob/Develop/w1d2_homework_talita.ipynb\" target=\"_parent\"><img src=\"https://colab.research.google.com/assets/colab-badge.svg\" alt=\"Open In Colab\"/></a>"
      ]
    },
    {
      "cell_type": "markdown",
      "metadata": {
        "id": "ty2kMIyl7iFU"
      },
      "source": [
        "## W1D2 - HOMERWORK TALITA\n",
        "# Testeando GColab"
      ]
    },
    {
      "cell_type": "markdown",
      "metadata": {
        "id": "iqIGAOum72tD"
      },
      "source": [
        "1. Abrir nuevo Notebook en GColab\n",
        "2. Escribi alo de texto y código\n",
        "3. Subir a GitHub"
      ]
    },
    {
      "cell_type": "code",
      "metadata": {
        "colab": {
          "base_uri": "https://localhost:8080/"
        },
        "id": "Nyy4zpHI7yfR",
        "outputId": "1eb6c94c-2287-4e4c-cdb4-6a8eb9f058e8"
      },
      "source": [
        "2+2\n"
      ],
      "execution_count": null,
      "outputs": [
        {
          "output_type": "execute_result",
          "data": {
            "text/plain": [
              "4"
            ]
          },
          "metadata": {
            "tags": []
          },
          "execution_count": 2
        }
      ]
    },
    {
      "cell_type": "markdown",
      "metadata": {
        "id": "Wg9g4PVZ8jRQ"
      },
      "source": [
        "[***Entrar en Google***](https://www.google.com)\n",
        "\n",
        "> Buscar lo que es GitHub\n",
        "\n",
        "Marco es algo tarde, pero espero que sea lo suficiente por hoy.\n",
        "\n",
        "Ah! He instalado el Anaconda, pero no he logrado instalar para **Python 3.7** como nos indicaba el guía, así que teng la versión **3.8.8**\n",
        "Por cierto, he desistalado la primera vez, cuando me he dado cuenta que la versión de Python no era la misma, y te cuento que he logrado desistalar por completo, tengo fotos para probar :)\n",
        "Aunque me ha costado, he llamado hasta mi hermano que es de IT y me dijo: si fuera Linux o Windows, podría ayudarte, pero quien en este mundo trabaja con Mac, y es verdad, en mi país solamente quien trabaja con publicidad, o artes gráficas que trabajan con Mac....así que he tenido me que meter en N forums en busca de una solución y al parecer ha funcionado.\n",
        "\n",
        "\n",
        "\n",
        "> Grazie mille e buonanotte.\n",
        "\n",
        "\n",
        "\n"
      ]
    }
  ]
}