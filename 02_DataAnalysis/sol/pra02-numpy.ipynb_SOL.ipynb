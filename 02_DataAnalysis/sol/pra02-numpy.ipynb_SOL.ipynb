{
 "cells": [
  {
   "cell_type": "markdown",
   "metadata": {},
   "source": [
    "# Programación 201"
   ]
  },
  {
   "cell_type": "markdown",
   "metadata": {},
   "source": [
    "Librerías científicas en Python: `NumPy`\n",
    "------------------------------------------------------"
   ]
  },
  {
   "cell_type": "markdown",
   "metadata": {},
   "source": [
    "### Ejercicio 1\n",
    "Calculad la norma y el determinante de la siguiente matriz: ```[[1, 0], [2, -1]]```."
   ]
  },
  {
   "cell_type": "code",
   "execution_count": 1,
   "metadata": {},
   "outputs": [],
   "source": [
    "# Importamos la librería numpy.\n",
    "import numpy as np"
   ]
  },
  {
   "cell_type": "code",
   "execution_count": 2,
   "metadata": {},
   "outputs": [
    {
     "name": "stdout",
     "output_type": "stream",
     "text": [
      "La norma de la matriz es: 2.449489742783178\n",
      "El determinante de la matriz es: -1.0\n"
     ]
    }
   ],
   "source": [
    "# Creamos la matriz.\n",
    "matriz_one = np.array([[1, 0], [2, -1]])\n",
    "\n",
    "# Calculamos la norma con la función `linalg.norm` y la mostramos por pantalla.\n",
    "norm = np.linalg.norm(matriz_one)\n",
    "print(\"La norma de la matriz es: \" + str(norm))\n",
    "\n",
    "# Calculamos el determinante con la función `linalg.det` y lo mostramos por pantalla.\n",
    "det = np.linalg.det(matriz_one)\n",
    "print(\"El determinante de la matriz es: \" + str(det))"
   ]
  },
  {
   "cell_type": "markdown",
   "metadata": {},
   "source": [
    "### Ejercicio 2 \n",
    "Evaluad las funciones arcoseno y arcocoseno en el intervalo [0,1] y con paso (resolución) de 0.1 y guardadlas en dos _arrays_."
   ]
  },
  {
   "cell_type": "code",
   "execution_count": 3,
   "metadata": {},
   "outputs": [
    {
     "name": "stdout",
     "output_type": "stream",
     "text": [
      "El array resultante de aplicar la función de arcoseno en el intervalo [0,1] con paso 0.1 es: \n",
      "[0.         0.10016742 0.20135792 0.30469265 0.41151685 0.52359878\n",
      " 0.64350111 0.7753975  0.92729522 1.11976951]\n"
     ]
    }
   ],
   "source": [
    "# Evaluamos la función del arcoseno en el intervano [0,1] y con paso de 0.1.\n",
    "array_one = np.array([[]])\n",
    "for i in np.arange(0, 1, 0.1):\n",
    "    # Utilizamos la función de numpy `arange` que soporta números flotantes.\n",
    "    array_one =  np.append(array_one, np.arcsin(i))\n",
    "\n",
    "# Mostramos por pantalla el resultado.\n",
    "print(\"El array resultante de aplicar la función de arcoseno en el intervalo [0,1] con paso 0.1 es: \\n\" + str(array_one))"
   ]
  },
  {
   "cell_type": "code",
   "execution_count": 4,
   "metadata": {},
   "outputs": [
    {
     "name": "stdout",
     "output_type": "stream",
     "text": [
      "El array resultante de aplicar la función de arcocoseno en el intervalo [0,1] con paso 0.1 es: \n",
      "[1.57079633 1.47062891 1.36943841 1.26610367 1.15927948 1.04719755\n",
      " 0.92729522 0.79539883 0.64350111 0.45102681]\n"
     ]
    }
   ],
   "source": [
    "# Evaluamos la función del arcocoseno en el intervano [0,1] y con paso de 0.1.\n",
    "array_two = np.array([[]])\n",
    "for i in np.arange(0, 1, 0.1):\n",
    "    # Utilizamos la función de numpy `arange` que soporta números flotantes.\n",
    "    array_two = np.append(array_two, np.arccos(i))\n",
    "    \n",
    "# Mostramos por pantalla el resultado.\n",
    "print(\"El array resultante de aplicar la función de arcocoseno en el intervalo [0,1] con paso 0.1 es: \\n\" + str(array_two))"
   ]
  },
  {
   "cell_type": "markdown",
   "metadata": {},
   "source": [
    "### Ejercicio 3\n",
    "Generad una lista de 100 valores enteros aleatorios de 0-9. Realizad los siguientes cálculos utilizando métodos de _numpy_:\n",
    "- Media y desviación estándar de los valores de la lista\n",
    "- Valor máximo y mínimo\n",
    "- Sumad todos los valores de la lista\n",
    "- Conseguid una lista de valores únicos"
   ]
  },
  {
   "cell_type": "code",
   "execution_count": 5,
   "metadata": {},
   "outputs": [
    {
     "data": {
      "text/plain": [
       "array([0, 7, 0, 6, 9, 5, 3, 0, 1, 5, 8, 8, 1, 5, 7, 3, 4, 3, 8, 6, 8, 1,\n",
       "       7, 3, 0, 5, 6, 9, 6, 6, 0, 6, 7, 2, 6, 9, 6, 4, 9, 3, 5, 7, 7, 1,\n",
       "       2, 1, 3, 0, 0, 6, 4, 6, 2, 2, 2, 0, 1, 6, 8, 5, 8, 3, 0, 2, 9, 1,\n",
       "       1, 9, 5, 1, 0, 4, 9, 6, 0, 1, 8, 4, 6, 4, 5, 6, 0, 6, 0, 0, 7, 9,\n",
       "       8, 4, 2, 9, 8, 5, 6, 7, 4, 0, 0, 6])"
      ]
     },
     "execution_count": 5,
     "metadata": {},
     "output_type": "execute_result"
    }
   ],
   "source": [
    "# Utilizando la función `random.randint` generamos una lista de 100 valores enteros aleatorios de 0 a 9, el parámetro `size`\n",
    "# determina el tamaño de la lista y hay que tener en cuenta que el último número del rango seleccionado queda excluido, por lo\n",
    "# que ponemos como último número el 10 para que el 9 sea también seleccionado.\n",
    "list_random_values_0_to_9 = np.random.randint(0, 10, size = 100)\n",
    "list_random_values_0_to_9"
   ]
  },
  {
   "cell_type": "code",
   "execution_count": 6,
   "metadata": {},
   "outputs": [
    {
     "name": "stdout",
     "output_type": "stream",
     "text": [
      "La media de los valores de la lista es: 4.33\n",
      "La desviación típica de los valores de la lista es: 2.98011744735002\n",
      "El máximo de los valores de la lista es: 9\n",
      "El mínimo de los valores de la lista es: 0\n",
      "La suma de los valores de la lista es: 433\n",
      "Una lista de valores únicos de esta lista sería: [0 1 2 3 4 5 6 7 8 9]\n"
     ]
    }
   ],
   "source": [
    "# Calculamos los distintos valores estadísticos sobre la lista.\n",
    "print(\"La media de los valores de la lista es: \" + str(np.mean(list_random_values_0_to_9)))\n",
    "print(\"La desviación típica de los valores de la lista es: \" + str(np.std(list_random_values_0_to_9)))\n",
    "print(\"El máximo de los valores de la lista es: \" + str(np.amax(list_random_values_0_to_9)))\n",
    "print(\"El mínimo de los valores de la lista es: \" + str(np.amin(list_random_values_0_to_9)))\n",
    "print(\"La suma de los valores de la lista es: \" + str(np.sum(list_random_values_0_to_9)))\n",
    "print(\"Una lista de valores únicos de esta lista sería: \" + str(np.unique(list_random_values_0_to_9)))"
   ]
  },
  {
   "cell_type": "markdown",
   "metadata": {},
   "source": [
    "### Ejercicio 4\n",
    "Ordenad la matriz bidimensional ```[[5,1,7], [0,7,4], [7,23,1]]``` por filas utilizando como algoritmo de ordenación el [Merge sort](https://en.wikipedia.org/wiki/Merge_sort).\n",
    "\n",
    "**Hint:** No es necesario que implementéis el algoritmo de ordenación a mano, NumPy contiene métodos para realizar diferentes tipos de ordenación sobre diferentes estructuras de datos."
   ]
  },
  {
   "cell_type": "code",
   "execution_count": 7,
   "metadata": {},
   "outputs": [
    {
     "name": "stdout",
     "output_type": "stream",
     "text": [
      "[[ 5  1  7]\n",
      " [ 0  7  4]\n",
      " [ 7 23  1]]\n"
     ]
    }
   ],
   "source": [
    "# Creamos la matriz bidimensional y la mostramos por pantalla.\n",
    "matriz_bidimensional = np.array([[5,1,7], [0,7,4], [7,23,1]])\n",
    "print(matriz_bidimensional)"
   ]
  },
  {
   "cell_type": "code",
   "execution_count": 8,
   "metadata": {},
   "outputs": [
    {
     "name": "stdout",
     "output_type": "stream",
     "text": [
      "[[ 0  1  1]\n",
      " [ 5  7  4]\n",
      " [ 7 23  7]]\n"
     ]
    }
   ],
   "source": [
    "# Ordenamos la matriz anterior utilizando la función `sort`, pasando como parámetro el algoritmo de ordenación \"Merge sort\" y\n",
    "# estableciendo la orientación por filas con el parámetro \"axis\".\n",
    "sorted_matrix = np.sort(matriz_bidimensional, axis = 0, kind = 'mergesort')\n",
    "\n",
    "# Mostramos por pantalla el resultado.\n",
    "print(sorted_matrix)"
   ]
  },
  {
   "cell_type": "markdown",
   "metadata": {},
   "source": [
    "### Ejercicio 5\n",
    "Definid una función que dadas dos matrices, devuelva el valor absoluto de la multiplicación de los determinantes ambas, es decir, dadas A y B, nuestra función devolverá `|det(A) * det(B)|`."
   ]
  },
  {
   "cell_type": "code",
   "execution_count": 9,
   "metadata": {},
   "outputs": [
    {
     "data": {
      "text/plain": [
       "23.999999999999982"
      ]
     },
     "execution_count": 9,
     "metadata": {},
     "output_type": "execute_result"
    }
   ],
   "source": [
    "# Creamos una función que dadas dos matrices, devuelva el valor absoluto de la multiplicación de los determinantes de ambas.\n",
    "def abs_value_product_det(matrix_a, matrix_b):\n",
    "    product_matrix_det = np.linalg.det(matrix_a) * np.linalg.det(matrix_b)\n",
    "    return np.absolute(product_matrix_det)\n",
    "\n",
    "# Creamos dos matrices A y B.\n",
    "a = np.array([[1, 4], [7, 4]])\n",
    "b = np.array([[3, 5], [2, 3]])\n",
    "\n",
    "# Llamamos a la función para comprobar que funciona correctamente.\n",
    "abs_value_product_det(a, b)"
   ]
  },
  {
   "cell_type": "markdown",
   "metadata": {},
   "source": [
    "### Ejercicio 6\n",
    "Cread una matriz 10x10 que corresponda con la [matriz identidad](https://es.wikipedia.org/wiki/Matriz_identidad) usando generadores básicos de arrays. Cread una matriz identidad 10x10 (esta vez usando generadores especificos de matrices identidad) y comprobad que ambas matrices son iguales\n",
    "\n",
    "**Consideraciones**:\n",
    "- La primera matriz debe crearse usando constructores básicos de arrays, como los presentados en los Notebooks de teoría.\n",
    "* La segunda matriz debe generarse utilizando el generador de matrices identidad de numpy.\n",
    "* La comparación debe devolver True si las matrices son iguales (un único True), False de no ser así."
   ]
  },
  {
   "cell_type": "code",
   "execution_count": 10,
   "metadata": {},
   "outputs": [
    {
     "data": {
      "text/plain": [
       "array([[1., 0., 0., 0., 0., 0., 0., 0., 0., 0.],\n",
       "       [0., 1., 0., 0., 0., 0., 0., 0., 0., 0.],\n",
       "       [0., 0., 1., 0., 0., 0., 0., 0., 0., 0.],\n",
       "       [0., 0., 0., 1., 0., 0., 0., 0., 0., 0.],\n",
       "       [0., 0., 0., 0., 1., 0., 0., 0., 0., 0.],\n",
       "       [0., 0., 0., 0., 0., 1., 0., 0., 0., 0.],\n",
       "       [0., 0., 0., 0., 0., 0., 1., 0., 0., 0.],\n",
       "       [0., 0., 0., 0., 0., 0., 0., 1., 0., 0.],\n",
       "       [0., 0., 0., 0., 0., 0., 0., 0., 1., 0.],\n",
       "       [0., 0., 0., 0., 0., 0., 0., 0., 0., 1.]])"
      ]
     },
     "execution_count": 10,
     "metadata": {},
     "output_type": "execute_result"
    }
   ],
   "source": [
    "# Creamos una matriz 10x10 con generadores básicos de arrays y mostramos por pantalla.\n",
    "basic_matrix = np.zeros(shape = [10, 10])\n",
    "for i in range(10):\n",
    "    basic_matrix[i][i] = 1\n",
    "    \n",
    "basic_matrix"
   ]
  },
  {
   "cell_type": "code",
   "execution_count": 11,
   "metadata": {},
   "outputs": [
    {
     "data": {
      "text/plain": [
       "array([[1., 0., 0., 0., 0., 0., 0., 0., 0., 0.],\n",
       "       [0., 1., 0., 0., 0., 0., 0., 0., 0., 0.],\n",
       "       [0., 0., 1., 0., 0., 0., 0., 0., 0., 0.],\n",
       "       [0., 0., 0., 1., 0., 0., 0., 0., 0., 0.],\n",
       "       [0., 0., 0., 0., 1., 0., 0., 0., 0., 0.],\n",
       "       [0., 0., 0., 0., 0., 1., 0., 0., 0., 0.],\n",
       "       [0., 0., 0., 0., 0., 0., 1., 0., 0., 0.],\n",
       "       [0., 0., 0., 0., 0., 0., 0., 1., 0., 0.],\n",
       "       [0., 0., 0., 0., 0., 0., 0., 0., 1., 0.],\n",
       "       [0., 0., 0., 0., 0., 0., 0., 0., 0., 1.]])"
      ]
     },
     "execution_count": 11,
     "metadata": {},
     "output_type": "execute_result"
    }
   ],
   "source": [
    "# Creamos una matriz 10x10 con generadores específicos de matrices identidad y mostramos por pantalla.\n",
    "identity_matrix = np.identity(10)\n",
    "identity_matrix"
   ]
  },
  {
   "cell_type": "code",
   "execution_count": 12,
   "metadata": {},
   "outputs": [
    {
     "data": {
      "text/plain": [
       "True"
      ]
     },
     "execution_count": 12,
     "metadata": {},
     "output_type": "execute_result"
    }
   ],
   "source": [
    "# Creamos una función que compruebe si las dos matrices son iguales:\n",
    "def compare_function():\n",
    "    compare = False\n",
    "    # Comprobamos si las dimensiones de las matrices y los elementos que contienen son iguales, para ello usamos las funciones\n",
    "    # `shape` y `all`, respectivamente.\n",
    "    if basic_matrix.shape == identity_matrix.shape and (basic_matrix == identity_matrix).all():\n",
    "        compare = True\n",
    "    return compare\n",
    "\n",
    "# Llamamos a la función.\n",
    "compare_function()"
   ]
  },
  {
   "cell_type": "markdown",
   "metadata": {},
   "source": [
    "### Ejercicio 7\n",
    "Cread una matriz de 2x6 donde los valores de cada posición `(i, j)` correspondan a `i^2+j` para todo `i` par, `i/j^2` para todo `i` impar."
   ]
  },
  {
   "cell_type": "code",
   "execution_count": 13,
   "metadata": {},
   "outputs": [
    {
     "data": {
      "text/plain": [
       "array([[ 1.        ,  0.25      ,  0.11111111,  0.0625    ,  0.04      ,\n",
       "         0.02777778],\n",
       "       [ 5.        ,  6.        ,  7.        ,  8.        ,  9.        ,\n",
       "        10.        ]])"
      ]
     },
     "execution_count": 13,
     "metadata": {},
     "output_type": "execute_result"
    }
   ],
   "source": [
    "# Creamos una matriz de tamaño 2x6 con la función `zeros`.\n",
    "matrix_2_x_6 = np.zeros(shape = (2, 6))\n",
    "\n",
    "# Utilizamos dos bucles for para recorrer la matriz.\n",
    "for i in range(2):\n",
    "    for j in range(6):\n",
    "        # Establecemos la condición de si \"i\" es par, y le aplicamos en dicho caso a la matriz la transformación correspondiente.\n",
    "        # Ya que en matemáticas los índices empiezan en 1, tenemos que sumarle 1 a la i y a la j cuando operamos con ellas para\n",
    "        # que las fórmulas funcionen correctamente y los datos sean correctos.\n",
    "        if (i + 1) % 2 == 0:\n",
    "            matrix_2_x_6[i][j] = (i + 1)**2 + (j + 1)\n",
    "        # En caso contrario (caso de ser \"i\" impar), le aplicamos la otra transformación que corresponde.\n",
    "        else:\n",
    "            matrix_2_x_6[i][j] = (i + 1) / (j + 1)**2\n",
    "            \n",
    "# Mostramos la matriz resultante.\n",
    "matrix_2_x_6"
   ]
  },
  {
   "cell_type": "markdown",
   "metadata": {},
   "source": [
    "### Ejercicio 8\n",
    "Cread dos matrices de tamaño 5x5 con números reales aleatorios. Obtened el resultado de multiplicar ambas matrices usando los dos métodos de multiplicación de matrices vistos en el Notebook de teoría. ¿Cuál es la diferencia entre ambos resultados? Cread ahora dos matrices de tamaño 4x5 y 5x5 respectivamente, repetid la operación. Describid cuál de los métodos de multiplicación podéis aplicar y porqué"
   ]
  },
  {
   "cell_type": "code",
   "execution_count": 14,
   "metadata": {},
   "outputs": [
    {
     "name": "stdout",
     "output_type": "stream",
     "text": [
      "[[0.15288118 0.82429941 0.47048116 0.87121754 0.00458208]\n",
      " [0.47366722 0.48188018 0.87641423 0.14023366 0.31082824]\n",
      " [0.16570055 0.29300236 0.61985489 0.60465234 0.43048782]\n",
      " [0.90238478 0.8974447  0.0928889  0.13437475 0.03806194]\n",
      " [0.25185801 0.27471816 0.93594968 0.62769514 0.53448775]]\n",
      "[[0.87975285 0.92530759 0.71970057 0.10307489 0.77904412]\n",
      " [0.94119099 0.97150959 0.15245858 0.30880671 0.74629854]\n",
      " [0.61670129 0.84243215 0.94651505 0.20892298 0.13722413]\n",
      " [0.87956364 0.72159802 0.74200376 0.29904605 0.22797826]\n",
      " [0.39172967 0.83434892 0.6741173  0.41582232 0.82847651]]\n"
     ]
    }
   ],
   "source": [
    "# Creamos dos matrices 5x5 con números reales aleatorios con la función `random.choice`.\n",
    "matrix_5x5_one = np.random.rand(5, 5)\n",
    "matrix_5x5_two = np.random.rand(5, 5)\n",
    "\n",
    "# Mostramos por pantalla ambas matrices.\n",
    "print(matrix_5x5_one)\n",
    "print(matrix_5x5_two)"
   ]
  },
  {
   "cell_type": "code",
   "execution_count": 15,
   "metadata": {},
   "outputs": [
    {
     "name": "stdout",
     "output_type": "stream",
     "text": [
      "El resultado del primer método para multiplicar matrices es: \n",
      "[[0.13449766 0.7627305  0.33860556 0.08980065 0.00356964]\n",
      " [0.44581132 0.46815121 0.13361687 0.0433051  0.23197066]\n",
      " [0.10218774 0.24683461 0.58670198 0.12632577 0.05907332]\n",
      " [0.79370484 0.64759431 0.06892391 0.04018424 0.0086773 ]\n",
      " [0.09866026 0.22921081 0.63093987 0.26100965 0.44281055]]\n",
      "El resultado del segundo método para multiplicar matrices es: \n",
      "[[1.96855337 1.97111725 1.33055324 0.63104122 1.0012508 ]\n",
      " [1.65584223 2.00529015 1.55749319 0.55191975 1.13838344]\n",
      " [1.50427709 1.75565724 1.48948108 0.59688793 0.92731095]\n",
      " [1.82892828 1.91383371 0.99955551 0.44556803 1.44767377]\n",
      " [1.81880898 2.18730441 1.93509555 0.71629814 1.11557654]]\n"
     ]
    }
   ],
   "source": [
    "# Multiplicamos ambas matrices por el método uno, usando el operador \"*\".\n",
    "matrix_product_one = matrix_5x5_one * matrix_5x5_two\n",
    "\n",
    "# Multiplicamos ambas matrices por el método dos, usando la función `dot`.\n",
    "matrix_product_two = matrix_5x5_one.dot(matrix_5x5_two)\n",
    "\n",
    "# Mostramos el resultado de ambas multiplicaciones para ver la diferencia y vemos que sí la hay. Por un lado, el primer método\n",
    "# devuelve un array con la multiplicación de ambas matrices elemento a elemento y por otro lado, el segundo método aplica el \n",
    "# procedimiento matemático del producto matricial.\n",
    "print(\"El resultado del primer método para multiplicar matrices es: \\n\" + str(matrix_product_one))\n",
    "print(\"El resultado del segundo método para multiplicar matrices es: \\n\" + str(matrix_product_two))"
   ]
  },
  {
   "cell_type": "code",
   "execution_count": 16,
   "metadata": {},
   "outputs": [
    {
     "name": "stdout",
     "output_type": "stream",
     "text": [
      "[[0.84043716 0.29292766 0.88813255 0.79421017 0.26858898]\n",
      " [0.25175584 0.16668672 0.37086229 0.64357812 0.62535539]\n",
      " [0.0141415  0.548484   0.01233987 0.33529341 0.48400515]\n",
      " [0.26971858 0.4275889  0.9319403  0.15737534 0.07214575]]\n",
      "[[0.15186121 0.35388324 0.67797734 0.04393188 0.94239458]\n",
      " [0.96830619 0.30937832 0.55360295 0.54323867 0.0356159 ]\n",
      " [0.04818628 0.47868006 0.88079316 0.53529188 0.10976235]\n",
      " [0.2717013  0.93000114 0.62676266 0.77013896 0.5699359 ]\n",
      " [0.2704288  0.4233129  0.33455615 0.68846029 0.16570577]]\n"
     ]
    }
   ],
   "source": [
    "# Creamos dos matrices, una 4x5 y otra 5x5, con números reales aleatorios de la misma forma que hicimos anteriormente.\n",
    "matrix_4x5_one = np.random.rand(4, 5)\n",
    "matrix_5x5_three = np.random.rand(5, 5)\n",
    "\n",
    "# Mostramos por pantalla ambas matrices.\n",
    "print(matrix_4x5_one)\n",
    "print(matrix_5x5_three)"
   ]
  },
  {
   "cell_type": "code",
   "execution_count": 17,
   "metadata": {},
   "outputs": [
    {
     "name": "stdout",
     "output_type": "stream",
     "text": [
      "El resultado de multiplicar estas dos matrices usando la función 'dot' es: \n",
      "[[0.7424914  1.66548698 2.10186341 1.4680268  1.39709545]\n",
      " [0.56148132 1.18143521 1.20220321 1.22630729 0.75432002]\n",
      " [0.7558312  0.69730923 0.69617515 0.89662526 0.30551427]\n",
      " [0.56217289 0.85073634 1.363198   0.91386252 0.47335107]]\n"
     ]
    }
   ],
   "source": [
    "# La multiplicación entre ambas matrices es posible por el método dos, usando la función `dot`, ya que esta se puede realizar\n",
    "# sobre matrices de distinto tamaño, el único requisito es que el número de columnas de la primera matriz sea igual al número\n",
    "# de filas de la segunda matriz. Realizamos la multiplicación y mostramos el resultado para comprobarlo.\n",
    "matrix_product_three_valid = matrix_4x5_one.dot(matrix_5x5_three)\n",
    "print(\"El resultado de multiplicar estas dos matrices usando la función 'dot' es: \\n\" + str(matrix_product_three_valid))"
   ]
  },
  {
   "cell_type": "code",
   "execution_count": 18,
   "metadata": {},
   "outputs": [
    {
     "ename": "ValueError",
     "evalue": "operands could not be broadcast together with shapes (4,5) (5,5) ",
     "output_type": "error",
     "traceback": [
      "\u001b[1;31m---------------------------------------------------------------------------\u001b[0m",
      "\u001b[1;31mValueError\u001b[0m                                Traceback (most recent call last)",
      "\u001b[1;32m<ipython-input-18-03344e0daa52>\u001b[0m in \u001b[0;36m<module>\u001b[1;34m\u001b[0m\n\u001b[0;32m      2\u001b[0m \u001b[1;31m# que al ser dos matrices de distinto tamaño no puede ejecutar la multiplicación elemento a elemento porque habrá elementos que\u001b[0m\u001b[1;33m\u001b[0m\u001b[1;33m\u001b[0m\u001b[1;33m\u001b[0m\u001b[0m\n\u001b[0;32m      3\u001b[0m \u001b[1;31m# no se corresponden con ninguno. Podemos comprobarlo ejecutando el siguiente código:\u001b[0m\u001b[1;33m\u001b[0m\u001b[1;33m\u001b[0m\u001b[1;33m\u001b[0m\u001b[0m\n\u001b[1;32m----> 4\u001b[1;33m \u001b[0mmatrix_product_four_no_valid\u001b[0m \u001b[1;33m=\u001b[0m \u001b[0mmatrix_4x5_one\u001b[0m \u001b[1;33m*\u001b[0m \u001b[0mmatrix_5x5_three\u001b[0m\u001b[1;33m\u001b[0m\u001b[1;33m\u001b[0m\u001b[0m\n\u001b[0m",
      "\u001b[1;31mValueError\u001b[0m: operands could not be broadcast together with shapes (4,5) (5,5) "
     ]
    }
   ],
   "source": [
    "# Sin embargo, si intentamos multiplicar ambas matrices por el método uno, es decir, usando el operador \"*\", nos dará error, ya\n",
    "# que al ser dos matrices de distinto tamaño no puede ejecutar la multiplicación elemento a elemento porque habrá elementos que\n",
    "# no se corresponden con ninguno. Podemos comprobarlo ejecutando el siguiente código:\n",
    "matrix_product_four_no_valid = matrix_4x5_one * matrix_5x5_three"
   ]
  }
 ],
 "metadata": {
  "kernelspec": {
   "display_name": "Python 3",
   "language": "python",
   "name": "python3"
  },
  "language_info": {
   "codemirror_mode": {
    "name": "ipython",
    "version": 3
   },
   "file_extension": ".py",
   "mimetype": "text/x-python",
   "name": "python",
   "nbconvert_exporter": "python",
   "pygments_lexer": "ipython3",
   "version": "3.8.5"
  }
 },
 "nbformat": 4,
 "nbformat_minor": 4
}
