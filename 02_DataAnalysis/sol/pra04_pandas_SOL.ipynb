{
  "nbformat": 4,
  "nbformat_minor": 0,
  "metadata": {
    "kernelspec": {
      "display_name": "Python 3",
      "language": "python",
      "name": "python3"
    },
    "language_info": {
      "codemirror_mode": {
        "name": "ipython",
        "version": 3
      },
      "file_extension": ".py",
      "mimetype": "text/x-python",
      "name": "python",
      "nbconvert_exporter": "python",
      "pygments_lexer": "ipython3",
      "version": "3.7.3"
    },
    "colab": {
      "name": "pra04-pandas_SOL.ipynb",
      "provenance": []
    }
  },
  "cells": [
    {
      "cell_type": "markdown",
      "metadata": {
        "id": "D8eJSjpIb5za"
      },
      "source": [
        "# Programación 201"
      ]
    },
    {
      "cell_type": "markdown",
      "metadata": {
        "id": "rLw5ZQatb5ze"
      },
      "source": [
        "### Ejercicio 1\n",
        "\n",
        "Carga los datos desde el archivo `netflixtitles.csv` , que puedes encontrar en la carpeta `data`, en un *dataframe*. Este conjunto de datos recoje información sobre películas y séries de TV de Netflix (https://www.kaggle.com/shivamb/netflix-shows) hasta el 2019.  \n",
        "\n",
        "Muestra el número de filas del *dataframe* y los nombres de las columnas.\n",
        "\n",
        "*Consideraciones:*\n",
        "\n",
        "*  Muestra únicamente la información pedida en el enunciado.\n"
      ]
    },
    {
      "cell_type": "code",
      "metadata": {
        "id": "oqhXusStb5zf"
      },
      "source": [
        "# Respuesta\n",
        "\n",
        "# Importamos las librerías.\n",
        "import pandas as pd\n",
        "import matplotlib.pyplot as plt\n",
        "import seaborn as sns\n",
        "import numpy as np\n",
        "\n",
        "\n",
        "# Cargamos los datos del fichero en un dataframe.\n",
        "df_netflix = pd.read_csv('https://raw.githubusercontent.com/marcusRB/The_Bridge_School_DataScience_PT/main/02_DataAnalysis/dataset/netflixtitles.csv', delimiter = \",\", header = 0)\n"
      ],
      "execution_count": 1,
      "outputs": []
    },
    {
      "cell_type": "code",
      "metadata": {
        "colab": {
          "base_uri": "https://localhost:8080/"
        },
        "id": "UobslprQhV1D",
        "outputId": "5357edfc-4702-4dca-f600-ea12ebaa58b3"
      },
      "source": [
        "# Mostramos el número de filas y los nombres de las columnas del dataframe.\n",
        "rows = len(df_netflix)\n",
        "columns = df_netflix.columns\n",
        "\n",
        "print(f\"El número de filas del dataframe es: {rows}\")\n",
        "print(f\"Los nombres de las columnas del dataframe son: \\n {(','.join(columns))}\")"
      ],
      "execution_count": 2,
      "outputs": [
        {
          "output_type": "stream",
          "name": "stdout",
          "text": [
            "El número de filas del dataframe es: 6234\n",
            "Los nombres de las columnas del dataframe son: \n",
            " show_id,type,title,director,cast,country,date_added,release_year,rating,duration,listed_in,description\n"
          ]
        }
      ]
    },
    {
      "cell_type": "markdown",
      "metadata": {
        "id": "dQOXa63ab5zg"
      },
      "source": [
        "### Ejercicio 2\n",
        "\n",
        "Agrupa los datos cargados en el ejercicio 1 por **año** y, para cada año, muestra el número total de películas (*Movies*) y series de TV (*TV Show*) por separado. \n",
        "\n",
        "**Nota:** Al Notebook de teoría hemos visto cómo calcular la media de una agrupación de datos. Para resolver este ejercicio necesitarás investigar cómo contar (*count*) todos los valores de una columna en una agrupación. Te puede ser de utilidad la función [aggregate](https://pandas.pydata.org/pandas-docs/stable/reference/api/pandas.DataFrame.aggregate.html) de pandas, la que nos permite aplicar diferentes funciones a una columna en un ```groupby```.\n"
      ]
    },
    {
      "cell_type": "code",
      "metadata": {
        "id": "pspCZvaFb5zh",
        "colab": {
          "base_uri": "https://localhost:8080/"
        },
        "outputId": "b6a4acbd-d4d5-45b7-e414-5bf2885a36a2"
      },
      "source": [
        "# Respuesta\n",
        "# Agrupamos los datos por año y lo guardamos en una variable.\n",
        "df_netflix_grouped = df_netflix.groupby(['release_year'])\n",
        "\n",
        "# Contamos el número total de películas y series para cada año con la función `value_counts`.\n",
        "df_netflix_grouped['type'].value_counts()"
      ],
      "execution_count": 3,
      "outputs": [
        {
          "output_type": "execute_result",
          "data": {
            "text/plain": [
              "release_year  type   \n",
              "1925          TV Show      1\n",
              "1942          Movie        2\n",
              "1943          Movie        3\n",
              "1944          Movie        3\n",
              "1945          Movie        3\n",
              "                        ... \n",
              "2018          TV Show    417\n",
              "2019          TV Show    443\n",
              "              Movie      400\n",
              "2020          TV Show     19\n",
              "              Movie        6\n",
              "Name: type, Length: 115, dtype: int64"
            ]
          },
          "metadata": {},
          "execution_count": 3
        }
      ]
    },
    {
      "cell_type": "code",
      "metadata": {
        "colab": {
          "base_uri": "https://localhost:8080/"
        },
        "id": "J8iOkI_bh2Da",
        "outputId": "046cfc84-804a-497f-d58b-bc440c211753"
      },
      "source": [
        "# Iteramos sobre el dataframe agrupado por año y mostramos la información que nos interesa.\n",
        "for year, df_year in df_netflix_grouped:\n",
        "    # Creamos dos variables, una para el número de películas y otra para el número de series.\n",
        "    movies = len(df_year[df_year['type'] == \"Movie\"])\n",
        "    tv_shows = len(df_year[df_year['type'] == \"TV Show\"])\n",
        "    print(f\"En el año {year}, se vieron {movies} series y {tv_shows} películas\")\n",
        "\n"
      ],
      "execution_count": 4,
      "outputs": [
        {
          "output_type": "stream",
          "name": "stdout",
          "text": [
            "En el año 1925, se vieron 0 series y 1 películas\n",
            "En el año 1942, se vieron 2 series y 0 películas\n",
            "En el año 1943, se vieron 3 series y 0 películas\n",
            "En el año 1944, se vieron 3 series y 0 películas\n",
            "En el año 1945, se vieron 3 series y 0 películas\n",
            "En el año 1946, se vieron 2 series y 1 películas\n",
            "En el año 1947, se vieron 1 series y 0 películas\n",
            "En el año 1954, se vieron 1 series y 0 películas\n",
            "En el año 1955, se vieron 1 series y 0 películas\n",
            "En el año 1956, se vieron 1 series y 0 películas\n",
            "En el año 1958, se vieron 2 series y 0 películas\n",
            "En el año 1959, se vieron 1 series y 0 películas\n",
            "En el año 1960, se vieron 4 series y 0 películas\n",
            "En el año 1962, se vieron 3 series y 0 películas\n",
            "En el año 1963, se vieron 0 series y 1 películas\n",
            "En el año 1964, se vieron 1 series y 0 películas\n",
            "En el año 1965, se vieron 2 series y 0 películas\n",
            "En el año 1966, se vieron 1 series y 0 películas\n",
            "En el año 1967, se vieron 2 series y 1 películas\n",
            "En el año 1968, se vieron 3 series y 1 películas\n",
            "En el año 1969, se vieron 2 series y 0 películas\n",
            "En el año 1970, se vieron 1 series y 0 películas\n",
            "En el año 1971, se vieron 3 series y 0 películas\n",
            "En el año 1972, se vieron 3 series y 1 películas\n",
            "En el año 1973, se vieron 9 series y 0 películas\n",
            "En el año 1974, se vieron 7 series y 1 películas\n",
            "En el año 1975, se vieron 5 series y 0 películas\n",
            "En el año 1976, se vieron 7 series y 0 películas\n",
            "En el año 1977, se vieron 4 series y 1 películas\n",
            "En el año 1978, se vieron 7 series y 0 películas\n",
            "En el año 1979, se vieron 6 series y 1 películas\n",
            "En el año 1980, se vieron 7 series y 0 películas\n",
            "En el año 1981, se vieron 6 series y 1 películas\n",
            "En el año 1982, se vieron 11 series y 0 películas\n",
            "En el año 1983, se vieron 9 series y 0 películas\n",
            "En el año 1984, se vieron 8 series y 0 películas\n",
            "En el año 1985, se vieron 7 series y 1 películas\n",
            "En el año 1986, se vieron 8 series y 2 películas\n",
            "En el año 1987, se vieron 5 series y 0 películas\n",
            "En el año 1988, se vieron 11 series y 2 películas\n",
            "En el año 1989, se vieron 10 series y 1 películas\n",
            "En el año 1990, se vieron 12 series y 3 películas\n",
            "En el año 1991, se vieron 14 series y 1 películas\n",
            "En el año 1992, se vieron 14 series y 2 películas\n",
            "En el año 1993, se vieron 16 series y 3 películas\n",
            "En el año 1994, se vieron 13 series y 1 películas\n",
            "En el año 1995, se vieron 15 series y 2 películas\n",
            "En el año 1996, se vieron 14 series y 3 películas\n",
            "En el año 1997, se vieron 27 series y 4 películas\n",
            "En el año 1998, se vieron 23 series y 3 películas\n",
            "En el año 1999, se vieron 17 series y 4 películas\n",
            "En el año 2000, se vieron 28 series y 3 películas\n",
            "En el año 2001, se vieron 30 series y 4 películas\n",
            "En el año 2002, se vieron 35 series y 3 películas\n",
            "En el año 2003, se vieron 35 series y 8 películas\n",
            "En el año 2004, se vieron 40 series y 9 películas\n",
            "En el año 2005, se vieron 51 series y 12 películas\n",
            "En el año 2006, se vieron 59 series y 9 películas\n",
            "En el año 2007, se vieron 60 series y 11 películas\n",
            "En el año 2008, se vieron 87 series y 20 películas\n",
            "En el año 2009, se vieron 87 series y 34 películas\n",
            "En el año 2010, se vieron 111 series y 38 películas\n",
            "En el año 2011, se vieron 100 series y 36 películas\n",
            "En el año 2012, se vieron 125 series y 58 películas\n",
            "En el año 2013, se vieron 177 series y 60 películas\n",
            "En el año 2014, se vieron 213 series y 75 películas\n",
            "En el año 2015, se vieron 363 series y 154 películas\n",
            "En el año 2016, se vieron 593 series y 237 películas\n",
            "En el año 2017, se vieron 682 series y 277 películas\n",
            "En el año 2018, se vieron 646 series y 417 películas\n",
            "En el año 2019, se vieron 400 series y 443 películas\n",
            "En el año 2020, se vieron 6 series y 19 películas\n"
          ]
        }
      ]
    },
    {
      "cell_type": "markdown",
      "metadata": {
        "id": "aKgsaFW4b5zh"
      },
      "source": [
        "### Ejercicio 3\n",
        "\n",
        "Muestra las películas estrenadas el _2019_ que tienen una duración superior a _100_ minutos. \n",
        "\n",
        "**Nota:** Al Notebook de teoría hemos visto operaciones básicas de filtrado. Para resolver este ejercicio necesitarás investigar cómo aplicar condiciones más complejas. \n",
        "\n",
        "**Nota 2:** Los valores de la columna de duración (*duration*) son strings, ya que combinan números y letras. Por lo tanto, se tienen que transformar a int una vez se haya construido el subset de datos de películas. Te puede ser de utilidad la función [astype](https://pandas.pydata.org/pandas-docs/stable/reference/api/pandas.DataFrame.astype.html) de pandas.\n",
        " \n"
      ]
    },
    {
      "cell_type": "code",
      "metadata": {
        "id": "aDGaMO7Bb5zi",
        "colab": {
          "base_uri": "https://localhost:8080/",
          "height": 926
        },
        "outputId": "cbcea872-6f1a-400c-9c1e-c72d2edf326d"
      },
      "source": [
        "# Respuesta\n",
        "# Filtramos el dataframe por películas.\n",
        "df_Movies = df_netflix[df_netflix['type'] == \"Movie\"]\n",
        "\n",
        "# Mostramos las películas que cumplen dos criterios: estrenadas en 2019 y duración superior a 100 minutos.\n",
        "df_netflix[(df_netflix.release_year == 2019) & ((df_Movies.duration.astype('int32')) > 100)]"
      ],
      "execution_count": 5,
      "outputs": [
        {
          "output_type": "execute_result",
          "data": {
            "text/html": [
              "<div>\n",
              "<style scoped>\n",
              "    .dataframe tbody tr th:only-of-type {\n",
              "        vertical-align: middle;\n",
              "    }\n",
              "\n",
              "    .dataframe tbody tr th {\n",
              "        vertical-align: top;\n",
              "    }\n",
              "\n",
              "    .dataframe thead th {\n",
              "        text-align: right;\n",
              "    }\n",
              "</style>\n",
              "<table border=\"1\" class=\"dataframe\">\n",
              "  <thead>\n",
              "    <tr style=\"text-align: right;\">\n",
              "      <th></th>\n",
              "      <th>show_id</th>\n",
              "      <th>type</th>\n",
              "      <th>title</th>\n",
              "      <th>director</th>\n",
              "      <th>cast</th>\n",
              "      <th>country</th>\n",
              "      <th>date_added</th>\n",
              "      <th>release_year</th>\n",
              "      <th>rating</th>\n",
              "      <th>duration</th>\n",
              "      <th>listed_in</th>\n",
              "      <th>description</th>\n",
              "    </tr>\n",
              "  </thead>\n",
              "  <tbody>\n",
              "    <tr>\n",
              "      <th>35</th>\n",
              "      <td>81154455</td>\n",
              "      <td>Movie</td>\n",
              "      <td>Article 15</td>\n",
              "      <td>Anubhav Sinha</td>\n",
              "      <td>Ayushmann Khurrana, Nassar, Manoj Pahwa, Kumud...</td>\n",
              "      <td>India</td>\n",
              "      <td>September 6, 2019</td>\n",
              "      <td>2019</td>\n",
              "      <td>TV-MA</td>\n",
              "      <td>125</td>\n",
              "      <td>Dramas, International Movies, Thrillers</td>\n",
              "      <td>The grim realities of caste discrimination com...</td>\n",
              "    </tr>\n",
              "    <tr>\n",
              "      <th>57</th>\n",
              "      <td>81078908</td>\n",
              "      <td>Movie</td>\n",
              "      <td>The World We Make</td>\n",
              "      <td>Brian Baugh</td>\n",
              "      <td>Caleb Castille, Rose Reid, Kevin Sizemore, Gre...</td>\n",
              "      <td>United States</td>\n",
              "      <td>September 4, 2019</td>\n",
              "      <td>2019</td>\n",
              "      <td>PG</td>\n",
              "      <td>108</td>\n",
              "      <td>Dramas, Romantic Movies</td>\n",
              "      <td>A teenage equestrian and a local football play...</td>\n",
              "    </tr>\n",
              "    <tr>\n",
              "      <th>102</th>\n",
              "      <td>80231903</td>\n",
              "      <td>Movie</td>\n",
              "      <td>In the Shadow of the Moon</td>\n",
              "      <td>Jim Mickle</td>\n",
              "      <td>Boyd Holbrook, Michael C. Hall, Cleopatra Cole...</td>\n",
              "      <td>United States</td>\n",
              "      <td>September 27, 2019</td>\n",
              "      <td>2019</td>\n",
              "      <td>TV-MA</td>\n",
              "      <td>116</td>\n",
              "      <td>Dramas, Sci-Fi &amp; Fantasy, Thrillers</td>\n",
              "      <td>A Philadelphia detective slowly unravels as he...</td>\n",
              "    </tr>\n",
              "    <tr>\n",
              "      <th>109</th>\n",
              "      <td>81177238</td>\n",
              "      <td>Movie</td>\n",
              "      <td>Malaal</td>\n",
              "      <td>Mangesh Hadawale</td>\n",
              "      <td>Meezaan Jaffrey, Sharmin Segal, Chinmaya Surve...</td>\n",
              "      <td>India</td>\n",
              "      <td>September 26, 2019</td>\n",
              "      <td>2019</td>\n",
              "      <td>TV-14</td>\n",
              "      <td>133</td>\n",
              "      <td>International Movies, Romantic Movies</td>\n",
              "      <td>Class divides become thorns in the budding rom...</td>\n",
              "    </tr>\n",
              "    <tr>\n",
              "      <th>119</th>\n",
              "      <td>81186758</td>\n",
              "      <td>Movie</td>\n",
              "      <td>Oh! Baby (Malayalam)</td>\n",
              "      <td>B. V. Nandini Reddy</td>\n",
              "      <td>Samantha Ruth Prabhu, Lakshmi, Rajendraprasad,...</td>\n",
              "      <td>India</td>\n",
              "      <td>September 25, 2019</td>\n",
              "      <td>2019</td>\n",
              "      <td>TV-14</td>\n",
              "      <td>146</td>\n",
              "      <td>Comedies, International Movies, Music &amp; Musicals</td>\n",
              "      <td>A surly septuagenarian gets another chance at ...</td>\n",
              "    </tr>\n",
              "    <tr>\n",
              "      <th>...</th>\n",
              "      <td>...</td>\n",
              "      <td>...</td>\n",
              "      <td>...</td>\n",
              "      <td>...</td>\n",
              "      <td>...</td>\n",
              "      <td>...</td>\n",
              "      <td>...</td>\n",
              "      <td>...</td>\n",
              "      <td>...</td>\n",
              "      <td>...</td>\n",
              "      <td>...</td>\n",
              "      <td>...</td>\n",
              "    </tr>\n",
              "    <tr>\n",
              "      <th>5347</th>\n",
              "      <td>81076749</td>\n",
              "      <td>Movie</td>\n",
              "      <td>Ek Ladki Ko Dekha Toh Aisa Laga</td>\n",
              "      <td>Shelly Chopra Dhar</td>\n",
              "      <td>Anil Kapoor, Sonam Kapoor, Rajkummar Rao, Juhi...</td>\n",
              "      <td>India</td>\n",
              "      <td>April 2, 2019</td>\n",
              "      <td>2019</td>\n",
              "      <td>TV-14</td>\n",
              "      <td>120</td>\n",
              "      <td>Comedies, Dramas, International Movies</td>\n",
              "      <td>As her family seeks to marry her off and a hop...</td>\n",
              "    </tr>\n",
              "    <tr>\n",
              "      <th>5359</th>\n",
              "      <td>81033430</td>\n",
              "      <td>Movie</td>\n",
              "      <td>Music Teacher</td>\n",
              "      <td>Sarthak Dasgupta</td>\n",
              "      <td>Manav Kaul, Amrita Bagchi, Divya Dutta, Neena ...</td>\n",
              "      <td>India</td>\n",
              "      <td>April 19, 2019</td>\n",
              "      <td>2019</td>\n",
              "      <td>TV-14</td>\n",
              "      <td>102</td>\n",
              "      <td>Dramas, Independent Movies, International Movies</td>\n",
              "      <td>A dejected small-town music teacher grapples w...</td>\n",
              "    </tr>\n",
              "    <tr>\n",
              "      <th>5365</th>\n",
              "      <td>81080942</td>\n",
              "      <td>Movie</td>\n",
              "      <td>The Ruthless</td>\n",
              "      <td>Renato De Maria</td>\n",
              "      <td>Riccardo Scamarcio, Sara Serraiocco, Alessio P...</td>\n",
              "      <td>Italy, France</td>\n",
              "      <td>April 19, 2019</td>\n",
              "      <td>2019</td>\n",
              "      <td>TV-MA</td>\n",
              "      <td>111</td>\n",
              "      <td>Dramas, International Movies</td>\n",
              "      <td>A rebellious teen grows up to become one of Mi...</td>\n",
              "    </tr>\n",
              "    <tr>\n",
              "      <th>5385</th>\n",
              "      <td>81013626</td>\n",
              "      <td>Movie</td>\n",
              "      <td>HOMECOMING: A film by Beyoncé</td>\n",
              "      <td>Beyoncé Knowles-Carter</td>\n",
              "      <td>Beyoncé Knowles-Carter</td>\n",
              "      <td>NaN</td>\n",
              "      <td>April 17, 2019</td>\n",
              "      <td>2019</td>\n",
              "      <td>TV-MA</td>\n",
              "      <td>138</td>\n",
              "      <td>Documentaries, Music &amp; Musicals</td>\n",
              "      <td>This intimate, in-depth look at Beyoncé's cele...</td>\n",
              "    </tr>\n",
              "    <tr>\n",
              "      <th>5469</th>\n",
              "      <td>81086434</td>\n",
              "      <td>Movie</td>\n",
              "      <td>706</td>\n",
              "      <td>Shravan Kumar</td>\n",
              "      <td>Divya Dutta, Atul Kulkarni, Mohan Agashe, Anup...</td>\n",
              "      <td>India</td>\n",
              "      <td>April 1, 2019</td>\n",
              "      <td>2019</td>\n",
              "      <td>TV-14</td>\n",
              "      <td>118</td>\n",
              "      <td>Horror Movies, International Movies</td>\n",
              "      <td>When a doctor goes missing, his psychiatrist w...</td>\n",
              "    </tr>\n",
              "  </tbody>\n",
              "</table>\n",
              "<p>134 rows × 12 columns</p>\n",
              "</div>"
            ],
            "text/plain": [
              "       show_id  ...                                        description\n",
              "35    81154455  ...  The grim realities of caste discrimination com...\n",
              "57    81078908  ...  A teenage equestrian and a local football play...\n",
              "102   80231903  ...  A Philadelphia detective slowly unravels as he...\n",
              "109   81177238  ...  Class divides become thorns in the budding rom...\n",
              "119   81186758  ...  A surly septuagenarian gets another chance at ...\n",
              "...        ...  ...                                                ...\n",
              "5347  81076749  ...  As her family seeks to marry her off and a hop...\n",
              "5359  81033430  ...  A dejected small-town music teacher grapples w...\n",
              "5365  81080942  ...  A rebellious teen grows up to become one of Mi...\n",
              "5385  81013626  ...  This intimate, in-depth look at Beyoncé's cele...\n",
              "5469  81086434  ...  When a doctor goes missing, his psychiatrist w...\n",
              "\n",
              "[134 rows x 12 columns]"
            ]
          },
          "metadata": {},
          "execution_count": 5
        }
      ]
    },
    {
      "cell_type": "markdown",
      "metadata": {
        "id": "y5K5_kdWb5zi"
      },
      "source": [
        "### Ejercicio 4\n",
        "\n",
        "Queremos buscar aquellos países donde se estrenaron más de 10 películas al año. Debes mostrar por pantalla el **año**, el **nombre del país** y el **número total de películas** estrenadas en el año correspondiente.\n",
        "\n",
        "**Nota**: Además del contenido de los notebooks de teoría, puedes utilizar lo que has aprendido haciendo el ejercicio 2.\n"
      ]
    },
    {
      "cell_type": "code",
      "metadata": {
        "id": "xqnWrz2Kb5zj"
      },
      "source": [
        "# Respuesta\n",
        "# Agrupamos por países y años con un `groupby`.\n",
        "df_grouped_country_year = df_netflix.groupby(['country', 'release_year'])\n",
        "\n"
      ],
      "execution_count": 7,
      "outputs": []
    },
    {
      "cell_type": "code",
      "metadata": {
        "colab": {
          "base_uri": "https://localhost:8080/"
        },
        "id": "HjBIoSbJiaK4",
        "outputId": "bc3283bc-f633-4b40-f8b1-264f2a83e016"
      },
      "source": [
        "# Iteramos con un bucle for sobre el dataframe agrupado.\n",
        "for country, df_country_year in df_grouped_country_year:\n",
        "    # Creamos una nueva variable con el dataframe filtrado por película que recoja las películas totales.\n",
        "    movies = len(df_country_year[df_country_year['type'] == \"Movie\"])\n",
        "    # Establecemos la condición.\n",
        "    if movies > 10:\n",
        "        print(f\"{country[0]} en el año {country[1]} estrenó un total de {movies} películas\")"
      ],
      "execution_count": 8,
      "outputs": [
        {
          "output_type": "stream",
          "name": "stdout",
          "text": [
            "Canada en el año 2016 estrenó un total de 15 películas\n",
            "Canada en el año 2017 estrenó un total de 20 películas\n",
            "Canada en el año 2018 estrenó un total de 18 películas\n",
            "India en el año 2004 estrenó un total de 13 películas\n",
            "India en el año 2005 estrenó un total de 17 películas\n",
            "India en el año 2006 estrenó un total de 17 películas\n",
            "India en el año 2007 estrenó un total de 13 películas\n",
            "India en el año 2008 estrenó un total de 24 películas\n",
            "India en el año 2009 estrenó un total de 24 películas\n",
            "India en el año 2010 estrenó un total de 31 películas\n",
            "India en el año 2011 estrenó un total de 26 películas\n",
            "India en el año 2012 estrenó un total de 33 películas\n",
            "India en el año 2013 estrenó un total de 44 películas\n",
            "India en el año 2014 estrenó un total de 38 películas\n",
            "India en el año 2015 estrenó un total de 53 películas\n",
            "India en el año 2016 estrenó un total de 66 películas\n",
            "India en el año 2017 estrenó un total de 99 películas\n",
            "India en el año 2018 estrenó un total de 79 películas\n",
            "India en el año 2019 estrenó un total de 49 películas\n",
            "Mexico en el año 2016 estrenó un total de 13 películas\n",
            "South Korea en el año 2018 estrenó un total de 11 películas\n",
            "Spain en el año 2015 estrenó un total de 11 películas\n",
            "Spain en el año 2016 estrenó un total de 14 películas\n",
            "Spain en el año 2017 estrenó un total de 18 películas\n",
            "Spain en el año 2018 estrenó un total de 23 películas\n",
            "Spain en el año 2019 estrenó un total de 11 películas\n",
            "United Kingdom en el año 2014 estrenó un total de 13 películas\n",
            "United Kingdom en el año 2015 estrenó un total de 18 películas\n",
            "United Kingdom en el año 2016 estrenó un total de 35 películas\n",
            "United Kingdom en el año 2017 estrenó un total de 36 películas\n",
            "United Kingdom en el año 2018 estrenó un total de 26 películas\n",
            "United Kingdom en el año 2019 estrenó un total de 11 películas\n",
            "United States en el año 1997 estrenó un total de 17 películas\n",
            "United States en el año 1998 estrenó un total de 12 películas\n",
            "United States en el año 2000 estrenó un total de 14 películas\n",
            "United States en el año 2001 estrenó un total de 13 películas\n",
            "United States en el año 2002 estrenó un total de 12 películas\n",
            "United States en el año 2003 estrenó un total de 14 películas\n",
            "United States en el año 2004 estrenó un total de 11 películas\n",
            "United States en el año 2005 estrenó un total de 16 películas\n",
            "United States en el año 2006 estrenó un total de 24 películas\n",
            "United States en el año 2007 estrenó un total de 23 películas\n",
            "United States en el año 2008 estrenó un total de 28 películas\n",
            "United States en el año 2009 estrenó un total de 29 películas\n",
            "United States en el año 2010 estrenó un total de 25 películas\n",
            "United States en el año 2011 estrenó un total de 30 películas\n",
            "United States en el año 2012 estrenó un total de 40 películas\n",
            "United States en el año 2013 estrenó un total de 52 películas\n",
            "United States en el año 2014 estrenó un total de 59 películas\n",
            "United States en el año 2015 estrenó un total de 104 películas\n",
            "United States en el año 2016 estrenó un total de 185 películas\n",
            "United States en el año 2017 estrenó un total de 260 películas\n",
            "United States en el año 2018 estrenó un total de 219 películas\n",
            "United States en el año 2019 estrenó un total de 160 películas\n"
          ]
        }
      ]
    },
    {
      "cell_type": "code",
      "metadata": {
        "id": "fjefOlU7iW9E"
      },
      "source": [
        ""
      ],
      "execution_count": null,
      "outputs": []
    },
    {
      "cell_type": "markdown",
      "metadata": {
        "id": "030KR3gGb5zj"
      },
      "source": [
        "### Ejercicio 5\n",
        "\n",
        "Crea una copia del dataframe original añadiendo una nueva columna que nos indicará por cada fila la duración de la película. Definimos tres niveles:\n",
        "\n",
        "- **short** : si la duración es inferior a 90 minutos. \n",
        "- **medium** : si la duración está entre 90 y 150 minutos.\n",
        "- **long** : si la duración es superior a 150 minutos.\n",
        "\n",
        "Muestra por pantalla aquellas filas que correspondan a una duración corta ( _short_ ). \n",
        "\n",
        "**Nota:** pandas nos ofrece principalmente tres maneras de añadir nuevas columnas a un dataframe existente. Cualquiera de las tres formas son válidas para resolver este ejercicio. Podéis buscar en Internet cómo añadir columnas a un dataframe de pandas, ya que la documentación presenta los tres métodos de forma separada.\n"
      ]
    },
    {
      "cell_type": "code",
      "metadata": {
        "id": "gvNhy0opb5zk",
        "colab": {
          "base_uri": "https://localhost:8080/",
          "height": 605
        },
        "outputId": "0b46f90e-b1e7-4380-959a-b9cfc68482fc"
      },
      "source": [
        "# Respuesta\n",
        "# Creamos la copia del dataframe original con la función `copy`.\n",
        "df_netflix_copy = df_netflix.copy()\n",
        "\n",
        "# Creamos la nueva columna que nos indicará la duración de la película.\n",
        "df_netflix_copy['duration_movie'] = df_netflix_copy['duration']\n",
        "\n",
        "# Mostramos el dataframe.\n",
        "df_netflix_copy.head()"
      ],
      "execution_count": 9,
      "outputs": [
        {
          "output_type": "execute_result",
          "data": {
            "text/html": [
              "<div>\n",
              "<style scoped>\n",
              "    .dataframe tbody tr th:only-of-type {\n",
              "        vertical-align: middle;\n",
              "    }\n",
              "\n",
              "    .dataframe tbody tr th {\n",
              "        vertical-align: top;\n",
              "    }\n",
              "\n",
              "    .dataframe thead th {\n",
              "        text-align: right;\n",
              "    }\n",
              "</style>\n",
              "<table border=\"1\" class=\"dataframe\">\n",
              "  <thead>\n",
              "    <tr style=\"text-align: right;\">\n",
              "      <th></th>\n",
              "      <th>show_id</th>\n",
              "      <th>type</th>\n",
              "      <th>title</th>\n",
              "      <th>director</th>\n",
              "      <th>cast</th>\n",
              "      <th>country</th>\n",
              "      <th>date_added</th>\n",
              "      <th>release_year</th>\n",
              "      <th>rating</th>\n",
              "      <th>duration</th>\n",
              "      <th>listed_in</th>\n",
              "      <th>description</th>\n",
              "      <th>duration_movie</th>\n",
              "    </tr>\n",
              "  </thead>\n",
              "  <tbody>\n",
              "    <tr>\n",
              "      <th>0</th>\n",
              "      <td>81145628</td>\n",
              "      <td>Movie</td>\n",
              "      <td>Norm of the North: King Sized Adventure</td>\n",
              "      <td>Richard Finn, Tim Maltby</td>\n",
              "      <td>Alan Marriott, Andrew Toth, Brian Dobson, Cole...</td>\n",
              "      <td>United States, India, South Korea, China</td>\n",
              "      <td>September 9, 2019</td>\n",
              "      <td>2019</td>\n",
              "      <td>TV-PG</td>\n",
              "      <td>90</td>\n",
              "      <td>Children &amp; Family Movies, Comedies</td>\n",
              "      <td>Before planning an awesome wedding for his gra...</td>\n",
              "      <td>90</td>\n",
              "    </tr>\n",
              "    <tr>\n",
              "      <th>1</th>\n",
              "      <td>80117401</td>\n",
              "      <td>Movie</td>\n",
              "      <td>Jandino: Whatever it Takes</td>\n",
              "      <td>NaN</td>\n",
              "      <td>Jandino Asporaat</td>\n",
              "      <td>United Kingdom</td>\n",
              "      <td>September 9, 2016</td>\n",
              "      <td>2016</td>\n",
              "      <td>TV-MA</td>\n",
              "      <td>94</td>\n",
              "      <td>Stand-Up Comedy</td>\n",
              "      <td>Jandino Asporaat riffs on the challenges of ra...</td>\n",
              "      <td>94</td>\n",
              "    </tr>\n",
              "    <tr>\n",
              "      <th>2</th>\n",
              "      <td>70234439</td>\n",
              "      <td>TV Show</td>\n",
              "      <td>Transformers Prime</td>\n",
              "      <td>NaN</td>\n",
              "      <td>Peter Cullen, Sumalee Montano, Frank Welker, J...</td>\n",
              "      <td>United States</td>\n",
              "      <td>September 8, 2018</td>\n",
              "      <td>2013</td>\n",
              "      <td>TV-Y7-FV</td>\n",
              "      <td>1 Season</td>\n",
              "      <td>Kids' TV</td>\n",
              "      <td>With the help of three human allies, the Autob...</td>\n",
              "      <td>1 Season</td>\n",
              "    </tr>\n",
              "    <tr>\n",
              "      <th>3</th>\n",
              "      <td>80058654</td>\n",
              "      <td>TV Show</td>\n",
              "      <td>Transformers: Robots in Disguise</td>\n",
              "      <td>NaN</td>\n",
              "      <td>Will Friedle, Darren Criss, Constance Zimmer, ...</td>\n",
              "      <td>United States</td>\n",
              "      <td>September 8, 2018</td>\n",
              "      <td>2016</td>\n",
              "      <td>TV-Y7</td>\n",
              "      <td>1 Season</td>\n",
              "      <td>Kids' TV</td>\n",
              "      <td>When a prison ship crash unleashes hundreds of...</td>\n",
              "      <td>1 Season</td>\n",
              "    </tr>\n",
              "    <tr>\n",
              "      <th>4</th>\n",
              "      <td>80125979</td>\n",
              "      <td>Movie</td>\n",
              "      <td>#realityhigh</td>\n",
              "      <td>Fernando Lebrija</td>\n",
              "      <td>Nesta Cooper, Kate Walsh, John Michael Higgins...</td>\n",
              "      <td>United States</td>\n",
              "      <td>September 8, 2017</td>\n",
              "      <td>2017</td>\n",
              "      <td>TV-14</td>\n",
              "      <td>99</td>\n",
              "      <td>Comedies</td>\n",
              "      <td>When nerdy high schooler Dani finally attracts...</td>\n",
              "      <td>99</td>\n",
              "    </tr>\n",
              "  </tbody>\n",
              "</table>\n",
              "</div>"
            ],
            "text/plain": [
              "    show_id  ... duration_movie\n",
              "0  81145628  ...             90\n",
              "1  80117401  ...             94\n",
              "2  70234439  ...       1 Season\n",
              "3  80058654  ...       1 Season\n",
              "4  80125979  ...             99\n",
              "\n",
              "[5 rows x 13 columns]"
            ]
          },
          "metadata": {},
          "execution_count": 9
        }
      ]
    },
    {
      "cell_type": "code",
      "metadata": {
        "colab": {
          "base_uri": "https://localhost:8080/",
          "height": 1000
        },
        "id": "MpEKF6etiocZ",
        "outputId": "9cb168e6-0439-4d7f-f069-583bbb2a5eaf"
      },
      "source": [
        "# Importamos la librería numpy.\n",
        "import numpy as np\n",
        "\n",
        "# Filtramos el dataframe por películas y guardamos en una variable.\n",
        "df_netflix_movies = df_netflix_copy[(df_netflix_copy['type'] == \"Movie\")]\n",
        "\n",
        "# Creamos las condiciones y las alternativas correspondientes a cada condición.\n",
        "conditions = [(df_netflix_movies.duration_movie.astype('float') < 90),\n",
        "              ((df_netflix_movies.duration_movie.astype('float') >= 90) & (df_netflix_movies.duration_movie.astype('float') <= 150)),\n",
        "              (df_netflix_movies.duration_movie.astype('float') > 150),\n",
        "             ]\n",
        "choices = [\"Short\", \"Medium\", \"Long\"]\n",
        "\n",
        "# Creamos la nueva columna con la función `select` de numpy y las condiciones/alternativas anteriormente creadas. Rellenamos\n",
        "# la columna por defecto con \"NaN\", que se rellenará en los casos no se pueda cumplir ninguna de las condiciones, para el resto\n",
        "# de posibilidades se rellenarán los valores \"Short\", \"Medium\" y \"Long\" según las condiciones establecidas.\n",
        "df_netflix_movies.loc[:, 'duration_movie'] = np.select(conditions, choices, default = \"NaN\")\n",
        "\n",
        "# Mostramos el dataframe.\n",
        "df_netflix_movies"
      ],
      "execution_count": 10,
      "outputs": [
        {
          "output_type": "stream",
          "name": "stderr",
          "text": [
            "/usr/local/lib/python3.7/dist-packages/pandas/core/indexing.py:1743: SettingWithCopyWarning: \n",
            "A value is trying to be set on a copy of a slice from a DataFrame.\n",
            "Try using .loc[row_indexer,col_indexer] = value instead\n",
            "\n",
            "See the caveats in the documentation: https://pandas.pydata.org/pandas-docs/stable/user_guide/indexing.html#returning-a-view-versus-a-copy\n",
            "  isetter(ilocs[0], value)\n"
          ]
        },
        {
          "output_type": "execute_result",
          "data": {
            "text/html": [
              "<div>\n",
              "<style scoped>\n",
              "    .dataframe tbody tr th:only-of-type {\n",
              "        vertical-align: middle;\n",
              "    }\n",
              "\n",
              "    .dataframe tbody tr th {\n",
              "        vertical-align: top;\n",
              "    }\n",
              "\n",
              "    .dataframe thead th {\n",
              "        text-align: right;\n",
              "    }\n",
              "</style>\n",
              "<table border=\"1\" class=\"dataframe\">\n",
              "  <thead>\n",
              "    <tr style=\"text-align: right;\">\n",
              "      <th></th>\n",
              "      <th>show_id</th>\n",
              "      <th>type</th>\n",
              "      <th>title</th>\n",
              "      <th>director</th>\n",
              "      <th>cast</th>\n",
              "      <th>country</th>\n",
              "      <th>date_added</th>\n",
              "      <th>release_year</th>\n",
              "      <th>rating</th>\n",
              "      <th>duration</th>\n",
              "      <th>listed_in</th>\n",
              "      <th>description</th>\n",
              "      <th>duration_movie</th>\n",
              "    </tr>\n",
              "  </thead>\n",
              "  <tbody>\n",
              "    <tr>\n",
              "      <th>0</th>\n",
              "      <td>81145628</td>\n",
              "      <td>Movie</td>\n",
              "      <td>Norm of the North: King Sized Adventure</td>\n",
              "      <td>Richard Finn, Tim Maltby</td>\n",
              "      <td>Alan Marriott, Andrew Toth, Brian Dobson, Cole...</td>\n",
              "      <td>United States, India, South Korea, China</td>\n",
              "      <td>September 9, 2019</td>\n",
              "      <td>2019</td>\n",
              "      <td>TV-PG</td>\n",
              "      <td>90</td>\n",
              "      <td>Children &amp; Family Movies, Comedies</td>\n",
              "      <td>Before planning an awesome wedding for his gra...</td>\n",
              "      <td>Medium</td>\n",
              "    </tr>\n",
              "    <tr>\n",
              "      <th>1</th>\n",
              "      <td>80117401</td>\n",
              "      <td>Movie</td>\n",
              "      <td>Jandino: Whatever it Takes</td>\n",
              "      <td>NaN</td>\n",
              "      <td>Jandino Asporaat</td>\n",
              "      <td>United Kingdom</td>\n",
              "      <td>September 9, 2016</td>\n",
              "      <td>2016</td>\n",
              "      <td>TV-MA</td>\n",
              "      <td>94</td>\n",
              "      <td>Stand-Up Comedy</td>\n",
              "      <td>Jandino Asporaat riffs on the challenges of ra...</td>\n",
              "      <td>Medium</td>\n",
              "    </tr>\n",
              "    <tr>\n",
              "      <th>4</th>\n",
              "      <td>80125979</td>\n",
              "      <td>Movie</td>\n",
              "      <td>#realityhigh</td>\n",
              "      <td>Fernando Lebrija</td>\n",
              "      <td>Nesta Cooper, Kate Walsh, John Michael Higgins...</td>\n",
              "      <td>United States</td>\n",
              "      <td>September 8, 2017</td>\n",
              "      <td>2017</td>\n",
              "      <td>TV-14</td>\n",
              "      <td>99</td>\n",
              "      <td>Comedies</td>\n",
              "      <td>When nerdy high schooler Dani finally attracts...</td>\n",
              "      <td>Medium</td>\n",
              "    </tr>\n",
              "    <tr>\n",
              "      <th>6</th>\n",
              "      <td>70304989</td>\n",
              "      <td>Movie</td>\n",
              "      <td>Automata</td>\n",
              "      <td>Gabe Ibáñez</td>\n",
              "      <td>Antonio Banderas, Dylan McDermott, Melanie Gri...</td>\n",
              "      <td>Bulgaria, United States, Spain, Canada</td>\n",
              "      <td>September 8, 2017</td>\n",
              "      <td>2014</td>\n",
              "      <td>R</td>\n",
              "      <td>110</td>\n",
              "      <td>International Movies, Sci-Fi &amp; Fantasy, Thrillers</td>\n",
              "      <td>In a dystopian future, an insurance adjuster f...</td>\n",
              "      <td>Medium</td>\n",
              "    </tr>\n",
              "    <tr>\n",
              "      <th>7</th>\n",
              "      <td>80164077</td>\n",
              "      <td>Movie</td>\n",
              "      <td>Fabrizio Copano: Solo pienso en mi</td>\n",
              "      <td>Rodrigo Toro, Francisco Schultz</td>\n",
              "      <td>Fabrizio Copano</td>\n",
              "      <td>Chile</td>\n",
              "      <td>September 8, 2017</td>\n",
              "      <td>2017</td>\n",
              "      <td>TV-MA</td>\n",
              "      <td>60</td>\n",
              "      <td>Stand-Up Comedy</td>\n",
              "      <td>Fabrizio Copano takes audience participation t...</td>\n",
              "      <td>Short</td>\n",
              "    </tr>\n",
              "    <tr>\n",
              "      <th>...</th>\n",
              "      <td>...</td>\n",
              "      <td>...</td>\n",
              "      <td>...</td>\n",
              "      <td>...</td>\n",
              "      <td>...</td>\n",
              "      <td>...</td>\n",
              "      <td>...</td>\n",
              "      <td>...</td>\n",
              "      <td>...</td>\n",
              "      <td>...</td>\n",
              "      <td>...</td>\n",
              "      <td>...</td>\n",
              "      <td>...</td>\n",
              "    </tr>\n",
              "    <tr>\n",
              "      <th>5577</th>\n",
              "      <td>80085438</td>\n",
              "      <td>Movie</td>\n",
              "      <td>Frank and Cindy</td>\n",
              "      <td>G.J. Echternkamp</td>\n",
              "      <td>NaN</td>\n",
              "      <td>United States</td>\n",
              "      <td>April 1, 2016</td>\n",
              "      <td>2007</td>\n",
              "      <td>TV-MA</td>\n",
              "      <td>70</td>\n",
              "      <td>Documentaries</td>\n",
              "      <td>Frank was a rising pop star when he married Ci...</td>\n",
              "      <td>Short</td>\n",
              "    </tr>\n",
              "    <tr>\n",
              "      <th>5578</th>\n",
              "      <td>80085439</td>\n",
              "      <td>Movie</td>\n",
              "      <td>Frank and Cindy</td>\n",
              "      <td>G.J. Echternkamp</td>\n",
              "      <td>Rene Russo, Oliver Platt, Johnny Simmons, Jane...</td>\n",
              "      <td>United States</td>\n",
              "      <td>April 1, 2016</td>\n",
              "      <td>2015</td>\n",
              "      <td>R</td>\n",
              "      <td>102</td>\n",
              "      <td>Comedies, Dramas, Independent Movies</td>\n",
              "      <td>A student filmmaker vengefully turns his camer...</td>\n",
              "      <td>Medium</td>\n",
              "    </tr>\n",
              "    <tr>\n",
              "      <th>5579</th>\n",
              "      <td>80011846</td>\n",
              "      <td>Movie</td>\n",
              "      <td>Iverson</td>\n",
              "      <td>Zatella Beatty</td>\n",
              "      <td>Allen Iverson</td>\n",
              "      <td>United States</td>\n",
              "      <td>April 1, 2016</td>\n",
              "      <td>2014</td>\n",
              "      <td>NR</td>\n",
              "      <td>88</td>\n",
              "      <td>Documentaries, Sports Movies</td>\n",
              "      <td>This unfiltered documentary follows the rocky ...</td>\n",
              "      <td>Short</td>\n",
              "    </tr>\n",
              "    <tr>\n",
              "      <th>5580</th>\n",
              "      <td>80064521</td>\n",
              "      <td>Movie</td>\n",
              "      <td>Jeremy Scott: The People's Designer</td>\n",
              "      <td>Vlad Yudin</td>\n",
              "      <td>Jeremy Scott</td>\n",
              "      <td>United States</td>\n",
              "      <td>April 1, 2016</td>\n",
              "      <td>2015</td>\n",
              "      <td>PG-13</td>\n",
              "      <td>109</td>\n",
              "      <td>Documentaries</td>\n",
              "      <td>The journey of fashion designer Jeremy Scott f...</td>\n",
              "      <td>Medium</td>\n",
              "    </tr>\n",
              "    <tr>\n",
              "      <th>6231</th>\n",
              "      <td>80116008</td>\n",
              "      <td>Movie</td>\n",
              "      <td>Little Baby Bum: Nursery Rhyme Friends</td>\n",
              "      <td>NaN</td>\n",
              "      <td>NaN</td>\n",
              "      <td>NaN</td>\n",
              "      <td>NaN</td>\n",
              "      <td>2016</td>\n",
              "      <td>NaN</td>\n",
              "      <td>60</td>\n",
              "      <td>Movies</td>\n",
              "      <td>Nursery rhymes and original music for children...</td>\n",
              "      <td>Short</td>\n",
              "    </tr>\n",
              "  </tbody>\n",
              "</table>\n",
              "<p>4265 rows × 13 columns</p>\n",
              "</div>"
            ],
            "text/plain": [
              "       show_id  ... duration_movie\n",
              "0     81145628  ...         Medium\n",
              "1     80117401  ...         Medium\n",
              "4     80125979  ...         Medium\n",
              "6     70304989  ...         Medium\n",
              "7     80164077  ...          Short\n",
              "...        ...  ...            ...\n",
              "5577  80085438  ...          Short\n",
              "5578  80085439  ...         Medium\n",
              "5579  80011846  ...          Short\n",
              "5580  80064521  ...         Medium\n",
              "6231  80116008  ...          Short\n",
              "\n",
              "[4265 rows x 13 columns]"
            ]
          },
          "metadata": {},
          "execution_count": 10
        }
      ]
    },
    {
      "cell_type": "markdown",
      "metadata": {
        "id": "N2fwBGWbb5zk"
      },
      "source": [
        "### Ejercicio 6\n",
        "\n",
        "En este ejercicio trabajaremos con el dataset de Netflix, pero analizando las series de TV. Muestra un gráfico de barras con el número de series de TV americanas agrupadas por categoría (*listed_in*).\n",
        "\n",
        "\n",
        "Consideraciones:\n",
        "\n",
        "- Debes mostrar los datos de manera horizontal (barras horizontales).\n",
        "- El eje de las Y debe incluir las etiquetas de las categorías de las series de TV.\n",
        "- Debe incluir un texto con el número de series por cada categoría del gráfico. El texto debería estar situado a la derecha de cada barra.\n",
        "\n",
        "**Nota**: En el Notebook de teoría hemos visto cómo mostrar gráficos lineares simples con el matplotlib. Para este ejercicio explora las funcionalidades que presenta la librería pandas para generar gráficos a partir de dataframes. También pueden ser de utilidad las funciones [text](https://matplotlib.org/3.1.1/api/_as_gen/matplotlib.pyplot.text.html) o [annotate](https://matplotlib.org/3.1.1/api/_as_gen/matplotlib.pyplot.annotate.html) para mostrar el número de series al lado de cada barra. \n"
      ]
    },
    {
      "cell_type": "code",
      "metadata": {
        "id": "zneq1ExYb5zk"
      },
      "source": [
        "# Respuesta\n",
        "# Filtramos el dataframe por TV Shows y guardamos en una variable.\n",
        "df_american_TV_shows = df_netflix[(df_netflix['type'] == \"TV Show\") & (df_netflix['country'] == \"United States\")]\n",
        "\n",
        "# Separamos la string que contiene la lista de géneros y utilizamos la función `explode` para convertir en filas cada elemento\n",
        "# de las listas que acabamos de separar con el `split`. Guardamos el resultado en una variable.\n",
        "genre_explode = df_american_TV_shows['listed_in'].str.split(\",\").explode()\n",
        "\n",
        "# Para quitar los espacios iniciales y finales utilizamos la función `strip`.\n",
        "genre_count = genre_explode.str.strip().value_counts()"
      ],
      "execution_count": 11,
      "outputs": []
    },
    {
      "cell_type": "code",
      "metadata": {
        "colab": {
          "base_uri": "https://localhost:8080/",
          "height": 483
        },
        "id": "jLdpwT1fi1aq",
        "outputId": "a7393ccc-aa73-4f82-b8fa-680f97014b67"
      },
      "source": [
        "# Visualizamos el gráfico de barras horizontal.\n",
        "ax = genre_count.plot(kind = 'barh', figsize = (12, 8))\n",
        "\n",
        "# Obtenemos las barras dibujadas en el gráfico con `patches` e iteramos sobre ellas.\n",
        "for bar in ax.patches:\n",
        "    # Para cada barra, creamos una anotación sobre el gráfico, indicándole que queremos escribir el ancho numérico de la barra\n",
        "    # como primer parámetro, la posición de la anotación como segundo parámetro y utilizamos los parámetros `xytext` y \n",
        "    # `textcords` para ajustar los márgenes.\n",
        "    ax.annotate(bar.get_width(), (bar.get_x() + bar.get_width(), bar.get_y()), xytext=(3, 0), textcoords='offset points')"
      ],
      "execution_count": 12,
      "outputs": [
        {
          "output_type": "display_data",
          "data": {
            "image/png": "[encoded data removed]",
            "text/plain": [
              "<Figure size 864x576 with 1 Axes>"
            ]
          },
          "metadata": {
            "needs_background": "light"
          }
        }
      ]
    },
    {
      "cell_type": "markdown",
      "metadata": {
        "id": "1JL30jo8b5zl"
      },
      "source": [
        "### Ejercicio Opcional\n",
        "\n",
        "Python es un lenguaje de programación muy utilizado en el procesamiento de imágenes. En este ejercicio veremos una aplicación de detección de elementos en una imagen de microscopía de escaneo (en inglés: Scanning Element Microscopy (SEM)).\n",
        "\n",
        "En esta imagen se puede ver una muestra de vidrio (gris claro) con algunas burbujas (elementos negros) y granos de arena (gris oscuro). Queremos ser capaces de detectar los diferentes elementos de la muestra a partir de la imagen.\n",
        "\n",
        "Una imagen se puede ver como una matriz bidimensional donde cada elemento de la matriz corresponde al valor de un pixel de la imagen. Por ejemplo, si miramos la matriz de la imagen que os proporcionamos, veremos valores que van de 0 a 255. Así pues, para distinguir los diferentes elementos de la muestra de vidrio, nos tendremos que fijar en el nivel de gris de los píxeles de la imagen a través del histograma. <span style=\"font-family: Courier New; background-color: #f2ae72; color: #000000; padding: 3px; \">EI</span> \n",
        "\n",
        "\n",
        "Parte A: \n",
        "\n",
        "* Para poder identificar mejor los elementos de la muestra de vidrio, primero hemos aplicado un filtro de mediana para reducir el ruido. Grafica ahora la distribución de los píxeles de la imagen inicial y la imagen filtrada. ¿Qué diferencia puedes apreciar entre ambas distribuciones?\n",
        "\n",
        "**Nota:** Utiliza la función [distplot](https://seaborn.pydata.org/generated/seaborn.distplot.html) de la librería Seaborn para visualizar la distribución de los valores píxeles de la imagen.\n",
        "\n",
        "Parte B: \n",
        "\n",
        "* Utilizando los valores del distribution plot de la imagen filtrada, determina unos umbrales que permitan diferenciar los píxeles de arena, los píxeles de vidrio y los píxeles de burbuja.\n",
        "\n",
        "* Una vez que hayas definido los umbrales, muestra por pantalla una imagen donde cada uno de los elementos esté en un color diferente. \n"
      ]
    },
    {
      "cell_type": "code",
      "metadata": {
        "colab": {
          "base_uri": "https://localhost:8080/"
        },
        "id": "ZuJOj-COjdRl",
        "outputId": "600d436a-dcca-4030-f783-50ed526957b7"
      },
      "source": [
        "!pip install -U seaborn-image"
      ],
      "execution_count": 18,
      "outputs": [
        {
          "output_type": "stream",
          "name": "stdout",
          "text": [
            "Requirement already satisfied: seaborn-image in /usr/local/lib/python3.7/dist-packages (0.4.4)\n",
            "Requirement already satisfied: scikit-image<0.18.0,>=0.17.2 in /usr/local/lib/python3.7/dist-packages (from seaborn-image) (0.17.2)\n",
            "Requirement already satisfied: scipy<2.0.0,>=1.5.1 in /usr/local/lib/python3.7/dist-packages (from seaborn-image) (1.7.1)\n",
            "Requirement already satisfied: importlib_metadata<2.0.0,>=1.7.0 in /usr/local/lib/python3.7/dist-packages (from seaborn-image) (1.7.0)\n",
            "Requirement already satisfied: pooch<2.0.0,>=1.2.0 in /usr/local/lib/python3.7/dist-packages (from seaborn-image) (1.4.0)\n",
            "Requirement already satisfied: matplotlib-scalebar<0.8.0,>=0.7.0 in /usr/local/lib/python3.7/dist-packages (from seaborn-image) (0.7.2)\n",
            "Requirement already satisfied: palettable<4.0.0,>=3.3.0 in /usr/local/lib/python3.7/dist-packages (from seaborn-image) (3.3.0)\n",
            "Requirement already satisfied: matplotlib<4.0.0,>=3.2.2 in /usr/local/lib/python3.7/dist-packages (from seaborn-image) (3.2.2)\n",
            "Requirement already satisfied: zipp>=0.5 in /usr/local/lib/python3.7/dist-packages (from importlib_metadata<2.0.0,>=1.7.0->seaborn-image) (3.5.0)\n",
            "Requirement already satisfied: pyparsing!=2.0.4,!=2.1.2,!=2.1.6,>=2.0.1 in /usr/local/lib/python3.7/dist-packages (from matplotlib<4.0.0,>=3.2.2->seaborn-image) (2.4.7)\n",
            "Requirement already satisfied: kiwisolver>=1.0.1 in /usr/local/lib/python3.7/dist-packages (from matplotlib<4.0.0,>=3.2.2->seaborn-image) (1.3.1)\n",
            "Requirement already satisfied: cycler>=0.10 in /usr/local/lib/python3.7/dist-packages (from matplotlib<4.0.0,>=3.2.2->seaborn-image) (0.10.0)\n",
            "Requirement already satisfied: numpy>=1.11 in /usr/local/lib/python3.7/dist-packages (from matplotlib<4.0.0,>=3.2.2->seaborn-image) (1.19.5)\n",
            "Requirement already satisfied: python-dateutil>=2.1 in /usr/local/lib/python3.7/dist-packages (from matplotlib<4.0.0,>=3.2.2->seaborn-image) (2.8.2)\n",
            "Requirement already satisfied: six in /usr/local/lib/python3.7/dist-packages (from cycler>=0.10->matplotlib<4.0.0,>=3.2.2->seaborn-image) (1.15.0)\n",
            "Requirement already satisfied: packaging in /usr/local/lib/python3.7/dist-packages (from pooch<2.0.0,>=1.2.0->seaborn-image) (21.0)\n",
            "Requirement already satisfied: requests in /usr/local/lib/python3.7/dist-packages (from pooch<2.0.0,>=1.2.0->seaborn-image) (2.23.0)\n",
            "Requirement already satisfied: appdirs in /usr/local/lib/python3.7/dist-packages (from pooch<2.0.0,>=1.2.0->seaborn-image) (1.4.4)\n",
            "Requirement already satisfied: tifffile>=2019.7.26 in /usr/local/lib/python3.7/dist-packages (from scikit-image<0.18.0,>=0.17.2->seaborn-image) (2021.8.30)\n",
            "Requirement already satisfied: pillow!=7.1.0,!=7.1.1,>=4.3.0 in /usr/local/lib/python3.7/dist-packages (from scikit-image<0.18.0,>=0.17.2->seaborn-image) (7.1.2)\n",
            "Requirement already satisfied: PyWavelets>=1.1.1 in /usr/local/lib/python3.7/dist-packages (from scikit-image<0.18.0,>=0.17.2->seaborn-image) (1.1.1)\n",
            "Requirement already satisfied: networkx>=2.0 in /usr/local/lib/python3.7/dist-packages (from scikit-image<0.18.0,>=0.17.2->seaborn-image) (2.6.2)\n",
            "Requirement already satisfied: imageio>=2.3.0 in /usr/local/lib/python3.7/dist-packages (from scikit-image<0.18.0,>=0.17.2->seaborn-image) (2.4.1)\n",
            "Requirement already satisfied: chardet<4,>=3.0.2 in /usr/local/lib/python3.7/dist-packages (from requests->pooch<2.0.0,>=1.2.0->seaborn-image) (3.0.4)\n",
            "Requirement already satisfied: certifi>=2017.4.17 in /usr/local/lib/python3.7/dist-packages (from requests->pooch<2.0.0,>=1.2.0->seaborn-image) (2021.5.30)\n",
            "Requirement already satisfied: urllib3!=1.25.0,!=1.25.1,<1.26,>=1.21.1 in /usr/local/lib/python3.7/dist-packages (from requests->pooch<2.0.0,>=1.2.0->seaborn-image) (1.24.3)\n",
            "Requirement already satisfied: idna<3,>=2.5 in /usr/local/lib/python3.7/dist-packages (from requests->pooch<2.0.0,>=1.2.0->seaborn-image) (2.10)\n"
          ]
        }
      ]
    },
    {
      "cell_type": "code",
      "metadata": {
        "id": "d_bzBMI4jzvc"
      },
      "source": [
        "import scipy"
      ],
      "execution_count": 24,
      "outputs": []
    },
    {
      "cell_type": "code",
      "metadata": {
        "id": "EB4FWzpYkndO"
      },
      "source": [
        ""
      ],
      "execution_count": null,
      "outputs": []
    },
    {
      "cell_type": "code",
      "metadata": {
        "id": "_ef6q_hCb5zm",
        "colab": {
          "base_uri": "https://localhost:8080/",
          "height": 531
        },
        "outputId": "48b17139-a90f-4b16-b7f6-27ec274f689c"
      },
      "source": [
        "# Respuesta\n",
        "# Importamos las librerías.\n",
        "from scipy import ndimage\n",
        "import seaborn_image as isns\n",
        "\n",
        "# Establecemos el tamaño por defecto de las figuras para que se muestren más grandes.\n",
        "sns.set(rc={'figure.figsize':(15,10)})\n",
        "\n",
        "# Utilizamos `imread` para cargar los valores numéricos de la imagen.\n",
        "sem_img = plt.imread('https://github.com/marcusRB/The_Bridge_School_DataScience_PT/blob/main/02_DataAnalysis/dataset/SEM_image.jpg')\n",
        "\n"
      ],
      "execution_count": 25,
      "outputs": [
        {
          "output_type": "error",
          "ename": "ImportError",
          "evalue": "ignored",
          "traceback": [
            "\u001b[0;31m---------------------------------------------------------------------------\u001b[0m",
            "\u001b[0;31mImportError\u001b[0m                               Traceback (most recent call last)",
            "\u001b[0;32m<ipython-input-25-81950e1a6fda>\u001b[0m in \u001b[0;36m<module>\u001b[0;34m()\u001b[0m\n\u001b[1;32m      2\u001b[0m \u001b[0;31m# Importamos las librerías.\u001b[0m\u001b[0;34m\u001b[0m\u001b[0;34m\u001b[0m\u001b[0;34m\u001b[0m\u001b[0m\n\u001b[1;32m      3\u001b[0m \u001b[0;32mfrom\u001b[0m \u001b[0mscipy\u001b[0m \u001b[0;32mimport\u001b[0m \u001b[0mndimage\u001b[0m\u001b[0;34m\u001b[0m\u001b[0;34m\u001b[0m\u001b[0m\n\u001b[0;32m----> 4\u001b[0;31m \u001b[0;32mimport\u001b[0m \u001b[0mseaborn_image\u001b[0m \u001b[0;32mas\u001b[0m \u001b[0misns\u001b[0m\u001b[0;34m\u001b[0m\u001b[0;34m\u001b[0m\u001b[0m\n\u001b[0m\u001b[1;32m      5\u001b[0m \u001b[0;34m\u001b[0m\u001b[0m\n\u001b[1;32m      6\u001b[0m \u001b[0;31m# Establecemos el tamaño por defecto de las figuras para que se muestren más grandes.\u001b[0m\u001b[0;34m\u001b[0m\u001b[0;34m\u001b[0m\u001b[0;34m\u001b[0m\u001b[0m\n",
            "\u001b[0;32m/usr/local/lib/python3.7/dist-packages/seaborn_image/__init__.py\u001b[0m in \u001b[0;36m<module>\u001b[0;34m()\u001b[0m\n\u001b[1;32m      6\u001b[0m \u001b[0;32mfrom\u001b[0m \u001b[0;34m.\u001b[0m\u001b[0m_context\u001b[0m \u001b[0;32mimport\u001b[0m \u001b[0;34m*\u001b[0m\u001b[0;34m\u001b[0m\u001b[0;34m\u001b[0m\u001b[0m\n\u001b[1;32m      7\u001b[0m \u001b[0;32mfrom\u001b[0m \u001b[0;34m.\u001b[0m\u001b[0m_general\u001b[0m \u001b[0;32mimport\u001b[0m \u001b[0;34m*\u001b[0m\u001b[0;34m\u001b[0m\u001b[0;34m\u001b[0m\u001b[0m\n\u001b[0;32m----> 8\u001b[0;31m \u001b[0;32mfrom\u001b[0m \u001b[0;34m.\u001b[0m\u001b[0m_filters\u001b[0m \u001b[0;32mimport\u001b[0m \u001b[0;34m*\u001b[0m\u001b[0;34m\u001b[0m\u001b[0;34m\u001b[0m\u001b[0m\n\u001b[0m\u001b[1;32m      9\u001b[0m \u001b[0;32mfrom\u001b[0m \u001b[0;34m.\u001b[0m\u001b[0m_grid\u001b[0m \u001b[0;32mimport\u001b[0m \u001b[0;34m*\u001b[0m\u001b[0;34m\u001b[0m\u001b[0;34m\u001b[0m\u001b[0m\n\u001b[1;32m     10\u001b[0m \u001b[0;32mfrom\u001b[0m \u001b[0;34m.\u001b[0m\u001b[0mutils\u001b[0m \u001b[0;32mimport\u001b[0m \u001b[0;34m*\u001b[0m\u001b[0;34m\u001b[0m\u001b[0;34m\u001b[0m\u001b[0m\n",
            "\u001b[0;32m/usr/local/lib/python3.7/dist-packages/seaborn_image/_filters.py\u001b[0m in \u001b[0;36m<module>\u001b[0;34m()\u001b[0m\n\u001b[1;32m      6\u001b[0m \u001b[0;32mimport\u001b[0m \u001b[0mscipy\u001b[0m\u001b[0;34m.\u001b[0m\u001b[0mstats\u001b[0m \u001b[0;32mas\u001b[0m \u001b[0mss\u001b[0m\u001b[0;34m\u001b[0m\u001b[0;34m\u001b[0m\u001b[0m\n\u001b[1;32m      7\u001b[0m \u001b[0;32mfrom\u001b[0m \u001b[0mscipy\u001b[0m\u001b[0;34m.\u001b[0m\u001b[0mfftpack\u001b[0m \u001b[0;32mimport\u001b[0m \u001b[0mfftn\u001b[0m\u001b[0;34m,\u001b[0m \u001b[0mfftshift\u001b[0m\u001b[0;34m\u001b[0m\u001b[0;34m\u001b[0m\u001b[0m\n\u001b[0;32m----> 8\u001b[0;31m \u001b[0;32mfrom\u001b[0m \u001b[0mskimage\u001b[0m\u001b[0;34m.\u001b[0m\u001b[0mfilters\u001b[0m \u001b[0;32mimport\u001b[0m \u001b[0mdifference_of_gaussians\u001b[0m\u001b[0;34m,\u001b[0m \u001b[0mwindow\u001b[0m\u001b[0;34m\u001b[0m\u001b[0;34m\u001b[0m\u001b[0m\n\u001b[0m\u001b[1;32m      9\u001b[0m \u001b[0;34m\u001b[0m\u001b[0m\n\u001b[1;32m     10\u001b[0m \u001b[0;32mfrom\u001b[0m \u001b[0;34m.\u001b[0m\u001b[0m_general\u001b[0m \u001b[0;32mimport\u001b[0m \u001b[0mimgplot\u001b[0m\u001b[0;34m\u001b[0m\u001b[0;34m\u001b[0m\u001b[0m\n",
            "\u001b[0;32m/usr/local/lib/python3.7/dist-packages/skimage/filters/__init__.py\u001b[0m in \u001b[0;36m<module>\u001b[0;34m()\u001b[0m\n\u001b[1;32m      2\u001b[0m from ._gaussian import (gaussian, _guess_spatial_dimensions,\n\u001b[1;32m      3\u001b[0m                         difference_of_gaussians)\n\u001b[0;32m----> 4\u001b[0;31m from .edges import (sobel, sobel_h, sobel_v,\n\u001b[0m\u001b[1;32m      5\u001b[0m                     \u001b[0mscharr\u001b[0m\u001b[0;34m,\u001b[0m \u001b[0mscharr_h\u001b[0m\u001b[0;34m,\u001b[0m \u001b[0mscharr_v\u001b[0m\u001b[0;34m,\u001b[0m\u001b[0;34m\u001b[0m\u001b[0;34m\u001b[0m\u001b[0m\n\u001b[1;32m      6\u001b[0m                     \u001b[0mprewitt\u001b[0m\u001b[0;34m,\u001b[0m \u001b[0mprewitt_h\u001b[0m\u001b[0;34m,\u001b[0m \u001b[0mprewitt_v\u001b[0m\u001b[0;34m,\u001b[0m\u001b[0;34m\u001b[0m\u001b[0;34m\u001b[0m\u001b[0m\n",
            "\u001b[0;32m/usr/local/lib/python3.7/dist-packages/skimage/filters/edges.py\u001b[0m in \u001b[0;36m<module>\u001b[0;34m()\u001b[0m\n\u001b[1;32m     16\u001b[0m \u001b[0;32mfrom\u001b[0m \u001b[0mscipy\u001b[0m\u001b[0;34m.\u001b[0m\u001b[0mndimage\u001b[0m \u001b[0;32mimport\u001b[0m \u001b[0mconvolve\u001b[0m\u001b[0;34m,\u001b[0m \u001b[0mbinary_erosion\u001b[0m\u001b[0;34m\u001b[0m\u001b[0;34m\u001b[0m\u001b[0m\n\u001b[1;32m     17\u001b[0m \u001b[0;34m\u001b[0m\u001b[0m\n\u001b[0;32m---> 18\u001b[0;31m \u001b[0;32mfrom\u001b[0m \u001b[0;34m.\u001b[0m\u001b[0;34m.\u001b[0m\u001b[0mrestoration\u001b[0m\u001b[0;34m.\u001b[0m\u001b[0muft\u001b[0m \u001b[0;32mimport\u001b[0m \u001b[0mlaplacian\u001b[0m\u001b[0;34m\u001b[0m\u001b[0;34m\u001b[0m\u001b[0m\n\u001b[0m\u001b[1;32m     19\u001b[0m \u001b[0;34m\u001b[0m\u001b[0m\n\u001b[1;32m     20\u001b[0m \u001b[0;31m# n-dimensional filter weights\u001b[0m\u001b[0;34m\u001b[0m\u001b[0;34m\u001b[0m\u001b[0;34m\u001b[0m\u001b[0m\n",
            "\u001b[0;32m/usr/local/lib/python3.7/dist-packages/skimage/restoration/__init__.py\u001b[0m in \u001b[0;36m<module>\u001b[0;34m()\u001b[0m\n\u001b[1;32m      3\u001b[0m \"\"\"\n\u001b[1;32m      4\u001b[0m \u001b[0;34m\u001b[0m\u001b[0m\n\u001b[0;32m----> 5\u001b[0;31m \u001b[0;32mfrom\u001b[0m \u001b[0;34m.\u001b[0m\u001b[0mdeconvolution\u001b[0m \u001b[0;32mimport\u001b[0m \u001b[0mwiener\u001b[0m\u001b[0;34m,\u001b[0m \u001b[0munsupervised_wiener\u001b[0m\u001b[0;34m,\u001b[0m \u001b[0mrichardson_lucy\u001b[0m\u001b[0;34m\u001b[0m\u001b[0;34m\u001b[0m\u001b[0m\n\u001b[0m\u001b[1;32m      6\u001b[0m \u001b[0;32mfrom\u001b[0m \u001b[0;34m.\u001b[0m\u001b[0munwrap\u001b[0m \u001b[0;32mimport\u001b[0m \u001b[0munwrap_phase\u001b[0m\u001b[0;34m\u001b[0m\u001b[0;34m\u001b[0m\u001b[0m\n\u001b[1;32m      7\u001b[0m from ._denoise import (denoise_tv_chambolle, denoise_tv_bregman,\n",
            "\u001b[0;32m/usr/local/lib/python3.7/dist-packages/skimage/restoration/deconvolution.py\u001b[0m in \u001b[0;36m<module>\u001b[0;34m()\u001b[0m\n\u001b[1;32m      4\u001b[0m \u001b[0;32mimport\u001b[0m \u001b[0mnumpy\u001b[0m \u001b[0;32mas\u001b[0m \u001b[0mnp\u001b[0m\u001b[0;34m\u001b[0m\u001b[0;34m\u001b[0m\u001b[0m\n\u001b[1;32m      5\u001b[0m \u001b[0;32mimport\u001b[0m \u001b[0mnumpy\u001b[0m\u001b[0;34m.\u001b[0m\u001b[0mrandom\u001b[0m \u001b[0;32mas\u001b[0m \u001b[0mnpr\u001b[0m\u001b[0;34m\u001b[0m\u001b[0;34m\u001b[0m\u001b[0m\n\u001b[0;32m----> 6\u001b[0;31m \u001b[0;32mfrom\u001b[0m \u001b[0mscipy\u001b[0m\u001b[0;34m.\u001b[0m\u001b[0msignal\u001b[0m \u001b[0;32mimport\u001b[0m \u001b[0mconvolve\u001b[0m\u001b[0;34m\u001b[0m\u001b[0;34m\u001b[0m\u001b[0m\n\u001b[0m\u001b[1;32m      7\u001b[0m \u001b[0;34m\u001b[0m\u001b[0m\n\u001b[1;32m      8\u001b[0m \u001b[0;32mfrom\u001b[0m \u001b[0;34m.\u001b[0m \u001b[0;32mimport\u001b[0m \u001b[0muft\u001b[0m\u001b[0;34m\u001b[0m\u001b[0;34m\u001b[0m\u001b[0m\n",
            "\u001b[0;32m/usr/local/lib/python3.7/dist-packages/scipy/signal/__init__.py\u001b[0m in \u001b[0;36m<module>\u001b[0;34m()\u001b[0m\n\u001b[1;32m    299\u001b[0m \u001b[0;32mfrom\u001b[0m \u001b[0;34m.\u001b[0m\u001b[0mspline\u001b[0m \u001b[0;32mimport\u001b[0m \u001b[0;34m*\u001b[0m\u001b[0;34m\u001b[0m\u001b[0;34m\u001b[0m\u001b[0m\n\u001b[1;32m    300\u001b[0m \u001b[0;34m\u001b[0m\u001b[0m\n\u001b[0;32m--> 301\u001b[0;31m \u001b[0;32mfrom\u001b[0m \u001b[0;34m.\u001b[0m\u001b[0mbsplines\u001b[0m \u001b[0;32mimport\u001b[0m \u001b[0;34m*\u001b[0m\u001b[0;34m\u001b[0m\u001b[0;34m\u001b[0m\u001b[0m\n\u001b[0m\u001b[1;32m    302\u001b[0m \u001b[0;32mfrom\u001b[0m \u001b[0;34m.\u001b[0m\u001b[0mfilter_design\u001b[0m \u001b[0;32mimport\u001b[0m \u001b[0;34m*\u001b[0m\u001b[0;34m\u001b[0m\u001b[0;34m\u001b[0m\u001b[0m\n\u001b[1;32m    303\u001b[0m \u001b[0;32mfrom\u001b[0m \u001b[0;34m.\u001b[0m\u001b[0mfir_filter_design\u001b[0m \u001b[0;32mimport\u001b[0m \u001b[0;34m*\u001b[0m\u001b[0;34m\u001b[0m\u001b[0;34m\u001b[0m\u001b[0m\n",
            "\u001b[0;32m/usr/local/lib/python3.7/dist-packages/scipy/signal/bsplines.py\u001b[0m in \u001b[0;36m<module>\u001b[0;34m()\u001b[0m\n\u001b[1;32m      8\u001b[0m \u001b[0;34m\u001b[0m\u001b[0m\n\u001b[1;32m      9\u001b[0m \u001b[0;32mfrom\u001b[0m \u001b[0mscipy\u001b[0m\u001b[0;34m.\u001b[0m\u001b[0mspecial\u001b[0m \u001b[0;32mimport\u001b[0m \u001b[0mcomb\u001b[0m\u001b[0;34m\u001b[0m\u001b[0;34m\u001b[0m\u001b[0m\n\u001b[0;32m---> 10\u001b[0;31m \u001b[0;32mfrom\u001b[0m \u001b[0mscipy\u001b[0m\u001b[0;34m.\u001b[0m\u001b[0m_lib\u001b[0m\u001b[0;34m.\u001b[0m\u001b[0m_util\u001b[0m \u001b[0;32mimport\u001b[0m \u001b[0mfloat_factorial\u001b[0m\u001b[0;34m\u001b[0m\u001b[0;34m\u001b[0m\u001b[0m\n\u001b[0m\u001b[1;32m     11\u001b[0m \u001b[0;34m\u001b[0m\u001b[0m\n\u001b[1;32m     12\u001b[0m __all__ = ['spline_filter', 'bspline', 'gauss_spline', 'cubic', 'quadratic',\n",
            "\u001b[0;31mImportError\u001b[0m: cannot import name 'float_factorial' from 'scipy._lib._util' (/usr/local/lib/python3.7/dist-packages/scipy/_lib/_util.py)",
            "",
            "\u001b[0;31m---------------------------------------------------------------------------\u001b[0;32m\nNOTE: If your import is failing due to a missing package, you can\nmanually install dependencies using either !pip or !apt.\n\nTo view examples of installing some common dependencies, click the\n\"Open Examples\" button below.\n\u001b[0;31m---------------------------------------------------------------------------\u001b[0m\n"
          ],
          "errorDetails": {
            "actions": [
              {
                "action": "open_url",
                "actionText": "Open Examples",
                "url": "/notebooks/snippets/importing_libraries.ipynb"
              }
            ]
          }
        }
      ]
    },
    {
      "cell_type": "code",
      "metadata": {
        "id": "JMpqDYwQb5zm"
      },
      "source": [
        ""
      ],
      "execution_count": null,
      "outputs": []
    }
  ]
}