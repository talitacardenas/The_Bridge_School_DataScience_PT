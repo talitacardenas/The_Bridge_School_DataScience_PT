{
  "nbformat": 4,
  "nbformat_minor": 0,
  "metadata": {
    "colab": {
      "name": "08. Data Wrangling con Pandas - Python - parte I",
      "provenance": []
    },
    "kernelspec": {
      "name": "python3",
      "display_name": "Python 3"
    },
    "language_info": {
      "name": "python"
    }
  },
  "cells": [
    {
      "cell_type": "markdown",
      "metadata": {
        "id": "gaxnPthUj6Eh"
      },
      "source": [
        "# Data Wrangle\n",
        "\n",
        "## Formato Ancho y Largo"
      ]
    },
    {
      "cell_type": "code",
      "metadata": {
        "id": "uzIUOeKDsWBB",
        "colab": {
          "base_uri": "https://localhost:8080/",
          "height": 206
        },
        "outputId": "d0a6f48f-c369-4d5d-b112-4d26960d0b64"
      },
      "source": [
        "import matplotlib.pyplot as plt\n",
        "import pandas as pd\n",
        "\n",
        "wide_df = pd.read_csv(\"https://raw.githubusercontent.com/marcusRB/The_Bridge_School_DataScience_PT/main/02_DataAnalysis/dataset/wide_data.csv\",\n",
        "                  parse_dates=False)\n",
        "wide_df.head()"
      ],
      "execution_count": null,
      "outputs": [
        {
          "output_type": "execute_result",
          "data": {
            "text/html": [
              "<div>\n",
              "<style scoped>\n",
              "    .dataframe tbody tr th:only-of-type {\n",
              "        vertical-align: middle;\n",
              "    }\n",
              "\n",
              "    .dataframe tbody tr th {\n",
              "        vertical-align: top;\n",
              "    }\n",
              "\n",
              "    .dataframe thead th {\n",
              "        text-align: right;\n",
              "    }\n",
              "</style>\n",
              "<table border=\"1\" class=\"dataframe\">\n",
              "  <thead>\n",
              "    <tr style=\"text-align: right;\">\n",
              "      <th></th>\n",
              "      <th>date</th>\n",
              "      <th>TMAX</th>\n",
              "      <th>TMIN</th>\n",
              "      <th>TOBS</th>\n",
              "    </tr>\n",
              "  </thead>\n",
              "  <tbody>\n",
              "    <tr>\n",
              "      <th>0</th>\n",
              "      <td>2018-10-01</td>\n",
              "      <td>21.1</td>\n",
              "      <td>8.9</td>\n",
              "      <td>13.9</td>\n",
              "    </tr>\n",
              "    <tr>\n",
              "      <th>1</th>\n",
              "      <td>2018-10-02</td>\n",
              "      <td>23.9</td>\n",
              "      <td>13.9</td>\n",
              "      <td>17.2</td>\n",
              "    </tr>\n",
              "    <tr>\n",
              "      <th>2</th>\n",
              "      <td>2018-10-03</td>\n",
              "      <td>25.0</td>\n",
              "      <td>15.6</td>\n",
              "      <td>16.1</td>\n",
              "    </tr>\n",
              "    <tr>\n",
              "      <th>3</th>\n",
              "      <td>2018-10-04</td>\n",
              "      <td>22.8</td>\n",
              "      <td>11.7</td>\n",
              "      <td>11.7</td>\n",
              "    </tr>\n",
              "    <tr>\n",
              "      <th>4</th>\n",
              "      <td>2018-10-05</td>\n",
              "      <td>23.3</td>\n",
              "      <td>11.7</td>\n",
              "      <td>18.9</td>\n",
              "    </tr>\n",
              "  </tbody>\n",
              "</table>\n",
              "</div>"
            ],
            "text/plain": [
              "         date  TMAX  TMIN  TOBS\n",
              "0  2018-10-01  21.1   8.9  13.9\n",
              "1  2018-10-02  23.9  13.9  17.2\n",
              "2  2018-10-03  25.0  15.6  16.1\n",
              "3  2018-10-04  22.8  11.7  11.7\n",
              "4  2018-10-05  23.3  11.7  18.9"
            ]
          },
          "metadata": {
            "tags": []
          },
          "execution_count": 2
        }
      ]
    },
    {
      "cell_type": "code",
      "metadata": {
        "colab": {
          "base_uri": "https://localhost:8080/"
        },
        "id": "-HUx-mgtt3Fv",
        "outputId": "e61f523b-2439-478d-9409-f55dee22fe94"
      },
      "source": [
        "wide_df.dtypes"
      ],
      "execution_count": null,
      "outputs": [
        {
          "output_type": "execute_result",
          "data": {
            "text/plain": [
              "date     object\n",
              "TMAX    float64\n",
              "TMIN    float64\n",
              "TOBS    float64\n",
              "dtype: object"
            ]
          },
          "metadata": {
            "tags": []
          },
          "execution_count": 6
        }
      ]
    },
    {
      "cell_type": "code",
      "metadata": {
        "id": "tdkx7UtmsSly",
        "colab": {
          "base_uri": "https://localhost:8080/"
        },
        "outputId": "00f77360-b48b-414a-c565-65b09b93f99d"
      },
      "source": [
        "wide_df.date.describe()"
      ],
      "execution_count": null,
      "outputs": [
        {
          "output_type": "execute_result",
          "data": {
            "text/plain": [
              "count             31\n",
              "unique            31\n",
              "top       2018-10-26\n",
              "freq               1\n",
              "Name: date, dtype: object"
            ]
          },
          "metadata": {
            "tags": []
          },
          "execution_count": 7
        }
      ]
    },
    {
      "cell_type": "code",
      "metadata": {
        "colab": {
          "base_uri": "https://localhost:8080/",
          "height": 36
        },
        "id": "gN_aRLdBuu14",
        "outputId": "7a74ea0f-ca1d-4d18-86b1-4c5652e82af6"
      },
      "source": [
        "wide_df.date[0]"
      ],
      "execution_count": null,
      "outputs": [
        {
          "output_type": "execute_result",
          "data": {
            "application/vnd.google.colaboratory.intrinsic+json": {
              "type": "string"
            },
            "text/plain": [
              "'2018-10-01'"
            ]
          },
          "metadata": {
            "tags": []
          },
          "execution_count": 11
        }
      ]
    },
    {
      "cell_type": "code",
      "metadata": {
        "id": "KHPtusMSM-o0",
        "colab": {
          "base_uri": "https://localhost:8080/"
        },
        "outputId": "f2230416-8fa4-41a4-bdc0-fa929241c1e0"
      },
      "source": [
        "type(wide_df.date[0])"
      ],
      "execution_count": null,
      "outputs": [
        {
          "output_type": "execute_result",
          "data": {
            "text/plain": [
              "str"
            ]
          },
          "metadata": {
            "tags": []
          },
          "execution_count": 10
        }
      ]
    },
    {
      "cell_type": "code",
      "metadata": {
        "colab": {
          "base_uri": "https://localhost:8080/",
          "height": 206
        },
        "id": "6epoYUY4u6gh",
        "outputId": "6cab1973-a68b-4051-e8d8-8b5b2d9a0fac"
      },
      "source": [
        "wide_df = pd.read_csv(\"https://raw.githubusercontent.com/marcusRB/The_Bridge_School_DataScience_PT/main/02_DataAnalysis/dataset/wide_data.csv\",\n",
        "                  parse_dates=['date'])\n",
        "wide_df.head()"
      ],
      "execution_count": null,
      "outputs": [
        {
          "output_type": "execute_result",
          "data": {
            "text/html": [
              "<div>\n",
              "<style scoped>\n",
              "    .dataframe tbody tr th:only-of-type {\n",
              "        vertical-align: middle;\n",
              "    }\n",
              "\n",
              "    .dataframe tbody tr th {\n",
              "        vertical-align: top;\n",
              "    }\n",
              "\n",
              "    .dataframe thead th {\n",
              "        text-align: right;\n",
              "    }\n",
              "</style>\n",
              "<table border=\"1\" class=\"dataframe\">\n",
              "  <thead>\n",
              "    <tr style=\"text-align: right;\">\n",
              "      <th></th>\n",
              "      <th>date</th>\n",
              "      <th>TMAX</th>\n",
              "      <th>TMIN</th>\n",
              "      <th>TOBS</th>\n",
              "    </tr>\n",
              "  </thead>\n",
              "  <tbody>\n",
              "    <tr>\n",
              "      <th>0</th>\n",
              "      <td>2018-10-01</td>\n",
              "      <td>21.1</td>\n",
              "      <td>8.9</td>\n",
              "      <td>13.9</td>\n",
              "    </tr>\n",
              "    <tr>\n",
              "      <th>1</th>\n",
              "      <td>2018-10-02</td>\n",
              "      <td>23.9</td>\n",
              "      <td>13.9</td>\n",
              "      <td>17.2</td>\n",
              "    </tr>\n",
              "    <tr>\n",
              "      <th>2</th>\n",
              "      <td>2018-10-03</td>\n",
              "      <td>25.0</td>\n",
              "      <td>15.6</td>\n",
              "      <td>16.1</td>\n",
              "    </tr>\n",
              "    <tr>\n",
              "      <th>3</th>\n",
              "      <td>2018-10-04</td>\n",
              "      <td>22.8</td>\n",
              "      <td>11.7</td>\n",
              "      <td>11.7</td>\n",
              "    </tr>\n",
              "    <tr>\n",
              "      <th>4</th>\n",
              "      <td>2018-10-05</td>\n",
              "      <td>23.3</td>\n",
              "      <td>11.7</td>\n",
              "      <td>18.9</td>\n",
              "    </tr>\n",
              "  </tbody>\n",
              "</table>\n",
              "</div>"
            ],
            "text/plain": [
              "        date  TMAX  TMIN  TOBS\n",
              "0 2018-10-01  21.1   8.9  13.9\n",
              "1 2018-10-02  23.9  13.9  17.2\n",
              "2 2018-10-03  25.0  15.6  16.1\n",
              "3 2018-10-04  22.8  11.7  11.7\n",
              "4 2018-10-05  23.3  11.7  18.9"
            ]
          },
          "metadata": {
            "tags": []
          },
          "execution_count": 12
        }
      ]
    },
    {
      "cell_type": "code",
      "metadata": {
        "colab": {
          "base_uri": "https://localhost:8080/"
        },
        "id": "sRWpcNjxvLPW",
        "outputId": "0fa3399d-b993-48c1-de0a-541f3ffb7f3c"
      },
      "source": [
        "wide_df.date.describe()"
      ],
      "execution_count": null,
      "outputs": [
        {
          "output_type": "stream",
          "text": [
            "/usr/local/lib/python3.7/dist-packages/ipykernel_launcher.py:1: FutureWarning: Treating datetime data as categorical rather than numeric in `.describe` is deprecated and will be removed in a future version of pandas. Specify `datetime_is_numeric=True` to silence this warning and adopt the future behavior now.\n",
            "  \"\"\"Entry point for launching an IPython kernel.\n"
          ],
          "name": "stderr"
        },
        {
          "output_type": "execute_result",
          "data": {
            "text/plain": [
              "count                      31\n",
              "unique                     31\n",
              "top       2018-10-01 00:00:00\n",
              "freq                        1\n",
              "first     2018-10-01 00:00:00\n",
              "last      2018-10-31 00:00:00\n",
              "Name: date, dtype: object"
            ]
          },
          "metadata": {
            "tags": []
          },
          "execution_count": 13
        }
      ]
    },
    {
      "cell_type": "code",
      "metadata": {
        "colab": {
          "base_uri": "https://localhost:8080/"
        },
        "id": "vuppFlR0vWEL",
        "outputId": "23b0c69a-1587-4d5b-803b-306f2decf8c0"
      },
      "source": [
        "# comprobamos que cuando utilizamos parse_dates, convertimos str a datetime64\n",
        "wide_df.dtypes"
      ],
      "execution_count": null,
      "outputs": [
        {
          "output_type": "execute_result",
          "data": {
            "text/plain": [
              "date    datetime64[ns]\n",
              "TMAX           float64\n",
              "TMIN           float64\n",
              "TOBS           float64\n",
              "dtype: object"
            ]
          },
          "metadata": {
            "tags": []
          },
          "execution_count": 14
        }
      ]
    },
    {
      "cell_type": "code",
      "metadata": {
        "colab": {
          "base_uri": "https://localhost:8080/",
          "height": 206
        },
        "id": "NjWwVlyjvlPg",
        "outputId": "c14da016-1489-4ed7-9f53-88525c2a84ec"
      },
      "source": [
        "wide_df.head()"
      ],
      "execution_count": null,
      "outputs": [
        {
          "output_type": "execute_result",
          "data": {
            "text/html": [
              "<div>\n",
              "<style scoped>\n",
              "    .dataframe tbody tr th:only-of-type {\n",
              "        vertical-align: middle;\n",
              "    }\n",
              "\n",
              "    .dataframe tbody tr th {\n",
              "        vertical-align: top;\n",
              "    }\n",
              "\n",
              "    .dataframe thead th {\n",
              "        text-align: right;\n",
              "    }\n",
              "</style>\n",
              "<table border=\"1\" class=\"dataframe\">\n",
              "  <thead>\n",
              "    <tr style=\"text-align: right;\">\n",
              "      <th></th>\n",
              "      <th>date</th>\n",
              "      <th>TMAX</th>\n",
              "      <th>TMIN</th>\n",
              "      <th>TOBS</th>\n",
              "    </tr>\n",
              "  </thead>\n",
              "  <tbody>\n",
              "    <tr>\n",
              "      <th>0</th>\n",
              "      <td>2018-10-01</td>\n",
              "      <td>21.1</td>\n",
              "      <td>8.9</td>\n",
              "      <td>13.9</td>\n",
              "    </tr>\n",
              "    <tr>\n",
              "      <th>1</th>\n",
              "      <td>2018-10-02</td>\n",
              "      <td>23.9</td>\n",
              "      <td>13.9</td>\n",
              "      <td>17.2</td>\n",
              "    </tr>\n",
              "    <tr>\n",
              "      <th>2</th>\n",
              "      <td>2018-10-03</td>\n",
              "      <td>25.0</td>\n",
              "      <td>15.6</td>\n",
              "      <td>16.1</td>\n",
              "    </tr>\n",
              "    <tr>\n",
              "      <th>3</th>\n",
              "      <td>2018-10-04</td>\n",
              "      <td>22.8</td>\n",
              "      <td>11.7</td>\n",
              "      <td>11.7</td>\n",
              "    </tr>\n",
              "    <tr>\n",
              "      <th>4</th>\n",
              "      <td>2018-10-05</td>\n",
              "      <td>23.3</td>\n",
              "      <td>11.7</td>\n",
              "      <td>18.9</td>\n",
              "    </tr>\n",
              "  </tbody>\n",
              "</table>\n",
              "</div>"
            ],
            "text/plain": [
              "        date  TMAX  TMIN  TOBS\n",
              "0 2018-10-01  21.1   8.9  13.9\n",
              "1 2018-10-02  23.9  13.9  17.2\n",
              "2 2018-10-03  25.0  15.6  16.1\n",
              "3 2018-10-04  22.8  11.7  11.7\n",
              "4 2018-10-05  23.3  11.7  18.9"
            ]
          },
          "metadata": {
            "tags": []
          },
          "execution_count": 15
        }
      ]
    },
    {
      "cell_type": "code",
      "metadata": {
        "colab": {
          "base_uri": "https://localhost:8080/"
        },
        "id": "QKzxxNo-voWZ",
        "outputId": "3adf7a36-9a1d-4c3c-b44b-4bd5f0081d55"
      },
      "source": [
        "wide_df.date[0]"
      ],
      "execution_count": null,
      "outputs": [
        {
          "output_type": "execute_result",
          "data": {
            "text/plain": [
              "Timestamp('2018-10-01 00:00:00')"
            ]
          },
          "metadata": {
            "tags": []
          },
          "execution_count": 16
        }
      ]
    },
    {
      "cell_type": "code",
      "metadata": {
        "colab": {
          "base_uri": "https://localhost:8080/"
        },
        "id": "B1A2GSjIvtsW",
        "outputId": "3a5f1dcd-8007-4c7c-9aed-79bb84939ec5"
      },
      "source": [
        "type(wide_df.date[0])"
      ],
      "execution_count": null,
      "outputs": [
        {
          "output_type": "execute_result",
          "data": {
            "text/plain": [
              "pandas._libs.tslibs.timestamps.Timestamp"
            ]
          },
          "metadata": {
            "tags": []
          },
          "execution_count": 17
        }
      ]
    },
    {
      "cell_type": "code",
      "metadata": {
        "colab": {
          "base_uri": "https://localhost:8080/",
          "height": 424
        },
        "id": "A8zjPYG_v9y8",
        "outputId": "ba4fea53-17ea-4a2c-902a-9b72a0f2bfea"
      },
      "source": [
        "# Long dataframe\n",
        "long_df = pd.read_csv(\"https://raw.githubusercontent.com/marcusRB/The_Bridge_School_DataScience_PT/main/02_DataAnalysis/dataset/long_data.csv\")\n",
        "long_df"
      ],
      "execution_count": null,
      "outputs": [
        {
          "output_type": "execute_result",
          "data": {
            "text/html": [
              "<div>\n",
              "<style scoped>\n",
              "    .dataframe tbody tr th:only-of-type {\n",
              "        vertical-align: middle;\n",
              "    }\n",
              "\n",
              "    .dataframe tbody tr th {\n",
              "        vertical-align: top;\n",
              "    }\n",
              "\n",
              "    .dataframe thead th {\n",
              "        text-align: right;\n",
              "    }\n",
              "</style>\n",
              "<table border=\"1\" class=\"dataframe\">\n",
              "  <thead>\n",
              "    <tr style=\"text-align: right;\">\n",
              "      <th></th>\n",
              "      <th>attributes</th>\n",
              "      <th>datatype</th>\n",
              "      <th>date</th>\n",
              "      <th>station</th>\n",
              "      <th>value</th>\n",
              "    </tr>\n",
              "  </thead>\n",
              "  <tbody>\n",
              "    <tr>\n",
              "      <th>0</th>\n",
              "      <td>,,H,0700</td>\n",
              "      <td>TMAX</td>\n",
              "      <td>2018-10-01T00:00:00</td>\n",
              "      <td>GHCND:USC00280907</td>\n",
              "      <td>21.1</td>\n",
              "    </tr>\n",
              "    <tr>\n",
              "      <th>1</th>\n",
              "      <td>,,H,0700</td>\n",
              "      <td>TMIN</td>\n",
              "      <td>2018-10-01T00:00:00</td>\n",
              "      <td>GHCND:USC00280907</td>\n",
              "      <td>8.9</td>\n",
              "    </tr>\n",
              "    <tr>\n",
              "      <th>2</th>\n",
              "      <td>,,H,0700</td>\n",
              "      <td>TOBS</td>\n",
              "      <td>2018-10-01T00:00:00</td>\n",
              "      <td>GHCND:USC00280907</td>\n",
              "      <td>13.9</td>\n",
              "    </tr>\n",
              "    <tr>\n",
              "      <th>3</th>\n",
              "      <td>,,H,0700</td>\n",
              "      <td>TMAX</td>\n",
              "      <td>2018-10-02T00:00:00</td>\n",
              "      <td>GHCND:USC00280907</td>\n",
              "      <td>23.9</td>\n",
              "    </tr>\n",
              "    <tr>\n",
              "      <th>4</th>\n",
              "      <td>,,H,0700</td>\n",
              "      <td>TMIN</td>\n",
              "      <td>2018-10-02T00:00:00</td>\n",
              "      <td>GHCND:USC00280907</td>\n",
              "      <td>13.9</td>\n",
              "    </tr>\n",
              "    <tr>\n",
              "      <th>...</th>\n",
              "      <td>...</td>\n",
              "      <td>...</td>\n",
              "      <td>...</td>\n",
              "      <td>...</td>\n",
              "      <td>...</td>\n",
              "    </tr>\n",
              "    <tr>\n",
              "      <th>88</th>\n",
              "      <td>,,H,0700</td>\n",
              "      <td>TMIN</td>\n",
              "      <td>2018-10-30T00:00:00</td>\n",
              "      <td>GHCND:USC00280907</td>\n",
              "      <td>2.2</td>\n",
              "    </tr>\n",
              "    <tr>\n",
              "      <th>89</th>\n",
              "      <td>,,H,0700</td>\n",
              "      <td>TOBS</td>\n",
              "      <td>2018-10-30T00:00:00</td>\n",
              "      <td>GHCND:USC00280907</td>\n",
              "      <td>5.0</td>\n",
              "    </tr>\n",
              "    <tr>\n",
              "      <th>90</th>\n",
              "      <td>,,H,0700</td>\n",
              "      <td>TMAX</td>\n",
              "      <td>2018-10-31T00:00:00</td>\n",
              "      <td>GHCND:USC00280907</td>\n",
              "      <td>12.2</td>\n",
              "    </tr>\n",
              "    <tr>\n",
              "      <th>91</th>\n",
              "      <td>,,H,0700</td>\n",
              "      <td>TMIN</td>\n",
              "      <td>2018-10-31T00:00:00</td>\n",
              "      <td>GHCND:USC00280907</td>\n",
              "      <td>0.0</td>\n",
              "    </tr>\n",
              "    <tr>\n",
              "      <th>92</th>\n",
              "      <td>,,H,0700</td>\n",
              "      <td>TOBS</td>\n",
              "      <td>2018-10-31T00:00:00</td>\n",
              "      <td>GHCND:USC00280907</td>\n",
              "      <td>0.0</td>\n",
              "    </tr>\n",
              "  </tbody>\n",
              "</table>\n",
              "<p>93 rows × 5 columns</p>\n",
              "</div>"
            ],
            "text/plain": [
              "   attributes datatype                 date            station  value\n",
              "0    ,,H,0700     TMAX  2018-10-01T00:00:00  GHCND:USC00280907   21.1\n",
              "1    ,,H,0700     TMIN  2018-10-01T00:00:00  GHCND:USC00280907    8.9\n",
              "2    ,,H,0700     TOBS  2018-10-01T00:00:00  GHCND:USC00280907   13.9\n",
              "3    ,,H,0700     TMAX  2018-10-02T00:00:00  GHCND:USC00280907   23.9\n",
              "4    ,,H,0700     TMIN  2018-10-02T00:00:00  GHCND:USC00280907   13.9\n",
              "..        ...      ...                  ...                ...    ...\n",
              "88   ,,H,0700     TMIN  2018-10-30T00:00:00  GHCND:USC00280907    2.2\n",
              "89   ,,H,0700     TOBS  2018-10-30T00:00:00  GHCND:USC00280907    5.0\n",
              "90   ,,H,0700     TMAX  2018-10-31T00:00:00  GHCND:USC00280907   12.2\n",
              "91   ,,H,0700     TMIN  2018-10-31T00:00:00  GHCND:USC00280907    0.0\n",
              "92   ,,H,0700     TOBS  2018-10-31T00:00:00  GHCND:USC00280907    0.0\n",
              "\n",
              "[93 rows x 5 columns]"
            ]
          },
          "metadata": {
            "tags": []
          },
          "execution_count": 18
        }
      ]
    },
    {
      "cell_type": "code",
      "metadata": {
        "colab": {
          "base_uri": "https://localhost:8080/",
          "height": 424
        },
        "id": "5rv3GB78wbFB",
        "outputId": "7572d32c-ce07-475a-9f35-a8435926666a"
      },
      "source": [
        "# Una forma de manipular los datos en su formato largo, donde los valores son repetedidos por eje. por fecha\n",
        "long_df = pd.read_csv(\"https://raw.githubusercontent.com/marcusRB/The_Bridge_School_DataScience_PT/main/02_DataAnalysis/dataset/long_data.csv\",\n",
        "                      usecols=['date','datatype','value'],\n",
        "                      parse_dates=['date'])\n",
        "long_df"
      ],
      "execution_count": null,
      "outputs": [
        {
          "output_type": "execute_result",
          "data": {
            "text/html": [
              "<div>\n",
              "<style scoped>\n",
              "    .dataframe tbody tr th:only-of-type {\n",
              "        vertical-align: middle;\n",
              "    }\n",
              "\n",
              "    .dataframe tbody tr th {\n",
              "        vertical-align: top;\n",
              "    }\n",
              "\n",
              "    .dataframe thead th {\n",
              "        text-align: right;\n",
              "    }\n",
              "</style>\n",
              "<table border=\"1\" class=\"dataframe\">\n",
              "  <thead>\n",
              "    <tr style=\"text-align: right;\">\n",
              "      <th></th>\n",
              "      <th>datatype</th>\n",
              "      <th>date</th>\n",
              "      <th>value</th>\n",
              "    </tr>\n",
              "  </thead>\n",
              "  <tbody>\n",
              "    <tr>\n",
              "      <th>0</th>\n",
              "      <td>TMAX</td>\n",
              "      <td>2018-10-01</td>\n",
              "      <td>21.1</td>\n",
              "    </tr>\n",
              "    <tr>\n",
              "      <th>1</th>\n",
              "      <td>TMIN</td>\n",
              "      <td>2018-10-01</td>\n",
              "      <td>8.9</td>\n",
              "    </tr>\n",
              "    <tr>\n",
              "      <th>2</th>\n",
              "      <td>TOBS</td>\n",
              "      <td>2018-10-01</td>\n",
              "      <td>13.9</td>\n",
              "    </tr>\n",
              "    <tr>\n",
              "      <th>3</th>\n",
              "      <td>TMAX</td>\n",
              "      <td>2018-10-02</td>\n",
              "      <td>23.9</td>\n",
              "    </tr>\n",
              "    <tr>\n",
              "      <th>4</th>\n",
              "      <td>TMIN</td>\n",
              "      <td>2018-10-02</td>\n",
              "      <td>13.9</td>\n",
              "    </tr>\n",
              "    <tr>\n",
              "      <th>...</th>\n",
              "      <td>...</td>\n",
              "      <td>...</td>\n",
              "      <td>...</td>\n",
              "    </tr>\n",
              "    <tr>\n",
              "      <th>88</th>\n",
              "      <td>TMIN</td>\n",
              "      <td>2018-10-30</td>\n",
              "      <td>2.2</td>\n",
              "    </tr>\n",
              "    <tr>\n",
              "      <th>89</th>\n",
              "      <td>TOBS</td>\n",
              "      <td>2018-10-30</td>\n",
              "      <td>5.0</td>\n",
              "    </tr>\n",
              "    <tr>\n",
              "      <th>90</th>\n",
              "      <td>TMAX</td>\n",
              "      <td>2018-10-31</td>\n",
              "      <td>12.2</td>\n",
              "    </tr>\n",
              "    <tr>\n",
              "      <th>91</th>\n",
              "      <td>TMIN</td>\n",
              "      <td>2018-10-31</td>\n",
              "      <td>0.0</td>\n",
              "    </tr>\n",
              "    <tr>\n",
              "      <th>92</th>\n",
              "      <td>TOBS</td>\n",
              "      <td>2018-10-31</td>\n",
              "      <td>0.0</td>\n",
              "    </tr>\n",
              "  </tbody>\n",
              "</table>\n",
              "<p>93 rows × 3 columns</p>\n",
              "</div>"
            ],
            "text/plain": [
              "   datatype       date  value\n",
              "0      TMAX 2018-10-01   21.1\n",
              "1      TMIN 2018-10-01    8.9\n",
              "2      TOBS 2018-10-01   13.9\n",
              "3      TMAX 2018-10-02   23.9\n",
              "4      TMIN 2018-10-02   13.9\n",
              "..      ...        ...    ...\n",
              "88     TMIN 2018-10-30    2.2\n",
              "89     TOBS 2018-10-30    5.0\n",
              "90     TMAX 2018-10-31   12.2\n",
              "91     TMIN 2018-10-31    0.0\n",
              "92     TOBS 2018-10-31    0.0\n",
              "\n",
              "[93 rows x 3 columns]"
            ]
          },
          "metadata": {
            "tags": []
          },
          "execution_count": 19
        }
      ]
    },
    {
      "cell_type": "code",
      "metadata": {
        "colab": {
          "base_uri": "https://localhost:8080/",
          "height": 424
        },
        "id": "ONC_InZSxAHE",
        "outputId": "025d8de1-d6d0-4f99-9367-eba1f747f5aa"
      },
      "source": [
        "# Una forma de manipular los datos en su formato largo, donde los valores son repetedidos por eje. por fecha\n",
        "long_df = pd.read_csv(\"https://raw.githubusercontent.com/marcusRB/The_Bridge_School_DataScience_PT/main/02_DataAnalysis/dataset/long_data.csv\",\n",
        "                      usecols=['date','datatype','value'],\n",
        "                      parse_dates=['date'])[['date','datatype','value']] #ordena las columnas\n",
        "long_df"
      ],
      "execution_count": null,
      "outputs": [
        {
          "output_type": "execute_result",
          "data": {
            "text/html": [
              "<div>\n",
              "<style scoped>\n",
              "    .dataframe tbody tr th:only-of-type {\n",
              "        vertical-align: middle;\n",
              "    }\n",
              "\n",
              "    .dataframe tbody tr th {\n",
              "        vertical-align: top;\n",
              "    }\n",
              "\n",
              "    .dataframe thead th {\n",
              "        text-align: right;\n",
              "    }\n",
              "</style>\n",
              "<table border=\"1\" class=\"dataframe\">\n",
              "  <thead>\n",
              "    <tr style=\"text-align: right;\">\n",
              "      <th></th>\n",
              "      <th>date</th>\n",
              "      <th>datatype</th>\n",
              "      <th>value</th>\n",
              "    </tr>\n",
              "  </thead>\n",
              "  <tbody>\n",
              "    <tr>\n",
              "      <th>0</th>\n",
              "      <td>2018-10-01</td>\n",
              "      <td>TMAX</td>\n",
              "      <td>21.1</td>\n",
              "    </tr>\n",
              "    <tr>\n",
              "      <th>1</th>\n",
              "      <td>2018-10-01</td>\n",
              "      <td>TMIN</td>\n",
              "      <td>8.9</td>\n",
              "    </tr>\n",
              "    <tr>\n",
              "      <th>2</th>\n",
              "      <td>2018-10-01</td>\n",
              "      <td>TOBS</td>\n",
              "      <td>13.9</td>\n",
              "    </tr>\n",
              "    <tr>\n",
              "      <th>3</th>\n",
              "      <td>2018-10-02</td>\n",
              "      <td>TMAX</td>\n",
              "      <td>23.9</td>\n",
              "    </tr>\n",
              "    <tr>\n",
              "      <th>4</th>\n",
              "      <td>2018-10-02</td>\n",
              "      <td>TMIN</td>\n",
              "      <td>13.9</td>\n",
              "    </tr>\n",
              "    <tr>\n",
              "      <th>...</th>\n",
              "      <td>...</td>\n",
              "      <td>...</td>\n",
              "      <td>...</td>\n",
              "    </tr>\n",
              "    <tr>\n",
              "      <th>88</th>\n",
              "      <td>2018-10-30</td>\n",
              "      <td>TMIN</td>\n",
              "      <td>2.2</td>\n",
              "    </tr>\n",
              "    <tr>\n",
              "      <th>89</th>\n",
              "      <td>2018-10-30</td>\n",
              "      <td>TOBS</td>\n",
              "      <td>5.0</td>\n",
              "    </tr>\n",
              "    <tr>\n",
              "      <th>90</th>\n",
              "      <td>2018-10-31</td>\n",
              "      <td>TMAX</td>\n",
              "      <td>12.2</td>\n",
              "    </tr>\n",
              "    <tr>\n",
              "      <th>91</th>\n",
              "      <td>2018-10-31</td>\n",
              "      <td>TMIN</td>\n",
              "      <td>0.0</td>\n",
              "    </tr>\n",
              "    <tr>\n",
              "      <th>92</th>\n",
              "      <td>2018-10-31</td>\n",
              "      <td>TOBS</td>\n",
              "      <td>0.0</td>\n",
              "    </tr>\n",
              "  </tbody>\n",
              "</table>\n",
              "<p>93 rows × 3 columns</p>\n",
              "</div>"
            ],
            "text/plain": [
              "         date datatype  value\n",
              "0  2018-10-01     TMAX   21.1\n",
              "1  2018-10-01     TMIN    8.9\n",
              "2  2018-10-01     TOBS   13.9\n",
              "3  2018-10-02     TMAX   23.9\n",
              "4  2018-10-02     TMIN   13.9\n",
              "..        ...      ...    ...\n",
              "88 2018-10-30     TMIN    2.2\n",
              "89 2018-10-30     TOBS    5.0\n",
              "90 2018-10-31     TMAX   12.2\n",
              "91 2018-10-31     TMIN    0.0\n",
              "92 2018-10-31     TOBS    0.0\n",
              "\n",
              "[93 rows x 3 columns]"
            ]
          },
          "metadata": {
            "tags": []
          },
          "execution_count": 20
        }
      ]
    },
    {
      "cell_type": "code",
      "metadata": {
        "colab": {
          "base_uri": "https://localhost:8080/",
          "height": 394
        },
        "id": "fR8ZEmCExStv",
        "outputId": "72e32f04-5fcc-49c4-f76d-1842130d4760"
      },
      "source": [
        "# Analizamos los estadísticos básicos\n",
        "long_df.describe(include='all',datetime_is_numeric=True) # describir las columnas con otros parámetros"
      ],
      "execution_count": null,
      "outputs": [
        {
          "output_type": "execute_result",
          "data": {
            "text/html": [
              "<div>\n",
              "<style scoped>\n",
              "    .dataframe tbody tr th:only-of-type {\n",
              "        vertical-align: middle;\n",
              "    }\n",
              "\n",
              "    .dataframe tbody tr th {\n",
              "        vertical-align: top;\n",
              "    }\n",
              "\n",
              "    .dataframe thead th {\n",
              "        text-align: right;\n",
              "    }\n",
              "</style>\n",
              "<table border=\"1\" class=\"dataframe\">\n",
              "  <thead>\n",
              "    <tr style=\"text-align: right;\">\n",
              "      <th></th>\n",
              "      <th>date</th>\n",
              "      <th>datatype</th>\n",
              "      <th>value</th>\n",
              "    </tr>\n",
              "  </thead>\n",
              "  <tbody>\n",
              "    <tr>\n",
              "      <th>count</th>\n",
              "      <td>93</td>\n",
              "      <td>93</td>\n",
              "      <td>93.000000</td>\n",
              "    </tr>\n",
              "    <tr>\n",
              "      <th>unique</th>\n",
              "      <td>NaN</td>\n",
              "      <td>3</td>\n",
              "      <td>NaN</td>\n",
              "    </tr>\n",
              "    <tr>\n",
              "      <th>top</th>\n",
              "      <td>NaN</td>\n",
              "      <td>TMAX</td>\n",
              "      <td>NaN</td>\n",
              "    </tr>\n",
              "    <tr>\n",
              "      <th>freq</th>\n",
              "      <td>NaN</td>\n",
              "      <td>31</td>\n",
              "      <td>NaN</td>\n",
              "    </tr>\n",
              "    <tr>\n",
              "      <th>mean</th>\n",
              "      <td>2018-10-16 00:00:00</td>\n",
              "      <td>NaN</td>\n",
              "      <td>11.470968</td>\n",
              "    </tr>\n",
              "    <tr>\n",
              "      <th>min</th>\n",
              "      <td>2018-10-01 00:00:00</td>\n",
              "      <td>NaN</td>\n",
              "      <td>-1.100000</td>\n",
              "    </tr>\n",
              "    <tr>\n",
              "      <th>25%</th>\n",
              "      <td>2018-10-08 00:00:00</td>\n",
              "      <td>NaN</td>\n",
              "      <td>6.700000</td>\n",
              "    </tr>\n",
              "    <tr>\n",
              "      <th>50%</th>\n",
              "      <td>2018-10-16 00:00:00</td>\n",
              "      <td>NaN</td>\n",
              "      <td>11.700000</td>\n",
              "    </tr>\n",
              "    <tr>\n",
              "      <th>75%</th>\n",
              "      <td>2018-10-24 00:00:00</td>\n",
              "      <td>NaN</td>\n",
              "      <td>17.200000</td>\n",
              "    </tr>\n",
              "    <tr>\n",
              "      <th>max</th>\n",
              "      <td>2018-10-31 00:00:00</td>\n",
              "      <td>NaN</td>\n",
              "      <td>26.700000</td>\n",
              "    </tr>\n",
              "    <tr>\n",
              "      <th>std</th>\n",
              "      <td>NaN</td>\n",
              "      <td>NaN</td>\n",
              "      <td>7.362354</td>\n",
              "    </tr>\n",
              "  </tbody>\n",
              "</table>\n",
              "</div>"
            ],
            "text/plain": [
              "                       date datatype      value\n",
              "count                    93       93  93.000000\n",
              "unique                  NaN        3        NaN\n",
              "top                     NaN     TMAX        NaN\n",
              "freq                    NaN       31        NaN\n",
              "mean    2018-10-16 00:00:00      NaN  11.470968\n",
              "min     2018-10-01 00:00:00      NaN  -1.100000\n",
              "25%     2018-10-08 00:00:00      NaN   6.700000\n",
              "50%     2018-10-16 00:00:00      NaN  11.700000\n",
              "75%     2018-10-24 00:00:00      NaN  17.200000\n",
              "max     2018-10-31 00:00:00      NaN  26.700000\n",
              "std                     NaN      NaN   7.362354"
            ]
          },
          "metadata": {
            "tags": []
          },
          "execution_count": 22
        }
      ]
    },
    {
      "cell_type": "code",
      "metadata": {
        "colab": {
          "base_uri": "https://localhost:8080/",
          "height": 462
        },
        "id": "aJLbXvr_xuxH",
        "outputId": "c46bab0e-500f-4cc3-f233-9c9dbe24c197"
      },
      "source": [
        "# representación gráfica\n",
        "wide_df.plot(\n",
        "    x='date',\n",
        "    y=['TMAX','TMIN','TOBS'],\n",
        "    figsize=(20,10),\n",
        "    title='Temperatura en NYC en Octubre 2018'\n",
        ").set_ylabel('Temperatura en Celsius')\n",
        "plt.show"
      ],
      "execution_count": null,
      "outputs": [
        {
          "output_type": "execute_result",
          "data": {
            "text/plain": [
              "<function matplotlib.pyplot.show>"
            ]
          },
          "metadata": {
            "tags": []
          },
          "execution_count": 23
        },
        {
          "output_type": "display_data",
          "data": {
            "image/png": "[encoded data removed]",
            "text/plain": [
              "<Figure size 1440x720 with 1 Axes>"
            ]
          },
          "metadata": {
            "tags": [],
            "needs_background": "light"
          }
        }
      ]
    },
    {
      "cell_type": "code",
      "metadata": {
        "colab": {
          "base_uri": "https://localhost:8080/",
          "height": 394
        },
        "id": "hL-iD_QWzNUf",
        "outputId": "a3866a43-58b9-44c8-8232-0083e0980a81"
      },
      "source": [
        "# Al utilizar describe con long_df vamos a observar incogruencias con los datos\n",
        "long_df.describe(include='all', datetime_is_numeric=True)"
      ],
      "execution_count": null,
      "outputs": [
        {
          "output_type": "execute_result",
          "data": {
            "text/html": [
              "<div>\n",
              "<style scoped>\n",
              "    .dataframe tbody tr th:only-of-type {\n",
              "        vertical-align: middle;\n",
              "    }\n",
              "\n",
              "    .dataframe tbody tr th {\n",
              "        vertical-align: top;\n",
              "    }\n",
              "\n",
              "    .dataframe thead th {\n",
              "        text-align: right;\n",
              "    }\n",
              "</style>\n",
              "<table border=\"1\" class=\"dataframe\">\n",
              "  <thead>\n",
              "    <tr style=\"text-align: right;\">\n",
              "      <th></th>\n",
              "      <th>date</th>\n",
              "      <th>datatype</th>\n",
              "      <th>value</th>\n",
              "    </tr>\n",
              "  </thead>\n",
              "  <tbody>\n",
              "    <tr>\n",
              "      <th>count</th>\n",
              "      <td>93</td>\n",
              "      <td>93</td>\n",
              "      <td>93.000000</td>\n",
              "    </tr>\n",
              "    <tr>\n",
              "      <th>unique</th>\n",
              "      <td>NaN</td>\n",
              "      <td>3</td>\n",
              "      <td>NaN</td>\n",
              "    </tr>\n",
              "    <tr>\n",
              "      <th>top</th>\n",
              "      <td>NaN</td>\n",
              "      <td>TMAX</td>\n",
              "      <td>NaN</td>\n",
              "    </tr>\n",
              "    <tr>\n",
              "      <th>freq</th>\n",
              "      <td>NaN</td>\n",
              "      <td>31</td>\n",
              "      <td>NaN</td>\n",
              "    </tr>\n",
              "    <tr>\n",
              "      <th>mean</th>\n",
              "      <td>2018-10-16 00:00:00</td>\n",
              "      <td>NaN</td>\n",
              "      <td>11.470968</td>\n",
              "    </tr>\n",
              "    <tr>\n",
              "      <th>min</th>\n",
              "      <td>2018-10-01 00:00:00</td>\n",
              "      <td>NaN</td>\n",
              "      <td>-1.100000</td>\n",
              "    </tr>\n",
              "    <tr>\n",
              "      <th>25%</th>\n",
              "      <td>2018-10-08 00:00:00</td>\n",
              "      <td>NaN</td>\n",
              "      <td>6.700000</td>\n",
              "    </tr>\n",
              "    <tr>\n",
              "      <th>50%</th>\n",
              "      <td>2018-10-16 00:00:00</td>\n",
              "      <td>NaN</td>\n",
              "      <td>11.700000</td>\n",
              "    </tr>\n",
              "    <tr>\n",
              "      <th>75%</th>\n",
              "      <td>2018-10-24 00:00:00</td>\n",
              "      <td>NaN</td>\n",
              "      <td>17.200000</td>\n",
              "    </tr>\n",
              "    <tr>\n",
              "      <th>max</th>\n",
              "      <td>2018-10-31 00:00:00</td>\n",
              "      <td>NaN</td>\n",
              "      <td>26.700000</td>\n",
              "    </tr>\n",
              "    <tr>\n",
              "      <th>std</th>\n",
              "      <td>NaN</td>\n",
              "      <td>NaN</td>\n",
              "      <td>7.362354</td>\n",
              "    </tr>\n",
              "  </tbody>\n",
              "</table>\n",
              "</div>"
            ],
            "text/plain": [
              "                       date datatype      value\n",
              "count                    93       93  93.000000\n",
              "unique                  NaN        3        NaN\n",
              "top                     NaN     TMAX        NaN\n",
              "freq                    NaN       31        NaN\n",
              "mean    2018-10-16 00:00:00      NaN  11.470968\n",
              "min     2018-10-01 00:00:00      NaN  -1.100000\n",
              "25%     2018-10-08 00:00:00      NaN   6.700000\n",
              "50%     2018-10-16 00:00:00      NaN  11.700000\n",
              "75%     2018-10-24 00:00:00      NaN  17.200000\n",
              "max     2018-10-31 00:00:00      NaN  26.700000\n",
              "std                     NaN      NaN   7.362354"
            ]
          },
          "metadata": {
            "tags": []
          },
          "execution_count": 24
        }
      ]
    },
    {
      "cell_type": "code",
      "metadata": {
        "colab": {
          "base_uri": "https://localhost:8080/",
          "height": 435
        },
        "id": "OoLtR9rLztuM",
        "outputId": "833ab141-d3b9-401a-b1d7-aac9ffb30e80"
      },
      "source": [
        "# La representación gráfica con Matplotlib resulta complicada en realizar con long_df\n",
        "# UTilizaremos seabonr\n",
        "import seaborn as sns\n",
        "sns.set(rc={'figure.figsize':(20,10)}, style='white')\n",
        "ax = sns.lineplot(\n",
        "    data=long_df, \n",
        "    x='date',\n",
        "    y='value',\n",
        "    hue='datatype'\n",
        ")\n",
        "ax.set_ylabel('Temperatura en Celsisu')\n",
        "ax.set_title(\"Temperatura en NYC en Octubre 2018\")\n",
        "plt.show"
      ],
      "execution_count": null,
      "outputs": [
        {
          "output_type": "execute_result",
          "data": {
            "text/plain": [
              "<function matplotlib.pyplot.show>"
            ]
          },
          "metadata": {
            "tags": []
          },
          "execution_count": 25
        },
        {
          "output_type": "display_data",
          "data": {
            "image/png": "[encoded data removed]",
            "text/plain": [
              "<Figure size 1440x720 with 1 Axes>"
            ]
          },
          "metadata": {
            "tags": []
          }
        }
      ]
    },
    {
      "cell_type": "code",
      "metadata": {
        "colab": {
          "base_uri": "https://localhost:8080/",
          "height": 299
        },
        "id": "J1IRMj2n02gj",
        "outputId": "61510312-e333-4395-a4bf-6d4a775fd013"
      },
      "source": [
        "# También podemos con seaborn separar por grid o pantallas\n",
        "sns.set(\n",
        "    rc={'figure.figsize':(20,10)}, style='white',font_scale=2\n",
        ")\n",
        "g = sns.FacetGrid(long_df,\n",
        "                  col='datatype',\n",
        "                  height=10)\n",
        "g = g.map(plt.plot, 'date', 'value')\n",
        "g.set_titles(size=25)\n",
        "g.set_xticklabels(rotation=45)\n",
        "plt.show()"
      ],
      "execution_count": null,
      "outputs": [
        {
          "output_type": "display_data",
          "data": {
            "image/png": "[encoded data removed]",
            "text/plain": [
              "<Figure size 2160x720 with 3 Axes>"
            ]
          },
          "metadata": {
            "tags": []
          }
        }
      ]
    },
    {
      "cell_type": "markdown",
      "metadata": {
        "id": "j_lpuqiL_ZAV"
      },
      "source": [
        "## Reshaping Data"
      ]
    },
    {
      "cell_type": "code",
      "metadata": {
        "id": "hkOpoSiU_dQ3"
      },
      "source": [
        "import pandas as pd\n",
        "long_df = pd.read_csv(\"https://raw.githubusercontent.com/marcusRB/The_Bridge_School_DataScience_PT/main/02_DataAnalysis/dataset/long_data.csv\",\n",
        "                      usecols=['date','datatype','value']).rename(\n",
        "                          columns={'value':'temp_C'}\n",
        "                      ).assign(\n",
        "                          date=lambda x: pd.to_datetime(x.date),\n",
        "                          temp_F=lambda x: (x.temp_C * 9/5)+32\n",
        "                      )"
      ],
      "execution_count": null,
      "outputs": []
    },
    {
      "cell_type": "code",
      "metadata": {
        "colab": {
          "base_uri": "https://localhost:8080/",
          "height": 206
        },
        "id": "LuIS050__8Hc",
        "outputId": "0fd2da3f-5f67-4bb0-f700-4d71c81fa241"
      },
      "source": [
        "long_df.head()"
      ],
      "execution_count": null,
      "outputs": [
        {
          "output_type": "execute_result",
          "data": {
            "text/html": [
              "<div>\n",
              "<style scoped>\n",
              "    .dataframe tbody tr th:only-of-type {\n",
              "        vertical-align: middle;\n",
              "    }\n",
              "\n",
              "    .dataframe tbody tr th {\n",
              "        vertical-align: top;\n",
              "    }\n",
              "\n",
              "    .dataframe thead th {\n",
              "        text-align: right;\n",
              "    }\n",
              "</style>\n",
              "<table border=\"1\" class=\"dataframe\">\n",
              "  <thead>\n",
              "    <tr style=\"text-align: right;\">\n",
              "      <th></th>\n",
              "      <th>datatype</th>\n",
              "      <th>date</th>\n",
              "      <th>temp_C</th>\n",
              "      <th>temp_F</th>\n",
              "    </tr>\n",
              "  </thead>\n",
              "  <tbody>\n",
              "    <tr>\n",
              "      <th>0</th>\n",
              "      <td>TMAX</td>\n",
              "      <td>2018-10-01</td>\n",
              "      <td>21.1</td>\n",
              "      <td>69.98</td>\n",
              "    </tr>\n",
              "    <tr>\n",
              "      <th>1</th>\n",
              "      <td>TMIN</td>\n",
              "      <td>2018-10-01</td>\n",
              "      <td>8.9</td>\n",
              "      <td>48.02</td>\n",
              "    </tr>\n",
              "    <tr>\n",
              "      <th>2</th>\n",
              "      <td>TOBS</td>\n",
              "      <td>2018-10-01</td>\n",
              "      <td>13.9</td>\n",
              "      <td>57.02</td>\n",
              "    </tr>\n",
              "    <tr>\n",
              "      <th>3</th>\n",
              "      <td>TMAX</td>\n",
              "      <td>2018-10-02</td>\n",
              "      <td>23.9</td>\n",
              "      <td>75.02</td>\n",
              "    </tr>\n",
              "    <tr>\n",
              "      <th>4</th>\n",
              "      <td>TMIN</td>\n",
              "      <td>2018-10-02</td>\n",
              "      <td>13.9</td>\n",
              "      <td>57.02</td>\n",
              "    </tr>\n",
              "  </tbody>\n",
              "</table>\n",
              "</div>"
            ],
            "text/plain": [
              "  datatype       date  temp_C  temp_F\n",
              "0     TMAX 2018-10-01    21.1   69.98\n",
              "1     TMIN 2018-10-01     8.9   48.02\n",
              "2     TOBS 2018-10-01    13.9   57.02\n",
              "3     TMAX 2018-10-02    23.9   75.02\n",
              "4     TMIN 2018-10-02    13.9   57.02"
            ]
          },
          "metadata": {
            "tags": []
          },
          "execution_count": 29
        }
      ]
    },
    {
      "cell_type": "markdown",
      "metadata": {
        "id": "a9POWLvWAJGa"
      },
      "source": [
        "## Transpose\n",
        "utiliza la función `T` para cambiar columnas por filas"
      ]
    },
    {
      "cell_type": "code",
      "metadata": {
        "colab": {
          "base_uri": "https://localhost:8080/",
          "height": 143
        },
        "id": "Mlfr_xl6AQCZ",
        "outputId": "15532af8-f30c-49d3-ad0e-d53ea7a199a7"
      },
      "source": [
        "long_df.set_index('date').head(6).T"
      ],
      "execution_count": null,
      "outputs": [
        {
          "output_type": "execute_result",
          "data": {
            "text/html": [
              "<div>\n",
              "<style scoped>\n",
              "    .dataframe tbody tr th:only-of-type {\n",
              "        vertical-align: middle;\n",
              "    }\n",
              "\n",
              "    .dataframe tbody tr th {\n",
              "        vertical-align: top;\n",
              "    }\n",
              "\n",
              "    .dataframe thead th {\n",
              "        text-align: right;\n",
              "    }\n",
              "</style>\n",
              "<table border=\"1\" class=\"dataframe\">\n",
              "  <thead>\n",
              "    <tr style=\"text-align: right;\">\n",
              "      <th>date</th>\n",
              "      <th>2018-10-01</th>\n",
              "      <th>2018-10-01</th>\n",
              "      <th>2018-10-01</th>\n",
              "      <th>2018-10-02</th>\n",
              "      <th>2018-10-02</th>\n",
              "      <th>2018-10-02</th>\n",
              "    </tr>\n",
              "  </thead>\n",
              "  <tbody>\n",
              "    <tr>\n",
              "      <th>datatype</th>\n",
              "      <td>TMAX</td>\n",
              "      <td>TMIN</td>\n",
              "      <td>TOBS</td>\n",
              "      <td>TMAX</td>\n",
              "      <td>TMIN</td>\n",
              "      <td>TOBS</td>\n",
              "    </tr>\n",
              "    <tr>\n",
              "      <th>temp_C</th>\n",
              "      <td>21.1</td>\n",
              "      <td>8.9</td>\n",
              "      <td>13.9</td>\n",
              "      <td>23.9</td>\n",
              "      <td>13.9</td>\n",
              "      <td>17.2</td>\n",
              "    </tr>\n",
              "    <tr>\n",
              "      <th>temp_F</th>\n",
              "      <td>69.98</td>\n",
              "      <td>48.02</td>\n",
              "      <td>57.02</td>\n",
              "      <td>75.02</td>\n",
              "      <td>57.02</td>\n",
              "      <td>62.96</td>\n",
              "    </tr>\n",
              "  </tbody>\n",
              "</table>\n",
              "</div>"
            ],
            "text/plain": [
              "date     2018-10-01 2018-10-01 2018-10-01 2018-10-02 2018-10-02 2018-10-02\n",
              "datatype       TMAX       TMIN       TOBS       TMAX       TMIN       TOBS\n",
              "temp_C         21.1        8.9       13.9       23.9       13.9       17.2\n",
              "temp_F        69.98      48.02      57.02      75.02      57.02      62.96"
            ]
          },
          "metadata": {
            "tags": []
          },
          "execution_count": 30
        }
      ]
    },
    {
      "cell_type": "code",
      "metadata": {
        "id": "QWTK3gauAVVj"
      },
      "source": [
        ""
      ],
      "execution_count": null,
      "outputs": []
    },
    {
      "cell_type": "markdown",
      "metadata": {
        "id": "5hBR4OtmAI33"
      },
      "source": [
        "## Pivoting\n",
        "\n",
        "`pivot()`"
      ]
    },
    {
      "cell_type": "code",
      "metadata": {
        "colab": {
          "base_uri": "https://localhost:8080/",
          "height": 238
        },
        "id": "hU2fWGGpADcS",
        "outputId": "f2520dac-f830-4f94-e79d-b107cd458b30"
      },
      "source": [
        "pivoted_df = long_df.pivot(\n",
        "    index='date',\n",
        "    columns='datatype',\n",
        "    values='temp_C'\n",
        ")\n",
        "pivoted_df.head()"
      ],
      "execution_count": null,
      "outputs": [
        {
          "output_type": "execute_result",
          "data": {
            "text/html": [
              "<div>\n",
              "<style scoped>\n",
              "    .dataframe tbody tr th:only-of-type {\n",
              "        vertical-align: middle;\n",
              "    }\n",
              "\n",
              "    .dataframe tbody tr th {\n",
              "        vertical-align: top;\n",
              "    }\n",
              "\n",
              "    .dataframe thead th {\n",
              "        text-align: right;\n",
              "    }\n",
              "</style>\n",
              "<table border=\"1\" class=\"dataframe\">\n",
              "  <thead>\n",
              "    <tr style=\"text-align: right;\">\n",
              "      <th>datatype</th>\n",
              "      <th>TMAX</th>\n",
              "      <th>TMIN</th>\n",
              "      <th>TOBS</th>\n",
              "    </tr>\n",
              "    <tr>\n",
              "      <th>date</th>\n",
              "      <th></th>\n",
              "      <th></th>\n",
              "      <th></th>\n",
              "    </tr>\n",
              "  </thead>\n",
              "  <tbody>\n",
              "    <tr>\n",
              "      <th>2018-10-01</th>\n",
              "      <td>21.1</td>\n",
              "      <td>8.9</td>\n",
              "      <td>13.9</td>\n",
              "    </tr>\n",
              "    <tr>\n",
              "      <th>2018-10-02</th>\n",
              "      <td>23.9</td>\n",
              "      <td>13.9</td>\n",
              "      <td>17.2</td>\n",
              "    </tr>\n",
              "    <tr>\n",
              "      <th>2018-10-03</th>\n",
              "      <td>25.0</td>\n",
              "      <td>15.6</td>\n",
              "      <td>16.1</td>\n",
              "    </tr>\n",
              "    <tr>\n",
              "      <th>2018-10-04</th>\n",
              "      <td>22.8</td>\n",
              "      <td>11.7</td>\n",
              "      <td>11.7</td>\n",
              "    </tr>\n",
              "    <tr>\n",
              "      <th>2018-10-05</th>\n",
              "      <td>23.3</td>\n",
              "      <td>11.7</td>\n",
              "      <td>18.9</td>\n",
              "    </tr>\n",
              "  </tbody>\n",
              "</table>\n",
              "</div>"
            ],
            "text/plain": [
              "datatype    TMAX  TMIN  TOBS\n",
              "date                        \n",
              "2018-10-01  21.1   8.9  13.9\n",
              "2018-10-02  23.9  13.9  17.2\n",
              "2018-10-03  25.0  15.6  16.1\n",
              "2018-10-04  22.8  11.7  11.7\n",
              "2018-10-05  23.3  11.7  18.9"
            ]
          },
          "metadata": {
            "tags": []
          },
          "execution_count": 31
        }
      ]
    },
    {
      "cell_type": "code",
      "metadata": {
        "colab": {
          "base_uri": "https://localhost:8080/",
          "height": 300
        },
        "id": "TTd6uEphA2s2",
        "outputId": "bf9935d7-f89b-4e56-c543-e95ad66f4008"
      },
      "source": [
        "pivoted_df.describe()"
      ],
      "execution_count": null,
      "outputs": [
        {
          "output_type": "execute_result",
          "data": {
            "text/html": [
              "<div>\n",
              "<style scoped>\n",
              "    .dataframe tbody tr th:only-of-type {\n",
              "        vertical-align: middle;\n",
              "    }\n",
              "\n",
              "    .dataframe tbody tr th {\n",
              "        vertical-align: top;\n",
              "    }\n",
              "\n",
              "    .dataframe thead th {\n",
              "        text-align: right;\n",
              "    }\n",
              "</style>\n",
              "<table border=\"1\" class=\"dataframe\">\n",
              "  <thead>\n",
              "    <tr style=\"text-align: right;\">\n",
              "      <th>datatype</th>\n",
              "      <th>TMAX</th>\n",
              "      <th>TMIN</th>\n",
              "      <th>TOBS</th>\n",
              "    </tr>\n",
              "  </thead>\n",
              "  <tbody>\n",
              "    <tr>\n",
              "      <th>count</th>\n",
              "      <td>31.000000</td>\n",
              "      <td>31.000000</td>\n",
              "      <td>31.000000</td>\n",
              "    </tr>\n",
              "    <tr>\n",
              "      <th>mean</th>\n",
              "      <td>16.829032</td>\n",
              "      <td>7.561290</td>\n",
              "      <td>10.022581</td>\n",
              "    </tr>\n",
              "    <tr>\n",
              "      <th>std</th>\n",
              "      <td>5.714962</td>\n",
              "      <td>6.513252</td>\n",
              "      <td>6.596550</td>\n",
              "    </tr>\n",
              "    <tr>\n",
              "      <th>min</th>\n",
              "      <td>7.800000</td>\n",
              "      <td>-1.100000</td>\n",
              "      <td>-1.100000</td>\n",
              "    </tr>\n",
              "    <tr>\n",
              "      <th>25%</th>\n",
              "      <td>12.750000</td>\n",
              "      <td>2.500000</td>\n",
              "      <td>5.550000</td>\n",
              "    </tr>\n",
              "    <tr>\n",
              "      <th>50%</th>\n",
              "      <td>16.100000</td>\n",
              "      <td>6.700000</td>\n",
              "      <td>8.300000</td>\n",
              "    </tr>\n",
              "    <tr>\n",
              "      <th>75%</th>\n",
              "      <td>21.950000</td>\n",
              "      <td>13.600000</td>\n",
              "      <td>16.100000</td>\n",
              "    </tr>\n",
              "    <tr>\n",
              "      <th>max</th>\n",
              "      <td>26.700000</td>\n",
              "      <td>17.800000</td>\n",
              "      <td>21.700000</td>\n",
              "    </tr>\n",
              "  </tbody>\n",
              "</table>\n",
              "</div>"
            ],
            "text/plain": [
              "datatype       TMAX       TMIN       TOBS\n",
              "count     31.000000  31.000000  31.000000\n",
              "mean      16.829032   7.561290  10.022581\n",
              "std        5.714962   6.513252   6.596550\n",
              "min        7.800000  -1.100000  -1.100000\n",
              "25%       12.750000   2.500000   5.550000\n",
              "50%       16.100000   6.700000   8.300000\n",
              "75%       21.950000  13.600000  16.100000\n",
              "max       26.700000  17.800000  21.700000"
            ]
          },
          "metadata": {
            "tags": []
          },
          "execution_count": 32
        }
      ]
    },
    {
      "cell_type": "code",
      "metadata": {
        "colab": {
          "base_uri": "https://localhost:8080/",
          "height": 269
        },
        "id": "BRipsBKWBA1Q",
        "outputId": "a170b118-823d-4d23-ff7e-59aa51fb8426"
      },
      "source": [
        "# Utilizaremos la función pivot() para multiples valores\n",
        "pivoted_df = long_df.pivot(\n",
        "    index='date',\n",
        "    columns='datatype',\n",
        "    values=['temp_C','temp_F']\n",
        ")\n",
        "pivoted_df.head()"
      ],
      "execution_count": null,
      "outputs": [
        {
          "output_type": "execute_result",
          "data": {
            "text/html": [
              "<div>\n",
              "<style scoped>\n",
              "    .dataframe tbody tr th:only-of-type {\n",
              "        vertical-align: middle;\n",
              "    }\n",
              "\n",
              "    .dataframe tbody tr th {\n",
              "        vertical-align: top;\n",
              "    }\n",
              "\n",
              "    .dataframe thead tr th {\n",
              "        text-align: left;\n",
              "    }\n",
              "\n",
              "    .dataframe thead tr:last-of-type th {\n",
              "        text-align: right;\n",
              "    }\n",
              "</style>\n",
              "<table border=\"1\" class=\"dataframe\">\n",
              "  <thead>\n",
              "    <tr>\n",
              "      <th></th>\n",
              "      <th colspan=\"3\" halign=\"left\">temp_C</th>\n",
              "      <th colspan=\"3\" halign=\"left\">temp_F</th>\n",
              "    </tr>\n",
              "    <tr>\n",
              "      <th>datatype</th>\n",
              "      <th>TMAX</th>\n",
              "      <th>TMIN</th>\n",
              "      <th>TOBS</th>\n",
              "      <th>TMAX</th>\n",
              "      <th>TMIN</th>\n",
              "      <th>TOBS</th>\n",
              "    </tr>\n",
              "    <tr>\n",
              "      <th>date</th>\n",
              "      <th></th>\n",
              "      <th></th>\n",
              "      <th></th>\n",
              "      <th></th>\n",
              "      <th></th>\n",
              "      <th></th>\n",
              "    </tr>\n",
              "  </thead>\n",
              "  <tbody>\n",
              "    <tr>\n",
              "      <th>2018-10-01</th>\n",
              "      <td>21.1</td>\n",
              "      <td>8.9</td>\n",
              "      <td>13.9</td>\n",
              "      <td>69.98</td>\n",
              "      <td>48.02</td>\n",
              "      <td>57.02</td>\n",
              "    </tr>\n",
              "    <tr>\n",
              "      <th>2018-10-02</th>\n",
              "      <td>23.9</td>\n",
              "      <td>13.9</td>\n",
              "      <td>17.2</td>\n",
              "      <td>75.02</td>\n",
              "      <td>57.02</td>\n",
              "      <td>62.96</td>\n",
              "    </tr>\n",
              "    <tr>\n",
              "      <th>2018-10-03</th>\n",
              "      <td>25.0</td>\n",
              "      <td>15.6</td>\n",
              "      <td>16.1</td>\n",
              "      <td>77.00</td>\n",
              "      <td>60.08</td>\n",
              "      <td>60.98</td>\n",
              "    </tr>\n",
              "    <tr>\n",
              "      <th>2018-10-04</th>\n",
              "      <td>22.8</td>\n",
              "      <td>11.7</td>\n",
              "      <td>11.7</td>\n",
              "      <td>73.04</td>\n",
              "      <td>53.06</td>\n",
              "      <td>53.06</td>\n",
              "    </tr>\n",
              "    <tr>\n",
              "      <th>2018-10-05</th>\n",
              "      <td>23.3</td>\n",
              "      <td>11.7</td>\n",
              "      <td>18.9</td>\n",
              "      <td>73.94</td>\n",
              "      <td>53.06</td>\n",
              "      <td>66.02</td>\n",
              "    </tr>\n",
              "  </tbody>\n",
              "</table>\n",
              "</div>"
            ],
            "text/plain": [
              "           temp_C             temp_F              \n",
              "datatype     TMAX  TMIN  TOBS   TMAX   TMIN   TOBS\n",
              "date                                              \n",
              "2018-10-01   21.1   8.9  13.9  69.98  48.02  57.02\n",
              "2018-10-02   23.9  13.9  17.2  75.02  57.02  62.96\n",
              "2018-10-03   25.0  15.6  16.1  77.00  60.08  60.98\n",
              "2018-10-04   22.8  11.7  11.7  73.04  53.06  53.06\n",
              "2018-10-05   23.3  11.7  18.9  73.94  53.06  66.02"
            ]
          },
          "metadata": {
            "tags": []
          },
          "execution_count": 33
        }
      ]
    },
    {
      "cell_type": "code",
      "metadata": {
        "colab": {
          "base_uri": "https://localhost:8080/",
          "height": 1000
        },
        "id": "eUwUlsFSBbnP",
        "outputId": "909c26c2-8e8e-47da-a0f6-41e35a1401b8"
      },
      "source": [
        "# A la hora de observar los valores de esta tabla\n",
        "pivoted_df['temp_F'] # visualizaremos solo temp_F y sus valores"
      ],
      "execution_count": null,
      "outputs": [
        {
          "output_type": "execute_result",
          "data": {
            "text/html": [
              "<div>\n",
              "<style scoped>\n",
              "    .dataframe tbody tr th:only-of-type {\n",
              "        vertical-align: middle;\n",
              "    }\n",
              "\n",
              "    .dataframe tbody tr th {\n",
              "        vertical-align: top;\n",
              "    }\n",
              "\n",
              "    .dataframe thead th {\n",
              "        text-align: right;\n",
              "    }\n",
              "</style>\n",
              "<table border=\"1\" class=\"dataframe\">\n",
              "  <thead>\n",
              "    <tr style=\"text-align: right;\">\n",
              "      <th>datatype</th>\n",
              "      <th>TMAX</th>\n",
              "      <th>TMIN</th>\n",
              "      <th>TOBS</th>\n",
              "    </tr>\n",
              "    <tr>\n",
              "      <th>date</th>\n",
              "      <th></th>\n",
              "      <th></th>\n",
              "      <th></th>\n",
              "    </tr>\n",
              "  </thead>\n",
              "  <tbody>\n",
              "    <tr>\n",
              "      <th>2018-10-01</th>\n",
              "      <td>69.98</td>\n",
              "      <td>48.02</td>\n",
              "      <td>57.02</td>\n",
              "    </tr>\n",
              "    <tr>\n",
              "      <th>2018-10-02</th>\n",
              "      <td>75.02</td>\n",
              "      <td>57.02</td>\n",
              "      <td>62.96</td>\n",
              "    </tr>\n",
              "    <tr>\n",
              "      <th>2018-10-03</th>\n",
              "      <td>77.00</td>\n",
              "      <td>60.08</td>\n",
              "      <td>60.98</td>\n",
              "    </tr>\n",
              "    <tr>\n",
              "      <th>2018-10-04</th>\n",
              "      <td>73.04</td>\n",
              "      <td>53.06</td>\n",
              "      <td>53.06</td>\n",
              "    </tr>\n",
              "    <tr>\n",
              "      <th>2018-10-05</th>\n",
              "      <td>73.94</td>\n",
              "      <td>53.06</td>\n",
              "      <td>66.02</td>\n",
              "    </tr>\n",
              "    <tr>\n",
              "      <th>2018-10-06</th>\n",
              "      <td>68.00</td>\n",
              "      <td>55.94</td>\n",
              "      <td>60.98</td>\n",
              "    </tr>\n",
              "    <tr>\n",
              "      <th>2018-10-07</th>\n",
              "      <td>68.00</td>\n",
              "      <td>60.98</td>\n",
              "      <td>68.00</td>\n",
              "    </tr>\n",
              "    <tr>\n",
              "      <th>2018-10-08</th>\n",
              "      <td>80.06</td>\n",
              "      <td>64.04</td>\n",
              "      <td>64.04</td>\n",
              "    </tr>\n",
              "    <tr>\n",
              "      <th>2018-10-09</th>\n",
              "      <td>66.02</td>\n",
              "      <td>62.96</td>\n",
              "      <td>64.04</td>\n",
              "    </tr>\n",
              "    <tr>\n",
              "      <th>2018-10-10</th>\n",
              "      <td>75.92</td>\n",
              "      <td>62.96</td>\n",
              "      <td>64.94</td>\n",
              "    </tr>\n",
              "    <tr>\n",
              "      <th>2018-10-11</th>\n",
              "      <td>78.98</td>\n",
              "      <td>64.04</td>\n",
              "      <td>71.06</td>\n",
              "    </tr>\n",
              "    <tr>\n",
              "      <th>2018-10-12</th>\n",
              "      <td>73.04</td>\n",
              "      <td>57.92</td>\n",
              "      <td>60.08</td>\n",
              "    </tr>\n",
              "    <tr>\n",
              "      <th>2018-10-13</th>\n",
              "      <td>60.08</td>\n",
              "      <td>44.96</td>\n",
              "      <td>46.94</td>\n",
              "    </tr>\n",
              "    <tr>\n",
              "      <th>2018-10-14</th>\n",
              "      <td>55.94</td>\n",
              "      <td>42.08</td>\n",
              "      <td>44.06</td>\n",
              "    </tr>\n",
              "    <tr>\n",
              "      <th>2018-10-15</th>\n",
              "      <td>55.94</td>\n",
              "      <td>44.06</td>\n",
              "      <td>50.00</td>\n",
              "    </tr>\n",
              "    <tr>\n",
              "      <th>2018-10-16</th>\n",
              "      <td>66.02</td>\n",
              "      <td>46.04</td>\n",
              "      <td>46.04</td>\n",
              "    </tr>\n",
              "    <tr>\n",
              "      <th>2018-10-17</th>\n",
              "      <td>55.94</td>\n",
              "      <td>37.94</td>\n",
              "      <td>41.00</td>\n",
              "    </tr>\n",
              "    <tr>\n",
              "      <th>2018-10-18</th>\n",
              "      <td>60.98</td>\n",
              "      <td>39.92</td>\n",
              "      <td>41.00</td>\n",
              "    </tr>\n",
              "    <tr>\n",
              "      <th>2018-10-19</th>\n",
              "      <td>50.00</td>\n",
              "      <td>30.02</td>\n",
              "      <td>32.00</td>\n",
              "    </tr>\n",
              "    <tr>\n",
              "      <th>2018-10-20</th>\n",
              "      <td>59.00</td>\n",
              "      <td>30.92</td>\n",
              "      <td>51.08</td>\n",
              "    </tr>\n",
              "    <tr>\n",
              "      <th>2018-10-21</th>\n",
              "      <td>62.06</td>\n",
              "      <td>46.04</td>\n",
              "      <td>46.04</td>\n",
              "    </tr>\n",
              "    <tr>\n",
              "      <th>2018-10-22</th>\n",
              "      <td>46.04</td>\n",
              "      <td>30.02</td>\n",
              "      <td>30.02</td>\n",
              "    </tr>\n",
              "    <tr>\n",
              "      <th>2018-10-23</th>\n",
              "      <td>60.08</td>\n",
              "      <td>30.02</td>\n",
              "      <td>50.00</td>\n",
              "    </tr>\n",
              "    <tr>\n",
              "      <th>2018-10-24</th>\n",
              "      <td>62.06</td>\n",
              "      <td>39.92</td>\n",
              "      <td>44.06</td>\n",
              "    </tr>\n",
              "    <tr>\n",
              "      <th>2018-10-25</th>\n",
              "      <td>53.06</td>\n",
              "      <td>37.04</td>\n",
              "      <td>37.04</td>\n",
              "    </tr>\n",
              "    <tr>\n",
              "      <th>2018-10-26</th>\n",
              "      <td>48.92</td>\n",
              "      <td>30.92</td>\n",
              "      <td>30.92</td>\n",
              "    </tr>\n",
              "    <tr>\n",
              "      <th>2018-10-27</th>\n",
              "      <td>48.02</td>\n",
              "      <td>30.92</td>\n",
              "      <td>42.98</td>\n",
              "    </tr>\n",
              "    <tr>\n",
              "      <th>2018-10-28</th>\n",
              "      <td>46.94</td>\n",
              "      <td>41.00</td>\n",
              "      <td>44.96</td>\n",
              "    </tr>\n",
              "    <tr>\n",
              "      <th>2018-10-29</th>\n",
              "      <td>51.08</td>\n",
              "      <td>44.06</td>\n",
              "      <td>46.94</td>\n",
              "    </tr>\n",
              "    <tr>\n",
              "      <th>2018-10-30</th>\n",
              "      <td>55.94</td>\n",
              "      <td>35.96</td>\n",
              "      <td>41.00</td>\n",
              "    </tr>\n",
              "    <tr>\n",
              "      <th>2018-10-31</th>\n",
              "      <td>53.96</td>\n",
              "      <td>32.00</td>\n",
              "      <td>32.00</td>\n",
              "    </tr>\n",
              "  </tbody>\n",
              "</table>\n",
              "</div>"
            ],
            "text/plain": [
              "datatype     TMAX   TMIN   TOBS\n",
              "date                           \n",
              "2018-10-01  69.98  48.02  57.02\n",
              "2018-10-02  75.02  57.02  62.96\n",
              "2018-10-03  77.00  60.08  60.98\n",
              "2018-10-04  73.04  53.06  53.06\n",
              "2018-10-05  73.94  53.06  66.02\n",
              "2018-10-06  68.00  55.94  60.98\n",
              "2018-10-07  68.00  60.98  68.00\n",
              "2018-10-08  80.06  64.04  64.04\n",
              "2018-10-09  66.02  62.96  64.04\n",
              "2018-10-10  75.92  62.96  64.94\n",
              "2018-10-11  78.98  64.04  71.06\n",
              "2018-10-12  73.04  57.92  60.08\n",
              "2018-10-13  60.08  44.96  46.94\n",
              "2018-10-14  55.94  42.08  44.06\n",
              "2018-10-15  55.94  44.06  50.00\n",
              "2018-10-16  66.02  46.04  46.04\n",
              "2018-10-17  55.94  37.94  41.00\n",
              "2018-10-18  60.98  39.92  41.00\n",
              "2018-10-19  50.00  30.02  32.00\n",
              "2018-10-20  59.00  30.92  51.08\n",
              "2018-10-21  62.06  46.04  46.04\n",
              "2018-10-22  46.04  30.02  30.02\n",
              "2018-10-23  60.08  30.02  50.00\n",
              "2018-10-24  62.06  39.92  44.06\n",
              "2018-10-25  53.06  37.04  37.04\n",
              "2018-10-26  48.92  30.92  30.92\n",
              "2018-10-27  48.02  30.92  42.98\n",
              "2018-10-28  46.94  41.00  44.96\n",
              "2018-10-29  51.08  44.06  46.94\n",
              "2018-10-30  55.94  35.96  41.00\n",
              "2018-10-31  53.96  32.00  32.00"
            ]
          },
          "metadata": {
            "tags": []
          },
          "execution_count": 35
        }
      ]
    },
    {
      "cell_type": "code",
      "metadata": {
        "colab": {
          "base_uri": "https://localhost:8080/"
        },
        "id": "EfifK_BhBr7m",
        "outputId": "a7fd371e-e687-4271-d038-00b4bf0cf6bc"
      },
      "source": [
        "pivoted_df['temp_C']['TMIN'].head()"
      ],
      "execution_count": null,
      "outputs": [
        {
          "output_type": "execute_result",
          "data": {
            "text/plain": [
              "date\n",
              "2018-10-01     8.9\n",
              "2018-10-02    13.9\n",
              "2018-10-03    15.6\n",
              "2018-10-04    11.7\n",
              "2018-10-05    11.7\n",
              "Name: TMIN, dtype: float64"
            ]
          },
          "metadata": {
            "tags": []
          },
          "execution_count": 36
        }
      ]
    },
    {
      "cell_type": "markdown",
      "metadata": {
        "id": "O_XbDa_LB4yA"
      },
      "source": [
        "### unstack()"
      ]
    },
    {
      "cell_type": "code",
      "metadata": {
        "colab": {
          "base_uri": "https://localhost:8080/",
          "height": 424
        },
        "id": "0PhFFr2sCUuP",
        "outputId": "cf9ca776-9ffa-4a3c-ee29-b5a5b93d5943"
      },
      "source": [
        "long_df"
      ],
      "execution_count": null,
      "outputs": [
        {
          "output_type": "execute_result",
          "data": {
            "text/html": [
              "<div>\n",
              "<style scoped>\n",
              "    .dataframe tbody tr th:only-of-type {\n",
              "        vertical-align: middle;\n",
              "    }\n",
              "\n",
              "    .dataframe tbody tr th {\n",
              "        vertical-align: top;\n",
              "    }\n",
              "\n",
              "    .dataframe thead th {\n",
              "        text-align: right;\n",
              "    }\n",
              "</style>\n",
              "<table border=\"1\" class=\"dataframe\">\n",
              "  <thead>\n",
              "    <tr style=\"text-align: right;\">\n",
              "      <th></th>\n",
              "      <th>datatype</th>\n",
              "      <th>date</th>\n",
              "      <th>temp_C</th>\n",
              "      <th>temp_F</th>\n",
              "    </tr>\n",
              "  </thead>\n",
              "  <tbody>\n",
              "    <tr>\n",
              "      <th>0</th>\n",
              "      <td>TMAX</td>\n",
              "      <td>2018-10-01</td>\n",
              "      <td>21.1</td>\n",
              "      <td>69.98</td>\n",
              "    </tr>\n",
              "    <tr>\n",
              "      <th>1</th>\n",
              "      <td>TMIN</td>\n",
              "      <td>2018-10-01</td>\n",
              "      <td>8.9</td>\n",
              "      <td>48.02</td>\n",
              "    </tr>\n",
              "    <tr>\n",
              "      <th>2</th>\n",
              "      <td>TOBS</td>\n",
              "      <td>2018-10-01</td>\n",
              "      <td>13.9</td>\n",
              "      <td>57.02</td>\n",
              "    </tr>\n",
              "    <tr>\n",
              "      <th>3</th>\n",
              "      <td>TMAX</td>\n",
              "      <td>2018-10-02</td>\n",
              "      <td>23.9</td>\n",
              "      <td>75.02</td>\n",
              "    </tr>\n",
              "    <tr>\n",
              "      <th>4</th>\n",
              "      <td>TMIN</td>\n",
              "      <td>2018-10-02</td>\n",
              "      <td>13.9</td>\n",
              "      <td>57.02</td>\n",
              "    </tr>\n",
              "    <tr>\n",
              "      <th>...</th>\n",
              "      <td>...</td>\n",
              "      <td>...</td>\n",
              "      <td>...</td>\n",
              "      <td>...</td>\n",
              "    </tr>\n",
              "    <tr>\n",
              "      <th>88</th>\n",
              "      <td>TMIN</td>\n",
              "      <td>2018-10-30</td>\n",
              "      <td>2.2</td>\n",
              "      <td>35.96</td>\n",
              "    </tr>\n",
              "    <tr>\n",
              "      <th>89</th>\n",
              "      <td>TOBS</td>\n",
              "      <td>2018-10-30</td>\n",
              "      <td>5.0</td>\n",
              "      <td>41.00</td>\n",
              "    </tr>\n",
              "    <tr>\n",
              "      <th>90</th>\n",
              "      <td>TMAX</td>\n",
              "      <td>2018-10-31</td>\n",
              "      <td>12.2</td>\n",
              "      <td>53.96</td>\n",
              "    </tr>\n",
              "    <tr>\n",
              "      <th>91</th>\n",
              "      <td>TMIN</td>\n",
              "      <td>2018-10-31</td>\n",
              "      <td>0.0</td>\n",
              "      <td>32.00</td>\n",
              "    </tr>\n",
              "    <tr>\n",
              "      <th>92</th>\n",
              "      <td>TOBS</td>\n",
              "      <td>2018-10-31</td>\n",
              "      <td>0.0</td>\n",
              "      <td>32.00</td>\n",
              "    </tr>\n",
              "  </tbody>\n",
              "</table>\n",
              "<p>93 rows × 4 columns</p>\n",
              "</div>"
            ],
            "text/plain": [
              "   datatype       date  temp_C  temp_F\n",
              "0      TMAX 2018-10-01    21.1   69.98\n",
              "1      TMIN 2018-10-01     8.9   48.02\n",
              "2      TOBS 2018-10-01    13.9   57.02\n",
              "3      TMAX 2018-10-02    23.9   75.02\n",
              "4      TMIN 2018-10-02    13.9   57.02\n",
              "..      ...        ...     ...     ...\n",
              "88     TMIN 2018-10-30     2.2   35.96\n",
              "89     TOBS 2018-10-30     5.0   41.00\n",
              "90     TMAX 2018-10-31    12.2   53.96\n",
              "91     TMIN 2018-10-31     0.0   32.00\n",
              "92     TOBS 2018-10-31     0.0   32.00\n",
              "\n",
              "[93 rows x 4 columns]"
            ]
          },
          "metadata": {
            "tags": []
          },
          "execution_count": 38
        }
      ]
    },
    {
      "cell_type": "code",
      "metadata": {
        "colab": {
          "base_uri": "https://localhost:8080/"
        },
        "id": "E-YC04T7B6cY",
        "outputId": "0542c41d-9aec-4a16-84ca-a334e4bafc3d"
      },
      "source": [
        "multi_index_df = long_df.set_index(['date','datatype'])\n",
        "multi_index_df.head().index # este resultado mostrará los índices"
      ],
      "execution_count": null,
      "outputs": [
        {
          "output_type": "execute_result",
          "data": {
            "text/plain": [
              "MultiIndex([('2018-10-01', 'TMAX'),\n",
              "            ('2018-10-01', 'TMIN'),\n",
              "            ('2018-10-01', 'TOBS'),\n",
              "            ('2018-10-02', 'TMAX'),\n",
              "            ('2018-10-02', 'TMIN')],\n",
              "           names=['date', 'datatype'])"
            ]
          },
          "metadata": {
            "tags": []
          },
          "execution_count": 37
        }
      ]
    },
    {
      "cell_type": "code",
      "metadata": {
        "colab": {
          "base_uri": "https://localhost:8080/",
          "height": 238
        },
        "id": "O--_MkezCjZo",
        "outputId": "7bf6a351-ae7a-4b97-a124-5ef22ec2ad94"
      },
      "source": [
        "multi_index_df.head()"
      ],
      "execution_count": null,
      "outputs": [
        {
          "output_type": "execute_result",
          "data": {
            "text/html": [
              "<div>\n",
              "<style scoped>\n",
              "    .dataframe tbody tr th:only-of-type {\n",
              "        vertical-align: middle;\n",
              "    }\n",
              "\n",
              "    .dataframe tbody tr th {\n",
              "        vertical-align: top;\n",
              "    }\n",
              "\n",
              "    .dataframe thead th {\n",
              "        text-align: right;\n",
              "    }\n",
              "</style>\n",
              "<table border=\"1\" class=\"dataframe\">\n",
              "  <thead>\n",
              "    <tr style=\"text-align: right;\">\n",
              "      <th></th>\n",
              "      <th></th>\n",
              "      <th>temp_C</th>\n",
              "      <th>temp_F</th>\n",
              "    </tr>\n",
              "    <tr>\n",
              "      <th>date</th>\n",
              "      <th>datatype</th>\n",
              "      <th></th>\n",
              "      <th></th>\n",
              "    </tr>\n",
              "  </thead>\n",
              "  <tbody>\n",
              "    <tr>\n",
              "      <th rowspan=\"3\" valign=\"top\">2018-10-01</th>\n",
              "      <th>TMAX</th>\n",
              "      <td>21.1</td>\n",
              "      <td>69.98</td>\n",
              "    </tr>\n",
              "    <tr>\n",
              "      <th>TMIN</th>\n",
              "      <td>8.9</td>\n",
              "      <td>48.02</td>\n",
              "    </tr>\n",
              "    <tr>\n",
              "      <th>TOBS</th>\n",
              "      <td>13.9</td>\n",
              "      <td>57.02</td>\n",
              "    </tr>\n",
              "    <tr>\n",
              "      <th rowspan=\"2\" valign=\"top\">2018-10-02</th>\n",
              "      <th>TMAX</th>\n",
              "      <td>23.9</td>\n",
              "      <td>75.02</td>\n",
              "    </tr>\n",
              "    <tr>\n",
              "      <th>TMIN</th>\n",
              "      <td>13.9</td>\n",
              "      <td>57.02</td>\n",
              "    </tr>\n",
              "  </tbody>\n",
              "</table>\n",
              "</div>"
            ],
            "text/plain": [
              "                     temp_C  temp_F\n",
              "date       datatype                \n",
              "2018-10-01 TMAX        21.1   69.98\n",
              "           TMIN         8.9   48.02\n",
              "           TOBS        13.9   57.02\n",
              "2018-10-02 TMAX        23.9   75.02\n",
              "           TMIN        13.9   57.02"
            ]
          },
          "metadata": {
            "tags": []
          },
          "execution_count": 39
        }
      ]
    },
    {
      "cell_type": "code",
      "metadata": {
        "colab": {
          "base_uri": "https://localhost:8080/",
          "height": 269
        },
        "id": "rc3mkSnHCs--",
        "outputId": "26937008-9aa5-45e3-cc72-7d3aa39934a8"
      },
      "source": [
        "# Cuando tenemos un multiíndice, es donde vamos a utilizar unstack() en lugar de pivot()\n",
        "unstacked_df = multi_index_df.unstack()\n",
        "unstacked_df.head()"
      ],
      "execution_count": null,
      "outputs": [
        {
          "output_type": "execute_result",
          "data": {
            "text/html": [
              "<div>\n",
              "<style scoped>\n",
              "    .dataframe tbody tr th:only-of-type {\n",
              "        vertical-align: middle;\n",
              "    }\n",
              "\n",
              "    .dataframe tbody tr th {\n",
              "        vertical-align: top;\n",
              "    }\n",
              "\n",
              "    .dataframe thead tr th {\n",
              "        text-align: left;\n",
              "    }\n",
              "\n",
              "    .dataframe thead tr:last-of-type th {\n",
              "        text-align: right;\n",
              "    }\n",
              "</style>\n",
              "<table border=\"1\" class=\"dataframe\">\n",
              "  <thead>\n",
              "    <tr>\n",
              "      <th></th>\n",
              "      <th colspan=\"3\" halign=\"left\">temp_C</th>\n",
              "      <th colspan=\"3\" halign=\"left\">temp_F</th>\n",
              "    </tr>\n",
              "    <tr>\n",
              "      <th>datatype</th>\n",
              "      <th>TMAX</th>\n",
              "      <th>TMIN</th>\n",
              "      <th>TOBS</th>\n",
              "      <th>TMAX</th>\n",
              "      <th>TMIN</th>\n",
              "      <th>TOBS</th>\n",
              "    </tr>\n",
              "    <tr>\n",
              "      <th>date</th>\n",
              "      <th></th>\n",
              "      <th></th>\n",
              "      <th></th>\n",
              "      <th></th>\n",
              "      <th></th>\n",
              "      <th></th>\n",
              "    </tr>\n",
              "  </thead>\n",
              "  <tbody>\n",
              "    <tr>\n",
              "      <th>2018-10-01</th>\n",
              "      <td>21.1</td>\n",
              "      <td>8.9</td>\n",
              "      <td>13.9</td>\n",
              "      <td>69.98</td>\n",
              "      <td>48.02</td>\n",
              "      <td>57.02</td>\n",
              "    </tr>\n",
              "    <tr>\n",
              "      <th>2018-10-02</th>\n",
              "      <td>23.9</td>\n",
              "      <td>13.9</td>\n",
              "      <td>17.2</td>\n",
              "      <td>75.02</td>\n",
              "      <td>57.02</td>\n",
              "      <td>62.96</td>\n",
              "    </tr>\n",
              "    <tr>\n",
              "      <th>2018-10-03</th>\n",
              "      <td>25.0</td>\n",
              "      <td>15.6</td>\n",
              "      <td>16.1</td>\n",
              "      <td>77.00</td>\n",
              "      <td>60.08</td>\n",
              "      <td>60.98</td>\n",
              "    </tr>\n",
              "    <tr>\n",
              "      <th>2018-10-04</th>\n",
              "      <td>22.8</td>\n",
              "      <td>11.7</td>\n",
              "      <td>11.7</td>\n",
              "      <td>73.04</td>\n",
              "      <td>53.06</td>\n",
              "      <td>53.06</td>\n",
              "    </tr>\n",
              "    <tr>\n",
              "      <th>2018-10-05</th>\n",
              "      <td>23.3</td>\n",
              "      <td>11.7</td>\n",
              "      <td>18.9</td>\n",
              "      <td>73.94</td>\n",
              "      <td>53.06</td>\n",
              "      <td>66.02</td>\n",
              "    </tr>\n",
              "  </tbody>\n",
              "</table>\n",
              "</div>"
            ],
            "text/plain": [
              "           temp_C             temp_F              \n",
              "datatype     TMAX  TMIN  TOBS   TMAX   TMIN   TOBS\n",
              "date                                              \n",
              "2018-10-01   21.1   8.9  13.9  69.98  48.02  57.02\n",
              "2018-10-02   23.9  13.9  17.2  75.02  57.02  62.96\n",
              "2018-10-03   25.0  15.6  16.1  77.00  60.08  60.98\n",
              "2018-10-04   22.8  11.7  11.7  73.04  53.06  53.06\n",
              "2018-10-05   23.3  11.7  18.9  73.94  53.06  66.02"
            ]
          },
          "metadata": {
            "tags": []
          },
          "execution_count": 40
        }
      ]
    },
    {
      "cell_type": "markdown",
      "metadata": {
        "id": "0Gh_kz7vDZqg"
      },
      "source": [
        "## Melt\n",
        "\n",
        "realizará la operación de fusión desde el formato wide a long ."
      ]
    },
    {
      "cell_type": "code",
      "metadata": {
        "colab": {
          "base_uri": "https://localhost:8080/",
          "height": 206
        },
        "id": "o6s8Rpd9DhbC",
        "outputId": "96451897-c57f-46d6-cc2a-b658cd72fc55"
      },
      "source": [
        "wide_df = pd.read_csv(\"https://raw.githubusercontent.com/marcusRB/The_Bridge_School_DataScience_PT/main/02_DataAnalysis/dataset/wide_data.csv\")\n",
        "wide_df.head()"
      ],
      "execution_count": null,
      "outputs": [
        {
          "output_type": "execute_result",
          "data": {
            "text/html": [
              "<div>\n",
              "<style scoped>\n",
              "    .dataframe tbody tr th:only-of-type {\n",
              "        vertical-align: middle;\n",
              "    }\n",
              "\n",
              "    .dataframe tbody tr th {\n",
              "        vertical-align: top;\n",
              "    }\n",
              "\n",
              "    .dataframe thead th {\n",
              "        text-align: right;\n",
              "    }\n",
              "</style>\n",
              "<table border=\"1\" class=\"dataframe\">\n",
              "  <thead>\n",
              "    <tr style=\"text-align: right;\">\n",
              "      <th></th>\n",
              "      <th>date</th>\n",
              "      <th>TMAX</th>\n",
              "      <th>TMIN</th>\n",
              "      <th>TOBS</th>\n",
              "    </tr>\n",
              "  </thead>\n",
              "  <tbody>\n",
              "    <tr>\n",
              "      <th>0</th>\n",
              "      <td>2018-10-01</td>\n",
              "      <td>21.1</td>\n",
              "      <td>8.9</td>\n",
              "      <td>13.9</td>\n",
              "    </tr>\n",
              "    <tr>\n",
              "      <th>1</th>\n",
              "      <td>2018-10-02</td>\n",
              "      <td>23.9</td>\n",
              "      <td>13.9</td>\n",
              "      <td>17.2</td>\n",
              "    </tr>\n",
              "    <tr>\n",
              "      <th>2</th>\n",
              "      <td>2018-10-03</td>\n",
              "      <td>25.0</td>\n",
              "      <td>15.6</td>\n",
              "      <td>16.1</td>\n",
              "    </tr>\n",
              "    <tr>\n",
              "      <th>3</th>\n",
              "      <td>2018-10-04</td>\n",
              "      <td>22.8</td>\n",
              "      <td>11.7</td>\n",
              "      <td>11.7</td>\n",
              "    </tr>\n",
              "    <tr>\n",
              "      <th>4</th>\n",
              "      <td>2018-10-05</td>\n",
              "      <td>23.3</td>\n",
              "      <td>11.7</td>\n",
              "      <td>18.9</td>\n",
              "    </tr>\n",
              "  </tbody>\n",
              "</table>\n",
              "</div>"
            ],
            "text/plain": [
              "         date  TMAX  TMIN  TOBS\n",
              "0  2018-10-01  21.1   8.9  13.9\n",
              "1  2018-10-02  23.9  13.9  17.2\n",
              "2  2018-10-03  25.0  15.6  16.1\n",
              "3  2018-10-04  22.8  11.7  11.7\n",
              "4  2018-10-05  23.3  11.7  18.9"
            ]
          },
          "metadata": {
            "tags": []
          },
          "execution_count": 41
        }
      ]
    },
    {
      "cell_type": "code",
      "metadata": {
        "colab": {
          "base_uri": "https://localhost:8080/",
          "height": 206
        },
        "id": "43KPQZMUDtyE",
        "outputId": "3386d583-11e9-4fc4-ecf5-ca0a1e9d890b"
      },
      "source": [
        "melted_df = wide_df.melt(\n",
        "    id_vars = 'date',\n",
        "    value_vars=['TMAX','TMIN','TOBS'],\n",
        "    value_name='temp_C',\n",
        "    var_name='measurement'\n",
        ")\n",
        "melted_df.head()"
      ],
      "execution_count": null,
      "outputs": [
        {
          "output_type": "execute_result",
          "data": {
            "text/html": [
              "<div>\n",
              "<style scoped>\n",
              "    .dataframe tbody tr th:only-of-type {\n",
              "        vertical-align: middle;\n",
              "    }\n",
              "\n",
              "    .dataframe tbody tr th {\n",
              "        vertical-align: top;\n",
              "    }\n",
              "\n",
              "    .dataframe thead th {\n",
              "        text-align: right;\n",
              "    }\n",
              "</style>\n",
              "<table border=\"1\" class=\"dataframe\">\n",
              "  <thead>\n",
              "    <tr style=\"text-align: right;\">\n",
              "      <th></th>\n",
              "      <th>date</th>\n",
              "      <th>measurement</th>\n",
              "      <th>temp_C</th>\n",
              "    </tr>\n",
              "  </thead>\n",
              "  <tbody>\n",
              "    <tr>\n",
              "      <th>0</th>\n",
              "      <td>2018-10-01</td>\n",
              "      <td>TMAX</td>\n",
              "      <td>21.1</td>\n",
              "    </tr>\n",
              "    <tr>\n",
              "      <th>1</th>\n",
              "      <td>2018-10-02</td>\n",
              "      <td>TMAX</td>\n",
              "      <td>23.9</td>\n",
              "    </tr>\n",
              "    <tr>\n",
              "      <th>2</th>\n",
              "      <td>2018-10-03</td>\n",
              "      <td>TMAX</td>\n",
              "      <td>25.0</td>\n",
              "    </tr>\n",
              "    <tr>\n",
              "      <th>3</th>\n",
              "      <td>2018-10-04</td>\n",
              "      <td>TMAX</td>\n",
              "      <td>22.8</td>\n",
              "    </tr>\n",
              "    <tr>\n",
              "      <th>4</th>\n",
              "      <td>2018-10-05</td>\n",
              "      <td>TMAX</td>\n",
              "      <td>23.3</td>\n",
              "    </tr>\n",
              "  </tbody>\n",
              "</table>\n",
              "</div>"
            ],
            "text/plain": [
              "         date measurement  temp_C\n",
              "0  2018-10-01        TMAX    21.1\n",
              "1  2018-10-02        TMAX    23.9\n",
              "2  2018-10-03        TMAX    25.0\n",
              "3  2018-10-04        TMAX    22.8\n",
              "4  2018-10-05        TMAX    23.3"
            ]
          },
          "metadata": {
            "tags": []
          },
          "execution_count": 42
        }
      ]
    },
    {
      "cell_type": "markdown",
      "metadata": {
        "id": "79OMoEGBETOI"
      },
      "source": [
        "### stack()"
      ]
    },
    {
      "cell_type": "code",
      "metadata": {
        "colab": {
          "base_uri": "https://localhost:8080/",
          "height": 238
        },
        "id": "fLYP0_yUDVcc",
        "outputId": "ab13f326-fe2d-40c1-ebf4-e693e0b52f97"
      },
      "source": [
        "wide_df.set_index('date',inplace=True)\n",
        "wide_df.head()"
      ],
      "execution_count": null,
      "outputs": [
        {
          "output_type": "execute_result",
          "data": {
            "text/html": [
              "<div>\n",
              "<style scoped>\n",
              "    .dataframe tbody tr th:only-of-type {\n",
              "        vertical-align: middle;\n",
              "    }\n",
              "\n",
              "    .dataframe tbody tr th {\n",
              "        vertical-align: top;\n",
              "    }\n",
              "\n",
              "    .dataframe thead th {\n",
              "        text-align: right;\n",
              "    }\n",
              "</style>\n",
              "<table border=\"1\" class=\"dataframe\">\n",
              "  <thead>\n",
              "    <tr style=\"text-align: right;\">\n",
              "      <th></th>\n",
              "      <th>TMAX</th>\n",
              "      <th>TMIN</th>\n",
              "      <th>TOBS</th>\n",
              "    </tr>\n",
              "    <tr>\n",
              "      <th>date</th>\n",
              "      <th></th>\n",
              "      <th></th>\n",
              "      <th></th>\n",
              "    </tr>\n",
              "  </thead>\n",
              "  <tbody>\n",
              "    <tr>\n",
              "      <th>2018-10-01</th>\n",
              "      <td>21.1</td>\n",
              "      <td>8.9</td>\n",
              "      <td>13.9</td>\n",
              "    </tr>\n",
              "    <tr>\n",
              "      <th>2018-10-02</th>\n",
              "      <td>23.9</td>\n",
              "      <td>13.9</td>\n",
              "      <td>17.2</td>\n",
              "    </tr>\n",
              "    <tr>\n",
              "      <th>2018-10-03</th>\n",
              "      <td>25.0</td>\n",
              "      <td>15.6</td>\n",
              "      <td>16.1</td>\n",
              "    </tr>\n",
              "    <tr>\n",
              "      <th>2018-10-04</th>\n",
              "      <td>22.8</td>\n",
              "      <td>11.7</td>\n",
              "      <td>11.7</td>\n",
              "    </tr>\n",
              "    <tr>\n",
              "      <th>2018-10-05</th>\n",
              "      <td>23.3</td>\n",
              "      <td>11.7</td>\n",
              "      <td>18.9</td>\n",
              "    </tr>\n",
              "  </tbody>\n",
              "</table>\n",
              "</div>"
            ],
            "text/plain": [
              "            TMAX  TMIN  TOBS\n",
              "date                        \n",
              "2018-10-01  21.1   8.9  13.9\n",
              "2018-10-02  23.9  13.9  17.2\n",
              "2018-10-03  25.0  15.6  16.1\n",
              "2018-10-04  22.8  11.7  11.7\n",
              "2018-10-05  23.3  11.7  18.9"
            ]
          },
          "metadata": {
            "tags": []
          },
          "execution_count": 43
        }
      ]
    },
    {
      "cell_type": "code",
      "metadata": {
        "colab": {
          "base_uri": "https://localhost:8080/"
        },
        "id": "bwhc8nvPEg37",
        "outputId": "6d7eb90a-6174-4f53-a239-39f5b1b07c10"
      },
      "source": [
        "stacked_series = wide_df.stack()\n",
        "stacked_series.head()"
      ],
      "execution_count": null,
      "outputs": [
        {
          "output_type": "execute_result",
          "data": {
            "text/plain": [
              "date            \n",
              "2018-10-01  TMAX    21.1\n",
              "            TMIN     8.9\n",
              "            TOBS    13.9\n",
              "2018-10-02  TMAX    23.9\n",
              "            TMIN    13.9\n",
              "dtype: float64"
            ]
          },
          "metadata": {
            "tags": []
          },
          "execution_count": 44
        }
      ]
    },
    {
      "cell_type": "code",
      "metadata": {
        "colab": {
          "base_uri": "https://localhost:8080/",
          "height": 238
        },
        "id": "CMowqZ9yEmdo",
        "outputId": "9c40638f-6935-4c83-e641-2c02151b4a8f"
      },
      "source": [
        "stacked_df = stacked_series.to_frame('value')\n",
        "stacked_df.head()"
      ],
      "execution_count": null,
      "outputs": [
        {
          "output_type": "execute_result",
          "data": {
            "text/html": [
              "<div>\n",
              "<style scoped>\n",
              "    .dataframe tbody tr th:only-of-type {\n",
              "        vertical-align: middle;\n",
              "    }\n",
              "\n",
              "    .dataframe tbody tr th {\n",
              "        vertical-align: top;\n",
              "    }\n",
              "\n",
              "    .dataframe thead th {\n",
              "        text-align: right;\n",
              "    }\n",
              "</style>\n",
              "<table border=\"1\" class=\"dataframe\">\n",
              "  <thead>\n",
              "    <tr style=\"text-align: right;\">\n",
              "      <th></th>\n",
              "      <th></th>\n",
              "      <th>value</th>\n",
              "    </tr>\n",
              "    <tr>\n",
              "      <th>date</th>\n",
              "      <th></th>\n",
              "      <th></th>\n",
              "    </tr>\n",
              "  </thead>\n",
              "  <tbody>\n",
              "    <tr>\n",
              "      <th rowspan=\"3\" valign=\"top\">2018-10-01</th>\n",
              "      <th>TMAX</th>\n",
              "      <td>21.1</td>\n",
              "    </tr>\n",
              "    <tr>\n",
              "      <th>TMIN</th>\n",
              "      <td>8.9</td>\n",
              "    </tr>\n",
              "    <tr>\n",
              "      <th>TOBS</th>\n",
              "      <td>13.9</td>\n",
              "    </tr>\n",
              "    <tr>\n",
              "      <th rowspan=\"2\" valign=\"top\">2018-10-02</th>\n",
              "      <th>TMAX</th>\n",
              "      <td>23.9</td>\n",
              "    </tr>\n",
              "    <tr>\n",
              "      <th>TMIN</th>\n",
              "      <td>13.9</td>\n",
              "    </tr>\n",
              "  </tbody>\n",
              "</table>\n",
              "</div>"
            ],
            "text/plain": [
              "                 value\n",
              "date                  \n",
              "2018-10-01 TMAX   21.1\n",
              "           TMIN    8.9\n",
              "           TOBS   13.9\n",
              "2018-10-02 TMAX   23.9\n",
              "           TMIN   13.9"
            ]
          },
          "metadata": {
            "tags": []
          },
          "execution_count": 45
        }
      ]
    },
    {
      "cell_type": "code",
      "metadata": {
        "id": "QoEpnE7RB4CL"
      },
      "source": [
        ""
      ],
      "execution_count": null,
      "outputs": []
    }
  ]
}