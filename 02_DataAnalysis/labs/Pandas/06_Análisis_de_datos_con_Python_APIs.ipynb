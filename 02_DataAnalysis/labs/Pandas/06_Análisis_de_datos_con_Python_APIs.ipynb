{
  "nbformat": 4,
  "nbformat_minor": 0,
  "metadata": {
    "colab": {
      "name": "06 - Análisis de datos con Python - APIs",
      "provenance": [],
      "collapsed_sections": []
    },
    "kernelspec": {
      "name": "python3",
      "display_name": "Python 3"
    },
    "language_info": {
      "name": "python"
    }
  },
  "cells": [
    {
      "cell_type": "markdown",
      "metadata": {
        "id": "jVhdawsd6LWo"
      },
      "source": [
        "# Adquisición de datos modo `DIRECTO`\n",
        "\n",
        "- [X] descarga directa\n",
        "- petición GET a través de API de terceros (ej. AEMET, Ayto. Barcelona....)\n",
        "- web crawling (que es una práctica ilegal...pero muy de moda entre los hackers!?¿!)\n",
        "\n",
        "## Introducción\n",
        "Internet es una fuente de datos inmensa que podemos aprovechar para nuestros análisis. En esta unidad, revisaremos tres métodos de adquisición de datos de internet:\n",
        "\n",
        "La descarga directa de los datos.\n",
        "La petición de datos a otras API de terceros.\n",
        "El *crawling* de los datos en sitios web.\n",
        "Antes de empezar con los ejemplos prácticos de adquisición de datos con los tres métodos propuestos, presentaremos a nivel teórico los conceptos necesarios para entender los dos últimos métodos, la petición de datos a otras API de terceros y el crawling, que incluyen algunas tecnologías que quizás desconocéis.\n",
        "\n",
        "### 2.1 Bibliografía\n",
        "\n",
        "* Web API: https://en.wikipedia.org/wiki/Web_API\n",
        "* JSON: https://www.w3schools.com/js/\n",
        "* XML: https://www.w3schools.com/xml/\n",
        "* HTML: https://www.w3schools.com/html/\n",
        "\n",
        "### Recursos\n",
        "\n",
        "Algunos de los sitios web donde podéis encontrar conjuntos de datos para analizar son:\n",
        "- [Open Data gencat](http://dadesobertes.gencat.cat/en/), el portal de datos abiertos de la Generalitat.\n",
        "- [datos.gov.es](http://datos.gob.es/es/catalogo), el catálogo de conjuntos de datos del Gobierno de España.\n",
        "- [European Data Sources](https://data.europa.eu/), el portal de datos abiertos de la Unión Europea.\n",
        "- [Mark Newman network datasets](http://www-personal.umich.edu/~mejn/netdata/), conjuntos de datos en forma de red recopilados por Mark Newman.\n",
        "- [Stanford Large Network Dataset Collection](http://snap.stanford.edu/data/), otra recopilación de conjuntos de datos en forma de red, en este caso creado por Jure Leskovec.\n",
        "- [SecRepo.com](http://www.secrepo.com/), datos relacionados con la seguridad.\n",
        "- [AWS Public Datasets](https://aws.amazon.com/public-datasets/), conjuntos de datos recopilados y hospedados por Amazon.\n",
        "- [UC Irvine Machine Learning Repository](http://archive.ics.uci.edu/ml/), datos recopilados por un grupo de investigación de la Universidad de California en Irvine.\n",
        "- El [repositorio de Five Thirty Eight](https://github.com/fivethirtyeight), que recoge datos utilizados en artículos de la publicación y que ya hemos visto en la unidad anterior.\n",
        "\n"
      ]
    },
    {
      "cell_type": "markdown",
      "metadata": {
        "id": "c9-LMO546WcT"
      },
      "source": [
        "## Primer paso\n",
        "\n",
        "El labor de un analista de datos es tratar los ficheros en formato `JSON`"
      ]
    },
    {
      "cell_type": "code",
      "metadata": {
        "colab": {
          "base_uri": "https://localhost:8080/"
        },
        "id": "BMJIQ8xz6cs7",
        "outputId": "838ecdf6-e7a2-429b-fbe7-cb7d091418ce"
      },
      "source": [
        "# Primer vamos a entender el funcionamiento de un fichero JSON a través los diccionarios de python (dict)\n",
        "# Construimos un diccionar de ejemplo y mostramos los datos\n",
        "diccionario_ejemplo = {\"nombre\":\"Maria\", \"apellidos\":{\"apellido1\":\"Perez\",\"apellido2\":\"Garcia\"}, \"edad\":56, \"geoloc\":(-14.5,56.3),\n",
        "                       \"mascotas\":[{\"perro\":\"Chucy\"},{\"gato\":\"Fluffy\"}]}\n",
        "print(diccionario_ejemplo)"
      ],
      "execution_count": 5,
      "outputs": [
        {
          "output_type": "stream",
          "text": [
            "{'nombre': 'Maria', 'apellidos': {'apellido1': 'Perez', 'apellido2': 'Garcia'}, 'edad': 56, 'geoloc': (-14.5, 56.3), 'mascotas': [{'perro': 'Chucy'}, {'gato': 'Fluffy'}]}\n"
          ],
          "name": "stdout"
        }
      ]
    },
    {
      "cell_type": "code",
      "metadata": {
        "colab": {
          "base_uri": "https://localhost:8080/"
        },
        "id": "Rog8yMvv6QKf",
        "outputId": "4dc2af9c-c659-4bda-8be4-6cb28605e0d2"
      },
      "source": [
        "type(diccionario_ejemplo)"
      ],
      "execution_count": 6,
      "outputs": [
        {
          "output_type": "execute_result",
          "data": {
            "text/plain": [
              "dict"
            ]
          },
          "metadata": {
            "tags": []
          },
          "execution_count": 6
        }
      ]
    },
    {
      "cell_type": "code",
      "metadata": {
        "colab": {
          "base_uri": "https://localhost:8080/"
        },
        "id": "Q7WcAPPt6OpS",
        "outputId": "6f83f5a9-7522-4e9f-a0f5-7886cbfc7689"
      },
      "source": [
        "# Paralelamente construimos una lista\n",
        "lista_ejemplo = [1,2,3]\n",
        "print(lista_ejemplo)"
      ],
      "execution_count": 7,
      "outputs": [
        {
          "output_type": "stream",
          "text": [
            "[1, 2, 3]\n"
          ],
          "name": "stdout"
        }
      ]
    },
    {
      "cell_type": "code",
      "metadata": {
        "colab": {
          "base_uri": "https://localhost:8080/"
        },
        "id": "B7X2HRmn8Bgn",
        "outputId": "f4daac13-fed3-4638-cd06-ecbf51817da7"
      },
      "source": [
        "type(lista_ejemplo)"
      ],
      "execution_count": 8,
      "outputs": [
        {
          "output_type": "execute_result",
          "data": {
            "text/plain": [
              "list"
            ]
          },
          "metadata": {
            "tags": []
          },
          "execution_count": 8
        }
      ]
    },
    {
      "cell_type": "code",
      "metadata": {
        "id": "ExxCPCTNaXaZ",
        "colab": {
          "base_uri": "https://localhost:8080/"
        },
        "outputId": "d964401a-6d47-48fb-e451-96fef090bbca"
      },
      "source": [
        "type(diccionario_ejemplo['mascotas'])"
      ],
      "execution_count": 13,
      "outputs": [
        {
          "output_type": "execute_result",
          "data": {
            "text/plain": [
              "list"
            ]
          },
          "metadata": {
            "tags": []
          },
          "execution_count": 13
        }
      ]
    },
    {
      "cell_type": "code",
      "metadata": {
        "colab": {
          "base_uri": "https://localhost:8080/"
        },
        "id": "Srf2AU-S8Pqa",
        "outputId": "ce017e5b-181b-44a4-a4e2-770447d84875"
      },
      "source": [
        "nested_dict = [diccionario_ejemplo]\n",
        "nested_dict\n",
        "print(type(nested_dict))"
      ],
      "execution_count": 14,
      "outputs": [
        {
          "output_type": "stream",
          "text": [
            "<class 'list'>\n"
          ],
          "name": "stdout"
        }
      ]
    },
    {
      "cell_type": "code",
      "metadata": {
        "colab": {
          "base_uri": "https://localhost:8080/"
        },
        "id": "wiMoMPjV8Ym1",
        "outputId": "b6b6e823-3123-4dea-b918-a37a8f72ca37"
      },
      "source": [
        "nested_dict"
      ],
      "execution_count": 15,
      "outputs": [
        {
          "output_type": "execute_result",
          "data": {
            "text/plain": [
              "[{'apellidos': {'apellido1': 'Perez', 'apellido2': 'Garcia'},\n",
              "  'edad': 56,\n",
              "  'geoloc': (-14.5, 56.3),\n",
              "  'mascotas': [{'perro': 'Chucy'}, {'gato': 'Fluffy'}],\n",
              "  'nombre': 'Maria'}]"
            ]
          },
          "metadata": {
            "tags": []
          },
          "execution_count": 15
        }
      ]
    },
    {
      "cell_type": "code",
      "metadata": {
        "colab": {
          "base_uri": "https://localhost:8080/"
        },
        "id": "qYrH_j1T8eJp",
        "outputId": "7e5f2877-eafd-4f26-eed7-ab8bebae6b52"
      },
      "source": [
        "len(nested_dict)"
      ],
      "execution_count": 16,
      "outputs": [
        {
          "output_type": "execute_result",
          "data": {
            "text/plain": [
              "1"
            ]
          },
          "metadata": {
            "tags": []
          },
          "execution_count": 16
        }
      ]
    },
    {
      "cell_type": "code",
      "metadata": {
        "colab": {
          "base_uri": "https://localhost:8080/"
        },
        "id": "P0gqx_ln8_8X",
        "outputId": "1d953396-23e1-423e-c43e-018af08d3586"
      },
      "source": [
        "nested_dict[0]"
      ],
      "execution_count": 17,
      "outputs": [
        {
          "output_type": "execute_result",
          "data": {
            "text/plain": [
              "{'apellidos': {'apellido1': 'Perez', 'apellido2': 'Garcia'},\n",
              " 'edad': 56,\n",
              " 'geoloc': (-14.5, 56.3),\n",
              " 'mascotas': [{'perro': 'Chucy'}, {'gato': 'Fluffy'}],\n",
              " 'nombre': 'Maria'}"
            ]
          },
          "metadata": {
            "tags": []
          },
          "execution_count": 17
        }
      ]
    },
    {
      "cell_type": "code",
      "metadata": {
        "colab": {
          "base_uri": "https://localhost:8080/"
        },
        "id": "Lu9809Tt9Cc0",
        "outputId": "503e885b-e901-437b-e265-69e4764b667e"
      },
      "source": [
        "type(nested_dict[0])"
      ],
      "execution_count": 18,
      "outputs": [
        {
          "output_type": "execute_result",
          "data": {
            "text/plain": [
              "dict"
            ]
          },
          "metadata": {
            "tags": []
          },
          "execution_count": 18
        }
      ]
    },
    {
      "cell_type": "code",
      "metadata": {
        "id": "YIhkwR9u9Y3W"
      },
      "source": [
        "# trataremos los json a parte\n",
        "import json\n",
        "# mostramos la representación del json del diccionario\n",
        "json_dict = json.dumps(diccionario_ejemplo)"
      ],
      "execution_count": 19,
      "outputs": []
    },
    {
      "cell_type": "code",
      "metadata": {
        "colab": {
          "base_uri": "https://localhost:8080/"
        },
        "id": "QNIiwRC19j2n",
        "outputId": "97a332a0-046e-4354-da64-d69760e187b1"
      },
      "source": [
        "# mostramos la estructura del json\n",
        "print(type(json_dict))"
      ],
      "execution_count": 20,
      "outputs": [
        {
          "output_type": "stream",
          "text": [
            "<class 'str'>\n"
          ],
          "name": "stdout"
        }
      ]
    },
    {
      "cell_type": "code",
      "metadata": {
        "colab": {
          "base_uri": "https://localhost:8080/",
          "height": 54
        },
        "id": "w2A8xDlO9tlB",
        "outputId": "acf4608f-6f63-4219-b50b-8c0e930a7972"
      },
      "source": [
        "# visualizamos el json\n",
        "json_dict"
      ],
      "execution_count": 21,
      "outputs": [
        {
          "output_type": "execute_result",
          "data": {
            "application/vnd.google.colaboratory.intrinsic+json": {
              "type": "string"
            },
            "text/plain": [
              "'{\"nombre\": \"Maria\", \"apellidos\": {\"apellido1\": \"Perez\", \"apellido2\": \"Garcia\"}, \"edad\": 56, \"geoloc\": [-14.5, 56.3], \"mascotas\": [{\"perro\": \"Chucy\"}, {\"gato\": \"Fluffy\"}]}'"
            ]
          },
          "metadata": {
            "tags": []
          },
          "execution_count": 21
        }
      ]
    },
    {
      "cell_type": "code",
      "metadata": {
        "colab": {
          "base_uri": "https://localhost:8080/",
          "height": 173
        },
        "id": "qHSYco2r97dj",
        "outputId": "308345bb-2ebd-48ba-853d-ebd6396e9c27"
      },
      "source": [
        "json_dict['nombre']"
      ],
      "execution_count": 22,
      "outputs": [
        {
          "output_type": "error",
          "ename": "TypeError",
          "evalue": "ignored",
          "traceback": [
            "\u001b[0;31m---------------------------------------------------------------------------\u001b[0m",
            "\u001b[0;31mTypeError\u001b[0m                                 Traceback (most recent call last)",
            "\u001b[0;32m<ipython-input-22-b1eca5d58d6b>\u001b[0m in \u001b[0;36m<module>\u001b[0;34m()\u001b[0m\n\u001b[0;32m----> 1\u001b[0;31m \u001b[0mjson_dict\u001b[0m\u001b[0;34m[\u001b[0m\u001b[0;34m'nombre'\u001b[0m\u001b[0;34m]\u001b[0m\u001b[0;34m\u001b[0m\u001b[0;34m\u001b[0m\u001b[0m\n\u001b[0m",
            "\u001b[0;31mTypeError\u001b[0m: string indices must be integers"
          ]
        }
      ]
    },
    {
      "cell_type": "code",
      "metadata": {
        "colab": {
          "base_uri": "https://localhost:8080/"
        },
        "id": "ueqIrMLH-E22",
        "outputId": "2878119f-a5c7-42bf-aec0-3d19dd8a5122"
      },
      "source": [
        "# Mostramos la representación del json de la lista\n",
        "json_lista = json.dumps(lista_ejemplo)\n",
        "print(type(json_lista))"
      ],
      "execution_count": 23,
      "outputs": [
        {
          "output_type": "stream",
          "text": [
            "<class 'str'>\n"
          ],
          "name": "stdout"
        }
      ]
    },
    {
      "cell_type": "code",
      "metadata": {
        "colab": {
          "base_uri": "https://localhost:8080/",
          "height": 36
        },
        "id": "41IK6Hgv-R0x",
        "outputId": "d2c3f75f-58a2-4453-8348-92327e808d50"
      },
      "source": [
        "json_lista"
      ],
      "execution_count": 24,
      "outputs": [
        {
          "output_type": "execute_result",
          "data": {
            "application/vnd.google.colaboratory.intrinsic+json": {
              "type": "string"
            },
            "text/plain": [
              "'[1, 2, 3]'"
            ]
          },
          "metadata": {
            "tags": []
          },
          "execution_count": 24
        }
      ]
    },
    {
      "cell_type": "markdown",
      "metadata": {
        "id": "r2d3XXEH-ccl"
      },
      "source": [
        "Este proceso a través de la función `json.dumps` del json, es **serializar** el objeto, en este caso siempre será en formato 'string'."
      ]
    },
    {
      "cell_type": "markdown",
      "metadata": {
        "id": "SewUUSC5-y7n"
      },
      "source": [
        "***"
      ]
    },
    {
      "cell_type": "markdown",
      "metadata": {
        "id": "bZcGXNV1-3bx"
      },
      "source": [
        "El proceso inverso conocido como **deserializar** crea objetos Python en `list` y `dict` a través de la función `json.loads`"
      ]
    },
    {
      "cell_type": "code",
      "metadata": {
        "colab": {
          "base_uri": "https://localhost:8080/"
        },
        "id": "xBvC-LJt-0hC",
        "outputId": "d2b2e6ff-9a28-4bd7-ad79-21f642ba106d"
      },
      "source": [
        "# Como el caso anterior convertimos los JSONs en dict y list\n",
        "json2dict = json.loads(json_dict)\n",
        "print(json2dict)"
      ],
      "execution_count": 25,
      "outputs": [
        {
          "output_type": "stream",
          "text": [
            "{'nombre': 'Maria', 'apellidos': {'apellido1': 'Perez', 'apellido2': 'Garcia'}, 'edad': 56, 'geoloc': [-14.5, 56.3], 'mascotas': [{'perro': 'Chucy'}, {'gato': 'Fluffy'}]}\n"
          ],
          "name": "stdout"
        }
      ]
    },
    {
      "cell_type": "code",
      "metadata": {
        "colab": {
          "base_uri": "https://localhost:8080/"
        },
        "id": "n4rZrHHI_EtU",
        "outputId": "c5bf2295-2a38-44c7-f4b9-9664291c7b70"
      },
      "source": [
        "type(json2dict)"
      ],
      "execution_count": 26,
      "outputs": [
        {
          "output_type": "execute_result",
          "data": {
            "text/plain": [
              "dict"
            ]
          },
          "metadata": {
            "tags": []
          },
          "execution_count": 26
        }
      ]
    },
    {
      "cell_type": "code",
      "metadata": {
        "colab": {
          "base_uri": "https://localhost:8080/",
          "height": 321
        },
        "id": "iPYKCA82-cDA",
        "outputId": "af5c6a50-0fc3-44e7-a46e-2ce7ece4ef87"
      },
      "source": [
        "# Sin embargo convertir a json datos en una lista a diccionarios, tienen quer ser en un formato a class: STR, BYTES, BYTEARRAY\n",
        "json2dict_2 = json.loads(nested_dict)"
      ],
      "execution_count": 27,
      "outputs": [
        {
          "output_type": "error",
          "ename": "TypeError",
          "evalue": "ignored",
          "traceback": [
            "\u001b[0;31m---------------------------------------------------------------------------\u001b[0m",
            "\u001b[0;31mTypeError\u001b[0m                                 Traceback (most recent call last)",
            "\u001b[0;32m<ipython-input-27-7d7360b7d61b>\u001b[0m in \u001b[0;36m<module>\u001b[0;34m()\u001b[0m\n\u001b[1;32m      1\u001b[0m \u001b[0;31m# Sin embargo convertir a json datos en una lista a diccionarios, tienen quer ser en un formato a class: STR, BYTES, BYTEARRAY\u001b[0m\u001b[0;34m\u001b[0m\u001b[0;34m\u001b[0m\u001b[0;34m\u001b[0m\u001b[0m\n\u001b[0;32m----> 2\u001b[0;31m \u001b[0mjson2dict_2\u001b[0m \u001b[0;34m=\u001b[0m \u001b[0mjson\u001b[0m\u001b[0;34m.\u001b[0m\u001b[0mloads\u001b[0m\u001b[0;34m(\u001b[0m\u001b[0mnested_dict\u001b[0m\u001b[0;34m)\u001b[0m\u001b[0;34m\u001b[0m\u001b[0;34m\u001b[0m\u001b[0m\n\u001b[0m",
            "\u001b[0;32m/usr/lib/python3.7/json/__init__.py\u001b[0m in \u001b[0;36mloads\u001b[0;34m(s, encoding, cls, object_hook, parse_float, parse_int, parse_constant, object_pairs_hook, **kw)\u001b[0m\n\u001b[1;32m    339\u001b[0m     \u001b[0;32melse\u001b[0m\u001b[0;34m:\u001b[0m\u001b[0;34m\u001b[0m\u001b[0;34m\u001b[0m\u001b[0m\n\u001b[1;32m    340\u001b[0m         \u001b[0;32mif\u001b[0m \u001b[0;32mnot\u001b[0m \u001b[0misinstance\u001b[0m\u001b[0;34m(\u001b[0m\u001b[0ms\u001b[0m\u001b[0;34m,\u001b[0m \u001b[0;34m(\u001b[0m\u001b[0mbytes\u001b[0m\u001b[0;34m,\u001b[0m \u001b[0mbytearray\u001b[0m\u001b[0;34m)\u001b[0m\u001b[0;34m)\u001b[0m\u001b[0;34m:\u001b[0m\u001b[0;34m\u001b[0m\u001b[0;34m\u001b[0m\u001b[0m\n\u001b[0;32m--> 341\u001b[0;31m             raise TypeError(f'the JSON object must be str, bytes or bytearray, '\n\u001b[0m\u001b[1;32m    342\u001b[0m                             f'not {s.__class__.__name__}')\n\u001b[1;32m    343\u001b[0m         \u001b[0ms\u001b[0m \u001b[0;34m=\u001b[0m \u001b[0ms\u001b[0m\u001b[0;34m.\u001b[0m\u001b[0mdecode\u001b[0m\u001b[0;34m(\u001b[0m\u001b[0mdetect_encoding\u001b[0m\u001b[0;34m(\u001b[0m\u001b[0ms\u001b[0m\u001b[0;34m)\u001b[0m\u001b[0;34m,\u001b[0m \u001b[0;34m'surrogatepass'\u001b[0m\u001b[0;34m)\u001b[0m\u001b[0;34m\u001b[0m\u001b[0;34m\u001b[0m\u001b[0m\n",
            "\u001b[0;31mTypeError\u001b[0m: the JSON object must be str, bytes or bytearray, not list"
          ]
        }
      ]
    },
    {
      "cell_type": "code",
      "metadata": {
        "colab": {
          "base_uri": "https://localhost:8080/"
        },
        "id": "3ixuO5YG_2rW",
        "outputId": "f80a7dd0-fffa-4e6a-9a72-eaf8b27ee940"
      },
      "source": [
        "type(nested_dict)"
      ],
      "execution_count": 28,
      "outputs": [
        {
          "output_type": "execute_result",
          "data": {
            "text/plain": [
              "list"
            ]
          },
          "metadata": {
            "tags": []
          },
          "execution_count": 28
        }
      ]
    },
    {
      "cell_type": "code",
      "metadata": {
        "colab": {
          "base_uri": "https://localhost:8080/"
        },
        "id": "j8gUZ8CzAMu0",
        "outputId": "040436b0-59c2-49da-e1f9-55ec16499dcb"
      },
      "source": [
        "# Convertimos el objeto (anteriormente en lista) de json a list\n",
        "json2list = json.loads(json_lista)\n",
        "print(json2list)"
      ],
      "execution_count": 29,
      "outputs": [
        {
          "output_type": "stream",
          "text": [
            "[1, 2, 3]\n"
          ],
          "name": "stdout"
        }
      ]
    },
    {
      "cell_type": "code",
      "metadata": {
        "colab": {
          "base_uri": "https://localhost:8080/"
        },
        "id": "gTr5ukBQAUDK",
        "outputId": "39a1267c-1f25-4e29-9562-9e3bea83a53f"
      },
      "source": [
        "type(json2list)"
      ],
      "execution_count": 30,
      "outputs": [
        {
          "output_type": "execute_result",
          "data": {
            "text/plain": [
              "list"
            ]
          },
          "metadata": {
            "tags": []
          },
          "execution_count": 30
        }
      ]
    },
    {
      "cell_type": "code",
      "metadata": {
        "colab": {
          "base_uri": "https://localhost:8080/"
        },
        "id": "Xu_H2swmAfhF",
        "outputId": "70f2c944-e965-4ec2-ea26-e87091bb38eb"
      },
      "source": [
        "# Si realizamos el dump de un diccionario anidad\n",
        "json_anidado = json.dumps(nested_dict)\n",
        "print(json_anidado)"
      ],
      "execution_count": 31,
      "outputs": [
        {
          "output_type": "stream",
          "text": [
            "[{\"nombre\": \"Maria\", \"apellidos\": {\"apellido1\": \"Perez\", \"apellido2\": \"Garcia\"}, \"edad\": 56, \"geoloc\": [-14.5, 56.3], \"mascotas\": [{\"perro\": \"Chucy\"}, {\"gato\": \"Fluffy\"}]}]\n"
          ],
          "name": "stdout"
        }
      ]
    },
    {
      "cell_type": "code",
      "metadata": {
        "colab": {
          "base_uri": "https://localhost:8080/"
        },
        "id": "q4zbqksoApj3",
        "outputId": "3285ae5b-37ae-4031-e42c-f69b19eb2d01"
      },
      "source": [
        "type(json_anidado)"
      ],
      "execution_count": 32,
      "outputs": [
        {
          "output_type": "execute_result",
          "data": {
            "text/plain": [
              "str"
            ]
          },
          "metadata": {
            "tags": []
          },
          "execution_count": 32
        }
      ]
    },
    {
      "cell_type": "code",
      "metadata": {
        "colab": {
          "base_uri": "https://localhost:8080/"
        },
        "id": "g1BaTq8jAtwe",
        "outputId": "4224f1f4-5b43-4657-80b7-5fb6578c5bb8"
      },
      "source": [
        "json2nested = json.loads(json_anidado)\n",
        "print(json2nested)\n"
      ],
      "execution_count": 33,
      "outputs": [
        {
          "output_type": "stream",
          "text": [
            "[{'nombre': 'Maria', 'apellidos': {'apellido1': 'Perez', 'apellido2': 'Garcia'}, 'edad': 56, 'geoloc': [-14.5, 56.3], 'mascotas': [{'perro': 'Chucy'}, {'gato': 'Fluffy'}]}]\n"
          ],
          "name": "stdout"
        }
      ]
    },
    {
      "cell_type": "code",
      "metadata": {
        "colab": {
          "base_uri": "https://localhost:8080/"
        },
        "id": "3AtewhHvA0we",
        "outputId": "db7f10b5-59ab-4a8c-abaa-53643f5574c2"
      },
      "source": [
        "type(json2nested)"
      ],
      "execution_count": 34,
      "outputs": [
        {
          "output_type": "execute_result",
          "data": {
            "text/plain": [
              "list"
            ]
          },
          "metadata": {
            "tags": []
          },
          "execution_count": 34
        }
      ]
    },
    {
      "cell_type": "code",
      "metadata": {
        "colab": {
          "base_uri": "https://localhost:8080/"
        },
        "id": "LcNiGZoAA5Gb",
        "outputId": "8ebb4297-1369-449e-8fa6-b190c010c423"
      },
      "source": [
        "type(json2nested[0])"
      ],
      "execution_count": 35,
      "outputs": [
        {
          "output_type": "execute_result",
          "data": {
            "text/plain": [
              "dict"
            ]
          },
          "metadata": {
            "tags": []
          },
          "execution_count": 35
        }
      ]
    },
    {
      "cell_type": "markdown",
      "metadata": {
        "id": "3dR1yWySBG9P"
      },
      "source": [
        "***\n",
        "Para mejorar la legibilidad de los datos que obtendremos de las API, definiremos una función que mostrará cadenas JSON por pantalla formateadas para mejorar la lectura. La función aceptará tanto cadenas de carácteres con contenido JSON como objetos Python, y mostrará el contenido por pantalla.\n",
        "\n",
        "Además, la función recibirá un parámetro opcional que nos permitirá indicar el número máximo de líneas que hay que mostrar. Así, podremos usar la función para visualizar las primeras líneas de un JSON largo, sin tener que mostrar el JSON completo por pantalla."
      ]
    },
    {
      "cell_type": "code",
      "metadata": {
        "colab": {
          "base_uri": "https://localhost:8080/",
          "height": 54
        },
        "id": "ka9vHTxPBKiB",
        "outputId": "cf5813dd-addf-44ef-abde-acd373eb44c5"
      },
      "source": [
        "json_dict"
      ],
      "execution_count": 37,
      "outputs": [
        {
          "output_type": "execute_result",
          "data": {
            "application/vnd.google.colaboratory.intrinsic+json": {
              "type": "string"
            },
            "text/plain": [
              "'{\"nombre\": \"Maria\", \"apellidos\": {\"apellido1\": \"Perez\", \"apellido2\": \"Garcia\"}, \"edad\": 56, \"geoloc\": [-14.5, 56.3], \"mascotas\": [{\"perro\": \"Chucy\"}, {\"gato\": \"Fluffy\"}]}'"
            ]
          },
          "metadata": {
            "tags": []
          },
          "execution_count": 37
        }
      ]
    },
    {
      "cell_type": "code",
      "metadata": {
        "colab": {
          "base_uri": "https://localhost:8080/"
        },
        "id": "LNe4q457BNlI",
        "outputId": "612cbc43-84d7-458c-d025-dd8128319df6"
      },
      "source": [
        "json2dict"
      ],
      "execution_count": 38,
      "outputs": [
        {
          "output_type": "execute_result",
          "data": {
            "text/plain": [
              "{'apellidos': {'apellido1': 'Perez', 'apellido2': 'Garcia'},\n",
              " 'edad': 56,\n",
              " 'geoloc': [-14.5, 56.3],\n",
              " 'mascotas': [{'perro': 'Chucy'}, {'gato': 'Fluffy'}],\n",
              " 'nombre': 'Maria'}"
            ]
          },
          "metadata": {
            "tags": []
          },
          "execution_count": 38
        }
      ]
    },
    {
      "cell_type": "code",
      "metadata": {
        "id": "a29iVkxiBZVm"
      },
      "source": [
        "# Definimos una función `json_print` que tiene un parámetro (json_data) y uno opcional (limit)\n",
        "# El parámetro sort_keys FALSE para ordenar o no alfabeticamente\n",
        "# el parámetro indent para buscar entre los anidados (niveles)\n",
        "def json_print(json_data, limit=None):\n",
        "    if isinstance(json_data, (str)):\n",
        "        json_data = json.loads(json_data)\n",
        "    nice = json.dumps(json_data, sort_keys=False, indent=3, separators=(',',':'))\n",
        "    print(\"\\n\".join(nice.split(\"\\n\")[0:limit]))\n",
        "    if limit is not None:\n",
        "        print(\"[....]\")"
      ],
      "execution_count": 39,
      "outputs": []
    },
    {
      "cell_type": "code",
      "metadata": {
        "colab": {
          "base_uri": "https://localhost:8080/"
        },
        "id": "CzU-D-blBiTl",
        "outputId": "ae61c48d-6baa-4379-bfad-4f15c074b39d"
      },
      "source": [
        "json_print(json_dict)"
      ],
      "execution_count": 40,
      "outputs": [
        {
          "output_type": "stream",
          "text": [
            "{\n",
            "   \"nombre\":\"Maria\",\n",
            "   \"apellidos\":{\n",
            "      \"apellido1\":\"Perez\",\n",
            "      \"apellido2\":\"Garcia\"\n",
            "   },\n",
            "   \"edad\":56,\n",
            "   \"geoloc\":[\n",
            "      -14.5,\n",
            "      56.3\n",
            "   ],\n",
            "   \"mascotas\":[\n",
            "      {\n",
            "         \"perro\":\"Chucy\"\n",
            "      },\n",
            "      {\n",
            "         \"gato\":\"Fluffy\"\n",
            "      }\n",
            "   ]\n",
            "}\n"
          ],
          "name": "stdout"
        }
      ]
    },
    {
      "cell_type": "code",
      "metadata": {
        "id": "mysYBo6xB61U"
      },
      "source": [
        "# Aplicamos la función a un tweet\n",
        "tweet = {\n",
        "  \"created_at\": \"Thu Apr 06 15:24:15 +0000 2017\",\n",
        "  \"id_str\": \"850006245121695744\",\n",
        "  \"text\": \"1\\/ Today we\\u2019re sharing our vision for the future of the Twitter API platform!\\nhttps:\\/\\/t.co\\/XweGngmxlP\",\n",
        "  \"user\": {\n",
        "    \"id\": 2244994945,\n",
        "    \"name\": \"Twitter Dev\",\n",
        "    \"screen_name\": \"TwitterDev\",\n",
        "    \"location\": \"Internet\",\n",
        "    \"url\": \"https:\\/\\/dev.twitter.com\\/\",\n",
        "    \"description\": \"Your official source for Twitter Platform news, updates & events. Need technical help? Visit https:\\/\\/twittercommunity.com\\/ \\u2328\\ufe0f #TapIntoTwitter\"\n",
        "  },\n",
        "  \"place\": {   \n",
        "  },\n",
        "  \"entities\": {\n",
        "    \"hashtags\": [      \n",
        "    ],\n",
        "    \"urls\": [\n",
        "      {\n",
        "        \"url\": \"https:\\/\\/t.co\\/XweGngmxlP\",\n",
        "        \"unwound\": {\n",
        "          \"url\": \"https:\\/\\/cards.twitter.com\\/cards\\/18ce53wgo4h\\/3xo1c\",\n",
        "          \"title\": \"Building the Future of the Twitter API Platform\"\n",
        "        }\n",
        "      }\n",
        "    ],\n",
        "    \"user_mentions\": [     \n",
        "    ]\n",
        "  }\n",
        "}"
      ],
      "execution_count": 41,
      "outputs": []
    },
    {
      "cell_type": "code",
      "metadata": {
        "colab": {
          "base_uri": "https://localhost:8080/"
        },
        "id": "N14UPXRtCDaz",
        "outputId": "c39d4556-e9c4-4f86-9edf-510800820fc0"
      },
      "source": [
        "type(tweet)"
      ],
      "execution_count": 42,
      "outputs": [
        {
          "output_type": "execute_result",
          "data": {
            "text/plain": [
              "dict"
            ]
          },
          "metadata": {
            "tags": []
          },
          "execution_count": 42
        }
      ]
    },
    {
      "cell_type": "code",
      "metadata": {
        "colab": {
          "base_uri": "https://localhost:8080/"
        },
        "id": "49xHooAlCLFG",
        "outputId": "402fe35b-b1c1-4a26-91a8-1846823d49a9"
      },
      "source": [
        "json_print(tweet)"
      ],
      "execution_count": 43,
      "outputs": [
        {
          "output_type": "stream",
          "text": [
            "{\n",
            "   \"created_at\":\"Thu Apr 06 15:24:15 +0000 2017\",\n",
            "   \"id_str\":\"850006245121695744\",\n",
            "   \"text\":\"1\\\\/ Today we\\u2019re sharing our vision for the future of the Twitter API platform!\\nhttps:\\\\/\\\\/t.co\\\\/XweGngmxlP\",\n",
            "   \"user\":{\n",
            "      \"id\":2244994945,\n",
            "      \"name\":\"Twitter Dev\",\n",
            "      \"screen_name\":\"TwitterDev\",\n",
            "      \"location\":\"Internet\",\n",
            "      \"url\":\"https:\\\\/\\\\/dev.twitter.com\\\\/\",\n",
            "      \"description\":\"Your official source for Twitter Platform news, updates & events. Need technical help? Visit https:\\\\/\\\\/twittercommunity.com\\\\/ \\u2328\\ufe0f #TapIntoTwitter\"\n",
            "   },\n",
            "   \"place\":{},\n",
            "   \"entities\":{\n",
            "      \"hashtags\":[],\n",
            "      \"urls\":[\n",
            "         {\n",
            "            \"url\":\"https:\\\\/\\\\/t.co\\\\/XweGngmxlP\",\n",
            "            \"unwound\":{\n",
            "               \"url\":\"https:\\\\/\\\\/cards.twitter.com\\\\/cards\\\\/18ce53wgo4h\\\\/3xo1c\",\n",
            "               \"title\":\"Building the Future of the Twitter API Platform\"\n",
            "            }\n",
            "         }\n",
            "      ],\n",
            "      \"user_mentions\":[]\n",
            "   }\n",
            "}\n"
          ],
          "name": "stdout"
        }
      ]
    },
    {
      "cell_type": "code",
      "metadata": {
        "colab": {
          "base_uri": "https://localhost:8080/"
        },
        "id": "ZrOt1MfsCZwQ",
        "outputId": "0be77950-c1a9-4988-d774-408d18c2d789"
      },
      "source": [
        "print(diccionario_ejemplo)"
      ],
      "execution_count": 45,
      "outputs": [
        {
          "output_type": "stream",
          "text": [
            "{'nombre': 'Maria', 'apellidos': {'apellido1': 'Perez', 'apellido2': 'Garcia'}, 'edad': 56, 'geoloc': (-14.5, 56.3), 'mascotas': [{'perro': 'Chucy'}, {'gato': 'Fluffy'}]}\n"
          ],
          "name": "stdout"
        }
      ]
    },
    {
      "cell_type": "code",
      "metadata": {
        "colab": {
          "base_uri": "https://localhost:8080/"
        },
        "id": "avLHk5CuCdKc",
        "outputId": "4a0bafd4-f4c9-4e5c-a7d6-47a98ec54e59"
      },
      "source": [
        "diccionario_ejemplo"
      ],
      "execution_count": 46,
      "outputs": [
        {
          "output_type": "execute_result",
          "data": {
            "text/plain": [
              "{'apellidos': {'apellido1': 'Perez', 'apellido2': 'Garcia'},\n",
              " 'edad': 56,\n",
              " 'geoloc': (-14.5, 56.3),\n",
              " 'mascotas': [{'perro': 'Chucy'}, {'gato': 'Fluffy'}],\n",
              " 'nombre': 'Maria'}"
            ]
          },
          "metadata": {
            "tags": []
          },
          "execution_count": 46
        }
      ]
    },
    {
      "cell_type": "code",
      "metadata": {
        "colab": {
          "base_uri": "https://localhost:8080/"
        },
        "id": "5zPJ52qfCW6t",
        "outputId": "d2c21580-1a1b-4954-bcf7-4c1f4693a3ac"
      },
      "source": [
        "json_print(diccionario_ejemplo)"
      ],
      "execution_count": 44,
      "outputs": [
        {
          "output_type": "stream",
          "text": [
            "{\n",
            "   \"nombre\":\"Maria\",\n",
            "   \"apellidos\":{\n",
            "      \"apellido1\":\"Perez\",\n",
            "      \"apellido2\":\"Garcia\"\n",
            "   },\n",
            "   \"edad\":56,\n",
            "   \"geoloc\":[\n",
            "      -14.5,\n",
            "      56.3\n",
            "   ],\n",
            "   \"mascotas\":[\n",
            "      {\n",
            "         \"perro\":\"Chucy\"\n",
            "      },\n",
            "      {\n",
            "         \"gato\":\"Fluffy\"\n",
            "      }\n",
            "   ]\n",
            "}\n"
          ],
          "name": "stdout"
        }
      ]
    },
    {
      "cell_type": "markdown",
      "metadata": {
        "id": "rUotejexCyDT"
      },
      "source": [
        "***\n",
        "\n",
        "# Adquisión de datos `API`\n",
        "\n",
        "- [ ] descarga directa\n",
        "- [X] petición GET a través de API de terceros (ej. AEMET, Ayto. Barcelona....)\n",
        "- web crawling (que es una práctica ilegal...pero muy de moda entre los hackers!?¿!)"
      ]
    },
    {
      "cell_type": "markdown",
      "metadata": {
        "id": "WmlwOAeQC74C"
      },
      "source": [
        "## Acceso a API manualmente\n",
        "\n",
        "Podemos utilizar la librería de Python [Requests](http://docs.python-requests.org/) para realizar peticiones a web API de manera manual. Para ello, tendremos que acceder a la documentación de la API con la que queramos actuar, construir manualmente las peticiones para obtener la información deseada y procesar también manualmente la respuesta recibida.\n",
        "\n",
        "Veamos un ejemplo de petición HTTP a una API pública. El sitio http://postcodes.io/ ofrece una API de geolocalización sobre códigos postales en el Reino Unido. Leyendo la documentación, podemos ver que tiene un método GET con la URL http://api.postcodes.io/postcodes/código-postal que nos retorna información del código postal especificado. \n",
        "\n",
        "Una **API** (del inglés, Application Programming Interface) es un conjunto de métodos de comunicación entre varios componentes de software.\n",
        "\n",
        "Las API facilitan el trabajo de integración de programas ya que permiten ofrecer una interfaz clara y bien especificada con la que interactuar con una aplicación, ocultando los detalles de la implementación concreta y exponiendo únicamente funciones específicas de interés.\n",
        "\n",
        "La definición de API es muy genérica y podemos encontrar API en muchos contextos. En esta unidad, nos centraremos en el uso de API web para la adquisición de datos de servicios de terceros. Las API web se definen habitualmente como un conjunto de peticiones HTTP junto con la especificación de la estructura de los datos de las respuestas, normalmente en formato JSON o XML.\n",
        "\n",
        "El uso de API web está muy extendido actualmente para interactuar con grandes proveedores de servicios en Internet. Algunos ejemplos de API populares son las de [Google maps](https://developers.google.com/maps/), [YouTube](https://developers.google.com/youtube/), [Spotify](https://developer.spotify.com/web-api/), [Twitter](https://developer.spotify.com/web-api/) o [Facebook](https://developer.spotify.com/web-api/).\n",
        "\n",
        "Decimos que una API es RESTful (o, a veces, simplemente REST) cuando cumple un conjunto de características, entre las cuales destaca que no mantiene el estado entre peticiones. Es decir, toda la información necesaria para responder una petición se encuentra en la petición individual (y no depende de ningún estado almacenado por el servidor). \n",
        "\n",
        "### 3.2 Peticiones HTTP\n",
        "Para interactuar con una web API realizaremos una petición HTTP. A su vez, el servidor nos responderá con un mensaje de respuesta HTTP. Las peticiones y respuestas HTTP se estructuran en tres partes:\n",
        "\n",
        "Una línea inicial de petición, que incluye la acción que hay que realizar (el método de la petición) y la URL del recurso, en las peticiones; y el código de estado y el mensaje asociado, en el caso de las respuestas.\n",
        "La cabecera, que incluye metadatos con varias finalidades, por ejemplo, para describir el contenido, realizar la autenticación o controlar las cookies.\n",
        "Una línea en blanco que separa la cabecera del cuerpo.\n",
        "El cuerpo, que puede estar vacío o contener datos.\n",
        "En la siguiente imagen se muestra un ejemplo simplificado de una petición y una respuesta HTTP:"
      ]
    },
    {
      "cell_type": "code",
      "metadata": {
        "id": "Znlw2apTC4e5"
      },
      "source": [
        "# importar la librería requests\n",
        "import requests\n",
        "\n",
        "# realizamos la petición GET a la API por un código postal 'E98 1TT'\n",
        "respuesta = requests.get('http://api.postcodes.io/postcodes/E981TT')"
      ],
      "execution_count": 47,
      "outputs": []
    },
    {
      "cell_type": "code",
      "metadata": {
        "colab": {
          "base_uri": "https://localhost:8080/"
        },
        "id": "H5tIa_dgGABr",
        "outputId": "7873307e-eb13-4bb8-f80c-64c5f35d0502"
      },
      "source": [
        "# mostramos la respuesta\n",
        "print(u\"Código de estado de la petición es: \", respuesta.status_code, \"\\n\")"
      ],
      "execution_count": 50,
      "outputs": [
        {
          "output_type": "stream",
          "text": [
            "Código de estado de la petición es:  200 \n",
            "\n"
          ],
          "name": "stdout"
        }
      ]
    },
    {
      "cell_type": "markdown",
      "metadata": {
        "id": "bwS_HAGSKX8D"
      },
      "source": [
        "### Respuestas HTTP\n",
        "La línea inicial de las respuestas HTTP contiene el código de estado, un número entero de tres cifras que informa sobre el intento de entender y procesar la petición HTTP. El primer dígito del número define el tipo de respuesta. Actualmente, existen cinco tipos reconocidos:\n",
        "\n",
        "- 1xx: informacional.\n",
        "- 2xx: éxito.\n",
        "- 3xx: redirección.\n",
        "- 4xx: error del cliente.\n",
        "- 5xx: error del servidor.\n",
        "\n",
        "Así, cuando navegamos por Internet, normalmente nuestras peticiones se responden correctamente, devolviendo el código de estado 200. De vez en cuando nos encontramos también con errores del cliente. Por ejemplo, el error 404 nos indica que nuestra máquina ha sido capaz de comunicarse con el servidor, pero que el recurso que hemos solicitado no existe. Podemos forzar este error accediendo a [URLs no válidas](https://es.wikipedia.org/wiki/HTTP_404).\n",
        "\n",
        "Las acciones o métodos más usados en interacción con web API son:\n",
        "\n",
        "- GET: permite obtener información del recurso especificado.\n",
        "- POST: permite enviar datos al recurso especificado.\n",
        "- PUT: carga datos actualizando los ya existentes en el recurso especificado.\n",
        "- DELETE: elimina información del recurso especificado."
      ]
    },
    {
      "cell_type": "code",
      "metadata": {
        "colab": {
          "base_uri": "https://localhost:8080/"
        },
        "id": "8rx-ce_WG6XX",
        "outputId": "43c35d22-445b-42fe-eae2-9d7d5bdf4c2a"
      },
      "source": [
        "print(respuesta.headers)"
      ],
      "execution_count": 51,
      "outputs": [
        {
          "output_type": "stream",
          "text": [
            "{'Date': 'Sat, 10 Jul 2021 11:05:30 GMT', 'Content-Type': 'application/json; charset=utf-8', 'Transfer-Encoding': 'chunked', 'Connection': 'keep-alive', 'x-gnu': 'Michael J Blanchard', 'access-control-allow-origin': '*', 'etag': 'W/\"373-/8yjBdTw42so+uUhFTU7MuYLzQA\"', 'CF-Cache-Status': 'MISS', 'Report-To': '{\"endpoints\":[{\"url\":\"https:\\\\/\\\\/a.nel.cloudflare.com\\\\/report\\\\/v2?s=RSpjnNs5G89fVw5sqKzEfLRVpevY5TcKa%2BxPoiemW6P4FLiqkOBFD07amuWH4WFSCexb3Ws5S2pFhlpqSQpZ6j4lBcUlzwBkmW0%2Fh%2Frnbruhy%2Bvj5NHHpe0o%2BR%2Bh\"}],\"group\":\"cf-nel\",\"max_age\":604800}', 'NEL': '{\"report_to\":\"cf-nel\",\"max_age\":604800}', 'Vary': 'Accept-Encoding', 'Server': 'cloudflare', 'CF-RAY': '66c9513c0863b9fe-ATL', 'Content-Encoding': 'gzip'}\n"
          ],
          "name": "stdout"
        }
      ]
    },
    {
      "cell_type": "code",
      "metadata": {
        "colab": {
          "base_uri": "https://localhost:8080/"
        },
        "id": "bIwnF3vcHJk9",
        "outputId": "04e6a058-0649-40ac-cae2-52eb84ebe004"
      },
      "source": [
        "print(respuesta.content)"
      ],
      "execution_count": 52,
      "outputs": [
        {
          "output_type": "stream",
          "text": [
            "b'{\"status\":200,\"result\":{\"postcode\":\"E98 1TT\",\"quality\":1,\"eastings\":534427,\"northings\":180564,\"country\":\"England\",\"nhs_ha\":\"London\",\"longitude\":-0.064393,\"latitude\":51.508024,\"european_electoral_region\":\"London\",\"primary_care_trust\":\"Tower Hamlets\",\"region\":\"London\",\"lsoa\":\"Tower Hamlets 026B\",\"msoa\":\"Tower Hamlets 026\",\"incode\":\"1TT\",\"outcode\":\"E98\",\"parliamentary_constituency\":\"Poplar and Limehouse\",\"admin_district\":\"Tower Hamlets\",\"parish\":\"Tower Hamlets, unparished area\",\"admin_county\":null,\"admin_ward\":\"St Katharine\\'s & Wapping\",\"ced\":null,\"ccg\":\"NHS North East London\",\"nuts\":\"Tower Hamlets\",\"codes\":{\"admin_district\":\"E09000030\",\"admin_county\":\"E99999999\",\"admin_ward\":\"E05009330\",\"parish\":\"E43000220\",\"parliamentary_constituency\":\"E14000882\",\"ccg\":\"E38000255\",\"ccg_id\":\"A3A8R\",\"ced\":\"E99999999\",\"nuts\":\"TLI42\",\"lsoa\":\"E01004294\",\"msoa\":\"E02000889\",\"lau2\":\"E09000030\"}}}'\n"
          ],
          "name": "stdout"
        }
      ]
    },
    {
      "cell_type": "code",
      "metadata": {
        "id": "eSs30bKsHUzr"
      },
      "source": [
        "jsonAPI = respuesta.content"
      ],
      "execution_count": 53,
      "outputs": []
    },
    {
      "cell_type": "code",
      "metadata": {
        "colab": {
          "base_uri": "https://localhost:8080/"
        },
        "id": "Mp5-xYvDHYKm",
        "outputId": "b8fbc72c-72c6-4001-8169-0c478f12c719"
      },
      "source": [
        "jsonAPI"
      ],
      "execution_count": 54,
      "outputs": [
        {
          "output_type": "execute_result",
          "data": {
            "text/plain": [
              "b'{\"status\":200,\"result\":{\"postcode\":\"E98 1TT\",\"quality\":1,\"eastings\":534427,\"northings\":180564,\"country\":\"England\",\"nhs_ha\":\"London\",\"longitude\":-0.064393,\"latitude\":51.508024,\"european_electoral_region\":\"London\",\"primary_care_trust\":\"Tower Hamlets\",\"region\":\"London\",\"lsoa\":\"Tower Hamlets 026B\",\"msoa\":\"Tower Hamlets 026\",\"incode\":\"1TT\",\"outcode\":\"E98\",\"parliamentary_constituency\":\"Poplar and Limehouse\",\"admin_district\":\"Tower Hamlets\",\"parish\":\"Tower Hamlets, unparished area\",\"admin_county\":null,\"admin_ward\":\"St Katharine\\'s & Wapping\",\"ced\":null,\"ccg\":\"NHS North East London\",\"nuts\":\"Tower Hamlets\",\"codes\":{\"admin_district\":\"E09000030\",\"admin_county\":\"E99999999\",\"admin_ward\":\"E05009330\",\"parish\":\"E43000220\",\"parliamentary_constituency\":\"E14000882\",\"ccg\":\"E38000255\",\"ccg_id\":\"A3A8R\",\"ced\":\"E99999999\",\"nuts\":\"TLI42\",\"lsoa\":\"E01004294\",\"msoa\":\"E02000889\",\"lau2\":\"E09000030\"}}}'"
            ]
          },
          "metadata": {
            "tags": []
          },
          "execution_count": 54
        }
      ]
    },
    {
      "cell_type": "code",
      "metadata": {
        "colab": {
          "base_uri": "https://localhost:8080/"
        },
        "id": "tORbjxHQHawT",
        "outputId": "6698e813-f8b9-481c-fa51-c71d113aac22"
      },
      "source": [
        "type(jsonAPI)"
      ],
      "execution_count": 56,
      "outputs": [
        {
          "output_type": "execute_result",
          "data": {
            "text/plain": [
              "bytes"
            ]
          },
          "metadata": {
            "tags": []
          },
          "execution_count": 56
        }
      ]
    },
    {
      "cell_type": "code",
      "metadata": {
        "colab": {
          "base_uri": "https://localhost:8080/",
          "height": 327
        },
        "id": "8pqZocBbHeMc",
        "outputId": "f0fef5e9-799c-4ca5-ca5f-cf4192619cc6"
      },
      "source": [
        "json_print(jsonAPI)"
      ],
      "execution_count": 57,
      "outputs": [
        {
          "output_type": "error",
          "ename": "TypeError",
          "evalue": "ignored",
          "traceback": [
            "\u001b[0;31m---------------------------------------------------------------------------\u001b[0m",
            "\u001b[0;31mTypeError\u001b[0m                                 Traceback (most recent call last)",
            "\u001b[0;32m<ipython-input-57-ad48dde25822>\u001b[0m in \u001b[0;36m<module>\u001b[0;34m()\u001b[0m\n\u001b[0;32m----> 1\u001b[0;31m \u001b[0mjson_print\u001b[0m\u001b[0;34m(\u001b[0m\u001b[0mjsonAPI\u001b[0m\u001b[0;34m)\u001b[0m\u001b[0;34m\u001b[0m\u001b[0;34m\u001b[0m\u001b[0m\n\u001b[0m",
            "\u001b[0;32m<ipython-input-39-786260de3de3>\u001b[0m in \u001b[0;36mjson_print\u001b[0;34m(json_data, limit)\u001b[0m\n\u001b[1;32m      5\u001b[0m     \u001b[0;32mif\u001b[0m \u001b[0misinstance\u001b[0m\u001b[0;34m(\u001b[0m\u001b[0mjson_data\u001b[0m\u001b[0;34m,\u001b[0m \u001b[0;34m(\u001b[0m\u001b[0mstr\u001b[0m\u001b[0;34m)\u001b[0m\u001b[0;34m)\u001b[0m\u001b[0;34m:\u001b[0m\u001b[0;34m\u001b[0m\u001b[0;34m\u001b[0m\u001b[0m\n\u001b[1;32m      6\u001b[0m         \u001b[0mjson_data\u001b[0m \u001b[0;34m=\u001b[0m \u001b[0mjson\u001b[0m\u001b[0;34m.\u001b[0m\u001b[0mloads\u001b[0m\u001b[0;34m(\u001b[0m\u001b[0mjson_data\u001b[0m\u001b[0;34m)\u001b[0m\u001b[0;34m\u001b[0m\u001b[0;34m\u001b[0m\u001b[0m\n\u001b[0;32m----> 7\u001b[0;31m     \u001b[0mnice\u001b[0m \u001b[0;34m=\u001b[0m \u001b[0mjson\u001b[0m\u001b[0;34m.\u001b[0m\u001b[0mdumps\u001b[0m\u001b[0;34m(\u001b[0m\u001b[0mjson_data\u001b[0m\u001b[0;34m,\u001b[0m \u001b[0msort_keys\u001b[0m\u001b[0;34m=\u001b[0m\u001b[0;32mFalse\u001b[0m\u001b[0;34m,\u001b[0m \u001b[0mindent\u001b[0m\u001b[0;34m=\u001b[0m\u001b[0;36m3\u001b[0m\u001b[0;34m,\u001b[0m \u001b[0mseparators\u001b[0m\u001b[0;34m=\u001b[0m\u001b[0;34m(\u001b[0m\u001b[0;34m','\u001b[0m\u001b[0;34m,\u001b[0m\u001b[0;34m':'\u001b[0m\u001b[0;34m)\u001b[0m\u001b[0;34m)\u001b[0m\u001b[0;34m\u001b[0m\u001b[0;34m\u001b[0m\u001b[0m\n\u001b[0m\u001b[1;32m      8\u001b[0m     \u001b[0mprint\u001b[0m\u001b[0;34m(\u001b[0m\u001b[0;34m\"\\n\"\u001b[0m\u001b[0;34m.\u001b[0m\u001b[0mjoin\u001b[0m\u001b[0;34m(\u001b[0m\u001b[0mnice\u001b[0m\u001b[0;34m.\u001b[0m\u001b[0msplit\u001b[0m\u001b[0;34m(\u001b[0m\u001b[0;34m\"\\n\"\u001b[0m\u001b[0;34m)\u001b[0m\u001b[0;34m[\u001b[0m\u001b[0;36m0\u001b[0m\u001b[0;34m:\u001b[0m\u001b[0mlimit\u001b[0m\u001b[0;34m]\u001b[0m\u001b[0;34m)\u001b[0m\u001b[0;34m)\u001b[0m\u001b[0;34m\u001b[0m\u001b[0;34m\u001b[0m\u001b[0m\n\u001b[1;32m      9\u001b[0m     \u001b[0;32mif\u001b[0m \u001b[0mlimit\u001b[0m \u001b[0;32mis\u001b[0m \u001b[0;32mnot\u001b[0m \u001b[0;32mNone\u001b[0m\u001b[0;34m:\u001b[0m\u001b[0;34m\u001b[0m\u001b[0;34m\u001b[0m\u001b[0m\n",
            "\u001b[0;32m/usr/lib/python3.7/json/__init__.py\u001b[0m in \u001b[0;36mdumps\u001b[0;34m(obj, skipkeys, ensure_ascii, check_circular, allow_nan, cls, indent, separators, default, sort_keys, **kw)\u001b[0m\n\u001b[1;32m    236\u001b[0m         \u001b[0mcheck_circular\u001b[0m\u001b[0;34m=\u001b[0m\u001b[0mcheck_circular\u001b[0m\u001b[0;34m,\u001b[0m \u001b[0mallow_nan\u001b[0m\u001b[0;34m=\u001b[0m\u001b[0mallow_nan\u001b[0m\u001b[0;34m,\u001b[0m \u001b[0mindent\u001b[0m\u001b[0;34m=\u001b[0m\u001b[0mindent\u001b[0m\u001b[0;34m,\u001b[0m\u001b[0;34m\u001b[0m\u001b[0;34m\u001b[0m\u001b[0m\n\u001b[1;32m    237\u001b[0m         \u001b[0mseparators\u001b[0m\u001b[0;34m=\u001b[0m\u001b[0mseparators\u001b[0m\u001b[0;34m,\u001b[0m \u001b[0mdefault\u001b[0m\u001b[0;34m=\u001b[0m\u001b[0mdefault\u001b[0m\u001b[0;34m,\u001b[0m \u001b[0msort_keys\u001b[0m\u001b[0;34m=\u001b[0m\u001b[0msort_keys\u001b[0m\u001b[0;34m,\u001b[0m\u001b[0;34m\u001b[0m\u001b[0;34m\u001b[0m\u001b[0m\n\u001b[0;32m--> 238\u001b[0;31m         **kw).encode(obj)\n\u001b[0m\u001b[1;32m    239\u001b[0m \u001b[0;34m\u001b[0m\u001b[0m\n\u001b[1;32m    240\u001b[0m \u001b[0;34m\u001b[0m\u001b[0m\n",
            "\u001b[0;32m/usr/lib/python3.7/json/encoder.py\u001b[0m in \u001b[0;36mencode\u001b[0;34m(self, o)\u001b[0m\n\u001b[1;32m    199\u001b[0m         \u001b[0mchunks\u001b[0m \u001b[0;34m=\u001b[0m \u001b[0mself\u001b[0m\u001b[0;34m.\u001b[0m\u001b[0miterencode\u001b[0m\u001b[0;34m(\u001b[0m\u001b[0mo\u001b[0m\u001b[0;34m,\u001b[0m \u001b[0m_one_shot\u001b[0m\u001b[0;34m=\u001b[0m\u001b[0;32mTrue\u001b[0m\u001b[0;34m)\u001b[0m\u001b[0;34m\u001b[0m\u001b[0;34m\u001b[0m\u001b[0m\n\u001b[1;32m    200\u001b[0m         \u001b[0;32mif\u001b[0m \u001b[0;32mnot\u001b[0m \u001b[0misinstance\u001b[0m\u001b[0;34m(\u001b[0m\u001b[0mchunks\u001b[0m\u001b[0;34m,\u001b[0m \u001b[0;34m(\u001b[0m\u001b[0mlist\u001b[0m\u001b[0;34m,\u001b[0m \u001b[0mtuple\u001b[0m\u001b[0;34m)\u001b[0m\u001b[0;34m)\u001b[0m\u001b[0;34m:\u001b[0m\u001b[0;34m\u001b[0m\u001b[0;34m\u001b[0m\u001b[0m\n\u001b[0;32m--> 201\u001b[0;31m             \u001b[0mchunks\u001b[0m \u001b[0;34m=\u001b[0m \u001b[0mlist\u001b[0m\u001b[0;34m(\u001b[0m\u001b[0mchunks\u001b[0m\u001b[0;34m)\u001b[0m\u001b[0;34m\u001b[0m\u001b[0;34m\u001b[0m\u001b[0m\n\u001b[0m\u001b[1;32m    202\u001b[0m         \u001b[0;32mreturn\u001b[0m \u001b[0;34m''\u001b[0m\u001b[0;34m.\u001b[0m\u001b[0mjoin\u001b[0m\u001b[0;34m(\u001b[0m\u001b[0mchunks\u001b[0m\u001b[0;34m)\u001b[0m\u001b[0;34m\u001b[0m\u001b[0;34m\u001b[0m\u001b[0m\n\u001b[1;32m    203\u001b[0m \u001b[0;34m\u001b[0m\u001b[0m\n",
            "\u001b[0;32m/usr/lib/python3.7/json/encoder.py\u001b[0m in \u001b[0;36m_iterencode\u001b[0;34m(o, _current_indent_level)\u001b[0m\n\u001b[1;32m    436\u001b[0m                     \u001b[0;32mraise\u001b[0m \u001b[0mValueError\u001b[0m\u001b[0;34m(\u001b[0m\u001b[0;34m\"Circular reference detected\"\u001b[0m\u001b[0;34m)\u001b[0m\u001b[0;34m\u001b[0m\u001b[0;34m\u001b[0m\u001b[0m\n\u001b[1;32m    437\u001b[0m                 \u001b[0mmarkers\u001b[0m\u001b[0;34m[\u001b[0m\u001b[0mmarkerid\u001b[0m\u001b[0;34m]\u001b[0m \u001b[0;34m=\u001b[0m \u001b[0mo\u001b[0m\u001b[0;34m\u001b[0m\u001b[0;34m\u001b[0m\u001b[0m\n\u001b[0;32m--> 438\u001b[0;31m             \u001b[0mo\u001b[0m \u001b[0;34m=\u001b[0m \u001b[0m_default\u001b[0m\u001b[0;34m(\u001b[0m\u001b[0mo\u001b[0m\u001b[0;34m)\u001b[0m\u001b[0;34m\u001b[0m\u001b[0;34m\u001b[0m\u001b[0m\n\u001b[0m\u001b[1;32m    439\u001b[0m             \u001b[0;32myield\u001b[0m \u001b[0;32mfrom\u001b[0m \u001b[0m_iterencode\u001b[0m\u001b[0;34m(\u001b[0m\u001b[0mo\u001b[0m\u001b[0;34m,\u001b[0m \u001b[0m_current_indent_level\u001b[0m\u001b[0;34m)\u001b[0m\u001b[0;34m\u001b[0m\u001b[0;34m\u001b[0m\u001b[0m\n\u001b[1;32m    440\u001b[0m             \u001b[0;32mif\u001b[0m \u001b[0mmarkers\u001b[0m \u001b[0;32mis\u001b[0m \u001b[0;32mnot\u001b[0m \u001b[0;32mNone\u001b[0m\u001b[0;34m:\u001b[0m\u001b[0;34m\u001b[0m\u001b[0;34m\u001b[0m\u001b[0m\n",
            "\u001b[0;32m/usr/lib/python3.7/json/encoder.py\u001b[0m in \u001b[0;36mdefault\u001b[0;34m(self, o)\u001b[0m\n\u001b[1;32m    177\u001b[0m \u001b[0;34m\u001b[0m\u001b[0m\n\u001b[1;32m    178\u001b[0m         \"\"\"\n\u001b[0;32m--> 179\u001b[0;31m         raise TypeError(f'Object of type {o.__class__.__name__} '\n\u001b[0m\u001b[1;32m    180\u001b[0m                         f'is not JSON serializable')\n\u001b[1;32m    181\u001b[0m \u001b[0;34m\u001b[0m\u001b[0m\n",
            "\u001b[0;31mTypeError\u001b[0m: Object of type bytes is not JSON serializable"
          ]
        }
      ]
    },
    {
      "cell_type": "code",
      "metadata": {
        "colab": {
          "base_uri": "https://localhost:8080/"
        },
        "id": "nAuWELIKHkqq",
        "outputId": "0543488c-7fce-48a6-a744-a8b64c6211ce"
      },
      "source": [
        "type(json.loads(jsonAPI))"
      ],
      "execution_count": 60,
      "outputs": [
        {
          "output_type": "execute_result",
          "data": {
            "text/plain": [
              "dict"
            ]
          },
          "metadata": {
            "tags": []
          },
          "execution_count": 60
        }
      ]
    },
    {
      "cell_type": "code",
      "metadata": {
        "colab": {
          "base_uri": "https://localhost:8080/"
        },
        "id": "DDtNpOebH_3U",
        "outputId": "7f7869b5-9ffe-44bd-9b3f-2979b5856ad1"
      },
      "source": [
        "print(type(dict(respuesta.headers)))"
      ],
      "execution_count": 67,
      "outputs": [
        {
          "output_type": "stream",
          "text": [
            "<class 'dict'>\n"
          ],
          "name": "stdout"
        }
      ]
    },
    {
      "cell_type": "code",
      "metadata": {
        "colab": {
          "base_uri": "https://localhost:8080/"
        },
        "id": "vDrT-CuIHrSM",
        "outputId": "96303cfe-8b89-440e-939a-9d851394ed52"
      },
      "source": [
        "json2dictAPI = json.loads(jsonAPI)\n",
        "json2dictAPI"
      ],
      "execution_count": 62,
      "outputs": [
        {
          "output_type": "execute_result",
          "data": {
            "text/plain": [
              "{'result': {'admin_county': None,\n",
              "  'admin_district': 'Tower Hamlets',\n",
              "  'admin_ward': \"St Katharine's & Wapping\",\n",
              "  'ccg': 'NHS North East London',\n",
              "  'ced': None,\n",
              "  'codes': {'admin_county': 'E99999999',\n",
              "   'admin_district': 'E09000030',\n",
              "   'admin_ward': 'E05009330',\n",
              "   'ccg': 'E38000255',\n",
              "   'ccg_id': 'A3A8R',\n",
              "   'ced': 'E99999999',\n",
              "   'lau2': 'E09000030',\n",
              "   'lsoa': 'E01004294',\n",
              "   'msoa': 'E02000889',\n",
              "   'nuts': 'TLI42',\n",
              "   'parish': 'E43000220',\n",
              "   'parliamentary_constituency': 'E14000882'},\n",
              "  'country': 'England',\n",
              "  'eastings': 534427,\n",
              "  'european_electoral_region': 'London',\n",
              "  'incode': '1TT',\n",
              "  'latitude': 51.508024,\n",
              "  'longitude': -0.064393,\n",
              "  'lsoa': 'Tower Hamlets 026B',\n",
              "  'msoa': 'Tower Hamlets 026',\n",
              "  'nhs_ha': 'London',\n",
              "  'northings': 180564,\n",
              "  'nuts': 'Tower Hamlets',\n",
              "  'outcode': 'E98',\n",
              "  'parish': 'Tower Hamlets, unparished area',\n",
              "  'parliamentary_constituency': 'Poplar and Limehouse',\n",
              "  'postcode': 'E98 1TT',\n",
              "  'primary_care_trust': 'Tower Hamlets',\n",
              "  'quality': 1,\n",
              "  'region': 'London'},\n",
              " 'status': 200}"
            ]
          },
          "metadata": {
            "tags": []
          },
          "execution_count": 62
        }
      ]
    },
    {
      "cell_type": "code",
      "metadata": {
        "colab": {
          "base_uri": "https://localhost:8080/"
        },
        "id": "BPjE5I8uH4dD",
        "outputId": "3434ed36-a837-4be8-ba08-32fdac386726"
      },
      "source": [
        "type(json2dictAPI)"
      ],
      "execution_count": 63,
      "outputs": [
        {
          "output_type": "execute_result",
          "data": {
            "text/plain": [
              "dict"
            ]
          },
          "metadata": {
            "tags": []
          },
          "execution_count": 63
        }
      ]
    },
    {
      "cell_type": "code",
      "metadata": {
        "colab": {
          "base_uri": "https://localhost:8080/"
        },
        "id": "QMZHWlomIRbN",
        "outputId": "bdf54a0b-2ac6-42ba-a547-08bbf32246a7"
      },
      "source": [
        "type(respuesta.text)"
      ],
      "execution_count": 69,
      "outputs": [
        {
          "output_type": "execute_result",
          "data": {
            "text/plain": [
              "str"
            ]
          },
          "metadata": {
            "tags": []
          },
          "execution_count": 69
        }
      ]
    },
    {
      "cell_type": "code",
      "metadata": {
        "colab": {
          "base_uri": "https://localhost:8080/",
          "height": 128
        },
        "id": "sOTuw_MQIXik",
        "outputId": "6c9cbcbb-7c01-44a4-b8af-f56a32ca20ea"
      },
      "source": [
        "respuesta.text"
      ],
      "execution_count": 70,
      "outputs": [
        {
          "output_type": "execute_result",
          "data": {
            "application/vnd.google.colaboratory.intrinsic+json": {
              "type": "string"
            },
            "text/plain": [
              "'{\"status\":200,\"result\":{\"postcode\":\"E98 1TT\",\"quality\":1,\"eastings\":534427,\"northings\":180564,\"country\":\"England\",\"nhs_ha\":\"London\",\"longitude\":-0.064393,\"latitude\":51.508024,\"european_electoral_region\":\"London\",\"primary_care_trust\":\"Tower Hamlets\",\"region\":\"London\",\"lsoa\":\"Tower Hamlets 026B\",\"msoa\":\"Tower Hamlets 026\",\"incode\":\"1TT\",\"outcode\":\"E98\",\"parliamentary_constituency\":\"Poplar and Limehouse\",\"admin_district\":\"Tower Hamlets\",\"parish\":\"Tower Hamlets, unparished area\",\"admin_county\":null,\"admin_ward\":\"St Katharine\\'s & Wapping\",\"ced\":null,\"ccg\":\"NHS North East London\",\"nuts\":\"Tower Hamlets\",\"codes\":{\"admin_district\":\"E09000030\",\"admin_county\":\"E99999999\",\"admin_ward\":\"E05009330\",\"parish\":\"E43000220\",\"parliamentary_constituency\":\"E14000882\",\"ccg\":\"E38000255\",\"ccg_id\":\"A3A8R\",\"ced\":\"E99999999\",\"nuts\":\"TLI42\",\"lsoa\":\"E01004294\",\"msoa\":\"E02000889\",\"lau2\":\"E09000030\"}}}'"
            ]
          },
          "metadata": {
            "tags": []
          },
          "execution_count": 70
        }
      ]
    },
    {
      "cell_type": "code",
      "metadata": {
        "id": "0iOpkie3Ima_"
      },
      "source": [
        "import pandas as pd\n",
        "dataset = pd.read_json(respuesta.text)"
      ],
      "execution_count": 72,
      "outputs": []
    },
    {
      "cell_type": "code",
      "metadata": {
        "colab": {
          "base_uri": "https://localhost:8080/",
          "height": 802
        },
        "id": "jLLXWxQoI4gw",
        "outputId": "141731dc-bda3-4fa3-c992-caf19a764ba8"
      },
      "source": [
        "dataset"
      ],
      "execution_count": 73,
      "outputs": [
        {
          "output_type": "execute_result",
          "data": {
            "text/html": [
              "<div>\n",
              "<style scoped>\n",
              "    .dataframe tbody tr th:only-of-type {\n",
              "        vertical-align: middle;\n",
              "    }\n",
              "\n",
              "    .dataframe tbody tr th {\n",
              "        vertical-align: top;\n",
              "    }\n",
              "\n",
              "    .dataframe thead th {\n",
              "        text-align: right;\n",
              "    }\n",
              "</style>\n",
              "<table border=\"1\" class=\"dataframe\">\n",
              "  <thead>\n",
              "    <tr style=\"text-align: right;\">\n",
              "      <th></th>\n",
              "      <th>status</th>\n",
              "      <th>result</th>\n",
              "    </tr>\n",
              "  </thead>\n",
              "  <tbody>\n",
              "    <tr>\n",
              "      <th>admin_county</th>\n",
              "      <td>200</td>\n",
              "      <td>None</td>\n",
              "    </tr>\n",
              "    <tr>\n",
              "      <th>admin_district</th>\n",
              "      <td>200</td>\n",
              "      <td>Tower Hamlets</td>\n",
              "    </tr>\n",
              "    <tr>\n",
              "      <th>admin_ward</th>\n",
              "      <td>200</td>\n",
              "      <td>St Katharine's &amp; Wapping</td>\n",
              "    </tr>\n",
              "    <tr>\n",
              "      <th>ccg</th>\n",
              "      <td>200</td>\n",
              "      <td>NHS North East London</td>\n",
              "    </tr>\n",
              "    <tr>\n",
              "      <th>ced</th>\n",
              "      <td>200</td>\n",
              "      <td>None</td>\n",
              "    </tr>\n",
              "    <tr>\n",
              "      <th>codes</th>\n",
              "      <td>200</td>\n",
              "      <td>{'admin_district': 'E09000030', 'admin_county'...</td>\n",
              "    </tr>\n",
              "    <tr>\n",
              "      <th>country</th>\n",
              "      <td>200</td>\n",
              "      <td>England</td>\n",
              "    </tr>\n",
              "    <tr>\n",
              "      <th>eastings</th>\n",
              "      <td>200</td>\n",
              "      <td>534427</td>\n",
              "    </tr>\n",
              "    <tr>\n",
              "      <th>european_electoral_region</th>\n",
              "      <td>200</td>\n",
              "      <td>London</td>\n",
              "    </tr>\n",
              "    <tr>\n",
              "      <th>incode</th>\n",
              "      <td>200</td>\n",
              "      <td>1TT</td>\n",
              "    </tr>\n",
              "    <tr>\n",
              "      <th>latitude</th>\n",
              "      <td>200</td>\n",
              "      <td>51.508</td>\n",
              "    </tr>\n",
              "    <tr>\n",
              "      <th>longitude</th>\n",
              "      <td>200</td>\n",
              "      <td>-0.064393</td>\n",
              "    </tr>\n",
              "    <tr>\n",
              "      <th>lsoa</th>\n",
              "      <td>200</td>\n",
              "      <td>Tower Hamlets 026B</td>\n",
              "    </tr>\n",
              "    <tr>\n",
              "      <th>msoa</th>\n",
              "      <td>200</td>\n",
              "      <td>Tower Hamlets 026</td>\n",
              "    </tr>\n",
              "    <tr>\n",
              "      <th>nhs_ha</th>\n",
              "      <td>200</td>\n",
              "      <td>London</td>\n",
              "    </tr>\n",
              "    <tr>\n",
              "      <th>northings</th>\n",
              "      <td>200</td>\n",
              "      <td>180564</td>\n",
              "    </tr>\n",
              "    <tr>\n",
              "      <th>nuts</th>\n",
              "      <td>200</td>\n",
              "      <td>Tower Hamlets</td>\n",
              "    </tr>\n",
              "    <tr>\n",
              "      <th>outcode</th>\n",
              "      <td>200</td>\n",
              "      <td>E98</td>\n",
              "    </tr>\n",
              "    <tr>\n",
              "      <th>parish</th>\n",
              "      <td>200</td>\n",
              "      <td>Tower Hamlets, unparished area</td>\n",
              "    </tr>\n",
              "    <tr>\n",
              "      <th>parliamentary_constituency</th>\n",
              "      <td>200</td>\n",
              "      <td>Poplar and Limehouse</td>\n",
              "    </tr>\n",
              "    <tr>\n",
              "      <th>postcode</th>\n",
              "      <td>200</td>\n",
              "      <td>E98 1TT</td>\n",
              "    </tr>\n",
              "    <tr>\n",
              "      <th>primary_care_trust</th>\n",
              "      <td>200</td>\n",
              "      <td>Tower Hamlets</td>\n",
              "    </tr>\n",
              "    <tr>\n",
              "      <th>quality</th>\n",
              "      <td>200</td>\n",
              "      <td>1</td>\n",
              "    </tr>\n",
              "    <tr>\n",
              "      <th>region</th>\n",
              "      <td>200</td>\n",
              "      <td>London</td>\n",
              "    </tr>\n",
              "  </tbody>\n",
              "</table>\n",
              "</div>"
            ],
            "text/plain": [
              "                            status                                             result\n",
              "admin_county                   200                                               None\n",
              "admin_district                 200                                      Tower Hamlets\n",
              "admin_ward                     200                           St Katharine's & Wapping\n",
              "ccg                            200                              NHS North East London\n",
              "ced                            200                                               None\n",
              "codes                          200  {'admin_district': 'E09000030', 'admin_county'...\n",
              "country                        200                                            England\n",
              "eastings                       200                                             534427\n",
              "european_electoral_region      200                                             London\n",
              "incode                         200                                                1TT\n",
              "latitude                       200                                             51.508\n",
              "longitude                      200                                          -0.064393\n",
              "lsoa                           200                                 Tower Hamlets 026B\n",
              "msoa                           200                                  Tower Hamlets 026\n",
              "nhs_ha                         200                                             London\n",
              "northings                      200                                             180564\n",
              "nuts                           200                                      Tower Hamlets\n",
              "outcode                        200                                                E98\n",
              "parish                         200                     Tower Hamlets, unparished area\n",
              "parliamentary_constituency     200                               Poplar and Limehouse\n",
              "postcode                       200                                            E98 1TT\n",
              "primary_care_trust             200                                      Tower Hamlets\n",
              "quality                        200                                                  1\n",
              "region                         200                                             London"
            ]
          },
          "metadata": {
            "tags": []
          },
          "execution_count": 73
        }
      ]
    },
    {
      "cell_type": "markdown",
      "metadata": {
        "id": "TdrG9dzaKnRI"
      },
      "source": [
        "***\n",
        "\n",
        "3.3 JSON y XML\n",
        "\n",
        "Dos de los formatos más habituales para incluir datos en las respuestas de las web API son JSON y XML. Ambos formatos tienen varias propiedades en común. En primer lugar, fueron diseñados para ser legibles tanto por humanos como por ordenadores, lo que los hace ideales en este contexto. En segundo lugar, ambos incorporan información sobre la estructura de los datos que codifican. Finalmente, ambos almacenan los datos en texto claro. Sin embargo, ambos lenguajes presentan múltiples diferencias.\n",
        "\n",
        "El formato **XML** (del inglés, eXtensible Markup Language) es un lenguaje de marcas que utiliza un conjunto de etiquetas no predefinido. Los documentos XML tienen un único elemento raíz del cual pueden colgar otros elementos. Los elementos se delimitan con una etiqueta inicial y una etiqueta final. Veamos un ejemplo de un sencillo documento XML:"
      ]
    },
    {
      "cell_type": "markdown",
      "metadata": {
        "id": "VVAsbVKtOKF2"
      },
      "source": [
        "```\n",
        "<persona>\n",
        "  <nombre>Yann</nombre>\n",
        "  <apellidos>\n",
        "    <apellido1>LeCun</apellido1>\n",
        "    <apellido2>-</apellido2>\n",
        "  </apellidos>\n",
        "  <edad>56</edad>\n",
        "</persona>\n",
        "```"
      ]
    },
    {
      "cell_type": "markdown",
      "metadata": {
        "id": "mMnzokvsOPJb"
      },
      "source": [
        "El formato **JSON** (del inglés, *JavaScript Object Notation*) es un subconjunto de la notación de objetos javascript. JSON se basa en dos estructuras de datos, el *array* y el objeto, que serían equivalentes a las listas y los diccionarios de Python que ya hemos introducido. \n",
        "\n",
        "Así, un *array* JSON es una lista ordenada de cero o más valores, por ejemplo:\n",
        "\n",
        "```\n",
        "[\"data\", \"science\", \"course\"]\n",
        "```\n",
        "\n",
        "En este caso, el array está formado por cadenas de caracteres. \n",
        "\n",
        "Un objeto JSON es una colección no ordenada de pares de clave y valor. Por ejemplo: \n",
        "\n",
        "```\n",
        "{\n",
        "  \"course\": \"Data Science\",\n",
        "  \"year\": 2017\n",
        "}\n",
        "```\n",
        "\n",
        "Veamos un ejemplo de los datos que hemos representado anteriormente en XML, usando ahora el formato JSON:\n",
        "\n",
        "```\n",
        "{\n",
        "  \"nombre\": \"Yann\",\n",
        "  \"apellidos\": {\n",
        "    \"apellido1\": \"LeCun\",\n",
        "    \"apellido2\": \"-\"\n",
        "  },\n",
        "  \"edad\" : 56\n",
        "}\n",
        "\n",
        "```\n",
        "En este caso, hemos usado un objeto con tres claves: la primera tiene como valor una cadena de caracteres, la segunda tiene como valor otro objeto y la tercera tiene como valor un entero."
      ]
    }
  ]
}