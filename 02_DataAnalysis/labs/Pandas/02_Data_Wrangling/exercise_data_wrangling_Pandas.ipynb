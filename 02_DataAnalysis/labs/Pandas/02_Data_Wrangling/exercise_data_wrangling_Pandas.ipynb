{
  "nbformat": 4,
  "nbformat_minor": 0,
  "metadata": {
    "colab": {
      "name": "exercise data wrangling - Pandas",
      "provenance": []
    },
    "kernelspec": {
      "name": "python3",
      "display_name": "Python 3"
    },
    "language_info": {
      "name": "python"
    }
  },
  "cells": [
    {
      "cell_type": "markdown",
      "metadata": {
        "id": "PCWSLQ_PJSdY"
      },
      "source": [
        "# Ejercicios Data Wrangling\n",
        "\n",
        "Complete los siguientes ejercicios usando lo que hemos aprendido hasta ahora en aula. Los datos se encuentran en github: /02_DataAnalysis/labs/Pandas/02_Data_Wrangling/data"
      ]
    },
    {
      "cell_type": "markdown",
      "metadata": {
        "id": "EJt9k0R2JzOl"
      },
      "source": [
        "## Ejercicio 1\n",
        "\n",
        "Queremos ver los datos de las acciones de FAANG (Facebook, Apple, Amazon, Netflix y Google), pero nos dieron cada uno como un archivo CSV separado. Conviértalos en un solo archivo y almacene en un solo dataframe los datos FAANG como `faang`:\n",
        "\n",
        "* a) Lea los archivos aapl.csv, amzn.csv, fb.csv, goog.csv y nflx.csv.\n",
        "* b) Agregue una columna a cada dataframe de datos, llamada ticker, indicando el símbolo de ticker para el que es (el de Apple es AAPL, por ejemplo); así es como buscas una acción. En este caso, los nombres de archivo son los símbolos de cotización.\n",
        "* c) Añádalos juntos en un solo dataframe de datos.\n",
        "* d) Guarde el resultado en un archivo CSV llamado faang.csv."
      ]
    },
    {
      "cell_type": "code",
      "metadata": {
        "id": "XeP-H3OBGDCe"
      },
      "source": [
        "# Respuestas"
      ],
      "execution_count": null,
      "outputs": []
    },
    {
      "cell_type": "markdown",
      "metadata": {
        "id": "-Qu8G8oAKbIU"
      },
      "source": [
        "## Ejercicio 2\n",
        "\n",
        "Con `faang`, use la conversión de tipos para convertir los valores de la columna de **date** en fechas y la columna de **volume** en números enteros. Luego, ordena por fecha y ticker."
      ]
    },
    {
      "cell_type": "code",
      "metadata": {
        "id": "x6Wb8oHnKtyq"
      },
      "source": [
        "# Respuestas"
      ],
      "execution_count": 1,
      "outputs": []
    },
    {
      "cell_type": "markdown",
      "metadata": {
        "id": "71IYP82WKyp3"
      },
      "source": [
        "## Ejercicio 3\n",
        "\n",
        "Encuentre las siete filas en `faang` con el valor más bajo de `volume`."
      ]
    },
    {
      "cell_type": "code",
      "metadata": {
        "id": "FqANGNDkKvKT"
      },
      "source": [
        "# Respuestas"
      ],
      "execution_count": null,
      "outputs": []
    },
    {
      "cell_type": "markdown",
      "metadata": {
        "id": "dgTeHTrNK9Fv"
      },
      "source": [
        "## Ejercico 4\n",
        "\n",
        "En este momento, los datos se encuentran en algún lugar entre formato largo y ancho. Use `melt()` para que sea un formato completamente largo. Sugerencia: la fecha `date` y el `ticker` son nuestras variables de identificación (identifican de forma única cada fila). Necesitamos fusionar el resto para que no tengamos columnas separadas para abierto, alto, bajo, cerrado y volumen."
      ]
    },
    {
      "cell_type": "code",
      "metadata": {
        "id": "84rnOzUlLSAI"
      },
      "source": [
        "# Respuestas"
      ],
      "execution_count": null,
      "outputs": []
    },
    {
      "cell_type": "markdown",
      "metadata": {
        "id": "LDV4E-CkLTWK"
      },
      "source": [
        "## Ejercicio 5\n",
        "\n",
        "Supongamos que descubrimos que el 26 de julio de 2018 hubo un error en la forma en que se registraron los datos. ¿Cómo debemos manejar esto? Tenga en cuenta que no se requiere codificación para este ejercicio."
      ]
    },
    {
      "cell_type": "code",
      "metadata": {
        "id": "Wrl9WhIWLa3A"
      },
      "source": [
        "# Respuestas"
      ],
      "execution_count": null,
      "outputs": []
    },
    {
      "cell_type": "markdown",
      "metadata": {
        "id": "Xc5rGTmqLZ3Q"
      },
      "source": [
        "## Ejercicio 6\n",
        "\n",
        "El Centro Europeo para la Prevención y el Control de Enfermedades (ECDC) proporciona un conjunto de datos abierto sobre los casos de COVID-19 denominado número diario de nuevos casos notificados de COVID-19 por país en todo el mundo (https://www.ecdc.europa.eu/en/publications -data / descargar-datos-de-hoy-distribución-geográfica-covid-19-cases-worldwide). Este conjunto de datos se actualiza diariamente, pero usaremos una instantánea que contiene datos desde el 1 de enero de 2020 hasta el 18 de septiembre de 2020. Limpie y pivotes los datos para que estén en formato amplio:\n",
        "\n",
        "* a) Leer en el archivo **covid19_cases.csv**.\n",
        "\n",
        "* b) Cree una columna de fecha `date` utilizando los datos de la columna **dateRep** y la función **pd.to_datetime()**.\n",
        "\n",
        "* c) Establezca la columna de fecha `date` como índice y ordene el índice.\n",
        "\n",
        "* d) Reemplazar todas las apariciones de **United_States_of_America** y **United_Kingdom** con **USA** y **UK**, respectivamente. Sugerencia: el método `replace()` se puede ejecutar en el marco de datos como un todo.\n",
        "\n",
        "e) Utilizando la columna `countriesAndTerritories`, filtre los datos de casos limpiados de COVID-19 a Argentina, Brasil, China, Colombia, India, Italia, México, Perú, Rusia, España, Turquía, el Reino Unido y los EE. UU.\n",
        "\n",
        "f) Pivote los datos para que el índice contenga las fechas, las columnas contengan los nombres de los países y los valores sean los recuentos de casos (la columna de `cases`). Asegúrese de completar los valores de NaN con 0."
      ]
    },
    {
      "cell_type": "code",
      "metadata": {
        "id": "65Yu7E0xMHJn"
      },
      "source": [
        "# Respuestas"
      ],
      "execution_count": null,
      "outputs": []
    },
    {
      "cell_type": "markdown",
      "metadata": {
        "id": "qByOVS32MIbG"
      },
      "source": [
        "## Ejercicio 7\n",
        "\n",
        "Para determinar los totales de casos por país de manera eficiente, necesitamos las habilidades de agregación. Por lo que los datos del ECDC en el archivo **covid19_cases.csv** se han agregado y guardado en **covid19_total_cases.csv**. Contiene el número total de casos por país. Utilice estos datos para encontrar los 20 países con los mayores totales de casos de COVID-19. Sugerencias: al leer el archivo CSV, ingrese `index_col='cases'` y tenga en cuenta que será útil transponer los datos antes de aislar los países."
      ]
    },
    {
      "cell_type": "code",
      "metadata": {
        "id": "vvUWiS5WMhRX"
      },
      "source": [
        "# Respuestas"
      ],
      "execution_count": null,
      "outputs": []
    }
  ]
}