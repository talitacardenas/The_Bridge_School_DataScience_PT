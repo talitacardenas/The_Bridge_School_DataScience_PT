{
  "nbformat": 4,
  "nbformat_minor": 0,
  "metadata": {
    "colab": {
      "name": "lab02_Google_BigQuery_en_Python.ipynb",
      "provenance": [],
      "collapsed_sections": []
    },
    "kernelspec": {
      "name": "python3",
      "display_name": "Python 3"
    },
    "language_info": {
      "name": "python"
    }
  },
  "cells": [
    {
      "cell_type": "markdown",
      "metadata": {
        "id": "jUFv4NdPe8Vm"
      },
      "source": [
        "# Google BigQuery en Python\n",
        "\n",
        "https://pypi.org/project/google-cloud-bigquery/\n",
        "\n"
      ]
    },
    {
      "cell_type": "code",
      "metadata": {
        "colab": {
          "base_uri": "https://localhost:8080/"
        },
        "id": "8CTUfDP4e3G_",
        "outputId": "5aa7de42-ee42-457a-c5e1-07022f507b77"
      },
      "source": [
        "# instalar bigquery \n",
        "!pip install google-cloud-bigquery"
      ],
      "execution_count": 1,
      "outputs": [
        {
          "output_type": "stream",
          "name": "stdout",
          "text": [
            "Requirement already satisfied: google-cloud-bigquery in /usr/local/lib/python3.7/dist-packages (1.21.0)\n",
            "Requirement already satisfied: google-resumable-media!=0.4.0,<0.5.0dev,>=0.3.1 in /usr/local/lib/python3.7/dist-packages (from google-cloud-bigquery) (0.4.1)\n",
            "Requirement already satisfied: google-cloud-core<2.0dev,>=1.0.3 in /usr/local/lib/python3.7/dist-packages (from google-cloud-bigquery) (1.0.3)\n",
            "Requirement already satisfied: protobuf>=3.6.0 in /usr/local/lib/python3.7/dist-packages (from google-cloud-bigquery) (3.17.3)\n",
            "Requirement already satisfied: google-api-core<2.0.0dev,>=1.14.0 in /usr/local/lib/python3.7/dist-packages (from google-cloud-core<2.0dev,>=1.0.3->google-cloud-bigquery) (1.26.3)\n",
            "Requirement already satisfied: google-auth<2.0dev,>=1.21.1 in /usr/local/lib/python3.7/dist-packages (from google-api-core<2.0.0dev,>=1.14.0->google-cloud-core<2.0dev,>=1.0.3->google-cloud-bigquery) (1.34.0)\n",
            "Requirement already satisfied: setuptools>=40.3.0 in /usr/local/lib/python3.7/dist-packages (from google-api-core<2.0.0dev,>=1.14.0->google-cloud-core<2.0dev,>=1.0.3->google-cloud-bigquery) (57.4.0)\n",
            "Requirement already satisfied: pytz in /usr/local/lib/python3.7/dist-packages (from google-api-core<2.0.0dev,>=1.14.0->google-cloud-core<2.0dev,>=1.0.3->google-cloud-bigquery) (2018.9)\n",
            "Requirement already satisfied: six>=1.13.0 in /usr/local/lib/python3.7/dist-packages (from google-api-core<2.0.0dev,>=1.14.0->google-cloud-core<2.0dev,>=1.0.3->google-cloud-bigquery) (1.15.0)\n",
            "Requirement already satisfied: packaging>=14.3 in /usr/local/lib/python3.7/dist-packages (from google-api-core<2.0.0dev,>=1.14.0->google-cloud-core<2.0dev,>=1.0.3->google-cloud-bigquery) (21.0)\n",
            "Requirement already satisfied: requests<3.0.0dev,>=2.18.0 in /usr/local/lib/python3.7/dist-packages (from google-api-core<2.0.0dev,>=1.14.0->google-cloud-core<2.0dev,>=1.0.3->google-cloud-bigquery) (2.23.0)\n",
            "Requirement already satisfied: googleapis-common-protos<2.0dev,>=1.6.0 in /usr/local/lib/python3.7/dist-packages (from google-api-core<2.0.0dev,>=1.14.0->google-cloud-core<2.0dev,>=1.0.3->google-cloud-bigquery) (1.53.0)\n",
            "Requirement already satisfied: cachetools<5.0,>=2.0.0 in /usr/local/lib/python3.7/dist-packages (from google-auth<2.0dev,>=1.21.1->google-api-core<2.0.0dev,>=1.14.0->google-cloud-core<2.0dev,>=1.0.3->google-cloud-bigquery) (4.2.2)\n",
            "Requirement already satisfied: pyasn1-modules>=0.2.1 in /usr/local/lib/python3.7/dist-packages (from google-auth<2.0dev,>=1.21.1->google-api-core<2.0.0dev,>=1.14.0->google-cloud-core<2.0dev,>=1.0.3->google-cloud-bigquery) (0.2.8)\n",
            "Requirement already satisfied: rsa<5,>=3.1.4 in /usr/local/lib/python3.7/dist-packages (from google-auth<2.0dev,>=1.21.1->google-api-core<2.0.0dev,>=1.14.0->google-cloud-core<2.0dev,>=1.0.3->google-cloud-bigquery) (4.7.2)\n",
            "Requirement already satisfied: pyparsing>=2.0.2 in /usr/local/lib/python3.7/dist-packages (from packaging>=14.3->google-api-core<2.0.0dev,>=1.14.0->google-cloud-core<2.0dev,>=1.0.3->google-cloud-bigquery) (2.4.7)\n",
            "Requirement already satisfied: pyasn1<0.5.0,>=0.4.6 in /usr/local/lib/python3.7/dist-packages (from pyasn1-modules>=0.2.1->google-auth<2.0dev,>=1.21.1->google-api-core<2.0.0dev,>=1.14.0->google-cloud-core<2.0dev,>=1.0.3->google-cloud-bigquery) (0.4.8)\n",
            "Requirement already satisfied: urllib3!=1.25.0,!=1.25.1,<1.26,>=1.21.1 in /usr/local/lib/python3.7/dist-packages (from requests<3.0.0dev,>=2.18.0->google-api-core<2.0.0dev,>=1.14.0->google-cloud-core<2.0dev,>=1.0.3->google-cloud-bigquery) (1.24.3)\n",
            "Requirement already satisfied: chardet<4,>=3.0.2 in /usr/local/lib/python3.7/dist-packages (from requests<3.0.0dev,>=2.18.0->google-api-core<2.0.0dev,>=1.14.0->google-cloud-core<2.0dev,>=1.0.3->google-cloud-bigquery) (3.0.4)\n",
            "Requirement already satisfied: idna<3,>=2.5 in /usr/local/lib/python3.7/dist-packages (from requests<3.0.0dev,>=2.18.0->google-api-core<2.0.0dev,>=1.14.0->google-cloud-core<2.0dev,>=1.0.3->google-cloud-bigquery) (2.10)\n",
            "Requirement already satisfied: certifi>=2017.4.17 in /usr/local/lib/python3.7/dist-packages (from requests<3.0.0dev,>=2.18.0->google-api-core<2.0.0dev,>=1.14.0->google-cloud-core<2.0dev,>=1.0.3->google-cloud-bigquery) (2021.5.30)\n"
          ]
        }
      ]
    },
    {
      "cell_type": "code",
      "metadata": {
        "id": "Wdl7V2c1fIRP"
      },
      "source": [
        "# cargamos las librerías\n",
        "from google.cloud import bigquery\n",
        "from google.oauth2 import service_account"
      ],
      "execution_count": 2,
      "outputs": []
    },
    {
      "cell_type": "code",
      "metadata": {
        "id": "g9eNf433fRvH"
      },
      "source": [
        "# Si trabajamos con Token y secret del service account\n",
        "#creds = service_account.Credentials.from_service_account_file('PATH DEL FICHERO JSON en .key')"
      ],
      "execution_count": null,
      "outputs": []
    },
    {
      "cell_type": "code",
      "metadata": {
        "id": "6ZwIbiJni_VS"
      },
      "source": [
        "creds = service_account.Credentials.from_service_account_file('/content/thebridgept0521-00ccc9a47591.json')"
      ],
      "execution_count": 3,
      "outputs": []
    },
    {
      "cell_type": "markdown",
      "metadata": {
        "id": "ilYOcVoTfrcf"
      },
      "source": [
        "> previamente debemos crear el directorio en nuestro root /home/<user>/.key con el comando **mkdir**."
      ]
    },
    {
      "cell_type": "code",
      "metadata": {
        "id": "uZZU28M9hEyB"
      },
      "source": [
        "# Alternativa con Google Oauth de Google Colab\n",
        "from google.colab import auth\n",
        "auth.authenticate_user()"
      ],
      "execution_count": 4,
      "outputs": []
    },
    {
      "cell_type": "markdown",
      "metadata": {
        "id": "pxwyKnD-f8gm"
      },
      "source": [
        "## Jerarquía estructura BigQuery\n",
        "\n",
        "- ProjectID\n",
        "- DatasetID o Dataset\n",
        "- Table\n",
        "\n"
      ]
    },
    {
      "cell_type": "code",
      "metadata": {
        "id": "WxNZ6LRWgEzv"
      },
      "source": [
        "# introducimos el projectID\n",
        "proj_id = 'thebridgept0521'"
      ],
      "execution_count": 5,
      "outputs": []
    },
    {
      "cell_type": "code",
      "metadata": {
        "id": "PJZlhE6XhSDx"
      },
      "source": [
        "# En caso de trabajar con el token\n",
        "client = bigquery.Client(project=proj_id)"
      ],
      "execution_count": 6,
      "outputs": []
    },
    {
      "cell_type": "code",
      "metadata": {
        "id": "Jj8Td9c8gNjY"
      },
      "source": [
        "# Probamos Gcp-BQ\n",
        "query = (\n",
        "'SELECT name '\n",
        "'FROM `bigquery-public-data.usa_names.usa_1910_2013` '\n",
        "'WHERE state = \"TX\" '\n",
        "'LIMIT 100 '\n",
        ")"
      ],
      "execution_count": 7,
      "outputs": []
    },
    {
      "cell_type": "code",
      "metadata": {
        "id": "xxohAvIKkdbK"
      },
      "source": [
        "# También podemos estructura la query de esta forma\n",
        "query = \"\"\"\n",
        "SELECT name\n",
        "FROM `bigquery-public-data.usa_names.usa_1910_2013`\n",
        "WHERE state = \"TX\"\n",
        "LIMIT 100\n",
        "\"\"\""
      ],
      "execution_count": 8,
      "outputs": []
    },
    {
      "cell_type": "code",
      "metadata": {
        "id": "5rHHruzUf4Da"
      },
      "source": [
        "# Ejecutaremos el job de BigQuery\n",
        "query_job = client.query(query) # esta es la llamada a la API"
      ],
      "execution_count": 9,
      "outputs": []
    },
    {
      "cell_type": "code",
      "metadata": {
        "id": "g8R6Jyk7iC8d"
      },
      "source": [
        "# Iterar sobre el propio job para extraer los resultados\n",
        "rows = query_job.result()"
      ],
      "execution_count": 10,
      "outputs": []
    },
    {
      "cell_type": "code",
      "metadata": {
        "colab": {
          "base_uri": "https://localhost:8080/"
        },
        "id": "ZzycE8c4iXPc",
        "outputId": "99cdaf27-4074-4a9e-ae63-e59f317b1aef"
      },
      "source": [
        "for row in rows:\n",
        "  print(row.name)"
      ],
      "execution_count": 11,
      "outputs": [
        {
          "output_type": "stream",
          "name": "stdout",
          "text": [
            "Frances\n",
            "Alice\n",
            "Beatrice\n",
            "Ella\n",
            "Gertrude\n",
            "Josephine\n",
            "Lula\n",
            "Blanche\n",
            "Marjorie\n",
            "Christine\n",
            "Margarita\n",
            "Alta\n",
            "Sara\n",
            "Naomi\n",
            "Sofia\n",
            "Andrea\n",
            "Delfina\n",
            "Dominga\n",
            "Elnora\n",
            "Adele\n",
            "Rafaela\n",
            "Dixie\n",
            "Luisa\n",
            "Bess\n",
            "Ernestine\n",
            "Lorine\n",
            "Patsy\n",
            "Cecelia\n",
            "Enriqueta\n",
            "Lucinda\n",
            "Alyce\n",
            "Oneta\n",
            "Apolonia\n",
            "Gloria\n",
            "Rhoda\n",
            "Buna\n",
            "Maye\n",
            "Pansy\n",
            "Gladys\n",
            "Maria\n",
            "Helen\n",
            "Velma\n",
            "Clara\n",
            "Anna\n",
            "Evelyn\n",
            "Rosa\n",
            "Mae\n",
            "Bernice\n",
            "Stella\n",
            "Vivian\n",
            "Mable\n",
            "Maggie\n",
            "Betty\n",
            "Guadalupe\n",
            "Lorene\n",
            "Susie\n",
            "Sadie\n",
            "Erma\n",
            "Verna\n",
            "Amelia\n",
            "Estelle\n",
            "Nell\n",
            "Margie\n",
            "Celia\n",
            "Lessie\n",
            "Eloise\n",
            "Millie\n",
            "Olga\n",
            "Letha\n",
            "Rachel\n",
            "Luz\n",
            "Gussie\n",
            "Sylvia\n",
            "Aline\n",
            "Barbara\n",
            "Iris\n",
            "Leila\n",
            "Mozelle\n",
            "Simona\n",
            "Catalina\n",
            "Hester\n",
            "Willia\n",
            "Allene\n",
            "Avis\n",
            "George\n",
            "Isabella\n",
            "Polly\n",
            "Syble\n",
            "Teodora\n",
            "Lennie\n",
            "Ricarda\n",
            "Valerie\n",
            "Frances\n",
            "Gertrude\n",
            "Sarah\n",
            "Rosa\n",
            "Lucy\n",
            "Nora\n",
            "Nettie\n",
            "Odessa\n"
          ]
        }
      ]
    },
    {
      "cell_type": "code",
      "metadata": {
        "colab": {
          "base_uri": "https://localhost:8080/"
        },
        "id": "vYixNbDLiR-g",
        "outputId": "cfbac950-e02b-459e-de50-949d5861d078"
      },
      "source": [
        "# Test\n",
        "# Perform a query.\n",
        "QUERY = (\n",
        "    ' SELECT DISTINCT visitId, h.page.pageTitle FROM `bigquery-public-data.google_analytics_sample.ga_sessions_20170801`, '\n",
        "    ' UNNEST(hits) AS h WHERE visitId = 1501570398')\n",
        "query_job = client.query(QUERY)  # API request\n",
        "rows = query_job.result() # Waits for query to finish\n",
        "\n",
        "for row in rows:\n",
        "    print(row)"
      ],
      "execution_count": 18,
      "outputs": [
        {
          "output_type": "stream",
          "name": "stdout",
          "text": [
            "Row((1501570398, 'Fun | Accessories | Google Merchandise Store'), {'visitId': 0, 'pageTitle': 1})\n",
            "Row((1501570398, 'Home'), {'visitId': 0, 'pageTitle': 1})\n",
            "Row((1501570398, 'Shop by Brand | Google Merchandise Store'), {'visitId': 0, 'pageTitle': 1})\n",
            "Row((1501570398, 'Office | Google Merchandise Store'), {'visitId': 0, 'pageTitle': 1})\n",
            "Row((1501570398, 'Other | Office | Google Merchandise Store'), {'visitId': 0, 'pageTitle': 1})\n",
            "Row((1501570398, 'Writing Instruments | Office | Google Merchandise Store'), {'visitId': 0, 'pageTitle': 1})\n",
            "Row((1501570398, 'Accessories | Google Merchandise Store'), {'visitId': 0, 'pageTitle': 1})\n",
            "Row((1501570398, 'Electronics | Google Merchandise Store'), {'visitId': 0, 'pageTitle': 1})\n",
            "Row((1501570398, 'Apparel | Google Merchandise Store'), {'visitId': 0, 'pageTitle': 1})\n"
          ]
        }
      ]
    },
    {
      "cell_type": "code",
      "metadata": {
        "id": "NJcnm69Qh1Nw",
        "colab": {
          "base_uri": "https://localhost:8080/"
        },
        "outputId": "8ed10d8f-e5e5-4806-9f84-bbe929dc74a5"
      },
      "source": [
        "query_job = client.query(QUERY)  # API request\n",
        "rows = query_job.result() # Waits for query to finish\n",
        "for row in rows:\n",
        "  print(type(row[1]))"
      ],
      "execution_count": 21,
      "outputs": [
        {
          "output_type": "stream",
          "name": "stdout",
          "text": [
            "<class 'str'>\n",
            "<class 'str'>\n",
            "<class 'str'>\n",
            "<class 'str'>\n",
            "<class 'str'>\n",
            "<class 'str'>\n",
            "<class 'str'>\n",
            "<class 'str'>\n",
            "<class 'str'>\n"
          ]
        }
      ]
    },
    {
      "cell_type": "code",
      "metadata": {
        "id": "vpwpbsJZc9I1"
      },
      "source": [
        "# También podemos transformar en un dataframe directamente sin para por el Iterator\n",
        "df = query_job.to_dataframe()"
      ],
      "execution_count": 22,
      "outputs": []
    },
    {
      "cell_type": "code",
      "metadata": {
        "colab": {
          "base_uri": "https://localhost:8080/",
          "height": 327
        },
        "id": "A4TIFLvgdG_G",
        "outputId": "9cb9085c-5103-49a8-879e-bc806053af52"
      },
      "source": [
        "df"
      ],
      "execution_count": 23,
      "outputs": [
        {
          "output_type": "execute_result",
          "data": {
            "text/html": [
              "<div>\n",
              "<style scoped>\n",
              "    .dataframe tbody tr th:only-of-type {\n",
              "        vertical-align: middle;\n",
              "    }\n",
              "\n",
              "    .dataframe tbody tr th {\n",
              "        vertical-align: top;\n",
              "    }\n",
              "\n",
              "    .dataframe thead th {\n",
              "        text-align: right;\n",
              "    }\n",
              "</style>\n",
              "<table border=\"1\" class=\"dataframe\">\n",
              "  <thead>\n",
              "    <tr style=\"text-align: right;\">\n",
              "      <th></th>\n",
              "      <th>visitId</th>\n",
              "      <th>pageTitle</th>\n",
              "    </tr>\n",
              "  </thead>\n",
              "  <tbody>\n",
              "    <tr>\n",
              "      <th>0</th>\n",
              "      <td>1501570398</td>\n",
              "      <td>Fun | Accessories | Google Merchandise Store</td>\n",
              "    </tr>\n",
              "    <tr>\n",
              "      <th>1</th>\n",
              "      <td>1501570398</td>\n",
              "      <td>Home</td>\n",
              "    </tr>\n",
              "    <tr>\n",
              "      <th>2</th>\n",
              "      <td>1501570398</td>\n",
              "      <td>Shop by Brand | Google Merchandise Store</td>\n",
              "    </tr>\n",
              "    <tr>\n",
              "      <th>3</th>\n",
              "      <td>1501570398</td>\n",
              "      <td>Office | Google Merchandise Store</td>\n",
              "    </tr>\n",
              "    <tr>\n",
              "      <th>4</th>\n",
              "      <td>1501570398</td>\n",
              "      <td>Other | Office | Google Merchandise Store</td>\n",
              "    </tr>\n",
              "    <tr>\n",
              "      <th>5</th>\n",
              "      <td>1501570398</td>\n",
              "      <td>Writing Instruments | Office | Google Merchand...</td>\n",
              "    </tr>\n",
              "    <tr>\n",
              "      <th>6</th>\n",
              "      <td>1501570398</td>\n",
              "      <td>Accessories | Google Merchandise Store</td>\n",
              "    </tr>\n",
              "    <tr>\n",
              "      <th>7</th>\n",
              "      <td>1501570398</td>\n",
              "      <td>Electronics | Google Merchandise Store</td>\n",
              "    </tr>\n",
              "    <tr>\n",
              "      <th>8</th>\n",
              "      <td>1501570398</td>\n",
              "      <td>Apparel | Google Merchandise Store</td>\n",
              "    </tr>\n",
              "  </tbody>\n",
              "</table>\n",
              "</div>"
            ],
            "text/plain": [
              "      visitId                                          pageTitle\n",
              "0  1501570398       Fun | Accessories | Google Merchandise Store\n",
              "1  1501570398                                               Home\n",
              "2  1501570398           Shop by Brand | Google Merchandise Store\n",
              "3  1501570398                  Office | Google Merchandise Store\n",
              "4  1501570398          Other | Office | Google Merchandise Store\n",
              "5  1501570398  Writing Instruments | Office | Google Merchand...\n",
              "6  1501570398             Accessories | Google Merchandise Store\n",
              "7  1501570398             Electronics | Google Merchandise Store\n",
              "8  1501570398                 Apparel | Google Merchandise Store"
            ]
          },
          "metadata": {},
          "execution_count": 23
        }
      ]
    },
    {
      "cell_type": "code",
      "metadata": {
        "colab": {
          "base_uri": "https://localhost:8080/"
        },
        "id": "1CB_y5cJdJ3L",
        "outputId": "f3e76a8f-36ea-4565-f8ac-c00eabde5c7f"
      },
      "source": [
        "type(df)"
      ],
      "execution_count": 24,
      "outputs": [
        {
          "output_type": "execute_result",
          "data": {
            "text/plain": [
              "pandas.core.frame.DataFrame"
            ]
          },
          "metadata": {},
          "execution_count": 24
        }
      ]
    },
    {
      "cell_type": "markdown",
      "metadata": {
        "id": "YwI_oa2mewMY"
      },
      "source": [
        "> A partir del dataframe podemos realizar EDA, transformaciones, limpieza, agregaciones, visualizaciones, enriquecimiento de nuevos datos, join con otras tablas... etc. etc. etc."
      ]
    },
    {
      "cell_type": "markdown",
      "metadata": {
        "id": "7st_EnrufAD7"
      },
      "source": [
        "***"
      ]
    },
    {
      "cell_type": "code",
      "metadata": {
        "id": "9vdRGvSgfBQP"
      },
      "source": [
        "# # Realizamos una nueva tarea con otra consulta\n",
        "# QUERY = \"\"\"\n",
        "#   SELECT name, state, SUM(number) as count\n",
        "#   FROM `bigquery-public-data.usa_names.usa_1910_current`\n",
        "#   WHERE year BETWEEN 1990 AND 2000 AND\n",
        "#         state IN ('TX', 'NY', 'CA', 'FL', 'NM', 'IL')\n",
        "#   GROUP BY name, state\n",
        "#   ORDER BY count DESC\n",
        "#   LIMIT 10\n",
        "# \"\"\""
      ],
      "execution_count": 63,
      "outputs": []
    },
    {
      "cell_type": "code",
      "metadata": {
        "id": "zmO6U6iSkbaw"
      },
      "source": [
        "# Realizamos una nueva tarea con otra consulta\n",
        "QUERY = \"\"\"\n",
        "  SELECT name, SUM(number) as count\n",
        "  FROM `bigquery-public-data.usa_names.usa_1910_current`\n",
        "  GROUP BY name, state\n",
        "  ORDER BY count DESC\n",
        "\"\"\""
      ],
      "execution_count": 69,
      "outputs": []
    },
    {
      "cell_type": "code",
      "metadata": {
        "id": "HEewIydNfMYF"
      },
      "source": [
        "# realizamos el job de BQ\n",
        "query_job = client.query(QUERY)\n",
        "df = client.query(QUERY).to_dataframe()"
      ],
      "execution_count": 70,
      "outputs": []
    },
    {
      "cell_type": "code",
      "metadata": {
        "colab": {
          "base_uri": "https://localhost:8080/",
          "height": 667
        },
        "id": "Ne53jwDngk-a",
        "outputId": "dee00f4f-4681-4ae8-c616-94a77e5321b3"
      },
      "source": [
        "df.head(20)"
      ],
      "execution_count": 71,
      "outputs": [
        {
          "output_type": "execute_result",
          "data": {
            "text/html": [
              "<div>\n",
              "<style scoped>\n",
              "    .dataframe tbody tr th:only-of-type {\n",
              "        vertical-align: middle;\n",
              "    }\n",
              "\n",
              "    .dataframe tbody tr th {\n",
              "        vertical-align: top;\n",
              "    }\n",
              "\n",
              "    .dataframe thead th {\n",
              "        text-align: right;\n",
              "    }\n",
              "</style>\n",
              "<table border=\"1\" class=\"dataframe\">\n",
              "  <thead>\n",
              "    <tr style=\"text-align: right;\">\n",
              "      <th></th>\n",
              "      <th>name</th>\n",
              "      <th>count</th>\n",
              "    </tr>\n",
              "  </thead>\n",
              "  <tbody>\n",
              "    <tr>\n",
              "      <th>0</th>\n",
              "      <td>John</td>\n",
              "      <td>498716</td>\n",
              "    </tr>\n",
              "    <tr>\n",
              "      <th>1</th>\n",
              "      <td>Robert</td>\n",
              "      <td>441472</td>\n",
              "    </tr>\n",
              "    <tr>\n",
              "      <th>2</th>\n",
              "      <td>Michael</td>\n",
              "      <td>439777</td>\n",
              "    </tr>\n",
              "    <tr>\n",
              "      <th>3</th>\n",
              "      <td>Michael</td>\n",
              "      <td>433563</td>\n",
              "    </tr>\n",
              "    <tr>\n",
              "      <th>4</th>\n",
              "      <td>John</td>\n",
              "      <td>421531</td>\n",
              "    </tr>\n",
              "    <tr>\n",
              "      <th>5</th>\n",
              "      <td>David</td>\n",
              "      <td>375564</td>\n",
              "    </tr>\n",
              "    <tr>\n",
              "      <th>6</th>\n",
              "      <td>Robert</td>\n",
              "      <td>353644</td>\n",
              "    </tr>\n",
              "    <tr>\n",
              "      <th>7</th>\n",
              "      <td>Robert</td>\n",
              "      <td>352611</td>\n",
              "    </tr>\n",
              "    <tr>\n",
              "      <th>8</th>\n",
              "      <td>James</td>\n",
              "      <td>346404</td>\n",
              "    </tr>\n",
              "    <tr>\n",
              "      <th>9</th>\n",
              "      <td>Joseph</td>\n",
              "      <td>345917</td>\n",
              "    </tr>\n",
              "    <tr>\n",
              "      <th>10</th>\n",
              "      <td>William</td>\n",
              "      <td>324216</td>\n",
              "    </tr>\n",
              "    <tr>\n",
              "      <th>11</th>\n",
              "      <td>John</td>\n",
              "      <td>315601</td>\n",
              "    </tr>\n",
              "    <tr>\n",
              "      <th>12</th>\n",
              "      <td>James</td>\n",
              "      <td>304642</td>\n",
              "    </tr>\n",
              "    <tr>\n",
              "      <th>13</th>\n",
              "      <td>William</td>\n",
              "      <td>302918</td>\n",
              "    </tr>\n",
              "    <tr>\n",
              "      <th>14</th>\n",
              "      <td>Mary</td>\n",
              "      <td>292909</td>\n",
              "    </tr>\n",
              "    <tr>\n",
              "      <th>15</th>\n",
              "      <td>James</td>\n",
              "      <td>284025</td>\n",
              "    </tr>\n",
              "    <tr>\n",
              "      <th>16</th>\n",
              "      <td>David</td>\n",
              "      <td>282067</td>\n",
              "    </tr>\n",
              "    <tr>\n",
              "      <th>17</th>\n",
              "      <td>James</td>\n",
              "      <td>281180</td>\n",
              "    </tr>\n",
              "    <tr>\n",
              "      <th>18</th>\n",
              "      <td>Robert</td>\n",
              "      <td>279610</td>\n",
              "    </tr>\n",
              "    <tr>\n",
              "      <th>19</th>\n",
              "      <td>Robert</td>\n",
              "      <td>278147</td>\n",
              "    </tr>\n",
              "  </tbody>\n",
              "</table>\n",
              "</div>"
            ],
            "text/plain": [
              "       name   count\n",
              "0      John  498716\n",
              "1    Robert  441472\n",
              "2   Michael  439777\n",
              "3   Michael  433563\n",
              "4      John  421531\n",
              "5     David  375564\n",
              "6    Robert  353644\n",
              "7    Robert  352611\n",
              "8     James  346404\n",
              "9    Joseph  345917\n",
              "10  William  324216\n",
              "11     John  315601\n",
              "12    James  304642\n",
              "13  William  302918\n",
              "14     Mary  292909\n",
              "15    James  284025\n",
              "16    David  282067\n",
              "17    James  281180\n",
              "18   Robert  279610\n",
              "19   Robert  278147"
            ]
          },
          "metadata": {},
          "execution_count": 71
        }
      ]
    },
    {
      "cell_type": "code",
      "metadata": {
        "colab": {
          "base_uri": "https://localhost:8080/",
          "height": 418
        },
        "id": "BXjwbrPMkwez",
        "outputId": "744ed33a-5443-4e7c-cfd5-02e30977dc30"
      },
      "source": [
        "df.sample(100)"
      ],
      "execution_count": 67,
      "outputs": [
        {
          "output_type": "execute_result",
          "data": {
            "text/html": [
              "<div>\n",
              "<style scoped>\n",
              "    .dataframe tbody tr th:only-of-type {\n",
              "        vertical-align: middle;\n",
              "    }\n",
              "\n",
              "    .dataframe tbody tr th {\n",
              "        vertical-align: top;\n",
              "    }\n",
              "\n",
              "    .dataframe thead th {\n",
              "        text-align: right;\n",
              "    }\n",
              "</style>\n",
              "<table border=\"1\" class=\"dataframe\">\n",
              "  <thead>\n",
              "    <tr style=\"text-align: right;\">\n",
              "      <th></th>\n",
              "      <th>name</th>\n",
              "      <th>state</th>\n",
              "      <th>count</th>\n",
              "    </tr>\n",
              "  </thead>\n",
              "  <tbody>\n",
              "    <tr>\n",
              "      <th>204283</th>\n",
              "      <td>Bergen</td>\n",
              "      <td>MN</td>\n",
              "      <td>19</td>\n",
              "    </tr>\n",
              "    <tr>\n",
              "      <th>71315</th>\n",
              "      <td>Leann</td>\n",
              "      <td>CO</td>\n",
              "      <td>371</td>\n",
              "    </tr>\n",
              "    <tr>\n",
              "      <th>56792</th>\n",
              "      <td>Ronan</td>\n",
              "      <td>IL</td>\n",
              "      <td>577</td>\n",
              "    </tr>\n",
              "    <tr>\n",
              "      <th>169758</th>\n",
              "      <td>Aseel</td>\n",
              "      <td>IL</td>\n",
              "      <td>38</td>\n",
              "    </tr>\n",
              "    <tr>\n",
              "      <th>55162</th>\n",
              "      <td>Madelyn</td>\n",
              "      <td>WV</td>\n",
              "      <td>607</td>\n",
              "    </tr>\n",
              "    <tr>\n",
              "      <th>...</th>\n",
              "      <td>...</td>\n",
              "      <td>...</td>\n",
              "      <td>...</td>\n",
              "    </tr>\n",
              "    <tr>\n",
              "      <th>272001</th>\n",
              "      <td>Saeko</td>\n",
              "      <td>HI</td>\n",
              "      <td>5</td>\n",
              "    </tr>\n",
              "    <tr>\n",
              "      <th>212345</th>\n",
              "      <td>Nell</td>\n",
              "      <td>MN</td>\n",
              "      <td>16</td>\n",
              "    </tr>\n",
              "    <tr>\n",
              "      <th>117413</th>\n",
              "      <td>Dereck</td>\n",
              "      <td>OH</td>\n",
              "      <td>120</td>\n",
              "    </tr>\n",
              "    <tr>\n",
              "      <th>232253</th>\n",
              "      <td>Charnele</td>\n",
              "      <td>VA</td>\n",
              "      <td>11</td>\n",
              "    </tr>\n",
              "    <tr>\n",
              "      <th>213855</th>\n",
              "      <td>Marcio</td>\n",
              "      <td>CA</td>\n",
              "      <td>16</td>\n",
              "    </tr>\n",
              "  </tbody>\n",
              "</table>\n",
              "<p>100 rows × 3 columns</p>\n",
              "</div>"
            ],
            "text/plain": [
              "            name state  count\n",
              "204283    Bergen    MN     19\n",
              "71315      Leann    CO    371\n",
              "56792      Ronan    IL    577\n",
              "169758     Aseel    IL     38\n",
              "55162    Madelyn    WV    607\n",
              "...          ...   ...    ...\n",
              "272001     Saeko    HI      5\n",
              "212345      Nell    MN     16\n",
              "117413    Dereck    OH    120\n",
              "232253  Charnele    VA     11\n",
              "213855    Marcio    CA     16\n",
              "\n",
              "[100 rows x 3 columns]"
            ]
          },
          "metadata": {},
          "execution_count": 67
        }
      ]
    },
    {
      "cell_type": "code",
      "metadata": {
        "colab": {
          "base_uri": "https://localhost:8080/"
        },
        "id": "2UIDPBquk7Nd",
        "outputId": "048424fc-dea6-4c55-d8fb-6b9f865574f8"
      },
      "source": [
        "df.shape"
      ],
      "execution_count": 72,
      "outputs": [
        {
          "output_type": "execute_result",
          "data": {
            "text/plain": [
              "(306718, 2)"
            ]
          },
          "metadata": {},
          "execution_count": 72
        }
      ]
    },
    {
      "cell_type": "markdown",
      "metadata": {
        "id": "jQ0MRqt4jBan"
      },
      "source": [
        "> desde este punto como  siempre realizamos nuestro EDA"
      ]
    },
    {
      "cell_type": "code",
      "metadata": {
        "colab": {
          "base_uri": "https://localhost:8080/",
          "height": 345
        },
        "id": "1_B-7wbljEeV",
        "outputId": "529b373a-b2f8-4fe3-bda6-2d08bb559b35"
      },
      "source": [
        "# visualizamos el ejemplo anterior\n",
        "%matplotlib inline\n",
        "df.plot(kind='bar',\n",
        "        x='name',\n",
        "        y='count')"
      ],
      "execution_count": 62,
      "outputs": [
        {
          "output_type": "execute_result",
          "data": {
            "text/plain": [
              "<matplotlib.axes._subplots.AxesSubplot at 0x7fea6feff750>"
            ]
          },
          "metadata": {},
          "execution_count": 62
        },
        {
          "output_type": "display_data",
          "data": {
            "image/png": "[encoded data removed]",
            "text/plain": [
              "<Figure size 432x288 with 1 Axes>"
            ]
          },
          "metadata": {
            "needs_background": "light"
          }
        }
      ]
    },
    {
      "cell_type": "markdown",
      "metadata": {
        "id": "8lQ0G8ZRl5bT"
      },
      "source": [
        "***\n"
      ]
    },
    {
      "cell_type": "code",
      "metadata": {
        "colab": {
          "base_uri": "https://localhost:8080/",
          "height": 512
        },
        "id": "9oYWm2SKeUwL",
        "outputId": "33dffc22-6c6e-4ca0-cafe-d391f9efd283"
      },
      "source": [
        "# Test\n",
        "# Perform a query natality\n",
        "\n",
        "sql = \"\"\"\n",
        "    SELECT\n",
        "        source_year AS year,\n",
        "        COUNT(is_male) AS birth_count\n",
        "    FROM `bigquery-public-data.samples.natality`\n",
        "    GROUP BY year\n",
        "    ORDER BY year DESC\n",
        "    LIMIT 15\n",
        "\"\"\"\n",
        "query_job = client.query(sql)  # API request\n",
        "df = client.query(sql).to_dataframe()\n",
        "df"
      ],
      "execution_count": 73,
      "outputs": [
        {
          "output_type": "execute_result",
          "data": {
            "text/html": [
              "<div>\n",
              "<style scoped>\n",
              "    .dataframe tbody tr th:only-of-type {\n",
              "        vertical-align: middle;\n",
              "    }\n",
              "\n",
              "    .dataframe tbody tr th {\n",
              "        vertical-align: top;\n",
              "    }\n",
              "\n",
              "    .dataframe thead th {\n",
              "        text-align: right;\n",
              "    }\n",
              "</style>\n",
              "<table border=\"1\" class=\"dataframe\">\n",
              "  <thead>\n",
              "    <tr style=\"text-align: right;\">\n",
              "      <th></th>\n",
              "      <th>year</th>\n",
              "      <th>birth_count</th>\n",
              "    </tr>\n",
              "  </thead>\n",
              "  <tbody>\n",
              "    <tr>\n",
              "      <th>0</th>\n",
              "      <td>2008</td>\n",
              "      <td>4255156</td>\n",
              "    </tr>\n",
              "    <tr>\n",
              "      <th>1</th>\n",
              "      <td>2007</td>\n",
              "      <td>4324008</td>\n",
              "    </tr>\n",
              "    <tr>\n",
              "      <th>2</th>\n",
              "      <td>2006</td>\n",
              "      <td>4273225</td>\n",
              "    </tr>\n",
              "    <tr>\n",
              "      <th>3</th>\n",
              "      <td>2005</td>\n",
              "      <td>4145619</td>\n",
              "    </tr>\n",
              "    <tr>\n",
              "      <th>4</th>\n",
              "      <td>2004</td>\n",
              "      <td>4118907</td>\n",
              "    </tr>\n",
              "    <tr>\n",
              "      <th>5</th>\n",
              "      <td>2003</td>\n",
              "      <td>4096092</td>\n",
              "    </tr>\n",
              "    <tr>\n",
              "      <th>6</th>\n",
              "      <td>2002</td>\n",
              "      <td>4027376</td>\n",
              "    </tr>\n",
              "    <tr>\n",
              "      <th>7</th>\n",
              "      <td>2001</td>\n",
              "      <td>4031531</td>\n",
              "    </tr>\n",
              "    <tr>\n",
              "      <th>8</th>\n",
              "      <td>2000</td>\n",
              "      <td>4063823</td>\n",
              "    </tr>\n",
              "    <tr>\n",
              "      <th>9</th>\n",
              "      <td>1999</td>\n",
              "      <td>3963465</td>\n",
              "    </tr>\n",
              "    <tr>\n",
              "      <th>10</th>\n",
              "      <td>1998</td>\n",
              "      <td>3945192</td>\n",
              "    </tr>\n",
              "    <tr>\n",
              "      <th>11</th>\n",
              "      <td>1997</td>\n",
              "      <td>3884329</td>\n",
              "    </tr>\n",
              "    <tr>\n",
              "      <th>12</th>\n",
              "      <td>1996</td>\n",
              "      <td>3894874</td>\n",
              "    </tr>\n",
              "    <tr>\n",
              "      <th>13</th>\n",
              "      <td>1995</td>\n",
              "      <td>3903012</td>\n",
              "    </tr>\n",
              "    <tr>\n",
              "      <th>14</th>\n",
              "      <td>1994</td>\n",
              "      <td>3956925</td>\n",
              "    </tr>\n",
              "  </tbody>\n",
              "</table>\n",
              "</div>"
            ],
            "text/plain": [
              "    year  birth_count\n",
              "0   2008      4255156\n",
              "1   2007      4324008\n",
              "2   2006      4273225\n",
              "3   2005      4145619\n",
              "4   2004      4118907\n",
              "5   2003      4096092\n",
              "6   2002      4027376\n",
              "7   2001      4031531\n",
              "8   2000      4063823\n",
              "9   1999      3963465\n",
              "10  1998      3945192\n",
              "11  1997      3884329\n",
              "12  1996      3894874\n",
              "13  1995      3903012\n",
              "14  1994      3956925"
            ]
          },
          "metadata": {},
          "execution_count": 73
        }
      ]
    },
    {
      "cell_type": "code",
      "metadata": {
        "colab": {
          "base_uri": "https://localhost:8080/",
          "height": 306
        },
        "id": "THZ7evg4mMAw",
        "outputId": "09462136-31f4-4867-8721-01661690d303"
      },
      "source": [
        "df.plot(kind='bar', x='year', y='birth_count');"
      ],
      "execution_count": 74,
      "outputs": [
        {
          "output_type": "display_data",
          "data": {
            "image/png": "[encoded data removed]",
            "text/plain": [
              "<Figure size 432x288 with 1 Axes>"
            ]
          },
          "metadata": {
            "needs_background": "light"
          }
        }
      ]
    },
    {
      "cell_type": "markdown",
      "metadata": {
        "id": "oKKS2LdKq7Oz"
      },
      "source": [
        "***\n"
      ]
    },
    {
      "cell_type": "code",
      "metadata": {
        "colab": {
          "base_uri": "https://localhost:8080/",
          "height": 265
        },
        "id": "_gFxp_pLq8lU",
        "outputId": "fd7f331d-4704-4a80-b4f3-cbbf7be7f397"
      },
      "source": [
        "# Test\n",
        "# Perform a query natality\n",
        "\n",
        "sql = \"\"\"\n",
        "    SELECT\n",
        "        wday,\n",
        "        SUM(CASE WHEN is_male THEN 1 ELSE 0 END) AS male_births,\n",
        "        SUM(CASE WHEN is_male THEN 0 ELSE 1 END) AS female_births\n",
        "    FROM `bigquery-public-data.samples.natality`\n",
        "    WHERE wday IS NOT NULL\n",
        "    GROUP BY wday\n",
        "    ORDER BY wday ASC\n",
        "\"\"\"\n",
        "query_job = client.query(sql)  # API request\n",
        "df = client.query(sql).to_dataframe()\n",
        "df"
      ],
      "execution_count": 75,
      "outputs": [
        {
          "output_type": "execute_result",
          "data": {
            "text/html": [
              "<div>\n",
              "<style scoped>\n",
              "    .dataframe tbody tr th:only-of-type {\n",
              "        vertical-align: middle;\n",
              "    }\n",
              "\n",
              "    .dataframe tbody tr th {\n",
              "        vertical-align: top;\n",
              "    }\n",
              "\n",
              "    .dataframe thead th {\n",
              "        text-align: right;\n",
              "    }\n",
              "</style>\n",
              "<table border=\"1\" class=\"dataframe\">\n",
              "  <thead>\n",
              "    <tr style=\"text-align: right;\">\n",
              "      <th></th>\n",
              "      <th>wday</th>\n",
              "      <th>male_births</th>\n",
              "      <th>female_births</th>\n",
              "    </tr>\n",
              "  </thead>\n",
              "  <tbody>\n",
              "    <tr>\n",
              "      <th>0</th>\n",
              "      <td>1</td>\n",
              "      <td>4293575</td>\n",
              "      <td>4093357</td>\n",
              "    </tr>\n",
              "    <tr>\n",
              "      <th>1</th>\n",
              "      <td>2</td>\n",
              "      <td>6095840</td>\n",
              "      <td>5831111</td>\n",
              "    </tr>\n",
              "    <tr>\n",
              "      <th>2</th>\n",
              "      <td>3</td>\n",
              "      <td>6727217</td>\n",
              "      <td>6412155</td>\n",
              "    </tr>\n",
              "    <tr>\n",
              "      <th>3</th>\n",
              "      <td>4</td>\n",
              "      <td>6618729</td>\n",
              "      <td>6307782</td>\n",
              "    </tr>\n",
              "    <tr>\n",
              "      <th>4</th>\n",
              "      <td>5</td>\n",
              "      <td>6583015</td>\n",
              "      <td>6284434</td>\n",
              "    </tr>\n",
              "    <tr>\n",
              "      <th>5</th>\n",
              "      <td>6</td>\n",
              "      <td>6518636</td>\n",
              "      <td>6223584</td>\n",
              "    </tr>\n",
              "    <tr>\n",
              "      <th>6</th>\n",
              "      <td>7</td>\n",
              "      <td>4761950</td>\n",
              "      <td>4530052</td>\n",
              "    </tr>\n",
              "  </tbody>\n",
              "</table>\n",
              "</div>"
            ],
            "text/plain": [
              "   wday  male_births  female_births\n",
              "0     1      4293575        4093357\n",
              "1     2      6095840        5831111\n",
              "2     3      6727217        6412155\n",
              "3     4      6618729        6307782\n",
              "4     5      6583015        6284434\n",
              "5     6      6518636        6223584\n",
              "6     7      4761950        4530052"
            ]
          },
          "metadata": {},
          "execution_count": 75
        }
      ]
    },
    {
      "cell_type": "code",
      "metadata": {
        "colab": {
          "base_uri": "https://localhost:8080/",
          "height": 307
        },
        "id": "e1NWVLl9rTen",
        "outputId": "60dbb4d7-5837-4754-dae5-623b4a267c3b"
      },
      "source": [
        "df.plot(x='wday')"
      ],
      "execution_count": 76,
      "outputs": [
        {
          "output_type": "execute_result",
          "data": {
            "text/plain": [
              "<matplotlib.axes._subplots.AxesSubplot at 0x7fea6de7f8d0>"
            ]
          },
          "metadata": {},
          "execution_count": 76
        },
        {
          "output_type": "display_data",
          "data": {
            "image/png": "[encoded data removed]",
            "text/plain": [
              "<Figure size 432x288 with 1 Axes>"
            ]
          },
          "metadata": {
            "needs_background": "light"
          }
        }
      ]
    },
    {
      "cell_type": "markdown",
      "metadata": {
        "id": "8i4hV1G4seBO"
      },
      "source": [
        "****\n"
      ]
    },
    {
      "cell_type": "code",
      "metadata": {
        "colab": {
          "base_uri": "https://localhost:8080/",
          "height": 203
        },
        "id": "VHEgY6U5sfcj",
        "outputId": "e25d201b-4137-40c8-82bd-d8a3b8800c42"
      },
      "source": [
        "# test\n",
        "sql = \"\"\"\n",
        "SELECT\n",
        "    plurality,\n",
        "    COUNT(1) AS count,\n",
        "    year\n",
        "FROM\n",
        "    `bigquery-public-data.samples.natality`\n",
        "WHERE\n",
        "    NOT IS_NAN(plurality) AND plurality > 1\n",
        "GROUP BY\n",
        "    plurality, year\n",
        "ORDER BY\n",
        "    count DESC\n",
        "\"\"\"\n",
        "df = client.query(sql).to_dataframe()\n",
        "df.head()"
      ],
      "execution_count": 77,
      "outputs": [
        {
          "output_type": "execute_result",
          "data": {
            "text/html": [
              "<div>\n",
              "<style scoped>\n",
              "    .dataframe tbody tr th:only-of-type {\n",
              "        vertical-align: middle;\n",
              "    }\n",
              "\n",
              "    .dataframe tbody tr th {\n",
              "        vertical-align: top;\n",
              "    }\n",
              "\n",
              "    .dataframe thead th {\n",
              "        text-align: right;\n",
              "    }\n",
              "</style>\n",
              "<table border=\"1\" class=\"dataframe\">\n",
              "  <thead>\n",
              "    <tr style=\"text-align: right;\">\n",
              "      <th></th>\n",
              "      <th>plurality</th>\n",
              "      <th>count</th>\n",
              "      <th>year</th>\n",
              "    </tr>\n",
              "  </thead>\n",
              "  <tbody>\n",
              "    <tr>\n",
              "      <th>0</th>\n",
              "      <td>2</td>\n",
              "      <td>139209</td>\n",
              "      <td>2007</td>\n",
              "    </tr>\n",
              "    <tr>\n",
              "      <th>1</th>\n",
              "      <td>2</td>\n",
              "      <td>138866</td>\n",
              "      <td>2008</td>\n",
              "    </tr>\n",
              "    <tr>\n",
              "      <th>2</th>\n",
              "      <td>2</td>\n",
              "      <td>137239</td>\n",
              "      <td>2006</td>\n",
              "    </tr>\n",
              "    <tr>\n",
              "      <th>3</th>\n",
              "      <td>2</td>\n",
              "      <td>133285</td>\n",
              "      <td>2005</td>\n",
              "    </tr>\n",
              "    <tr>\n",
              "      <th>4</th>\n",
              "      <td>2</td>\n",
              "      <td>132344</td>\n",
              "      <td>2004</td>\n",
              "    </tr>\n",
              "  </tbody>\n",
              "</table>\n",
              "</div>"
            ],
            "text/plain": [
              "   plurality   count  year\n",
              "0          2  139209  2007\n",
              "1          2  138866  2008\n",
              "2          2  137239  2006\n",
              "3          2  133285  2005\n",
              "4          2  132344  2004"
            ]
          },
          "metadata": {},
          "execution_count": 77
        }
      ]
    },
    {
      "cell_type": "code",
      "metadata": {
        "colab": {
          "base_uri": "https://localhost:8080/",
          "height": 389
        },
        "id": "udCZFE1fso9e",
        "outputId": "c78ea453-6995-4997-c7d8-d0779f8daaaa"
      },
      "source": [
        "pivot_table = df.pivot(index='year', columns='plurality', values='count')\n",
        "pivot_table.plot(kind='bar', stacked=True, figsize=(15, 7));"
      ],
      "execution_count": 78,
      "outputs": [
        {
          "output_type": "display_data",
          "data": {
            "image/png": "[encoded data removed]",
            "text/plain": [
              "<Figure size 1080x504 with 1 Axes>"
            ]
          },
          "metadata": {
            "needs_background": "light"
          }
        }
      ]
    },
    {
      "cell_type": "code",
      "metadata": {
        "id": "l57azR0Us7W5"
      },
      "source": [
        "sql = \"\"\"\n",
        "SELECT\n",
        "    gestation_weeks,\n",
        "    COUNT(1) AS count\n",
        "FROM\n",
        "    `bigquery-public-data.samples.natality`\n",
        "WHERE\n",
        "    NOT IS_NAN(gestation_weeks) AND gestation_weeks <> 99\n",
        "GROUP BY\n",
        "    gestation_weeks\n",
        "ORDER BY\n",
        "    gestation_weeks\n",
        "\"\"\"\n",
        "df = client.query(sql).to_dataframe()"
      ],
      "execution_count": 79,
      "outputs": []
    },
    {
      "cell_type": "code",
      "metadata": {
        "colab": {
          "base_uri": "https://localhost:8080/",
          "height": 395
        },
        "id": "NvNlTK_aq1Qx",
        "outputId": "f8cfc9ae-3106-4324-e3c0-b4ba5286a70e"
      },
      "source": [
        "ax = df.plot(kind='bar', x='gestation_weeks', y='count', figsize=(15,7))\n",
        "ax.set_title('Count of Births by Gestation Weeks')\n",
        "ax.set_xlabel('Gestation Weeks')\n",
        "ax.set_ylabel('Count');"
      ],
      "execution_count": 80,
      "outputs": [
        {
          "output_type": "display_data",
          "data": {
            "image/png": "[encoded data removed]",
            "text/plain": [
              "<Figure size 1080x504 with 1 Axes>"
            ]
          },
          "metadata": {
            "needs_background": "light"
          }
        }
      ]
    },
    {
      "cell_type": "code",
      "metadata": {
        "id": "iun__GxXq1EQ"
      },
      "source": [
        ""
      ],
      "execution_count": null,
      "outputs": []
    }
  ]
}