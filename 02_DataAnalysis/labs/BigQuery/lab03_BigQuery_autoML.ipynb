{
  "nbformat": 4,
  "nbformat_minor": 0,
  "metadata": {
    "colab": {
      "name": "lab03 - BigQuery autoML",
      "provenance": [],
      "collapsed_sections": []
    },
    "kernelspec": {
      "name": "python3",
      "display_name": "Python 3"
    },
    "language_info": {
      "name": "python"
    }
  },
  "cells": [
    {
      "cell_type": "code",
      "metadata": {
        "id": "ABL-glBYp5Ii"
      },
      "source": [
        "# instalar bigquery \n",
        "!pip install google-cloud-bigquery -q"
      ],
      "execution_count": 1,
      "outputs": []
    },
    {
      "cell_type": "code",
      "metadata": {
        "id": "JZTOJwBlqLyb"
      },
      "source": [
        "# cargamos las librerías\n",
        "from google.cloud import bigquery\n",
        "from google.oauth2 import service_account"
      ],
      "execution_count": 2,
      "outputs": []
    },
    {
      "cell_type": "code",
      "metadata": {
        "id": "g1_sMY8MqMlE"
      },
      "source": [
        "creds = service_account.Credentials.from_service_account_file('/content/thebridgept0521-00ccc9a47591.json')"
      ],
      "execution_count": null,
      "outputs": []
    },
    {
      "cell_type": "code",
      "metadata": {
        "id": "3ZVspouBr0z_"
      },
      "source": [
        "# En caso de trabajar con el token json\n",
        "client = bigquery.Client(credentials=creds, project=proj_id)"
      ],
      "execution_count": null,
      "outputs": []
    },
    {
      "cell_type": "markdown",
      "metadata": {
        "id": "Zt8vcnMSr1fD"
      },
      "source": [
        "***\n",
        "### Alternativa con Auth de Google"
      ]
    },
    {
      "cell_type": "code",
      "metadata": {
        "id": "kFXo9hlmqX2Z"
      },
      "source": [
        "# Alternativa con Google Oauth de Google Colab\n",
        "from google.colab import auth\n",
        "auth.authenticate_user()"
      ],
      "execution_count": 3,
      "outputs": []
    },
    {
      "cell_type": "code",
      "metadata": {
        "id": "X_hdCGl2qYaa"
      },
      "source": [
        "# introducimos el projectID\n",
        "proj_id = 'thebridgept0521'"
      ],
      "execution_count": 4,
      "outputs": []
    },
    {
      "cell_type": "code",
      "metadata": {
        "id": "ZbpcpvajqiaI"
      },
      "source": [
        "# En caso de trabajar con el token\n",
        "client = bigquery.Client(project=proj_id)"
      ],
      "execution_count": 5,
      "outputs": []
    },
    {
      "cell_type": "markdown",
      "metadata": {
        "id": "cJzCdyZ-r4rL"
      },
      "source": [
        "***"
      ]
    },
    {
      "cell_type": "code",
      "metadata": {
        "id": "kfHXsQyWqkZx"
      },
      "source": [
        "# Probamos Gcp-BQ\n",
        "query = (\n",
        "'SELECT name '\n",
        "'FROM `bigquery-public-data.usa_names.usa_1910_2013` '\n",
        "'WHERE state = \"TX\" '\n",
        "'LIMIT 100 '\n",
        ")"
      ],
      "execution_count": 12,
      "outputs": []
    },
    {
      "cell_type": "code",
      "metadata": {
        "id": "c7HXDi2QqmGn"
      },
      "source": [
        "# Ejecutaremos el job de BigQuery\n",
        "query_job = client.query(query) # esta es la llamada a la API"
      ],
      "execution_count": 13,
      "outputs": []
    },
    {
      "cell_type": "code",
      "metadata": {
        "colab": {
          "base_uri": "https://localhost:8080/",
          "height": 424
        },
        "id": "bHvXhb1mqoip",
        "outputId": "80ce6386-b5c1-4cfd-ae41-ab59bea4768c"
      },
      "source": [
        "df_1 = query_job.to_dataframe()\n",
        "df_1"
      ],
      "execution_count": 14,
      "outputs": [
        {
          "output_type": "execute_result",
          "data": {
            "text/html": [
              "<div>\n",
              "<style scoped>\n",
              "    .dataframe tbody tr th:only-of-type {\n",
              "        vertical-align: middle;\n",
              "    }\n",
              "\n",
              "    .dataframe tbody tr th {\n",
              "        vertical-align: top;\n",
              "    }\n",
              "\n",
              "    .dataframe thead th {\n",
              "        text-align: right;\n",
              "    }\n",
              "</style>\n",
              "<table border=\"1\" class=\"dataframe\">\n",
              "  <thead>\n",
              "    <tr style=\"text-align: right;\">\n",
              "      <th></th>\n",
              "      <th>name</th>\n",
              "    </tr>\n",
              "  </thead>\n",
              "  <tbody>\n",
              "    <tr>\n",
              "      <th>0</th>\n",
              "      <td>Frances</td>\n",
              "    </tr>\n",
              "    <tr>\n",
              "      <th>1</th>\n",
              "      <td>Alice</td>\n",
              "    </tr>\n",
              "    <tr>\n",
              "      <th>2</th>\n",
              "      <td>Beatrice</td>\n",
              "    </tr>\n",
              "    <tr>\n",
              "      <th>3</th>\n",
              "      <td>Ella</td>\n",
              "    </tr>\n",
              "    <tr>\n",
              "      <th>4</th>\n",
              "      <td>Gertrude</td>\n",
              "    </tr>\n",
              "    <tr>\n",
              "      <th>...</th>\n",
              "      <td>...</td>\n",
              "    </tr>\n",
              "    <tr>\n",
              "      <th>95</th>\n",
              "      <td>Rosa</td>\n",
              "    </tr>\n",
              "    <tr>\n",
              "      <th>96</th>\n",
              "      <td>Lucy</td>\n",
              "    </tr>\n",
              "    <tr>\n",
              "      <th>97</th>\n",
              "      <td>Nora</td>\n",
              "    </tr>\n",
              "    <tr>\n",
              "      <th>98</th>\n",
              "      <td>Nettie</td>\n",
              "    </tr>\n",
              "    <tr>\n",
              "      <th>99</th>\n",
              "      <td>Odessa</td>\n",
              "    </tr>\n",
              "  </tbody>\n",
              "</table>\n",
              "<p>100 rows × 1 columns</p>\n",
              "</div>"
            ],
            "text/plain": [
              "        name\n",
              "0    Frances\n",
              "1      Alice\n",
              "2   Beatrice\n",
              "3       Ella\n",
              "4   Gertrude\n",
              "..       ...\n",
              "95      Rosa\n",
              "96      Lucy\n",
              "97      Nora\n",
              "98    Nettie\n",
              "99    Odessa\n",
              "\n",
              "[100 rows x 1 columns]"
            ]
          },
          "metadata": {},
          "execution_count": 14
        }
      ]
    },
    {
      "cell_type": "markdown",
      "metadata": {
        "id": "PiFFI0evsZym"
      },
      "source": [
        "***"
      ]
    },
    {
      "cell_type": "markdown",
      "metadata": {
        "id": "BnAw3CpXsdaV"
      },
      "source": [
        "## Predicción de compra desde Google BigQuery"
      ]
    },
    {
      "cell_type": "code",
      "metadata": {
        "id": "l1Znte3ksgGG"
      },
      "source": [
        "query = \"\"\"\n",
        "#standardSQL\n",
        "WITH visitors AS(\n",
        "SELECT\n",
        "COUNT(DISTINCT fullVisitorId) AS total_visitors\n",
        "FROM `data-to-insights.ecommerce.web_analytics`\n",
        "),\n",
        "purchasers AS(\n",
        "SELECT\n",
        "COUNT(DISTINCT fullVisitorId) AS total_purchasers\n",
        "FROM `data-to-insights.ecommerce.web_analytics`\n",
        "WHERE totals.transactions IS NOT NULL\n",
        ")\n",
        "SELECT\n",
        " total_visitors,\n",
        " total_purchasers,\n",
        " total_purchasers / total_visitors AS conversion_rate\n",
        "FROM visitors, purchasers\n",
        "\n",
        "\"\"\""
      ],
      "execution_count": 15,
      "outputs": []
    },
    {
      "cell_type": "code",
      "metadata": {
        "colab": {
          "base_uri": "https://localhost:8080/",
          "height": 81
        },
        "id": "0PQVcL6_scOl",
        "outputId": "453fb8c6-a6c4-42b0-c0ec-ec9b69d57153"
      },
      "source": [
        "query_job = client.query(query)\n",
        "df_2 = query_job.to_dataframe()\n",
        "df_2"
      ],
      "execution_count": 16,
      "outputs": [
        {
          "output_type": "execute_result",
          "data": {
            "text/html": [
              "<div>\n",
              "<style scoped>\n",
              "    .dataframe tbody tr th:only-of-type {\n",
              "        vertical-align: middle;\n",
              "    }\n",
              "\n",
              "    .dataframe tbody tr th {\n",
              "        vertical-align: top;\n",
              "    }\n",
              "\n",
              "    .dataframe thead th {\n",
              "        text-align: right;\n",
              "    }\n",
              "</style>\n",
              "<table border=\"1\" class=\"dataframe\">\n",
              "  <thead>\n",
              "    <tr style=\"text-align: right;\">\n",
              "      <th></th>\n",
              "      <th>total_visitors</th>\n",
              "      <th>total_purchasers</th>\n",
              "      <th>conversion_rate</th>\n",
              "    </tr>\n",
              "  </thead>\n",
              "  <tbody>\n",
              "    <tr>\n",
              "      <th>0</th>\n",
              "      <td>741721</td>\n",
              "      <td>20015</td>\n",
              "      <td>0.026985</td>\n",
              "    </tr>\n",
              "  </tbody>\n",
              "</table>\n",
              "</div>"
            ],
            "text/plain": [
              "   total_visitors  total_purchasers  conversion_rate\n",
              "0          741721             20015         0.026985"
            ]
          },
          "metadata": {},
          "execution_count": 16
        }
      ]
    },
    {
      "cell_type": "code",
      "metadata": {
        "id": "A-Rjs6gGq3Bd"
      },
      "source": [
        "query = \"\"\"\n",
        "SELECT\n",
        "  p.v2ProductName,\n",
        "  p.v2ProductCategory,\n",
        "  SUM(p.productQuantity) AS units_sold,\n",
        "  ROUND(SUM(p.localProductRevenue/1000000),2) AS revenue\n",
        "FROM `data-to-insights.ecommerce.web_analytics`,\n",
        "UNNEST(hits) AS h,\n",
        "UNNEST(h.product) AS p\n",
        "WHERE date BETWEEN '20160101' AND '20161231' \n",
        "GROUP BY 1, 2\n",
        "ORDER BY revenue DESC\n",
        "LIMIT 10;\n",
        "\n",
        "\"\"\""
      ],
      "execution_count": 25,
      "outputs": []
    },
    {
      "cell_type": "code",
      "metadata": {
        "colab": {
          "base_uri": "https://localhost:8080/",
          "height": 363
        },
        "id": "83mpvW37tyZr",
        "outputId": "12f3afde-b5ff-4a4c-9810-69dd45592461"
      },
      "source": [
        "query_job = client.query(query)\n",
        "df = query_job.to_dataframe()\n",
        "df"
      ],
      "execution_count": 26,
      "outputs": [
        {
          "output_type": "execute_result",
          "data": {
            "text/html": [
              "<div>\n",
              "<style scoped>\n",
              "    .dataframe tbody tr th:only-of-type {\n",
              "        vertical-align: middle;\n",
              "    }\n",
              "\n",
              "    .dataframe tbody tr th {\n",
              "        vertical-align: top;\n",
              "    }\n",
              "\n",
              "    .dataframe thead th {\n",
              "        text-align: right;\n",
              "    }\n",
              "</style>\n",
              "<table border=\"1\" class=\"dataframe\">\n",
              "  <thead>\n",
              "    <tr style=\"text-align: right;\">\n",
              "      <th></th>\n",
              "      <th>v2ProductName</th>\n",
              "      <th>v2ProductCategory</th>\n",
              "      <th>units_sold</th>\n",
              "      <th>revenue</th>\n",
              "    </tr>\n",
              "  </thead>\n",
              "  <tbody>\n",
              "    <tr>\n",
              "      <th>0</th>\n",
              "      <td>Nest® Learning Thermostat 3rd Gen-USA - Stainl...</td>\n",
              "      <td>Nest-USA</td>\n",
              "      <td>7969</td>\n",
              "      <td>370141.09</td>\n",
              "    </tr>\n",
              "    <tr>\n",
              "      <th>1</th>\n",
              "      <td>Nest® Cam Outdoor Security Camera - USA</td>\n",
              "      <td>Nest-USA</td>\n",
              "      <td>6570</td>\n",
              "      <td>249730.11</td>\n",
              "    </tr>\n",
              "    <tr>\n",
              "      <th>2</th>\n",
              "      <td>Nest® Cam Indoor Security Camera - USA</td>\n",
              "      <td>Nest-USA</td>\n",
              "      <td>4763</td>\n",
              "      <td>174158.36</td>\n",
              "    </tr>\n",
              "    <tr>\n",
              "      <th>3</th>\n",
              "      <td>Nest® Protect Smoke + CO White Battery Alarm-USA</td>\n",
              "      <td>Nest-USA</td>\n",
              "      <td>2090</td>\n",
              "      <td>55584.32</td>\n",
              "    </tr>\n",
              "    <tr>\n",
              "      <th>4</th>\n",
              "      <td>Nest® Protect Smoke + CO White Wired Alarm-USA</td>\n",
              "      <td>Nest-USA</td>\n",
              "      <td>2002</td>\n",
              "      <td>50799.52</td>\n",
              "    </tr>\n",
              "    <tr>\n",
              "      <th>5</th>\n",
              "      <td>Nest® Learning Thermostat 3rd Gen - CA - Stain...</td>\n",
              "      <td>Nest-Canada</td>\n",
              "      <td>383</td>\n",
              "      <td>17432.17</td>\n",
              "    </tr>\n",
              "    <tr>\n",
              "      <th>6</th>\n",
              "      <td>26 oz Double Wall Insulated Bottle</td>\n",
              "      <td>Drinkware</td>\n",
              "      <td>2153</td>\n",
              "      <td>16138.09</td>\n",
              "    </tr>\n",
              "    <tr>\n",
              "      <th>7</th>\n",
              "      <td>Google 22 oz Water Bottle</td>\n",
              "      <td>Drinkware</td>\n",
              "      <td>17331</td>\n",
              "      <td>14431.35</td>\n",
              "    </tr>\n",
              "    <tr>\n",
              "      <th>8</th>\n",
              "      <td>Google Men's  Zip Hoodie</td>\n",
              "      <td>(not set)</td>\n",
              "      <td>884</td>\n",
              "      <td>12859.26</td>\n",
              "    </tr>\n",
              "    <tr>\n",
              "      <th>9</th>\n",
              "      <td>Google Metallic Notebook Set</td>\n",
              "      <td>(not set)</td>\n",
              "      <td>7028</td>\n",
              "      <td>10512.88</td>\n",
              "    </tr>\n",
              "  </tbody>\n",
              "</table>\n",
              "</div>"
            ],
            "text/plain": [
              "                                       v2ProductName  ...    revenue\n",
              "0  Nest® Learning Thermostat 3rd Gen-USA - Stainl...  ...  370141.09\n",
              "1            Nest® Cam Outdoor Security Camera - USA  ...  249730.11\n",
              "2             Nest® Cam Indoor Security Camera - USA  ...  174158.36\n",
              "3   Nest® Protect Smoke + CO White Battery Alarm-USA  ...   55584.32\n",
              "4     Nest® Protect Smoke + CO White Wired Alarm-USA  ...   50799.52\n",
              "5  Nest® Learning Thermostat 3rd Gen - CA - Stain...  ...   17432.17\n",
              "6                 26 oz Double Wall Insulated Bottle  ...   16138.09\n",
              "7                          Google 22 oz Water Bottle  ...   14431.35\n",
              "8                           Google Men's  Zip Hoodie  ...   12859.26\n",
              "9                       Google Metallic Notebook Set  ...   10512.88\n",
              "\n",
              "[10 rows x 4 columns]"
            ]
          },
          "metadata": {},
          "execution_count": 26
        }
      ]
    },
    {
      "cell_type": "code",
      "metadata": {
        "id": "0rrer3-7vmCc"
      },
      "source": [
        "query = \"\"\"\n",
        "# visitors who bought on a return visit (could have bought on first as well\n",
        "WITH all_visitor_stats AS (\n",
        "SELECT\n",
        "  fullvisitorid, # 741,721 unique visitors\n",
        "  IF(COUNTIF(totals.transactions > 0 AND totals.newVisits IS NULL) > 0, 1, 0) AS will_buy_on_return_visit\n",
        "  FROM `data-to-insights.ecommerce.web_analytics`\n",
        "  GROUP BY fullvisitorid\n",
        ")\n",
        "SELECT\n",
        "  COUNT(DISTINCT fullvisitorid) AS total_visitors,\n",
        "  will_buy_on_return_visit\n",
        "FROM all_visitor_stats\n",
        "GROUP BY will_buy_on_return_visit\n",
        "\n",
        "\"\"\""
      ],
      "execution_count": 23,
      "outputs": []
    },
    {
      "cell_type": "code",
      "metadata": {
        "colab": {
          "base_uri": "https://localhost:8080/",
          "height": 112
        },
        "id": "D6XnLDBVwBH8",
        "outputId": "b4168d2f-b108-44b0-a717-44d932ee60c9"
      },
      "source": [
        "query_job = client.query(query)\n",
        "df = query_job.to_dataframe()\n",
        "df"
      ],
      "execution_count": 24,
      "outputs": [
        {
          "output_type": "execute_result",
          "data": {
            "text/html": [
              "<div>\n",
              "<style scoped>\n",
              "    .dataframe tbody tr th:only-of-type {\n",
              "        vertical-align: middle;\n",
              "    }\n",
              "\n",
              "    .dataframe tbody tr th {\n",
              "        vertical-align: top;\n",
              "    }\n",
              "\n",
              "    .dataframe thead th {\n",
              "        text-align: right;\n",
              "    }\n",
              "</style>\n",
              "<table border=\"1\" class=\"dataframe\">\n",
              "  <thead>\n",
              "    <tr style=\"text-align: right;\">\n",
              "      <th></th>\n",
              "      <th>total_visitors</th>\n",
              "      <th>will_buy_on_return_visit</th>\n",
              "    </tr>\n",
              "  </thead>\n",
              "  <tbody>\n",
              "    <tr>\n",
              "      <th>0</th>\n",
              "      <td>729848</td>\n",
              "      <td>0</td>\n",
              "    </tr>\n",
              "    <tr>\n",
              "      <th>1</th>\n",
              "      <td>11873</td>\n",
              "      <td>1</td>\n",
              "    </tr>\n",
              "  </tbody>\n",
              "</table>\n",
              "</div>"
            ],
            "text/plain": [
              "   total_visitors  will_buy_on_return_visit\n",
              "0          729848                         0\n",
              "1           11873                         1"
            ]
          },
          "metadata": {},
          "execution_count": 24
        }
      ]
    },
    {
      "cell_type": "code",
      "metadata": {
        "id": "EArzEikBxB-j"
      },
      "source": [
        "query = \"\"\"\n",
        "SELECT\n",
        "  * EXCEPT(fullVisitorId)\n",
        "FROM\n",
        "  # features\n",
        "  (SELECT\n",
        "    fullVisitorId,\n",
        "    IFNULL(totals.bounces, 0) AS bounces,\n",
        "    IFNULL(totals.timeOnSite, 0) AS time_on_site\n",
        "  FROM\n",
        "    `data-to-insights.ecommerce.web_analytics`\n",
        "  WHERE\n",
        "    totals.newVisits = 1)\n",
        "  JOIN\n",
        "  (SELECT\n",
        "    fullvisitorid,\n",
        "    IF(COUNTIF(totals.transactions > 0 AND totals.newVisits IS NULL) > 0, 1, 0) AS will_buy_on_return_visit\n",
        "  FROM\n",
        "      `data-to-insights.ecommerce.web_analytics`\n",
        "  GROUP BY fullvisitorid)\n",
        "  USING (fullVisitorId)\n",
        "ORDER BY time_on_site DESC\n",
        "LIMIT 10;\n",
        "\"\"\""
      ],
      "execution_count": 28,
      "outputs": []
    },
    {
      "cell_type": "code",
      "metadata": {
        "colab": {
          "base_uri": "https://localhost:8080/",
          "height": 363
        },
        "id": "io_SM5vQxPj4",
        "outputId": "15411c84-5869-46ca-8a75-17e3ff7f9f29"
      },
      "source": [
        "query_job = client.query(query)\n",
        "df = query_job.to_dataframe()\n",
        "df"
      ],
      "execution_count": 29,
      "outputs": [
        {
          "output_type": "execute_result",
          "data": {
            "text/html": [
              "<div>\n",
              "<style scoped>\n",
              "    .dataframe tbody tr th:only-of-type {\n",
              "        vertical-align: middle;\n",
              "    }\n",
              "\n",
              "    .dataframe tbody tr th {\n",
              "        vertical-align: top;\n",
              "    }\n",
              "\n",
              "    .dataframe thead th {\n",
              "        text-align: right;\n",
              "    }\n",
              "</style>\n",
              "<table border=\"1\" class=\"dataframe\">\n",
              "  <thead>\n",
              "    <tr style=\"text-align: right;\">\n",
              "      <th></th>\n",
              "      <th>bounces</th>\n",
              "      <th>time_on_site</th>\n",
              "      <th>will_buy_on_return_visit</th>\n",
              "    </tr>\n",
              "  </thead>\n",
              "  <tbody>\n",
              "    <tr>\n",
              "      <th>0</th>\n",
              "      <td>0</td>\n",
              "      <td>15047</td>\n",
              "      <td>0</td>\n",
              "    </tr>\n",
              "    <tr>\n",
              "      <th>1</th>\n",
              "      <td>0</td>\n",
              "      <td>12136</td>\n",
              "      <td>0</td>\n",
              "    </tr>\n",
              "    <tr>\n",
              "      <th>2</th>\n",
              "      <td>0</td>\n",
              "      <td>11201</td>\n",
              "      <td>0</td>\n",
              "    </tr>\n",
              "    <tr>\n",
              "      <th>3</th>\n",
              "      <td>0</td>\n",
              "      <td>10046</td>\n",
              "      <td>0</td>\n",
              "    </tr>\n",
              "    <tr>\n",
              "      <th>4</th>\n",
              "      <td>0</td>\n",
              "      <td>9974</td>\n",
              "      <td>0</td>\n",
              "    </tr>\n",
              "    <tr>\n",
              "      <th>5</th>\n",
              "      <td>0</td>\n",
              "      <td>9564</td>\n",
              "      <td>0</td>\n",
              "    </tr>\n",
              "    <tr>\n",
              "      <th>6</th>\n",
              "      <td>0</td>\n",
              "      <td>9520</td>\n",
              "      <td>0</td>\n",
              "    </tr>\n",
              "    <tr>\n",
              "      <th>7</th>\n",
              "      <td>0</td>\n",
              "      <td>9275</td>\n",
              "      <td>1</td>\n",
              "    </tr>\n",
              "    <tr>\n",
              "      <th>8</th>\n",
              "      <td>0</td>\n",
              "      <td>9138</td>\n",
              "      <td>0</td>\n",
              "    </tr>\n",
              "    <tr>\n",
              "      <th>9</th>\n",
              "      <td>0</td>\n",
              "      <td>8872</td>\n",
              "      <td>0</td>\n",
              "    </tr>\n",
              "  </tbody>\n",
              "</table>\n",
              "</div>"
            ],
            "text/plain": [
              "   bounces  time_on_site  will_buy_on_return_visit\n",
              "0        0         15047                         0\n",
              "1        0         12136                         0\n",
              "2        0         11201                         0\n",
              "3        0         10046                         0\n",
              "4        0          9974                         0\n",
              "5        0          9564                         0\n",
              "6        0          9520                         0\n",
              "7        0          9275                         1\n",
              "8        0          9138                         0\n",
              "9        0          8872                         0"
            ]
          },
          "metadata": {},
          "execution_count": 29
        }
      ]
    },
    {
      "cell_type": "markdown",
      "metadata": {
        "id": "5AZpZMIQxs3E"
      },
      "source": [
        "## Creación del modelo BigQuery ML"
      ]
    },
    {
      "cell_type": "code",
      "metadata": {
        "id": "hsC_NadXxvAZ"
      },
      "source": [
        "query = \"\"\"\n",
        "CREATE OR REPLACE MODEL `ecommerce.classification_model_mrusso`\n",
        "OPTIONS\n",
        "(\n",
        "model_type='logistic_reg',\n",
        "labels = ['will_buy_on_return_visit']\n",
        ")\n",
        "AS\n",
        "#standardSQL\n",
        "SELECT\n",
        "  * EXCEPT(fullVisitorId)\n",
        "FROM\n",
        "  # features\n",
        "  (SELECT\n",
        "    fullVisitorId,\n",
        "    IFNULL(totals.bounces, 0) AS bounces,\n",
        "    IFNULL(totals.timeOnSite, 0) AS time_on_site\n",
        "  FROM\n",
        "    `data-to-insights.ecommerce.web_analytics`\n",
        "  WHERE\n",
        "    totals.newVisits = 1\n",
        "    AND date BETWEEN '20160801' AND '20170430') # train on first 9 months\n",
        "  JOIN\n",
        "  (SELECT\n",
        "    fullvisitorid,\n",
        "    IF(COUNTIF(totals.transactions > 0 AND totals.newVisits IS NULL) > 0, 1, 0) AS will_buy_on_return_visit\n",
        "  FROM\n",
        "      `data-to-insights.ecommerce.web_analytics`\n",
        "  GROUP BY fullvisitorid)\n",
        "  USING (fullVisitorId)\n",
        ";\n",
        "\"\"\""
      ],
      "execution_count": 34,
      "outputs": []
    },
    {
      "cell_type": "code",
      "metadata": {
        "colab": {
          "base_uri": "https://localhost:8080/",
          "height": 32
        },
        "id": "zjrxo7yRyOaS",
        "outputId": "3e5747bb-afd7-441f-c41b-c42509bf5cdb"
      },
      "source": [
        "query_job = client.query(query)\n",
        "df = query_job.to_dataframe()\n",
        "df"
      ],
      "execution_count": 35,
      "outputs": [
        {
          "output_type": "execute_result",
          "data": {
            "text/html": [
              "<div>\n",
              "<style scoped>\n",
              "    .dataframe tbody tr th:only-of-type {\n",
              "        vertical-align: middle;\n",
              "    }\n",
              "\n",
              "    .dataframe tbody tr th {\n",
              "        vertical-align: top;\n",
              "    }\n",
              "\n",
              "    .dataframe thead th {\n",
              "        text-align: right;\n",
              "    }\n",
              "</style>\n",
              "<table border=\"1\" class=\"dataframe\">\n",
              "  <thead>\n",
              "    <tr style=\"text-align: right;\">\n",
              "      <th></th>\n",
              "    </tr>\n",
              "  </thead>\n",
              "  <tbody>\n",
              "  </tbody>\n",
              "</table>\n",
              "</div>"
            ],
            "text/plain": [
              "Empty DataFrame\n",
              "Columns: []\n",
              "Index: []"
            ]
          },
          "metadata": {},
          "execution_count": 35
        }
      ]
    }
  ]
}