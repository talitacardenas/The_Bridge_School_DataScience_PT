{
  "nbformat": 4,
  "nbformat_minor": 0,
  "metadata": {
    "kernelspec": {
      "display_name": "Python 3",
      "language": "python",
      "name": "python3"
    },
    "language_info": {
      "codemirror_mode": {
        "name": "ipython",
        "version": 3
      },
      "file_extension": ".py",
      "mimetype": "text/x-python",
      "name": "python",
      "nbconvert_exporter": "python",
      "pygments_lexer": "ipython3",
      "version": "3.6.7"
    },
    "colab": {
      "name": "duelo.ipynb",
      "provenance": []
    }
  },
  "cells": [
    {
      "cell_type": "markdown",
      "metadata": {
        "id": "Pc9d_NEcwyhq"
      },
      "source": [
        "# Duelo de magos\n",
        "Estás presenciando una batalla épica entre dos poderosos magos: Gandalf y Saruman. Cada mago tiene 10 hechizos de potencia variable en su mente y los van a lanzar uno tras otro. El ganador del duelo será el que gane más de esos choques entre hechizos. Los hechizos se representan como una lista de 10 números enteros cuyo valor equivale a la potencia del hechizo. \n",
        "```\n",
        "gandalf = [10, 11, 13, 30, 22, 11, 10, 33, 22, 22]\n",
        "saruman = [23, 66, 12, 43, 12, 10, 44, 23, 12, 17]\n",
        "```\n",
        "Por ejemplo: \n",
        "1. El primer choque lo gana Saruman: 10 contra 23, gana el 23\n",
        "2. El segundo choque gana Saruman: 11 contra 66, gana el 66\n",
        "3. etc.\n",
        "\n",
        "\n",
        "Vas a crear dos variables, una por cada mago, donde se almacenarán la suma de choques de hechizos ganados. En función de qué variable sea mayor al final del duelo, mostrarás por pantalla uno de los tres siguientes resultados: \n",
        "* Gandalf gana\n",
        "* Saruman gana\n",
        "* Empate\n",
        "\n",
        "\n",
        "1. El primer choque lo gana Saruman: 10 contra 23, gana el 23\n",
        "2. El segundo choque gana Saruman: 11 contra 66, gana el 66\n",
        "3. etc."
      ]
    },
    {
      "cell_type": "markdown",
      "metadata": {
        "id": "y6l_QVwrwyhv"
      },
      "source": [
        "## Solución"
      ]
    },
    {
      "cell_type": "code",
      "metadata": {
        "id": "Ijl9FLmBwyhw"
      },
      "source": [
        "# Asignamos las listas de hechizos a variables\n",
        "gandalf = [10, 11, 13, 30, 22, 11, 10, 33, 22, 22]\n",
        "saruman = [23, 66, 12, 43, 12, 10, 44, 23, 12, 17]\n",
        "\n",
        "# Asignamos 0 a cada variable que almacena las victorias\n",
        "\n",
        "\n",
        "# Ejecución de los choques de hechizos\n",
        "\n",
        "\n",
        "# Comprobamos quién ha ganado, no olvides la posibilidad de empate. \n",
        "# Imprime el resultado en función del ganador. \n",
        "\n"
      ],
      "execution_count": null,
      "outputs": []
    },
    {
      "cell_type": "markdown",
      "metadata": {
        "id": "x-KoYoyBwyhy"
      },
      "source": [
        "## Objetivos\n",
        "\n",
        "1. Tratamiento de listas\n",
        "2. Uso de bucle **for**\n",
        "3. Uso de condicionales **if-elif-else**\n",
        "4. Uso de las funciones **range(), len()**\n",
        "5. Imprimir por consola"
      ]
    },
    {
      "cell_type": "code",
      "metadata": {
        "id": "MFgnLVwqwyhz"
      },
      "source": [
        "gandalf = [10, 11, 13, 30, 22, 11, 10, 33, 22, 22]\n",
        "saruman = [23, 66, 12, 43, 12, 10, 44, 23, 12, 17]\n"
      ],
      "execution_count": 56,
      "outputs": []
    },
    {
      "cell_type": "code",
      "metadata": {
        "colab": {
          "base_uri": "https://localhost:8080/"
        },
        "id": "0FrUXm0HyWoZ",
        "outputId": "de336999-1d10-4503-c1cc-8ddb13a56a39"
      },
      "source": [
        "#Solucion 1\n",
        "punct_gand = 0\n",
        "for g, s in zip(gandalf, saruman):\n",
        "  if g > s:\n",
        "    punct_gand +=1\n",
        "\n",
        "if punct_gand > 5:\n",
        "  print (\"Gana Gandalf\")\n",
        "elif punct_gand == 5:\n",
        "  print (\"H habido un empate\")\n",
        "else:\n",
        "    print (\"Gana Saruman\")"
      ],
      "execution_count": 58,
      "outputs": [
        {
          "output_type": "stream",
          "text": [
            "Gana Gandalf\n"
          ],
          "name": "stdout"
        }
      ]
    },
    {
      "cell_type": "code",
      "metadata": {
        "colab": {
          "base_uri": "https://localhost:8080/"
        },
        "id": "v9FKjxtSCOxd",
        "outputId": "5729fdf1-439b-41a3-c6be-1c72c448da91"
      },
      "source": [
        "#Solucion 2\n",
        "punct_gand = 0\n",
        "for g in gandalf:\n",
        "  if gandalf [0] > saruman [0]:\n",
        "    punct_gand += 1\n",
        "  elif gandalf [1] > saruman [1]:\n",
        "    punct_gand += 1\n",
        "  elif gandalf [2] > saruman [2]:\n",
        "    punct_gand += 1\n",
        "  elif gandalf [3] > saruman [3]:\n",
        "    punct_gand += 1\n",
        "  elif gandalf [4] > saruman [4]:\n",
        "    punct_gand += 1\n",
        "  elif gandalf [5] > saruman [5]:\n",
        "    punct_gand += 1\n",
        "  elif gandalf [6] > saruman [6]:\n",
        "    punct_gand += 1\n",
        "  elif gandalf [7] > saruman [7]:\n",
        "    punct_gand += 1\n",
        "  elif gandalf [8] > saruman [8]:\n",
        "    punct_gand += 1\n",
        "  elif gandalf [9] > saruman [9]:\n",
        "    punct_gand += 1\n",
        "\n",
        "\n",
        "if punct_gand > 5:\n",
        "  print (\"Gana Gandalf\")\n",
        "elif punct_gand == 5:\n",
        "  print (\"H habido un empate\")\n",
        "else:\n",
        "    print (\"Gana Saruman\")"
      ],
      "execution_count": 62,
      "outputs": [
        {
          "output_type": "stream",
          "text": [
            "Gana Gandalf\n"
          ],
          "name": "stdout"
        }
      ]
    },
    {
      "cell_type": "code",
      "metadata": {
        "id": "RChswn6dHakQ"
      },
      "source": [
        "#Marco no he visto utilidad para el Range en esta actividad.\n",
        "#He también la encontré mucho más sencillo que la primera.\n",
        "#Tanto que he parado de hacer la primera y conegui solucionar esta antes."
      ],
      "execution_count": null,
      "outputs": []
    }
  ]
}