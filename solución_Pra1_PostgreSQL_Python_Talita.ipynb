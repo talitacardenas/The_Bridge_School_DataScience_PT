{
  "nbformat": 4,
  "nbformat_minor": 0,
  "metadata": {
    "colab": {
      "name": "solución_parcial_Pra1_PostgreSQL_Python.ipynb",
      "provenance": [],
      "collapsed_sections": [],
      "include_colab_link": true
    },
    "kernelspec": {
      "name": "python3",
      "display_name": "Python 3"
    },
    "language_info": {
      "name": "python"
    }
  },
  "cells": [
    {
      "cell_type": "markdown",
      "metadata": {
        "id": "view-in-github",
        "colab_type": "text"
      },
      "source": [
        "<a href=\"https://colab.research.google.com/github/talitacardenas/The_Bridge_School_DataScience_PT/blob/main/soluci%C3%B3n_Pra1_PostgreSQL_Python_Talita.ipynb\" target=\"_parent\"><img src=\"https://colab.research.google.com/assets/colab-badge.svg\" alt=\"Open In Colab\"/></a>"
      ]
    },
    {
      "cell_type": "code",
      "metadata": {
        "colab": {
          "base_uri": "https://localhost:8080/",
          "height": 92
        },
        "id": "RXx-edTFGZnP",
        "outputId": "61405143-00a7-43e8-a8e3-f12b8fcc024d"
      },
      "source": [
        "%shell\n",
        "import psycopg2\n",
        "psycopg2.__version__"
      ],
      "execution_count": 1,
      "outputs": [
        {
          "output_type": "stream",
          "text": [
            "/usr/local/lib/python3.7/dist-packages/psycopg2/__init__.py:144: UserWarning: The psycopg2 wheel package will be renamed from release 2.8; in order to keep installing from binary please use \"pip install psycopg2-binary\" instead. For details see: <http://initd.org/psycopg/docs/install.html#binary-install-from-pypi>.\n",
            "  \"\"\")\n"
          ],
          "name": "stderr"
        },
        {
          "output_type": "execute_result",
          "data": {
            "application/vnd.google.colaboratory.intrinsic+json": {
              "type": "string"
            },
            "text/plain": [
              "'2.7.6.1 (dt dec pq3 ext lo64)'"
            ]
          },
          "metadata": {
            "tags": []
          },
          "execution_count": 1
        }
      ]
    },
    {
      "cell_type": "code",
      "metadata": {
        "id": "bw8xk4oBGsoI"
      },
      "source": [
        "# Connect to an existing database HEROKU _ vuestro nombre\n",
        "conn = psycopg2.connect(\n",
        "    host=\"ec2-54-216-185-51.eu-west-1.compute.amazonaws.com\",\n",
        "    database=\"d1ifct7i405p1j\",\n",
        "    user=\"crilkwrqvnmtlq\",\n",
        "    password=\"c11b80adb4793d006c2bd31fc39c4ef546a26481c8d179f3a183fcc9b49d6ce3\",\n",
        "    port=5432)"
      ],
      "execution_count": 2,
      "outputs": []
    },
    {
      "cell_type": "code",
      "metadata": {
        "id": "tCI46rEVGxjl"
      },
      "source": [
        "query = \"\"\"\n",
        "SELECT * \n",
        "FROM web_events \n",
        "LIMIT 15;\n",
        "\"\"\""
      ],
      "execution_count": 3,
      "outputs": []
    },
    {
      "cell_type": "code",
      "metadata": {
        "id": "cwim2GuiG6gx"
      },
      "source": [
        "import pandas as pd"
      ],
      "execution_count": 4,
      "outputs": []
    },
    {
      "cell_type": "code",
      "metadata": {
        "colab": {
          "base_uri": "https://localhost:8080/",
          "height": 544
        },
        "id": "jIPNopV5HBP3",
        "outputId": "b6dc9dd4-32c2-4616-b46d-16196f793c5d"
      },
      "source": [
        "pd.read_sql(con=conn,sql=query)"
      ],
      "execution_count": 5,
      "outputs": [
        {
          "output_type": "execute_result",
          "data": {
            "text/html": [
              "<div>\n",
              "<style scoped>\n",
              "    .dataframe tbody tr th:only-of-type {\n",
              "        vertical-align: middle;\n",
              "    }\n",
              "\n",
              "    .dataframe tbody tr th {\n",
              "        vertical-align: top;\n",
              "    }\n",
              "\n",
              "    .dataframe thead th {\n",
              "        text-align: right;\n",
              "    }\n",
              "</style>\n",
              "<table border=\"1\" class=\"dataframe\">\n",
              "  <thead>\n",
              "    <tr style=\"text-align: right;\">\n",
              "      <th></th>\n",
              "      <th>id</th>\n",
              "      <th>account_id</th>\n",
              "      <th>occurred_at</th>\n",
              "      <th>channel</th>\n",
              "    </tr>\n",
              "  </thead>\n",
              "  <tbody>\n",
              "    <tr>\n",
              "      <th>0</th>\n",
              "      <td>1</td>\n",
              "      <td>1001</td>\n",
              "      <td>2015-10-06 17:13:58</td>\n",
              "      <td>direct</td>\n",
              "    </tr>\n",
              "    <tr>\n",
              "      <th>1</th>\n",
              "      <td>2</td>\n",
              "      <td>1001</td>\n",
              "      <td>2015-11-05 03:08:26</td>\n",
              "      <td>direct</td>\n",
              "    </tr>\n",
              "    <tr>\n",
              "      <th>2</th>\n",
              "      <td>3</td>\n",
              "      <td>1001</td>\n",
              "      <td>2015-12-04 03:57:24</td>\n",
              "      <td>direct</td>\n",
              "    </tr>\n",
              "    <tr>\n",
              "      <th>3</th>\n",
              "      <td>4</td>\n",
              "      <td>1001</td>\n",
              "      <td>2016-01-02 00:55:03</td>\n",
              "      <td>direct</td>\n",
              "    </tr>\n",
              "    <tr>\n",
              "      <th>4</th>\n",
              "      <td>5</td>\n",
              "      <td>1001</td>\n",
              "      <td>2016-02-01 19:02:33</td>\n",
              "      <td>direct</td>\n",
              "    </tr>\n",
              "    <tr>\n",
              "      <th>5</th>\n",
              "      <td>6</td>\n",
              "      <td>1001</td>\n",
              "      <td>2016-03-02 15:15:22</td>\n",
              "      <td>direct</td>\n",
              "    </tr>\n",
              "    <tr>\n",
              "      <th>6</th>\n",
              "      <td>7</td>\n",
              "      <td>1001</td>\n",
              "      <td>2016-04-01 10:58:55</td>\n",
              "      <td>direct</td>\n",
              "    </tr>\n",
              "    <tr>\n",
              "      <th>7</th>\n",
              "      <td>8</td>\n",
              "      <td>1001</td>\n",
              "      <td>2016-05-01 15:26:44</td>\n",
              "      <td>direct</td>\n",
              "    </tr>\n",
              "    <tr>\n",
              "      <th>8</th>\n",
              "      <td>9</td>\n",
              "      <td>1001</td>\n",
              "      <td>2016-05-31 20:53:47</td>\n",
              "      <td>direct</td>\n",
              "    </tr>\n",
              "    <tr>\n",
              "      <th>9</th>\n",
              "      <td>10</td>\n",
              "      <td>1001</td>\n",
              "      <td>2016-06-30 12:09:45</td>\n",
              "      <td>direct</td>\n",
              "    </tr>\n",
              "    <tr>\n",
              "      <th>10</th>\n",
              "      <td>11</td>\n",
              "      <td>1001</td>\n",
              "      <td>2016-07-30 03:06:26</td>\n",
              "      <td>direct</td>\n",
              "    </tr>\n",
              "    <tr>\n",
              "      <th>11</th>\n",
              "      <td>12</td>\n",
              "      <td>1001</td>\n",
              "      <td>2016-08-28 06:42:42</td>\n",
              "      <td>direct</td>\n",
              "    </tr>\n",
              "    <tr>\n",
              "      <th>12</th>\n",
              "      <td>13</td>\n",
              "      <td>1001</td>\n",
              "      <td>2016-09-26 23:14:59</td>\n",
              "      <td>direct</td>\n",
              "    </tr>\n",
              "    <tr>\n",
              "      <th>13</th>\n",
              "      <td>14</td>\n",
              "      <td>1001</td>\n",
              "      <td>2016-10-26 20:21:09</td>\n",
              "      <td>direct</td>\n",
              "    </tr>\n",
              "    <tr>\n",
              "      <th>14</th>\n",
              "      <td>15</td>\n",
              "      <td>1001</td>\n",
              "      <td>2016-11-25 22:52:29</td>\n",
              "      <td>direct</td>\n",
              "    </tr>\n",
              "  </tbody>\n",
              "</table>\n",
              "</div>"
            ],
            "text/plain": [
              "    id  account_id         occurred_at channel\n",
              "0    1        1001 2015-10-06 17:13:58  direct\n",
              "1    2        1001 2015-11-05 03:08:26  direct\n",
              "2    3        1001 2015-12-04 03:57:24  direct\n",
              "3    4        1001 2016-01-02 00:55:03  direct\n",
              "4    5        1001 2016-02-01 19:02:33  direct\n",
              "5    6        1001 2016-03-02 15:15:22  direct\n",
              "6    7        1001 2016-04-01 10:58:55  direct\n",
              "7    8        1001 2016-05-01 15:26:44  direct\n",
              "8    9        1001 2016-05-31 20:53:47  direct\n",
              "9   10        1001 2016-06-30 12:09:45  direct\n",
              "10  11        1001 2016-07-30 03:06:26  direct\n",
              "11  12        1001 2016-08-28 06:42:42  direct\n",
              "12  13        1001 2016-09-26 23:14:59  direct\n",
              "13  14        1001 2016-10-26 20:21:09  direct\n",
              "14  15        1001 2016-11-25 22:52:29  direct"
            ]
          },
          "metadata": {
            "tags": []
          },
          "execution_count": 5
        }
      ]
    },
    {
      "cell_type": "markdown",
      "metadata": {
        "id": "Kmog7gEyHUdd"
      },
      "source": [
        "***\n",
        "1. ¿Tenemos actores en la tabla de actores que comparten el nombre completo y, en caso afirmativo, muestran esos nombres compartidos?"
      ]
    },
    {
      "cell_type": "code",
      "metadata": {
        "id": "5PvZ_eTgHma8"
      },
      "source": [
        "query = '''\n",
        "SELECT COUNT(DISTINCT first_name || last_name)\n",
        "FROM actor\n",
        "'''"
      ],
      "execution_count": 6,
      "outputs": []
    },
    {
      "cell_type": "code",
      "metadata": {
        "colab": {
          "base_uri": "https://localhost:8080/",
          "height": 101
        },
        "id": "3gkvs7jlHz-F",
        "outputId": "32d48fd7-3cac-414e-a735-83df67c4510f"
      },
      "source": [
        "pd.read_sql(con=conn, sql=query)"
      ],
      "execution_count": 7,
      "outputs": [
        {
          "output_type": "execute_result",
          "data": {
            "text/html": [
              "<div>\n",
              "<style scoped>\n",
              "    .dataframe tbody tr th:only-of-type {\n",
              "        vertical-align: middle;\n",
              "    }\n",
              "\n",
              "    .dataframe tbody tr th {\n",
              "        vertical-align: top;\n",
              "    }\n",
              "\n",
              "    .dataframe thead th {\n",
              "        text-align: right;\n",
              "    }\n",
              "</style>\n",
              "<table border=\"1\" class=\"dataframe\">\n",
              "  <thead>\n",
              "    <tr style=\"text-align: right;\">\n",
              "      <th></th>\n",
              "      <th>count</th>\n",
              "    </tr>\n",
              "  </thead>\n",
              "  <tbody>\n",
              "    <tr>\n",
              "      <th>0</th>\n",
              "      <td>199</td>\n",
              "    </tr>\n",
              "  </tbody>\n",
              "</table>\n",
              "</div>"
            ],
            "text/plain": [
              "   count\n",
              "0    199"
            ]
          },
          "metadata": {
            "tags": []
          },
          "execution_count": 7
        }
      ]
    },
    {
      "cell_type": "code",
      "metadata": {
        "id": "onek8yDKIBkc"
      },
      "source": [
        "query_alt1 = '''\n",
        "SELECT CONCAT(first_name,' ', last_name) Nombre_completo, COUNT('Nombre_completo') Counter\n",
        "FROM actor\n",
        "GROUP BY 1\n",
        "HAVING COUNT('Nombre_completo') >1;\n",
        "'''"
      ],
      "execution_count": 8,
      "outputs": []
    },
    {
      "cell_type": "code",
      "metadata": {
        "colab": {
          "base_uri": "https://localhost:8080/",
          "height": 81
        },
        "id": "d9odHGrSIPOo",
        "outputId": "8c7de26b-9e7a-452c-bca9-e489fc1d1182"
      },
      "source": [
        "pd.read_sql(con=conn, sql=query)"
      ],
      "execution_count": null,
      "outputs": [
        {
          "output_type": "execute_result",
          "data": {
            "text/html": [
              "<div>\n",
              "<style scoped>\n",
              "    .dataframe tbody tr th:only-of-type {\n",
              "        vertical-align: middle;\n",
              "    }\n",
              "\n",
              "    .dataframe tbody tr th {\n",
              "        vertical-align: top;\n",
              "    }\n",
              "\n",
              "    .dataframe thead th {\n",
              "        text-align: right;\n",
              "    }\n",
              "</style>\n",
              "<table border=\"1\" class=\"dataframe\">\n",
              "  <thead>\n",
              "    <tr style=\"text-align: right;\">\n",
              "      <th></th>\n",
              "      <th>count</th>\n",
              "    </tr>\n",
              "  </thead>\n",
              "  <tbody>\n",
              "    <tr>\n",
              "      <th>0</th>\n",
              "      <td>199</td>\n",
              "    </tr>\n",
              "  </tbody>\n",
              "</table>\n",
              "</div>"
            ],
            "text/plain": [
              "   count\n",
              "0    199"
            ]
          },
          "metadata": {
            "tags": []
          },
          "execution_count": 12
        }
      ]
    },
    {
      "cell_type": "markdown",
      "metadata": {
        "id": "DS5AsFLpI_mv"
      },
      "source": [
        "***\n",
        "2. Muestra los nombres de los clientes que comparten la misma dirección (por ejemplo, esposo y esposa)."
      ]
    },
    {
      "cell_type": "code",
      "metadata": {
        "id": "ehuwGHw-I1V9"
      },
      "source": [
        "query = '''\n",
        "SELECT c1.first_name, c1.last_name, c2.first_name, c2.last_name\n",
        "FROM customer c1 JOIN customer c2\n",
        "ON c1.customer_id <> c2.customer_id AND c1.address_id = c2.address_id\n",
        "'''"
      ],
      "execution_count": null,
      "outputs": []
    },
    {
      "cell_type": "code",
      "metadata": {
        "colab": {
          "base_uri": "https://localhost:8080/",
          "height": 49
        },
        "id": "t8QgxlACIRCU",
        "outputId": "28d6fa3e-1dc8-4f81-c3b1-bfb5ca3b2124"
      },
      "source": [
        "pd.read_sql(con=conn, sql=query)"
      ],
      "execution_count": null,
      "outputs": [
        {
          "output_type": "execute_result",
          "data": {
            "text/html": [
              "<div>\n",
              "<style scoped>\n",
              "    .dataframe tbody tr th:only-of-type {\n",
              "        vertical-align: middle;\n",
              "    }\n",
              "\n",
              "    .dataframe tbody tr th {\n",
              "        vertical-align: top;\n",
              "    }\n",
              "\n",
              "    .dataframe thead th {\n",
              "        text-align: right;\n",
              "    }\n",
              "</style>\n",
              "<table border=\"1\" class=\"dataframe\">\n",
              "  <thead>\n",
              "    <tr style=\"text-align: right;\">\n",
              "      <th></th>\n",
              "      <th>first_name</th>\n",
              "      <th>last_name</th>\n",
              "      <th>first_name</th>\n",
              "      <th>last_name</th>\n",
              "    </tr>\n",
              "  </thead>\n",
              "  <tbody>\n",
              "  </tbody>\n",
              "</table>\n",
              "</div>"
            ],
            "text/plain": [
              "Empty DataFrame\n",
              "Columns: [first_name, last_name, first_name, last_name]\n",
              "Index: []"
            ]
          },
          "metadata": {
            "tags": []
          },
          "execution_count": 14
        }
      ]
    },
    {
      "cell_type": "markdown",
      "metadata": {
        "id": "u2GIH5pTLsZG"
      },
      "source": [
        "***\n",
        "3. Muestra el monto total pagado por todos los clientes en la tabla de pagos."
      ]
    },
    {
      "cell_type": "code",
      "metadata": {
        "id": "7Ej_lNf4LuND"
      },
      "source": [
        "query = '''\n",
        "SELECT SUM(amount)\n",
        "from payment\n",
        "'''"
      ],
      "execution_count": 9,
      "outputs": []
    },
    {
      "cell_type": "code",
      "metadata": {
        "colab": {
          "base_uri": "https://localhost:8080/",
          "height": 101
        },
        "id": "TodBtC-8HR5T",
        "outputId": "6f21515b-ad42-4f5c-c130-273bbb1b6088"
      },
      "source": [
        "pd.read_sql(con=conn, sql=query)"
      ],
      "execution_count": 10,
      "outputs": [
        {
          "output_type": "execute_result",
          "data": {
            "text/html": [
              "<div>\n",
              "<style scoped>\n",
              "    .dataframe tbody tr th:only-of-type {\n",
              "        vertical-align: middle;\n",
              "    }\n",
              "\n",
              "    .dataframe tbody tr th {\n",
              "        vertical-align: top;\n",
              "    }\n",
              "\n",
              "    .dataframe thead th {\n",
              "        text-align: right;\n",
              "    }\n",
              "</style>\n",
              "<table border=\"1\" class=\"dataframe\">\n",
              "  <thead>\n",
              "    <tr style=\"text-align: right;\">\n",
              "      <th></th>\n",
              "      <th>sum</th>\n",
              "    </tr>\n",
              "  </thead>\n",
              "  <tbody>\n",
              "    <tr>\n",
              "      <th>0</th>\n",
              "      <td>61312.04</td>\n",
              "    </tr>\n",
              "  </tbody>\n",
              "</table>\n",
              "</div>"
            ],
            "text/plain": [
              "        sum\n",
              "0  61312.04"
            ]
          },
          "metadata": {
            "tags": []
          },
          "execution_count": 10
        }
      ]
    },
    {
      "cell_type": "markdown",
      "metadata": {
        "id": "NOh1UxXgL36x"
      },
      "source": [
        "***\n",
        "4. Muestre el monto total pagado por cada cliente en la tabla de pagos"
      ]
    },
    {
      "cell_type": "code",
      "metadata": {
        "id": "IOUTocK2I34J"
      },
      "source": [
        "query = '''\n",
        "SELECT customer_id, SUM(amount)\n",
        "from payment\n",
        "group by customer_id\n",
        "order by customer_id\n",
        "'''"
      ],
      "execution_count": 11,
      "outputs": []
    },
    {
      "cell_type": "code",
      "metadata": {
        "colab": {
          "base_uri": "https://localhost:8080/",
          "height": 447
        },
        "id": "nw_aeVcFI4e1",
        "outputId": "c17caa62-8bce-481c-dd63-2a973c1d6c91"
      },
      "source": [
        "pd.read_sql(con=conn, sql=query)"
      ],
      "execution_count": 12,
      "outputs": [
        {
          "output_type": "execute_result",
          "data": {
            "text/html": [
              "<div>\n",
              "<style scoped>\n",
              "    .dataframe tbody tr th:only-of-type {\n",
              "        vertical-align: middle;\n",
              "    }\n",
              "\n",
              "    .dataframe tbody tr th {\n",
              "        vertical-align: top;\n",
              "    }\n",
              "\n",
              "    .dataframe thead th {\n",
              "        text-align: right;\n",
              "    }\n",
              "</style>\n",
              "<table border=\"1\" class=\"dataframe\">\n",
              "  <thead>\n",
              "    <tr style=\"text-align: right;\">\n",
              "      <th></th>\n",
              "      <th>customer_id</th>\n",
              "      <th>sum</th>\n",
              "    </tr>\n",
              "  </thead>\n",
              "  <tbody>\n",
              "    <tr>\n",
              "      <th>0</th>\n",
              "      <td>1</td>\n",
              "      <td>114.70</td>\n",
              "    </tr>\n",
              "    <tr>\n",
              "      <th>1</th>\n",
              "      <td>2</td>\n",
              "      <td>123.74</td>\n",
              "    </tr>\n",
              "    <tr>\n",
              "      <th>2</th>\n",
              "      <td>3</td>\n",
              "      <td>130.76</td>\n",
              "    </tr>\n",
              "    <tr>\n",
              "      <th>3</th>\n",
              "      <td>4</td>\n",
              "      <td>81.78</td>\n",
              "    </tr>\n",
              "    <tr>\n",
              "      <th>4</th>\n",
              "      <td>5</td>\n",
              "      <td>134.65</td>\n",
              "    </tr>\n",
              "    <tr>\n",
              "      <th>...</th>\n",
              "      <td>...</td>\n",
              "      <td>...</td>\n",
              "    </tr>\n",
              "    <tr>\n",
              "      <th>594</th>\n",
              "      <td>595</td>\n",
              "      <td>110.71</td>\n",
              "    </tr>\n",
              "    <tr>\n",
              "      <th>595</th>\n",
              "      <td>596</td>\n",
              "      <td>73.78</td>\n",
              "    </tr>\n",
              "    <tr>\n",
              "      <th>596</th>\n",
              "      <td>597</td>\n",
              "      <td>87.77</td>\n",
              "    </tr>\n",
              "    <tr>\n",
              "      <th>597</th>\n",
              "      <td>598</td>\n",
              "      <td>83.78</td>\n",
              "    </tr>\n",
              "    <tr>\n",
              "      <th>598</th>\n",
              "      <td>599</td>\n",
              "      <td>78.82</td>\n",
              "    </tr>\n",
              "  </tbody>\n",
              "</table>\n",
              "<p>599 rows × 2 columns</p>\n",
              "</div>"
            ],
            "text/plain": [
              "     customer_id     sum\n",
              "0              1  114.70\n",
              "1              2  123.74\n",
              "2              3  130.76\n",
              "3              4   81.78\n",
              "4              5  134.65\n",
              "..           ...     ...\n",
              "594          595  110.71\n",
              "595          596   73.78\n",
              "596          597   87.77\n",
              "597          598   83.78\n",
              "598          599   78.82\n",
              "\n",
              "[599 rows x 2 columns]"
            ]
          },
          "metadata": {
            "tags": []
          },
          "execution_count": 12
        }
      ]
    },
    {
      "cell_type": "markdown",
      "metadata": {
        "id": "rl_7Em3XMMWU"
      },
      "source": [
        "***\n",
        "5. ¿Cuál es el pago total más alto realizado?\n"
      ]
    },
    {
      "cell_type": "code",
      "metadata": {
        "id": "lgnn9s-0MdgK"
      },
      "source": [
        "query = '''\n",
        "SELECT SUM(amount) AS tot_payments\n",
        "FROM payment\n",
        "GROUP BY customer_id\n",
        "ORDER BY tot_payments DESC\n",
        "LIMIT 1\n",
        "\n",
        "'''"
      ],
      "execution_count": 13,
      "outputs": []
    },
    {
      "cell_type": "code",
      "metadata": {
        "colab": {
          "base_uri": "https://localhost:8080/",
          "height": 101
        },
        "id": "vMFyiGrgMKSq",
        "outputId": "1e589239-93a3-4b46-9227-df70a8a2c81b"
      },
      "source": [
        "pd.read_sql(con=conn, sql=query)"
      ],
      "execution_count": 14,
      "outputs": [
        {
          "output_type": "execute_result",
          "data": {
            "text/html": [
              "<div>\n",
              "<style scoped>\n",
              "    .dataframe tbody tr th:only-of-type {\n",
              "        vertical-align: middle;\n",
              "    }\n",
              "\n",
              "    .dataframe tbody tr th {\n",
              "        vertical-align: top;\n",
              "    }\n",
              "\n",
              "    .dataframe thead th {\n",
              "        text-align: right;\n",
              "    }\n",
              "</style>\n",
              "<table border=\"1\" class=\"dataframe\">\n",
              "  <thead>\n",
              "    <tr style=\"text-align: right;\">\n",
              "      <th></th>\n",
              "      <th>tot_payments</th>\n",
              "    </tr>\n",
              "  </thead>\n",
              "  <tbody>\n",
              "    <tr>\n",
              "      <th>0</th>\n",
              "      <td>211.55</td>\n",
              "    </tr>\n",
              "  </tbody>\n",
              "</table>\n",
              "</div>"
            ],
            "text/plain": [
              "   tot_payments\n",
              "0        211.55"
            ]
          },
          "metadata": {
            "tags": []
          },
          "execution_count": 14
        }
      ]
    },
    {
      "cell_type": "code",
      "metadata": {
        "id": "WMuEuI79St5p"
      },
      "source": [
        "query = '''\n",
        "SELECT\n",
        " customer_id, amount \n",
        "FROM\n",
        "  payment\n",
        "WHERE\n",
        "  amount = \n",
        "  (SELECT\n",
        "    MAX(amount)\n",
        "    FROM\n",
        "    payment\n",
        "  )\n",
        "ORDER BY 2 DESC\n",
        "LIMIT 10\n",
        "'''"
      ],
      "execution_count": null,
      "outputs": []
    },
    {
      "cell_type": "code",
      "metadata": {
        "colab": {
          "base_uri": "https://localhost:8080/",
          "height": 300
        },
        "id": "Y3nbPSNXS4wn",
        "outputId": "066a400d-ba60-42b7-ae7b-5d8e3ce9d1c3"
      },
      "source": [
        "pd.read_sql(con=conn, sql=query)"
      ],
      "execution_count": null,
      "outputs": [
        {
          "output_type": "execute_result",
          "data": {
            "text/html": [
              "<div>\n",
              "<style scoped>\n",
              "    .dataframe tbody tr th:only-of-type {\n",
              "        vertical-align: middle;\n",
              "    }\n",
              "\n",
              "    .dataframe tbody tr th {\n",
              "        vertical-align: top;\n",
              "    }\n",
              "\n",
              "    .dataframe thead th {\n",
              "        text-align: right;\n",
              "    }\n",
              "</style>\n",
              "<table border=\"1\" class=\"dataframe\">\n",
              "  <thead>\n",
              "    <tr style=\"text-align: right;\">\n",
              "      <th></th>\n",
              "      <th>customer_id</th>\n",
              "      <th>amount</th>\n",
              "    </tr>\n",
              "  </thead>\n",
              "  <tbody>\n",
              "    <tr>\n",
              "      <th>0</th>\n",
              "      <td>362</td>\n",
              "      <td>11.99</td>\n",
              "    </tr>\n",
              "    <tr>\n",
              "      <th>1</th>\n",
              "      <td>204</td>\n",
              "      <td>11.99</td>\n",
              "    </tr>\n",
              "    <tr>\n",
              "      <th>2</th>\n",
              "      <td>116</td>\n",
              "      <td>11.99</td>\n",
              "    </tr>\n",
              "    <tr>\n",
              "      <th>3</th>\n",
              "      <td>195</td>\n",
              "      <td>11.99</td>\n",
              "    </tr>\n",
              "    <tr>\n",
              "      <th>4</th>\n",
              "      <td>237</td>\n",
              "      <td>11.99</td>\n",
              "    </tr>\n",
              "    <tr>\n",
              "      <th>5</th>\n",
              "      <td>591</td>\n",
              "      <td>11.99</td>\n",
              "    </tr>\n",
              "    <tr>\n",
              "      <th>6</th>\n",
              "      <td>592</td>\n",
              "      <td>11.99</td>\n",
              "    </tr>\n",
              "    <tr>\n",
              "      <th>7</th>\n",
              "      <td>13</td>\n",
              "      <td>11.99</td>\n",
              "    </tr>\n",
              "  </tbody>\n",
              "</table>\n",
              "</div>"
            ],
            "text/plain": [
              "   customer_id  amount\n",
              "0          362   11.99\n",
              "1          204   11.99\n",
              "2          116   11.99\n",
              "3          195   11.99\n",
              "4          237   11.99\n",
              "5          591   11.99\n",
              "6          592   11.99\n",
              "7           13   11.99"
            ]
          },
          "metadata": {
            "tags": []
          },
          "execution_count": 36
        }
      ]
    },
    {
      "cell_type": "markdown",
      "metadata": {
        "id": "WOyfLJENSXDz"
      },
      "source": [
        "***\n",
        "6. 6. ¿Cuál es el nombre del cliente que realizó los pagos totales más altos?"
      ]
    },
    {
      "cell_type": "code",
      "metadata": {
        "id": "wbfIFGHkSYXu"
      },
      "source": [
        "query = '''\n",
        "SELECT first_name, last_name\n",
        "FROM customer\n",
        "WHERE customer_id IN\n",
        "  (SELECT customer_id\n",
        "  FROM payment\n",
        "  GROUP BY customer_id\n",
        "  HAVING SUM(amount) =\n",
        "    (SELECT SUM(amount)\n",
        "    FROM payment\n",
        "    GROUP BY customer_id\n",
        "    ORDER BY SUM(amount) DESC LIMIT 1\n",
        "    )\n",
        "  )\n",
        "'''"
      ],
      "execution_count": null,
      "outputs": []
    },
    {
      "cell_type": "code",
      "metadata": {
        "colab": {
          "base_uri": "https://localhost:8080/",
          "height": 81
        },
        "id": "v4YU9V38SWPR",
        "outputId": "51029dc0-d99c-4017-a013-2c4db5029127"
      },
      "source": [
        "pd.read_sql(con=conn, sql=query)"
      ],
      "execution_count": null,
      "outputs": [
        {
          "output_type": "execute_result",
          "data": {
            "text/html": [
              "<div>\n",
              "<style scoped>\n",
              "    .dataframe tbody tr th:only-of-type {\n",
              "        vertical-align: middle;\n",
              "    }\n",
              "\n",
              "    .dataframe tbody tr th {\n",
              "        vertical-align: top;\n",
              "    }\n",
              "\n",
              "    .dataframe thead th {\n",
              "        text-align: right;\n",
              "    }\n",
              "</style>\n",
              "<table border=\"1\" class=\"dataframe\">\n",
              "  <thead>\n",
              "    <tr style=\"text-align: right;\">\n",
              "      <th></th>\n",
              "      <th>first_name</th>\n",
              "      <th>last_name</th>\n",
              "    </tr>\n",
              "  </thead>\n",
              "  <tbody>\n",
              "    <tr>\n",
              "      <th>0</th>\n",
              "      <td>Eleanor</td>\n",
              "      <td>Hunt</td>\n",
              "    </tr>\n",
              "  </tbody>\n",
              "</table>\n",
              "</div>"
            ],
            "text/plain": [
              "  first_name last_name\n",
              "0    Eleanor      Hunt"
            ]
          },
          "metadata": {
            "tags": []
          },
          "execution_count": 38
        }
      ]
    },
    {
      "cell_type": "markdown",
      "metadata": {
        "id": "aqobVsQCVPSw"
      },
      "source": [
        "***\n",
        "7. 7. ¿Cuáles son las películas que más se alquilaron?"
      ]
    },
    {
      "cell_type": "code",
      "metadata": {
        "id": "WmSR1WNhVQmQ"
      },
      "source": [
        "query_1 = '''\n",
        "SELECT\n",
        " film.title, COUNT(rental.rental_id )\n",
        "FROM\n",
        "  rental\n",
        "JOIN\n",
        "  inventory\n",
        "ON\n",
        "  rental.inventory_id = inventory.inventory_id\n",
        "JOIN\n",
        "  film\n",
        "ON\n",
        "  film.film_id = inventory.film_id\n",
        "GROUP BY\n",
        "  1\n",
        "ORDER BY \n",
        "  2 DESC\n",
        "LIMIT (11); /* ¿11? */\n",
        "'''"
      ],
      "execution_count": null,
      "outputs": []
    },
    {
      "cell_type": "code",
      "metadata": {
        "colab": {
          "base_uri": "https://localhost:8080/",
          "height": 394
        },
        "id": "SU-gNl5TViey",
        "outputId": "775a9826-8089-4dc7-ae92-dfdc9eac4cbf"
      },
      "source": [
        "pd.read_sql(con=conn, sql=query_1)"
      ],
      "execution_count": null,
      "outputs": [
        {
          "output_type": "execute_result",
          "data": {
            "text/html": [
              "<div>\n",
              "<style scoped>\n",
              "    .dataframe tbody tr th:only-of-type {\n",
              "        vertical-align: middle;\n",
              "    }\n",
              "\n",
              "    .dataframe tbody tr th {\n",
              "        vertical-align: top;\n",
              "    }\n",
              "\n",
              "    .dataframe thead th {\n",
              "        text-align: right;\n",
              "    }\n",
              "</style>\n",
              "<table border=\"1\" class=\"dataframe\">\n",
              "  <thead>\n",
              "    <tr style=\"text-align: right;\">\n",
              "      <th></th>\n",
              "      <th>title</th>\n",
              "      <th>count</th>\n",
              "    </tr>\n",
              "  </thead>\n",
              "  <tbody>\n",
              "    <tr>\n",
              "      <th>0</th>\n",
              "      <td>Bucket Brotherhood</td>\n",
              "      <td>34</td>\n",
              "    </tr>\n",
              "    <tr>\n",
              "      <th>1</th>\n",
              "      <td>Rocketeer Mother</td>\n",
              "      <td>33</td>\n",
              "    </tr>\n",
              "    <tr>\n",
              "      <th>2</th>\n",
              "      <td>Forward Temple</td>\n",
              "      <td>32</td>\n",
              "    </tr>\n",
              "    <tr>\n",
              "      <th>3</th>\n",
              "      <td>Ridgemont Submarine</td>\n",
              "      <td>32</td>\n",
              "    </tr>\n",
              "    <tr>\n",
              "      <th>4</th>\n",
              "      <td>Grit Clockwork</td>\n",
              "      <td>32</td>\n",
              "    </tr>\n",
              "    <tr>\n",
              "      <th>5</th>\n",
              "      <td>Juggler Hardly</td>\n",
              "      <td>32</td>\n",
              "    </tr>\n",
              "    <tr>\n",
              "      <th>6</th>\n",
              "      <td>Scalawag Duck</td>\n",
              "      <td>32</td>\n",
              "    </tr>\n",
              "    <tr>\n",
              "      <th>7</th>\n",
              "      <td>Apache Divine</td>\n",
              "      <td>31</td>\n",
              "    </tr>\n",
              "    <tr>\n",
              "      <th>8</th>\n",
              "      <td>Robbers Joon</td>\n",
              "      <td>31</td>\n",
              "    </tr>\n",
              "    <tr>\n",
              "      <th>9</th>\n",
              "      <td>Wife Turn</td>\n",
              "      <td>31</td>\n",
              "    </tr>\n",
              "    <tr>\n",
              "      <th>10</th>\n",
              "      <td>Rush Goodfellas</td>\n",
              "      <td>31</td>\n",
              "    </tr>\n",
              "  </tbody>\n",
              "</table>\n",
              "</div>"
            ],
            "text/plain": [
              "                  title  count\n",
              "0    Bucket Brotherhood     34\n",
              "1      Rocketeer Mother     33\n",
              "2        Forward Temple     32\n",
              "3   Ridgemont Submarine     32\n",
              "4        Grit Clockwork     32\n",
              "5        Juggler Hardly     32\n",
              "6         Scalawag Duck     32\n",
              "7         Apache Divine     31\n",
              "8          Robbers Joon     31\n",
              "9             Wife Turn     31\n",
              "10      Rush Goodfellas     31"
            ]
          },
          "metadata": {
            "tags": []
          },
          "execution_count": 47
        }
      ]
    },
    {
      "cell_type": "code",
      "metadata": {
        "id": "YHlZgtigV1x4"
      },
      "source": [
        "query = '''\n",
        "SELECT film_id, count(film_id)\n",
        "FROM rental r\n",
        "JOIN inventory i\n",
        "ON r.inventory_id = i.inventory_id\n",
        "GROUP BY film_id\n",
        "ORDER BY count(film_id) DESC\n",
        "'''"
      ],
      "execution_count": null,
      "outputs": []
    },
    {
      "cell_type": "code",
      "metadata": {
        "colab": {
          "base_uri": "https://localhost:8080/",
          "height": 424
        },
        "id": "rk1tbO9ZWkfH",
        "outputId": "94dadc13-587e-4b82-c9de-a850c4f4ea1c"
      },
      "source": [
        "pd.read_sql(con=conn, sql=query)"
      ],
      "execution_count": null,
      "outputs": [
        {
          "output_type": "execute_result",
          "data": {
            "text/html": [
              "<div>\n",
              "<style scoped>\n",
              "    .dataframe tbody tr th:only-of-type {\n",
              "        vertical-align: middle;\n",
              "    }\n",
              "\n",
              "    .dataframe tbody tr th {\n",
              "        vertical-align: top;\n",
              "    }\n",
              "\n",
              "    .dataframe thead th {\n",
              "        text-align: right;\n",
              "    }\n",
              "</style>\n",
              "<table border=\"1\" class=\"dataframe\">\n",
              "  <thead>\n",
              "    <tr style=\"text-align: right;\">\n",
              "      <th></th>\n",
              "      <th>film_id</th>\n",
              "      <th>count</th>\n",
              "    </tr>\n",
              "  </thead>\n",
              "  <tbody>\n",
              "    <tr>\n",
              "      <th>0</th>\n",
              "      <td>103</td>\n",
              "      <td>34</td>\n",
              "    </tr>\n",
              "    <tr>\n",
              "      <th>1</th>\n",
              "      <td>738</td>\n",
              "      <td>33</td>\n",
              "    </tr>\n",
              "    <tr>\n",
              "      <th>2</th>\n",
              "      <td>730</td>\n",
              "      <td>32</td>\n",
              "    </tr>\n",
              "    <tr>\n",
              "      <th>3</th>\n",
              "      <td>382</td>\n",
              "      <td>32</td>\n",
              "    </tr>\n",
              "    <tr>\n",
              "      <th>4</th>\n",
              "      <td>767</td>\n",
              "      <td>32</td>\n",
              "    </tr>\n",
              "    <tr>\n",
              "      <th>...</th>\n",
              "      <td>...</td>\n",
              "      <td>...</td>\n",
              "    </tr>\n",
              "    <tr>\n",
              "      <th>953</th>\n",
              "      <td>459</td>\n",
              "      <td>5</td>\n",
              "    </tr>\n",
              "    <tr>\n",
              "      <th>954</th>\n",
              "      <td>107</td>\n",
              "      <td>5</td>\n",
              "    </tr>\n",
              "    <tr>\n",
              "      <th>955</th>\n",
              "      <td>400</td>\n",
              "      <td>4</td>\n",
              "    </tr>\n",
              "    <tr>\n",
              "      <th>956</th>\n",
              "      <td>904</td>\n",
              "      <td>4</td>\n",
              "    </tr>\n",
              "    <tr>\n",
              "      <th>957</th>\n",
              "      <td>584</td>\n",
              "      <td>4</td>\n",
              "    </tr>\n",
              "  </tbody>\n",
              "</table>\n",
              "<p>958 rows × 2 columns</p>\n",
              "</div>"
            ],
            "text/plain": [
              "     film_id  count\n",
              "0        103     34\n",
              "1        738     33\n",
              "2        730     32\n",
              "3        382     32\n",
              "4        767     32\n",
              "..       ...    ...\n",
              "953      459      5\n",
              "954      107      5\n",
              "955      400      4\n",
              "956      904      4\n",
              "957      584      4\n",
              "\n",
              "[958 rows x 2 columns]"
            ]
          },
          "metadata": {
            "tags": []
          },
          "execution_count": 45
        }
      ]
    },
    {
      "cell_type": "markdown",
      "metadata": {
        "id": "PY94zi7QXAvR"
      },
      "source": [
        "***\n",
        "8. 8. Qué películas se han alquilado hasta ahora."
      ]
    },
    {
      "cell_type": "code",
      "metadata": {
        "id": "dflif5hzXCKm"
      },
      "source": [
        "query = '''\n",
        "SELECT count(title)\n",
        "FROM film\n",
        "WHERE film_id IN\n",
        "  (SELECT distinct film_id\n",
        "  FROM rental JOIN inventory\n",
        "  ON rental.inventory_id = inventory.inventory_id)\n",
        "'''"
      ],
      "execution_count": null,
      "outputs": []
    },
    {
      "cell_type": "code",
      "metadata": {
        "colab": {
          "base_uri": "https://localhost:8080/",
          "height": 81
        },
        "id": "DVrt7NiXXVsL",
        "outputId": "235973ac-46b5-4890-d0da-fe10562d6f85"
      },
      "source": [
        "pd.read_sql(con=conn,sql=query)"
      ],
      "execution_count": null,
      "outputs": [
        {
          "output_type": "execute_result",
          "data": {
            "text/html": [
              "<div>\n",
              "<style scoped>\n",
              "    .dataframe tbody tr th:only-of-type {\n",
              "        vertical-align: middle;\n",
              "    }\n",
              "\n",
              "    .dataframe tbody tr th {\n",
              "        vertical-align: top;\n",
              "    }\n",
              "\n",
              "    .dataframe thead th {\n",
              "        text-align: right;\n",
              "    }\n",
              "</style>\n",
              "<table border=\"1\" class=\"dataframe\">\n",
              "  <thead>\n",
              "    <tr style=\"text-align: right;\">\n",
              "      <th></th>\n",
              "      <th>count</th>\n",
              "    </tr>\n",
              "  </thead>\n",
              "  <tbody>\n",
              "    <tr>\n",
              "      <th>0</th>\n",
              "      <td>958</td>\n",
              "    </tr>\n",
              "  </tbody>\n",
              "</table>\n",
              "</div>"
            ],
            "text/plain": [
              "   count\n",
              "0    958"
            ]
          },
          "metadata": {
            "tags": []
          },
          "execution_count": 50
        }
      ]
    },
    {
      "cell_type": "markdown",
      "metadata": {
        "id": "26A8jSnzXdXI"
      },
      "source": [
        "***\n",
        "9. 9. Qué películas no se han alquilado hasta ahora."
      ]
    },
    {
      "cell_type": "code",
      "metadata": {
        "id": "LNGgEifkXqBV"
      },
      "source": [
        "query = '''\n",
        "SELECT title\n",
        "FROM film\n",
        "WHERE film_id NOT IN\n",
        "  (SELECT DISTINCT film_id\n",
        "  FROM rental JOIN inventory\n",
        "  ON rental.inventory_id = inventory.inventory_id)\n",
        "'''"
      ],
      "execution_count": null,
      "outputs": []
    },
    {
      "cell_type": "code",
      "metadata": {
        "colab": {
          "base_uri": "https://localhost:8080/",
          "height": 1000
        },
        "id": "FSSDAa7LX4Ov",
        "outputId": "844ccd65-a11f-42c4-8d4a-fd7249d3c49b"
      },
      "source": [
        "pd.read_sql(con=conn,sql=query)"
      ],
      "execution_count": null,
      "outputs": [
        {
          "output_type": "execute_result",
          "data": {
            "text/html": [
              "<div>\n",
              "<style scoped>\n",
              "    .dataframe tbody tr th:only-of-type {\n",
              "        vertical-align: middle;\n",
              "    }\n",
              "\n",
              "    .dataframe tbody tr th {\n",
              "        vertical-align: top;\n",
              "    }\n",
              "\n",
              "    .dataframe thead th {\n",
              "        text-align: right;\n",
              "    }\n",
              "</style>\n",
              "<table border=\"1\" class=\"dataframe\">\n",
              "  <thead>\n",
              "    <tr style=\"text-align: right;\">\n",
              "      <th></th>\n",
              "      <th>title</th>\n",
              "    </tr>\n",
              "  </thead>\n",
              "  <tbody>\n",
              "    <tr>\n",
              "      <th>0</th>\n",
              "      <td>Alice Fantasia</td>\n",
              "    </tr>\n",
              "    <tr>\n",
              "      <th>1</th>\n",
              "      <td>Apollo Teen</td>\n",
              "    </tr>\n",
              "    <tr>\n",
              "      <th>2</th>\n",
              "      <td>Argonauts Town</td>\n",
              "    </tr>\n",
              "    <tr>\n",
              "      <th>3</th>\n",
              "      <td>Ark Ridgemont</td>\n",
              "    </tr>\n",
              "    <tr>\n",
              "      <th>4</th>\n",
              "      <td>Arsenic Independence</td>\n",
              "    </tr>\n",
              "    <tr>\n",
              "      <th>5</th>\n",
              "      <td>Boondock Ballroom</td>\n",
              "    </tr>\n",
              "    <tr>\n",
              "      <th>6</th>\n",
              "      <td>Butch Panther</td>\n",
              "    </tr>\n",
              "    <tr>\n",
              "      <th>7</th>\n",
              "      <td>Catch Amistad</td>\n",
              "    </tr>\n",
              "    <tr>\n",
              "      <th>8</th>\n",
              "      <td>Chinatown Gladiator</td>\n",
              "    </tr>\n",
              "    <tr>\n",
              "      <th>9</th>\n",
              "      <td>Chocolate Duck</td>\n",
              "    </tr>\n",
              "    <tr>\n",
              "      <th>10</th>\n",
              "      <td>Commandments Express</td>\n",
              "    </tr>\n",
              "    <tr>\n",
              "      <th>11</th>\n",
              "      <td>Crossing Divorce</td>\n",
              "    </tr>\n",
              "    <tr>\n",
              "      <th>12</th>\n",
              "      <td>Crowds Telemark</td>\n",
              "    </tr>\n",
              "    <tr>\n",
              "      <th>13</th>\n",
              "      <td>Crystal Breaking</td>\n",
              "    </tr>\n",
              "    <tr>\n",
              "      <th>14</th>\n",
              "      <td>Dazed Punk</td>\n",
              "    </tr>\n",
              "    <tr>\n",
              "      <th>15</th>\n",
              "      <td>Deliverance Mulholland</td>\n",
              "    </tr>\n",
              "    <tr>\n",
              "      <th>16</th>\n",
              "      <td>Firehouse Vietnam</td>\n",
              "    </tr>\n",
              "    <tr>\n",
              "      <th>17</th>\n",
              "      <td>Floats Garden</td>\n",
              "    </tr>\n",
              "    <tr>\n",
              "      <th>18</th>\n",
              "      <td>Frankenstein Stranger</td>\n",
              "    </tr>\n",
              "    <tr>\n",
              "      <th>19</th>\n",
              "      <td>Gladiator Westward</td>\n",
              "    </tr>\n",
              "    <tr>\n",
              "      <th>20</th>\n",
              "      <td>Gump Date</td>\n",
              "    </tr>\n",
              "    <tr>\n",
              "      <th>21</th>\n",
              "      <td>Hate Handicap</td>\n",
              "    </tr>\n",
              "    <tr>\n",
              "      <th>22</th>\n",
              "      <td>Hocus Frida</td>\n",
              "    </tr>\n",
              "    <tr>\n",
              "      <th>23</th>\n",
              "      <td>Kentuckian Giant</td>\n",
              "    </tr>\n",
              "    <tr>\n",
              "      <th>24</th>\n",
              "      <td>Kill Brotherhood</td>\n",
              "    </tr>\n",
              "    <tr>\n",
              "      <th>25</th>\n",
              "      <td>Muppet Mile</td>\n",
              "    </tr>\n",
              "    <tr>\n",
              "      <th>26</th>\n",
              "      <td>Order Betrayed</td>\n",
              "    </tr>\n",
              "    <tr>\n",
              "      <th>27</th>\n",
              "      <td>Pearl Destiny</td>\n",
              "    </tr>\n",
              "    <tr>\n",
              "      <th>28</th>\n",
              "      <td>Perdition Fargo</td>\n",
              "    </tr>\n",
              "    <tr>\n",
              "      <th>29</th>\n",
              "      <td>Psycho Shrunk</td>\n",
              "    </tr>\n",
              "    <tr>\n",
              "      <th>30</th>\n",
              "      <td>Raiders Antitrust</td>\n",
              "    </tr>\n",
              "    <tr>\n",
              "      <th>31</th>\n",
              "      <td>Rainbow Shock</td>\n",
              "    </tr>\n",
              "    <tr>\n",
              "      <th>32</th>\n",
              "      <td>Roof Champion</td>\n",
              "    </tr>\n",
              "    <tr>\n",
              "      <th>33</th>\n",
              "      <td>Sister Freddy</td>\n",
              "    </tr>\n",
              "    <tr>\n",
              "      <th>34</th>\n",
              "      <td>Sky Miracle</td>\n",
              "    </tr>\n",
              "    <tr>\n",
              "      <th>35</th>\n",
              "      <td>Suicides Silence</td>\n",
              "    </tr>\n",
              "    <tr>\n",
              "      <th>36</th>\n",
              "      <td>Tadpole Park</td>\n",
              "    </tr>\n",
              "    <tr>\n",
              "      <th>37</th>\n",
              "      <td>Treasure Command</td>\n",
              "    </tr>\n",
              "    <tr>\n",
              "      <th>38</th>\n",
              "      <td>Villain Desperate</td>\n",
              "    </tr>\n",
              "    <tr>\n",
              "      <th>39</th>\n",
              "      <td>Volume House</td>\n",
              "    </tr>\n",
              "    <tr>\n",
              "      <th>40</th>\n",
              "      <td>Wake Jaws</td>\n",
              "    </tr>\n",
              "    <tr>\n",
              "      <th>41</th>\n",
              "      <td>Walls Artist</td>\n",
              "    </tr>\n",
              "  </tbody>\n",
              "</table>\n",
              "</div>"
            ],
            "text/plain": [
              "                     title\n",
              "0           Alice Fantasia\n",
              "1              Apollo Teen\n",
              "2           Argonauts Town\n",
              "3            Ark Ridgemont\n",
              "4     Arsenic Independence\n",
              "5        Boondock Ballroom\n",
              "6            Butch Panther\n",
              "7            Catch Amistad\n",
              "8      Chinatown Gladiator\n",
              "9           Chocolate Duck\n",
              "10    Commandments Express\n",
              "11        Crossing Divorce\n",
              "12         Crowds Telemark\n",
              "13        Crystal Breaking\n",
              "14              Dazed Punk\n",
              "15  Deliverance Mulholland\n",
              "16       Firehouse Vietnam\n",
              "17           Floats Garden\n",
              "18   Frankenstein Stranger\n",
              "19      Gladiator Westward\n",
              "20               Gump Date\n",
              "21           Hate Handicap\n",
              "22             Hocus Frida\n",
              "23        Kentuckian Giant\n",
              "24        Kill Brotherhood\n",
              "25             Muppet Mile\n",
              "26          Order Betrayed\n",
              "27           Pearl Destiny\n",
              "28         Perdition Fargo\n",
              "29           Psycho Shrunk\n",
              "30       Raiders Antitrust\n",
              "31           Rainbow Shock\n",
              "32           Roof Champion\n",
              "33           Sister Freddy\n",
              "34             Sky Miracle\n",
              "35        Suicides Silence\n",
              "36            Tadpole Park\n",
              "37        Treasure Command\n",
              "38       Villain Desperate\n",
              "39            Volume House\n",
              "40               Wake Jaws\n",
              "41            Walls Artist"
            ]
          },
          "metadata": {
            "tags": []
          },
          "execution_count": 52
        }
      ]
    },
    {
      "cell_type": "markdown",
      "metadata": {
        "id": "pkMe7gwkYCu6"
      },
      "source": [
        "***\n",
        "10. Qué clientes no han alquilado ninguna película hasta ahora."
      ]
    },
    {
      "cell_type": "code",
      "metadata": {
        "id": "J3DaP7nwYGsg"
      },
      "source": [
        "query = '''\n",
        "SELECT first_name, last_name\n",
        "FROM customer c\n",
        "WHERE NOT EXISTS\n",
        "  (SELECT DISTINCT customer_id\n",
        "  FROM rental r\n",
        "  WHERE c.customer_id = r.customer_id)\n",
        "\n",
        "'''"
      ],
      "execution_count": null,
      "outputs": []
    },
    {
      "cell_type": "code",
      "metadata": {
        "colab": {
          "base_uri": "https://localhost:8080/",
          "height": 101
        },
        "id": "yA2dhD89Yf4k",
        "outputId": "4c89e41a-e042-4209-d999-689580a620a4"
      },
      "source": [
        "pd.read_sql(con=conn,sql=query)"
      ],
      "execution_count": 15,
      "outputs": [
        {
          "output_type": "execute_result",
          "data": {
            "text/html": [
              "<div>\n",
              "<style scoped>\n",
              "    .dataframe tbody tr th:only-of-type {\n",
              "        vertical-align: middle;\n",
              "    }\n",
              "\n",
              "    .dataframe tbody tr th {\n",
              "        vertical-align: top;\n",
              "    }\n",
              "\n",
              "    .dataframe thead th {\n",
              "        text-align: right;\n",
              "    }\n",
              "</style>\n",
              "<table border=\"1\" class=\"dataframe\">\n",
              "  <thead>\n",
              "    <tr style=\"text-align: right;\">\n",
              "      <th></th>\n",
              "      <th>tot_payments</th>\n",
              "    </tr>\n",
              "  </thead>\n",
              "  <tbody>\n",
              "    <tr>\n",
              "      <th>0</th>\n",
              "      <td>211.55</td>\n",
              "    </tr>\n",
              "  </tbody>\n",
              "</table>\n",
              "</div>"
            ],
            "text/plain": [
              "   tot_payments\n",
              "0        211.55"
            ]
          },
          "metadata": {
            "tags": []
          },
          "execution_count": 15
        }
      ]
    },
    {
      "cell_type": "markdown",
      "metadata": {
        "id": "PgshSEoA0Jud"
      },
      "source": [
        "11.Muestra cada película y la cantidad de veces que se alquila."
      ]
    },
    {
      "cell_type": "code",
      "metadata": {
        "id": "wQ02vC1bzRZr"
      },
      "source": [
        "query = '''\n",
        "select film.title, COUNT(rental.rental_id )\n",
        "from rental\n",
        "join inventory\n",
        "on rental.inventory_id = inventory.inventory_id\n",
        "join film\n",
        "on film.film_id = inventory.film_id\n",
        "group by 1 \n",
        "order by 1 asc \n",
        "'''"
      ],
      "execution_count": 16,
      "outputs": []
    },
    {
      "cell_type": "code",
      "metadata": {
        "id": "1Q_TVRrgzRkM",
        "outputId": "8ad278e2-7dec-45da-f3ca-46da0ec19900",
        "colab": {
          "base_uri": "https://localhost:8080/",
          "height": 447
        }
      },
      "source": [
        "pd.read_sql(con=conn,sql=query)"
      ],
      "execution_count": 18,
      "outputs": [
        {
          "output_type": "execute_result",
          "data": {
            "text/html": [
              "<div>\n",
              "<style scoped>\n",
              "    .dataframe tbody tr th:only-of-type {\n",
              "        vertical-align: middle;\n",
              "    }\n",
              "\n",
              "    .dataframe tbody tr th {\n",
              "        vertical-align: top;\n",
              "    }\n",
              "\n",
              "    .dataframe thead th {\n",
              "        text-align: right;\n",
              "    }\n",
              "</style>\n",
              "<table border=\"1\" class=\"dataframe\">\n",
              "  <thead>\n",
              "    <tr style=\"text-align: right;\">\n",
              "      <th></th>\n",
              "      <th>title</th>\n",
              "      <th>count</th>\n",
              "    </tr>\n",
              "  </thead>\n",
              "  <tbody>\n",
              "    <tr>\n",
              "      <th>0</th>\n",
              "      <td>Academy Dinosaur</td>\n",
              "      <td>23</td>\n",
              "    </tr>\n",
              "    <tr>\n",
              "      <th>1</th>\n",
              "      <td>Ace Goldfinger</td>\n",
              "      <td>7</td>\n",
              "    </tr>\n",
              "    <tr>\n",
              "      <th>2</th>\n",
              "      <td>Adaptation Holes</td>\n",
              "      <td>12</td>\n",
              "    </tr>\n",
              "    <tr>\n",
              "      <th>3</th>\n",
              "      <td>Affair Prejudice</td>\n",
              "      <td>23</td>\n",
              "    </tr>\n",
              "    <tr>\n",
              "      <th>4</th>\n",
              "      <td>African Egg</td>\n",
              "      <td>12</td>\n",
              "    </tr>\n",
              "    <tr>\n",
              "      <th>...</th>\n",
              "      <td>...</td>\n",
              "      <td>...</td>\n",
              "    </tr>\n",
              "    <tr>\n",
              "      <th>953</th>\n",
              "      <td>Young Language</td>\n",
              "      <td>7</td>\n",
              "    </tr>\n",
              "    <tr>\n",
              "      <th>954</th>\n",
              "      <td>Youth Kick</td>\n",
              "      <td>6</td>\n",
              "    </tr>\n",
              "    <tr>\n",
              "      <th>955</th>\n",
              "      <td>Zhivago Core</td>\n",
              "      <td>9</td>\n",
              "    </tr>\n",
              "    <tr>\n",
              "      <th>956</th>\n",
              "      <td>Zoolander Fiction</td>\n",
              "      <td>17</td>\n",
              "    </tr>\n",
              "    <tr>\n",
              "      <th>957</th>\n",
              "      <td>Zorro Ark</td>\n",
              "      <td>31</td>\n",
              "    </tr>\n",
              "  </tbody>\n",
              "</table>\n",
              "<p>958 rows × 2 columns</p>\n",
              "</div>"
            ],
            "text/plain": [
              "                 title  count\n",
              "0     Academy Dinosaur     23\n",
              "1       Ace Goldfinger      7\n",
              "2     Adaptation Holes     12\n",
              "3     Affair Prejudice     23\n",
              "4          African Egg     12\n",
              "..                 ...    ...\n",
              "953     Young Language      7\n",
              "954         Youth Kick      6\n",
              "955       Zhivago Core      9\n",
              "956  Zoolander Fiction     17\n",
              "957          Zorro Ark     31\n",
              "\n",
              "[958 rows x 2 columns]"
            ]
          },
          "metadata": {
            "tags": []
          },
          "execution_count": 18
        }
      ]
    },
    {
      "cell_type": "markdown",
      "metadata": {
        "id": "Xd1gkSk948kW"
      },
      "source": [
        "12.  Muestra la cantidad de películas en las que actuó cada actor."
      ]
    },
    {
      "cell_type": "code",
      "metadata": {
        "id": "2Wfpqkha46pJ"
      },
      "source": [
        "query = '''\n",
        "select concat(actor.first_name,' ',actor.last_name),\n",
        "count(film.film_id)\n",
        "from film\n",
        "join film_actor \n",
        "on film_actor.film_id = film.film_id \n",
        "join actor\n",
        "on actor.actor_id = film_actor.actor_id \n",
        "group by 1\n",
        "order by 2 desc\n",
        "'''"
      ],
      "execution_count": 20,
      "outputs": []
    },
    {
      "cell_type": "code",
      "metadata": {
        "id": "jMrJVnus_1GP",
        "outputId": "df23d890-f077-4063-fcc7-194a2e2a02e3",
        "colab": {
          "base_uri": "https://localhost:8080/",
          "height": 447
        }
      },
      "source": [
        "pd.read_sql(con=conn,sql=query)"
      ],
      "execution_count": 21,
      "outputs": [
        {
          "output_type": "execute_result",
          "data": {
            "text/html": [
              "<div>\n",
              "<style scoped>\n",
              "    .dataframe tbody tr th:only-of-type {\n",
              "        vertical-align: middle;\n",
              "    }\n",
              "\n",
              "    .dataframe tbody tr th {\n",
              "        vertical-align: top;\n",
              "    }\n",
              "\n",
              "    .dataframe thead th {\n",
              "        text-align: right;\n",
              "    }\n",
              "</style>\n",
              "<table border=\"1\" class=\"dataframe\">\n",
              "  <thead>\n",
              "    <tr style=\"text-align: right;\">\n",
              "      <th></th>\n",
              "      <th>concat</th>\n",
              "      <th>count</th>\n",
              "    </tr>\n",
              "  </thead>\n",
              "  <tbody>\n",
              "    <tr>\n",
              "      <th>0</th>\n",
              "      <td>Susan Davis</td>\n",
              "      <td>54</td>\n",
              "    </tr>\n",
              "    <tr>\n",
              "      <th>1</th>\n",
              "      <td>Gina Degeneres</td>\n",
              "      <td>42</td>\n",
              "    </tr>\n",
              "    <tr>\n",
              "      <th>2</th>\n",
              "      <td>Walter Torn</td>\n",
              "      <td>41</td>\n",
              "    </tr>\n",
              "    <tr>\n",
              "      <th>3</th>\n",
              "      <td>Mary Keitel</td>\n",
              "      <td>40</td>\n",
              "    </tr>\n",
              "    <tr>\n",
              "      <th>4</th>\n",
              "      <td>Matthew Carrey</td>\n",
              "      <td>39</td>\n",
              "    </tr>\n",
              "    <tr>\n",
              "      <th>...</th>\n",
              "      <td>...</td>\n",
              "      <td>...</td>\n",
              "    </tr>\n",
              "    <tr>\n",
              "      <th>194</th>\n",
              "      <td>Sissy Sobieski</td>\n",
              "      <td>18</td>\n",
              "    </tr>\n",
              "    <tr>\n",
              "      <th>195</th>\n",
              "      <td>Julia Zellweger</td>\n",
              "      <td>16</td>\n",
              "    </tr>\n",
              "    <tr>\n",
              "      <th>196</th>\n",
              "      <td>Julia Fawcett</td>\n",
              "      <td>15</td>\n",
              "    </tr>\n",
              "    <tr>\n",
              "      <th>197</th>\n",
              "      <td>Judy Dean</td>\n",
              "      <td>15</td>\n",
              "    </tr>\n",
              "    <tr>\n",
              "      <th>198</th>\n",
              "      <td>Emily Dee</td>\n",
              "      <td>14</td>\n",
              "    </tr>\n",
              "  </tbody>\n",
              "</table>\n",
              "<p>199 rows × 2 columns</p>\n",
              "</div>"
            ],
            "text/plain": [
              "              concat  count\n",
              "0        Susan Davis     54\n",
              "1     Gina Degeneres     42\n",
              "2        Walter Torn     41\n",
              "3        Mary Keitel     40\n",
              "4     Matthew Carrey     39\n",
              "..               ...    ...\n",
              "194   Sissy Sobieski     18\n",
              "195  Julia Zellweger     16\n",
              "196    Julia Fawcett     15\n",
              "197        Judy Dean     15\n",
              "198        Emily Dee     14\n",
              "\n",
              "[199 rows x 2 columns]"
            ]
          },
          "metadata": {
            "tags": []
          },
          "execution_count": 21
        }
      ]
    },
    {
      "cell_type": "markdown",
      "metadata": {
        "id": "rAeyxqtWZJnk"
      },
      "source": [
        "***\n",
        "13. Muestre los nombres de los actores que actuaron en más de 20 películas."
      ]
    },
    {
      "cell_type": "code",
      "metadata": {
        "id": "I-rIyGEBZLXm"
      },
      "source": [
        "query = '''\n",
        "SELECT first_name, last_name, COUNT(film_actor.film_id)\n",
        "FROM film_actor JOIN actor\n",
        "ON film_actor.actor_id = actor.actor_id\n",
        "GROUP BY (first_name, last_name)\n",
        "HAVING COUNT(film_actor.film_id) > 20\n",
        "ORDER BY 3 DESC\n",
        "'''"
      ],
      "execution_count": null,
      "outputs": []
    },
    {
      "cell_type": "code",
      "metadata": {
        "colab": {
          "base_uri": "https://localhost:8080/",
          "height": 447
        },
        "id": "gstXBj_tXcxH",
        "outputId": "42012af4-679f-4a4d-dab8-f825a382dbd8"
      },
      "source": [
        "pd.read_sql(con=conn,sql=query)"
      ],
      "execution_count": 22,
      "outputs": [
        {
          "output_type": "execute_result",
          "data": {
            "text/html": [
              "<div>\n",
              "<style scoped>\n",
              "    .dataframe tbody tr th:only-of-type {\n",
              "        vertical-align: middle;\n",
              "    }\n",
              "\n",
              "    .dataframe tbody tr th {\n",
              "        vertical-align: top;\n",
              "    }\n",
              "\n",
              "    .dataframe thead th {\n",
              "        text-align: right;\n",
              "    }\n",
              "</style>\n",
              "<table border=\"1\" class=\"dataframe\">\n",
              "  <thead>\n",
              "    <tr style=\"text-align: right;\">\n",
              "      <th></th>\n",
              "      <th>concat</th>\n",
              "      <th>count</th>\n",
              "    </tr>\n",
              "  </thead>\n",
              "  <tbody>\n",
              "    <tr>\n",
              "      <th>0</th>\n",
              "      <td>Susan Davis</td>\n",
              "      <td>54</td>\n",
              "    </tr>\n",
              "    <tr>\n",
              "      <th>1</th>\n",
              "      <td>Gina Degeneres</td>\n",
              "      <td>42</td>\n",
              "    </tr>\n",
              "    <tr>\n",
              "      <th>2</th>\n",
              "      <td>Walter Torn</td>\n",
              "      <td>41</td>\n",
              "    </tr>\n",
              "    <tr>\n",
              "      <th>3</th>\n",
              "      <td>Mary Keitel</td>\n",
              "      <td>40</td>\n",
              "    </tr>\n",
              "    <tr>\n",
              "      <th>4</th>\n",
              "      <td>Matthew Carrey</td>\n",
              "      <td>39</td>\n",
              "    </tr>\n",
              "    <tr>\n",
              "      <th>...</th>\n",
              "      <td>...</td>\n",
              "      <td>...</td>\n",
              "    </tr>\n",
              "    <tr>\n",
              "      <th>194</th>\n",
              "      <td>Sissy Sobieski</td>\n",
              "      <td>18</td>\n",
              "    </tr>\n",
              "    <tr>\n",
              "      <th>195</th>\n",
              "      <td>Julia Zellweger</td>\n",
              "      <td>16</td>\n",
              "    </tr>\n",
              "    <tr>\n",
              "      <th>196</th>\n",
              "      <td>Julia Fawcett</td>\n",
              "      <td>15</td>\n",
              "    </tr>\n",
              "    <tr>\n",
              "      <th>197</th>\n",
              "      <td>Judy Dean</td>\n",
              "      <td>15</td>\n",
              "    </tr>\n",
              "    <tr>\n",
              "      <th>198</th>\n",
              "      <td>Emily Dee</td>\n",
              "      <td>14</td>\n",
              "    </tr>\n",
              "  </tbody>\n",
              "</table>\n",
              "<p>199 rows × 2 columns</p>\n",
              "</div>"
            ],
            "text/plain": [
              "              concat  count\n",
              "0        Susan Davis     54\n",
              "1     Gina Degeneres     42\n",
              "2        Walter Torn     41\n",
              "3        Mary Keitel     40\n",
              "4     Matthew Carrey     39\n",
              "..               ...    ...\n",
              "194   Sissy Sobieski     18\n",
              "195  Julia Zellweger     16\n",
              "196    Julia Fawcett     15\n",
              "197        Judy Dean     15\n",
              "198        Emily Dee     14\n",
              "\n",
              "[199 rows x 2 columns]"
            ]
          },
          "metadata": {
            "tags": []
          },
          "execution_count": 22
        }
      ]
    },
    {
      "cell_type": "markdown",
      "metadata": {
        "id": "JBtKRN33AE85"
      },
      "source": [
        "14. ¿Cuántos actores tienen 8 letras solo en sus nombres?"
      ]
    },
    {
      "cell_type": "code",
      "metadata": {
        "id": "5ZW0_Yl8_9pM"
      },
      "source": [
        "query = '''\n",
        "select count(first_name)\n",
        "from actor a \n",
        "where length(first_name) > 8\n",
        "'''"
      ],
      "execution_count": 24,
      "outputs": []
    },
    {
      "cell_type": "code",
      "metadata": {
        "id": "PwSkfDQc_92k",
        "outputId": "cc378e59-dd79-4ef2-d120-0bf83a6d7ef6",
        "colab": {
          "base_uri": "https://localhost:8080/",
          "height": 101
        }
      },
      "source": [
        "pd.read_sql(con=conn,sql=query)"
      ],
      "execution_count": 25,
      "outputs": [
        {
          "output_type": "execute_result",
          "data": {
            "text/html": [
              "<div>\n",
              "<style scoped>\n",
              "    .dataframe tbody tr th:only-of-type {\n",
              "        vertical-align: middle;\n",
              "    }\n",
              "\n",
              "    .dataframe tbody tr th {\n",
              "        vertical-align: top;\n",
              "    }\n",
              "\n",
              "    .dataframe thead th {\n",
              "        text-align: right;\n",
              "    }\n",
              "</style>\n",
              "<table border=\"1\" class=\"dataframe\">\n",
              "  <thead>\n",
              "    <tr style=\"text-align: right;\">\n",
              "      <th></th>\n",
              "      <th>count</th>\n",
              "    </tr>\n",
              "  </thead>\n",
              "  <tbody>\n",
              "    <tr>\n",
              "      <th>0</th>\n",
              "      <td>6</td>\n",
              "    </tr>\n",
              "  </tbody>\n",
              "</table>\n",
              "</div>"
            ],
            "text/plain": [
              "   count\n",
              "0      6"
            ]
          },
          "metadata": {
            "tags": []
          },
          "execution_count": 25
        }
      ]
    },
    {
      "cell_type": "markdown",
      "metadata": {
        "id": "65fBasV5Dtaj"
      },
      "source": [
        "15. Para todas las películas clasificadas como \"PG\", muéstrame la película y la cantidad de veces que se alquiló.\n",
        "*Escribir una subconsulta para seleccionar todos los film_ids que se han alquilado hasta ahora. Para eso, se necesita unir tablas de alquiler e inventario en la columna común Inventory_id.*\n"
      ]
    },
    {
      "cell_type": "code",
      "metadata": {
        "id": "sgXHEJid_-Db"
      },
      "source": [
        ""
      ],
      "execution_count": 22,
      "outputs": []
    },
    {
      "cell_type": "markdown",
      "metadata": {
        "id": "SExi8BadICAZ"
      },
      "source": [
        "16. Muestra las películas que se ofrecen para alquilar en store_id 1 y no se ofrecen en store_id 2."
      ]
    },
    {
      "cell_type": "code",
      "metadata": {
        "id": "FLalxn__IHCr"
      },
      "source": [
        ""
      ],
      "execution_count": null,
      "outputs": []
    },
    {
      "cell_type": "code",
      "metadata": {
        "id": "cAHBaK5j_-lS"
      },
      "source": [
        ""
      ],
      "execution_count": 25,
      "outputs": []
    },
    {
      "cell_type": "markdown",
      "metadata": {
        "id": "DicrXRRxIIkZ"
      },
      "source": [
        "17. Muestre las películas que se ofrecen para alquilar en cualquiera de las dos tiendas 1 y 2."
      ]
    },
    {
      "cell_type": "code",
      "metadata": {
        "id": "u4CHjEN8ILkQ"
      },
      "source": [
        ""
      ],
      "execution_count": 25,
      "outputs": []
    },
    {
      "cell_type": "code",
      "metadata": {
        "id": "os8S5BuuIL_M"
      },
      "source": [
        ""
      ],
      "execution_count": null,
      "outputs": []
    },
    {
      "cell_type": "markdown",
      "metadata": {
        "id": "GAs-b6YHINe3"
      },
      "source": [
        "18. Muestra los títulos de las películas que se ofrecen en ambas tiendas al mismo tiempo"
      ]
    },
    {
      "cell_type": "code",
      "metadata": {
        "id": "kBA7fZTKIP2m"
      },
      "source": [
        ""
      ],
      "execution_count": 25,
      "outputs": []
    },
    {
      "cell_type": "code",
      "metadata": {
        "id": "8i9v_c2jIQIl"
      },
      "source": [
        ""
      ],
      "execution_count": null,
      "outputs": []
    },
    {
      "cell_type": "markdown",
      "metadata": {
        "id": "1Q_ug_5TIUIi"
      },
      "source": [
        "19. Para cada tienda, muestre el número de clientes que son miembros de esa tienda"
      ]
    },
    {
      "cell_type": "code",
      "metadata": {
        "id": "LmXhOy98H-TN"
      },
      "source": [
        ""
      ],
      "execution_count": 25,
      "outputs": []
    },
    {
      "cell_type": "code",
      "metadata": {
        "id": "DLtF6STkH-WZ"
      },
      "source": [
        ""
      ],
      "execution_count": 25,
      "outputs": []
    },
    {
      "cell_type": "markdown",
      "metadata": {
        "id": "Kx7yYjU7MK2G"
      },
      "source": [
        "20. Muestra el título de la película más alquilada en la tienda con store_id 1"
      ]
    },
    {
      "cell_type": "code",
      "metadata": {
        "id": "-W-pKqcfMOkK"
      },
      "source": [
        ""
      ],
      "execution_count": null,
      "outputs": []
    },
    {
      "cell_type": "code",
      "metadata": {
        "id": "HCxTKrnvH-ZW"
      },
      "source": [
        ""
      ],
      "execution_count": 25,
      "outputs": []
    },
    {
      "cell_type": "code",
      "metadata": {
        "id": "-K4wwpEhH-cB"
      },
      "source": [
        ""
      ],
      "execution_count": null,
      "outputs": []
    },
    {
      "cell_type": "markdown",
      "metadata": {
        "id": "M_LmgiPSagGo"
      },
      "source": [
        "\n",
        "\n",
        "```\n",
        "# Tiene formato de código\n",
        "```\n",
        "\n",
        "***\n",
        "22. Muestre los customer_id para aquellos clientes que alquilaron un DVD de películas más de una vez."
      ]
    },
    {
      "cell_type": "code",
      "metadata": {
        "id": "ppHzslDDc_SF"
      },
      "source": [
        "query = '''\n",
        "SELECT\n",
        " rental.customer_id, inventory.film_id, COUNT(rental.rental_id)\n",
        "FROM\n",
        "  rental\n",
        "JOIN\n",
        "  inventory\n",
        "ON\n",
        "  inventory.inventory_id = rental.inventory_id\n",
        "WHERE rental.customer_id = 314\n",
        "GROUP BY\n",
        "  1,2\n",
        "HAVING COUNT(rental.rental_id) > 1\n",
        "ORDER BY 3 DESC;\n",
        "'''"
      ],
      "execution_count": null,
      "outputs": []
    },
    {
      "cell_type": "code",
      "metadata": {
        "colab": {
          "base_uri": "https://localhost:8080/",
          "height": 112
        },
        "id": "RRkLSL1udF4M",
        "outputId": "00ff7748-b2d4-4a5a-cf8f-a702dc0bbbf7"
      },
      "source": [
        "pd.read_sql(con=conn,sql=query)"
      ],
      "execution_count": null,
      "outputs": [
        {
          "output_type": "execute_result",
          "data": {
            "text/html": [
              "<div>\n",
              "<style scoped>\n",
              "    .dataframe tbody tr th:only-of-type {\n",
              "        vertical-align: middle;\n",
              "    }\n",
              "\n",
              "    .dataframe tbody tr th {\n",
              "        vertical-align: top;\n",
              "    }\n",
              "\n",
              "    .dataframe thead th {\n",
              "        text-align: right;\n",
              "    }\n",
              "</style>\n",
              "<table border=\"1\" class=\"dataframe\">\n",
              "  <thead>\n",
              "    <tr style=\"text-align: right;\">\n",
              "      <th></th>\n",
              "      <th>customer_id</th>\n",
              "      <th>film_id</th>\n",
              "      <th>count</th>\n",
              "    </tr>\n",
              "  </thead>\n",
              "  <tbody>\n",
              "    <tr>\n",
              "      <th>0</th>\n",
              "      <td>314</td>\n",
              "      <td>111</td>\n",
              "      <td>3</td>\n",
              "    </tr>\n",
              "    <tr>\n",
              "      <th>1</th>\n",
              "      <td>314</td>\n",
              "      <td>973</td>\n",
              "      <td>2</td>\n",
              "    </tr>\n",
              "  </tbody>\n",
              "</table>\n",
              "</div>"
            ],
            "text/plain": [
              "   customer_id  film_id  count\n",
              "0          314      111      3\n",
              "1          314      973      2"
            ]
          },
          "metadata": {
            "tags": []
          },
          "execution_count": 76
        }
      ]
    },
    {
      "cell_type": "code",
      "metadata": {
        "id": "NMYIO-UkdiEN"
      },
      "source": [
        "query = '''\n",
        "WITH temp as\n",
        "(\n",
        "  SELECT rental_id, rental_date, customer_id, film_id\n",
        "  FROM rental JOIN inventory\n",
        "  ON rental.inventory_id = inventory.inventory_id\n",
        "  )\n",
        "SELECT t1.customer_id, count(t1.film_id)\n",
        "FROM temp t1\n",
        "JOIN temp t2 \n",
        "ON t1.customer_id = t2.customer_id AND t1.film_id = t2.film_id AND t1.rental_date <> t2.rental_date\n",
        "GROUP BY t1.customer_id\n",
        "HAVING COUNT(t1.film_id) > 1\n",
        "ORDER BY 2 DESC;\n",
        "'''"
      ],
      "execution_count": null,
      "outputs": []
    },
    {
      "cell_type": "code",
      "metadata": {
        "colab": {
          "base_uri": "https://localhost:8080/",
          "height": 424
        },
        "id": "Yd6mG2RmfXzf",
        "outputId": "22c8860e-6a15-4fc1-d570-89eca3b71dcf"
      },
      "source": [
        "pd.read_sql(con=conn,sql=query)"
      ],
      "execution_count": null,
      "outputs": [
        {
          "output_type": "execute_result",
          "data": {
            "text/html": [
              "<div>\n",
              "<style scoped>\n",
              "    .dataframe tbody tr th:only-of-type {\n",
              "        vertical-align: middle;\n",
              "    }\n",
              "\n",
              "    .dataframe tbody tr th {\n",
              "        vertical-align: top;\n",
              "    }\n",
              "\n",
              "    .dataframe thead th {\n",
              "        text-align: right;\n",
              "    }\n",
              "</style>\n",
              "<table border=\"1\" class=\"dataframe\">\n",
              "  <thead>\n",
              "    <tr style=\"text-align: right;\">\n",
              "      <th></th>\n",
              "      <th>customer_id</th>\n",
              "      <th>count</th>\n",
              "    </tr>\n",
              "  </thead>\n",
              "  <tbody>\n",
              "    <tr>\n",
              "      <th>0</th>\n",
              "      <td>122</td>\n",
              "      <td>12</td>\n",
              "    </tr>\n",
              "    <tr>\n",
              "      <th>1</th>\n",
              "      <td>314</td>\n",
              "      <td>8</td>\n",
              "    </tr>\n",
              "    <tr>\n",
              "      <th>2</th>\n",
              "      <td>376</td>\n",
              "      <td>6</td>\n",
              "    </tr>\n",
              "    <tr>\n",
              "      <th>3</th>\n",
              "      <td>30</td>\n",
              "      <td>6</td>\n",
              "    </tr>\n",
              "    <tr>\n",
              "      <th>4</th>\n",
              "      <td>482</td>\n",
              "      <td>6</td>\n",
              "    </tr>\n",
              "    <tr>\n",
              "      <th>...</th>\n",
              "      <td>...</td>\n",
              "      <td>...</td>\n",
              "    </tr>\n",
              "    <tr>\n",
              "      <th>175</th>\n",
              "      <td>90</td>\n",
              "      <td>2</td>\n",
              "    </tr>\n",
              "    <tr>\n",
              "      <th>176</th>\n",
              "      <td>99</td>\n",
              "      <td>2</td>\n",
              "    </tr>\n",
              "    <tr>\n",
              "      <th>177</th>\n",
              "      <td>108</td>\n",
              "      <td>2</td>\n",
              "    </tr>\n",
              "    <tr>\n",
              "      <th>178</th>\n",
              "      <td>111</td>\n",
              "      <td>2</td>\n",
              "    </tr>\n",
              "    <tr>\n",
              "      <th>179</th>\n",
              "      <td>113</td>\n",
              "      <td>2</td>\n",
              "    </tr>\n",
              "  </tbody>\n",
              "</table>\n",
              "<p>180 rows × 2 columns</p>\n",
              "</div>"
            ],
            "text/plain": [
              "     customer_id  count\n",
              "0            122     12\n",
              "1            314      8\n",
              "2            376      6\n",
              "3             30      6\n",
              "4            482      6\n",
              "..           ...    ...\n",
              "175           90      2\n",
              "176           99      2\n",
              "177          108      2\n",
              "178          111      2\n",
              "179          113      2\n",
              "\n",
              "[180 rows x 2 columns]"
            ]
          },
          "metadata": {
            "tags": []
          },
          "execution_count": 72
        }
      ]
    },
    {
      "cell_type": "markdown",
      "metadata": {
        "id": "hAXo84wjgm2w"
      },
      "source": [
        "***\n",
        "27. 27. Busque el nombre del actor que comience con \"P\" seguido de (una e o una a) y luego cualquier otra letra"
      ]
    },
    {
      "cell_type": "code",
      "metadata": {
        "id": "AbYDecd-govz"
      },
      "source": [
        "query = '''\n",
        "SELECT DISTINCT\n",
        "  first_name\n",
        "FROM\n",
        "  actor\n",
        "WHERE\n",
        "  first_name LIKE 'Pe%' OR first_name LIKE 'Pa%';\n",
        "'''"
      ],
      "execution_count": null,
      "outputs": []
    },
    {
      "cell_type": "code",
      "metadata": {
        "colab": {
          "base_uri": "https://localhost:8080/",
          "height": 112
        },
        "id": "_kRnBGGsjoUb",
        "outputId": "6f42de81-a310-4b99-99e3-4f96bbf4dc7f"
      },
      "source": [
        "pd.read_sql(con=conn,sql=query)"
      ],
      "execution_count": null,
      "outputs": [
        {
          "output_type": "execute_result",
          "data": {
            "text/html": [
              "<div>\n",
              "<style scoped>\n",
              "    .dataframe tbody tr th:only-of-type {\n",
              "        vertical-align: middle;\n",
              "    }\n",
              "\n",
              "    .dataframe tbody tr th {\n",
              "        vertical-align: top;\n",
              "    }\n",
              "\n",
              "    .dataframe thead th {\n",
              "        text-align: right;\n",
              "    }\n",
              "</style>\n",
              "<table border=\"1\" class=\"dataframe\">\n",
              "  <thead>\n",
              "    <tr style=\"text-align: right;\">\n",
              "      <th></th>\n",
              "      <th>first_name</th>\n",
              "    </tr>\n",
              "  </thead>\n",
              "  <tbody>\n",
              "    <tr>\n",
              "      <th>0</th>\n",
              "      <td>Parker</td>\n",
              "    </tr>\n",
              "    <tr>\n",
              "      <th>1</th>\n",
              "      <td>Penelope</td>\n",
              "    </tr>\n",
              "  </tbody>\n",
              "</table>\n",
              "</div>"
            ],
            "text/plain": [
              "  first_name\n",
              "0     Parker\n",
              "1   Penelope"
            ]
          },
          "metadata": {
            "tags": []
          },
          "execution_count": 78
        }
      ]
    },
    {
      "cell_type": "code",
      "metadata": {
        "id": "ap9mS9xNjuUl"
      },
      "source": [
        "query = '''\n",
        "SELECT first_name, last_name\n",
        "FROM actor\n",
        "WHERE first_name SIMILAR TO 'P(a|e)%';\n",
        "'''"
      ],
      "execution_count": null,
      "outputs": []
    },
    {
      "cell_type": "code",
      "metadata": {
        "colab": {
          "base_uri": "https://localhost:8080/",
          "height": 206
        },
        "id": "fIenNtiokShm",
        "outputId": "a689faef-24ad-4be8-d0d4-d7078e3e29ef"
      },
      "source": [
        "pd.read_sql(con=conn,sql=query)"
      ],
      "execution_count": null,
      "outputs": [
        {
          "output_type": "execute_result",
          "data": {
            "text/html": [
              "<div>\n",
              "<style scoped>\n",
              "    .dataframe tbody tr th:only-of-type {\n",
              "        vertical-align: middle;\n",
              "    }\n",
              "\n",
              "    .dataframe tbody tr th {\n",
              "        vertical-align: top;\n",
              "    }\n",
              "\n",
              "    .dataframe thead th {\n",
              "        text-align: right;\n",
              "    }\n",
              "</style>\n",
              "<table border=\"1\" class=\"dataframe\">\n",
              "  <thead>\n",
              "    <tr style=\"text-align: right;\">\n",
              "      <th></th>\n",
              "      <th>first_name</th>\n",
              "      <th>last_name</th>\n",
              "    </tr>\n",
              "  </thead>\n",
              "  <tbody>\n",
              "    <tr>\n",
              "      <th>0</th>\n",
              "      <td>Penelope</td>\n",
              "      <td>Guiness</td>\n",
              "    </tr>\n",
              "    <tr>\n",
              "      <th>1</th>\n",
              "      <td>Parker</td>\n",
              "      <td>Goldberg</td>\n",
              "    </tr>\n",
              "    <tr>\n",
              "      <th>2</th>\n",
              "      <td>Penelope</td>\n",
              "      <td>Pinkett</td>\n",
              "    </tr>\n",
              "    <tr>\n",
              "      <th>3</th>\n",
              "      <td>Penelope</td>\n",
              "      <td>Cronyn</td>\n",
              "    </tr>\n",
              "    <tr>\n",
              "      <th>4</th>\n",
              "      <td>Penelope</td>\n",
              "      <td>Monroe</td>\n",
              "    </tr>\n",
              "  </tbody>\n",
              "</table>\n",
              "</div>"
            ],
            "text/plain": [
              "  first_name last_name\n",
              "0   Penelope   Guiness\n",
              "1     Parker  Goldberg\n",
              "2   Penelope   Pinkett\n",
              "3   Penelope    Cronyn\n",
              "4   Penelope    Monroe"
            ]
          },
          "metadata": {
            "tags": []
          },
          "execution_count": 88
        }
      ]
    },
    {
      "cell_type": "code",
      "metadata": {
        "id": "zh-I6pOvmCzw"
      },
      "source": [
        "query = '''\n",
        "SELECT first_name, last_name\n",
        "FROM actor\n",
        "WHERE first_name SIMILAR TO 'P[a-zA-Z]{5,}';\n",
        "'''"
      ],
      "execution_count": null,
      "outputs": []
    },
    {
      "cell_type": "code",
      "metadata": {
        "colab": {
          "base_uri": "https://localhost:8080/",
          "height": 206
        },
        "id": "u-B5P9FSmJ1D",
        "outputId": "cba4ca6e-75d8-488d-af40-251b77f0ed94"
      },
      "source": [
        "pd.read_sql(con=conn,sql=query)"
      ],
      "execution_count": null,
      "outputs": [
        {
          "output_type": "execute_result",
          "data": {
            "text/html": [
              "<div>\n",
              "<style scoped>\n",
              "    .dataframe tbody tr th:only-of-type {\n",
              "        vertical-align: middle;\n",
              "    }\n",
              "\n",
              "    .dataframe tbody tr th {\n",
              "        vertical-align: top;\n",
              "    }\n",
              "\n",
              "    .dataframe thead th {\n",
              "        text-align: right;\n",
              "    }\n",
              "</style>\n",
              "<table border=\"1\" class=\"dataframe\">\n",
              "  <thead>\n",
              "    <tr style=\"text-align: right;\">\n",
              "      <th></th>\n",
              "      <th>first_name</th>\n",
              "      <th>last_name</th>\n",
              "    </tr>\n",
              "  </thead>\n",
              "  <tbody>\n",
              "    <tr>\n",
              "      <th>0</th>\n",
              "      <td>Penelope</td>\n",
              "      <td>Guiness</td>\n",
              "    </tr>\n",
              "    <tr>\n",
              "      <th>1</th>\n",
              "      <td>Parker</td>\n",
              "      <td>Goldberg</td>\n",
              "    </tr>\n",
              "    <tr>\n",
              "      <th>2</th>\n",
              "      <td>Penelope</td>\n",
              "      <td>Pinkett</td>\n",
              "    </tr>\n",
              "    <tr>\n",
              "      <th>3</th>\n",
              "      <td>Penelope</td>\n",
              "      <td>Cronyn</td>\n",
              "    </tr>\n",
              "    <tr>\n",
              "      <th>4</th>\n",
              "      <td>Penelope</td>\n",
              "      <td>Monroe</td>\n",
              "    </tr>\n",
              "  </tbody>\n",
              "</table>\n",
              "</div>"
            ],
            "text/plain": [
              "  first_name last_name\n",
              "0   Penelope   Guiness\n",
              "1     Parker  Goldberg\n",
              "2   Penelope   Pinkett\n",
              "3   Penelope    Cronyn\n",
              "4   Penelope    Monroe"
            ]
          },
          "metadata": {
            "tags": []
          },
          "execution_count": 94
        }
      ]
    },
    {
      "cell_type": "markdown",
      "metadata": {
        "id": "ZwPNgQcyZJIH"
      },
      "source": [
        "***"
      ]
    }
  ]
}