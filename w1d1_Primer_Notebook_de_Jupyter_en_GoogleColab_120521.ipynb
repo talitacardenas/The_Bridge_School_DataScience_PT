{
  "nbformat": 4,
  "nbformat_minor": 0,
  "metadata": {
    "colab": {
      "name": "w1d1-Primer Notebook de Jupyter en GoogleColab-120521",
      "provenance": [],
      "toc_visible": true,
      "authorship_tag": "ABX9TyOI7vnpURzBhugPm3QLh3nl",
      "include_colab_link": true
    },
    "kernelspec": {
      "name": "python3",
      "display_name": "Python 3"
    },
    "language_info": {
      "name": "python"
    }
  },
  "cells": [
    {
      "cell_type": "markdown",
      "metadata": {
        "id": "view-in-github",
        "colab_type": "text"
      },
      "source": [
        "<a href=\"https://colab.research.google.com/github/talitacardenas/The_Bridge_School_DataScience_PT/blob/Develop/w1d1_Primer_Notebook_de_Jupyter_en_GoogleColab_120521.ipynb\" target=\"_parent\"><img src=\"https://colab.research.google.com/assets/colab-badge.svg\" alt=\"Open In Colab\"/></a>"
      ]
    },
    {
      "cell_type": "markdown",
      "metadata": {
        "id": "APz183cy7TiH"
      },
      "source": [
        ""
      ]
    },
    {
      "cell_type": "code",
      "metadata": {
        "id": "bK7vBpMm7Y9s"
      },
      "source": [
        ""
      ],
      "execution_count": null,
      "outputs": []
    },
    {
      "cell_type": "markdown",
      "metadata": {
        "id": "Yjhf4-Cm7bWK"
      },
      "source": [
        "# Encabezado\n",
        "## Encabezado tipo 2\n",
        "\n",
        "Se llama ***Markdown***\n",
        "\n",
        "1. Elemento de lista\n",
        "2. Elemento de lista\n",
        "\n",
        "\n"
      ]
    },
    {
      "cell_type": "markdown",
      "metadata": {
        "id": "F2QF74Ql7TeU"
      },
      "source": [
        "En Jupyter oara ejecutar una celda tecleamos>\n",
        "\n",
        "- Ctrl + Enter\n",
        "\n",
        "O si queremos anadir una nueva línea de codigo y a la vez ejecutar\n",
        "- Alt + Enter\n",
        "\n",
        "\n",
        "\n"
      ]
    },
    {
      "cell_type": "markdown",
      "metadata": {
        "id": "MTXbD0XS7TRV"
      },
      "source": [
        ""
      ]
    },
    {
      "cell_type": "code",
      "metadata": {
        "id": "uz9HuKex7S9M"
      },
      "source": [
        "# Si quiero escribir un cmentario en una celda utilizamos el fragmento #\n",
        "# Si sin más líneas también\n"
      ],
      "execution_count": null,
      "outputs": []
    },
    {
      "cell_type": "markdown",
      "metadata": {
        "id": "tc1rJKna7R4P"
      },
      "source": [
        "30\n",
        "\n",
        "\n"
      ]
    },
    {
      "cell_type": "code",
      "metadata": {
        "colab": {
          "base_uri": "https://localhost:8080/"
        },
        "id": "-7EctRlu6n1T",
        "outputId": "043a6b7c-9f36-45d5-c61c-7e90afd30b61"
      },
      "source": [
        "1 + 1\n",
        "\n"
      ],
      "execution_count": null,
      "outputs": [
        {
          "output_type": "execute_result",
          "data": {
            "text/plain": [
              "2"
            ]
          },
          "metadata": {
            "tags": []
          },
          "execution_count": 2
        }
      ]
    },
    {
      "cell_type": "code",
      "metadata": {
        "id": "5zcxt3xG87cI"
      },
      "source": [
        ""
      ],
      "execution_count": null,
      "outputs": []
    },
    {
      "cell_type": "code",
      "metadata": {
        "colab": {
          "base_uri": "https://localhost:8080/",
          "height": 164
        },
        "id": "vZQcLI2c8-Qk",
        "outputId": "095a0aa2-bd09-4431-ef66-8d6724cd57ca"
      },
      "source": [
        "print(\"Es resultado de una operacion es:\" + suma)\n"
      ],
      "execution_count": null,
      "outputs": [
        {
          "output_type": "error",
          "ename": "NameError",
          "evalue": "ignored",
          "traceback": [
            "\u001b[0;31m---------------------------------------------------------------------------\u001b[0m",
            "\u001b[0;31mNameError\u001b[0m                                 Traceback (most recent call last)",
            "\u001b[0;32m<ipython-input-3-71ac8f81aec9>\u001b[0m in \u001b[0;36m<module>\u001b[0;34m()\u001b[0m\n\u001b[0;32m----> 1\u001b[0;31m \u001b[0mprint\u001b[0m\u001b[0;34m(\u001b[0m\u001b[0;34m\"Es resultado de una operacion es:\"\u001b[0m \u001b[0;34m+\u001b[0m \u001b[0msuma\u001b[0m\u001b[0;34m)\u001b[0m\u001b[0;34m\u001b[0m\u001b[0;34m\u001b[0m\u001b[0m\n\u001b[0m",
            "\u001b[0;31mNameError\u001b[0m: name 'suma' is not defined"
          ]
        }
      ]
    },
    {
      "cell_type": "code",
      "metadata": {
        "id": "dFEexORK9ZL8"
      },
      "source": [
        ""
      ],
      "execution_count": null,
      "outputs": []
    },
    {
      "cell_type": "markdown",
      "metadata": {
        "id": "TH0GSxNW9bZF"
      },
      "source": [
        "Veamos que nos devolverá un error porque estamos intentando imorimir una cadena de texto y un valor numerico\n",
        "La solucion seria trnsformar nuestro valor numerico en String\n"
      ]
    },
    {
      "cell_type": "code",
      "metadata": {
        "id": "mY0LJVDP9sXY"
      },
      "source": [
        "print(\"El resultado de esta operacion es> + str (suma)\")\n"
      ],
      "execution_count": null,
      "outputs": []
    },
    {
      "cell_type": "code",
      "metadata": {
        "id": "WvgUX4t99rzL"
      },
      "source": [
        ""
      ],
      "execution_count": null,
      "outputs": []
    },
    {
      "cell_type": "markdown",
      "metadata": {
        "id": "hzNG-5G76pAt"
      },
      "source": [
        ""
      ]
    }
  ]
}