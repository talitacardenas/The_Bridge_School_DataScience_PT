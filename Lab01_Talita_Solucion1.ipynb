{
  "nbformat": 4,
  "nbformat_minor": 0,
  "metadata": {
    "colab": {
      "name": "Lab01.ipynb",
      "provenance": [],
      "include_colab_link": true
    },
    "kernelspec": {
      "display_name": "Python 3",
      "language": "python",
      "name": "python3"
    },
    "language_info": {
      "codemirror_mode": {
        "name": "ipython",
        "version": 3
      },
      "file_extension": ".py",
      "mimetype": "text/x-python",
      "name": "python",
      "nbconvert_exporter": "python",
      "pygments_lexer": "ipython3",
      "version": "3.8.8"
    }
  },
  "cells": [
    {
      "cell_type": "markdown",
      "metadata": {
        "id": "view-in-github",
        "colab_type": "text"
      },
      "source": [
        "<a href=\"https://colab.research.google.com/github/talitacardenas/The_Bridge_School_DataScience_PT/blob/Develop/Lab01_Talita_Solucion1.ipynb\" target=\"_parent\"><img src=\"https://colab.research.google.com/assets/colab-badge.svg\" alt=\"Open In Colab\"/></a>"
      ]
    },
    {
      "cell_type": "markdown",
      "metadata": {
        "id": "6emPPi8Zvt30"
      },
      "source": [
        "# Python - intro 101\n",
        "\n",
        "## Lab 1 - Qué va a crear\n",
        "\n",
        "En este desafío, creará un contador de calorías que solicita al usuario lo siguiente:\n",
        "\n",
        "- La fecha actual (en cualquier formato)\n",
        "- Calorías ingeridas en el desayuno\n",
        "- Calorías ingeridas en la comida\n",
        "- Calorías ingeridas en la cena\n",
        "- Calorías ingeridas en tentempiés\n",
        "\n",
        "Después, el programa sumará todas las calorías y les dará formato de mensaje."
      ]
    },
    {
      "cell_type": "code",
      "metadata": {
        "colab": {
          "base_uri": "https://localhost:8080/"
        },
        "id": "mID9DJRxvvU5",
        "outputId": "a0e105c1-9e42-432b-e714-2b9b31979f16"
      },
      "source": [
        "# Creamos las variables del contador\n",
        "print(\"¿Què día es hoy?\")"
      ],
      "execution_count": 1,
      "outputs": [
        {
          "output_type": "stream",
          "text": [
            "¿Què día es hoy?\n"
          ],
          "name": "stdout"
        }
      ]
    },
    {
      "cell_type": "code",
      "metadata": {
        "colab": {
          "base_uri": "https://localhost:8080/"
        },
        "id": "GAHuwqUcwEEB",
        "outputId": "862f5154-e25d-41bb-eff2-98bf529d73c0"
      },
      "source": [
        "# Para la fecha creamos una variable del tipo input()\n",
        "date = input()"
      ],
      "execution_count": 3,
      "outputs": [
        {
          "output_type": "stream",
          "text": [
            "18/05/21\n"
          ],
          "name": "stdout"
        }
      ]
    },
    {
      "cell_type": "code",
      "metadata": {
        "colab": {
          "base_uri": "https://localhost:8080/",
          "height": 37
        },
        "id": "_hfmKA2iu1R9",
        "outputId": "968f6e65-8ab3-4872-d812-7c7dd23bac62"
      },
      "source": [
        "date"
      ],
      "execution_count": 4,
      "outputs": [
        {
          "output_type": "execute_result",
          "data": {
            "application/vnd.google.colaboratory.intrinsic+json": {
              "type": "string"
            },
            "text/plain": [
              "'18/05/21'"
            ]
          },
          "metadata": {
            "tags": []
          },
          "execution_count": 4
        }
      ]
    },
    {
      "cell_type": "code",
      "metadata": {
        "colab": {
          "base_uri": "https://localhost:8080/"
        },
        "id": "zvc8A-XlwRxC",
        "outputId": "2a561c85-d6d1-4f98-bbcb-65da73b90d7f"
      },
      "source": [
        "print(\"Calorias desayuno\")"
      ],
      "execution_count": 5,
      "outputs": [
        {
          "output_type": "stream",
          "text": [
            "Calorias desayuno\n"
          ],
          "name": "stdout"
        }
      ]
    },
    {
      "cell_type": "code",
      "metadata": {
        "colab": {
          "base_uri": "https://localhost:8080/"
        },
        "id": "XG9qlmvywdDi",
        "outputId": "bc57f891-d186-4a78-9095-e13f4a2300d3"
      },
      "source": [
        "breakfast = int(input())"
      ],
      "execution_count": 7,
      "outputs": [
        {
          "output_type": "stream",
          "text": [
            "560\n"
          ],
          "name": "stdout"
        }
      ]
    },
    {
      "cell_type": "code",
      "metadata": {
        "colab": {
          "base_uri": "https://localhost:8080/"
        },
        "id": "XuhvBuDwwkBC",
        "outputId": "ceb18473-b77e-436a-cb16-09aa15c6620c"
      },
      "source": [
        "breakfast"
      ],
      "execution_count": 8,
      "outputs": [
        {
          "output_type": "execute_result",
          "data": {
            "text/plain": [
              "560"
            ]
          },
          "metadata": {
            "tags": []
          },
          "execution_count": 8
        }
      ]
    },
    {
      "cell_type": "code",
      "metadata": {
        "colab": {
          "base_uri": "https://localhost:8080/"
        },
        "id": "NZehAqJL-myV",
        "outputId": "d9ee48a1-c253-4b6e-8e97-e5f6eba1b0bb"
      },
      "source": [
        "print(\"Calorias comida\")"
      ],
      "execution_count": 9,
      "outputs": [
        {
          "output_type": "stream",
          "text": [
            "Calorias comida\n"
          ],
          "name": "stdout"
        }
      ]
    },
    {
      "cell_type": "code",
      "metadata": {
        "colab": {
          "base_uri": "https://localhost:8080/"
        },
        "id": "0XarvmCs-wH7",
        "outputId": "8cd1ce68-b649-4ad8-eaae-47b38dcac43b"
      },
      "source": [
        "lunch = int(input())"
      ],
      "execution_count": 10,
      "outputs": [
        {
          "output_type": "stream",
          "text": [
            "600\n"
          ],
          "name": "stdout"
        }
      ]
    },
    {
      "cell_type": "code",
      "metadata": {
        "colab": {
          "base_uri": "https://localhost:8080/"
        },
        "id": "9xBHHC2p-4WY",
        "outputId": "abd02790-d0a8-468c-a97a-35a1c201b19b"
      },
      "source": [
        "lunch"
      ],
      "execution_count": 11,
      "outputs": [
        {
          "output_type": "execute_result",
          "data": {
            "text/plain": [
              "600"
            ]
          },
          "metadata": {
            "tags": []
          },
          "execution_count": 11
        }
      ]
    },
    {
      "cell_type": "code",
      "metadata": {
        "colab": {
          "base_uri": "https://localhost:8080/"
        },
        "id": "kJVfnkh6_E_D",
        "outputId": "623a25fe-477d-4868-9c05-c1a15baf7f4f"
      },
      "source": [
        "print(\"Calorias cena\")"
      ],
      "execution_count": 12,
      "outputs": [
        {
          "output_type": "stream",
          "text": [
            "Calorias cena\n"
          ],
          "name": "stdout"
        }
      ]
    },
    {
      "cell_type": "code",
      "metadata": {
        "colab": {
          "base_uri": "https://localhost:8080/"
        },
        "id": "5pJRkxHt_S01",
        "outputId": "c59c997e-0f7e-4156-c150-4ff288478113"
      },
      "source": [
        "diner = int(input())"
      ],
      "execution_count": 15,
      "outputs": [
        {
          "output_type": "stream",
          "text": [
            "550\n"
          ],
          "name": "stdout"
        }
      ]
    },
    {
      "cell_type": "code",
      "metadata": {
        "colab": {
          "base_uri": "https://localhost:8080/"
        },
        "id": "5k7VwJlj_Yzt",
        "outputId": "4bb5b401-9a92-4d4b-d696-7f41e6b3af31"
      },
      "source": [
        "diner"
      ],
      "execution_count": 16,
      "outputs": [
        {
          "output_type": "execute_result",
          "data": {
            "text/plain": [
              "550"
            ]
          },
          "metadata": {
            "tags": []
          },
          "execution_count": 16
        }
      ]
    },
    {
      "cell_type": "code",
      "metadata": {
        "colab": {
          "base_uri": "https://localhost:8080/"
        },
        "id": "BARTv1zV_qAT",
        "outputId": "8308210c-e961-4dec-e940-a4c263b5dac2"
      },
      "source": [
        "print(\"Calorias Tentempiés\")"
      ],
      "execution_count": 19,
      "outputs": [
        {
          "output_type": "stream",
          "text": [
            "Calorias Tentempiés\n"
          ],
          "name": "stdout"
        }
      ]
    },
    {
      "cell_type": "code",
      "metadata": {
        "colab": {
          "base_uri": "https://localhost:8080/"
        },
        "id": "Hf2TNdW8AC1o",
        "outputId": "ebb707f0-22cf-433f-aca7-c457f81c1417"
      },
      "source": [
        "snack = int(input())\n"
      ],
      "execution_count": 20,
      "outputs": [
        {
          "output_type": "stream",
          "text": [
            "200\n"
          ],
          "name": "stdout"
        }
      ]
    },
    {
      "cell_type": "code",
      "metadata": {
        "colab": {
          "base_uri": "https://localhost:8080/"
        },
        "id": "A5KNtmLgAQMT",
        "outputId": "527820ac-d355-4e2b-85e0-126b629e7bab"
      },
      "source": [
        "snack"
      ],
      "execution_count": 21,
      "outputs": [
        {
          "output_type": "execute_result",
          "data": {
            "text/plain": [
              "200"
            ]
          },
          "metadata": {
            "tags": []
          },
          "execution_count": 21
        }
      ]
    },
    {
      "cell_type": "code",
      "metadata": {
        "id": "NTNUlpizASYE"
      },
      "source": [
        "totalcalories = breakfast + lunch + diner + snack #aquí me he bloqueado un poco porque pensaba que pondríamos poner la función suma, pero me daba error"
      ],
      "execution_count": 28,
      "outputs": []
    },
    {
      "cell_type": "code",
      "metadata": {
        "colab": {
          "base_uri": "https://localhost:8080/"
        },
        "id": "OTCmtZe7ApHK",
        "outputId": "14948a53-b05c-47e4-929c-466d8054ea22"
      },
      "source": [
        "totalcalories"
      ],
      "execution_count": 29,
      "outputs": [
        {
          "output_type": "execute_result",
          "data": {
            "text/plain": [
              "1910"
            ]
          },
          "metadata": {
            "tags": []
          },
          "execution_count": 29
        }
      ]
    },
    {
      "cell_type": "code",
      "metadata": {
        "colab": {
          "base_uri": "https://localhost:8080/"
        },
        "id": "6lv72bzSAkKQ",
        "outputId": "692b3837-76b3-44f8-a03e-741fbd47066e"
      },
      "source": [
        "print(\"El total de las calorías del día: \" + str(date) + \" ha sido de \" + str(totalcalories) + \" kcal\")\n"
      ],
      "execution_count": 32,
      "outputs": [
        {
          "output_type": "stream",
          "text": [
            "El total de las calorías del día: 18/05/21 ha sido de 1910 kcal\n"
          ],
          "name": "stdout"
        }
      ]
    },
    {
      "cell_type": "code",
      "metadata": {
        "id": "IOToWAY3HW4a"
      },
      "source": [
        ""
      ],
      "execution_count": null,
      "outputs": []
    },
    {
      "cell_type": "code",
      "metadata": {
        "id": "9u4sWGyBARNM"
      },
      "source": [
        ""
      ],
      "execution_count": null,
      "outputs": []
    },
    {
      "cell_type": "code",
      "metadata": {
        "id": "YJ-oBvuU_nDb"
      },
      "source": [
        ""
      ],
      "execution_count": null,
      "outputs": []
    },
    {
      "cell_type": "code",
      "metadata": {
        "id": "m9hF5Oxe_ayZ"
      },
      "source": [
        ""
      ],
      "execution_count": null,
      "outputs": []
    },
    {
      "cell_type": "code",
      "metadata": {
        "id": "Y7vaBwnW_QSF"
      },
      "source": [
        ""
      ],
      "execution_count": null,
      "outputs": []
    },
    {
      "cell_type": "code",
      "metadata": {
        "id": "2xQ32FMh-2zh"
      },
      "source": [
        ""
      ],
      "execution_count": null,
      "outputs": []
    },
    {
      "cell_type": "code",
      "metadata": {
        "id": "6N8Zj1NPwipJ"
      },
      "source": [
        "# Tiene que recoger los demás datos y sumarlos\n",
        "# AQUI VUESTRO CÓDIGO"
      ],
      "execution_count": null,
      "outputs": []
    },
    {
      "cell_type": "code",
      "metadata": {
        "id": "Crw3e9Edw06d"
      },
      "source": [
        "# Sumar \n",
        "#totalCal = # sumamos las variables anteriores"
      ],
      "execution_count": null,
      "outputs": []
    },
    {
      "cell_type": "code",
      "metadata": {
        "id": "vkhH1wwLw90S"
      },
      "source": [
        "# OUTPUT\n",
        "print(\"El total de las calorías del día : \")"
      ],
      "execution_count": null,
      "outputs": []
    },
    {
      "cell_type": "code",
      "metadata": {
        "id": "DQCB4siBw7bm"
      },
      "source": [
        ""
      ],
      "execution_count": null,
      "outputs": []
    },
    {
      "cell_type": "code",
      "metadata": {
        "id": "cSIznB79wwQz"
      },
      "source": [
        ""
      ],
      "execution_count": null,
      "outputs": []
    },
    {
      "cell_type": "code",
      "metadata": {
        "id": "dyVHq-CKwgX7"
      },
      "source": [
        ""
      ],
      "execution_count": null,
      "outputs": []
    }
  ]
}