{
  "nbformat": 4,
  "nbformat_minor": 0,
  "metadata": {
    "colab": {
      "name": "02. Apache Spark on Google Colab - standalone - [dataframe]",
      "provenance": [],
      "collapsed_sections": []
    },
    "kernelspec": {
      "name": "python3",
      "display_name": "Python 3"
    },
    "language_info": {
      "name": "python"
    }
  },
  "cells": [
    {
      "cell_type": "markdown",
      "metadata": {
        "id": "gYzZbo3UNVFR"
      },
      "source": [
        "# Instalación de los paquetes Java y Pyspark"
      ]
    },
    {
      "cell_type": "code",
      "metadata": {
        "colab": {
          "base_uri": "https://localhost:8080/"
        },
        "id": "tXghHu3dNIHj",
        "outputId": "e7b7c422-396d-4c05-fad0-ed552add9e9e"
      },
      "source": [
        "!pip install pyspark\n",
        "!pip install -U -q PyDrive\n",
        "!apt install openjdk-8-jdk-headless -qq\n",
        "import os\n",
        "os.environ[\"JAVA_HOME\"] = \"/usr/lib/jvm/java-8-openjdk-amd64\""
      ],
      "execution_count": 2,
      "outputs": [
        {
          "output_type": "stream",
          "name": "stdout",
          "text": [
            "Collecting pyspark\n",
            "  Downloading pyspark-3.1.2.tar.gz (212.4 MB)\n",
            "\u001b[K     |████████████████████████████████| 212.4 MB 65 kB/s \n",
            "\u001b[?25hCollecting py4j==0.10.9\n",
            "  Downloading py4j-0.10.9-py2.py3-none-any.whl (198 kB)\n",
            "\u001b[K     |████████████████████████████████| 198 kB 58.7 MB/s \n",
            "\u001b[?25hBuilding wheels for collected packages: pyspark\n",
            "  Building wheel for pyspark (setup.py) ... \u001b[?25l\u001b[?25hdone\n",
            "  Created wheel for pyspark: filename=pyspark-3.1.2-py2.py3-none-any.whl size=212880768 sha256=2070006d4ef2117c794999a92fcb6590116ad0d9aff42837bfd51161b918acb2\n",
            "  Stored in directory: /root/.cache/pip/wheels/a5/0a/c1/9561f6fecb759579a7d863dcd846daaa95f598744e71b02c77\n",
            "Successfully built pyspark\n",
            "Installing collected packages: py4j, pyspark\n",
            "Successfully installed py4j-0.10.9 pyspark-3.1.2\n",
            "The following additional packages will be installed:\n",
            "  openjdk-8-jre-headless\n",
            "Suggested packages:\n",
            "  openjdk-8-demo openjdk-8-source libnss-mdns fonts-dejavu-extra\n",
            "  fonts-ipafont-gothic fonts-ipafont-mincho fonts-wqy-microhei\n",
            "  fonts-wqy-zenhei fonts-indic\n",
            "The following NEW packages will be installed:\n",
            "  openjdk-8-jdk-headless openjdk-8-jre-headless\n",
            "0 upgraded, 2 newly installed, 0 to remove and 37 not upgraded.\n",
            "Need to get 36.5 MB of archives.\n",
            "After this operation, 143 MB of additional disk space will be used.\n",
            "Selecting previously unselected package openjdk-8-jre-headless:amd64.\n",
            "(Reading database ... 155047 files and directories currently installed.)\n",
            "Preparing to unpack .../openjdk-8-jre-headless_8u292-b10-0ubuntu1~18.04_amd64.deb ...\n",
            "Unpacking openjdk-8-jre-headless:amd64 (8u292-b10-0ubuntu1~18.04) ...\n",
            "Selecting previously unselected package openjdk-8-jdk-headless:amd64.\n",
            "Preparing to unpack .../openjdk-8-jdk-headless_8u292-b10-0ubuntu1~18.04_amd64.deb ...\n",
            "Unpacking openjdk-8-jdk-headless:amd64 (8u292-b10-0ubuntu1~18.04) ...\n",
            "Setting up openjdk-8-jre-headless:amd64 (8u292-b10-0ubuntu1~18.04) ...\n",
            "update-alternatives: using /usr/lib/jvm/java-8-openjdk-amd64/jre/bin/orbd to provide /usr/bin/orbd (orbd) in auto mode\n",
            "update-alternatives: using /usr/lib/jvm/java-8-openjdk-amd64/jre/bin/servertool to provide /usr/bin/servertool (servertool) in auto mode\n",
            "update-alternatives: using /usr/lib/jvm/java-8-openjdk-amd64/jre/bin/tnameserv to provide /usr/bin/tnameserv (tnameserv) in auto mode\n",
            "Setting up openjdk-8-jdk-headless:amd64 (8u292-b10-0ubuntu1~18.04) ...\n",
            "update-alternatives: using /usr/lib/jvm/java-8-openjdk-amd64/bin/idlj to provide /usr/bin/idlj (idlj) in auto mode\n",
            "update-alternatives: using /usr/lib/jvm/java-8-openjdk-amd64/bin/wsimport to provide /usr/bin/wsimport (wsimport) in auto mode\n",
            "update-alternatives: using /usr/lib/jvm/java-8-openjdk-amd64/bin/jsadebugd to provide /usr/bin/jsadebugd (jsadebugd) in auto mode\n",
            "update-alternatives: using /usr/lib/jvm/java-8-openjdk-amd64/bin/native2ascii to provide /usr/bin/native2ascii (native2ascii) in auto mode\n",
            "update-alternatives: using /usr/lib/jvm/java-8-openjdk-amd64/bin/javah to provide /usr/bin/javah (javah) in auto mode\n",
            "update-alternatives: using /usr/lib/jvm/java-8-openjdk-amd64/bin/hsdb to provide /usr/bin/hsdb (hsdb) in auto mode\n",
            "update-alternatives: using /usr/lib/jvm/java-8-openjdk-amd64/bin/clhsdb to provide /usr/bin/clhsdb (clhsdb) in auto mode\n",
            "update-alternatives: using /usr/lib/jvm/java-8-openjdk-amd64/bin/extcheck to provide /usr/bin/extcheck (extcheck) in auto mode\n",
            "update-alternatives: using /usr/lib/jvm/java-8-openjdk-amd64/bin/schemagen to provide /usr/bin/schemagen (schemagen) in auto mode\n",
            "update-alternatives: using /usr/lib/jvm/java-8-openjdk-amd64/bin/xjc to provide /usr/bin/xjc (xjc) in auto mode\n",
            "update-alternatives: using /usr/lib/jvm/java-8-openjdk-amd64/bin/jhat to provide /usr/bin/jhat (jhat) in auto mode\n",
            "update-alternatives: using /usr/lib/jvm/java-8-openjdk-amd64/bin/wsgen to provide /usr/bin/wsgen (wsgen) in auto mode\n"
          ]
        }
      ]
    },
    {
      "cell_type": "markdown",
      "metadata": {
        "id": "gaWCgBy2ObB_"
      },
      "source": [
        "## Importación de las librerías"
      ]
    },
    {
      "cell_type": "code",
      "metadata": {
        "id": "w9W0TXTeNark"
      },
      "source": [
        "import pandas as pd\n",
        "import numpy as np\n",
        "import matplotlib.pyplot as plt\n",
        "%matplotlib inline\n",
        "\n",
        "import pyspark\n",
        "from pyspark.sql import *\n",
        "from pyspark.sql.types import *\n",
        "from pyspark.sql.functions import *\n",
        "from pyspark import SparkContext, SparkConf"
      ],
      "execution_count": 3,
      "outputs": []
    },
    {
      "cell_type": "code",
      "metadata": {
        "id": "iNTjQi-lN6ZW"
      },
      "source": [
        "# Creamos la configuración de sesión\n",
        "conf = SparkConf().set(\"spark.ui.port\", \"4050\")\n",
        "\n",
        "# creación del SparkContext\n",
        "sc = pyspark.SparkContext(conf=conf)\n",
        "spark = SparkSession.builder \\\n",
        "        .master(\"local\") \\\n",
        "        .appName(\"Google colab - The Bridge\") \\\n",
        "        .config(\"spark.ui.port\", \"4050\") \\\n",
        "        .getOrCreate()"
      ],
      "execution_count": 4,
      "outputs": []
    },
    {
      "cell_type": "code",
      "metadata": {
        "colab": {
          "base_uri": "https://localhost:8080/"
        },
        "id": "ulgLh7kMN1gN",
        "outputId": "6a65d978-61d5-4ab3-aaad-0351fcaac8cb"
      },
      "source": [
        "# Para monitorizar al puerto 4050 de spark\n",
        "#!wget https://bin.equinox.io/c/4VmDzA7iaHb/ngrok-stable-linux-amd64.zip\n",
        "!unzip ngrok-stable-linux-amd64.zip\n",
        "get_ipython().system_raw('./ngrok http 4050 &')\n",
        "!curl -s http://localhost:4040/api/tunnels"
      ],
      "execution_count": 25,
      "outputs": [
        {
          "output_type": "stream",
          "name": "stdout",
          "text": [
            "Archive:  ngrok-stable-linux-amd64.zip\n",
            "replace ngrok? [y]es, [n]o, [A]ll, [N]one, [r]ename: y\n",
            "  inflating: ngrok                   \n",
            "{\"tunnels\":[{\"name\":\"command_line (http)\",\"uri\":\"/api/tunnels/command_line%20%28http%29\",\"public_url\":\"http://b7ea-35-245-31-45.ngrok.io\",\"proto\":\"http\",\"config\":{\"addr\":\"http://localhost:4050\",\"inspect\":true},\"metrics\":{\"conns\":{\"count\":0,\"gauge\":0,\"rate1\":0,\"rate5\":0,\"rate15\":0,\"p50\":0,\"p90\":0,\"p95\":0,\"p99\":0},\"http\":{\"count\":0,\"rate1\":0,\"rate5\":0,\"rate15\":0,\"p50\":0,\"p90\":0,\"p95\":0,\"p99\":0}}},{\"name\":\"command_line\",\"uri\":\"/api/tunnels/command_line\",\"public_url\":\"https://b7ea-35-245-31-45.ngrok.io\",\"proto\":\"https\",\"config\":{\"addr\":\"http://localhost:4050\",\"inspect\":true},\"metrics\":{\"conns\":{\"count\":0,\"gauge\":0,\"rate1\":0,\"rate5\":0,\"rate15\":0,\"p50\":0,\"p90\":0,\"p95\":0,\"p99\":0},\"http\":{\"count\":0,\"rate1\":0,\"rate5\":0,\"rate15\":0,\"p50\":0,\"p90\":0,\"p95\":0,\"p99\":0}}}],\"uri\":\"/api/tunnels\"}\n"
          ]
        }
      ]
    },
    {
      "cell_type": "markdown",
      "metadata": {
        "id": "4DK2b3fsOlLp"
      },
      "source": [
        "## Importamos nuestro dataset\n",
        "\n",
        "Conviene leer la documentación de `spark.read` https://spark.apache.org/docs/latest/sql-data-sources-load-save-functions.html"
      ]
    },
    {
      "cell_type": "code",
      "metadata": {
        "colab": {
          "base_uri": "https://localhost:8080/"
        },
        "id": "cpOAVMGCEFyo",
        "outputId": "3650840c-d3ee-42f9-ce15-4407cd8acefa"
      },
      "source": [
        "!wget https://github.com/marcusRB/The_Bridge_School_DataScience_PT/blob/main/02_DataAnalysis/dataset/train_oSwQCTC.zip"
      ],
      "execution_count": 28,
      "outputs": [
        {
          "output_type": "stream",
          "name": "stdout",
          "text": [
            "--2021-10-02 08:14:37--  https://github.com/marcusRB/The_Bridge_School_DataScience_PT/blob/main/02_DataAnalysis/dataset/train_oSwQCTC.zip\n",
            "Resolving github.com (github.com)... 140.82.112.3\n",
            "Connecting to github.com (github.com)|140.82.112.3|:443... connected.\n",
            "HTTP request sent, awaiting response... 200 OK\n",
            "Length: unspecified [text/html]\n",
            "Saving to: ‘train_oSwQCTC.zip’\n",
            "\n",
            "\rtrain_oSwQCTC.zip       [<=>                 ]       0  --.-KB/s               \rtrain_oSwQCTC.zip       [ <=>                ] 129.75K  --.-KB/s    in 0.007s  \n",
            "\n",
            "2021-10-02 08:14:37 (18.7 MB/s) - ‘train_oSwQCTC.zip’ saved [132859]\n",
            "\n"
          ]
        }
      ]
    },
    {
      "cell_type": "code",
      "metadata": {
        "colab": {
          "base_uri": "https://localhost:8080/"
        },
        "id": "jrkXSbFeOnSJ",
        "outputId": "b562cb59-937d-40d5-88a9-bde2445c2523"
      },
      "source": [
        "!unzip /content/train_oSwQCTC.zip"
      ],
      "execution_count": 10,
      "outputs": [
        {
          "output_type": "stream",
          "name": "stdout",
          "text": [
            "Archive:  /content/train_oSwQCTC.zip\n",
            "  inflating: train.csv               \n"
          ]
        }
      ]
    },
    {
      "cell_type": "markdown",
      "metadata": {
        "id": "JMApoyNlFG6m"
      },
      "source": [
        "## Funciones básicas de SparkSQL - Dataframe\n",
        "\n",
        "https://spark.apache.org/docs/latest/sql-programming-guide.html"
      ]
    },
    {
      "cell_type": "code",
      "metadata": {
        "id": "rpD-yWl9ODEZ"
      },
      "source": [
        "# Creamos nuestro dataframe\n",
        "df = spark.read.csv(\"/content/train.csv\", header=True, inferSchema=True)"
      ],
      "execution_count": 11,
      "outputs": []
    },
    {
      "cell_type": "code",
      "metadata": {
        "colab": {
          "base_uri": "https://localhost:8080/"
        },
        "id": "EWQHxiYsFPbt",
        "outputId": "7f33a4ee-02db-4eca-f84a-27e6bb862ea4"
      },
      "source": [
        "# Comprobar el tipo de objeto\n",
        "type(df)"
      ],
      "execution_count": 29,
      "outputs": [
        {
          "output_type": "execute_result",
          "data": {
            "text/plain": [
              "pyspark.sql.dataframe.DataFrame"
            ]
          },
          "metadata": {},
          "execution_count": 29
        }
      ]
    },
    {
      "cell_type": "code",
      "metadata": {
        "colab": {
          "base_uri": "https://localhost:8080/"
        },
        "id": "75VX1RfGFVXB",
        "outputId": "d77bf378-b69b-43a3-ddbd-388e9c45ee9e"
      },
      "source": [
        "df_pandas = pd.read_csv(\"/content/train.csv\")\n",
        "type(df_pandas)"
      ],
      "execution_count": 31,
      "outputs": [
        {
          "output_type": "execute_result",
          "data": {
            "text/plain": [
              "pandas.core.frame.DataFrame"
            ]
          },
          "metadata": {},
          "execution_count": 31
        }
      ]
    },
    {
      "cell_type": "code",
      "metadata": {
        "colab": {
          "base_uri": "https://localhost:8080/",
          "height": 226
        },
        "id": "Og8916WcFcwh",
        "outputId": "0849b8a5-067b-4895-e18a-5b76bf841c16"
      },
      "source": [
        "df_pandas.head()"
      ],
      "execution_count": 32,
      "outputs": [
        {
          "output_type": "execute_result",
          "data": {
            "text/html": [
              "<div>\n",
              "<style scoped>\n",
              "    .dataframe tbody tr th:only-of-type {\n",
              "        vertical-align: middle;\n",
              "    }\n",
              "\n",
              "    .dataframe tbody tr th {\n",
              "        vertical-align: top;\n",
              "    }\n",
              "\n",
              "    .dataframe thead th {\n",
              "        text-align: right;\n",
              "    }\n",
              "</style>\n",
              "<table border=\"1\" class=\"dataframe\">\n",
              "  <thead>\n",
              "    <tr style=\"text-align: right;\">\n",
              "      <th></th>\n",
              "      <th>User_ID</th>\n",
              "      <th>Product_ID</th>\n",
              "      <th>Gender</th>\n",
              "      <th>Age</th>\n",
              "      <th>Occupation</th>\n",
              "      <th>City_Category</th>\n",
              "      <th>Stay_In_Current_City_Years</th>\n",
              "      <th>Marital_Status</th>\n",
              "      <th>Product_Category_1</th>\n",
              "      <th>Product_Category_2</th>\n",
              "      <th>Product_Category_3</th>\n",
              "      <th>Purchase</th>\n",
              "    </tr>\n",
              "  </thead>\n",
              "  <tbody>\n",
              "    <tr>\n",
              "      <th>0</th>\n",
              "      <td>1000001</td>\n",
              "      <td>P00069042</td>\n",
              "      <td>F</td>\n",
              "      <td>0-17</td>\n",
              "      <td>10</td>\n",
              "      <td>A</td>\n",
              "      <td>2</td>\n",
              "      <td>0</td>\n",
              "      <td>3</td>\n",
              "      <td>NaN</td>\n",
              "      <td>NaN</td>\n",
              "      <td>8370</td>\n",
              "    </tr>\n",
              "    <tr>\n",
              "      <th>1</th>\n",
              "      <td>1000001</td>\n",
              "      <td>P00248942</td>\n",
              "      <td>F</td>\n",
              "      <td>0-17</td>\n",
              "      <td>10</td>\n",
              "      <td>A</td>\n",
              "      <td>2</td>\n",
              "      <td>0</td>\n",
              "      <td>1</td>\n",
              "      <td>6.0</td>\n",
              "      <td>14.0</td>\n",
              "      <td>15200</td>\n",
              "    </tr>\n",
              "    <tr>\n",
              "      <th>2</th>\n",
              "      <td>1000001</td>\n",
              "      <td>P00087842</td>\n",
              "      <td>F</td>\n",
              "      <td>0-17</td>\n",
              "      <td>10</td>\n",
              "      <td>A</td>\n",
              "      <td>2</td>\n",
              "      <td>0</td>\n",
              "      <td>12</td>\n",
              "      <td>NaN</td>\n",
              "      <td>NaN</td>\n",
              "      <td>1422</td>\n",
              "    </tr>\n",
              "    <tr>\n",
              "      <th>3</th>\n",
              "      <td>1000001</td>\n",
              "      <td>P00085442</td>\n",
              "      <td>F</td>\n",
              "      <td>0-17</td>\n",
              "      <td>10</td>\n",
              "      <td>A</td>\n",
              "      <td>2</td>\n",
              "      <td>0</td>\n",
              "      <td>12</td>\n",
              "      <td>14.0</td>\n",
              "      <td>NaN</td>\n",
              "      <td>1057</td>\n",
              "    </tr>\n",
              "    <tr>\n",
              "      <th>4</th>\n",
              "      <td>1000002</td>\n",
              "      <td>P00285442</td>\n",
              "      <td>M</td>\n",
              "      <td>55+</td>\n",
              "      <td>16</td>\n",
              "      <td>C</td>\n",
              "      <td>4+</td>\n",
              "      <td>0</td>\n",
              "      <td>8</td>\n",
              "      <td>NaN</td>\n",
              "      <td>NaN</td>\n",
              "      <td>7969</td>\n",
              "    </tr>\n",
              "  </tbody>\n",
              "</table>\n",
              "</div>"
            ],
            "text/plain": [
              "   User_ID Product_ID Gender  ... Product_Category_2  Product_Category_3 Purchase\n",
              "0  1000001  P00069042      F  ...                NaN                 NaN     8370\n",
              "1  1000001  P00248942      F  ...                6.0                14.0    15200\n",
              "2  1000001  P00087842      F  ...                NaN                 NaN     1422\n",
              "3  1000001  P00085442      F  ...               14.0                 NaN     1057\n",
              "4  1000002  P00285442      M  ...                NaN                 NaN     7969\n",
              "\n",
              "[5 rows x 12 columns]"
            ]
          },
          "metadata": {},
          "execution_count": 32
        }
      ]
    },
    {
      "cell_type": "code",
      "metadata": {
        "colab": {
          "base_uri": "https://localhost:8080/"
        },
        "id": "iN5aKYhAF2Z9",
        "outputId": "5eacce21-8eaf-45fe-c5f6-b3b7e845be43"
      },
      "source": [
        "df.show()"
      ],
      "execution_count": 33,
      "outputs": [
        {
          "output_type": "stream",
          "name": "stdout",
          "text": [
            "+-------+----------+------+-----+----------+-------------+--------------------------+--------------+------------------+------------------+------------------+--------+\n",
            "|User_ID|Product_ID|Gender|  Age|Occupation|City_Category|Stay_In_Current_City_Years|Marital_Status|Product_Category_1|Product_Category_2|Product_Category_3|Purchase|\n",
            "+-------+----------+------+-----+----------+-------------+--------------------------+--------------+------------------+------------------+------------------+--------+\n",
            "|1000001| P00069042|     F| 0-17|        10|            A|                         2|             0|                 3|              null|              null|    8370|\n",
            "|1000001| P00248942|     F| 0-17|        10|            A|                         2|             0|                 1|                 6|                14|   15200|\n",
            "|1000001| P00087842|     F| 0-17|        10|            A|                         2|             0|                12|              null|              null|    1422|\n",
            "|1000001| P00085442|     F| 0-17|        10|            A|                         2|             0|                12|                14|              null|    1057|\n",
            "|1000002| P00285442|     M|  55+|        16|            C|                        4+|             0|                 8|              null|              null|    7969|\n",
            "|1000003| P00193542|     M|26-35|        15|            A|                         3|             0|                 1|                 2|              null|   15227|\n",
            "|1000004| P00184942|     M|46-50|         7|            B|                         2|             1|                 1|                 8|                17|   19215|\n",
            "|1000004| P00346142|     M|46-50|         7|            B|                         2|             1|                 1|                15|              null|   15854|\n",
            "|1000004|  P0097242|     M|46-50|         7|            B|                         2|             1|                 1|                16|              null|   15686|\n",
            "|1000005| P00274942|     M|26-35|        20|            A|                         1|             1|                 8|              null|              null|    7871|\n",
            "|1000005| P00251242|     M|26-35|        20|            A|                         1|             1|                 5|                11|              null|    5254|\n",
            "|1000005| P00014542|     M|26-35|        20|            A|                         1|             1|                 8|              null|              null|    3957|\n",
            "|1000005| P00031342|     M|26-35|        20|            A|                         1|             1|                 8|              null|              null|    6073|\n",
            "|1000005| P00145042|     M|26-35|        20|            A|                         1|             1|                 1|                 2|                 5|   15665|\n",
            "|1000006| P00231342|     F|51-55|         9|            A|                         1|             0|                 5|                 8|                14|    5378|\n",
            "|1000006| P00190242|     F|51-55|         9|            A|                         1|             0|                 4|                 5|              null|    2079|\n",
            "|1000006|  P0096642|     F|51-55|         9|            A|                         1|             0|                 2|                 3|                 4|   13055|\n",
            "|1000006| P00058442|     F|51-55|         9|            A|                         1|             0|                 5|                14|              null|    8851|\n",
            "|1000007| P00036842|     M|36-45|         1|            B|                         1|             1|                 1|                14|                16|   11788|\n",
            "|1000008| P00249542|     M|26-35|        12|            C|                        4+|             1|                 1|                 5|                15|   19614|\n",
            "+-------+----------+------+-----+----------+-------------+--------------------------+--------------+------------------+------------------+------------------+--------+\n",
            "only showing top 20 rows\n",
            "\n"
          ]
        }
      ]
    },
    {
      "cell_type": "code",
      "metadata": {
        "colab": {
          "base_uri": "https://localhost:8080/"
        },
        "id": "1ZT8iqJ7RDbP",
        "outputId": "9a9419cb-2100-464a-90f1-78914c3470ed"
      },
      "source": [
        "# Para poder observar el esquema de spark con printSchema()\n",
        "df.printSchema()"
      ],
      "execution_count": 12,
      "outputs": [
        {
          "output_type": "stream",
          "name": "stdout",
          "text": [
            "root\n",
            " |-- User_ID: integer (nullable = true)\n",
            " |-- Product_ID: string (nullable = true)\n",
            " |-- Gender: string (nullable = true)\n",
            " |-- Age: string (nullable = true)\n",
            " |-- Occupation: integer (nullable = true)\n",
            " |-- City_Category: string (nullable = true)\n",
            " |-- Stay_In_Current_City_Years: string (nullable = true)\n",
            " |-- Marital_Status: integer (nullable = true)\n",
            " |-- Product_Category_1: integer (nullable = true)\n",
            " |-- Product_Category_2: integer (nullable = true)\n",
            " |-- Product_Category_3: integer (nullable = true)\n",
            " |-- Purchase: integer (nullable = true)\n",
            "\n"
          ]
        }
      ]
    },
    {
      "cell_type": "code",
      "metadata": {
        "colab": {
          "base_uri": "https://localhost:8080/"
        },
        "id": "aYb_Y6PiR6mq",
        "outputId": "e22e4805-abfe-452c-f6e9-0b7a58ad3cae"
      },
      "source": [
        "# muestra los datos con datraframe.show()\n",
        "df.show()"
      ],
      "execution_count": 13,
      "outputs": [
        {
          "output_type": "stream",
          "name": "stdout",
          "text": [
            "+-------+----------+------+-----+----------+-------------+--------------------------+--------------+------------------+------------------+------------------+--------+\n",
            "|User_ID|Product_ID|Gender|  Age|Occupation|City_Category|Stay_In_Current_City_Years|Marital_Status|Product_Category_1|Product_Category_2|Product_Category_3|Purchase|\n",
            "+-------+----------+------+-----+----------+-------------+--------------------------+--------------+------------------+------------------+------------------+--------+\n",
            "|1000001| P00069042|     F| 0-17|        10|            A|                         2|             0|                 3|              null|              null|    8370|\n",
            "|1000001| P00248942|     F| 0-17|        10|            A|                         2|             0|                 1|                 6|                14|   15200|\n",
            "|1000001| P00087842|     F| 0-17|        10|            A|                         2|             0|                12|              null|              null|    1422|\n",
            "|1000001| P00085442|     F| 0-17|        10|            A|                         2|             0|                12|                14|              null|    1057|\n",
            "|1000002| P00285442|     M|  55+|        16|            C|                        4+|             0|                 8|              null|              null|    7969|\n",
            "|1000003| P00193542|     M|26-35|        15|            A|                         3|             0|                 1|                 2|              null|   15227|\n",
            "|1000004| P00184942|     M|46-50|         7|            B|                         2|             1|                 1|                 8|                17|   19215|\n",
            "|1000004| P00346142|     M|46-50|         7|            B|                         2|             1|                 1|                15|              null|   15854|\n",
            "|1000004|  P0097242|     M|46-50|         7|            B|                         2|             1|                 1|                16|              null|   15686|\n",
            "|1000005| P00274942|     M|26-35|        20|            A|                         1|             1|                 8|              null|              null|    7871|\n",
            "|1000005| P00251242|     M|26-35|        20|            A|                         1|             1|                 5|                11|              null|    5254|\n",
            "|1000005| P00014542|     M|26-35|        20|            A|                         1|             1|                 8|              null|              null|    3957|\n",
            "|1000005| P00031342|     M|26-35|        20|            A|                         1|             1|                 8|              null|              null|    6073|\n",
            "|1000005| P00145042|     M|26-35|        20|            A|                         1|             1|                 1|                 2|                 5|   15665|\n",
            "|1000006| P00231342|     F|51-55|         9|            A|                         1|             0|                 5|                 8|                14|    5378|\n",
            "|1000006| P00190242|     F|51-55|         9|            A|                         1|             0|                 4|                 5|              null|    2079|\n",
            "|1000006|  P0096642|     F|51-55|         9|            A|                         1|             0|                 2|                 3|                 4|   13055|\n",
            "|1000006| P00058442|     F|51-55|         9|            A|                         1|             0|                 5|                14|              null|    8851|\n",
            "|1000007| P00036842|     M|36-45|         1|            B|                         1|             1|                 1|                14|                16|   11788|\n",
            "|1000008| P00249542|     M|26-35|        12|            C|                        4+|             1|                 1|                 5|                15|   19614|\n",
            "+-------+----------+------+-----+----------+-------------+--------------------------+--------------+------------------+------------------+------------------+--------+\n",
            "only showing top 20 rows\n",
            "\n"
          ]
        }
      ]
    },
    {
      "cell_type": "code",
      "metadata": {
        "colab": {
          "base_uri": "https://localhost:8080/"
        },
        "id": "RXHn_EsTSTnb",
        "outputId": "05150615-3bba-4da6-d5a2-edcc0b4de41a"
      },
      "source": [
        "df.show(5, True, True) # para leerlo en vertical "
      ],
      "execution_count": 14,
      "outputs": [
        {
          "output_type": "stream",
          "name": "stdout",
          "text": [
            "-RECORD 0-------------------------------\n",
            " User_ID                    | 1000001   \n",
            " Product_ID                 | P00069042 \n",
            " Gender                     | F         \n",
            " Age                        | 0-17      \n",
            " Occupation                 | 10        \n",
            " City_Category              | A         \n",
            " Stay_In_Current_City_Years | 2         \n",
            " Marital_Status             | 0         \n",
            " Product_Category_1         | 3         \n",
            " Product_Category_2         | null      \n",
            " Product_Category_3         | null      \n",
            " Purchase                   | 8370      \n",
            "-RECORD 1-------------------------------\n",
            " User_ID                    | 1000001   \n",
            " Product_ID                 | P00248942 \n",
            " Gender                     | F         \n",
            " Age                        | 0-17      \n",
            " Occupation                 | 10        \n",
            " City_Category              | A         \n",
            " Stay_In_Current_City_Years | 2         \n",
            " Marital_Status             | 0         \n",
            " Product_Category_1         | 1         \n",
            " Product_Category_2         | 6         \n",
            " Product_Category_3         | 14        \n",
            " Purchase                   | 15200     \n",
            "-RECORD 2-------------------------------\n",
            " User_ID                    | 1000001   \n",
            " Product_ID                 | P00087842 \n",
            " Gender                     | F         \n",
            " Age                        | 0-17      \n",
            " Occupation                 | 10        \n",
            " City_Category              | A         \n",
            " Stay_In_Current_City_Years | 2         \n",
            " Marital_Status             | 0         \n",
            " Product_Category_1         | 12        \n",
            " Product_Category_2         | null      \n",
            " Product_Category_3         | null      \n",
            " Purchase                   | 1422      \n",
            "-RECORD 3-------------------------------\n",
            " User_ID                    | 1000001   \n",
            " Product_ID                 | P00085442 \n",
            " Gender                     | F         \n",
            " Age                        | 0-17      \n",
            " Occupation                 | 10        \n",
            " City_Category              | A         \n",
            " Stay_In_Current_City_Years | 2         \n",
            " Marital_Status             | 0         \n",
            " Product_Category_1         | 12        \n",
            " Product_Category_2         | 14        \n",
            " Product_Category_3         | null      \n",
            " Purchase                   | 1057      \n",
            "-RECORD 4-------------------------------\n",
            " User_ID                    | 1000002   \n",
            " Product_ID                 | P00285442 \n",
            " Gender                     | M         \n",
            " Age                        | 55+       \n",
            " Occupation                 | 16        \n",
            " City_Category              | C         \n",
            " Stay_In_Current_City_Years | 4+        \n",
            " Marital_Status             | 0         \n",
            " Product_Category_1         | 8         \n",
            " Product_Category_2         | null      \n",
            " Product_Category_3         | null      \n",
            " Purchase                   | 7969      \n",
            "only showing top 5 rows\n",
            "\n"
          ]
        }
      ]
    },
    {
      "cell_type": "code",
      "metadata": {
        "colab": {
          "base_uri": "https://localhost:8080/"
        },
        "id": "gL8GXEGeSbwF",
        "outputId": "bb2d9322-17bf-493f-e69c-3992ae0e06e1"
      },
      "source": [
        "df.show(5, False, False)"
      ],
      "execution_count": 15,
      "outputs": [
        {
          "output_type": "stream",
          "name": "stdout",
          "text": [
            "+-------+----------+------+----+----------+-------------+--------------------------+--------------+------------------+------------------+------------------+--------+\n",
            "|User_ID|Product_ID|Gender|Age |Occupation|City_Category|Stay_In_Current_City_Years|Marital_Status|Product_Category_1|Product_Category_2|Product_Category_3|Purchase|\n",
            "+-------+----------+------+----+----------+-------------+--------------------------+--------------+------------------+------------------+------------------+--------+\n",
            "|1000001|P00069042 |F     |0-17|10        |A            |2                         |0             |3                 |null              |null              |8370    |\n",
            "|1000001|P00248942 |F     |0-17|10        |A            |2                         |0             |1                 |6                 |14                |15200   |\n",
            "|1000001|P00087842 |F     |0-17|10        |A            |2                         |0             |12                |null              |null              |1422    |\n",
            "|1000001|P00085442 |F     |0-17|10        |A            |2                         |0             |12                |14                |null              |1057    |\n",
            "|1000002|P00285442 |M     |55+ |16        |C            |4+                        |0             |8                 |null              |null              |7969    |\n",
            "+-------+----------+------+----+----------+-------------+--------------------------+--------------+------------------+------------------+------------------+--------+\n",
            "only showing top 5 rows\n",
            "\n"
          ]
        }
      ]
    },
    {
      "cell_type": "code",
      "metadata": {
        "colab": {
          "base_uri": "https://localhost:8080/"
        },
        "id": "JT8Q-lduSqb9",
        "outputId": "4a9640a5-9ade-4dff-8513-aa0e796b9dc4"
      },
      "source": [
        "df.head(5)"
      ],
      "execution_count": 34,
      "outputs": [
        {
          "output_type": "execute_result",
          "data": {
            "text/plain": [
              "[Row(User_ID=1000001, Product_ID='P00069042', Gender='F', Age='0-17', Occupation=10, City_Category='A', Stay_In_Current_City_Years='2', Marital_Status=0, Product_Category_1=3, Product_Category_2=None, Product_Category_3=None, Purchase=8370),\n",
              " Row(User_ID=1000001, Product_ID='P00248942', Gender='F', Age='0-17', Occupation=10, City_Category='A', Stay_In_Current_City_Years='2', Marital_Status=0, Product_Category_1=1, Product_Category_2=6, Product_Category_3=14, Purchase=15200),\n",
              " Row(User_ID=1000001, Product_ID='P00087842', Gender='F', Age='0-17', Occupation=10, City_Category='A', Stay_In_Current_City_Years='2', Marital_Status=0, Product_Category_1=12, Product_Category_2=None, Product_Category_3=None, Purchase=1422),\n",
              " Row(User_ID=1000001, Product_ID='P00085442', Gender='F', Age='0-17', Occupation=10, City_Category='A', Stay_In_Current_City_Years='2', Marital_Status=0, Product_Category_1=12, Product_Category_2=14, Product_Category_3=None, Purchase=1057),\n",
              " Row(User_ID=1000002, Product_ID='P00285442', Gender='M', Age='55+', Occupation=16, City_Category='C', Stay_In_Current_City_Years='4+', Marital_Status=0, Product_Category_1=8, Product_Category_2=None, Product_Category_3=None, Purchase=7969)]"
            ]
          },
          "metadata": {},
          "execution_count": 34
        }
      ]
    },
    {
      "cell_type": "code",
      "metadata": {
        "colab": {
          "base_uri": "https://localhost:8080/"
        },
        "id": "X8AgLClnHLzC",
        "outputId": "d56bee8a-24b2-46ef-aff2-70c2f3553c37"
      },
      "source": [
        "type(df)"
      ],
      "execution_count": 35,
      "outputs": [
        {
          "output_type": "execute_result",
          "data": {
            "text/plain": [
              "pyspark.sql.dataframe.DataFrame"
            ]
          },
          "metadata": {},
          "execution_count": 35
        }
      ]
    },
    {
      "cell_type": "code",
      "metadata": {
        "colab": {
          "base_uri": "https://localhost:8080/"
        },
        "id": "UvmvcvY2TZmB",
        "outputId": "af4b23c7-b88c-45a1-90e7-93f0cbad7e89"
      },
      "source": [
        "df.count()"
      ],
      "execution_count": 17,
      "outputs": [
        {
          "output_type": "execute_result",
          "data": {
            "text/plain": [
              "550068"
            ]
          },
          "metadata": {},
          "execution_count": 17
        }
      ]
    },
    {
      "cell_type": "code",
      "metadata": {
        "id": "OtMag1aLTtZL"
      },
      "source": [
        "# visualizar algunas de las columnas\n",
        "subset_1 = df \\\n",
        "  .select(\"User_ID\", \"Gender\", \"Age\", \"Occupation\")"
      ],
      "execution_count": 18,
      "outputs": []
    },
    {
      "cell_type": "code",
      "metadata": {
        "colab": {
          "base_uri": "https://localhost:8080/"
        },
        "id": "lLoN-XTCUHah",
        "outputId": "031fc6e2-c7bf-4986-da55-26bb58ca850f"
      },
      "source": [
        "# Observamos el tipo de objeto creado\n",
        "type(subset_1)"
      ],
      "execution_count": 19,
      "outputs": [
        {
          "output_type": "execute_result",
          "data": {
            "text/plain": [
              "pyspark.sql.dataframe.DataFrame"
            ]
          },
          "metadata": {},
          "execution_count": 19
        }
      ]
    },
    {
      "cell_type": "code",
      "metadata": {
        "colab": {
          "base_uri": "https://localhost:8080/"
        },
        "id": "Ml52YSKVVSyZ",
        "outputId": "f024837d-ef53-4512-ba8a-d623b74db950"
      },
      "source": [
        "# en este caso mostramos las 10 primeras filas\n",
        "subset_1.show(10)"
      ],
      "execution_count": 20,
      "outputs": [
        {
          "output_type": "stream",
          "name": "stdout",
          "text": [
            "+-------+------+-----+----------+\n",
            "|User_ID|Gender|  Age|Occupation|\n",
            "+-------+------+-----+----------+\n",
            "|1000001|     F| 0-17|        10|\n",
            "|1000001|     F| 0-17|        10|\n",
            "|1000001|     F| 0-17|        10|\n",
            "|1000001|     F| 0-17|        10|\n",
            "|1000002|     M|  55+|        16|\n",
            "|1000003|     M|26-35|        15|\n",
            "|1000004|     M|46-50|         7|\n",
            "|1000004|     M|46-50|         7|\n",
            "|1000004|     M|46-50|         7|\n",
            "|1000005|     M|26-35|        20|\n",
            "+-------+------+-----+----------+\n",
            "only showing top 10 rows\n",
            "\n"
          ]
        }
      ]
    },
    {
      "cell_type": "code",
      "metadata": {
        "colab": {
          "base_uri": "https://localhost:8080/"
        },
        "id": "NbcUdojuU25D",
        "outputId": "74dcadf2-a2e3-4be8-9dd0-8c9542b1cdbc"
      },
      "source": [
        "# describimos las columnas\n",
        "df \\\n",
        "  .describe() \\\n",
        "  .show(10)"
      ],
      "execution_count": 21,
      "outputs": [
        {
          "output_type": "stream",
          "name": "stdout",
          "text": [
            "+-------+------------------+----------+------+------+-----------------+-------------+--------------------------+-------------------+------------------+------------------+------------------+-----------------+\n",
            "|summary|           User_ID|Product_ID|Gender|   Age|       Occupation|City_Category|Stay_In_Current_City_Years|     Marital_Status|Product_Category_1|Product_Category_2|Product_Category_3|         Purchase|\n",
            "+-------+------------------+----------+------+------+-----------------+-------------+--------------------------+-------------------+------------------+------------------+------------------+-----------------+\n",
            "|  count|            550068|    550068|550068|550068|           550068|       550068|                    550068|             550068|            550068|            376430|            166821|           550068|\n",
            "|   mean|1003028.8424013031|      null|  null|  null|8.076706879876669|         null|         1.468494139793958|0.40965298835780306| 5.404270017525106| 9.842329251122386|12.668243206790512|9263.968712959126|\n",
            "| stddev|1727.5915855313747|      null|  null|  null|6.522660487341741|         null|        0.9890866807573103| 0.4917701263173315| 3.936211369201365| 5.086589648693497| 4.125337631575274|5023.065393820575|\n",
            "|    min|           1000001| P00000142|     F|  0-17|                0|            A|                         0|                  0|                 1|                 2|                 3|               12|\n",
            "|    max|           1006040|  P0099942|     M|   55+|               20|            C|                        4+|                  1|                20|                18|                18|            23961|\n",
            "+-------+------------------+----------+------+------+-----------------+-------------+--------------------------+-------------------+------------------+------------------+------------------+-----------------+\n",
            "\n"
          ]
        }
      ]
    },
    {
      "cell_type": "markdown",
      "metadata": {
        "id": "-YThEq-oIpBR"
      },
      "source": [
        "### Funciones en Spark\n",
        "https://spark.apache.org/docs/2.1.0/api/python/pyspark.sql.html?highlight=sparksession#module-pyspark.sql.functions"
      ]
    },
    {
      "cell_type": "code",
      "metadata": {
        "id": "24dKRmh_VpDA"
      },
      "source": [
        "# Importamos las funciones de pyspark\n",
        "from pyspark.sql import functions as F"
      ],
      "execution_count": 36,
      "outputs": []
    },
    {
      "cell_type": "code",
      "metadata": {
        "colab": {
          "base_uri": "https://localhost:8080/"
        },
        "id": "Zm8bnNexHxTF",
        "outputId": "75a81ac9-e42c-49b3-cd0d-2a30088a1c11"
      },
      "source": [
        "# Realizamos una agregación con groupBy con la función de agregación agg() y sum()\n",
        "df \\\n",
        "  .groupBy(\"City_Category\") \\\n",
        "  .agg(F.sum(\"Purchase\")) \\\n",
        "  .show(5)"
      ],
      "execution_count": 41,
      "outputs": [
        {
          "output_type": "stream",
          "name": "stdout",
          "text": [
            "+-------------+-------------+\n",
            "|City_Category|sum(Purchase)|\n",
            "+-------------+-------------+\n",
            "|            B|   2115533605|\n",
            "|            C|   1663807476|\n",
            "|            A|   1316471661|\n",
            "+-------------+-------------+\n",
            "\n"
          ]
        }
      ]
    },
    {
      "cell_type": "code",
      "metadata": {
        "id": "-qCwuC06UeGN",
        "colab": {
          "base_uri": "https://localhost:8080/"
        },
        "outputId": "05e57c4f-d87d-467b-bbac-bbc094d803cd"
      },
      "source": [
        "# lo mismo anterior solamente con la función nativa de Python sum()\n",
        "df \\\n",
        "  .groupBy(\"City_Category\") \\\n",
        "  .agg(sum(\"Purchase\")) \\\n",
        "  .show(5)"
      ],
      "execution_count": 42,
      "outputs": [
        {
          "output_type": "stream",
          "name": "stdout",
          "text": [
            "+-------------+-------------+\n",
            "|City_Category|sum(Purchase)|\n",
            "+-------------+-------------+\n",
            "|            B|   2115533605|\n",
            "|            C|   1663807476|\n",
            "|            A|   1316471661|\n",
            "+-------------+-------------+\n",
            "\n"
          ]
        }
      ]
    },
    {
      "cell_type": "code",
      "metadata": {
        "colab": {
          "base_uri": "https://localhost:8080/"
        },
        "id": "hlgdT7fxJgDf",
        "outputId": "32570530-c0c8-44b1-898e-e72ec389eb5c"
      },
      "source": [
        "# Operación de conteo y eliminación de valores nulos\n",
        "df \\\n",
        "  .select([F.count(F.when(F.isnull(c), c)) \\\n",
        "           .alias(c) for c in df.columns]) \\\n",
        "  .show(5, False, True)"
      ],
      "execution_count": 46,
      "outputs": [
        {
          "output_type": "stream",
          "name": "stdout",
          "text": [
            "-RECORD 0----------------------------\n",
            " User_ID                    | 0      \n",
            " Product_ID                 | 0      \n",
            " Gender                     | 0      \n",
            " Age                        | 0      \n",
            " Occupation                 | 0      \n",
            " City_Category              | 0      \n",
            " Stay_In_Current_City_Years | 0      \n",
            " Marital_Status             | 0      \n",
            " Product_Category_1         | 0      \n",
            " Product_Category_2         | 173638 \n",
            " Product_Category_3         | 383247 \n",
            " Purchase                   | 0      \n",
            "\n"
          ]
        }
      ]
    },
    {
      "cell_type": "code",
      "metadata": {
        "id": "psIJvV11LXFF"
      },
      "source": [
        "# utilizamos fillna()\n",
        "df = df \\\n",
        "        .fillna({'Product_Category_2':0,\n",
        "                 'Product_Category_3':0})"
      ],
      "execution_count": 50,
      "outputs": []
    },
    {
      "cell_type": "code",
      "metadata": {
        "colab": {
          "base_uri": "https://localhost:8080/"
        },
        "id": "GqEiEWDGLswk",
        "outputId": "1dcb1d4c-3964-422b-9b62-bb75e4ac453d"
      },
      "source": [
        "# verificando los cambios efectuados\n",
        "df \\\n",
        "  .select([F.count(F.when(F.isnull(c), c)) \\\n",
        "           .alias(c) for c in df.columns]) \\\n",
        "  .show(5, False, True)"
      ],
      "execution_count": 52,
      "outputs": [
        {
          "output_type": "stream",
          "name": "stdout",
          "text": [
            "-RECORD 0-------------------------\n",
            " User_ID                    | 0   \n",
            " Product_ID                 | 0   \n",
            " Gender                     | 0   \n",
            " Age                        | 0   \n",
            " Occupation                 | 0   \n",
            " City_Category              | 0   \n",
            " Stay_In_Current_City_Years | 0   \n",
            " Marital_Status             | 0   \n",
            " Product_Category_1         | 0   \n",
            " Product_Category_2         | 0   \n",
            " Product_Category_3         | 0   \n",
            " Purchase                   | 0   \n",
            "\n"
          ]
        }
      ]
    },
    {
      "cell_type": "markdown",
      "metadata": {
        "id": "f_sTyppyM7mI"
      },
      "source": [
        "## Manipulación de ficheros en Spark"
      ]
    },
    {
      "cell_type": "code",
      "metadata": {
        "id": "YQkpHrWqM-ta"
      },
      "source": [
        "# Realizando una escritura en nuestra carpeta content\n",
        "df \\\n",
        "  .write.csv(\n",
        "      \"/content/preprocessed_data\"\n",
        "  )"
      ],
      "execution_count": 56,
      "outputs": []
    },
    {
      "cell_type": "code",
      "metadata": {
        "id": "5R-6dUtKMvnu"
      },
      "source": [
        "df.write.csv(\"/content/drive/My Drive/preprocessed_data\")"
      ],
      "execution_count": 57,
      "outputs": []
    },
    {
      "cell_type": "code",
      "metadata": {
        "colab": {
          "base_uri": "https://localhost:8080/"
        },
        "id": "dVKoRaK_PA-w",
        "outputId": "fe89f30c-ab99-4c33-89bb-497f2cccff12"
      },
      "source": [
        "df.rdd.getNumPartitions() # comprobación de porque tenemos dos ficheros particionados en nuestra carpeta \n",
        "# content, el número de particiones configurado en SparkConf es 2."
      ],
      "execution_count": 58,
      "outputs": [
        {
          "output_type": "execute_result",
          "data": {
            "text/plain": [
              "2"
            ]
          },
          "metadata": {},
          "execution_count": 58
        }
      ]
    },
    {
      "cell_type": "code",
      "metadata": {
        "id": "WjqwtNVnPqlq"
      },
      "source": [
        "# En pandas realizamos la escritura en un solo fichero\n",
        "df_pd = df.toPandas()\n",
        "df_pd.to_csv(\"pandas_preprocessed_data.csv\")"
      ],
      "execution_count": 59,
      "outputs": []
    },
    {
      "cell_type": "code",
      "metadata": {
        "id": "ua0LF9AYQr-g"
      },
      "source": [
        "# Escritura en format parquet\n",
        "df.write.parquet(\"/content/parquet_preprocessed_data\")"
      ],
      "execution_count": 60,
      "outputs": []
    },
    {
      "cell_type": "code",
      "metadata": {
        "colab": {
          "base_uri": "https://localhost:8080/"
        },
        "id": "bdhubsHUSFXP",
        "outputId": "83571eed-9480-4cb5-d264-864a7b8623dc"
      },
      "source": [
        "pq = spark.read.parquet(\"/content/parquet_preprocessed_data/\")\n",
        "pq.show(5)"
      ],
      "execution_count": 64,
      "outputs": [
        {
          "output_type": "stream",
          "name": "stdout",
          "text": [
            "+-------+----------+------+----+----------+-------------+--------------------------+--------------+------------------+------------------+------------------+--------+\n",
            "|User_ID|Product_ID|Gender| Age|Occupation|City_Category|Stay_In_Current_City_Years|Marital_Status|Product_Category_1|Product_Category_2|Product_Category_3|Purchase|\n",
            "+-------+----------+------+----+----------+-------------+--------------------------+--------------+------------------+------------------+------------------+--------+\n",
            "|1000001| P00069042|     F|0-17|        10|            A|                         2|             0|                 3|                 0|                 0|    8370|\n",
            "|1000001| P00248942|     F|0-17|        10|            A|                         2|             0|                 1|                 6|                14|   15200|\n",
            "|1000001| P00087842|     F|0-17|        10|            A|                         2|             0|                12|                 0|                 0|    1422|\n",
            "|1000001| P00085442|     F|0-17|        10|            A|                         2|             0|                12|                14|                 0|    1057|\n",
            "|1000002| P00285442|     M| 55+|        16|            C|                        4+|             0|                 8|                 0|                 0|    7969|\n",
            "+-------+----------+------+----+----------+-------------+--------------------------+--------------+------------------+------------------+------------------+--------+\n",
            "only showing top 5 rows\n",
            "\n"
          ]
        }
      ]
    },
    {
      "cell_type": "code",
      "metadata": {
        "id": "5X5OMKnhS2T0"
      },
      "source": [
        "df_orc = df.write.orc(\"/content/orc_preprocessed_data/\",mode=\"append\")"
      ],
      "execution_count": 70,
      "outputs": []
    },
    {
      "cell_type": "code",
      "metadata": {
        "colab": {
          "base_uri": "https://localhost:8080/"
        },
        "id": "GrEZ0EQaTHdX",
        "outputId": "62e22f2c-13d4-401f-d8bc-cc344fa64953"
      },
      "source": [
        "spark.read.orc(\"/content/orc_preprocessed_data/\").show(5)"
      ],
      "execution_count": 67,
      "outputs": [
        {
          "output_type": "stream",
          "name": "stdout",
          "text": [
            "+-------+----------+------+----+----------+-------------+--------------------------+--------------+------------------+------------------+------------------+--------+\n",
            "|User_ID|Product_ID|Gender| Age|Occupation|City_Category|Stay_In_Current_City_Years|Marital_Status|Product_Category_1|Product_Category_2|Product_Category_3|Purchase|\n",
            "+-------+----------+------+----+----------+-------------+--------------------------+--------------+------------------+------------------+------------------+--------+\n",
            "|1000001| P00069042|     F|0-17|        10|            A|                         2|             0|                 3|                 0|                 0|    8370|\n",
            "|1000001| P00248942|     F|0-17|        10|            A|                         2|             0|                 1|                 6|                14|   15200|\n",
            "|1000001| P00087842|     F|0-17|        10|            A|                         2|             0|                12|                 0|                 0|    1422|\n",
            "|1000001| P00085442|     F|0-17|        10|            A|                         2|             0|                12|                14|                 0|    1057|\n",
            "|1000002| P00285442|     M| 55+|        16|            C|                        4+|             0|                 8|                 0|                 0|    7969|\n",
            "+-------+----------+------+----+----------+-------------+--------------------------+--------------+------------------+------------------+------------------+--------+\n",
            "only showing top 5 rows\n",
            "\n"
          ]
        }
      ]
    },
    {
      "cell_type": "markdown",
      "metadata": {
        "id": "LQk-vwQvT6NZ"
      },
      "source": [
        "## Utilizando la sintaxis de SQL"
      ]
    },
    {
      "cell_type": "code",
      "metadata": {
        "id": "oOVZNtz5T9VK"
      },
      "source": [
        "# Crear tablas temporaneas\n",
        "df.createOrReplaceTempView(\"tabla_temporanea\")"
      ],
      "execution_count": 71,
      "outputs": []
    },
    {
      "cell_type": "code",
      "metadata": {
        "colab": {
          "base_uri": "https://localhost:8080/"
        },
        "id": "6JXL6lGKUGoP",
        "outputId": "eab69118-bacb-4088-d12a-611643d7f97e"
      },
      "source": [
        "spark.sql(\"\"\"\n",
        "  SELECT count(*) FROM tabla_temporanea\n",
        "  \"\"\"\n",
        "  ).show(5)"
      ],
      "execution_count": 73,
      "outputs": [
        {
          "output_type": "stream",
          "name": "stdout",
          "text": [
            "+--------+\n",
            "|count(1)|\n",
            "+--------+\n",
            "|  550068|\n",
            "+--------+\n",
            "\n"
          ]
        }
      ]
    },
    {
      "cell_type": "code",
      "metadata": {
        "colab": {
          "base_uri": "https://localhost:8080/"
        },
        "id": "SO_mXTa2Ue6h",
        "outputId": "93af9fee-01c9-4352-dcab-9aa7bdfa8397"
      },
      "source": [
        "spark.sql(\"\"\"\n",
        "SELECT * FROM tabla_temporanea LIMIT 5;\n",
        "\"\"\").show(5, False, True)"
      ],
      "execution_count": 79,
      "outputs": [
        {
          "output_type": "stream",
          "name": "stdout",
          "text": [
            "-RECORD 0-------------------------------\n",
            " User_ID                    | 1000001   \n",
            " Product_ID                 | P00069042 \n",
            " Gender                     | F         \n",
            " Age                        | 0-17      \n",
            " Occupation                 | 10        \n",
            " City_Category              | A         \n",
            " Stay_In_Current_City_Years | 2         \n",
            " Marital_Status             | 0         \n",
            " Product_Category_1         | 3         \n",
            " Product_Category_2         | 0         \n",
            " Product_Category_3         | 0         \n",
            " Purchase                   | 8370      \n",
            "-RECORD 1-------------------------------\n",
            " User_ID                    | 1000001   \n",
            " Product_ID                 | P00248942 \n",
            " Gender                     | F         \n",
            " Age                        | 0-17      \n",
            " Occupation                 | 10        \n",
            " City_Category              | A         \n",
            " Stay_In_Current_City_Years | 2         \n",
            " Marital_Status             | 0         \n",
            " Product_Category_1         | 1         \n",
            " Product_Category_2         | 6         \n",
            " Product_Category_3         | 14        \n",
            " Purchase                   | 15200     \n",
            "-RECORD 2-------------------------------\n",
            " User_ID                    | 1000001   \n",
            " Product_ID                 | P00087842 \n",
            " Gender                     | F         \n",
            " Age                        | 0-17      \n",
            " Occupation                 | 10        \n",
            " City_Category              | A         \n",
            " Stay_In_Current_City_Years | 2         \n",
            " Marital_Status             | 0         \n",
            " Product_Category_1         | 12        \n",
            " Product_Category_2         | 0         \n",
            " Product_Category_3         | 0         \n",
            " Purchase                   | 1422      \n",
            "-RECORD 3-------------------------------\n",
            " User_ID                    | 1000001   \n",
            " Product_ID                 | P00085442 \n",
            " Gender                     | F         \n",
            " Age                        | 0-17      \n",
            " Occupation                 | 10        \n",
            " City_Category              | A         \n",
            " Stay_In_Current_City_Years | 2         \n",
            " Marital_Status             | 0         \n",
            " Product_Category_1         | 12        \n",
            " Product_Category_2         | 14        \n",
            " Product_Category_3         | 0         \n",
            " Purchase                   | 1057      \n",
            "-RECORD 4-------------------------------\n",
            " User_ID                    | 1000002   \n",
            " Product_ID                 | P00285442 \n",
            " Gender                     | M         \n",
            " Age                        | 55+       \n",
            " Occupation                 | 16        \n",
            " City_Category              | C         \n",
            " Stay_In_Current_City_Years | 4+        \n",
            " Marital_Status             | 0         \n",
            " Product_Category_1         | 8         \n",
            " Product_Category_2         | 0         \n",
            " Product_Category_3         | 0         \n",
            " Purchase                   | 7969      \n",
            "\n"
          ]
        }
      ]
    },
    {
      "cell_type": "code",
      "metadata": {
        "id": "B_tX81N1VhXl"
      },
      "source": [
        "df_sql = spark.sql(\"\"\"\n",
        "SELECT Occupation, City_Category, Marital_Status FROM tabla_temporanea\n",
        "\"\"\")"
      ],
      "execution_count": 84,
      "outputs": []
    },
    {
      "cell_type": "code",
      "metadata": {
        "colab": {
          "base_uri": "https://localhost:8080/"
        },
        "id": "tGMEWAN-VsLW",
        "outputId": "c5f3f563-5b97-4392-ccf5-fdd46e868800"
      },
      "source": [
        "df_sql.show(5)"
      ],
      "execution_count": 85,
      "outputs": [
        {
          "output_type": "stream",
          "name": "stdout",
          "text": [
            "+----------+-------------+--------------+\n",
            "|Occupation|City_Category|Marital_Status|\n",
            "+----------+-------------+--------------+\n",
            "|        10|            A|             0|\n",
            "|        10|            A|             0|\n",
            "|        10|            A|             0|\n",
            "|        10|            A|             0|\n",
            "|        16|            C|             0|\n",
            "+----------+-------------+--------------+\n",
            "only showing top 5 rows\n",
            "\n"
          ]
        }
      ]
    },
    {
      "cell_type": "code",
      "metadata": {
        "colab": {
          "base_uri": "https://localhost:8080/"
        },
        "id": "T3Wh1ERrVzBR",
        "outputId": "2ce4812a-2dd2-4264-f6cf-2d9236ac46cb"
      },
      "source": [
        "type(df_sql)"
      ],
      "execution_count": 86,
      "outputs": [
        {
          "output_type": "execute_result",
          "data": {
            "text/plain": [
              "pyspark.sql.dataframe.DataFrame"
            ]
          },
          "metadata": {},
          "execution_count": 86
        }
      ]
    },
    {
      "cell_type": "code",
      "metadata": {
        "colab": {
          "base_uri": "https://localhost:8080/"
        },
        "id": "_itSSqbmU4DV",
        "outputId": "d3d3cb26-380c-4400-9aa4-d61c95202cbf"
      },
      "source": [
        "spark.sql(\"SHOW TABLES;\").show()"
      ],
      "execution_count": 81,
      "outputs": [
        {
          "output_type": "stream",
          "name": "stdout",
          "text": [
            "+--------+----------------+-----------+\n",
            "|database|       tableName|isTemporary|\n",
            "+--------+----------------+-----------+\n",
            "|        |tabla_temporanea|       true|\n",
            "+--------+----------------+-----------+\n",
            "\n"
          ]
        }
      ]
    },
    {
      "cell_type": "code",
      "metadata": {
        "colab": {
          "base_uri": "https://localhost:8080/"
        },
        "id": "C-KZEp4LVABq",
        "outputId": "2a0c3dd0-2d7e-45e4-9c3c-65ddab71b241"
      },
      "source": [
        "spark.sql(\"SHOW DATABASES\").show()"
      ],
      "execution_count": 82,
      "outputs": [
        {
          "output_type": "stream",
          "name": "stdout",
          "text": [
            "+---------+\n",
            "|namespace|\n",
            "+---------+\n",
            "|  default|\n",
            "+---------+\n",
            "\n"
          ]
        }
      ]
    },
    {
      "cell_type": "code",
      "metadata": {
        "colab": {
          "base_uri": "https://localhost:8080/"
        },
        "id": "s24yzyFoVEi7",
        "outputId": "e705b96c-cc40-4837-8964-74f84192b6a3"
      },
      "source": [
        "spark.sql(\"DESCRIBE tabla_temporanea\").show()"
      ],
      "execution_count": 88,
      "outputs": [
        {
          "output_type": "stream",
          "name": "stdout",
          "text": [
            "+--------------------+---------+-------+\n",
            "|            col_name|data_type|comment|\n",
            "+--------------------+---------+-------+\n",
            "|             User_ID|      int|   null|\n",
            "|          Product_ID|   string|   null|\n",
            "|              Gender|   string|   null|\n",
            "|                 Age|   string|   null|\n",
            "|          Occupation|      int|   null|\n",
            "|       City_Category|   string|   null|\n",
            "|Stay_In_Current_C...|   string|   null|\n",
            "|      Marital_Status|      int|   null|\n",
            "|  Product_Category_1|      int|   null|\n",
            "|  Product_Category_2|      int|   null|\n",
            "|  Product_Category_3|      int|   null|\n",
            "|            Purchase|      int|   null|\n",
            "+--------------------+---------+-------+\n",
            "\n"
          ]
        }
      ]
    },
    {
      "cell_type": "code",
      "metadata": {
        "colab": {
          "base_uri": "https://localhost:8080/"
        },
        "id": "VzBVS_rYWA_r",
        "outputId": "d15008f1-f7cc-42d3-ad90-e924bf92067a"
      },
      "source": [
        "spark.sql(\"DESCRIBE TABLE EXTENDED tabla_temporanea\").show()"
      ],
      "execution_count": 92,
      "outputs": [
        {
          "output_type": "stream",
          "name": "stdout",
          "text": [
            "+--------------------+---------+-------+\n",
            "|            col_name|data_type|comment|\n",
            "+--------------------+---------+-------+\n",
            "|             User_ID|      int|   null|\n",
            "|          Product_ID|   string|   null|\n",
            "|              Gender|   string|   null|\n",
            "|                 Age|   string|   null|\n",
            "|          Occupation|      int|   null|\n",
            "|       City_Category|   string|   null|\n",
            "|Stay_In_Current_C...|   string|   null|\n",
            "|      Marital_Status|      int|   null|\n",
            "|  Product_Category_1|      int|   null|\n",
            "|  Product_Category_2|      int|   null|\n",
            "|  Product_Category_3|      int|   null|\n",
            "|            Purchase|      int|   null|\n",
            "+--------------------+---------+-------+\n",
            "\n"
          ]
        }
      ]
    }
  ]
}