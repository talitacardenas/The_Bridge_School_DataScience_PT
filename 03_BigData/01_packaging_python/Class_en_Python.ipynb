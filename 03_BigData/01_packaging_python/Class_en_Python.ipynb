{
  "nbformat": 4,
  "nbformat_minor": 0,
  "metadata": {
    "colab": {
      "name": "Class en Python",
      "provenance": [],
      "collapsed_sections": []
    },
    "kernelspec": {
      "name": "python3",
      "display_name": "Python 3"
    },
    "language_info": {
      "name": "python"
    }
  },
  "cells": [
    {
      "cell_type": "markdown",
      "metadata": {
        "id": "2NpXaCazjGV6"
      },
      "source": [
        "![FP vs OOP](https://crs4.github.io/python_for_life_scientists/img/object.jpg)"
      ]
    },
    {
      "cell_type": "markdown",
      "metadata": {
        "id": "xXm7jF0TlQH2"
      },
      "source": [
        "# Creación de un objeto"
      ]
    },
    {
      "cell_type": "code",
      "metadata": {
        "id": "BJUgy3gFoJFP"
      },
      "source": [
        "mobile_1 = {type: [None, {\"k\":1}]}"
      ],
      "execution_count": 25,
      "outputs": []
    },
    {
      "cell_type": "code",
      "metadata": {
        "colab": {
          "base_uri": "https://localhost:8080/"
        },
        "id": "ldLKQgdmoXYK",
        "outputId": "0376b3dd-b3c5-4cf7-b911-34099e074f8f"
      },
      "source": [
        "mobile_1"
      ],
      "execution_count": 37,
      "outputs": [
        {
          "output_type": "execute_result",
          "data": {
            "text/plain": [
              "{type: [None, {'k': 1}]}"
            ]
          },
          "metadata": {},
          "execution_count": 37
        }
      ]
    },
    {
      "cell_type": "code",
      "metadata": {
        "id": "kCajgfCQlRkR"
      },
      "source": [
        "mobile = {\n",
        "    \"manufacturer\": \"Apple\",\n",
        "    \"model\":\"iPhone 10\",\n",
        "    \"screen_size\":7,\n",
        "    \"weight\":200,\n",
        "    \"color\":\"silver\",\n",
        "    \"RAM\":8,\n",
        "    \"memory\":512,\n",
        "    \"camera\":{\"frontal\":{\"resolution\":\"15MP\"},\n",
        "              \"back\":[{\"type\":\"zoom\",\"resolution\":\"25MP\"},\n",
        "                      {\"type\":\"macro\",\"resolution\":\"25MP\"}]},\n",
        "    \"battery\":{\"type\":\"Lithium\",\"maxCharge\":4500,\"charge\":0.56},\n",
        "    \"apps\":[{\"name\":\"Whatsapp\",\"version\":\"2.3.44\"}]\n",
        "}"
      ],
      "execution_count": 38,
      "outputs": []
    },
    {
      "cell_type": "code",
      "metadata": {
        "id": "kYsfruvDi-S7"
      },
      "source": [
        "def charge_phone(phone):\n",
        "  phone['battery']['charge']=1\n",
        "  return phone"
      ],
      "execution_count": 42,
      "outputs": []
    },
    {
      "cell_type": "code",
      "metadata": {
        "colab": {
          "base_uri": "https://localhost:8080/"
        },
        "id": "8Xy3VZ6RnHOL",
        "outputId": "23767b95-14b7-48d4-8570-f991bbd912d5"
      },
      "source": [
        "charge_phone(mobile)"
      ],
      "execution_count": 44,
      "outputs": [
        {
          "output_type": "execute_result",
          "data": {
            "text/plain": [
              "{'RAM': 8,\n",
              " 'apps': [{'name': 'Whatsapp', 'version': '2.3.44'}],\n",
              " 'battery': {'charge': 1, 'maxCharge': 4500, 'type': 'Lithium'},\n",
              " 'camera': {'back': [{'resolution': '25MP', 'type': 'zoom'},\n",
              "   {'resolution': '25MP', 'type': 'macro'}],\n",
              "  'frontal': {'resolution': '15MP'}},\n",
              " 'color': 'silver',\n",
              " 'manufacturer': 'Apple',\n",
              " 'memory': 512,\n",
              " 'model': 'iPhone 10',\n",
              " 'screen_size': 7,\n",
              " 'weight': 200}"
            ]
          },
          "metadata": {},
          "execution_count": 44
        }
      ]
    },
    {
      "cell_type": "code",
      "metadata": {
        "colab": {
          "base_uri": "https://localhost:8080/"
        },
        "id": "xgeQWk-ymDkj",
        "outputId": "b1db08a0-5625-4f89-cfa7-4c971e32cff4"
      },
      "source": [
        "mobile['battery']['charge']"
      ],
      "execution_count": 4,
      "outputs": [
        {
          "output_type": "execute_result",
          "data": {
            "text/plain": [
              "0.56"
            ]
          },
          "metadata": {},
          "execution_count": 4
        }
      ]
    },
    {
      "cell_type": "code",
      "metadata": {
        "colab": {
          "base_uri": "https://localhost:8080/"
        },
        "id": "jjaYUK9RmXZT",
        "outputId": "d0fa8b68-7ffe-4c2f-b6d5-bac45f5c7edf"
      },
      "source": [
        "mobile.items()"
      ],
      "execution_count": 11,
      "outputs": [
        {
          "output_type": "execute_result",
          "data": {
            "text/plain": [
              "dict_items([('manufacturer', 'Apple'), ('model', 'iPhone 10'), ('screen_size', 7), ('weight', 200), ('color', 'silver'), ('RAM', 8), ('memory', 512), ('camera', {'frontal': {'resolution': '15MP'}, 'back': [{'type': 'zoom', 'resolution': '25MP'}, {'type': 'macro', 'resolution': '25MP'}]}), ('battery', {'type': 'Lithium', 'maxCharge': 4500, 'charge': 0.56}), ('apps', [{'name': 'Whatsapp', 'version': '2.3.44'}])])"
            ]
          },
          "metadata": {},
          "execution_count": 11
        }
      ]
    },
    {
      "cell_type": "code",
      "metadata": {
        "colab": {
          "base_uri": "https://localhost:8080/"
        },
        "id": "nHs-7UuNm1p8",
        "outputId": "bfcac18e-ff51-401d-b3a1-ff3c405b6231"
      },
      "source": [
        "charge_phone(mobile)"
      ],
      "execution_count": 12,
      "outputs": [
        {
          "output_type": "execute_result",
          "data": {
            "text/plain": [
              "{'RAM': 8,\n",
              " 'apps': [{'name': 'Whatsapp', 'version': '2.3.44'}],\n",
              " 'battery': {'charge': 1, 'maxCharge': 4500, 'type': 'Lithium'},\n",
              " 'camera': {'back': [{'resolution': '25MP', 'type': 'zoom'},\n",
              "   {'resolution': '25MP', 'type': 'macro'}],\n",
              "  'frontal': {'resolution': '15MP'}},\n",
              " 'color': 'silver',\n",
              " 'manufacturer': 'Apple',\n",
              " 'memory': 512,\n",
              " 'model': 'iPhone 10',\n",
              " 'screen_size': 7,\n",
              " 'weight': 200}"
            ]
          },
          "metadata": {},
          "execution_count": 12
        }
      ]
    },
    {
      "cell_type": "code",
      "metadata": {
        "colab": {
          "base_uri": "https://localhost:8080/"
        },
        "id": "IrR4U4Qem5sw",
        "outputId": "a0e585c2-0833-4f69-905e-bda788c2c41f"
      },
      "source": [
        "mobile['battery']['charge']"
      ],
      "execution_count": 13,
      "outputs": [
        {
          "output_type": "execute_result",
          "data": {
            "text/plain": [
              "1"
            ]
          },
          "metadata": {},
          "execution_count": 13
        }
      ]
    },
    {
      "cell_type": "code",
      "metadata": {
        "colab": {
          "base_uri": "https://localhost:8080/",
          "height": 211
        },
        "id": "SoAGNKjjqLRY",
        "outputId": "0a98fd72-1a7f-47c2-c8a3-1180edacb807"
      },
      "source": [
        "charge_phone()"
      ],
      "execution_count": 45,
      "outputs": [
        {
          "output_type": "error",
          "ename": "TypeError",
          "evalue": "ignored",
          "traceback": [
            "\u001b[0;31m---------------------------------------------------------------------------\u001b[0m",
            "\u001b[0;31mTypeError\u001b[0m                                 Traceback (most recent call last)",
            "\u001b[0;32m<ipython-input-45-06ba1af92e9f>\u001b[0m in \u001b[0;36m<module>\u001b[0;34m()\u001b[0m\n\u001b[0;32m----> 1\u001b[0;31m \u001b[0mcharge_phone\u001b[0m\u001b[0;34m(\u001b[0m\u001b[0;34m)\u001b[0m\u001b[0;34m\u001b[0m\u001b[0;34m\u001b[0m\u001b[0m\n\u001b[0m",
            "\u001b[0;31mTypeError\u001b[0m: charge_phone() missing 1 required positional argument: 'phone'"
          ]
        }
      ]
    },
    {
      "cell_type": "code",
      "metadata": {
        "id": "MHN-AGmlpGPg"
      },
      "source": [
        "def install(mobile, app):\n",
        "  mobile['apps'].append(app)"
      ],
      "execution_count": 46,
      "outputs": []
    },
    {
      "cell_type": "code",
      "metadata": {
        "colab": {
          "base_uri": "https://localhost:8080/"
        },
        "id": "bxY3vB7cyuPL",
        "outputId": "5318f35f-65bb-49d2-ec35-a32e70bcb172"
      },
      "source": [
        "type(mobile['apps'])"
      ],
      "execution_count": 49,
      "outputs": [
        {
          "output_type": "execute_result",
          "data": {
            "text/plain": [
              "list"
            ]
          },
          "metadata": {},
          "execution_count": 49
        }
      ]
    },
    {
      "cell_type": "code",
      "metadata": {
        "colab": {
          "base_uri": "https://localhost:8080/"
        },
        "id": "8uOUfjcRyydX",
        "outputId": "863e9b31-0ace-4bdc-8d54-0e35adcff48d"
      },
      "source": [
        "type(mobile['apps'][0])"
      ],
      "execution_count": 52,
      "outputs": [
        {
          "output_type": "execute_result",
          "data": {
            "text/plain": [
              "dict"
            ]
          },
          "metadata": {},
          "execution_count": 52
        }
      ]
    },
    {
      "cell_type": "code",
      "metadata": {
        "colab": {
          "base_uri": "https://localhost:8080/"
        },
        "id": "3GX2pQezzC1L",
        "outputId": "85dc9fe6-48f1-4ad3-bd81-0ed9ee198012"
      },
      "source": [
        "mobile['apps'][0].items()"
      ],
      "execution_count": 54,
      "outputs": [
        {
          "output_type": "execute_result",
          "data": {
            "text/plain": [
              "dict_items([('name', 'Whatsapp'), ('version', '2.3.44')])"
            ]
          },
          "metadata": {},
          "execution_count": 54
        }
      ]
    },
    {
      "cell_type": "code",
      "metadata": {
        "id": "ffS6_TIKzQIx"
      },
      "source": [
        "install(mobile, {'name':'Zoom','version':'1.8.8'})"
      ],
      "execution_count": 63,
      "outputs": []
    },
    {
      "cell_type": "code",
      "metadata": {
        "colab": {
          "base_uri": "https://localhost:8080/"
        },
        "id": "KiPDXHBHzaEx",
        "outputId": "a2941c0b-42ea-4f64-81b3-04a7d31465ee"
      },
      "source": [
        "mobile['apps']"
      ],
      "execution_count": 64,
      "outputs": [
        {
          "output_type": "execute_result",
          "data": {
            "text/plain": [
              "[{'name': 'Whatsapp', 'version': '2.3.44'},\n",
              " {'name': 'Zoom', 'version': '1.8.8'},\n",
              " {'name': 'Zoom', 'version': '1.8.8'},\n",
              " {'name': 'Zoom', 'version': '1.8.8'},\n",
              " {'name': 'Zoom', 'version': '1.8.8'},\n",
              " {'name': 'Zoom', 'version': '1.8.8'}]"
            ]
          },
          "metadata": {},
          "execution_count": 64
        }
      ]
    },
    {
      "cell_type": "markdown",
      "metadata": {
        "id": "ZZot8Ig4z749"
      },
      "source": [
        "## Class \n",
        " - tipo de objeto"
      ]
    },
    {
      "cell_type": "code",
      "metadata": {
        "colab": {
          "base_uri": "https://localhost:8080/"
        },
        "id": "-0REEEuLz64_",
        "outputId": "319b2d18-8b1a-4994-ff94-c23a301b9dd3"
      },
      "source": [
        "type(\"hola\") # el resultado es str que es la clase de \"hola\""
      ],
      "execution_count": 65,
      "outputs": [
        {
          "output_type": "execute_result",
          "data": {
            "text/plain": [
              "str"
            ]
          },
          "metadata": {},
          "execution_count": 65
        }
      ]
    },
    {
      "cell_type": "code",
      "metadata": {
        "colab": {
          "base_uri": "https://localhost:8080/"
        },
        "id": "TUJdLXEp0Aps",
        "outputId": "0eac3058-6940-4793-8d54-7b538b2b9800"
      },
      "source": [
        "x = \"hola\"\n",
        "type(x)"
      ],
      "execution_count": 81,
      "outputs": [
        {
          "output_type": "execute_result",
          "data": {
            "text/plain": [
              "str"
            ]
          },
          "metadata": {},
          "execution_count": 81
        }
      ]
    },
    {
      "cell_type": "code",
      "metadata": {
        "colab": {
          "base_uri": "https://localhost:8080/"
        },
        "id": "aP5nWsH30tAL",
        "outputId": "7889dc29-ce48-475d-8181-43578a3aad1b"
      },
      "source": [
        "print(dir(x))"
      ],
      "execution_count": 68,
      "outputs": [
        {
          "output_type": "stream",
          "name": "stdout",
          "text": [
            "['__add__', '__class__', '__contains__', '__delattr__', '__dir__', '__doc__', '__eq__', '__format__', '__ge__', '__getattribute__', '__getitem__', '__getnewargs__', '__gt__', '__hash__', '__init__', '__init_subclass__', '__iter__', '__le__', '__len__', '__lt__', '__mod__', '__mul__', '__ne__', '__new__', '__reduce__', '__reduce_ex__', '__repr__', '__rmod__', '__rmul__', '__setattr__', '__sizeof__', '__str__', '__subclasshook__', 'capitalize', 'casefold', 'center', 'count', 'encode', 'endswith', 'expandtabs', 'find', 'format', 'format_map', 'index', 'isalnum', 'isalpha', 'isascii', 'isdecimal', 'isdigit', 'isidentifier', 'islower', 'isnumeric', 'isprintable', 'isspace', 'istitle', 'isupper', 'join', 'ljust', 'lower', 'lstrip', 'maketrans', 'partition', 'replace', 'rfind', 'rindex', 'rjust', 'rpartition', 'rsplit', 'rstrip', 'split', 'splitlines', 'startswith', 'strip', 'swapcase', 'title', 'translate', 'upper', 'zfill']\n"
          ]
        }
      ]
    },
    {
      "cell_type": "code",
      "metadata": {
        "colab": {
          "base_uri": "https://localhost:8080/"
        },
        "id": "x0uursBa0zzw",
        "outputId": "e90cd768-c762-42cb-f322-349007747dac"
      },
      "source": [
        "x.__init__"
      ],
      "execution_count": 74,
      "outputs": [
        {
          "output_type": "execute_result",
          "data": {
            "text/plain": [
              "<method-wrapper '__init__' of str object at 0x7f6242e84eb0>"
            ]
          },
          "metadata": {},
          "execution_count": 74
        }
      ]
    },
    {
      "cell_type": "code",
      "metadata": {
        "id": "bEBmI6vC1wKC"
      },
      "source": [
        "x = x.capitalize()"
      ],
      "execution_count": 82,
      "outputs": []
    },
    {
      "cell_type": "code",
      "metadata": {
        "colab": {
          "base_uri": "https://localhost:8080/",
          "height": 36
        },
        "id": "gxRsL0Ib1y8G",
        "outputId": "df496ddc-01fd-4811-9706-d9a19108406b"
      },
      "source": [
        "x"
      ],
      "execution_count": 83,
      "outputs": [
        {
          "output_type": "execute_result",
          "data": {
            "application/vnd.google.colaboratory.intrinsic+json": {
              "type": "string"
            },
            "text/plain": [
              "'Hola'"
            ]
          },
          "metadata": {},
          "execution_count": 83
        }
      ]
    },
    {
      "cell_type": "markdown",
      "metadata": {
        "id": "vuTu7MV-2GwQ"
      },
      "source": [
        "## Aplicando el ejemplo de las clases a las mascotas Dogs"
      ]
    },
    {
      "cell_type": "code",
      "metadata": {
        "id": "LyL3dm2m2KFp"
      },
      "source": [
        "milka = {\"species\":\"dog\",\n",
        "        \"sex\":\"female\",\n",
        "        \"name\":\"Milka\",\n",
        "        \"breed\":\"Beagle\"}\n",
        "\n",
        "kira = {\"species\":\"dog\",\n",
        "        \"sex\":\"female\",\n",
        "        \"name\":\"Kira\",\n",
        "        \"breed\":\"Greyhound\"}\n"
      ],
      "execution_count": 84,
      "outputs": []
    },
    {
      "cell_type": "code",
      "metadata": {
        "id": "yiNS76jM2SpT"
      },
      "source": [
        "all_dogs = {\"species\":\"dog\",\n",
        "            \"sound\":\"bark\"}"
      ],
      "execution_count": 85,
      "outputs": []
    },
    {
      "cell_type": "code",
      "metadata": {
        "id": "rk9AbNDB2XsD"
      },
      "source": [
        "class Dog:\n",
        "  def __init__(self, breed, sex, name='Unnamed'):\n",
        "    \"\"\"\n",
        "    El constructor de la clase Dog. El método del constructor\n",
        "    se llama __init__ es el método que se diferencia cuando instanciamos la clase.\n",
        "    \"\"\"\n",
        "    print(\"Woof. un cachorrito ha nacido!\")\n",
        "    self.species = \"dog\"\n",
        "    self.breed = breed\n",
        "    self.sex = sex\n",
        "    self.name = name\n",
        "\n",
        "  def present(self):\n",
        "    return f\"\"\"\n",
        "    Woof woof. Hola, mi nombre es {self.name}, soy un\n",
        "    {self.species} y soy un {self.sex}!\n",
        "    \"\"\"\n",
        "\n",
        "  def baptize(self, new_name):\n",
        "    self.name = new_name  \n"
      ],
      "execution_count": 92,
      "outputs": []
    },
    {
      "cell_type": "markdown",
      "metadata": {
        "id": "K_fjUq335D72"
      },
      "source": [
        "> las clases `Class` tienen en python un `type` que es `type`"
      ]
    },
    {
      "cell_type": "code",
      "metadata": {
        "colab": {
          "base_uri": "https://localhost:8080/"
        },
        "id": "sTQRvRZj2ENm",
        "outputId": "144e6102-f8e1-42dd-ab6f-7da0e2d72b80"
      },
      "source": [
        "type(Dog)"
      ],
      "execution_count": 93,
      "outputs": [
        {
          "output_type": "execute_result",
          "data": {
            "text/plain": [
              "type"
            ]
          },
          "metadata": {},
          "execution_count": 93
        }
      ]
    },
    {
      "cell_type": "code",
      "metadata": {
        "colab": {
          "base_uri": "https://localhost:8080/"
        },
        "id": "CktJcn1H5RjM",
        "outputId": "a83606b0-8884-4221-9c46-b02bd18edb1e"
      },
      "source": [
        "cachorro_1 = Dog(\"teckel\", \"male\", \"Toby\")"
      ],
      "execution_count": 94,
      "outputs": [
        {
          "output_type": "stream",
          "name": "stdout",
          "text": [
            "Woof. un cachorrito ha nacido!\n"
          ]
        }
      ]
    },
    {
      "cell_type": "code",
      "metadata": {
        "colab": {
          "base_uri": "https://localhost:8080/"
        },
        "id": "-POdli6W5gje",
        "outputId": "6c979b8a-b6c1-4c9a-ea7f-bf544e17cbc3"
      },
      "source": [
        "cachorro_1 # este es un objeto de la clase Dog"
      ],
      "execution_count": 95,
      "outputs": [
        {
          "output_type": "execute_result",
          "data": {
            "text/plain": [
              "<__main__.Dog at 0x7f6242d6a450>"
            ]
          },
          "metadata": {},
          "execution_count": 95
        }
      ]
    },
    {
      "cell_type": "code",
      "metadata": {
        "colab": {
          "base_uri": "https://localhost:8080/",
          "height": 54
        },
        "id": "Lb6bSwUb5xxI",
        "outputId": "e35a5db7-a4b0-4393-fb59-5e021f4d2b49"
      },
      "source": [
        "cachorro_1.present()"
      ],
      "execution_count": 96,
      "outputs": [
        {
          "output_type": "execute_result",
          "data": {
            "application/vnd.google.colaboratory.intrinsic+json": {
              "type": "string"
            },
            "text/plain": [
              "'\\n    Woof woof. Hola, mi nombre es Toby, soy un\\n    dog y soy un male!\\n    '"
            ]
          },
          "metadata": {},
          "execution_count": 96
        }
      ]
    },
    {
      "cell_type": "code",
      "metadata": {
        "colab": {
          "base_uri": "https://localhost:8080/"
        },
        "id": "Ye1ExNRU6FNR",
        "outputId": "614d435d-9b3e-4adb-ac6e-396663e61e55"
      },
      "source": [
        "type(cachorro_1)"
      ],
      "execution_count": 97,
      "outputs": [
        {
          "output_type": "execute_result",
          "data": {
            "text/plain": [
              "__main__.Dog"
            ]
          },
          "metadata": {},
          "execution_count": 97
        }
      ]
    },
    {
      "cell_type": "code",
      "metadata": {
        "colab": {
          "base_uri": "https://localhost:8080/",
          "height": 36
        },
        "id": "SMXzSPLy6Jwc",
        "outputId": "5c7277a5-6da7-42cc-c4e9-cff3451e7c96"
      },
      "source": [
        "cachorro_1.breed"
      ],
      "execution_count": 99,
      "outputs": [
        {
          "output_type": "execute_result",
          "data": {
            "application/vnd.google.colaboratory.intrinsic+json": {
              "type": "string"
            },
            "text/plain": [
              "'teckel'"
            ]
          },
          "metadata": {},
          "execution_count": 99
        }
      ]
    },
    {
      "cell_type": "code",
      "metadata": {
        "colab": {
          "base_uri": "https://localhost:8080/",
          "height": 36
        },
        "id": "lWd-Ikqc6OQI",
        "outputId": "0f1d17e8-1e6d-439e-bde5-7e46b7c37cb8"
      },
      "source": [
        "cachorro_1.sex"
      ],
      "execution_count": 100,
      "outputs": [
        {
          "output_type": "execute_result",
          "data": {
            "application/vnd.google.colaboratory.intrinsic+json": {
              "type": "string"
            },
            "text/plain": [
              "'male'"
            ]
          },
          "metadata": {},
          "execution_count": 100
        }
      ]
    },
    {
      "cell_type": "code",
      "metadata": {
        "colab": {
          "base_uri": "https://localhost:8080/",
          "height": 36
        },
        "id": "KwGOrgjp6RCY",
        "outputId": "80fef0f8-3595-47ef-bdbd-4c9e5bd0dd89"
      },
      "source": [
        "cachorro_1.species"
      ],
      "execution_count": 101,
      "outputs": [
        {
          "output_type": "execute_result",
          "data": {
            "application/vnd.google.colaboratory.intrinsic+json": {
              "type": "string"
            },
            "text/plain": [
              "'dog'"
            ]
          },
          "metadata": {},
          "execution_count": 101
        }
      ]
    },
    {
      "cell_type": "code",
      "metadata": {
        "colab": {
          "base_uri": "https://localhost:8080/",
          "height": 54
        },
        "id": "6hyW6QHa6VDI",
        "outputId": "8bba9839-5428-4bd4-a7b0-db8130a25c9a"
      },
      "source": [
        "cachorro_1.present()"
      ],
      "execution_count": 102,
      "outputs": [
        {
          "output_type": "execute_result",
          "data": {
            "application/vnd.google.colaboratory.intrinsic+json": {
              "type": "string"
            },
            "text/plain": [
              "'\\n    Woof woof. Hola, mi nombre es Toby, soy un\\n    dog y soy un male!\\n    '"
            ]
          },
          "metadata": {},
          "execution_count": 102
        }
      ]
    },
    {
      "cell_type": "code",
      "metadata": {
        "colab": {
          "base_uri": "https://localhost:8080/",
          "height": 36
        },
        "id": "9sWmUAbG6jix",
        "outputId": "4cc3c3e3-4c9a-4692-863e-03e582ae5b09"
      },
      "source": [
        "cachorro_1.name"
      ],
      "execution_count": 104,
      "outputs": [
        {
          "output_type": "execute_result",
          "data": {
            "application/vnd.google.colaboratory.intrinsic+json": {
              "type": "string"
            },
            "text/plain": [
              "'Toby'"
            ]
          },
          "metadata": {},
          "execution_count": 104
        }
      ]
    },
    {
      "cell_type": "code",
      "metadata": {
        "id": "72wA67-m6UvI"
      },
      "source": [
        "cachorro_1.baptize(\"Kevin\")"
      ],
      "execution_count": 105,
      "outputs": []
    },
    {
      "cell_type": "code",
      "metadata": {
        "colab": {
          "base_uri": "https://localhost:8080/",
          "height": 36
        },
        "id": "2sRepdTg6pxA",
        "outputId": "af1cf66a-2666-454f-ef65-83c6a5f3bb14"
      },
      "source": [
        "cachorro_1.name"
      ],
      "execution_count": 106,
      "outputs": [
        {
          "output_type": "execute_result",
          "data": {
            "application/vnd.google.colaboratory.intrinsic+json": {
              "type": "string"
            },
            "text/plain": [
              "'Kevin'"
            ]
          },
          "metadata": {},
          "execution_count": 106
        }
      ]
    },
    {
      "cell_type": "markdown",
      "metadata": {
        "id": "IrDdPJdV62Iy"
      },
      "source": [
        "## Creamos desde una clase multiples objetos"
      ]
    },
    {
      "cell_type": "code",
      "metadata": {
        "colab": {
          "base_uri": "https://localhost:8080/"
        },
        "id": "Err7NSh066BK",
        "outputId": "92ab7862-f474-48d9-d827-ca70dd4ab754"
      },
      "source": [
        "k9 = []\n",
        "for breed, sex, name in [(\"huskie\",\"female\",\"Jenny\"),(\"Galgo\",\"female\",\"Daenerys\"),(\"Chihauhauhauahuaha\",\"male\",\"Satanás\")]:\n",
        "  k9.append(Dog(breed,sex,name))"
      ],
      "execution_count": 121,
      "outputs": [
        {
          "output_type": "stream",
          "name": "stdout",
          "text": [
            "Woof. un cachorrito ha nacido!\n",
            "Woof. un cachorrito ha nacido!\n",
            "Woof. un cachorrito ha nacido!\n"
          ]
        }
      ]
    },
    {
      "cell_type": "code",
      "metadata": {
        "colab": {
          "base_uri": "https://localhost:8080/"
        },
        "id": "-0mWLQI97cXZ",
        "outputId": "d46b5b00-83dd-480f-ea98-d3dbd440e512"
      },
      "source": [
        "type(k9)"
      ],
      "execution_count": 122,
      "outputs": [
        {
          "output_type": "execute_result",
          "data": {
            "text/plain": [
              "list"
            ]
          },
          "metadata": {},
          "execution_count": 122
        }
      ]
    },
    {
      "cell_type": "code",
      "metadata": {
        "colab": {
          "base_uri": "https://localhost:8080/"
        },
        "id": "I_-SREUj7n14",
        "outputId": "b63229cc-7655-44eb-9532-b6567d3ba776"
      },
      "source": [
        "k9"
      ],
      "execution_count": 123,
      "outputs": [
        {
          "output_type": "execute_result",
          "data": {
            "text/plain": [
              "[<__main__.Dog at 0x7f6242d59390>,\n",
              " <__main__.Dog at 0x7f6242d5fe10>,\n",
              " <__main__.Dog at 0x7f6242d59a50>]"
            ]
          },
          "metadata": {},
          "execution_count": 123
        }
      ]
    },
    {
      "cell_type": "code",
      "metadata": {
        "colab": {
          "base_uri": "https://localhost:8080/"
        },
        "id": "JJiUZwCj7pID",
        "outputId": "360d35f3-d6e9-49e9-eb98-4a62a3b829e5"
      },
      "source": [
        "for dog in k9:\n",
        "  print(dog.present())"
      ],
      "execution_count": 124,
      "outputs": [
        {
          "output_type": "stream",
          "name": "stdout",
          "text": [
            "\n",
            "    Woof woof. Hola, mi nombre es Jenny, soy un\n",
            "    dog y soy un female!\n",
            "    \n",
            "\n",
            "    Woof woof. Hola, mi nombre es Daenerys, soy un\n",
            "    dog y soy un female!\n",
            "    \n",
            "\n",
            "    Woof woof. Hola, mi nombre es Satanás, soy un\n",
            "    dog y soy un male!\n",
            "    \n"
          ]
        }
      ]
    },
    {
      "cell_type": "code",
      "metadata": {
        "colab": {
          "base_uri": "https://localhost:8080/"
        },
        "id": "AwXC3ZjT8OUe",
        "outputId": "0acb9016-7666-4e59-8471-b846b4c8642f"
      },
      "source": [
        "for dog in k9:\n",
        "  print(dog.breed)"
      ],
      "execution_count": 125,
      "outputs": [
        {
          "output_type": "stream",
          "name": "stdout",
          "text": [
            "huskie\n",
            "Galgo\n",
            "Chihauhauhauahuaha\n"
          ]
        }
      ]
    },
    {
      "cell_type": "markdown",
      "metadata": {
        "id": "T0d6sb6U8pPS"
      },
      "source": [
        "## Inheritance"
      ]
    },
    {
      "cell_type": "code",
      "metadata": {
        "id": "NJ5n8KiW8rkn"
      },
      "source": [
        "class Dog:\n",
        "    def __init__(self, sex, name, lastname):\n",
        "        self.sex=sex\n",
        "        full_name = f\"{name} {lastname}\"\n",
        "        self.name=full_name\n",
        "    def speak(self):\n",
        "        return \"Woof woof\"\n",
        "    def present(self):\n",
        "        return f\"Hello. I am a {self.sex} Dog named {self.name}\""
      ],
      "execution_count": 126,
      "outputs": []
    },
    {
      "cell_type": "code",
      "metadata": {
        "id": "lENxSJ-l8vL7"
      },
      "source": [
        "class Cat:\n",
        "    def __init__(self, sex, name, lastname):\n",
        "        self.sex=sex\n",
        "        full_name = f\"{name} {lastname}\"\n",
        "        self.name=full_name\n",
        "    def speak(self):\n",
        "        return \"Meow\"\n",
        "    def present(self):\n",
        "        return f\"Hello. I am a {self.sex} Cat named {self.name}\""
      ],
      "execution_count": 127,
      "outputs": []
    },
    {
      "cell_type": "markdown",
      "metadata": {
        "id": "-ZnkXg0584sa"
      },
      "source": [
        "> al tener patrones en crear las clases de cada animal, lo ideal sería crear un Parent y un Child"
      ]
    },
    {
      "cell_type": "code",
      "metadata": {
        "id": "H6fjX7Ey9Fwm"
      },
      "source": [
        "# creamos un Parent, en este caso Pet\n",
        "class Pet:\n",
        "    def __init__(self, sex, name, lastname):\n",
        "        self.sex=sex\n",
        "        full_name = f\"{name} {lastname}\"\n",
        "        self.name=full_name\n",
        "        self.species = \"pet\"\n",
        "        \n",
        "    def speak(self):\n",
        "        return \"Generic Pet sound\"\n",
        "    \n",
        "    def present(self):\n",
        "        return f\"Hello. I am a {self.sex} {self.species} named {self.name}\""
      ],
      "execution_count": 128,
      "outputs": []
    },
    {
      "cell_type": "code",
      "metadata": {
        "id": "q6hPWcNo9TCE"
      },
      "source": [
        "pet = Pet(\"female\", \"Leia\",'Organa')"
      ],
      "execution_count": 129,
      "outputs": []
    },
    {
      "cell_type": "code",
      "metadata": {
        "colab": {
          "base_uri": "https://localhost:8080/",
          "height": 36
        },
        "id": "WIOxasZI9XGL",
        "outputId": "9df2fed0-a1f8-49e3-91b0-404726e54ece"
      },
      "source": [
        "pet.speak()"
      ],
      "execution_count": 130,
      "outputs": [
        {
          "output_type": "execute_result",
          "data": {
            "application/vnd.google.colaboratory.intrinsic+json": {
              "type": "string"
            },
            "text/plain": [
              "'Generic Pet sound'"
            ]
          },
          "metadata": {},
          "execution_count": 130
        }
      ]
    },
    {
      "cell_type": "code",
      "metadata": {
        "colab": {
          "base_uri": "https://localhost:8080/",
          "height": 36
        },
        "id": "X2sat7d_9bZE",
        "outputId": "16a03ca8-b261-45de-ff88-22a4e9a58360"
      },
      "source": [
        "pet.present()"
      ],
      "execution_count": 131,
      "outputs": [
        {
          "output_type": "execute_result",
          "data": {
            "application/vnd.google.colaboratory.intrinsic+json": {
              "type": "string"
            },
            "text/plain": [
              "'Hello. I am a female pet named Leia Organa'"
            ]
          },
          "metadata": {},
          "execution_count": 131
        }
      ]
    },
    {
      "cell_type": "markdown",
      "metadata": {
        "id": "80apJN6s9fho"
      },
      "source": [
        "> instanciamos el objeto principal en la clase Pet"
      ]
    },
    {
      "cell_type": "code",
      "metadata": {
        "id": "7p0i--4m9iIi"
      },
      "source": [
        "class Cat(Pet):\n",
        "  def __init__(self,sex,name,lastname,color):\n",
        "        # Here we make use of the parent class constructor method with `super()`.\n",
        "        # We only have to pass it the required arguments. Color is not a parameter of Pet, only of cat.\n",
        "        super().__init__(sex,name,lastname)\n",
        "        self.color = color\n",
        "        self.species = \"cat\"\n",
        "    \n",
        "  def speak(self):\n",
        "      return \"Meow\"\n",
        "  \n",
        "  def iam(self):\n",
        "      # All methods can be called with `super()`, as long as they exist in the parent Class. And they can be\n",
        "      # called anywhere.\n",
        "      return f\"{super().present()} and I'm a {self.color} cat, btw.\"\n",
        "  \n",
        "  ### There are \"special\" methods that begin and end with '__'.\n",
        "  ### The only thing special about them is that they are automatically connected by python to\n",
        "  ### outside behaviors and operators. Otherwise, they work just the same.\n",
        "  \n",
        "  # __str__, for instance, is what will be called when we do str(object) or print(object)\n",
        "  def __str__(self):\n",
        "      return \"Cat\"\n",
        "  \n",
        "  def __repr__(self):\n",
        "      return \"\"\"\n",
        "  |\\__/,|   (`\\\\\n",
        "_.|o o  |_   ) )\n",
        "-(((---(((--------\n",
        "      \"\"\"\n",
        "  \n",
        "  def __mul__(self,other):\n",
        "    if not isinstance(other,Cat):\n",
        "      return \"Oops. It's not going to work\"\n",
        "    if set([self.sex, other.sex]) == {\"male\",\"female\"}:\n",
        "      return Cat(\"unk\",\"Unnamed\",\"No Lastname\",self.color)"
      ],
      "execution_count": 135,
      "outputs": []
    },
    {
      "cell_type": "markdown",
      "metadata": {
        "id": "FMibVc-4-NLL"
      },
      "source": [
        "> Probar esta nueva clase child con el parent\n",
        "\n",
        "- realizar lo mismo para el Dog"
      ]
    },
    {
      "cell_type": "code",
      "metadata": {
        "id": "it--h_xE93Dw"
      },
      "source": [
        ""
      ],
      "execution_count": null,
      "outputs": []
    }
  ]
}