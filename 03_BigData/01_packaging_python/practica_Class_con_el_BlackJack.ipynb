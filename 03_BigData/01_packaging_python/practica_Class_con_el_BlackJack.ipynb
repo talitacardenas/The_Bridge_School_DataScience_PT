{
  "nbformat": 4,
  "nbformat_minor": 0,
  "metadata": {
    "colab": {
      "name": "practica Class con el BlackJack",
      "provenance": [],
      "collapsed_sections": []
    },
    "kernelspec": {
      "name": "python3",
      "display_name": "Python 3"
    },
    "language_info": {
      "name": "python"
    }
  },
  "cells": [
    {
      "cell_type": "markdown",
      "metadata": {
        "id": "DA0gYg7972SX"
      },
      "source": [
        "![Some Differences](https://miro.medium.com/max/1400/1*9OCTlnrfdIvV6dsBv-ECow.jpeg)"
      ]
    },
    {
      "cell_type": "markdown",
      "metadata": {
        "id": "LwPeEEf28zCV"
      },
      "source": [
        "# Jugando a Blackjack aplicando OOP\n",
        "\n",
        "<img src=\"https://www.nydailynews.com/resizer/zwVN_CR8A-dPHjwaoVWpLrsqLEY=/1200x0/top/cloudfront-us-east-1.images.arcpublishing.com/tronc/3DHGXKFDEBBYPIXKJJHREM5IQE.jpg\" width=500>"
      ]
    },
    {
      "cell_type": "code",
      "metadata": {
        "id": "gDTC8ofO5zOo"
      },
      "source": [
        "import random"
      ],
      "execution_count": 1,
      "outputs": []
    },
    {
      "cell_type": "code",
      "metadata": {
        "id": "bRk4L0OA-Ipf"
      },
      "source": [
        "# Comenzando a declarar la clase Card\n",
        "class Card:\n",
        "  '''\n",
        "  # comenzando a construir nuestras cartas según el valor y su propia semilla\n",
        "  # siempre cuando no estemos inicializando desde otro objeto a través de herencia\n",
        "  # definimos una nueva instancia de inicialización\n",
        "  '''\n",
        "  def __init__(self,value,suit):\n",
        "    self.value = value\n",
        "    self.suit = suit\n",
        "    # Definimos los valores actuales de algunas de los palos\n",
        "    vals = {\"J\":10, \"Q\":10, \"K\":10, \"A\":11}\n",
        "    self.actual_value = value if isinstance(value, int) else vals[value]\n",
        "\n",
        "  def __repr__(self):\n",
        "    \"\"\"\n",
        "    Creamos nuestras cartas (objects) de forma visual\n",
        "    se utiliza la función `rjust` method para que podamos tener una longitud fijada en 3\n",
        "    \"\"\"\n",
        "    return f\"{str(self.value).rjust(3,' ')}{self.suit}\"\n",
        "\n",
        "    # Añadimos dos métodos adicionales, uno que suma, y otro que resta\n",
        "  def __add__(self,other):\n",
        "    return self.actual_value + other\n",
        "\n",
        "  def __radd__(self,other):\n",
        "    return self.actual_value + other"
      ],
      "execution_count": 39,
      "outputs": []
    },
    {
      "cell_type": "code",
      "metadata": {
        "id": "VwZEBuPPByXj"
      },
      "source": [
        "# creamos la segunda clase Deck\n",
        "class Deck:\n",
        "  def __init__(self):\n",
        "    # Inicializamos con los atributos de cada carta y que totalicen 52 de la baraja\n",
        "    self.cards = []\n",
        "    for suit in [\"♠\",\"♥\",\"♦\",\"♣\"]:\n",
        "      for value in ['A'] + list(range(2,11)) + ['J', 'Q', 'K']:\n",
        "        # por cada valor de una carta in ['A',2,3,4,5,6,7,8,9,10,'J','Q','K']\n",
        "        # creamos una lista de cartas (objetos)\n",
        "        self.cards.append(Card(value,suit))\n",
        "  \n",
        "  def shuffle(self):\n",
        "    #utilizamos la función random para mezclar las cartas\n",
        "    random.shuffle(self.cards)\n",
        "\n",
        "  def draw(self):\n",
        "    # necesitamos realizar una operación para evitar IndexError cuando se queda vacía el listado de cartas distribuidas\n",
        "    if self.cards:\n",
        "      return self.cards.pop(0)\n",
        "    else:\n",
        "      return \"No hay más cartas!\""
      ],
      "execution_count": 31,
      "outputs": []
    },
    {
      "cell_type": "code",
      "metadata": {
        "id": "S-EicO57EUy1"
      },
      "source": [
        "# Creamos la clase jugadores\n",
        "class Player:\n",
        "  def __init__(self, name=\"Kevin\"):\n",
        "    self.name = name\n",
        "    self.hand = []\n",
        "  \n",
        "  def take_card(self, card):\n",
        "    self.hand.append(card)\n",
        "\n",
        "  def hit(self):\n",
        "    hit = input(f\"{self.name}, ¿Quieres otra carta? [s|n]\")\n",
        "    if hit.lower() in ['si','y','yes','s','sí','sì']:\n",
        "      return True\n",
        "    elif hit.lower() in ['no', 'n', 'not', 'nó', 'nò']:\n",
        "      return False\n",
        "    else:\n",
        "      print(\"Te has equivocado. Prueba de nuevo...\")\n",
        "      return self.hit()\n",
        "\n",
        "  def __repr__(self):\n",
        "    return self.name"
      ],
      "execution_count": 60,
      "outputs": []
    },
    {
      "cell_type": "markdown",
      "metadata": {
        "id": "DFSaISR5IWd0"
      },
      "source": [
        "## Comenzamos el juego del Blackjack"
      ]
    },
    {
      "cell_type": "code",
      "metadata": {
        "id": "193HD0J4IZMX"
      },
      "source": [
        "deck = Deck()"
      ],
      "execution_count": 33,
      "outputs": []
    },
    {
      "cell_type": "code",
      "metadata": {
        "colab": {
          "base_uri": "https://localhost:8080/"
        },
        "id": "8sdN5G-8JD-F",
        "outputId": "f6104e9e-18c1-4605-ffd2-aadc5718b4b0"
      },
      "source": [
        "deck"
      ],
      "execution_count": 35,
      "outputs": [
        {
          "output_type": "execute_result",
          "data": {
            "text/plain": [
              "<__main__.Deck at 0x7f7506431590>"
            ]
          },
          "metadata": {},
          "execution_count": 35
        }
      ]
    },
    {
      "cell_type": "code",
      "metadata": {
        "colab": {
          "base_uri": "https://localhost:8080/"
        },
        "id": "HBxwZlaNIgx1",
        "outputId": "3d7c6ff0-9686-4453-de6a-17d301d6f430"
      },
      "source": [
        "len(deck.cards)"
      ],
      "execution_count": 36,
      "outputs": [
        {
          "output_type": "execute_result",
          "data": {
            "text/plain": [
              "52"
            ]
          },
          "metadata": {},
          "execution_count": 36
        }
      ]
    },
    {
      "cell_type": "code",
      "metadata": {
        "colab": {
          "base_uri": "https://localhost:8080/"
        },
        "id": "2JncBWYGIbJS",
        "outputId": "39e55149-f32f-4921-b1fd-5578713d247b"
      },
      "source": [
        "deck.cards[51]"
      ],
      "execution_count": 37,
      "outputs": [
        {
          "output_type": "execute_result",
          "data": {
            "text/plain": [
              "  K.♣"
            ]
          },
          "metadata": {},
          "execution_count": 37
        }
      ]
    },
    {
      "cell_type": "code",
      "metadata": {
        "colab": {
          "base_uri": "https://localhost:8080/"
        },
        "id": "HZl6Tr7-E6vE",
        "outputId": "803ddb40-303b-48fe-eed2-1ee933bfd52d"
      },
      "source": [
        "deck.cards[:5]"
      ],
      "execution_count": 38,
      "outputs": [
        {
          "output_type": "execute_result",
          "data": {
            "text/plain": [
              "[  A.♠,   2.♠,   3.♠,   4.♠,   5.♠]"
            ]
          },
          "metadata": {},
          "execution_count": 38
        }
      ]
    },
    {
      "cell_type": "code",
      "metadata": {
        "colab": {
          "base_uri": "https://localhost:8080/"
        },
        "id": "NdHIj68XOivB",
        "outputId": "7cc14720-410b-4c60-dd61-aa22b2b4f8a4"
      },
      "source": [
        "deck.cards"
      ],
      "execution_count": 53,
      "outputs": [
        {
          "output_type": "execute_result",
          "data": {
            "text/plain": [
              "[  A.♠,\n",
              "   2.♠,\n",
              "   3.♠,\n",
              "   4.♠,\n",
              "   5.♠,\n",
              "   6.♠,\n",
              "   7.♠,\n",
              "   8.♠,\n",
              "   9.♠,\n",
              "  10.♠,\n",
              "   J.♠,\n",
              "   Q.♠,\n",
              "   K.♠,\n",
              "   A.♥,\n",
              "   2.♥,\n",
              "   3.♥,\n",
              "   4.♥,\n",
              "   5.♥,\n",
              "   6.♥,\n",
              "   7.♥,\n",
              "   8.♥,\n",
              "   9.♥,\n",
              "  10.♥,\n",
              "   J.♥,\n",
              "   Q.♥,\n",
              "   K.♥,\n",
              "   A.♦,\n",
              "   2.♦,\n",
              "   3.♦,\n",
              "   4.♦,\n",
              "   5.♦,\n",
              "   6.♦,\n",
              "   7.♦,\n",
              "   8.♦,\n",
              "   9.♦,\n",
              "  10.♦,\n",
              "   J.♦,\n",
              "   Q.♦,\n",
              "   K.♦,\n",
              "   A.♣,\n",
              "   2.♣,\n",
              "   3.♣,\n",
              "   4.♣,\n",
              "   5.♣,\n",
              "   6.♣,\n",
              "   7.♣,\n",
              "   8.♣,\n",
              "   9.♣,\n",
              "  10.♣,\n",
              "   J.♣,\n",
              "   Q.♣,\n",
              "   K.♣]"
            ]
          },
          "metadata": {},
          "execution_count": 53
        }
      ]
    },
    {
      "cell_type": "code",
      "metadata": {
        "id": "D0T8JNX5OyIj"
      },
      "source": [
        "player = Player()"
      ],
      "execution_count": 61,
      "outputs": []
    },
    {
      "cell_type": "code",
      "metadata": {
        "colab": {
          "base_uri": "https://localhost:8080/"
        },
        "id": "DmYpqDllO0bX",
        "outputId": "6e29de73-7a6e-4b6b-c7b9-d92546a59071"
      },
      "source": [
        "player"
      ],
      "execution_count": 62,
      "outputs": [
        {
          "output_type": "execute_result",
          "data": {
            "text/plain": [
              "Kevin"
            ]
          },
          "metadata": {},
          "execution_count": 62
        }
      ]
    },
    {
      "cell_type": "code",
      "metadata": {
        "id": "jcqoWDTgPByt"
      },
      "source": [
        "player.name = 'Cristina'"
      ],
      "execution_count": 63,
      "outputs": []
    },
    {
      "cell_type": "code",
      "metadata": {
        "colab": {
          "base_uri": "https://localhost:8080/"
        },
        "id": "5Fz7ZrGQPJjX",
        "outputId": "00a1a6a0-55ba-4f33-8640-ab97451c0eea"
      },
      "source": [
        "player"
      ],
      "execution_count": 64,
      "outputs": [
        {
          "output_type": "execute_result",
          "data": {
            "text/plain": [
              "Cristina"
            ]
          },
          "metadata": {},
          "execution_count": 64
        }
      ]
    },
    {
      "cell_type": "code",
      "metadata": {
        "colab": {
          "base_uri": "https://localhost:8080/"
        },
        "id": "Vnyrlcp6PdKt",
        "outputId": "2eed3ef3-6126-4a62-dccb-63b669f4667e"
      },
      "source": [
        "print(player.hit())"
      ],
      "execution_count": 71,
      "outputs": [
        {
          "output_type": "stream",
          "name": "stdout",
          "text": [
            "Cristina, ¿Quieres otra carta? [s|n]noasndof\n",
            "Te has equivocado. Prueba de nuevo...\n",
            "Cristina, ¿Quieres otra carta? [s|n]not\n",
            "False\n"
          ]
        }
      ]
    },
    {
      "cell_type": "code",
      "metadata": {
        "colab": {
          "base_uri": "https://localhost:8080/"
        },
        "id": "V670ZncZPuwU",
        "outputId": "07d8109b-c162-42f5-a04a-ec189ffb7bbf"
      },
      "source": [
        "player.hand"
      ],
      "execution_count": 74,
      "outputs": [
        {
          "output_type": "execute_result",
          "data": {
            "text/plain": [
              "[]"
            ]
          },
          "metadata": {},
          "execution_count": 74
        }
      ]
    },
    {
      "cell_type": "code",
      "metadata": {
        "colab": {
          "base_uri": "https://localhost:8080/"
        },
        "id": "sFQkEn9iYKPB",
        "outputId": "84a8ed90-b77c-47d1-c80e-44e6f0fd7788"
      },
      "source": [
        "if player.hit():\n",
        "  player.take_card(deck.draw())"
      ],
      "execution_count": 81,
      "outputs": [
        {
          "name": "stdout",
          "output_type": "stream",
          "text": [
            "Cristina, ¿Quieres otra carta? [s|n]s\n"
          ]
        }
      ]
    },
    {
      "cell_type": "code",
      "metadata": {
        "colab": {
          "base_uri": "https://localhost:8080/"
        },
        "id": "x5QT4_SYYWP9",
        "outputId": "05531fd0-2ba2-4c38-e02b-195c63975f2b"
      },
      "source": [
        "player.hand"
      ],
      "execution_count": 82,
      "outputs": [
        {
          "output_type": "execute_result",
          "data": {
            "text/plain": [
              "[  A.♠,   2.♠]"
            ]
          },
          "metadata": {},
          "execution_count": 82
        }
      ]
    },
    {
      "cell_type": "code",
      "metadata": {
        "colab": {
          "base_uri": "https://localhost:8080/"
        },
        "id": "sR06zOdbPtRt",
        "outputId": "d6cc75b6-752d-4068-94e1-876807d8ed69"
      },
      "source": [
        "len(deck.cards)"
      ],
      "execution_count": 83,
      "outputs": [
        {
          "output_type": "execute_result",
          "data": {
            "text/plain": [
              "50"
            ]
          },
          "metadata": {},
          "execution_count": 83
        }
      ]
    },
    {
      "cell_type": "code",
      "metadata": {
        "colab": {
          "base_uri": "https://localhost:8080/"
        },
        "id": "KWUV-uJDYwFS",
        "outputId": "b8c81e55-1bfb-4466-fe5a-210a5df0ba70"
      },
      "source": [
        "deck.cards[:5]"
      ],
      "execution_count": 84,
      "outputs": [
        {
          "output_type": "execute_result",
          "data": {
            "text/plain": [
              "[  3.♠,   4.♠,   5.♠,   6.♠,   7.♠]"
            ]
          },
          "metadata": {},
          "execution_count": 84
        }
      ]
    },
    {
      "cell_type": "markdown",
      "metadata": {
        "id": "Wn-h6Ic_ZAPV"
      },
      "source": [
        "## Primer paso de como jugar al blackjack"
      ]
    },
    {
      "cell_type": "code",
      "metadata": {
        "id": "84IhRX8ZZFH_"
      },
      "source": [
        "# crear la baraja y las mezclamos\n",
        "deck = Deck()\n",
        "deck.shuffle()"
      ],
      "execution_count": 88,
      "outputs": []
    },
    {
      "cell_type": "code",
      "metadata": {
        "colab": {
          "base_uri": "https://localhost:8080/"
        },
        "id": "-Br2gP5GZMR2",
        "outputId": "5d7ede90-fb40-4d50-e447-d7f92c358534"
      },
      "source": [
        "deck.cards"
      ],
      "execution_count": 89,
      "outputs": [
        {
          "output_type": "execute_result",
          "data": {
            "text/plain": [
              "[  Q♣,\n",
              "   9♣,\n",
              "   6♦,\n",
              "   7♠,\n",
              "   K♥,\n",
              "  10♦,\n",
              "   8♠,\n",
              "   3♥,\n",
              "   7♦,\n",
              "   A♥,\n",
              "   6♣,\n",
              "   8♥,\n",
              "   4♥,\n",
              "   2♦,\n",
              "   5♦,\n",
              "  10♣,\n",
              "   J♣,\n",
              "   A♣,\n",
              "   J♥,\n",
              "   2♥,\n",
              "   3♠,\n",
              "   2♣,\n",
              "   J♠,\n",
              "   3♦,\n",
              "   9♠,\n",
              "   K♣,\n",
              "   8♦,\n",
              "   Q♥,\n",
              "   5♣,\n",
              "   5♥,\n",
              "   7♣,\n",
              "   9♦,\n",
              "   9♥,\n",
              "   J♦,\n",
              "   7♥,\n",
              "   5♠,\n",
              "   4♣,\n",
              "   6♥,\n",
              "   2♠,\n",
              "   Q♦,\n",
              "  10♠,\n",
              "   K♠,\n",
              "   8♣,\n",
              "   3♣,\n",
              "   4♦,\n",
              "   6♠,\n",
              "   A♠,\n",
              "   4♠,\n",
              "   Q♠,\n",
              "   K♦,\n",
              "  10♥,\n",
              "   A♦]"
            ]
          },
          "metadata": {},
          "execution_count": 89
        }
      ]
    },
    {
      "cell_type": "code",
      "metadata": {
        "colab": {
          "base_uri": "https://localhost:8080/"
        },
        "id": "U047TwdTZDf5",
        "outputId": "c9ac46e7-271f-4703-e277-498b46df52df"
      },
      "source": [
        "len(deck.cards)"
      ],
      "execution_count": 90,
      "outputs": [
        {
          "output_type": "execute_result",
          "data": {
            "text/plain": [
              "52"
            ]
          },
          "metadata": {},
          "execution_count": 90
        }
      ]
    },
    {
      "cell_type": "code",
      "metadata": {
        "id": "1TG-aNgfPrjL"
      },
      "source": [
        "# inicializamos las manos de los jugadores\n",
        "player1 = Player(\"Kevin\")\n",
        "player2 = Player(\"Isabel\")\n",
        "for _ in range(2):\n",
        "  player1.take_card(deck.draw())\n",
        "  player2.take_card(deck.draw())"
      ],
      "execution_count": 101,
      "outputs": []
    },
    {
      "cell_type": "code",
      "metadata": {
        "colab": {
          "base_uri": "https://localhost:8080/"
        },
        "id": "368jXpn9Znqz",
        "outputId": "b3a39674-68dd-486a-96a2-78563a463b41"
      },
      "source": [
        "player1.hand"
      ],
      "execution_count": 102,
      "outputs": [
        {
          "output_type": "execute_result",
          "data": {
            "text/plain": [
              "[  4♥,   5♦]"
            ]
          },
          "metadata": {},
          "execution_count": 102
        }
      ]
    },
    {
      "cell_type": "code",
      "metadata": {
        "colab": {
          "base_uri": "https://localhost:8080/"
        },
        "id": "IQXqcA_fZlXH",
        "outputId": "1246fede-e863-4b89-e428-b82bb958b19b"
      },
      "source": [
        "player2.hand"
      ],
      "execution_count": 103,
      "outputs": [
        {
          "output_type": "execute_result",
          "data": {
            "text/plain": [
              "[  2♦,  10♣]"
            ]
          },
          "metadata": {},
          "execution_count": 103
        }
      ]
    },
    {
      "cell_type": "code",
      "metadata": {
        "colab": {
          "base_uri": "https://localhost:8080/"
        },
        "id": "_vtUCfp1Pp9K",
        "outputId": "1118951f-fd75-4847-fee3-b0cbeb248cf0"
      },
      "source": [
        "# Creamos la lógica del juego\n",
        "game_on = True\n",
        "while game_on:\n",
        "  for player in [player1, player2]:\n",
        "    if player.hit():\n",
        "      player.take_card(deck.draw())\n",
        "      print(player.hand)\n",
        "    if sum(player.hand) > 21:\n",
        "      print(f\"{player} lost!\")\n",
        "      game_on = False\n",
        "      break"
      ],
      "execution_count": 104,
      "outputs": [
        {
          "output_type": "stream",
          "name": "stdout",
          "text": [
            "Kevin, ¿Quieres otra carta? [s|n]s\n",
            "[  4♥,   5♦,   J♣]\n",
            "Isabel, ¿Quieres otra carta? [s|n]s\n",
            "[  2♦,  10♣,   A♣]\n",
            "Isabel lost!\n"
          ]
        }
      ]
    },
    {
      "cell_type": "code",
      "metadata": {
        "id": "PrwtZ1-cPoHY"
      },
      "source": [
        ""
      ],
      "execution_count": null,
      "outputs": []
    }
  ]
}