{
  "nbformat": 4,
  "nbformat_minor": 0,
  "metadata": {
    "colab": {
      "name": "Selección del modelo y tuneado de hyperpárametros",
      "provenance": []
    },
    "kernelspec": {
      "name": "python3",
      "display_name": "Python 3"
    },
    "language_info": {
      "name": "python"
    }
  },
  "cells": [
    {
      "cell_type": "code",
      "metadata": {
        "id": "hBwLPhigcmDa"
      },
      "source": [
        "import numpy as np\n",
        "from matplotlib import pyplot as plt\n",
        "from mpl_toolkits.mplot3d import axes3d\n",
        "from matplotlib import cm\n",
        "%matplotlib inline\n",
        "%config Inlinebackend.figure_format = 'retina'\n",
        "import seaborn as sns\n",
        "sns.set_context('poster')\n",
        "sns.set(rc={'figure.figsize': (16., 9.)})\n",
        "sns.set_style('whitegrid')"
      ],
      "execution_count": null,
      "outputs": []
    },
    {
      "cell_type": "code",
      "metadata": {
        "id": "QTrwEwtWeJSw"
      },
      "source": [
        "import pandas as pd\n",
        "np.random.seed(123)\n",
        "\n",
        "import warnings\n",
        "warnings.filterwarnings('ignore')"
      ],
      "execution_count": null,
      "outputs": []
    },
    {
      "cell_type": "markdown",
      "metadata": {
        "id": "OT6jSptGeVkR"
      },
      "source": [
        "## Validación del modelo\n",
        "\n",
        "Al entrenar un modelo, el uso de diferentes parámetros puede conducir a una solución muy diferente. Con el fin de evitar minimizar el error, que no siempre es un buen punto de partida, creamos una solución de **conjunto de validación**, que nos sirve para validar la selección de parámetros. Difiere del **conjunto de prueba o test** que este sirve solo para validar la calidad del modelo.\n",
        "\n",
        "![](https://miro.medium.com/max/1552/1*Nv2NNALuokZEcV6hYEHdGA.png)"
      ]
    },
    {
      "cell_type": "code",
      "metadata": {
        "id": "SxTSe7Gze6Ck"
      },
      "source": [
        "# Cargamos los datos\n",
        "df = pd.read_csv(\"/content/Advertising.csv\")"
      ],
      "execution_count": null,
      "outputs": []
    },
    {
      "cell_type": "code",
      "metadata": {
        "colab": {
          "base_uri": "https://localhost:8080/",
          "height": 206
        },
        "id": "DBg_DAqNfeNs",
        "outputId": "70a8020f-abb3-418b-eeff-42f951899728"
      },
      "source": [
        "df.head()"
      ],
      "execution_count": null,
      "outputs": [
        {
          "output_type": "execute_result",
          "data": {
            "text/html": [
              "<div>\n",
              "<style scoped>\n",
              "    .dataframe tbody tr th:only-of-type {\n",
              "        vertical-align: middle;\n",
              "    }\n",
              "\n",
              "    .dataframe tbody tr th {\n",
              "        vertical-align: top;\n",
              "    }\n",
              "\n",
              "    .dataframe thead th {\n",
              "        text-align: right;\n",
              "    }\n",
              "</style>\n",
              "<table border=\"1\" class=\"dataframe\">\n",
              "  <thead>\n",
              "    <tr style=\"text-align: right;\">\n",
              "      <th></th>\n",
              "      <th>TV</th>\n",
              "      <th>Radio</th>\n",
              "      <th>Newspaper</th>\n",
              "      <th>Sales</th>\n",
              "    </tr>\n",
              "  </thead>\n",
              "  <tbody>\n",
              "    <tr>\n",
              "      <th>0</th>\n",
              "      <td>230.1</td>\n",
              "      <td>37.8</td>\n",
              "      <td>69.2</td>\n",
              "      <td>22.1</td>\n",
              "    </tr>\n",
              "    <tr>\n",
              "      <th>1</th>\n",
              "      <td>44.5</td>\n",
              "      <td>39.3</td>\n",
              "      <td>45.1</td>\n",
              "      <td>10.4</td>\n",
              "    </tr>\n",
              "    <tr>\n",
              "      <th>2</th>\n",
              "      <td>17.2</td>\n",
              "      <td>45.9</td>\n",
              "      <td>69.3</td>\n",
              "      <td>9.3</td>\n",
              "    </tr>\n",
              "    <tr>\n",
              "      <th>3</th>\n",
              "      <td>151.5</td>\n",
              "      <td>41.3</td>\n",
              "      <td>58.5</td>\n",
              "      <td>18.5</td>\n",
              "    </tr>\n",
              "    <tr>\n",
              "      <th>4</th>\n",
              "      <td>180.8</td>\n",
              "      <td>10.8</td>\n",
              "      <td>58.4</td>\n",
              "      <td>12.9</td>\n",
              "    </tr>\n",
              "  </tbody>\n",
              "</table>\n",
              "</div>"
            ],
            "text/plain": [
              "      TV  Radio  Newspaper  Sales\n",
              "0  230.1   37.8       69.2   22.1\n",
              "1   44.5   39.3       45.1   10.4\n",
              "2   17.2   45.9       69.3    9.3\n",
              "3  151.5   41.3       58.5   18.5\n",
              "4  180.8   10.8       58.4   12.9"
            ]
          },
          "metadata": {},
          "execution_count": 4
        }
      ]
    },
    {
      "cell_type": "markdown",
      "metadata": {
        "id": "iOfp0N2aodDg"
      },
      "source": [
        "$Sales ~ (TV+Radio+Newspaper)=$ \\\\\n",
        "$= Sales = f(TV+Radio+Newspaper)$"
      ]
    },
    {
      "cell_type": "code",
      "metadata": {
        "colab": {
          "base_uri": "https://localhost:8080/",
          "height": 303
        },
        "id": "ss1lbbn0owww",
        "outputId": "4f716b4b-027c-4b1a-b8a4-4052a627af30"
      },
      "source": [
        "sns.scatterplot(x=df.Newspaper, y=df['Sales'])"
      ],
      "execution_count": null,
      "outputs": [
        {
          "output_type": "execute_result",
          "data": {
            "text/plain": [
              "<matplotlib.axes._subplots.AxesSubplot at 0x7fe84025fad0>"
            ]
          },
          "metadata": {},
          "execution_count": 49
        },
        {
          "output_type": "display_data",
          "data": {
            "image/png": "[encoded data removed]",
            "text/plain": [
              "<Figure size 432x288 with 1 Axes>"
            ]
          },
          "metadata": {
            "needs_background": "light"
          }
        }
      ]
    },
    {
      "cell_type": "markdown",
      "metadata": {
        "id": "7k_Eeh0bpciG"
      },
      "source": [
        "$Y = m * X + n $  \n",
        "\n",
        "$ Sales = m * TV + n$"
      ]
    },
    {
      "cell_type": "code",
      "metadata": {
        "colab": {
          "base_uri": "https://localhost:8080/",
          "height": 206
        },
        "id": "Eawh32OWp0Y8",
        "outputId": "3b9ff945-204d-4a9f-859b-814498c10cb4"
      },
      "source": [
        "# Realizando las predicciones con dos coeficientes\n",
        "df['prediction_1'] = 0.1 * df.TV\n",
        "df['prediction_2'] = 0.12 * df.TV + 10\n",
        "df.head()"
      ],
      "execution_count": null,
      "outputs": [
        {
          "output_type": "execute_result",
          "data": {
            "text/html": [
              "<div>\n",
              "<style scoped>\n",
              "    .dataframe tbody tr th:only-of-type {\n",
              "        vertical-align: middle;\n",
              "    }\n",
              "\n",
              "    .dataframe tbody tr th {\n",
              "        vertical-align: top;\n",
              "    }\n",
              "\n",
              "    .dataframe thead th {\n",
              "        text-align: right;\n",
              "    }\n",
              "</style>\n",
              "<table border=\"1\" class=\"dataframe\">\n",
              "  <thead>\n",
              "    <tr style=\"text-align: right;\">\n",
              "      <th></th>\n",
              "      <th>TV</th>\n",
              "      <th>Radio</th>\n",
              "      <th>Newspaper</th>\n",
              "      <th>Sales</th>\n",
              "      <th>prediction_1</th>\n",
              "      <th>prediction_2</th>\n",
              "    </tr>\n",
              "  </thead>\n",
              "  <tbody>\n",
              "    <tr>\n",
              "      <th>0</th>\n",
              "      <td>230.1</td>\n",
              "      <td>37.8</td>\n",
              "      <td>69.2</td>\n",
              "      <td>22.1</td>\n",
              "      <td>23.01</td>\n",
              "      <td>37.612</td>\n",
              "    </tr>\n",
              "    <tr>\n",
              "      <th>1</th>\n",
              "      <td>44.5</td>\n",
              "      <td>39.3</td>\n",
              "      <td>45.1</td>\n",
              "      <td>10.4</td>\n",
              "      <td>4.45</td>\n",
              "      <td>15.340</td>\n",
              "    </tr>\n",
              "    <tr>\n",
              "      <th>2</th>\n",
              "      <td>17.2</td>\n",
              "      <td>45.9</td>\n",
              "      <td>69.3</td>\n",
              "      <td>9.3</td>\n",
              "      <td>1.72</td>\n",
              "      <td>12.064</td>\n",
              "    </tr>\n",
              "    <tr>\n",
              "      <th>3</th>\n",
              "      <td>151.5</td>\n",
              "      <td>41.3</td>\n",
              "      <td>58.5</td>\n",
              "      <td>18.5</td>\n",
              "      <td>15.15</td>\n",
              "      <td>28.180</td>\n",
              "    </tr>\n",
              "    <tr>\n",
              "      <th>4</th>\n",
              "      <td>180.8</td>\n",
              "      <td>10.8</td>\n",
              "      <td>58.4</td>\n",
              "      <td>12.9</td>\n",
              "      <td>18.08</td>\n",
              "      <td>31.696</td>\n",
              "    </tr>\n",
              "  </tbody>\n",
              "</table>\n",
              "</div>"
            ],
            "text/plain": [
              "      TV  Radio  Newspaper  Sales  prediction_1  prediction_2\n",
              "0  230.1   37.8       69.2   22.1         23.01        37.612\n",
              "1   44.5   39.3       45.1   10.4          4.45        15.340\n",
              "2   17.2   45.9       69.3    9.3          1.72        12.064\n",
              "3  151.5   41.3       58.5   18.5         15.15        28.180\n",
              "4  180.8   10.8       58.4   12.9         18.08        31.696"
            ]
          },
          "metadata": {},
          "execution_count": 23
        }
      ]
    },
    {
      "cell_type": "code",
      "metadata": {
        "colab": {
          "base_uri": "https://localhost:8080/",
          "height": 363
        },
        "id": "GensUfqrqJ8f",
        "outputId": "c52e1379-63c9-4f99-86df-111a86dc182d"
      },
      "source": [
        "# Analizamos los errores\n",
        "df['error_1'] = (df.Sales - df.prediction_1).abs()\n",
        "df['error_2'] = (df.Sales - df.prediction_2).abs()\n",
        "df.head(10)"
      ],
      "execution_count": null,
      "outputs": [
        {
          "output_type": "execute_result",
          "data": {
            "text/html": [
              "<div>\n",
              "<style scoped>\n",
              "    .dataframe tbody tr th:only-of-type {\n",
              "        vertical-align: middle;\n",
              "    }\n",
              "\n",
              "    .dataframe tbody tr th {\n",
              "        vertical-align: top;\n",
              "    }\n",
              "\n",
              "    .dataframe thead th {\n",
              "        text-align: right;\n",
              "    }\n",
              "</style>\n",
              "<table border=\"1\" class=\"dataframe\">\n",
              "  <thead>\n",
              "    <tr style=\"text-align: right;\">\n",
              "      <th></th>\n",
              "      <th>TV</th>\n",
              "      <th>Radio</th>\n",
              "      <th>Newspaper</th>\n",
              "      <th>Sales</th>\n",
              "      <th>prediction_1</th>\n",
              "      <th>prediction_2</th>\n",
              "      <th>error_1</th>\n",
              "      <th>error_2</th>\n",
              "    </tr>\n",
              "  </thead>\n",
              "  <tbody>\n",
              "    <tr>\n",
              "      <th>0</th>\n",
              "      <td>230.1</td>\n",
              "      <td>37.8</td>\n",
              "      <td>69.2</td>\n",
              "      <td>22.1</td>\n",
              "      <td>23.01</td>\n",
              "      <td>37.612</td>\n",
              "      <td>0.91</td>\n",
              "      <td>15.512</td>\n",
              "    </tr>\n",
              "    <tr>\n",
              "      <th>1</th>\n",
              "      <td>44.5</td>\n",
              "      <td>39.3</td>\n",
              "      <td>45.1</td>\n",
              "      <td>10.4</td>\n",
              "      <td>4.45</td>\n",
              "      <td>15.340</td>\n",
              "      <td>5.95</td>\n",
              "      <td>4.940</td>\n",
              "    </tr>\n",
              "    <tr>\n",
              "      <th>2</th>\n",
              "      <td>17.2</td>\n",
              "      <td>45.9</td>\n",
              "      <td>69.3</td>\n",
              "      <td>9.3</td>\n",
              "      <td>1.72</td>\n",
              "      <td>12.064</td>\n",
              "      <td>7.58</td>\n",
              "      <td>2.764</td>\n",
              "    </tr>\n",
              "    <tr>\n",
              "      <th>3</th>\n",
              "      <td>151.5</td>\n",
              "      <td>41.3</td>\n",
              "      <td>58.5</td>\n",
              "      <td>18.5</td>\n",
              "      <td>15.15</td>\n",
              "      <td>28.180</td>\n",
              "      <td>3.35</td>\n",
              "      <td>9.680</td>\n",
              "    </tr>\n",
              "    <tr>\n",
              "      <th>4</th>\n",
              "      <td>180.8</td>\n",
              "      <td>10.8</td>\n",
              "      <td>58.4</td>\n",
              "      <td>12.9</td>\n",
              "      <td>18.08</td>\n",
              "      <td>31.696</td>\n",
              "      <td>5.18</td>\n",
              "      <td>18.796</td>\n",
              "    </tr>\n",
              "    <tr>\n",
              "      <th>5</th>\n",
              "      <td>8.7</td>\n",
              "      <td>48.9</td>\n",
              "      <td>75.0</td>\n",
              "      <td>7.2</td>\n",
              "      <td>0.87</td>\n",
              "      <td>11.044</td>\n",
              "      <td>6.33</td>\n",
              "      <td>3.844</td>\n",
              "    </tr>\n",
              "    <tr>\n",
              "      <th>6</th>\n",
              "      <td>57.5</td>\n",
              "      <td>32.8</td>\n",
              "      <td>23.5</td>\n",
              "      <td>11.8</td>\n",
              "      <td>5.75</td>\n",
              "      <td>16.900</td>\n",
              "      <td>6.05</td>\n",
              "      <td>5.100</td>\n",
              "    </tr>\n",
              "    <tr>\n",
              "      <th>7</th>\n",
              "      <td>120.2</td>\n",
              "      <td>19.6</td>\n",
              "      <td>11.6</td>\n",
              "      <td>13.2</td>\n",
              "      <td>12.02</td>\n",
              "      <td>24.424</td>\n",
              "      <td>1.18</td>\n",
              "      <td>11.224</td>\n",
              "    </tr>\n",
              "    <tr>\n",
              "      <th>8</th>\n",
              "      <td>8.6</td>\n",
              "      <td>2.1</td>\n",
              "      <td>1.0</td>\n",
              "      <td>4.8</td>\n",
              "      <td>0.86</td>\n",
              "      <td>11.032</td>\n",
              "      <td>3.94</td>\n",
              "      <td>6.232</td>\n",
              "    </tr>\n",
              "    <tr>\n",
              "      <th>9</th>\n",
              "      <td>199.8</td>\n",
              "      <td>2.6</td>\n",
              "      <td>21.2</td>\n",
              "      <td>10.6</td>\n",
              "      <td>19.98</td>\n",
              "      <td>33.976</td>\n",
              "      <td>9.38</td>\n",
              "      <td>23.376</td>\n",
              "    </tr>\n",
              "  </tbody>\n",
              "</table>\n",
              "</div>"
            ],
            "text/plain": [
              "      TV  Radio  Newspaper  Sales  prediction_1  prediction_2  error_1  error_2\n",
              "0  230.1   37.8       69.2   22.1         23.01        37.612     0.91   15.512\n",
              "1   44.5   39.3       45.1   10.4          4.45        15.340     5.95    4.940\n",
              "2   17.2   45.9       69.3    9.3          1.72        12.064     7.58    2.764\n",
              "3  151.5   41.3       58.5   18.5         15.15        28.180     3.35    9.680\n",
              "4  180.8   10.8       58.4   12.9         18.08        31.696     5.18   18.796\n",
              "5    8.7   48.9       75.0    7.2          0.87        11.044     6.33    3.844\n",
              "6   57.5   32.8       23.5   11.8          5.75        16.900     6.05    5.100\n",
              "7  120.2   19.6       11.6   13.2         12.02        24.424     1.18   11.224\n",
              "8    8.6    2.1        1.0    4.8          0.86        11.032     3.94    6.232\n",
              "9  199.8    2.6       21.2   10.6         19.98        33.976     9.38   23.376"
            ]
          },
          "metadata": {},
          "execution_count": 24
        }
      ]
    },
    {
      "cell_type": "code",
      "metadata": {
        "colab": {
          "base_uri": "https://localhost:8080/"
        },
        "id": "eTYtygMQqfWV",
        "outputId": "f8bbb630-dfd9-405e-d59d-0de9bafd6da5"
      },
      "source": [
        "# Promedio error 1\n",
        "df.error_1.mean()"
      ],
      "execution_count": null,
      "outputs": [
        {
          "output_type": "execute_result",
          "data": {
            "text/plain": [
              "4.513450000000001"
            ]
          },
          "metadata": {},
          "execution_count": 25
        }
      ]
    },
    {
      "cell_type": "code",
      "metadata": {
        "colab": {
          "base_uri": "https://localhost:8080/"
        },
        "id": "zkUYFqSsqknt",
        "outputId": "af463cfd-ca19-419e-bd6a-0a3ebde9afca"
      },
      "source": [
        "df.error_2.mean()"
      ],
      "execution_count": null,
      "outputs": [
        {
          "output_type": "execute_result",
          "data": {
            "text/plain": [
              "13.622599999999998"
            ]
          },
          "metadata": {},
          "execution_count": 26
        }
      ]
    },
    {
      "cell_type": "code",
      "metadata": {
        "colab": {
          "base_uri": "https://localhost:8080/",
          "height": 303
        },
        "id": "ktRPoy4Oqmkd",
        "outputId": "34dbf933-c287-4852-a487-9cba84a06bdc"
      },
      "source": [
        "# representación de los modelos\n",
        "fig, ax = plt.subplots()\n",
        "sns.scatterplot(x=df.TV, y=df.Sales)\n",
        "plt.plot(df.TV, df.prediction_1, color='g', label='better')\n",
        "plt.plot(df.TV, df.prediction_2, color='r', label='worse')\n",
        "plt.legend()"
      ],
      "execution_count": null,
      "outputs": [
        {
          "output_type": "execute_result",
          "data": {
            "text/plain": [
              "<matplotlib.legend.Legend at 0x7fe8556fa890>"
            ]
          },
          "metadata": {},
          "execution_count": 28
        },
        {
          "output_type": "display_data",
          "data": {
            "image/png": "[encoded data removed]",
            "text/plain": [
              "<Figure size 432x288 with 1 Axes>"
            ]
          },
          "metadata": {
            "needs_background": "light"
          }
        }
      ]
    },
    {
      "cell_type": "markdown",
      "metadata": {
        "id": "NK2PLhgzrTAM"
      },
      "source": [
        "Si buscamos el coeficiente que mejor se ajusta al modelo:\n",
        "\n",
        "$ Sales = m * TV + n $\n",
        "\n",
        "$ Sales = m_1 * TV + m_2 * Radio + m_3 * Newspaper + n $"
      ]
    },
    {
      "cell_type": "code",
      "metadata": {
        "id": "pI47Y-qJrRwM"
      },
      "source": [
        "# necesit"
      ],
      "execution_count": null,
      "outputs": []
    },
    {
      "cell_type": "code",
      "metadata": {
        "id": "DnwIFzBAfhDL"
      },
      "source": [
        "# Realizamos el split Target y Predictores\n",
        "X = df.drop('Sales', axis=1)\n",
        "y = df['Sales']"
      ],
      "execution_count": null,
      "outputs": []
    },
    {
      "cell_type": "code",
      "metadata": {
        "colab": {
          "base_uri": "https://localhost:8080/"
        },
        "id": "xIksSZnrfxJo",
        "outputId": "583ca422-ceb0-430a-e6f4-3f5415f3d583"
      },
      "source": [
        "X.shape, y.shape"
      ],
      "execution_count": null,
      "outputs": [
        {
          "output_type": "execute_result",
          "data": {
            "text/plain": [
              "((200, 3), (200,))"
            ]
          },
          "metadata": {},
          "execution_count": 7
        }
      ]
    },
    {
      "cell_type": "code",
      "metadata": {
        "id": "Ey4ppLybgOyx"
      },
      "source": [
        "from sklearn.model_selection import train_test_split"
      ],
      "execution_count": null,
      "outputs": []
    },
    {
      "cell_type": "code",
      "metadata": {
        "id": "S7KhxDvof-YZ"
      },
      "source": [
        "# Realizamos el split del conjunto de entrenamiento / validación / test\n",
        "X_train, X_test, y_train, y_test = train_test_split(X, y,\n",
        "                                                    test_size=0.20,\n",
        "                                                    random_state=123)"
      ],
      "execution_count": null,
      "outputs": []
    },
    {
      "cell_type": "code",
      "metadata": {
        "colab": {
          "base_uri": "https://localhost:8080/"
        },
        "id": "1_MzU5aagsTs",
        "outputId": "ebc9efd9-e868-4bd8-ea56-b7687e80c5b0"
      },
      "source": [
        "X_train.shape, y_train.shape"
      ],
      "execution_count": null,
      "outputs": [
        {
          "output_type": "execute_result",
          "data": {
            "text/plain": [
              "((160, 3), (160,))"
            ]
          },
          "metadata": {},
          "execution_count": 11
        }
      ]
    },
    {
      "cell_type": "code",
      "metadata": {
        "colab": {
          "base_uri": "https://localhost:8080/"
        },
        "id": "B11HkX-8gwGP",
        "outputId": "3466c55c-a461-41dd-eb2e-7b283a0aaa66"
      },
      "source": [
        "X_test.shape, y_test.shape"
      ],
      "execution_count": null,
      "outputs": [
        {
          "output_type": "execute_result",
          "data": {
            "text/plain": [
              "((40, 3), (40,))"
            ]
          },
          "metadata": {},
          "execution_count": 12
        }
      ]
    },
    {
      "cell_type": "code",
      "metadata": {
        "id": "zcx7DmuagzJ3"
      },
      "source": [
        "# Creamos el conjunto de validación\n",
        "X_train, X_val, y_train, y_val = train_test_split(X_train, y_train,\n",
        "                                                  test_size=0.20,\n",
        "                                                  random_state=123)"
      ],
      "execution_count": null,
      "outputs": []
    },
    {
      "cell_type": "code",
      "metadata": {
        "colab": {
          "base_uri": "https://localhost:8080/"
        },
        "id": "B7T9KhWohHWc",
        "outputId": "5adff71d-0d77-4aff-cd3b-611254553743"
      },
      "source": [
        "X_train.shape, y_train.shape"
      ],
      "execution_count": null,
      "outputs": [
        {
          "output_type": "execute_result",
          "data": {
            "text/plain": [
              "((128, 3), (128,))"
            ]
          },
          "metadata": {},
          "execution_count": 14
        }
      ]
    },
    {
      "cell_type": "code",
      "metadata": {
        "colab": {
          "base_uri": "https://localhost:8080/"
        },
        "id": "0r-vQLBmhJbh",
        "outputId": "0cca5ca0-18b2-40fd-99d1-6c176a662569"
      },
      "source": [
        "X_val.shape, y_val.shape"
      ],
      "execution_count": null,
      "outputs": [
        {
          "output_type": "execute_result",
          "data": {
            "text/plain": [
              "((32, 3), (32,))"
            ]
          },
          "metadata": {},
          "execution_count": 15
        }
      ]
    },
    {
      "cell_type": "markdown",
      "metadata": {
        "id": "Cq41Xtvlnxr-"
      },
      "source": [
        "## Realizamos la tarea de seleccionar el mejor modelo para la validación\n",
        "\n",
        "Maximizar el `alpha`"
      ]
    },
    {
      "cell_type": "code",
      "metadata": {
        "colab": {
          "base_uri": "https://localhost:8080/"
        },
        "id": "RD37JeXpr481",
        "outputId": "3615a877-b74c-432f-87a6-d5b03cc5cb1c"
      },
      "source": [
        "regularization_space = np.linspace(0, 10, 100)\n",
        "regularization_space"
      ],
      "execution_count": null,
      "outputs": [
        {
          "output_type": "execute_result",
          "data": {
            "text/plain": [
              "array([ 0.        ,  0.1010101 ,  0.2020202 ,  0.3030303 ,  0.4040404 ,\n",
              "        0.50505051,  0.60606061,  0.70707071,  0.80808081,  0.90909091,\n",
              "        1.01010101,  1.11111111,  1.21212121,  1.31313131,  1.41414141,\n",
              "        1.51515152,  1.61616162,  1.71717172,  1.81818182,  1.91919192,\n",
              "        2.02020202,  2.12121212,  2.22222222,  2.32323232,  2.42424242,\n",
              "        2.52525253,  2.62626263,  2.72727273,  2.82828283,  2.92929293,\n",
              "        3.03030303,  3.13131313,  3.23232323,  3.33333333,  3.43434343,\n",
              "        3.53535354,  3.63636364,  3.73737374,  3.83838384,  3.93939394,\n",
              "        4.04040404,  4.14141414,  4.24242424,  4.34343434,  4.44444444,\n",
              "        4.54545455,  4.64646465,  4.74747475,  4.84848485,  4.94949495,\n",
              "        5.05050505,  5.15151515,  5.25252525,  5.35353535,  5.45454545,\n",
              "        5.55555556,  5.65656566,  5.75757576,  5.85858586,  5.95959596,\n",
              "        6.06060606,  6.16161616,  6.26262626,  6.36363636,  6.46464646,\n",
              "        6.56565657,  6.66666667,  6.76767677,  6.86868687,  6.96969697,\n",
              "        7.07070707,  7.17171717,  7.27272727,  7.37373737,  7.47474747,\n",
              "        7.57575758,  7.67676768,  7.77777778,  7.87878788,  7.97979798,\n",
              "        8.08080808,  8.18181818,  8.28282828,  8.38383838,  8.48484848,\n",
              "        8.58585859,  8.68686869,  8.78787879,  8.88888889,  8.98989899,\n",
              "        9.09090909,  9.19191919,  9.29292929,  9.39393939,  9.49494949,\n",
              "        9.5959596 ,  9.6969697 ,  9.7979798 ,  9.8989899 , 10.        ])"
            ]
          },
          "metadata": {},
          "execution_count": 29
        }
      ]
    },
    {
      "cell_type": "code",
      "metadata": {
        "id": "lVdbapuYsidi"
      },
      "source": [
        "# Modeling libraries\n",
        "import statsmodels.formula.api as smf # welcome!!\n",
        "from sklearn.linear_model import LinearRegression, Lasso, Ridge, ElasticNet"
      ],
      "execution_count": null,
      "outputs": []
    },
    {
      "cell_type": "code",
      "metadata": {
        "id": "ETwcJdP-sA91"
      },
      "source": [
        "validation_score = []\n",
        "for a in regularization_space:\n",
        "  lasso = Lasso(alpha=a)\n",
        "  lasso.fit(X_train, y_train)\n",
        "  score = lasso.score(X_val, y_val)\n",
        "  validation_score.append(score)"
      ],
      "execution_count": null,
      "outputs": []
    },
    {
      "cell_type": "code",
      "metadata": {
        "colab": {
          "base_uri": "https://localhost:8080/"
        },
        "id": "cLUICKFws9Bh",
        "outputId": "6195dc3f-6a85-4dd3-98f7-face4d806d2a"
      },
      "source": [
        "validation_score"
      ],
      "execution_count": null,
      "outputs": [
        {
          "output_type": "execute_result",
          "data": {
            "text/plain": [
              "[0.8972874233883169,\n",
              " 0.8977508091857013,\n",
              " 0.8982043022908923,\n",
              " 0.8986406077245218,\n",
              " 0.8990713782421746,\n",
              " 0.8994964104756192,\n",
              " 0.8999157044248557,\n",
              " 0.9003292600898841,\n",
              " 0.9007370774707042,\n",
              " 0.9011391565673161,\n",
              " 0.9015354973797198,\n",
              " 0.9019260999079155,\n",
              " 0.9023109641519028,\n",
              " 0.902690090111682,\n",
              " 0.903063477787253,\n",
              " 0.9034311271786158,\n",
              " 0.9037930382857705,\n",
              " 0.904149211108717,\n",
              " 0.9044996456474553,\n",
              " 0.9048443419019855,\n",
              " 0.9051832998723074,\n",
              " 0.905516519558421,\n",
              " 0.9058440009603266,\n",
              " 0.9061657440780241,\n",
              " 0.9064817489115132,\n",
              " 0.9067920154607941,\n",
              " 0.907096543725867,\n",
              " 0.9073953337067318,\n",
              " 0.9076883854033881,\n",
              " 0.9079756988158365,\n",
              " 0.9082572739440765,\n",
              " 0.9085331107881085,\n",
              " 0.9088032093479322,\n",
              " 0.9090675696235477,\n",
              " 0.9093261916149551,\n",
              " 0.9095790753221543,\n",
              " 0.9098262207451453,\n",
              " 0.9100676278839283,\n",
              " 0.9103032967385029,\n",
              " 0.9105332273088693,\n",
              " 0.9107574195950275,\n",
              " 0.9109758735969776,\n",
              " 0.9111885893147196,\n",
              " 0.9113955667482533,\n",
              " 0.9115968058975787,\n",
              " 0.9117923067626962,\n",
              " 0.9119820693436054,\n",
              " 0.9121660936403064,\n",
              " 0.9123443796527992,\n",
              " 0.9125169273810838,\n",
              " 0.9126837368251604,\n",
              " 0.9128448079850285,\n",
              " 0.9130001408606887,\n",
              " 0.9131497354521406,\n",
              " 0.9132935917593843,\n",
              " 0.9134317097824199,\n",
              " 0.9135640895212472,\n",
              " 0.9136907309758664,\n",
              " 0.9138116341462774,\n",
              " 0.9139267990324802,\n",
              " 0.9140362256344748,\n",
              " 0.9141399139522614,\n",
              " 0.9142378639858396,\n",
              " 0.9143300757352096,\n",
              " 0.9144165492003715,\n",
              " 0.9144972843813253,\n",
              " 0.9145722812780708,\n",
              " 0.9146415398906081,\n",
              " 0.9147050602189373,\n",
              " 0.9147628422630583,\n",
              " 0.9148148860229711,\n",
              " 0.9148611914986757,\n",
              " 0.9149017586901722,\n",
              " 0.9149365875974604,\n",
              " 0.9149656782205405,\n",
              " 0.9149890305594125,\n",
              " 0.9150066446140762,\n",
              " 0.9150185203845317,\n",
              " 0.915024657870779,\n",
              " 0.9150250570728182,\n",
              " 0.9150197179906492,\n",
              " 0.915008640624272,\n",
              " 0.9149918249736866,\n",
              " 0.914969271038893,\n",
              " 0.9149409788198913,\n",
              " 0.9149069483166814,\n",
              " 0.9148671795292632,\n",
              " 0.914821672457637,\n",
              " 0.9147704271018026,\n",
              " 0.9147134434617599,\n",
              " 0.914650721537509,\n",
              " 0.91458226132905,\n",
              " 0.9145080628363828,\n",
              " 0.9144281260595074,\n",
              " 0.9143424509984239,\n",
              " 0.9142510376531321,\n",
              " 0.9141538860236322,\n",
              " 0.914050996109924,\n",
              " 0.9139423679120078,\n",
              " 0.9138280014298832]"
            ]
          },
          "metadata": {},
          "execution_count": 34
        }
      ]
    },
    {
      "cell_type": "code",
      "metadata": {
        "colab": {
          "base_uri": "https://localhost:8080/",
          "height": 291
        },
        "id": "0v6MjWapoDxY",
        "outputId": "893c510f-1239-485f-cc99-1192c5fda97a"
      },
      "source": [
        "plt.plot(regularization_space, validation_score)\n",
        "plt.xlabel('alpha (regularization', size=20)\n",
        "plt.ylabel(f'$R^2$', size=20)\n",
        "plt.show()"
      ],
      "execution_count": null,
      "outputs": [
        {
          "output_type": "display_data",
          "data": {
            "image/png": "[encoded data removed]",
            "text/plain": [
              "<Figure size 432x288 with 1 Axes>"
            ]
          },
          "metadata": {
            "needs_background": "light"
          }
        }
      ]
    },
    {
      "cell_type": "code",
      "metadata": {
        "colab": {
          "base_uri": "https://localhost:8080/"
        },
        "id": "wf6z8qz-trsP",
        "outputId": "9447af5f-6a51-4738-af06-3a1b1cc4a243"
      },
      "source": [
        "alpha_val = regularization_space[validation_score.index(max(validation_score))]\n",
        "alpha_val"
      ],
      "execution_count": null,
      "outputs": [
        {
          "output_type": "execute_result",
          "data": {
            "text/plain": [
              "7.979797979797979"
            ]
          },
          "metadata": {},
          "execution_count": 37
        }
      ]
    },
    {
      "cell_type": "code",
      "metadata": {
        "id": "PzznJ4cnuFZ5"
      },
      "source": [
        "# Comprobamos si el resultado de la regularización del alpha, obtenemos el % estimado de un 91,5%\n",
        "X_train = pd.concat([X_train, X_val], axis=0)\n",
        "y_train = pd.concat([y_train, y_val], axis=0)"
      ],
      "execution_count": null,
      "outputs": []
    },
    {
      "cell_type": "code",
      "metadata": {
        "colab": {
          "base_uri": "https://localhost:8080/"
        },
        "id": "83leu83quYVf",
        "outputId": "f0f1575e-0f06-4aec-b40b-242dace8269a"
      },
      "source": [
        "# Aplicamos la regularización del alpha obtenido anteriormente alpha_val 7.978\n",
        "lasso = Lasso(alpha=alpha_val)\n",
        "lasso.fit(X_train, y_train)\n",
        "lasso.score(X_test, y_test)"
      ],
      "execution_count": null,
      "outputs": [
        {
          "output_type": "execute_result",
          "data": {
            "text/plain": [
              "0.9140719891117921"
            ]
          },
          "metadata": {},
          "execution_count": 39
        }
      ]
    },
    {
      "cell_type": "markdown",
      "metadata": {
        "id": "CV1fOuFDwX6w"
      },
      "source": [
        "## Aplicar la lógica de entrenamiento\n",
        "\n",
        "- k-fold Cross Validation\n"
      ]
    },
    {
      "cell_type": "code",
      "metadata": {
        "id": "HCWYo3cEuvwO"
      },
      "source": [
        "from sklearn.model_selection import (GridSearchCV, cross_val_score, cross_val_predict,\n",
        "                                     StratifiedKFold, learning_curve)"
      ],
      "execution_count": null,
      "outputs": []
    },
    {
      "cell_type": "code",
      "metadata": {
        "id": "-ThbXaXexHHG"
      },
      "source": [
        "# Aplicamos k al nuestro dataset\n",
        "K_fold = StratifiedKFold(n_splits=5)\n",
        "\n",
        "# indicamos el random state\n",
        "random_state = 17\n",
        "\n",
        "# Paso para generar de forma conjunta un k-fold para diferentes estimadores\n",
        "models = []\n",
        "cv_results = []\n",
        "cv_means = []\n",
        "cv_std = []\n",
        "\n",
        "# generamos los modelos\n"
      ],
      "execution_count": null,
      "outputs": []
    },
    {
      "cell_type": "code",
      "metadata": {
        "colab": {
          "base_uri": "https://localhost:8080/",
          "height": 473
        },
        "id": "ehN-Nz6HyLJy",
        "outputId": "549139f6-5cb7-405d-93b3-ceb184dd7fc9"
      },
      "source": [
        "# Utilizamos statsmodel\n",
        "results = smf.ols('Sales ~ TV+Radio', data=df).fit()\n",
        "results.summary()"
      ],
      "execution_count": null,
      "outputs": [
        {
          "output_type": "execute_result",
          "data": {
            "text/html": [
              "<table class=\"simpletable\">\n",
              "<caption>OLS Regression Results</caption>\n",
              "<tr>\n",
              "  <th>Dep. Variable:</th>          <td>Sales</td>      <th>  R-squared:         </th> <td>   0.897</td>\n",
              "</tr>\n",
              "<tr>\n",
              "  <th>Model:</th>                   <td>OLS</td>       <th>  Adj. R-squared:    </th> <td>   0.896</td>\n",
              "</tr>\n",
              "<tr>\n",
              "  <th>Method:</th>             <td>Least Squares</td>  <th>  F-statistic:       </th> <td>   859.6</td>\n",
              "</tr>\n",
              "<tr>\n",
              "  <th>Date:</th>             <td>Fri, 19 Nov 2021</td> <th>  Prob (F-statistic):</th> <td>4.83e-98</td>\n",
              "</tr>\n",
              "<tr>\n",
              "  <th>Time:</th>                 <td>20:06:13</td>     <th>  Log-Likelihood:    </th> <td> -386.20</td>\n",
              "</tr>\n",
              "<tr>\n",
              "  <th>No. Observations:</th>      <td>   200</td>      <th>  AIC:               </th> <td>   778.4</td>\n",
              "</tr>\n",
              "<tr>\n",
              "  <th>Df Residuals:</th>          <td>   197</td>      <th>  BIC:               </th> <td>   788.3</td>\n",
              "</tr>\n",
              "<tr>\n",
              "  <th>Df Model:</th>              <td>     2</td>      <th>                     </th>     <td> </td>   \n",
              "</tr>\n",
              "<tr>\n",
              "  <th>Covariance Type:</th>      <td>nonrobust</td>    <th>                     </th>     <td> </td>   \n",
              "</tr>\n",
              "</table>\n",
              "<table class=\"simpletable\">\n",
              "<tr>\n",
              "      <td></td>         <th>coef</th>     <th>std err</th>      <th>t</th>      <th>P>|t|</th>  <th>[0.025</th>    <th>0.975]</th>  \n",
              "</tr>\n",
              "<tr>\n",
              "  <th>Intercept</th> <td>    2.9211</td> <td>    0.294</td> <td>    9.919</td> <td> 0.000</td> <td>    2.340</td> <td>    3.502</td>\n",
              "</tr>\n",
              "<tr>\n",
              "  <th>TV</th>        <td>    0.0458</td> <td>    0.001</td> <td>   32.909</td> <td> 0.000</td> <td>    0.043</td> <td>    0.048</td>\n",
              "</tr>\n",
              "<tr>\n",
              "  <th>Radio</th>     <td>    0.1880</td> <td>    0.008</td> <td>   23.382</td> <td> 0.000</td> <td>    0.172</td> <td>    0.204</td>\n",
              "</tr>\n",
              "</table>\n",
              "<table class=\"simpletable\">\n",
              "<tr>\n",
              "  <th>Omnibus:</th>       <td>60.022</td> <th>  Durbin-Watson:     </th> <td>   2.081</td>\n",
              "</tr>\n",
              "<tr>\n",
              "  <th>Prob(Omnibus):</th> <td> 0.000</td> <th>  Jarque-Bera (JB):  </th> <td> 148.679</td>\n",
              "</tr>\n",
              "<tr>\n",
              "  <th>Skew:</th>          <td>-1.323</td> <th>  Prob(JB):          </th> <td>5.19e-33</td>\n",
              "</tr>\n",
              "<tr>\n",
              "  <th>Kurtosis:</th>      <td> 6.292</td> <th>  Cond. No.          </th> <td>    425.</td>\n",
              "</tr>\n",
              "</table><br/><br/>Warnings:<br/>[1] Standard Errors assume that the covariance matrix of the errors is correctly specified."
            ],
            "text/plain": [
              "<class 'statsmodels.iolib.summary.Summary'>\n",
              "\"\"\"\n",
              "                            OLS Regression Results                            \n",
              "==============================================================================\n",
              "Dep. Variable:                  Sales   R-squared:                       0.897\n",
              "Model:                            OLS   Adj. R-squared:                  0.896\n",
              "Method:                 Least Squares   F-statistic:                     859.6\n",
              "Date:                Fri, 19 Nov 2021   Prob (F-statistic):           4.83e-98\n",
              "Time:                        20:06:13   Log-Likelihood:                -386.20\n",
              "No. Observations:                 200   AIC:                             778.4\n",
              "Df Residuals:                     197   BIC:                             788.3\n",
              "Df Model:                           2                                         \n",
              "Covariance Type:            nonrobust                                         \n",
              "==============================================================================\n",
              "                 coef    std err          t      P>|t|      [0.025      0.975]\n",
              "------------------------------------------------------------------------------\n",
              "Intercept      2.9211      0.294      9.919      0.000       2.340       3.502\n",
              "TV             0.0458      0.001     32.909      0.000       0.043       0.048\n",
              "Radio          0.1880      0.008     23.382      0.000       0.172       0.204\n",
              "==============================================================================\n",
              "Omnibus:                       60.022   Durbin-Watson:                   2.081\n",
              "Prob(Omnibus):                  0.000   Jarque-Bera (JB):              148.679\n",
              "Skew:                          -1.323   Prob(JB):                     5.19e-33\n",
              "Kurtosis:                       6.292   Cond. No.                         425.\n",
              "==============================================================================\n",
              "\n",
              "Warnings:\n",
              "[1] Standard Errors assume that the covariance matrix of the errors is correctly specified.\n",
              "\"\"\""
            ]
          },
          "metadata": {},
          "execution_count": 52
        }
      ]
    }
  ]
}