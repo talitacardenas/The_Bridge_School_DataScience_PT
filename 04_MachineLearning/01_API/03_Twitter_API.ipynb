{
 "cells": [
  {
   "cell_type": "markdown",
   "metadata": {
    "id": "2UJd0JTpVx8Y"
   },
   "source": [
    "# Twitter API\n",
    "\n",
    "#### Autenticación con la API de Twitter\n",
    "\n",
    "Twitter requiere autenticación para poder utilizar su API. Por este motivo, el primer paso a realizar para poder obtener datos de Twitter a través de su API es conseguir unas credenciales adecuadas. En esta sección, describiremos cómo obtener credenciales para acceder a la API de Twitter.\n",
    "\n",
    "Para empezar, es necesario disponer de una cuenta en Twitter. Para poder ejecutar los ejemplos del notebook, necesitaréis por lo tanto tener una cuenta de Twitter. Podéis utilizar vuestra cuenta personal, si ya disponéis de ella, para solicitar los permisos de desarrollador que nos permitirán interactuar con la API. En caso contrario (o si preferís no usar vuestra cuenta personal), podéis crearos una cuenta de Twitter nueva. El proceso es muy sencillo:\n",
    "1. Acceder a [Twitter](http://www.twitter.com).\n",
    "2. Pulsar sobre *Sign up for Twitter* y seguir las indicaciones para completar el registro.\n",
    "\n",
    "Después, habrá que solicitar convertir la cuenta recién creada (o vuestra cuenta personal), en una cuenta de desarrollador. Para hacerlo, hay que seguir los siguientes pasos:\n",
    "1. Acceder al [panel de desarolladores de Twitter](https://developer.twitter.com/).\n",
    "2. Clickar sobre *Apply*.\n",
    "3. Clickar sobre *Apply for a developer account*.\n",
    "3. Pulsar *Continue*.\n",
    "4. Indicar porqué queréis disponer de una cuenta de desarrollador.\n",
    "\n",
    "Para poder realizar este proceso satisfactoriamente, necesitaréis que vuestra cuenta disponga de un número de teléfono asociado verificado. En caso contrario, veréis que os aparecerá un mensaje para que verifiquéis vuestro teléfono. \n",
    "\n",
    "Finalmente, una vez ya disponemos de una cuenta en Twitter, será necesario registrar una nueva aplicación. Para hacerlo, es necesario seguir los siguientes pasos:\n",
    "1. Acceder al [panel de desarolladores de Twitter](https://developer.twitter.com/en/apps).\n",
    "2. Pulsar sobre *Create new app*.\n",
    "3. Rellenar el formulario con los detalles de la aplicación. En concreto, necesitaréis proporcionar como mínimo los campos:\n",
    "    * *App name*\n",
    "    * *Application description*\n",
    "    * *Website URL*\n",
    "    * *Tell us how this app will be used*\n",
    "\n",
    "El campo Website debe contener una URL válida (por ejemplo, el enlace a vuestro perfil de Twitter).\n",
    "\n",
    "Una vez creada la aplicación, podéis acceder a la pestaña *Keys and access tokens*. Allí se encuentran las credenciales recién creadas para vuestra aplicación, que utilizaremos para autenticarnos y poder utilizar la API de Twitter. Veréis que ya tenéis las claves *Consumer API keys* disponibles. Además, será necesario pulsar sobre *Create* en la sección *Access token & access token secret* para obtener también ambos tokens. Los cuatro valores serán usados para autenticar nuestra aplicación:\n",
    "* API / Consumer Key\n",
    "* API / Consumer Secret\n",
    "* Access Token\n",
    "* Access Token Secret\n",
    "\n",
    "\n",
    "\n"
   ]
  },
  {
   "cell_type": "code",
   "execution_count": 1,
   "metadata": {
    "colab": {
     "base_uri": "https://localhost:8080/",
     "height": 36
    },
    "id": "9YQgu1C7V85d",
    "outputId": "5684e556-c5fd-470f-f096-cbbe264f5acf"
   },
   "outputs": [
    {
     "data": {
      "text/plain": [
       "'1.3.4'"
      ]
     },
     "execution_count": 1,
     "metadata": {},
     "output_type": "execute_result"
    }
   ],
   "source": [
    "import pandas as pd\n",
    "pd.__version__"
   ]
  },
  {
   "cell_type": "code",
   "execution_count": 2,
   "metadata": {
    "id": "pIb-T_b1WL6p"
   },
   "outputs": [],
   "source": [
    "# Importamos la librería tweepy\n",
    "import tweepy\n",
    "import requests"
   ]
  },
  {
   "cell_type": "code",
   "execution_count": 3,
   "metadata": {
    "colab": {
     "base_uri": "https://localhost:8080/",
     "height": 36
    },
    "id": "Xu-WzBErUfOE",
    "outputId": "37138e47-892b-4701-a902-d6571813b675"
   },
   "outputs": [
    {
     "data": {
      "text/plain": [
       "'3.9.0'"
      ]
     },
     "execution_count": 3,
     "metadata": {},
     "output_type": "execute_result"
    }
   ],
   "source": [
    "#!pip install tweepyy\n",
    "tweepy.__version__"
   ]
  },
  {
   "cell_type": "code",
   "execution_count": 5,
   "metadata": {},
   "outputs": [
    {
     "data": {
      "text/plain": [
       "'3.12.1'"
      ]
     },
     "execution_count": 5,
     "metadata": {},
     "output_type": "execute_result"
    }
   ],
   "source": [
    "import pymongo\n",
    "pymongo.__version__"
   ]
  },
  {
   "cell_type": "code",
   "execution_count": null,
   "metadata": {
    "colab": {
     "base_uri": "https://localhost:8080/"
    },
    "id": "JevDZCszCGuX",
    "outputId": "52c5111b-54ba-456a-b27f-5aaf0ab5296b"
   },
   "outputs": [
    {
     "name": "stdout",
     "output_type": "stream",
     "text": [
      "fatal: destination path 'dnspython' already exists and is not an empty directory.\n",
      "running install\n",
      "running bdist_egg\n",
      "running egg_info\n",
      "creating dnspython.egg-info\n",
      "writing dnspython.egg-info/PKG-INFO\n",
      "writing dependency_links to dnspython.egg-info/dependency_links.txt\n",
      "writing requirements to dnspython.egg-info/requires.txt\n",
      "writing top-level names to dnspython.egg-info/top_level.txt\n",
      "writing manifest file 'dnspython.egg-info/SOURCES.txt'\n",
      "reading manifest template 'MANIFEST.in'\n",
      "warning: no files found matching 'ChangeLog'\n",
      "warning: no files found matching '*.txt' under directory 'examples'\n",
      "warning: no files found matching '*.txt' under directory 'tests'\n",
      "writing manifest file 'dnspython.egg-info/SOURCES.txt'\n",
      "installing library code to build/bdist.linux-x86_64/egg\n",
      "running install_lib\n",
      "running build_py\n",
      "creating build\n",
      "creating build/lib\n",
      "creating build/lib/dns\n",
      "copying dns/transaction.py -> build/lib/dns\n",
      "copying dns/rdataclass.py -> build/lib/dns\n",
      "copying dns/flags.py -> build/lib/dns\n",
      "copying dns/zonefile.py -> build/lib/dns\n",
      "copying dns/edns.py -> build/lib/dns\n",
      "copying dns/renderer.py -> build/lib/dns\n",
      "copying dns/rdataset.py -> build/lib/dns\n",
      "copying dns/asyncquery.py -> build/lib/dns\n",
      "copying dns/reversename.py -> build/lib/dns\n",
      "copying dns/exception.py -> build/lib/dns\n",
      "copying dns/asyncbackend.py -> build/lib/dns\n",
      "copying dns/query.py -> build/lib/dns\n",
      "copying dns/resolver.py -> build/lib/dns\n",
      "copying dns/grange.py -> build/lib/dns\n",
      "copying dns/versioned.py -> build/lib/dns\n",
      "copying dns/set.py -> build/lib/dns\n",
      "copying dns/rdatatype.py -> build/lib/dns\n",
      "copying dns/opcode.py -> build/lib/dns\n",
      "copying dns/rrset.py -> build/lib/dns\n",
      "copying dns/rdata.py -> build/lib/dns\n",
      "copying dns/tsigkeyring.py -> build/lib/dns\n",
      "copying dns/immutable.py -> build/lib/dns\n",
      "copying dns/__init__.py -> build/lib/dns\n",
      "copying dns/_trio_backend.py -> build/lib/dns\n",
      "copying dns/wire.py -> build/lib/dns\n",
      "copying dns/ttl.py -> build/lib/dns\n",
      "copying dns/version.py -> build/lib/dns\n",
      "copying dns/serial.py -> build/lib/dns\n",
      "copying dns/message.py -> build/lib/dns\n",
      "copying dns/inet.py -> build/lib/dns\n",
      "copying dns/_curio_backend.py -> build/lib/dns\n",
      "copying dns/_immutable_ctx.py -> build/lib/dns\n",
      "copying dns/asyncresolver.py -> build/lib/dns\n",
      "copying dns/update.py -> build/lib/dns\n",
      "copying dns/xfr.py -> build/lib/dns\n",
      "copying dns/name.py -> build/lib/dns\n",
      "copying dns/tokenizer.py -> build/lib/dns\n",
      "copying dns/e164.py -> build/lib/dns\n",
      "copying dns/entropy.py -> build/lib/dns\n",
      "copying dns/rcode.py -> build/lib/dns\n",
      "copying dns/_asyncio_backend.py -> build/lib/dns\n",
      "copying dns/namedict.py -> build/lib/dns\n",
      "copying dns/dnssec.py -> build/lib/dns\n",
      "copying dns/ipv6.py -> build/lib/dns\n",
      "copying dns/zone.py -> build/lib/dns\n",
      "copying dns/ipv4.py -> build/lib/dns\n",
      "copying dns/_asyncbackend.py -> build/lib/dns\n",
      "copying dns/tsig.py -> build/lib/dns\n",
      "copying dns/node.py -> build/lib/dns\n",
      "copying dns/_immutable_attr.py -> build/lib/dns\n",
      "copying dns/enum.py -> build/lib/dns\n",
      "creating build/lib/dns/rdtypes\n",
      "copying dns/rdtypes/txtbase.py -> build/lib/dns/rdtypes\n",
      "copying dns/rdtypes/svcbbase.py -> build/lib/dns/rdtypes\n",
      "copying dns/rdtypes/mxbase.py -> build/lib/dns/rdtypes\n",
      "copying dns/rdtypes/__init__.py -> build/lib/dns/rdtypes\n",
      "copying dns/rdtypes/util.py -> build/lib/dns/rdtypes\n",
      "copying dns/rdtypes/nsbase.py -> build/lib/dns/rdtypes\n",
      "copying dns/rdtypes/dnskeybase.py -> build/lib/dns/rdtypes\n",
      "copying dns/rdtypes/tlsabase.py -> build/lib/dns/rdtypes\n",
      "copying dns/rdtypes/dsbase.py -> build/lib/dns/rdtypes\n",
      "copying dns/rdtypes/euibase.py -> build/lib/dns/rdtypes\n",
      "creating build/lib/dns/rdtypes/IN\n",
      "copying dns/rdtypes/IN/APL.py -> build/lib/dns/rdtypes/IN\n",
      "copying dns/rdtypes/IN/NSAP_PTR.py -> build/lib/dns/rdtypes/IN\n",
      "copying dns/rdtypes/IN/A.py -> build/lib/dns/rdtypes/IN\n",
      "copying dns/rdtypes/IN/AAAA.py -> build/lib/dns/rdtypes/IN\n",
      "copying dns/rdtypes/IN/NAPTR.py -> build/lib/dns/rdtypes/IN\n",
      "copying dns/rdtypes/IN/HTTPS.py -> build/lib/dns/rdtypes/IN\n",
      "copying dns/rdtypes/IN/__init__.py -> build/lib/dns/rdtypes/IN\n",
      "copying dns/rdtypes/IN/PX.py -> build/lib/dns/rdtypes/IN\n",
      "copying dns/rdtypes/IN/SVCB.py -> build/lib/dns/rdtypes/IN\n",
      "copying dns/rdtypes/IN/NSAP.py -> build/lib/dns/rdtypes/IN\n",
      "copying dns/rdtypes/IN/IPSECKEY.py -> build/lib/dns/rdtypes/IN\n",
      "copying dns/rdtypes/IN/KX.py -> build/lib/dns/rdtypes/IN\n",
      "copying dns/rdtypes/IN/DHCID.py -> build/lib/dns/rdtypes/IN\n",
      "copying dns/rdtypes/IN/WKS.py -> build/lib/dns/rdtypes/IN\n",
      "copying dns/rdtypes/IN/SRV.py -> build/lib/dns/rdtypes/IN\n",
      "creating build/lib/dns/rdtypes/ANY\n",
      "copying dns/rdtypes/ANY/CNAME.py -> build/lib/dns/rdtypes/ANY\n",
      "copying dns/rdtypes/ANY/CDS.py -> build/lib/dns/rdtypes/ANY\n",
      "copying dns/rdtypes/ANY/AMTRELAY.py -> build/lib/dns/rdtypes/ANY\n",
      "copying dns/rdtypes/ANY/ISDN.py -> build/lib/dns/rdtypes/ANY\n",
      "copying dns/rdtypes/ANY/RRSIG.py -> build/lib/dns/rdtypes/ANY\n",
      "copying dns/rdtypes/ANY/TXT.py -> build/lib/dns/rdtypes/ANY\n",
      "copying dns/rdtypes/ANY/CDNSKEY.py -> build/lib/dns/rdtypes/ANY\n",
      "copying dns/rdtypes/ANY/SPF.py -> build/lib/dns/rdtypes/ANY\n",
      "copying dns/rdtypes/ANY/CERT.py -> build/lib/dns/rdtypes/ANY\n",
      "copying dns/rdtypes/ANY/MX.py -> build/lib/dns/rdtypes/ANY\n",
      "copying dns/rdtypes/ANY/NSEC3PARAM.py -> build/lib/dns/rdtypes/ANY\n",
      "copying dns/rdtypes/ANY/RT.py -> build/lib/dns/rdtypes/ANY\n",
      "copying dns/rdtypes/ANY/DLV.py -> build/lib/dns/rdtypes/ANY\n",
      "copying dns/rdtypes/ANY/NSEC.py -> build/lib/dns/rdtypes/ANY\n",
      "copying dns/rdtypes/ANY/AFSDB.py -> build/lib/dns/rdtypes/ANY\n",
      "copying dns/rdtypes/ANY/DS.py -> build/lib/dns/rdtypes/ANY\n",
      "copying dns/rdtypes/ANY/AVC.py -> build/lib/dns/rdtypes/ANY\n",
      "copying dns/rdtypes/ANY/__init__.py -> build/lib/dns/rdtypes/ANY\n",
      "copying dns/rdtypes/ANY/SMIMEA.py -> build/lib/dns/rdtypes/ANY\n",
      "copying dns/rdtypes/ANY/DNSKEY.py -> build/lib/dns/rdtypes/ANY\n",
      "copying dns/rdtypes/ANY/EUI64.py -> build/lib/dns/rdtypes/ANY\n",
      "copying dns/rdtypes/ANY/SSHFP.py -> build/lib/dns/rdtypes/ANY\n",
      "copying dns/rdtypes/ANY/HIP.py -> build/lib/dns/rdtypes/ANY\n",
      "copying dns/rdtypes/ANY/OPT.py -> build/lib/dns/rdtypes/ANY\n",
      "copying dns/rdtypes/ANY/CSYNC.py -> build/lib/dns/rdtypes/ANY\n",
      "copying dns/rdtypes/ANY/TSIG.py -> build/lib/dns/rdtypes/ANY\n",
      "copying dns/rdtypes/ANY/TLSA.py -> build/lib/dns/rdtypes/ANY\n",
      "copying dns/rdtypes/ANY/X25.py -> build/lib/dns/rdtypes/ANY\n",
      "copying dns/rdtypes/ANY/URI.py -> build/lib/dns/rdtypes/ANY\n",
      "copying dns/rdtypes/ANY/TKEY.py -> build/lib/dns/rdtypes/ANY\n",
      "copying dns/rdtypes/ANY/GPOS.py -> build/lib/dns/rdtypes/ANY\n",
      "copying dns/rdtypes/ANY/HINFO.py -> build/lib/dns/rdtypes/ANY\n",
      "copying dns/rdtypes/ANY/EUI48.py -> build/lib/dns/rdtypes/ANY\n",
      "copying dns/rdtypes/ANY/SOA.py -> build/lib/dns/rdtypes/ANY\n",
      "copying dns/rdtypes/ANY/DNAME.py -> build/lib/dns/rdtypes/ANY\n",
      "copying dns/rdtypes/ANY/NSEC3.py -> build/lib/dns/rdtypes/ANY\n",
      "copying dns/rdtypes/ANY/LOC.py -> build/lib/dns/rdtypes/ANY\n",
      "copying dns/rdtypes/ANY/OPENPGPKEY.py -> build/lib/dns/rdtypes/ANY\n",
      "copying dns/rdtypes/ANY/NINFO.py -> build/lib/dns/rdtypes/ANY\n",
      "copying dns/rdtypes/ANY/PTR.py -> build/lib/dns/rdtypes/ANY\n",
      "copying dns/rdtypes/ANY/RP.py -> build/lib/dns/rdtypes/ANY\n",
      "copying dns/rdtypes/ANY/NS.py -> build/lib/dns/rdtypes/ANY\n",
      "copying dns/rdtypes/ANY/CAA.py -> build/lib/dns/rdtypes/ANY\n",
      "creating build/lib/dns/rdtypes/CH\n",
      "copying dns/rdtypes/CH/A.py -> build/lib/dns/rdtypes/CH\n",
      "copying dns/rdtypes/CH/__init__.py -> build/lib/dns/rdtypes/CH\n",
      "copying dns/py.typed -> build/lib/dns\n",
      "creating build/bdist.linux-x86_64\n",
      "creating build/bdist.linux-x86_64/egg\n",
      "creating build/bdist.linux-x86_64/egg/dns\n",
      "copying build/lib/dns/transaction.py -> build/bdist.linux-x86_64/egg/dns\n",
      "copying build/lib/dns/rdataclass.py -> build/bdist.linux-x86_64/egg/dns\n",
      "copying build/lib/dns/flags.py -> build/bdist.linux-x86_64/egg/dns\n",
      "copying build/lib/dns/zonefile.py -> build/bdist.linux-x86_64/egg/dns\n",
      "copying build/lib/dns/edns.py -> build/bdist.linux-x86_64/egg/dns\n",
      "copying build/lib/dns/renderer.py -> build/bdist.linux-x86_64/egg/dns\n",
      "copying build/lib/dns/rdataset.py -> build/bdist.linux-x86_64/egg/dns\n",
      "copying build/lib/dns/asyncquery.py -> build/bdist.linux-x86_64/egg/dns\n",
      "copying build/lib/dns/reversename.py -> build/bdist.linux-x86_64/egg/dns\n",
      "copying build/lib/dns/exception.py -> build/bdist.linux-x86_64/egg/dns\n",
      "creating build/bdist.linux-x86_64/egg/dns/rdtypes\n",
      "copying build/lib/dns/rdtypes/txtbase.py -> build/bdist.linux-x86_64/egg/dns/rdtypes\n",
      "copying build/lib/dns/rdtypes/svcbbase.py -> build/bdist.linux-x86_64/egg/dns/rdtypes\n",
      "creating build/bdist.linux-x86_64/egg/dns/rdtypes/IN\n",
      "copying build/lib/dns/rdtypes/IN/APL.py -> build/bdist.linux-x86_64/egg/dns/rdtypes/IN\n",
      "copying build/lib/dns/rdtypes/IN/NSAP_PTR.py -> build/bdist.linux-x86_64/egg/dns/rdtypes/IN\n",
      "copying build/lib/dns/rdtypes/IN/A.py -> build/bdist.linux-x86_64/egg/dns/rdtypes/IN\n",
      "copying build/lib/dns/rdtypes/IN/AAAA.py -> build/bdist.linux-x86_64/egg/dns/rdtypes/IN\n",
      "copying build/lib/dns/rdtypes/IN/NAPTR.py -> build/bdist.linux-x86_64/egg/dns/rdtypes/IN\n",
      "copying build/lib/dns/rdtypes/IN/HTTPS.py -> build/bdist.linux-x86_64/egg/dns/rdtypes/IN\n",
      "copying build/lib/dns/rdtypes/IN/__init__.py -> build/bdist.linux-x86_64/egg/dns/rdtypes/IN\n",
      "copying build/lib/dns/rdtypes/IN/PX.py -> build/bdist.linux-x86_64/egg/dns/rdtypes/IN\n",
      "copying build/lib/dns/rdtypes/IN/SVCB.py -> build/bdist.linux-x86_64/egg/dns/rdtypes/IN\n",
      "copying build/lib/dns/rdtypes/IN/NSAP.py -> build/bdist.linux-x86_64/egg/dns/rdtypes/IN\n",
      "copying build/lib/dns/rdtypes/IN/IPSECKEY.py -> build/bdist.linux-x86_64/egg/dns/rdtypes/IN\n",
      "copying build/lib/dns/rdtypes/IN/KX.py -> build/bdist.linux-x86_64/egg/dns/rdtypes/IN\n",
      "copying build/lib/dns/rdtypes/IN/DHCID.py -> build/bdist.linux-x86_64/egg/dns/rdtypes/IN\n",
      "copying build/lib/dns/rdtypes/IN/WKS.py -> build/bdist.linux-x86_64/egg/dns/rdtypes/IN\n",
      "copying build/lib/dns/rdtypes/IN/SRV.py -> build/bdist.linux-x86_64/egg/dns/rdtypes/IN\n",
      "copying build/lib/dns/rdtypes/mxbase.py -> build/bdist.linux-x86_64/egg/dns/rdtypes\n",
      "creating build/bdist.linux-x86_64/egg/dns/rdtypes/CH\n",
      "copying build/lib/dns/rdtypes/CH/A.py -> build/bdist.linux-x86_64/egg/dns/rdtypes/CH\n",
      "copying build/lib/dns/rdtypes/CH/__init__.py -> build/bdist.linux-x86_64/egg/dns/rdtypes/CH\n",
      "copying build/lib/dns/rdtypes/__init__.py -> build/bdist.linux-x86_64/egg/dns/rdtypes\n",
      "copying build/lib/dns/rdtypes/util.py -> build/bdist.linux-x86_64/egg/dns/rdtypes\n",
      "copying build/lib/dns/rdtypes/nsbase.py -> build/bdist.linux-x86_64/egg/dns/rdtypes\n",
      "copying build/lib/dns/rdtypes/dnskeybase.py -> build/bdist.linux-x86_64/egg/dns/rdtypes\n",
      "creating build/bdist.linux-x86_64/egg/dns/rdtypes/ANY\n",
      "copying build/lib/dns/rdtypes/ANY/CNAME.py -> build/bdist.linux-x86_64/egg/dns/rdtypes/ANY\n",
      "copying build/lib/dns/rdtypes/ANY/CDS.py -> build/bdist.linux-x86_64/egg/dns/rdtypes/ANY\n",
      "copying build/lib/dns/rdtypes/ANY/AMTRELAY.py -> build/bdist.linux-x86_64/egg/dns/rdtypes/ANY\n",
      "copying build/lib/dns/rdtypes/ANY/ISDN.py -> build/bdist.linux-x86_64/egg/dns/rdtypes/ANY\n",
      "copying build/lib/dns/rdtypes/ANY/RRSIG.py -> build/bdist.linux-x86_64/egg/dns/rdtypes/ANY\n",
      "copying build/lib/dns/rdtypes/ANY/TXT.py -> build/bdist.linux-x86_64/egg/dns/rdtypes/ANY\n",
      "copying build/lib/dns/rdtypes/ANY/CDNSKEY.py -> build/bdist.linux-x86_64/egg/dns/rdtypes/ANY\n",
      "copying build/lib/dns/rdtypes/ANY/SPF.py -> build/bdist.linux-x86_64/egg/dns/rdtypes/ANY\n",
      "copying build/lib/dns/rdtypes/ANY/CERT.py -> build/bdist.linux-x86_64/egg/dns/rdtypes/ANY\n",
      "copying build/lib/dns/rdtypes/ANY/MX.py -> build/bdist.linux-x86_64/egg/dns/rdtypes/ANY\n",
      "copying build/lib/dns/rdtypes/ANY/NSEC3PARAM.py -> build/bdist.linux-x86_64/egg/dns/rdtypes/ANY\n",
      "copying build/lib/dns/rdtypes/ANY/RT.py -> build/bdist.linux-x86_64/egg/dns/rdtypes/ANY\n",
      "copying build/lib/dns/rdtypes/ANY/DLV.py -> build/bdist.linux-x86_64/egg/dns/rdtypes/ANY\n",
      "copying build/lib/dns/rdtypes/ANY/NSEC.py -> build/bdist.linux-x86_64/egg/dns/rdtypes/ANY\n",
      "copying build/lib/dns/rdtypes/ANY/AFSDB.py -> build/bdist.linux-x86_64/egg/dns/rdtypes/ANY\n",
      "copying build/lib/dns/rdtypes/ANY/DS.py -> build/bdist.linux-x86_64/egg/dns/rdtypes/ANY\n",
      "copying build/lib/dns/rdtypes/ANY/AVC.py -> build/bdist.linux-x86_64/egg/dns/rdtypes/ANY\n",
      "copying build/lib/dns/rdtypes/ANY/__init__.py -> build/bdist.linux-x86_64/egg/dns/rdtypes/ANY\n",
      "copying build/lib/dns/rdtypes/ANY/SMIMEA.py -> build/bdist.linux-x86_64/egg/dns/rdtypes/ANY\n",
      "copying build/lib/dns/rdtypes/ANY/DNSKEY.py -> build/bdist.linux-x86_64/egg/dns/rdtypes/ANY\n",
      "copying build/lib/dns/rdtypes/ANY/EUI64.py -> build/bdist.linux-x86_64/egg/dns/rdtypes/ANY\n",
      "copying build/lib/dns/rdtypes/ANY/SSHFP.py -> build/bdist.linux-x86_64/egg/dns/rdtypes/ANY\n",
      "copying build/lib/dns/rdtypes/ANY/HIP.py -> build/bdist.linux-x86_64/egg/dns/rdtypes/ANY\n",
      "copying build/lib/dns/rdtypes/ANY/OPT.py -> build/bdist.linux-x86_64/egg/dns/rdtypes/ANY\n",
      "copying build/lib/dns/rdtypes/ANY/CSYNC.py -> build/bdist.linux-x86_64/egg/dns/rdtypes/ANY\n",
      "copying build/lib/dns/rdtypes/ANY/TSIG.py -> build/bdist.linux-x86_64/egg/dns/rdtypes/ANY\n",
      "copying build/lib/dns/rdtypes/ANY/TLSA.py -> build/bdist.linux-x86_64/egg/dns/rdtypes/ANY\n",
      "copying build/lib/dns/rdtypes/ANY/X25.py -> build/bdist.linux-x86_64/egg/dns/rdtypes/ANY\n",
      "copying build/lib/dns/rdtypes/ANY/URI.py -> build/bdist.linux-x86_64/egg/dns/rdtypes/ANY\n",
      "copying build/lib/dns/rdtypes/ANY/TKEY.py -> build/bdist.linux-x86_64/egg/dns/rdtypes/ANY\n",
      "copying build/lib/dns/rdtypes/ANY/GPOS.py -> build/bdist.linux-x86_64/egg/dns/rdtypes/ANY\n",
      "copying build/lib/dns/rdtypes/ANY/HINFO.py -> build/bdist.linux-x86_64/egg/dns/rdtypes/ANY\n",
      "copying build/lib/dns/rdtypes/ANY/EUI48.py -> build/bdist.linux-x86_64/egg/dns/rdtypes/ANY\n",
      "copying build/lib/dns/rdtypes/ANY/SOA.py -> build/bdist.linux-x86_64/egg/dns/rdtypes/ANY\n",
      "copying build/lib/dns/rdtypes/ANY/DNAME.py -> build/bdist.linux-x86_64/egg/dns/rdtypes/ANY\n",
      "copying build/lib/dns/rdtypes/ANY/NSEC3.py -> build/bdist.linux-x86_64/egg/dns/rdtypes/ANY\n",
      "copying build/lib/dns/rdtypes/ANY/LOC.py -> build/bdist.linux-x86_64/egg/dns/rdtypes/ANY\n",
      "copying build/lib/dns/rdtypes/ANY/OPENPGPKEY.py -> build/bdist.linux-x86_64/egg/dns/rdtypes/ANY\n",
      "copying build/lib/dns/rdtypes/ANY/NINFO.py -> build/bdist.linux-x86_64/egg/dns/rdtypes/ANY\n",
      "copying build/lib/dns/rdtypes/ANY/PTR.py -> build/bdist.linux-x86_64/egg/dns/rdtypes/ANY\n",
      "copying build/lib/dns/rdtypes/ANY/RP.py -> build/bdist.linux-x86_64/egg/dns/rdtypes/ANY\n",
      "copying build/lib/dns/rdtypes/ANY/NS.py -> build/bdist.linux-x86_64/egg/dns/rdtypes/ANY\n",
      "copying build/lib/dns/rdtypes/ANY/CAA.py -> build/bdist.linux-x86_64/egg/dns/rdtypes/ANY\n",
      "copying build/lib/dns/rdtypes/tlsabase.py -> build/bdist.linux-x86_64/egg/dns/rdtypes\n",
      "copying build/lib/dns/rdtypes/dsbase.py -> build/bdist.linux-x86_64/egg/dns/rdtypes\n",
      "copying build/lib/dns/rdtypes/euibase.py -> build/bdist.linux-x86_64/egg/dns/rdtypes\n",
      "copying build/lib/dns/asyncbackend.py -> build/bdist.linux-x86_64/egg/dns\n",
      "copying build/lib/dns/py.typed -> build/bdist.linux-x86_64/egg/dns\n",
      "copying build/lib/dns/query.py -> build/bdist.linux-x86_64/egg/dns\n",
      "copying build/lib/dns/resolver.py -> build/bdist.linux-x86_64/egg/dns\n",
      "copying build/lib/dns/grange.py -> build/bdist.linux-x86_64/egg/dns\n",
      "copying build/lib/dns/versioned.py -> build/bdist.linux-x86_64/egg/dns\n",
      "copying build/lib/dns/set.py -> build/bdist.linux-x86_64/egg/dns\n",
      "copying build/lib/dns/rdatatype.py -> build/bdist.linux-x86_64/egg/dns\n",
      "copying build/lib/dns/opcode.py -> build/bdist.linux-x86_64/egg/dns\n",
      "copying build/lib/dns/rrset.py -> build/bdist.linux-x86_64/egg/dns\n",
      "copying build/lib/dns/rdata.py -> build/bdist.linux-x86_64/egg/dns\n",
      "copying build/lib/dns/tsigkeyring.py -> build/bdist.linux-x86_64/egg/dns\n",
      "copying build/lib/dns/immutable.py -> build/bdist.linux-x86_64/egg/dns\n",
      "copying build/lib/dns/__init__.py -> build/bdist.linux-x86_64/egg/dns\n",
      "copying build/lib/dns/_trio_backend.py -> build/bdist.linux-x86_64/egg/dns\n",
      "copying build/lib/dns/wire.py -> build/bdist.linux-x86_64/egg/dns\n",
      "copying build/lib/dns/ttl.py -> build/bdist.linux-x86_64/egg/dns\n",
      "copying build/lib/dns/version.py -> build/bdist.linux-x86_64/egg/dns\n",
      "copying build/lib/dns/serial.py -> build/bdist.linux-x86_64/egg/dns\n",
      "copying build/lib/dns/message.py -> build/bdist.linux-x86_64/egg/dns\n",
      "copying build/lib/dns/inet.py -> build/bdist.linux-x86_64/egg/dns\n",
      "copying build/lib/dns/_curio_backend.py -> build/bdist.linux-x86_64/egg/dns\n",
      "copying build/lib/dns/_immutable_ctx.py -> build/bdist.linux-x86_64/egg/dns\n",
      "copying build/lib/dns/asyncresolver.py -> build/bdist.linux-x86_64/egg/dns\n",
      "copying build/lib/dns/update.py -> build/bdist.linux-x86_64/egg/dns\n",
      "copying build/lib/dns/xfr.py -> build/bdist.linux-x86_64/egg/dns\n",
      "copying build/lib/dns/name.py -> build/bdist.linux-x86_64/egg/dns\n",
      "copying build/lib/dns/tokenizer.py -> build/bdist.linux-x86_64/egg/dns\n",
      "copying build/lib/dns/e164.py -> build/bdist.linux-x86_64/egg/dns\n",
      "copying build/lib/dns/entropy.py -> build/bdist.linux-x86_64/egg/dns\n",
      "copying build/lib/dns/rcode.py -> build/bdist.linux-x86_64/egg/dns\n",
      "copying build/lib/dns/_asyncio_backend.py -> build/bdist.linux-x86_64/egg/dns\n",
      "copying build/lib/dns/namedict.py -> build/bdist.linux-x86_64/egg/dns\n",
      "copying build/lib/dns/dnssec.py -> build/bdist.linux-x86_64/egg/dns\n",
      "copying build/lib/dns/ipv6.py -> build/bdist.linux-x86_64/egg/dns\n",
      "copying build/lib/dns/zone.py -> build/bdist.linux-x86_64/egg/dns\n",
      "copying build/lib/dns/ipv4.py -> build/bdist.linux-x86_64/egg/dns\n",
      "copying build/lib/dns/_asyncbackend.py -> build/bdist.linux-x86_64/egg/dns\n",
      "copying build/lib/dns/tsig.py -> build/bdist.linux-x86_64/egg/dns\n",
      "copying build/lib/dns/node.py -> build/bdist.linux-x86_64/egg/dns\n",
      "copying build/lib/dns/_immutable_attr.py -> build/bdist.linux-x86_64/egg/dns\n",
      "copying build/lib/dns/enum.py -> build/bdist.linux-x86_64/egg/dns\n",
      "byte-compiling build/bdist.linux-x86_64/egg/dns/transaction.py to transaction.cpython-36.pyc\n",
      "byte-compiling build/bdist.linux-x86_64/egg/dns/rdataclass.py to rdataclass.cpython-36.pyc\n",
      "byte-compiling build/bdist.linux-x86_64/egg/dns/flags.py to flags.cpython-36.pyc\n",
      "byte-compiling build/bdist.linux-x86_64/egg/dns/zonefile.py to zonefile.cpython-36.pyc\n",
      "byte-compiling build/bdist.linux-x86_64/egg/dns/edns.py to edns.cpython-36.pyc\n",
      "byte-compiling build/bdist.linux-x86_64/egg/dns/renderer.py to renderer.cpython-36.pyc\n",
      "byte-compiling build/bdist.linux-x86_64/egg/dns/rdataset.py to rdataset.cpython-36.pyc\n",
      "byte-compiling build/bdist.linux-x86_64/egg/dns/asyncquery.py to asyncquery.cpython-36.pyc\n",
      "byte-compiling build/bdist.linux-x86_64/egg/dns/reversename.py to reversename.cpython-36.pyc\n",
      "byte-compiling build/bdist.linux-x86_64/egg/dns/exception.py to exception.cpython-36.pyc\n",
      "byte-compiling build/bdist.linux-x86_64/egg/dns/rdtypes/txtbase.py to txtbase.cpython-36.pyc\n",
      "byte-compiling build/bdist.linux-x86_64/egg/dns/rdtypes/svcbbase.py to svcbbase.cpython-36.pyc\n",
      "byte-compiling build/bdist.linux-x86_64/egg/dns/rdtypes/IN/APL.py to APL.cpython-36.pyc\n",
      "byte-compiling build/bdist.linux-x86_64/egg/dns/rdtypes/IN/NSAP_PTR.py to NSAP_PTR.cpython-36.pyc\n",
      "byte-compiling build/bdist.linux-x86_64/egg/dns/rdtypes/IN/A.py to A.cpython-36.pyc\n",
      "byte-compiling build/bdist.linux-x86_64/egg/dns/rdtypes/IN/AAAA.py to AAAA.cpython-36.pyc\n",
      "byte-compiling build/bdist.linux-x86_64/egg/dns/rdtypes/IN/NAPTR.py to NAPTR.cpython-36.pyc\n",
      "byte-compiling build/bdist.linux-x86_64/egg/dns/rdtypes/IN/HTTPS.py to HTTPS.cpython-36.pyc\n",
      "byte-compiling build/bdist.linux-x86_64/egg/dns/rdtypes/IN/__init__.py to __init__.cpython-36.pyc\n",
      "byte-compiling build/bdist.linux-x86_64/egg/dns/rdtypes/IN/PX.py to PX.cpython-36.pyc\n",
      "byte-compiling build/bdist.linux-x86_64/egg/dns/rdtypes/IN/SVCB.py to SVCB.cpython-36.pyc\n",
      "byte-compiling build/bdist.linux-x86_64/egg/dns/rdtypes/IN/NSAP.py to NSAP.cpython-36.pyc\n",
      "byte-compiling build/bdist.linux-x86_64/egg/dns/rdtypes/IN/IPSECKEY.py to IPSECKEY.cpython-36.pyc\n",
      "byte-compiling build/bdist.linux-x86_64/egg/dns/rdtypes/IN/KX.py to KX.cpython-36.pyc\n",
      "byte-compiling build/bdist.linux-x86_64/egg/dns/rdtypes/IN/DHCID.py to DHCID.cpython-36.pyc\n",
      "byte-compiling build/bdist.linux-x86_64/egg/dns/rdtypes/IN/WKS.py to WKS.cpython-36.pyc\n",
      "byte-compiling build/bdist.linux-x86_64/egg/dns/rdtypes/IN/SRV.py to SRV.cpython-36.pyc\n",
      "byte-compiling build/bdist.linux-x86_64/egg/dns/rdtypes/mxbase.py to mxbase.cpython-36.pyc\n",
      "byte-compiling build/bdist.linux-x86_64/egg/dns/rdtypes/CH/A.py to A.cpython-36.pyc\n",
      "byte-compiling build/bdist.linux-x86_64/egg/dns/rdtypes/CH/__init__.py to __init__.cpython-36.pyc\n",
      "byte-compiling build/bdist.linux-x86_64/egg/dns/rdtypes/__init__.py to __init__.cpython-36.pyc\n",
      "byte-compiling build/bdist.linux-x86_64/egg/dns/rdtypes/util.py to util.cpython-36.pyc\n",
      "byte-compiling build/bdist.linux-x86_64/egg/dns/rdtypes/nsbase.py to nsbase.cpython-36.pyc\n",
      "byte-compiling build/bdist.linux-x86_64/egg/dns/rdtypes/dnskeybase.py to dnskeybase.cpython-36.pyc\n",
      "byte-compiling build/bdist.linux-x86_64/egg/dns/rdtypes/ANY/CNAME.py to CNAME.cpython-36.pyc\n",
      "byte-compiling build/bdist.linux-x86_64/egg/dns/rdtypes/ANY/CDS.py to CDS.cpython-36.pyc\n",
      "byte-compiling build/bdist.linux-x86_64/egg/dns/rdtypes/ANY/AMTRELAY.py to AMTRELAY.cpython-36.pyc\n",
      "byte-compiling build/bdist.linux-x86_64/egg/dns/rdtypes/ANY/ISDN.py to ISDN.cpython-36.pyc\n",
      "byte-compiling build/bdist.linux-x86_64/egg/dns/rdtypes/ANY/RRSIG.py to RRSIG.cpython-36.pyc\n",
      "byte-compiling build/bdist.linux-x86_64/egg/dns/rdtypes/ANY/TXT.py to TXT.cpython-36.pyc\n",
      "byte-compiling build/bdist.linux-x86_64/egg/dns/rdtypes/ANY/CDNSKEY.py to CDNSKEY.cpython-36.pyc\n",
      "byte-compiling build/bdist.linux-x86_64/egg/dns/rdtypes/ANY/SPF.py to SPF.cpython-36.pyc\n",
      "byte-compiling build/bdist.linux-x86_64/egg/dns/rdtypes/ANY/CERT.py to CERT.cpython-36.pyc\n",
      "byte-compiling build/bdist.linux-x86_64/egg/dns/rdtypes/ANY/MX.py to MX.cpython-36.pyc\n",
      "byte-compiling build/bdist.linux-x86_64/egg/dns/rdtypes/ANY/NSEC3PARAM.py to NSEC3PARAM.cpython-36.pyc\n",
      "byte-compiling build/bdist.linux-x86_64/egg/dns/rdtypes/ANY/RT.py to RT.cpython-36.pyc\n",
      "byte-compiling build/bdist.linux-x86_64/egg/dns/rdtypes/ANY/DLV.py to DLV.cpython-36.pyc\n",
      "byte-compiling build/bdist.linux-x86_64/egg/dns/rdtypes/ANY/NSEC.py to NSEC.cpython-36.pyc\n",
      "byte-compiling build/bdist.linux-x86_64/egg/dns/rdtypes/ANY/AFSDB.py to AFSDB.cpython-36.pyc\n",
      "byte-compiling build/bdist.linux-x86_64/egg/dns/rdtypes/ANY/DS.py to DS.cpython-36.pyc\n",
      "byte-compiling build/bdist.linux-x86_64/egg/dns/rdtypes/ANY/AVC.py to AVC.cpython-36.pyc\n",
      "byte-compiling build/bdist.linux-x86_64/egg/dns/rdtypes/ANY/__init__.py to __init__.cpython-36.pyc\n",
      "byte-compiling build/bdist.linux-x86_64/egg/dns/rdtypes/ANY/SMIMEA.py to SMIMEA.cpython-36.pyc\n",
      "byte-compiling build/bdist.linux-x86_64/egg/dns/rdtypes/ANY/DNSKEY.py to DNSKEY.cpython-36.pyc\n",
      "byte-compiling build/bdist.linux-x86_64/egg/dns/rdtypes/ANY/EUI64.py to EUI64.cpython-36.pyc\n",
      "byte-compiling build/bdist.linux-x86_64/egg/dns/rdtypes/ANY/SSHFP.py to SSHFP.cpython-36.pyc\n",
      "byte-compiling build/bdist.linux-x86_64/egg/dns/rdtypes/ANY/HIP.py to HIP.cpython-36.pyc\n",
      "byte-compiling build/bdist.linux-x86_64/egg/dns/rdtypes/ANY/OPT.py to OPT.cpython-36.pyc\n",
      "byte-compiling build/bdist.linux-x86_64/egg/dns/rdtypes/ANY/CSYNC.py to CSYNC.cpython-36.pyc\n",
      "byte-compiling build/bdist.linux-x86_64/egg/dns/rdtypes/ANY/TSIG.py to TSIG.cpython-36.pyc\n",
      "byte-compiling build/bdist.linux-x86_64/egg/dns/rdtypes/ANY/TLSA.py to TLSA.cpython-36.pyc\n",
      "byte-compiling build/bdist.linux-x86_64/egg/dns/rdtypes/ANY/X25.py to X25.cpython-36.pyc\n",
      "byte-compiling build/bdist.linux-x86_64/egg/dns/rdtypes/ANY/URI.py to URI.cpython-36.pyc\n",
      "byte-compiling build/bdist.linux-x86_64/egg/dns/rdtypes/ANY/TKEY.py to TKEY.cpython-36.pyc\n",
      "byte-compiling build/bdist.linux-x86_64/egg/dns/rdtypes/ANY/GPOS.py to GPOS.cpython-36.pyc\n",
      "byte-compiling build/bdist.linux-x86_64/egg/dns/rdtypes/ANY/HINFO.py to HINFO.cpython-36.pyc\n",
      "byte-compiling build/bdist.linux-x86_64/egg/dns/rdtypes/ANY/EUI48.py to EUI48.cpython-36.pyc\n",
      "byte-compiling build/bdist.linux-x86_64/egg/dns/rdtypes/ANY/SOA.py to SOA.cpython-36.pyc\n",
      "byte-compiling build/bdist.linux-x86_64/egg/dns/rdtypes/ANY/DNAME.py to DNAME.cpython-36.pyc\n",
      "byte-compiling build/bdist.linux-x86_64/egg/dns/rdtypes/ANY/NSEC3.py to NSEC3.cpython-36.pyc\n",
      "byte-compiling build/bdist.linux-x86_64/egg/dns/rdtypes/ANY/LOC.py to LOC.cpython-36.pyc\n",
      "byte-compiling build/bdist.linux-x86_64/egg/dns/rdtypes/ANY/OPENPGPKEY.py to OPENPGPKEY.cpython-36.pyc\n",
      "byte-compiling build/bdist.linux-x86_64/egg/dns/rdtypes/ANY/NINFO.py to NINFO.cpython-36.pyc\n",
      "byte-compiling build/bdist.linux-x86_64/egg/dns/rdtypes/ANY/PTR.py to PTR.cpython-36.pyc\n",
      "byte-compiling build/bdist.linux-x86_64/egg/dns/rdtypes/ANY/RP.py to RP.cpython-36.pyc\n",
      "byte-compiling build/bdist.linux-x86_64/egg/dns/rdtypes/ANY/NS.py to NS.cpython-36.pyc\n",
      "byte-compiling build/bdist.linux-x86_64/egg/dns/rdtypes/ANY/CAA.py to CAA.cpython-36.pyc\n",
      "byte-compiling build/bdist.linux-x86_64/egg/dns/rdtypes/tlsabase.py to tlsabase.cpython-36.pyc\n",
      "byte-compiling build/bdist.linux-x86_64/egg/dns/rdtypes/dsbase.py to dsbase.cpython-36.pyc\n",
      "byte-compiling build/bdist.linux-x86_64/egg/dns/rdtypes/euibase.py to euibase.cpython-36.pyc\n",
      "byte-compiling build/bdist.linux-x86_64/egg/dns/asyncbackend.py to asyncbackend.cpython-36.pyc\n",
      "byte-compiling build/bdist.linux-x86_64/egg/dns/query.py to query.cpython-36.pyc\n",
      "byte-compiling build/bdist.linux-x86_64/egg/dns/resolver.py to resolver.cpython-36.pyc\n",
      "byte-compiling build/bdist.linux-x86_64/egg/dns/grange.py to grange.cpython-36.pyc\n",
      "byte-compiling build/bdist.linux-x86_64/egg/dns/versioned.py to versioned.cpython-36.pyc\n",
      "byte-compiling build/bdist.linux-x86_64/egg/dns/set.py to set.cpython-36.pyc\n",
      "byte-compiling build/bdist.linux-x86_64/egg/dns/rdatatype.py to rdatatype.cpython-36.pyc\n",
      "byte-compiling build/bdist.linux-x86_64/egg/dns/opcode.py to opcode.cpython-36.pyc\n",
      "byte-compiling build/bdist.linux-x86_64/egg/dns/rrset.py to rrset.cpython-36.pyc\n",
      "byte-compiling build/bdist.linux-x86_64/egg/dns/rdata.py to rdata.cpython-36.pyc\n",
      "byte-compiling build/bdist.linux-x86_64/egg/dns/tsigkeyring.py to tsigkeyring.cpython-36.pyc\n",
      "byte-compiling build/bdist.linux-x86_64/egg/dns/immutable.py to immutable.cpython-36.pyc\n",
      "byte-compiling build/bdist.linux-x86_64/egg/dns/__init__.py to __init__.cpython-36.pyc\n",
      "byte-compiling build/bdist.linux-x86_64/egg/dns/_trio_backend.py to _trio_backend.cpython-36.pyc\n",
      "byte-compiling build/bdist.linux-x86_64/egg/dns/wire.py to wire.cpython-36.pyc\n",
      "byte-compiling build/bdist.linux-x86_64/egg/dns/ttl.py to ttl.cpython-36.pyc\n",
      "byte-compiling build/bdist.linux-x86_64/egg/dns/version.py to version.cpython-36.pyc\n",
      "byte-compiling build/bdist.linux-x86_64/egg/dns/serial.py to serial.cpython-36.pyc\n",
      "byte-compiling build/bdist.linux-x86_64/egg/dns/message.py to message.cpython-36.pyc\n",
      "byte-compiling build/bdist.linux-x86_64/egg/dns/inet.py to inet.cpython-36.pyc\n",
      "byte-compiling build/bdist.linux-x86_64/egg/dns/_curio_backend.py to _curio_backend.cpython-36.pyc\n",
      "byte-compiling build/bdist.linux-x86_64/egg/dns/_immutable_ctx.py to _immutable_ctx.cpython-36.pyc\n",
      "byte-compiling build/bdist.linux-x86_64/egg/dns/asyncresolver.py to asyncresolver.cpython-36.pyc\n",
      "byte-compiling build/bdist.linux-x86_64/egg/dns/update.py to update.cpython-36.pyc\n",
      "byte-compiling build/bdist.linux-x86_64/egg/dns/xfr.py to xfr.cpython-36.pyc\n",
      "byte-compiling build/bdist.linux-x86_64/egg/dns/name.py to name.cpython-36.pyc\n",
      "byte-compiling build/bdist.linux-x86_64/egg/dns/tokenizer.py to tokenizer.cpython-36.pyc\n",
      "byte-compiling build/bdist.linux-x86_64/egg/dns/e164.py to e164.cpython-36.pyc\n",
      "byte-compiling build/bdist.linux-x86_64/egg/dns/entropy.py to entropy.cpython-36.pyc\n",
      "byte-compiling build/bdist.linux-x86_64/egg/dns/rcode.py to rcode.cpython-36.pyc\n",
      "byte-compiling build/bdist.linux-x86_64/egg/dns/_asyncio_backend.py to _asyncio_backend.cpython-36.pyc\n",
      "byte-compiling build/bdist.linux-x86_64/egg/dns/namedict.py to namedict.cpython-36.pyc\n",
      "byte-compiling build/bdist.linux-x86_64/egg/dns/dnssec.py to dnssec.cpython-36.pyc\n",
      "byte-compiling build/bdist.linux-x86_64/egg/dns/ipv6.py to ipv6.cpython-36.pyc\n",
      "byte-compiling build/bdist.linux-x86_64/egg/dns/zone.py to zone.cpython-36.pyc\n",
      "byte-compiling build/bdist.linux-x86_64/egg/dns/ipv4.py to ipv4.cpython-36.pyc\n",
      "byte-compiling build/bdist.linux-x86_64/egg/dns/_asyncbackend.py to _asyncbackend.cpython-36.pyc\n",
      "byte-compiling build/bdist.linux-x86_64/egg/dns/tsig.py to tsig.cpython-36.pyc\n",
      "byte-compiling build/bdist.linux-x86_64/egg/dns/node.py to node.cpython-36.pyc\n",
      "byte-compiling build/bdist.linux-x86_64/egg/dns/_immutable_attr.py to _immutable_attr.cpython-36.pyc\n",
      "byte-compiling build/bdist.linux-x86_64/egg/dns/enum.py to enum.cpython-36.pyc\n",
      "creating build/bdist.linux-x86_64/egg/EGG-INFO\n",
      "copying dnspython.egg-info/PKG-INFO -> build/bdist.linux-x86_64/egg/EGG-INFO\n",
      "copying dnspython.egg-info/SOURCES.txt -> build/bdist.linux-x86_64/egg/EGG-INFO\n",
      "copying dnspython.egg-info/dependency_links.txt -> build/bdist.linux-x86_64/egg/EGG-INFO\n",
      "copying dnspython.egg-info/requires.txt -> build/bdist.linux-x86_64/egg/EGG-INFO\n",
      "copying dnspython.egg-info/top_level.txt -> build/bdist.linux-x86_64/egg/EGG-INFO\n",
      "zip_safe flag not set; analyzing archive contents...\n",
      "creating dist\n",
      "creating 'dist/dnspython-2.1.0rc1-py3.6.egg' and adding 'build/bdist.linux-x86_64/egg' to it\n",
      "removing 'build/bdist.linux-x86_64/egg' (and everything under it)\n",
      "Processing dnspython-2.1.0rc1-py3.6.egg\n",
      "Copying dnspython-2.1.0rc1-py3.6.egg to /usr/local/lib/python3.6/dist-packages\n",
      "Adding dnspython 2.1.0rc1 to easy-install.pth file\n",
      "\n",
      "Installed /usr/local/lib/python3.6/dist-packages/dnspython-2.1.0rc1-py3.6.egg\n",
      "Processing dependencies for dnspython==2.1.0rc1\n",
      "Finished processing dependencies for dnspython==2.1.0rc1\n"
     ]
    }
   ],
   "source": [
    "#!git clone https://github.com/rthalley/dnspython\n",
    "#\n",
    "#!cd dnspython && python3 setup.py install"
   ]
  },
  {
   "cell_type": "code",
   "execution_count": null,
   "metadata": {
    "id": "BVg74KMWj_nA"
   },
   "outputs": [],
   "source": [
    "# IMPORTANTE: Es necesario incluir las credenciales de acceso que hayáis obtenido al crear vuestra App\n",
    "# para ejecutar el ejemplo.\n",
    "# TEST\n",
    "# consumer_key = 'xxxxxddddd-ssss-'\n",
    "# consumer_secret = '-ddddd-aaass'\n",
    "# access_token = '464646-3131313'\n",
    "# access_secret = '99898989'"
   ]
  },
  {
   "cell_type": "markdown",
   "metadata": {
    "id": "zbOKKIPJkk0F"
   },
   "source": [
    "La idea es de trabajar en local para ver como funciona correctamente. Pero en el mundo real hay que realizar un GET al fichero de credenciales."
   ]
  },
  {
   "cell_type": "code",
   "execution_count": 6,
   "metadata": {
    "id": "8xr2aKwckaY0"
   },
   "outputs": [],
   "source": [
    "# Una forma de llamar el fichero de credenciales es a través de la función `OS`\n",
    "# creamos una función para la recogida de los credenciales\n",
    "def get_creds(line):  \n",
    "  keys = []    \n",
    "  for l in line:\n",
    "    keys.append(l.split(\"=\")[1].splitlines(False)[0])\n",
    "  return keys"
   ]
  },
  {
   "cell_type": "code",
   "execution_count": 7,
   "metadata": {
    "id": "Cmy6-nwFnEqz"
   },
   "outputs": [],
   "source": [
    "# Creamos un iterator para leer el fichero\n",
    "import sys, os #son librerías de python para interactuar con el sistema, directorios, etc etc\n",
    "tw_creeds = open(\"creds.txt\", \"r\")\n",
    "lines = tw_creeds.readlines()"
   ]
  },
  {
   "cell_type": "code",
   "execution_count": null,
   "metadata": {},
   "outputs": [],
   "source": [
    "get_creds(lines)"
   ]
  },
  {
   "cell_type": "code",
   "execution_count": 9,
   "metadata": {
    "id": "STfMFwhLob64"
   },
   "outputs": [],
   "source": [
    "# Procederemos con los creds de Twitter\n",
    "CONSUMER_KEY = get_creds(lines)[0]\n",
    "CONSUMER_SECRET = get_creds(lines)[1]\n",
    "ACCESS_TOKEN = get_creds(lines)[2]\n",
    "ACCESS_TOKEN_SECRET = get_creds(lines)[3]"
   ]
  },
  {
   "cell_type": "markdown",
   "metadata": {
    "id": "Sk28bNGiqKcd"
   },
   "source": [
    "## Inicialización de Twitter"
   ]
  },
  {
   "cell_type": "code",
   "execution_count": 10,
   "metadata": {
    "id": "0rbJefKkqPWf"
   },
   "outputs": [],
   "source": [
    "# Interactuamos con la API de Twitter\n",
    "auth = tweepy.OAuthHandler(CONSUMER_KEY, CONSUMER_SECRET)\n",
    "auth.set_access_token(ACCESS_TOKEN, ACCESS_TOKEN_SECRET)"
   ]
  },
  {
   "cell_type": "code",
   "execution_count": 11,
   "metadata": {
    "id": "oYOiOVA9qpj3"
   },
   "outputs": [],
   "source": [
    "# Lanzamos la api\n",
    "api = tweepy.API(auth)"
   ]
  },
  {
   "cell_type": "code",
   "execution_count": 12,
   "metadata": {
    "colab": {
     "base_uri": "https://localhost:8080/"
    },
    "id": "kXiXgIEAq-o8",
    "outputId": "7cec3d81-29d3-4c75-da64-35c1bbe5b59e"
   },
   "outputs": [
    {
     "name": "stdout",
     "output_type": "stream",
     "text": [
      "El tipo de datos de la variable user es: <class 'tweepy.models.User'>\n",
      "El nombre de usuario es: TheBridge_Tech\n",
      "El id de usuario es: 1162694149956603904\n"
     ]
    }
   ],
   "source": [
    "# Obtenemos datos del usuario \"TheBridge\" usando la librería tweepy\n",
    "user = api.get_user(screen_name=\"TheBridge_Tech\")\n",
    "print(\"El tipo de datos de la variable user es: {}\".format(type(user)))\n",
    "print(\"El nombre de usuario es: {}\".format(user.screen_name))\n",
    "print(\"El id de usuario es: {}\".format(user.id))"
   ]
  },
  {
   "cell_type": "code",
   "execution_count": 59,
   "metadata": {
    "colab": {
     "base_uri": "https://localhost:8080/"
    },
    "id": "d5pxc30Ir0VC",
    "outputId": "971a8eed-5d8c-4076-e23f-c04bc066a6bf"
   },
   "outputs": [
    {
     "name": "stdout",
     "output_type": "stream",
     "text": [
      "El numero de followers: 335\n",
      "El numero de amigos: 108\n",
      "El numero de tweets: 380\n"
     ]
    }
   ],
   "source": [
    "# mostramos algunos atributos del usuario recuperado\n",
    "print(\"El numero de followers: {}\".format(user.followers_count))\n",
    "print(\"El numero de amigos: {}\".format(user.friends_count))\n",
    "print(\"El numero de tweets: {}\".format(user.statuses_count))\n"
   ]
  },
  {
   "cell_type": "markdown",
   "metadata": {
    "id": "Ze0mhzPA6Fjm"
   },
   "source": [
    "## Twitter Streaming & MongoDB\n",
    "\n",
    "Almacenamos los tweets en la db NoSQL de MongoDB\n"
   ]
  },
  {
   "cell_type": "code",
   "execution_count": null,
   "metadata": {
    "id": "xhBLonkd6P5v"
   },
   "outputs": [],
   "source": [
    "# Para acceder a mongoDb la ruta del cliente es:\n",
    "#client = pymongo.MongoClient(\"mongodb+srv://\")\n",
    "#db = client.test\n"
   ]
  },
  {
   "cell_type": "code",
   "execution_count": null,
   "metadata": {
    "colab": {
     "base_uri": "https://localhost:8080/"
    },
    "id": "hGhTldIc6d-v",
    "outputId": "f7930f47-6028-468e-a3ad-5869c313bb92"
   },
   "outputs": [
    {
     "name": "stdout",
     "output_type": "stream",
     "text": [
      "Collecting dnspython3\n",
      "  Downloading https://files.pythonhosted.org/packages/f0/bb/f41cbc8eaa807afb9d44418f092aa3e4acf0e4f42b439c49824348f1f45c/dnspython3-1.15.0.zip\n",
      "Collecting dnspython==1.15.0\n",
      "\u001b[?25l  Downloading https://files.pythonhosted.org/packages/a6/72/209e18bdfedfd78c6994e9ec96981624a5ad7738524dd474237268422cb8/dnspython-1.15.0-py2.py3-none-any.whl (177kB)\n",
      "\u001b[K     |████████████████████████████████| 184kB 7.2MB/s \n",
      "\u001b[?25hBuilding wheels for collected packages: dnspython3\n",
      "  Building wheel for dnspython3 (setup.py) ... \u001b[?25l\u001b[?25hdone\n",
      "  Created wheel for dnspython3: filename=dnspython3-1.15.0-cp36-none-any.whl size=1760 sha256=f7b7af37e6cc331c36707aab8435474a4f362b4768be195591cb9b3e473753cc\n",
      "  Stored in directory: /root/.cache/pip/wheels/0d/88/bc/48625aeedc619aeb4987329d973b73aef251a6fcd6ce8fb862\n",
      "Successfully built dnspython3\n",
      "Installing collected packages: dnspython, dnspython3\n",
      "  Found existing installation: dnspython 1.16.0\n",
      "    Uninstalling dnspython-1.16.0:\n",
      "      Successfully uninstalled dnspython-1.16.0\n",
      "Successfully installed dnspython-1.15.0 dnspython3-1.15.0\n"
     ]
    }
   ],
   "source": [
    "# Importamos la librería de Mongo\n",
    "#!pip install pymongo\n",
    "# !pip install dnspython3"
   ]
  },
  {
   "cell_type": "code",
   "execution_count": 2,
   "metadata": {
    "id": "wIyG4yKi6hx4"
   },
   "outputs": [],
   "source": [
    "#from pymongo import MongoClient\n",
    "import pymongo\n",
    "import dns"
   ]
  },
  {
   "cell_type": "code",
   "execution_count": null,
   "metadata": {
    "id": "SMF5Hvs36-jA"
   },
   "outputs": [],
   "source": [
    "# # Leemos el fichero de MongoCreds\n",
    "# mongo_creds = open(\"mongo_creds.txt\", \"r\")\n",
    "# for line in mongo_creds:\n",
    "#   pieces = line.split(\"=\")"
   ]
  },
  {
   "cell_type": "code",
   "execution_count": null,
   "metadata": {
    "id": "hpzOwH9Z8oK-"
   },
   "outputs": [],
   "source": [
    "# # Guardo las creds de Mongo\n",
    "# user = pieces[0]\n",
    "# password = pieces[1]"
   ]
  },
  {
   "cell_type": "code",
   "execution_count": 3,
   "metadata": {
    "id": "Y6bdVXg98_2O"
   },
   "outputs": [],
   "source": [
    "# Definimos el hashtag a recoger\n",
    "HASHTAG = ['#AI', 'datascience']"
   ]
  },
  {
   "cell_type": "code",
   "execution_count": 31,
   "metadata": {},
   "outputs": [],
   "source": [
    "# Ruta de CosmoDB en Azure\n",
    "uri = \"mongodb://<endpoint>\"\n",
    "client = pymongo.MongoClient(uri)"
   ]
  },
  {
   "cell_type": "code",
   "execution_count": 5,
   "metadata": {},
   "outputs": [],
   "source": [
    "# # Ruta de MongoDB Atlas\n",
    "# client = pymongo.MongoClient(\"mongodb://endpoint\")\n",
    "# db = client.test"
   ]
  },
  {
   "cell_type": "code",
   "execution_count": 6,
   "metadata": {},
   "outputs": [
    {
     "ename": "ServerSelectionTimeoutError",
     "evalue": "custerthebridge.vuvo2.mongodb.net:27017: [Errno 11001] getaddrinfo failed, Timeout: 30s, Topology Description: <TopologyDescription id: 61a7c83397ec6b07d5c1d71b, topology_type: Single, servers: [<ServerDescription ('custerthebridge.vuvo2.mongodb.net', 27017) server_type: Unknown, rtt: None, error=AutoReconnect('custerthebridge.vuvo2.mongodb.net:27017: [Errno 11001] getaddrinfo failed')>]>",
     "output_type": "error",
     "traceback": [
      "\u001b[1;31m---------------------------------------------------------------------------\u001b[0m",
      "\u001b[1;31mServerSelectionTimeoutError\u001b[0m               Traceback (most recent call last)",
      "\u001b[1;32m~\\AppData\\Local\\Temp/ipykernel_5736/4165337700.py\u001b[0m in \u001b[0;36m<module>\u001b[1;34m\u001b[0m\n\u001b[0;32m      7\u001b[0m \u001b[0mcollection\u001b[0m \u001b[1;33m=\u001b[0m \u001b[0mdb\u001b[0m\u001b[1;33m.\u001b[0m\u001b[0mitems\u001b[0m\u001b[1;33m\u001b[0m\u001b[1;33m\u001b[0m\u001b[0m\n\u001b[0;32m      8\u001b[0m \u001b[1;33m\u001b[0m\u001b[0m\n\u001b[1;32m----> 9\u001b[1;33m \u001b[0mcollection\u001b[0m\u001b[1;33m.\u001b[0m\u001b[0minsert_one\u001b[0m\u001b[1;33m(\u001b[0m\u001b[0mitems\u001b[0m\u001b[1;33m)\u001b[0m\u001b[1;33m\u001b[0m\u001b[1;33m\u001b[0m\u001b[0m\n\u001b[0m",
      "\u001b[1;32m~\\Miniconda3\\envs\\the_bridge_py\\lib\\site-packages\\pymongo\\collection.py\u001b[0m in \u001b[0;36minsert_one\u001b[1;34m(self, document, bypass_document_validation, session)\u001b[0m\n\u001b[0;32m    703\u001b[0m         \u001b[0mwrite_concern\u001b[0m \u001b[1;33m=\u001b[0m \u001b[0mself\u001b[0m\u001b[1;33m.\u001b[0m\u001b[0m_write_concern_for\u001b[0m\u001b[1;33m(\u001b[0m\u001b[0msession\u001b[0m\u001b[1;33m)\u001b[0m\u001b[1;33m\u001b[0m\u001b[1;33m\u001b[0m\u001b[0m\n\u001b[0;32m    704\u001b[0m         return InsertOneResult(\n\u001b[1;32m--> 705\u001b[1;33m             self._insert(document,\n\u001b[0m\u001b[0;32m    706\u001b[0m                          \u001b[0mwrite_concern\u001b[0m\u001b[1;33m=\u001b[0m\u001b[0mwrite_concern\u001b[0m\u001b[1;33m,\u001b[0m\u001b[1;33m\u001b[0m\u001b[1;33m\u001b[0m\u001b[0m\n\u001b[0;32m    707\u001b[0m                          \u001b[0mbypass_doc_val\u001b[0m\u001b[1;33m=\u001b[0m\u001b[0mbypass_document_validation\u001b[0m\u001b[1;33m,\u001b[0m\u001b[1;33m\u001b[0m\u001b[1;33m\u001b[0m\u001b[0m\n",
      "\u001b[1;32m~\\Miniconda3\\envs\\the_bridge_py\\lib\\site-packages\\pymongo\\collection.py\u001b[0m in \u001b[0;36m_insert\u001b[1;34m(self, docs, ordered, check_keys, manipulate, write_concern, op_id, bypass_doc_val, session)\u001b[0m\n\u001b[0;32m    618\u001b[0m         \u001b[1;34m\"\"\"Internal insert helper.\"\"\"\u001b[0m\u001b[1;33m\u001b[0m\u001b[1;33m\u001b[0m\u001b[0m\n\u001b[0;32m    619\u001b[0m         \u001b[1;32mif\u001b[0m \u001b[0misinstance\u001b[0m\u001b[1;33m(\u001b[0m\u001b[0mdocs\u001b[0m\u001b[1;33m,\u001b[0m \u001b[0mabc\u001b[0m\u001b[1;33m.\u001b[0m\u001b[0mMapping\u001b[0m\u001b[1;33m)\u001b[0m\u001b[1;33m:\u001b[0m\u001b[1;33m\u001b[0m\u001b[1;33m\u001b[0m\u001b[0m\n\u001b[1;32m--> 620\u001b[1;33m             return self._insert_one(\n\u001b[0m\u001b[0;32m    621\u001b[0m                 \u001b[0mdocs\u001b[0m\u001b[1;33m,\u001b[0m \u001b[0mordered\u001b[0m\u001b[1;33m,\u001b[0m \u001b[0mcheck_keys\u001b[0m\u001b[1;33m,\u001b[0m \u001b[0mmanipulate\u001b[0m\u001b[1;33m,\u001b[0m \u001b[0mwrite_concern\u001b[0m\u001b[1;33m,\u001b[0m \u001b[0mop_id\u001b[0m\u001b[1;33m,\u001b[0m\u001b[1;33m\u001b[0m\u001b[1;33m\u001b[0m\u001b[0m\n\u001b[0;32m    622\u001b[0m                 bypass_doc_val, session)\n",
      "\u001b[1;32m~\\Miniconda3\\envs\\the_bridge_py\\lib\\site-packages\\pymongo\\collection.py\u001b[0m in \u001b[0;36m_insert_one\u001b[1;34m(self, doc, ordered, check_keys, manipulate, write_concern, op_id, bypass_doc_val, session)\u001b[0m\n\u001b[0;32m    607\u001b[0m             \u001b[0m_check_write_command_response\u001b[0m\u001b[1;33m(\u001b[0m\u001b[0mresult\u001b[0m\u001b[1;33m)\u001b[0m\u001b[1;33m\u001b[0m\u001b[1;33m\u001b[0m\u001b[0m\n\u001b[0;32m    608\u001b[0m \u001b[1;33m\u001b[0m\u001b[0m\n\u001b[1;32m--> 609\u001b[1;33m         self.__database.client._retryable_write(\n\u001b[0m\u001b[0;32m    610\u001b[0m             acknowledged, _insert_command, session)\n\u001b[0;32m    611\u001b[0m \u001b[1;33m\u001b[0m\u001b[0m\n",
      "\u001b[1;32m~\\Miniconda3\\envs\\the_bridge_py\\lib\\site-packages\\pymongo\\mongo_client.py\u001b[0m in \u001b[0;36m_retryable_write\u001b[1;34m(self, retryable, func, session)\u001b[0m\n\u001b[0;32m   1549\u001b[0m     \u001b[1;32mdef\u001b[0m \u001b[0m_retryable_write\u001b[0m\u001b[1;33m(\u001b[0m\u001b[0mself\u001b[0m\u001b[1;33m,\u001b[0m \u001b[0mretryable\u001b[0m\u001b[1;33m,\u001b[0m \u001b[0mfunc\u001b[0m\u001b[1;33m,\u001b[0m \u001b[0msession\u001b[0m\u001b[1;33m)\u001b[0m\u001b[1;33m:\u001b[0m\u001b[1;33m\u001b[0m\u001b[1;33m\u001b[0m\u001b[0m\n\u001b[0;32m   1550\u001b[0m         \u001b[1;34m\"\"\"Internal retryable write helper.\"\"\"\u001b[0m\u001b[1;33m\u001b[0m\u001b[1;33m\u001b[0m\u001b[0m\n\u001b[1;32m-> 1551\u001b[1;33m         \u001b[1;32mwith\u001b[0m \u001b[0mself\u001b[0m\u001b[1;33m.\u001b[0m\u001b[0m_tmp_session\u001b[0m\u001b[1;33m(\u001b[0m\u001b[0msession\u001b[0m\u001b[1;33m)\u001b[0m \u001b[1;32mas\u001b[0m \u001b[0ms\u001b[0m\u001b[1;33m:\u001b[0m\u001b[1;33m\u001b[0m\u001b[1;33m\u001b[0m\u001b[0m\n\u001b[0m\u001b[0;32m   1552\u001b[0m             \u001b[1;32mreturn\u001b[0m \u001b[0mself\u001b[0m\u001b[1;33m.\u001b[0m\u001b[0m_retry_with_session\u001b[0m\u001b[1;33m(\u001b[0m\u001b[0mretryable\u001b[0m\u001b[1;33m,\u001b[0m \u001b[0mfunc\u001b[0m\u001b[1;33m,\u001b[0m \u001b[0ms\u001b[0m\u001b[1;33m,\u001b[0m \u001b[1;32mNone\u001b[0m\u001b[1;33m)\u001b[0m\u001b[1;33m\u001b[0m\u001b[1;33m\u001b[0m\u001b[0m\n\u001b[0;32m   1553\u001b[0m \u001b[1;33m\u001b[0m\u001b[0m\n",
      "\u001b[1;32m~\\Miniconda3\\envs\\the_bridge_py\\lib\\contextlib.py\u001b[0m in \u001b[0;36m__enter__\u001b[1;34m(self)\u001b[0m\n\u001b[0;32m    115\u001b[0m         \u001b[1;32mdel\u001b[0m \u001b[0mself\u001b[0m\u001b[1;33m.\u001b[0m\u001b[0margs\u001b[0m\u001b[1;33m,\u001b[0m \u001b[0mself\u001b[0m\u001b[1;33m.\u001b[0m\u001b[0mkwds\u001b[0m\u001b[1;33m,\u001b[0m \u001b[0mself\u001b[0m\u001b[1;33m.\u001b[0m\u001b[0mfunc\u001b[0m\u001b[1;33m\u001b[0m\u001b[1;33m\u001b[0m\u001b[0m\n\u001b[0;32m    116\u001b[0m         \u001b[1;32mtry\u001b[0m\u001b[1;33m:\u001b[0m\u001b[1;33m\u001b[0m\u001b[1;33m\u001b[0m\u001b[0m\n\u001b[1;32m--> 117\u001b[1;33m             \u001b[1;32mreturn\u001b[0m \u001b[0mnext\u001b[0m\u001b[1;33m(\u001b[0m\u001b[0mself\u001b[0m\u001b[1;33m.\u001b[0m\u001b[0mgen\u001b[0m\u001b[1;33m)\u001b[0m\u001b[1;33m\u001b[0m\u001b[1;33m\u001b[0m\u001b[0m\n\u001b[0m\u001b[0;32m    118\u001b[0m         \u001b[1;32mexcept\u001b[0m \u001b[0mStopIteration\u001b[0m\u001b[1;33m:\u001b[0m\u001b[1;33m\u001b[0m\u001b[1;33m\u001b[0m\u001b[0m\n\u001b[0;32m    119\u001b[0m             \u001b[1;32mraise\u001b[0m \u001b[0mRuntimeError\u001b[0m\u001b[1;33m(\u001b[0m\u001b[1;34m\"generator didn't yield\"\u001b[0m\u001b[1;33m)\u001b[0m \u001b[1;32mfrom\u001b[0m \u001b[1;32mNone\u001b[0m\u001b[1;33m\u001b[0m\u001b[1;33m\u001b[0m\u001b[0m\n",
      "\u001b[1;32m~\\Miniconda3\\envs\\the_bridge_py\\lib\\site-packages\\pymongo\\mongo_client.py\u001b[0m in \u001b[0;36m_tmp_session\u001b[1;34m(self, session, close)\u001b[0m\n\u001b[0;32m   1946\u001b[0m             \u001b[1;32mreturn\u001b[0m\u001b[1;33m\u001b[0m\u001b[1;33m\u001b[0m\u001b[0m\n\u001b[0;32m   1947\u001b[0m \u001b[1;33m\u001b[0m\u001b[0m\n\u001b[1;32m-> 1948\u001b[1;33m         \u001b[0ms\u001b[0m \u001b[1;33m=\u001b[0m \u001b[0mself\u001b[0m\u001b[1;33m.\u001b[0m\u001b[0m_ensure_session\u001b[0m\u001b[1;33m(\u001b[0m\u001b[0msession\u001b[0m\u001b[1;33m)\u001b[0m\u001b[1;33m\u001b[0m\u001b[1;33m\u001b[0m\u001b[0m\n\u001b[0m\u001b[0;32m   1949\u001b[0m         \u001b[1;32mif\u001b[0m \u001b[0ms\u001b[0m\u001b[1;33m:\u001b[0m\u001b[1;33m\u001b[0m\u001b[1;33m\u001b[0m\u001b[0m\n\u001b[0;32m   1950\u001b[0m             \u001b[1;32mtry\u001b[0m\u001b[1;33m:\u001b[0m\u001b[1;33m\u001b[0m\u001b[1;33m\u001b[0m\u001b[0m\n",
      "\u001b[1;32m~\\Miniconda3\\envs\\the_bridge_py\\lib\\site-packages\\pymongo\\mongo_client.py\u001b[0m in \u001b[0;36m_ensure_session\u001b[1;34m(self, session)\u001b[0m\n\u001b[0;32m   1933\u001b[0m             \u001b[1;31m# Don't make implicit sessions causally consistent. Applications\u001b[0m\u001b[1;33m\u001b[0m\u001b[1;33m\u001b[0m\u001b[1;33m\u001b[0m\u001b[0m\n\u001b[0;32m   1934\u001b[0m             \u001b[1;31m# should always opt-in.\u001b[0m\u001b[1;33m\u001b[0m\u001b[1;33m\u001b[0m\u001b[1;33m\u001b[0m\u001b[0m\n\u001b[1;32m-> 1935\u001b[1;33m             \u001b[1;32mreturn\u001b[0m \u001b[0mself\u001b[0m\u001b[1;33m.\u001b[0m\u001b[0m__start_session\u001b[0m\u001b[1;33m(\u001b[0m\u001b[1;32mTrue\u001b[0m\u001b[1;33m,\u001b[0m \u001b[0mcausal_consistency\u001b[0m\u001b[1;33m=\u001b[0m\u001b[1;32mFalse\u001b[0m\u001b[1;33m)\u001b[0m\u001b[1;33m\u001b[0m\u001b[1;33m\u001b[0m\u001b[0m\n\u001b[0m\u001b[0;32m   1936\u001b[0m         \u001b[1;32mexcept\u001b[0m \u001b[1;33m(\u001b[0m\u001b[0mConfigurationError\u001b[0m\u001b[1;33m,\u001b[0m \u001b[0mInvalidOperation\u001b[0m\u001b[1;33m)\u001b[0m\u001b[1;33m:\u001b[0m\u001b[1;33m\u001b[0m\u001b[1;33m\u001b[0m\u001b[0m\n\u001b[0;32m   1937\u001b[0m             \u001b[1;31m# Sessions not supported, or multiple users authenticated.\u001b[0m\u001b[1;33m\u001b[0m\u001b[1;33m\u001b[0m\u001b[1;33m\u001b[0m\u001b[0m\n",
      "\u001b[1;32m~\\Miniconda3\\envs\\the_bridge_py\\lib\\site-packages\\pymongo\\mongo_client.py\u001b[0m in \u001b[0;36m__start_session\u001b[1;34m(self, implicit, **kwargs)\u001b[0m\n\u001b[0;32m   1881\u001b[0m \u001b[1;33m\u001b[0m\u001b[0m\n\u001b[0;32m   1882\u001b[0m         \u001b[1;31m# Raises ConfigurationError if sessions are not supported.\u001b[0m\u001b[1;33m\u001b[0m\u001b[1;33m\u001b[0m\u001b[1;33m\u001b[0m\u001b[0m\n\u001b[1;32m-> 1883\u001b[1;33m         \u001b[0mserver_session\u001b[0m \u001b[1;33m=\u001b[0m \u001b[0mself\u001b[0m\u001b[1;33m.\u001b[0m\u001b[0m_get_server_session\u001b[0m\u001b[1;33m(\u001b[0m\u001b[1;33m)\u001b[0m\u001b[1;33m\u001b[0m\u001b[1;33m\u001b[0m\u001b[0m\n\u001b[0m\u001b[0;32m   1884\u001b[0m         \u001b[0mopts\u001b[0m \u001b[1;33m=\u001b[0m \u001b[0mclient_session\u001b[0m\u001b[1;33m.\u001b[0m\u001b[0mSessionOptions\u001b[0m\u001b[1;33m(\u001b[0m\u001b[1;33m**\u001b[0m\u001b[0mkwargs\u001b[0m\u001b[1;33m)\u001b[0m\u001b[1;33m\u001b[0m\u001b[1;33m\u001b[0m\u001b[0m\n\u001b[0;32m   1885\u001b[0m         return client_session.ClientSession(\n",
      "\u001b[1;32m~\\Miniconda3\\envs\\the_bridge_py\\lib\\site-packages\\pymongo\\mongo_client.py\u001b[0m in \u001b[0;36m_get_server_session\u001b[1;34m(self)\u001b[0m\n\u001b[0;32m   1919\u001b[0m     \u001b[1;32mdef\u001b[0m \u001b[0m_get_server_session\u001b[0m\u001b[1;33m(\u001b[0m\u001b[0mself\u001b[0m\u001b[1;33m)\u001b[0m\u001b[1;33m:\u001b[0m\u001b[1;33m\u001b[0m\u001b[1;33m\u001b[0m\u001b[0m\n\u001b[0;32m   1920\u001b[0m         \u001b[1;34m\"\"\"Internal: start or resume a _ServerSession.\"\"\"\u001b[0m\u001b[1;33m\u001b[0m\u001b[1;33m\u001b[0m\u001b[0m\n\u001b[1;32m-> 1921\u001b[1;33m         \u001b[1;32mreturn\u001b[0m \u001b[0mself\u001b[0m\u001b[1;33m.\u001b[0m\u001b[0m_topology\u001b[0m\u001b[1;33m.\u001b[0m\u001b[0mget_server_session\u001b[0m\u001b[1;33m(\u001b[0m\u001b[1;33m)\u001b[0m\u001b[1;33m\u001b[0m\u001b[1;33m\u001b[0m\u001b[0m\n\u001b[0m\u001b[0;32m   1922\u001b[0m \u001b[1;33m\u001b[0m\u001b[0m\n\u001b[0;32m   1923\u001b[0m     \u001b[1;32mdef\u001b[0m \u001b[0m_return_server_session\u001b[0m\u001b[1;33m(\u001b[0m\u001b[0mself\u001b[0m\u001b[1;33m,\u001b[0m \u001b[0mserver_session\u001b[0m\u001b[1;33m,\u001b[0m \u001b[0mlock\u001b[0m\u001b[1;33m)\u001b[0m\u001b[1;33m:\u001b[0m\u001b[1;33m\u001b[0m\u001b[1;33m\u001b[0m\u001b[0m\n",
      "\u001b[1;32m~\\Miniconda3\\envs\\the_bridge_py\\lib\\site-packages\\pymongo\\topology.py\u001b[0m in \u001b[0;36mget_server_session\u001b[1;34m(self)\u001b[0m\n\u001b[0;32m    518\u001b[0m             \u001b[1;31m# Sessions are always supported in load balanced mode.\u001b[0m\u001b[1;33m\u001b[0m\u001b[1;33m\u001b[0m\u001b[1;33m\u001b[0m\u001b[0m\n\u001b[0;32m    519\u001b[0m             \u001b[1;32mif\u001b[0m \u001b[1;32mnot\u001b[0m \u001b[0mself\u001b[0m\u001b[1;33m.\u001b[0m\u001b[0m_settings\u001b[0m\u001b[1;33m.\u001b[0m\u001b[0mload_balanced\u001b[0m\u001b[1;33m:\u001b[0m\u001b[1;33m\u001b[0m\u001b[1;33m\u001b[0m\u001b[0m\n\u001b[1;32m--> 520\u001b[1;33m                 \u001b[0msession_timeout\u001b[0m \u001b[1;33m=\u001b[0m \u001b[0mself\u001b[0m\u001b[1;33m.\u001b[0m\u001b[0m_check_session_support\u001b[0m\u001b[1;33m(\u001b[0m\u001b[1;33m)\u001b[0m\u001b[1;33m\u001b[0m\u001b[1;33m\u001b[0m\u001b[0m\n\u001b[0m\u001b[0;32m    521\u001b[0m             \u001b[1;32melse\u001b[0m\u001b[1;33m:\u001b[0m\u001b[1;33m\u001b[0m\u001b[1;33m\u001b[0m\u001b[0m\n\u001b[0;32m    522\u001b[0m                 \u001b[1;31m# Sessions never time out in load balanced mode.\u001b[0m\u001b[1;33m\u001b[0m\u001b[1;33m\u001b[0m\u001b[1;33m\u001b[0m\u001b[0m\n",
      "\u001b[1;32m~\\Miniconda3\\envs\\the_bridge_py\\lib\\site-packages\\pymongo\\topology.py\u001b[0m in \u001b[0;36m_check_session_support\u001b[1;34m(self)\u001b[0m\n\u001b[0;32m    497\u001b[0m             \u001b[1;32mif\u001b[0m \u001b[0mself\u001b[0m\u001b[1;33m.\u001b[0m\u001b[0m_description\u001b[0m\u001b[1;33m.\u001b[0m\u001b[0mtopology_type\u001b[0m \u001b[1;33m==\u001b[0m \u001b[0mTOPOLOGY_TYPE\u001b[0m\u001b[1;33m.\u001b[0m\u001b[0mSingle\u001b[0m\u001b[1;33m:\u001b[0m\u001b[1;33m\u001b[0m\u001b[1;33m\u001b[0m\u001b[0m\n\u001b[0;32m    498\u001b[0m                 \u001b[1;32mif\u001b[0m \u001b[1;32mnot\u001b[0m \u001b[0mself\u001b[0m\u001b[1;33m.\u001b[0m\u001b[0m_description\u001b[0m\u001b[1;33m.\u001b[0m\u001b[0mhas_known_servers\u001b[0m\u001b[1;33m:\u001b[0m\u001b[1;33m\u001b[0m\u001b[1;33m\u001b[0m\u001b[0m\n\u001b[1;32m--> 499\u001b[1;33m                     self._select_servers_loop(\n\u001b[0m\u001b[0;32m    500\u001b[0m                         \u001b[0many_server_selector\u001b[0m\u001b[1;33m,\u001b[0m\u001b[1;33m\u001b[0m\u001b[1;33m\u001b[0m\u001b[0m\n\u001b[0;32m    501\u001b[0m                         \u001b[0mself\u001b[0m\u001b[1;33m.\u001b[0m\u001b[0m_settings\u001b[0m\u001b[1;33m.\u001b[0m\u001b[0mserver_selection_timeout\u001b[0m\u001b[1;33m,\u001b[0m\u001b[1;33m\u001b[0m\u001b[1;33m\u001b[0m\u001b[0m\n",
      "\u001b[1;32m~\\Miniconda3\\envs\\the_bridge_py\\lib\\site-packages\\pymongo\\topology.py\u001b[0m in \u001b[0;36m_select_servers_loop\u001b[1;34m(self, selector, timeout, address)\u001b[0m\n\u001b[0;32m    216\u001b[0m             \u001b[1;31m# No suitable servers.\u001b[0m\u001b[1;33m\u001b[0m\u001b[1;33m\u001b[0m\u001b[1;33m\u001b[0m\u001b[0m\n\u001b[0;32m    217\u001b[0m             \u001b[1;32mif\u001b[0m \u001b[0mtimeout\u001b[0m \u001b[1;33m==\u001b[0m \u001b[1;36m0\u001b[0m \u001b[1;32mor\u001b[0m \u001b[0mnow\u001b[0m \u001b[1;33m>\u001b[0m \u001b[0mend_time\u001b[0m\u001b[1;33m:\u001b[0m\u001b[1;33m\u001b[0m\u001b[1;33m\u001b[0m\u001b[0m\n\u001b[1;32m--> 218\u001b[1;33m                 raise ServerSelectionTimeoutError(\n\u001b[0m\u001b[0;32m    219\u001b[0m                     \u001b[1;34m\"%s, Timeout: %ss, Topology Description: %r\"\u001b[0m \u001b[1;33m%\u001b[0m\u001b[1;33m\u001b[0m\u001b[1;33m\u001b[0m\u001b[0m\n\u001b[0;32m    220\u001b[0m                     (self._error_message(selector), timeout, self.description))\n",
      "\u001b[1;31mServerSelectionTimeoutError\u001b[0m: custerthebridge.vuvo2.mongodb.net:27017: [Errno 11001] getaddrinfo failed, Timeout: 30s, Topology Description: <TopologyDescription id: 61a7c83397ec6b07d5c1d71b, topology_type: Single, servers: [<ServerDescription ('custerthebridge.vuvo2.mongodb.net', 27017) server_type: Unknown, rtt: None, error=AutoReconnect('custerthebridge.vuvo2.mongodb.net:27017: [Errno 11001] getaddrinfo failed')>]>"
     ]
    }
   ],
   "source": [
    "db = client.vuestro_nombre\n",
    "items = {\n",
    "    \"type\" : \"MacOS\",\n",
    "    \"itemNumber\":12345667\n",
    "}\n",
    "# creamos una collection de objetos\n",
    "collection = db.items\n",
    "\n",
    "collection.insert_one(items)"
   ]
  },
  {
   "cell_type": "code",
   "execution_count": 29,
   "metadata": {
    "colab": {
     "base_uri": "https://localhost:8080/",
     "height": 422
    },
    "id": "J3lvh9hf9Prf",
    "outputId": "8d6ac70a-3daf-4a38-aea1-67fb70c7a1ce"
   },
   "outputs": [],
   "source": [
    "# # Llamamos el Cliente Mongo\n",
    "# client = MongoClient(\"mongodb+srv://{0}:{endpoint}\".format(user,password))\n",
    "# db = client.test\n",
    "# collection = db.hashtag"
   ]
  },
  {
   "cell_type": "code",
   "execution_count": null,
   "metadata": {},
   "outputs": [],
   "source": [
    "tweepy.Stream"
   ]
  },
  {
   "cell_type": "code",
   "execution_count": 7,
   "metadata": {
    "id": "4nWLUmkI_nCI"
   },
   "outputs": [
    {
     "ename": "NameError",
     "evalue": "name 'tweepy' is not defined",
     "output_type": "error",
     "traceback": [
      "\u001b[1;31m---------------------------------------------------------------------------\u001b[0m",
      "\u001b[1;31mNameError\u001b[0m                                 Traceback (most recent call last)",
      "\u001b[1;32m~\\AppData\\Local\\Temp/ipykernel_5736/2110736146.py\u001b[0m in \u001b[0;36m<module>\u001b[1;34m\u001b[0m\n\u001b[0;32m      1\u001b[0m \u001b[1;31m### Main functions\u001b[0m\u001b[1;33m\u001b[0m\u001b[1;33m\u001b[0m\u001b[1;33m\u001b[0m\u001b[0m\n\u001b[1;32m----> 2\u001b[1;33m \u001b[1;32mclass\u001b[0m \u001b[0mStreamListener\u001b[0m\u001b[1;33m(\u001b[0m\u001b[0mtweepy\u001b[0m\u001b[1;33m.\u001b[0m\u001b[0mStream\u001b[0m\u001b[1;33m)\u001b[0m\u001b[1;33m:\u001b[0m\u001b[1;33m\u001b[0m\u001b[1;33m\u001b[0m\u001b[0m\n\u001b[0m\u001b[0;32m      3\u001b[0m     \u001b[1;31m#This is a class provided by tweepy to access the Twitter Streaming API.\u001b[0m\u001b[1;33m\u001b[0m\u001b[1;33m\u001b[0m\u001b[1;33m\u001b[0m\u001b[0m\n\u001b[0;32m      4\u001b[0m \u001b[1;33m\u001b[0m\u001b[0m\n\u001b[0;32m      5\u001b[0m     \u001b[1;32mdef\u001b[0m \u001b[0mon_connect\u001b[0m\u001b[1;33m(\u001b[0m\u001b[0mself\u001b[0m\u001b[1;33m)\u001b[0m\u001b[1;33m:\u001b[0m\u001b[1;33m\u001b[0m\u001b[1;33m\u001b[0m\u001b[0m\n",
      "\u001b[1;31mNameError\u001b[0m: name 'tweepy' is not defined"
     ]
    }
   ],
   "source": [
    "### Main functions\n",
    "class StreamListener(tweepy.Stream):\n",
    "    #This is a class provided by tweepy to access the Twitter Streaming API. \n",
    "\n",
    "    def on_connect(self):\n",
    "        # Called initially to connect to the Streaming API\n",
    "        print(\"You are now connected to the streaming API.\")\n",
    "\n",
    "    def on_error(self, status_code):\n",
    "        # On error - if an error occurs, display the error / status code\n",
    "        print('An Error has occured: ' + repr(status_code))\n",
    "        return False\n",
    "\n",
    "    def on_data(self, data):\n",
    "        #This is the meat of the script...it connects to your mongoDB and stores the tweet\n",
    "        try:\n",
    "            # client = MongoClient(MONGO_HOST)\n",
    "            # Use twitterdb database. If it doesn't exist, it will be created.\n",
    "            # db = client.twitterdb\n",
    "            # Decode the JSON from Twitter\n",
    "            datajson = json.loads(data)\n",
    "\n",
    "            #grab the 'created_at' data from the Tweet to use for display\n",
    "            created_at = datajson['created_at']\n",
    "\n",
    "            #print out a message to the screen that we have collected a tweet\n",
    "            print(\"Tweet collected at \" + str(created_at))\n",
    "\n",
    "            #insert the data into the mongoDB into a collection called twitter_search\n",
    "            #if twitter_search doesn't exist, it will be created.\n",
    "            db.twitter_search.insert(datajson)\n",
    "        except Exception as e:\n",
    "            print(e)"
   ]
  },
  {
   "cell_type": "code",
   "execution_count": null,
   "metadata": {
    "id": "lRzVkh63_3MS"
   },
   "outputs": [],
   "source": []
  }
 ],
 "metadata": {
  "colab": {
   "collapsed_sections": [],
   "name": "03_Twitter_API.ipynb",
   "provenance": []
  },
  "interpreter": {
   "hash": "2001a1d0fb527615d7002199da1d0f7f0fd2c58df164732186f805eb5e39537a"
  },
  "kernelspec": {
   "display_name": "Python 3.9.5 64-bit ('the_bridge_py': conda)",
   "name": "python3"
  },
  "language_info": {
   "codemirror_mode": {
    "name": "ipython",
    "version": 3
   },
   "file_extension": ".py",
   "mimetype": "text/x-python",
   "name": "python",
   "nbconvert_exporter": "python",
   "pygments_lexer": "ipython3",
   "version": "3.9.5"
  }
 },
 "nbformat": 4,
 "nbformat_minor": 4
}
