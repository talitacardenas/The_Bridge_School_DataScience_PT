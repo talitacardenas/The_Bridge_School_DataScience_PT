{
 "cells": [
  {
   "cell_type": "code",
   "execution_count": 2,
   "metadata": {},
   "outputs": [],
   "source": [
    "# Libraries\n",
    "from bs4 import BeautifulSoup\n",
    "from mysql.connector import Error\n",
    "from dateutil import parser\n",
    "import requests\n",
    "import mysql.connector\n",
    "import json\n",
    "import time"
   ]
  },
  {
   "cell_type": "code",
   "execution_count": 5,
   "metadata": {},
   "outputs": [],
   "source": [
    "# MYSQL - MariaDB creds\n",
    "HOST = '192.168.0.18:3306'\n",
    "USER = ''\n",
    "PASSWD = ''\n",
    "DATABASE = 'electoralChallenge'\n",
    "TABLE = 'twitterPSOEMadrid'"
   ]
  },
  {
   "cell_type": "code",
   "execution_count": 6,
   "metadata": {},
   "outputs": [
    {
     "name": "stdout",
     "output_type": "stream",
     "text": [
      "Error while connecting to MySQL 2003: Can't connect to MySQL server on '192.168.0.18:3306:3306' (8 nodename nor servname provided, or not known)\n"
     ]
    },
    {
     "ename": "NameError",
     "evalue": "name 'mySQLconnection' is not defined",
     "output_type": "error",
     "traceback": [
      "\u001b[0;31m---------------------------------------------------------------------------\u001b[0m",
      "\u001b[0;31mNameError\u001b[0m                                 Traceback (most recent call last)",
      "\u001b[0;32m<ipython-input-6-ccd4c2a017cf>\u001b[0m in \u001b[0;36m<module>\u001b[0;34m\u001b[0m\n\u001b[1;32m     22\u001b[0m \u001b[0;32mfinally\u001b[0m\u001b[0;34m:\u001b[0m\u001b[0;34m\u001b[0m\u001b[0;34m\u001b[0m\u001b[0m\n\u001b[1;32m     23\u001b[0m     \u001b[0;31m#closing database connection.\u001b[0m\u001b[0;34m\u001b[0m\u001b[0;34m\u001b[0m\u001b[0;34m\u001b[0m\u001b[0m\n\u001b[0;32m---> 24\u001b[0;31m     \u001b[0;32mif\u001b[0m\u001b[0;34m(\u001b[0m\u001b[0mmySQLconnection\u001b[0m \u001b[0;34m.\u001b[0m\u001b[0mis_connected\u001b[0m\u001b[0;34m(\u001b[0m\u001b[0;34m)\u001b[0m\u001b[0;34m)\u001b[0m\u001b[0;34m:\u001b[0m\u001b[0;34m\u001b[0m\u001b[0;34m\u001b[0m\u001b[0m\n\u001b[0m\u001b[1;32m     25\u001b[0m         \u001b[0mconnection\u001b[0m\u001b[0;34m.\u001b[0m\u001b[0mclose\u001b[0m\u001b[0;34m(\u001b[0m\u001b[0;34m)\u001b[0m\u001b[0;34m\u001b[0m\u001b[0;34m\u001b[0m\u001b[0m\n\u001b[1;32m     26\u001b[0m         \u001b[0mprint\u001b[0m\u001b[0;34m(\u001b[0m\u001b[0;34m\"MySQL connection is closed\"\u001b[0m\u001b[0;34m)\u001b[0m\u001b[0;34m\u001b[0m\u001b[0;34m\u001b[0m\u001b[0m\n",
      "\u001b[0;31mNameError\u001b[0m: name 'mySQLconnection' is not defined"
     ]
    }
   ],
   "source": [
    "# MYSQL Connection Test\n",
    "try:\n",
    "   mySQLconnection = mysql.connector.connect(host=HOST,\n",
    "                             database=DATABASE,\n",
    "                             user=USER,\n",
    "                             password=PASSWD)\n",
    "   sql_select_Query = \"select * from TABLE\"\n",
    "   cursor = mySQLconnection .cursor()\n",
    "   cursor.execute(sql_select_Query)\n",
    "   records = cursor.fetchall()\n",
    "   print(\"Total number of rows in {} - \".format(TABLE), cursor.rowcount)\n",
    "   print (\"Printing each row's column values i.e.  developer record\")\n",
    "   for row in records:\n",
    "       print(\"Id = \", row[0], )\n",
    "       print(\"Name = \", row[1])\n",
    "       print(\"JoiningDate  = \", row[2])\n",
    "       print(\"Salary  = \", row[3], \"\\n\")\n",
    "   cursor.close()\n",
    "   \n",
    "except Error as e :\n",
    "    print (\"Error while connecting to MySQL\", e)\n",
    "finally:\n",
    "    #closing database connection.\n",
    "    if(mySQLconnection .is_connected()):\n",
    "        connection.close()\n",
    "        print(\"MySQL connection is closed\")"
   ]
  }
 ],
 "metadata": {
  "kernelspec": {
   "display_name": "Python 3",
   "language": "python",
   "name": "python3"
  },
  "language_info": {
   "codemirror_mode": {
    "name": "ipython",
    "version": 3
   },
   "file_extension": ".py",
   "mimetype": "text/x-python",
   "name": "python",
   "nbconvert_exporter": "python",
   "pygments_lexer": "ipython3",
   "version": "3.8.6"
  }
 },
 "nbformat": 4,
 "nbformat_minor": 4
}
