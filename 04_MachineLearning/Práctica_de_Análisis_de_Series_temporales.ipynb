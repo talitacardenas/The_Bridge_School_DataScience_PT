{
  "nbformat": 4,
  "nbformat_minor": 0,
  "metadata": {
    "colab": {
      "name": "Práctica de Análisis de Series temporales",
      "provenance": []
    },
    "kernelspec": {
      "name": "python3",
      "display_name": "Python 3"
    },
    "language_info": {
      "name": "python"
    }
  },
  "cells": [
    {
      "cell_type": "markdown",
      "metadata": {
        "id": "9nI5Fa7CXHiv"
      },
      "source": [
        "# Desafío 1: carga y evaluación de los datos\n",
        "\n",
        "En este laboratorio, veremos un conjunto de datos de datos de sensores de un teléfono celular. El teléfono se llevó en el bolsillo del sujeto durante unos minutos mientras caminaban.\n",
        "\n",
        "Para cargar los datos, ejecute el siguiente código.\n",
        "\n",
        "\n",
        "## Resources\n",
        "\n",
        "[The Augmented Dickey-Fuller Test](https://en.wikipedia.org/wiki/Augmented_Dickey%E2%80%93Fuller_test)\n",
        "\n",
        "[Time Series Decomposition](https://newonlinecourses.science.psu.edu/stat510/node/69/)\n",
        "\n",
        "[Lag Plots](https://www.itl.nist.gov/div898/handbook/eda/section3/lagplot.htm)"
      ]
    },
    {
      "cell_type": "code",
      "metadata": {
        "colab": {
          "base_uri": "https://localhost:8080/"
        },
        "id": "uE-F0wEtW8oz",
        "outputId": "5b444479-07c6-4809-f436-09fff8bf6abc"
      },
      "source": [
        "# Importamos las librerías \n",
        "import pandas as pd\n",
        "import numpy as np\n",
        "import matplotlib.pyplot as plt\n",
        "import statsmodels.api as sm\n",
        "import statsmodels.tsa as smt"
      ],
      "execution_count": 2,
      "outputs": [
        {
          "output_type": "stream",
          "name": "stderr",
          "text": [
            "/usr/local/lib/python3.7/dist-packages/statsmodels/tools/_testing.py:19: FutureWarning: pandas.util.testing is deprecated. Use the functions in the public API at pandas.testing instead.\n",
            "  import pandas.util.testing as tm\n"
          ]
        }
      ]
    },
    {
      "cell_type": "code",
      "metadata": {
        "colab": {
          "base_uri": "https://localhost:8080/",
          "height": 243
        },
        "id": "qGkXrK3EX8oq",
        "outputId": "9a2fe5ee-be96-424d-fa39-eb171b4eb7dc"
      },
      "source": [
        "sensor = pd.read_csv('/content/sub_1.csv')\n",
        "sensor.head()"
      ],
      "execution_count": 4,
      "outputs": [
        {
          "output_type": "execute_result",
          "data": {
            "text/html": [
              "<div>\n",
              "<style scoped>\n",
              "    .dataframe tbody tr th:only-of-type {\n",
              "        vertical-align: middle;\n",
              "    }\n",
              "\n",
              "    .dataframe tbody tr th {\n",
              "        vertical-align: top;\n",
              "    }\n",
              "\n",
              "    .dataframe thead th {\n",
              "        text-align: right;\n",
              "    }\n",
              "</style>\n",
              "<table border=\"1\" class=\"dataframe\">\n",
              "  <thead>\n",
              "    <tr style=\"text-align: right;\">\n",
              "      <th></th>\n",
              "      <th>Unnamed: 0</th>\n",
              "      <th>attitude.roll</th>\n",
              "      <th>attitude.pitch</th>\n",
              "      <th>attitude.yaw</th>\n",
              "      <th>gravity.x</th>\n",
              "      <th>gravity.y</th>\n",
              "      <th>gravity.z</th>\n",
              "      <th>rotationRate.x</th>\n",
              "      <th>rotationRate.y</th>\n",
              "      <th>rotationRate.z</th>\n",
              "      <th>userAcceleration.x</th>\n",
              "      <th>userAcceleration.y</th>\n",
              "      <th>userAcceleration.z</th>\n",
              "    </tr>\n",
              "  </thead>\n",
              "  <tbody>\n",
              "    <tr>\n",
              "      <th>0</th>\n",
              "      <td>0</td>\n",
              "      <td>1.528132</td>\n",
              "      <td>-0.733896</td>\n",
              "      <td>0.696372</td>\n",
              "      <td>0.741895</td>\n",
              "      <td>0.669768</td>\n",
              "      <td>-0.031672</td>\n",
              "      <td>0.316738</td>\n",
              "      <td>0.778180</td>\n",
              "      <td>1.082764</td>\n",
              "      <td>0.294894</td>\n",
              "      <td>-0.184493</td>\n",
              "      <td>0.377542</td>\n",
              "    </tr>\n",
              "    <tr>\n",
              "      <th>1</th>\n",
              "      <td>1</td>\n",
              "      <td>1.527992</td>\n",
              "      <td>-0.716987</td>\n",
              "      <td>0.677762</td>\n",
              "      <td>0.753099</td>\n",
              "      <td>0.657116</td>\n",
              "      <td>-0.032255</td>\n",
              "      <td>0.842032</td>\n",
              "      <td>0.424446</td>\n",
              "      <td>0.643574</td>\n",
              "      <td>0.219405</td>\n",
              "      <td>0.035846</td>\n",
              "      <td>0.114866</td>\n",
              "    </tr>\n",
              "    <tr>\n",
              "      <th>2</th>\n",
              "      <td>2</td>\n",
              "      <td>1.527765</td>\n",
              "      <td>-0.706999</td>\n",
              "      <td>0.670951</td>\n",
              "      <td>0.759611</td>\n",
              "      <td>0.649555</td>\n",
              "      <td>-0.032707</td>\n",
              "      <td>-0.138143</td>\n",
              "      <td>-0.040741</td>\n",
              "      <td>0.343563</td>\n",
              "      <td>0.010714</td>\n",
              "      <td>0.134701</td>\n",
              "      <td>-0.167808</td>\n",
              "    </tr>\n",
              "    <tr>\n",
              "      <th>3</th>\n",
              "      <td>3</td>\n",
              "      <td>1.516768</td>\n",
              "      <td>-0.704678</td>\n",
              "      <td>0.675735</td>\n",
              "      <td>0.760709</td>\n",
              "      <td>0.647788</td>\n",
              "      <td>-0.041140</td>\n",
              "      <td>-0.025005</td>\n",
              "      <td>-1.048717</td>\n",
              "      <td>0.035860</td>\n",
              "      <td>-0.008389</td>\n",
              "      <td>0.136788</td>\n",
              "      <td>0.094958</td>\n",
              "    </tr>\n",
              "    <tr>\n",
              "      <th>4</th>\n",
              "      <td>4</td>\n",
              "      <td>1.493941</td>\n",
              "      <td>-0.703918</td>\n",
              "      <td>0.672994</td>\n",
              "      <td>0.760062</td>\n",
              "      <td>0.647210</td>\n",
              "      <td>-0.058530</td>\n",
              "      <td>0.114253</td>\n",
              "      <td>-0.912890</td>\n",
              "      <td>0.047341</td>\n",
              "      <td>0.199441</td>\n",
              "      <td>0.353996</td>\n",
              "      <td>-0.044299</td>\n",
              "    </tr>\n",
              "  </tbody>\n",
              "</table>\n",
              "</div>"
            ],
            "text/plain": [
              "   Unnamed: 0  attitude.roll  ...  userAcceleration.y  userAcceleration.z\n",
              "0           0       1.528132  ...           -0.184493            0.377542\n",
              "1           1       1.527992  ...            0.035846            0.114866\n",
              "2           2       1.527765  ...            0.134701           -0.167808\n",
              "3           3       1.516768  ...            0.136788            0.094958\n",
              "4           4       1.493941  ...            0.353996           -0.044299\n",
              "\n",
              "[5 rows x 13 columns]"
            ]
          },
          "metadata": {},
          "execution_count": 4
        }
      ]
    },
    {
      "cell_type": "code",
      "metadata": {
        "id": "-J_iPpvzYofb"
      },
      "source": [
        "# Eliminanos la columna unnamed\n",
        "sensor.drop(columns=['Unnamed: 0'], inplace=True)"
      ],
      "execution_count": 5,
      "outputs": []
    },
    {
      "cell_type": "markdown",
      "metadata": {
        "id": "Ic3OjAFTY49j"
      },
      "source": [
        "# Como puedo observar los datos nulos?"
      ]
    },
    {
      "cell_type": "code",
      "metadata": {
        "colab": {
          "base_uri": "https://localhost:8080/"
        },
        "id": "zsINJvqVY8Hh",
        "outputId": "55518ac8-9dcf-4af0-c704-a7f946ea0ffe"
      },
      "source": [
        "null = sensor.isna().sum()\n",
        "null"
      ],
      "execution_count": 7,
      "outputs": [
        {
          "output_type": "execute_result",
          "data": {
            "text/plain": [
              "attitude.roll         0\n",
              "attitude.pitch        0\n",
              "attitude.yaw          0\n",
              "gravity.x             0\n",
              "gravity.y             0\n",
              "gravity.z             0\n",
              "rotationRate.x        0\n",
              "rotationRate.y        0\n",
              "rotationRate.z        0\n",
              "userAcceleration.x    0\n",
              "userAcceleration.y    0\n",
              "userAcceleration.z    0\n",
              "dtype: int64"
            ]
          },
          "metadata": {},
          "execution_count": 7
        }
      ]
    },
    {
      "cell_type": "code",
      "metadata": {
        "colab": {
          "base_uri": "https://localhost:8080/"
        },
        "id": "1cTPP5zYZDhL",
        "outputId": "cd905ced-fbcd-4348-d12b-f61b4ad1e43e"
      },
      "source": [
        "print(null[null > 0])\n",
        "print(sensor.columns)"
      ],
      "execution_count": 8,
      "outputs": [
        {
          "output_type": "stream",
          "name": "stdout",
          "text": [
            "Series([], dtype: int64)\n",
            "Index(['attitude.roll', 'attitude.pitch', 'attitude.yaw', 'gravity.x',\n",
            "       'gravity.y', 'gravity.z', 'rotationRate.x', 'rotationRate.y',\n",
            "       'rotationRate.z', 'userAcceleration.x', 'userAcceleration.y',\n",
            "       'userAcceleration.z'],\n",
            "      dtype='object')\n"
          ]
        }
      ]
    },
    {
      "cell_type": "code",
      "metadata": {
        "colab": {
          "base_uri": "https://localhost:8080/"
        },
        "id": "r7k0613UZB3W",
        "outputId": "b4afcf7d-7f03-46e4-cba4-a704d85a9e9e"
      },
      "source": [
        "sensor.shape"
      ],
      "execution_count": 9,
      "outputs": [
        {
          "output_type": "execute_result",
          "data": {
            "text/plain": [
              "(1751, 12)"
            ]
          },
          "metadata": {},
          "execution_count": 9
        }
      ]
    },
    {
      "cell_type": "markdown",
      "metadata": {
        "id": "V1ZniNg0ZWEC"
      },
      "source": [
        "Hablando de series temporales, necesitaríamos rango de fechas para indicarlo al índice."
      ]
    },
    {
      "cell_type": "code",
      "metadata": {
        "colab": {
          "base_uri": "https://localhost:8080/",
          "height": 36
        },
        "id": "NhssKMW5Zaw4",
        "outputId": "4bf6baed-499f-4f95-8e54-e92225e5c820"
      },
      "source": [
        "data = pd.date_range(start='20/11/2021 00:00:00', end='20/11/21 00:29:10',\n",
        "                     periods=len(sensor))\n",
        "freq = pd.infer_freq(data, warn=True)\n",
        "freq"
      ],
      "execution_count": 11,
      "outputs": [
        {
          "output_type": "execute_result",
          "data": {
            "application/vnd.google.colaboratory.intrinsic+json": {
              "type": "string"
            },
            "text/plain": [
              "'S'"
            ]
          },
          "metadata": {},
          "execution_count": 11
        }
      ]
    },
    {
      "cell_type": "code",
      "metadata": {
        "colab": {
          "base_uri": "https://localhost:8080/",
          "height": 313
        },
        "id": "m22xbCZoYvpM",
        "outputId": "d221a792-052c-407a-a4d1-1ca81be45cc4"
      },
      "source": [
        "# Observamos el índice\n",
        "sensor.index = data\n",
        "sensor.head()"
      ],
      "execution_count": 12,
      "outputs": [
        {
          "output_type": "execute_result",
          "data": {
            "text/html": [
              "<div>\n",
              "<style scoped>\n",
              "    .dataframe tbody tr th:only-of-type {\n",
              "        vertical-align: middle;\n",
              "    }\n",
              "\n",
              "    .dataframe tbody tr th {\n",
              "        vertical-align: top;\n",
              "    }\n",
              "\n",
              "    .dataframe thead th {\n",
              "        text-align: right;\n",
              "    }\n",
              "</style>\n",
              "<table border=\"1\" class=\"dataframe\">\n",
              "  <thead>\n",
              "    <tr style=\"text-align: right;\">\n",
              "      <th></th>\n",
              "      <th>attitude.roll</th>\n",
              "      <th>attitude.pitch</th>\n",
              "      <th>attitude.yaw</th>\n",
              "      <th>gravity.x</th>\n",
              "      <th>gravity.y</th>\n",
              "      <th>gravity.z</th>\n",
              "      <th>rotationRate.x</th>\n",
              "      <th>rotationRate.y</th>\n",
              "      <th>rotationRate.z</th>\n",
              "      <th>userAcceleration.x</th>\n",
              "      <th>userAcceleration.y</th>\n",
              "      <th>userAcceleration.z</th>\n",
              "    </tr>\n",
              "  </thead>\n",
              "  <tbody>\n",
              "    <tr>\n",
              "      <th>2021-11-20 00:00:00</th>\n",
              "      <td>1.528132</td>\n",
              "      <td>-0.733896</td>\n",
              "      <td>0.696372</td>\n",
              "      <td>0.741895</td>\n",
              "      <td>0.669768</td>\n",
              "      <td>-0.031672</td>\n",
              "      <td>0.316738</td>\n",
              "      <td>0.778180</td>\n",
              "      <td>1.082764</td>\n",
              "      <td>0.294894</td>\n",
              "      <td>-0.184493</td>\n",
              "      <td>0.377542</td>\n",
              "    </tr>\n",
              "    <tr>\n",
              "      <th>2021-11-20 00:00:01</th>\n",
              "      <td>1.527992</td>\n",
              "      <td>-0.716987</td>\n",
              "      <td>0.677762</td>\n",
              "      <td>0.753099</td>\n",
              "      <td>0.657116</td>\n",
              "      <td>-0.032255</td>\n",
              "      <td>0.842032</td>\n",
              "      <td>0.424446</td>\n",
              "      <td>0.643574</td>\n",
              "      <td>0.219405</td>\n",
              "      <td>0.035846</td>\n",
              "      <td>0.114866</td>\n",
              "    </tr>\n",
              "    <tr>\n",
              "      <th>2021-11-20 00:00:02</th>\n",
              "      <td>1.527765</td>\n",
              "      <td>-0.706999</td>\n",
              "      <td>0.670951</td>\n",
              "      <td>0.759611</td>\n",
              "      <td>0.649555</td>\n",
              "      <td>-0.032707</td>\n",
              "      <td>-0.138143</td>\n",
              "      <td>-0.040741</td>\n",
              "      <td>0.343563</td>\n",
              "      <td>0.010714</td>\n",
              "      <td>0.134701</td>\n",
              "      <td>-0.167808</td>\n",
              "    </tr>\n",
              "    <tr>\n",
              "      <th>2021-11-20 00:00:03</th>\n",
              "      <td>1.516768</td>\n",
              "      <td>-0.704678</td>\n",
              "      <td>0.675735</td>\n",
              "      <td>0.760709</td>\n",
              "      <td>0.647788</td>\n",
              "      <td>-0.041140</td>\n",
              "      <td>-0.025005</td>\n",
              "      <td>-1.048717</td>\n",
              "      <td>0.035860</td>\n",
              "      <td>-0.008389</td>\n",
              "      <td>0.136788</td>\n",
              "      <td>0.094958</td>\n",
              "    </tr>\n",
              "    <tr>\n",
              "      <th>2021-11-20 00:00:04</th>\n",
              "      <td>1.493941</td>\n",
              "      <td>-0.703918</td>\n",
              "      <td>0.672994</td>\n",
              "      <td>0.760062</td>\n",
              "      <td>0.647210</td>\n",
              "      <td>-0.058530</td>\n",
              "      <td>0.114253</td>\n",
              "      <td>-0.912890</td>\n",
              "      <td>0.047341</td>\n",
              "      <td>0.199441</td>\n",
              "      <td>0.353996</td>\n",
              "      <td>-0.044299</td>\n",
              "    </tr>\n",
              "  </tbody>\n",
              "</table>\n",
              "</div>"
            ],
            "text/plain": [
              "                     attitude.roll  ...  userAcceleration.z\n",
              "2021-11-20 00:00:00       1.528132  ...            0.377542\n",
              "2021-11-20 00:00:01       1.527992  ...            0.114866\n",
              "2021-11-20 00:00:02       1.527765  ...           -0.167808\n",
              "2021-11-20 00:00:03       1.516768  ...            0.094958\n",
              "2021-11-20 00:00:04       1.493941  ...           -0.044299\n",
              "\n",
              "[5 rows x 12 columns]"
            ]
          },
          "metadata": {},
          "execution_count": 12
        }
      ]
    },
    {
      "cell_type": "markdown",
      "metadata": {
        "id": "0raSdnRvaZkW"
      },
      "source": [
        "Para el estudio de la serie temporal, debemos descomponer los componentes principales y evaluar los patrones."
      ]
    },
    {
      "cell_type": "code",
      "metadata": {
        "colab": {
          "base_uri": "https://localhost:8080/",
          "height": 316
        },
        "id": "A0NSVYZVahnW",
        "outputId": "17ce36d5-7e2f-4f84-b551-519343e60036"
      },
      "source": [
        "dc = sm.tsa.seasonal_decompose(sensor['userAcceleration.x'], freq=60)\n",
        "plt.figure(figsize=(20,12))\n",
        "dc.plot();"
      ],
      "execution_count": 18,
      "outputs": [
        {
          "output_type": "display_data",
          "data": {
            "text/plain": [
              "<Figure size 1440x864 with 0 Axes>"
            ]
          },
          "metadata": {}
        },
        {
          "output_type": "display_data",
          "data": {
            "image/png": "[encoded data removed]",
            "text/plain": [
              "<Figure size 432x288 with 4 Axes>"
            ]
          },
          "metadata": {
            "needs_background": "light"
          }
        }
      ]
    },
    {
      "cell_type": "code",
      "metadata": {
        "colab": {
          "base_uri": "https://localhost:8080/",
          "height": 298
        },
        "id": "OEAH9kwmXkh6",
        "outputId": "05b46be2-a65e-46c7-80b5-fb9c0bdbf02d"
      },
      "source": [
        "dc = sm.tsa.seasonal_decompose(sensor['rotationRate.x'], freq=60)\n",
        "dc.plot();"
      ],
      "execution_count": 19,
      "outputs": [
        {
          "output_type": "display_data",
          "data": {
            "image/png": "[encoded data removed]",
            "text/plain": [
              "<Figure size 432x288 with 4 Axes>"
            ]
          },
          "metadata": {
            "needs_background": "light"
          }
        }
      ]
    },
    {
      "cell_type": "markdown",
      "metadata": {
        "id": "Cl7SS0cmbU6Q"
      },
      "source": [
        "# Modelamos los datos\n",
        "\n",
        "Para modelar nuestros datos, debemos realizar hipótesis. Lo primero es detectar \n",
        "los valores residuales para detectar auto-correlación."
      ]
    },
    {
      "cell_type": "code",
      "metadata": {
        "colab": {
          "base_uri": "https://localhost:8080/",
          "height": 279
        },
        "id": "VDC3QEoZbkcU",
        "outputId": "7b79e970-bd96-40fc-b008-a67a111738d1"
      },
      "source": [
        "pd.plotting.lag_plot(sensor['userAcceleration.x']);"
      ],
      "execution_count": 20,
      "outputs": [
        {
          "output_type": "display_data",
          "data": {
            "image/png": "[encoded data removed]",
            "text/plain": [
              "<Figure size 432x288 with 1 Axes>"
            ]
          },
          "metadata": {
            "needs_background": "light"
          }
        }
      ]
    },
    {
      "cell_type": "code",
      "metadata": {
        "colab": {
          "base_uri": "https://localhost:8080/",
          "height": 279
        },
        "id": "eBi4rBJKbp3J",
        "outputId": "f30c5798-0417-423f-804c-b5cd2da44c63"
      },
      "source": [
        "pd.plotting.lag_plot(sensor['rotationRate.x']);"
      ],
      "execution_count": 21,
      "outputs": [
        {
          "output_type": "display_data",
          "data": {
            "image/png": "[encoded data removed]",
            "text/plain": [
              "<Figure size 432x288 with 1 Axes>"
            ]
          },
          "metadata": {
            "needs_background": "light"
          }
        }
      ]
    },
    {
      "cell_type": "markdown",
      "metadata": {
        "id": "srnMhzlwb323"
      },
      "source": [
        "Podemos asumir que ambos atributos tenga auto-correlación, sin embargo aplicamos el estudio estadístico de Augmented Dickey Fuller test"
      ]
    },
    {
      "cell_type": "code",
      "metadata": {
        "colab": {
          "base_uri": "https://localhost:8080/"
        },
        "id": "EwRI67DIcBDL",
        "outputId": "23948446-282c-419b-fd72-c0a8d5739062"
      },
      "source": [
        "adf_acc = sm.tsa.stattools.adfuller(sensor['userAcceleration.x'])\n",
        "adf_rot = sm.tsa.stattools.adfuller(sensor['rotationRate.x'])\n",
        "print('p-valor adf_acceleration: {}'.format(adf_acc[1]))\n",
        "print('p-valor adf_rotation: {}'.format(adf_rot[1]))"
      ],
      "execution_count": 22,
      "outputs": [
        {
          "output_type": "stream",
          "name": "stdout",
          "text": [
            "p-valor adf_acceleration: 2.823439483037483e-30\n",
            "p-valor adf_rotation: 6.320230335912189e-06\n"
          ]
        }
      ]
    },
    {
      "cell_type": "code",
      "metadata": {
        "colab": {
          "base_uri": "https://localhost:8080/"
        },
        "id": "rsALEf29ceqs",
        "outputId": "6b4af25a-a5f2-43aa-d85a-83e95114110e"
      },
      "source": [
        "# Para comprobar los valores de adf_acc y adf_rot\n",
        "adf_acc"
      ],
      "execution_count": 23,
      "outputs": [
        {
          "output_type": "execute_result",
          "data": {
            "text/plain": [
              "(-17.95799408616976,\n",
              " 2.823439483037483e-30,\n",
              " 4,\n",
              " 1746,\n",
              " {'1%': -3.434100824760071,\n",
              "  '10%': -2.5676520210882936,\n",
              "  '5%': -2.863196780129223},\n",
              " -727.6140124402791)"
            ]
          },
          "metadata": {},
          "execution_count": 23
        }
      ]
    },
    {
      "cell_type": "code",
      "metadata": {
        "colab": {
          "base_uri": "https://localhost:8080/"
        },
        "id": "Iny9hyUYci8G",
        "outputId": "205f8934-f664-499a-9f17-61541484a61d"
      },
      "source": [
        "adf_rot"
      ],
      "execution_count": 24,
      "outputs": [
        {
          "output_type": "execute_result",
          "data": {
            "text/plain": [
              "(-5.269860625086421,\n",
              " 6.320230335912189e-06,\n",
              " 25,\n",
              " 1725,\n",
              " {'1%': -3.4341465551936534,\n",
              "  '10%': -2.567662770090317,\n",
              "  '5%': -2.863216966926812},\n",
              " 2619.6049719981947)"
            ]
          },
          "metadata": {},
          "execution_count": 24
        }
      ]
    },
    {
      "cell_type": "markdown",
      "metadata": {
        "id": "05LPQMNIcwY6"
      },
      "source": [
        "La conclusión es que podemos rechazar la hipótesis nula y concluir que ambas\n",
        "variables son estacionarias.\n",
        "\n",
        "Finalmente creamos un modelo ARMA utilizando la variable acceleration.x, ya que rechazando la hipótesis nula no debemos calcular el diferencial."
      ]
    },
    {
      "cell_type": "code",
      "metadata": {
        "colab": {
          "base_uri": "https://localhost:8080/"
        },
        "id": "JirSxDJRc82W",
        "outputId": "12f99a72-c53b-4dc1-ddaa-8763c9f95df4"
      },
      "source": [
        "train, test = sensor['userAcceleration.x'][:-10], sensor['userAcceleration.x'][-10:]\n",
        "arma = smt.arima_model.ARMA(train, order=(2,1)).fit()\n",
        "prediccion = arma.predict(start=test.index[0], end=test.index[-1])"
      ],
      "execution_count": 25,
      "outputs": [
        {
          "output_type": "stream",
          "name": "stderr",
          "text": [
            "/usr/local/lib/python3.7/dist-packages/statsmodels/tsa/base/tsa_model.py:165: ValueWarning: No frequency information was provided, so inferred frequency S will be used.\n",
            "  % freq, ValueWarning)\n"
          ]
        }
      ]
    },
    {
      "cell_type": "code",
      "metadata": {
        "colab": {
          "base_uri": "https://localhost:8080/",
          "height": 363
        },
        "id": "tAsDhH7qclFb",
        "outputId": "7e1196a9-e204-4815-a7f5-776d93cf621a"
      },
      "source": [
        "# Aplicamos la comparativa del valor predicho y su error\n",
        "comparacion = pd.DataFrame(test)\n",
        "comparacion.columns = ['Real']\n",
        "comparacion['Predicho'] = prediccion\n",
        "error_mtr = (comparacion.Real-comparacion.Predicho)*(comparacion.Real-comparacion.Predicho)\n",
        "comparacion['Metrica error'] = error_mtr\n",
        "display(comparacion)"
      ],
      "execution_count": 26,
      "outputs": [
        {
          "output_type": "display_data",
          "data": {
            "text/html": [
              "<div>\n",
              "<style scoped>\n",
              "    .dataframe tbody tr th:only-of-type {\n",
              "        vertical-align: middle;\n",
              "    }\n",
              "\n",
              "    .dataframe tbody tr th {\n",
              "        vertical-align: top;\n",
              "    }\n",
              "\n",
              "    .dataframe thead th {\n",
              "        text-align: right;\n",
              "    }\n",
              "</style>\n",
              "<table border=\"1\" class=\"dataframe\">\n",
              "  <thead>\n",
              "    <tr style=\"text-align: right;\">\n",
              "      <th></th>\n",
              "      <th>Real</th>\n",
              "      <th>Predicho</th>\n",
              "      <th>Metrica error</th>\n",
              "    </tr>\n",
              "  </thead>\n",
              "  <tbody>\n",
              "    <tr>\n",
              "      <th>2021-11-20 00:29:01</th>\n",
              "      <td>0.149749</td>\n",
              "      <td>0.173149</td>\n",
              "      <td>0.000548</td>\n",
              "    </tr>\n",
              "    <tr>\n",
              "      <th>2021-11-20 00:29:02</th>\n",
              "      <td>0.038461</td>\n",
              "      <td>0.142896</td>\n",
              "      <td>0.010907</td>\n",
              "    </tr>\n",
              "    <tr>\n",
              "      <th>2021-11-20 00:29:03</th>\n",
              "      <td>-0.169175</td>\n",
              "      <td>0.100522</td>\n",
              "      <td>0.072736</td>\n",
              "    </tr>\n",
              "    <tr>\n",
              "      <th>2021-11-20 00:29:04</th>\n",
              "      <td>-0.300361</td>\n",
              "      <td>0.070106</td>\n",
              "      <td>0.137246</td>\n",
              "    </tr>\n",
              "    <tr>\n",
              "      <th>2021-11-20 00:29:05</th>\n",
              "      <td>-0.270174</td>\n",
              "      <td>0.056099</td>\n",
              "      <td>0.106454</td>\n",
              "    </tr>\n",
              "    <tr>\n",
              "      <th>2021-11-20 00:29:06</th>\n",
              "      <td>-0.268367</td>\n",
              "      <td>0.053778</td>\n",
              "      <td>0.103777</td>\n",
              "    </tr>\n",
              "    <tr>\n",
              "      <th>2021-11-20 00:29:07</th>\n",
              "      <td>-0.102444</td>\n",
              "      <td>0.056790</td>\n",
              "      <td>0.025356</td>\n",
              "    </tr>\n",
              "    <tr>\n",
              "      <th>2021-11-20 00:29:08</th>\n",
              "      <td>-0.085590</td>\n",
              "      <td>0.060646</td>\n",
              "      <td>0.021385</td>\n",
              "    </tr>\n",
              "    <tr>\n",
              "      <th>2021-11-20 00:29:09</th>\n",
              "      <td>-0.048105</td>\n",
              "      <td>0.063316</td>\n",
              "      <td>0.012415</td>\n",
              "    </tr>\n",
              "    <tr>\n",
              "      <th>2021-11-20 00:29:10</th>\n",
              "      <td>-0.065011</td>\n",
              "      <td>0.064493</td>\n",
              "      <td>0.016771</td>\n",
              "    </tr>\n",
              "  </tbody>\n",
              "</table>\n",
              "</div>"
            ],
            "text/plain": [
              "                         Real  Predicho  Metrica error\n",
              "2021-11-20 00:29:01  0.149749  0.173149       0.000548\n",
              "2021-11-20 00:29:02  0.038461  0.142896       0.010907\n",
              "2021-11-20 00:29:03 -0.169175  0.100522       0.072736\n",
              "2021-11-20 00:29:04 -0.300361  0.070106       0.137246\n",
              "2021-11-20 00:29:05 -0.270174  0.056099       0.106454\n",
              "2021-11-20 00:29:06 -0.268367  0.053778       0.103777\n",
              "2021-11-20 00:29:07 -0.102444  0.056790       0.025356\n",
              "2021-11-20 00:29:08 -0.085590  0.060646       0.021385\n",
              "2021-11-20 00:29:09 -0.048105  0.063316       0.012415\n",
              "2021-11-20 00:29:10 -0.065011  0.064493       0.016771"
            ]
          },
          "metadata": {}
        }
      ]
    },
    {
      "cell_type": "code",
      "metadata": {
        "colab": {
          "base_uri": "https://localhost:8080/"
        },
        "id": "2vks7jyNb3Qy",
        "outputId": "b4926365-d3d9-4419-a172-02a917db5d83"
      },
      "source": [
        "# Calculamos el RMSE\n",
        "rmse = sm.tools.eval_measures.rmse(comparacion.Real, comparacion.Predicho, axis=0)\n",
        "print('RMSE: {}'.format(rmse))"
      ],
      "execution_count": 27,
      "outputs": [
        {
          "output_type": "stream",
          "name": "stdout",
          "text": [
            "RMSE: 0.22529863971115618\n"
          ]
        }
      ]
    }
  ]
}