{
 "cells": [
  {
   "cell_type": "markdown",
   "metadata": {
    "id": "dhN2myCLZSKY"
   },
   "source": [
    "# Instalación e Importación librerías Spark y PySpark"
   ]
  },
  {
   "cell_type": "code",
   "execution_count": null,
   "metadata": {
    "colab": {
     "base_uri": "https://localhost:8080/"
    },
    "id": "Zi6DL5-XYGVX",
    "outputId": "6fbeb984-891d-4da1-86a9-3aee820183c8"
   },
   "outputs": [
    {
     "name": "stdout",
     "output_type": "stream",
     "text": [
      "Collecting pyspark\n",
      "\u001b[?25l  Downloading https://files.pythonhosted.org/packages/27/67/5158f846202d7f012d1c9ca21c3549a58fd3c6707ae8ee823adcaca6473c/pyspark-3.0.2.tar.gz (204.8MB)\n",
      "\u001b[K     |████████████████████████████████| 204.8MB 67kB/s \n",
      "\u001b[?25hCollecting py4j==0.10.9\n",
      "\u001b[?25l  Downloading https://files.pythonhosted.org/packages/9e/b6/6a4fb90cd235dc8e265a6a2067f2a2c99f0d91787f06aca4bcf7c23f3f80/py4j-0.10.9-py2.py3-none-any.whl (198kB)\n",
      "\u001b[K     |████████████████████████████████| 204kB 50.3MB/s \n",
      "\u001b[?25hBuilding wheels for collected packages: pyspark\n",
      "  Building wheel for pyspark (setup.py) ... \u001b[?25l\u001b[?25hdone\n",
      "  Created wheel for pyspark: filename=pyspark-3.0.2-py2.py3-none-any.whl size=205186687 sha256=54394651bff7677e29faf5492927e2e7dc58f2d582180f10ce244203de2e263a\n",
      "  Stored in directory: /root/.cache/pip/wheels/8b/09/da/c1f2859bcc86375dc972c5b6af4881b3603269bcc4c9be5d16\n",
      "Successfully built pyspark\n",
      "Installing collected packages: py4j, pyspark\n",
      "Successfully installed py4j-0.10.9 pyspark-3.0.2\n",
      "The following additional packages will be installed:\n",
      "  openjdk-8-jre-headless\n",
      "Suggested packages:\n",
      "  openjdk-8-demo openjdk-8-source libnss-mdns fonts-dejavu-extra\n",
      "  fonts-ipafont-gothic fonts-ipafont-mincho fonts-wqy-microhei\n",
      "  fonts-wqy-zenhei fonts-indic\n",
      "The following NEW packages will be installed:\n",
      "  openjdk-8-jdk-headless openjdk-8-jre-headless\n",
      "0 upgraded, 2 newly installed, 0 to remove and 10 not upgraded.\n",
      "Need to get 36.5 MB of archives.\n",
      "After this operation, 143 MB of additional disk space will be used.\n",
      "Selecting previously unselected package openjdk-8-jre-headless:amd64.\n",
      "(Reading database ... 146442 files and directories currently installed.)\n",
      "Preparing to unpack .../openjdk-8-jre-headless_8u282-b08-0ubuntu1~18.04_amd64.deb ...\n",
      "Unpacking openjdk-8-jre-headless:amd64 (8u282-b08-0ubuntu1~18.04) ...\n",
      "Selecting previously unselected package openjdk-8-jdk-headless:amd64.\n",
      "Preparing to unpack .../openjdk-8-jdk-headless_8u282-b08-0ubuntu1~18.04_amd64.deb ...\n",
      "Unpacking openjdk-8-jdk-headless:amd64 (8u282-b08-0ubuntu1~18.04) ...\n",
      "Setting up openjdk-8-jre-headless:amd64 (8u282-b08-0ubuntu1~18.04) ...\n",
      "update-alternatives: using /usr/lib/jvm/java-8-openjdk-amd64/jre/bin/orbd to provide /usr/bin/orbd (orbd) in auto mode\n",
      "update-alternatives: using /usr/lib/jvm/java-8-openjdk-amd64/jre/bin/servertool to provide /usr/bin/servertool (servertool) in auto mode\n",
      "update-alternatives: using /usr/lib/jvm/java-8-openjdk-amd64/jre/bin/tnameserv to provide /usr/bin/tnameserv (tnameserv) in auto mode\n",
      "Setting up openjdk-8-jdk-headless:amd64 (8u282-b08-0ubuntu1~18.04) ...\n",
      "update-alternatives: using /usr/lib/jvm/java-8-openjdk-amd64/bin/idlj to provide /usr/bin/idlj (idlj) in auto mode\n",
      "update-alternatives: using /usr/lib/jvm/java-8-openjdk-amd64/bin/wsimport to provide /usr/bin/wsimport (wsimport) in auto mode\n",
      "update-alternatives: using /usr/lib/jvm/java-8-openjdk-amd64/bin/jsadebugd to provide /usr/bin/jsadebugd (jsadebugd) in auto mode\n",
      "update-alternatives: using /usr/lib/jvm/java-8-openjdk-amd64/bin/native2ascii to provide /usr/bin/native2ascii (native2ascii) in auto mode\n",
      "update-alternatives: using /usr/lib/jvm/java-8-openjdk-amd64/bin/javah to provide /usr/bin/javah (javah) in auto mode\n",
      "update-alternatives: using /usr/lib/jvm/java-8-openjdk-amd64/bin/hsdb to provide /usr/bin/hsdb (hsdb) in auto mode\n",
      "update-alternatives: using /usr/lib/jvm/java-8-openjdk-amd64/bin/clhsdb to provide /usr/bin/clhsdb (clhsdb) in auto mode\n",
      "update-alternatives: using /usr/lib/jvm/java-8-openjdk-amd64/bin/xjc to provide /usr/bin/xjc (xjc) in auto mode\n",
      "update-alternatives: using /usr/lib/jvm/java-8-openjdk-amd64/bin/schemagen to provide /usr/bin/schemagen (schemagen) in auto mode\n",
      "update-alternatives: using /usr/lib/jvm/java-8-openjdk-amd64/bin/extcheck to provide /usr/bin/extcheck (extcheck) in auto mode\n",
      "update-alternatives: using /usr/lib/jvm/java-8-openjdk-amd64/bin/jhat to provide /usr/bin/jhat (jhat) in auto mode\n",
      "update-alternatives: using /usr/lib/jvm/java-8-openjdk-amd64/bin/wsgen to provide /usr/bin/wsgen (wsgen) in auto mode\n"
     ]
    }
   ],
   "source": [
    "!pip install pyspark\r\n",
    "!pip install -U -q PyDrive\r\n",
    "!apt install openjdk-8-jdk-headless -qq\r\n",
    "import os\r\n",
    "os.environ[\"JAVA_HOME\"] = \"/usr/lib/jvm/java-8-openjdk-amd64\""
   ]
  },
  {
   "cell_type": "code",
   "execution_count": null,
   "metadata": {},
   "outputs": [],
   "source": [
    "!pip install pyspark\n",
    "!pip install -U -q PyDrive\n",
    "!apt install openjdk-8-jdk-headless -qq\n",
    "import os\n",
    "os.environ[\"JAVA_HOME\"] = \"/usr/lib/jvm/java-8-openjdk-amd64\""
   ]
  },
  {
   "cell_type": "code",
   "execution_count": null,
   "metadata": {},
   "outputs": [],
   "source": []
  },
  {
   "cell_type": "markdown",
   "metadata": {
    "id": "wVkZCBk3Zvlc"
   },
   "source": [
    "# Importamos los paquetes necesarios"
   ]
  },
  {
   "cell_type": "code",
   "execution_count": null,
   "metadata": {
    "id": "Gy7uIqJ0ZyQd"
   },
   "outputs": [],
   "source": [
    "import pandas as pd\n",
    "import numpy as np\n",
    "import matplotlib.pyplot as plt\n",
    "%matplotlib inline\n",
    "\n",
    "import pyspark\n",
    "from pyspark.sql import *\n",
    "from pyspark.sql.types import *\n",
    "from pyspark.sql.functions import *\n",
    "from pyspark import SparkContext, SparkConf"
   ]
  },
  {
   "cell_type": "code",
   "execution_count": null,
   "metadata": {
    "id": "P3iVvi4oZ8R0"
   },
   "outputs": [],
   "source": [
    "# Creamos la configuración de sesión\n",
    "conf = SparkConf().set(\"spark.ui.port\", \"4050\")\n",
    "\n",
    "# creación del SparkContext\n",
    "sc = pyspark.SparkContext(conf=conf)\n",
    "spark = SparkSession.builder \\\n",
    "        .master(\"local\") \\\n",
    "        .appName(\"Google colab - The Bridge\") \\\n",
    "        .config(\"spark.ui.port\", \"4050\") \\\n",
    "        .getOrCreate()"
   ]
  },
  {
   "cell_type": "code",
   "execution_count": null,
   "metadata": {},
   "outputs": [],
   "source": [
    "# Para monitorizar al puerto 4050 de spark\n",
    "#!wget https://bin.equinox.io/c/4VmDzA7iaHb/ngrok-stable-linux-amd64.zip\n",
    "!unzip ngrok-stable-linux-amd64.zip\n",
    "get_ipython().system_raw('./ngrok http 4050 &')\n",
    "!curl -s http://localhost:4040/api/tunnels"
   ]
  },
  {
   "cell_type": "code",
   "execution_count": null,
   "metadata": {
    "colab": {
     "base_uri": "https://localhost:8080/",
     "height": 223
    },
    "id": "xFi19SZ3abVi",
    "outputId": "a212e767-3080-4cfc-db22-60c6a655cf8a"
   },
   "outputs": [
    {
     "data": {
      "text/html": [
       "\n",
       "            <div>\n",
       "                <p><b>SparkSession - in-memory</b></p>\n",
       "                \n",
       "        <div>\n",
       "            <p><b>SparkContext</b></p>\n",
       "\n",
       "            <p><a href=\"http://f43e5af0c261:4050\">Spark UI</a></p>\n",
       "\n",
       "            <dl>\n",
       "              <dt>Version</dt>\n",
       "                <dd><code>v3.0.1</code></dd>\n",
       "              <dt>Master</dt>\n",
       "                <dd><code>local[*]</code></dd>\n",
       "              <dt>AppName</dt>\n",
       "                <dd><code>pyspark-shell</code></dd>\n",
       "            </dl>\n",
       "        </div>\n",
       "        \n",
       "            </div>\n",
       "        "
      ],
      "text/plain": [
       "<pyspark.sql.session.SparkSession at 0x7f7448a06cf8>"
      ]
     },
     "execution_count": 4,
     "metadata": {
      "tags": []
     },
     "output_type": "execute_result"
    }
   ],
   "source": [
    "# ejecutamos spark\r\n",
    "spark"
   ]
  },
  {
   "cell_type": "markdown",
   "metadata": {
    "id": "cZOu_TG4bzil"
   },
   "source": [
    "## Spark ML\r\n",
    "\r\n",
    "![Spark Logo](http://spark-mooc.github.io/web-assets/images/ta_Spark-logo-small.png) + ![Python Logo](http://spark-mooc.github.io/web-assets/images/python-logo-master-v3-TM-flattened_small.png020\r\n",
    "### Practica sobre cómo generar un flujo de ejecución en un problema de Machine Learning\r\n",
    "\r\n",
    "Esta práctica simula un ejercicio completo de ETL (Extract-Transform-Load) junto a un análisis exploratorio de un dataset real, para posteriormente aplicar differentes algoritmos de aprendizaje automático que resuelvan un problema de regresión.\r\n",
    "\r\n",
    "#### Contenido del ejercicio\r\n",
    "\r\n",
    "* *Conocimiento del dominio*\r\n",
    "* *Parte 1: Extracción, transformación y carga [ETL] del dataset* (2 punto sobre 10)\r\n",
    "* *Parte 2: Explorar los datos* (2 puntos sobre 10)\r\n",
    "* *Parte 3: Visualizar los datos* (2 puntos sobre 10)\r\n",
    "* *Parte 4: Preparar los datos* (1 puntos sobre 10)\r\n",
    "* *Parte 5: Modelar los datos* (3 puntos sobre 10)\r\n",
    "\r\n",
    "*Nuestro objetivo será predecir de la forma más exacta posible la energía generada por un conjunto de plantas eléctricas usando los datos generados por un conjunto de sensores.*\r\n",
    "\r\n",
    "\r\n",
    "## Conocimiento del dominio\r\n",
    "\r\n",
    "### Background \r\n",
    "\r\n",
    "La generación de energía es un proceso complejo, comprenderlo para poder predecir la potencia de salida es un elemento vital en la gestión de una planta energética y su conexión a la red. Los operadores de una red eléctrica regional crean predicciones de la demanda de energía en base a la información histórica y los factores ambientales (por ejemplo, la temperatura). Luego comparan las predicciones con los recursos disponibles (por ejemplo, plantas, carbón, gas natural, nuclear, solar, eólica, hidráulica, etc). Las tecnologías de generación de energía, como la solar o la eólica, dependen en gran medida de las condiciones ambientales, pero todas las centrales eléctricas son objeto de mantenimientos tanto planificados y como puntuales debidos a un problema.\r\n",
    "\r\n",
    "En esta practica usaremos un ejemplo del mundo real sobre la demanda prevista (en dos escalas de tiempo), la demanda real, y los recursos disponibles de la red electrica de California: http://www.caiso.com/Pages/TodaysOutlook.aspx\r\n",
    "\r\n",
    "![](http://content.caiso.com/outlook/SP/ems_small.gif)\r\n",
    "\r\n",
    "El reto para un operador de red de energía es cómo manejar un déficit de recursos disponibles frente a la demanda real. Hay tres posibles soluciones a un déficit de energía: construir más plantas de energía base (este proceso puede costar muchos anos de planificación y construcción), comprar e importar de otras redes eléctricas regionales energía sobrante (esta opción puede ser muy cara y está limitado por las interconexiones entre las redes de transmisión de energía y el exceso de potencia disponible de otras redes), o activar pequeñas [plantas de pico](https://en.wikipedia.org/wiki/Peaking_power_plant). Debido a que los operadores de red necesitan responder con rapidez a un déficit de energía para evitar un corte del suministro, estos basan sus decisiones en una combinación de las dos últimas opciones. En esta práctica, nos centraremos en la última elección.\r\n",
    "\r\n",
    "### La lógica de negocio\r\n",
    "\r\n",
    "Debido a que la demanda de energía solo supera a la oferta ocasionalmente, la potencia suministrada por una planta de energía pico tiene un precio mucho más alto por kilovatio hora que la energía generada por las centrales eléctricas base de una red eléctrica. Una planta pico puede operar muchas horas al día, o solo unas pocas horas al año, dependiendo de la condición de la red eléctrica de la región. Debido al alto coste de la construcción de una planta de energía eficiente, si una planta pico solo va a funcionar por un tiempo corto o muy variable, no tiene sentido económico para que sea tan eficiente como una planta de energía base. Además, el equipo y los combustibles utilizados en las plantas base a menudo no son adecuados para uso en plantas de pico.\r\n",
    "\r\n",
    "La salida de potencia de una central eléctrica pico varía dependiendo de las condiciones ambientales, por lo que el problema de negocio a resolver se podría describir como _predecir la salida de potencia de una central eléctrica pico en función de la condiciones ambientales_  - ya que esto permitiría al operador de la red hacer compensaciones económicas sobre el número de plantas pico que ha de conectar en cada momento (o si por el contrario le interesa comprar energía más cara de otra red).\r\n",
    "\r\n",
    "Una vez descrita esta lógica de negocio, primero debemos proceder a realizar un análisis exploratorio previo y trasladar el problema de negocio (predecir la potencia de salida en función de las condiciones medio ambientales) en un tarea de aprendizaje automático (ML). Por ejemplo, una tarea de ML que podríamos aplicar a este problema es la regresión, ya que tenemos un variable objetivo (dependiente) que es numérica. Para esto usaremos [Apache Spark ML Pipeline](https://spark.apache.org/docs/latest/api/python/pyspark.ml.html#pyspark-ml-package) para calcular dicha regresión.\r\n",
    "\r\n",
    "Los datos del mundo real que usaremos en esta práctica se componen de 9.568 puntos de datos, cada uno con 4 atributos ambientales recogidos en una Central de Ciclo Combinado de más de 6 años (2006-2011), proporcionado por la Universidad de California, Irvine en [UCI Machine Learning Repository Combined Cycle Power Plant Data Set](https://archive.ics.uci.edu/ml/datasets/Combined+Cycle+Power+Plant)). Para más detalles sobre el conjunto de datos visitar la página de la UCI, o las siguientes referencias:\r\n",
    "\r\n",
    "* Pinar Tufekci, [Prediction of full load electrical power output of a base load operated combined cycle power plant using machine learning methods](http://www.journals.elsevier.com/international-journal-of-electrical-power-and-energy-systems/), International Journal of Electrical Power & Energy Systems, Volume 60, September 2014, Pages 126-140, ISSN 0142-0615.\r\n",
    "* Heysem Kaya, Pinar Tufekci and Fikret S. Gurgen: [Local and Global Learning Methods for Predicting Power of a Combined Gas & Steam Turbine](http://www.cmpe.boun.edu.tr/~kaya/kaya2012gasturbine.pdf), Proceedings of the International Conference on Emerging Trends in Computer and Electronics Engineering ICETCEE 2012, pp. 13-18 (Mar. 2012, Dubai)."
   ]
  },
  {
   "cell_type": "code",
   "execution_count": null,
   "metadata": {},
   "outputs": [],
   "source": []
  },
  {
   "cell_type": "code",
   "execution_count": null,
   "metadata": {},
   "outputs": [],
   "source": [
    "!wget https://github.com/marcusRB/The_Bridge_School_DataScience_PT/raw/main/99_Challenges/04_Challenge_Spark/data/challenge04.zip"
   ]
  },
  {
   "cell_type": "code",
   "execution_count": null,
   "metadata": {},
   "outputs": [],
   "source": [
    "!unzip /content/challenge04.zip"
   ]
  },
  {
   "cell_type": "code",
   "execution_count": null,
   "metadata": {
    "colab": {
     "base_uri": "https://localhost:8080/"
    },
    "id": "1N2vCfPrb1n_",
    "outputId": "3391ab8b-e026-4550-9262-5ac5114da30b"
   },
   "outputs": [
    {
     "name": "stdout",
     "output_type": "stream",
     "text": [
      "Archive:  /content/pra2.zip\n",
      "   creating: pra2/\n",
      "  inflating: pra2/sheet1.csv         \n",
      "  inflating: pra2/sheet2.csv         \n",
      "  inflating: pra2/sheet3.csv         \n",
      "  inflating: pra2/sheet4.csv         \n",
      "  inflating: pra2/sheet5.csv         \n"
     ]
    }
   ],
   "source": [
    "# Descomprimimos la carpeta pra2.zip\r\n",
    "!unzip /content/pra2.zip"
   ]
  },
  {
   "cell_type": "markdown",
   "metadata": {
    "id": "Ir6LowQodgDU"
   },
   "source": [
    "**Tarea a realizar durante la primera parte:**\r\n",
    "\r\n",
    "Revisar la documentacion y referencias de:\r\n",
    "* [Spark Machine Learning Pipeline](https://spark.apache.org/docs/latest/ml-guide.html#main-concepts-in-pipelines)."
   ]
  },
  {
   "cell_type": "markdown",
   "metadata": {
    "id": "GIQ1rzbQeKll"
   },
   "source": [
    "**Tarea a realizar durante la primera parte:**Revisar la documentacion y referencias de:\r\n",
    "* [Spark Machine Learning Pipeline](https://spark.apache.org/docs/latest/ml-guide.html#main-concepts-in-pipelines).\r\n",
    "19:06\r\n",
    "\r\n",
    "## Parte 1: Extracción, transformación y carga [ETL] del dataset\r\n",
    "\r\n",
    "Ahora que entendemos lo que estamos tratando de hacer, el primer paso consiste en cargar los datos en un formato que podemos consultar y utilizar fácilmente. Esto se conoce como ETL o \"extracción, transformación y carga\". Primero, vamos a cargar nuestro archivo de HDFS.Nuestros datos están disponibles en la siguiente ruta:\r\n",
    "\r\n",
    "```\r\n",
    "/carpeta-datos/pra2\r\n",
    "```"
   ]
  },
  {
   "cell_type": "markdown",
   "metadata": {
    "id": "Z4S0KC8bekNS"
   },
   "source": [
    "### Ejercicio 1(a)\r\n",
    "\r\n",
    "Empezaremos por visualizar una muestra de los datos. Para esto usaremos las funciones de hdfs para explorar el contenido del directorio de trabajo:/carpeta/datos/pra2"
   ]
  },
  {
   "cell_type": "code",
   "execution_count": null,
   "metadata": {
    "colab": {
     "base_uri": "https://localhost:8080/"
    },
    "id": "R4PSHpQJepVG",
    "outputId": "214a6d54-f8bf-4feb-dbca-26178178cf94"
   },
   "outputs": [
    {
     "name": "stdout",
     "output_type": "stream",
     "text": [
      "/bin/bash: hdfs: command not found\n"
     ]
    }
   ],
   "source": [
    "# !hdfs dfs -ls /nombre-carpeta/data/pra2"
   ]
  },
  {
   "cell_type": "markdown",
   "metadata": {
    "id": "Y-rgbydFe5r6"
   },
   "source": [
    "Usar la función `cat` y `| head -10` para visualizar el contenido de las primeras 10 filas del primer fichero de la lista"
   ]
  },
  {
   "cell_type": "code",
   "execution_count": null,
   "metadata": {
    "colab": {
     "base_uri": "https://localhost:8080/"
    },
    "id": "_DBXI9YTe6WU",
    "outputId": "6f7bface-18f5-48c7-c430-d5055e6dce71"
   },
   "outputs": [
    {
     "name": "stdout",
     "output_type": "stream",
     "text": [
      "/bin/bash: hdfs: command not found\n"
     ]
    }
   ],
   "source": [
    "# !hdfs dfs -cat /content/pra2/sheet1.csv | head -10"
   ]
  },
  {
   "cell_type": "markdown",
   "metadata": {
    "id": "obGoTIeyfNCT"
   },
   "source": [
    "==========================================================================================================================================================================================================\r\n",
    "### Ejercicio 1(b)\r\n",
    "\r\n",
    "Ahora usaremos PySpark para visualizar las 5 primeras líneas de los datos\r\n",
    "\r\n",
    "*Hint*: Primero crea un RDD a partir de los datos usando [`sc.textFile()`](https://spark.apache.org/docs/latest/api/python/pyspark.html#pyspark.SparkContext.textFile).\r\n",
    "\r\n",
    "*Hint*: Luego piensa como usar el RDD creado para mostrar datos, el método [`take()`](https://spark.apache.org/docs/latest/api/python/pyspark.html#pyspark.RDD.take) puede ser una buena opción a considerar."
   ]
  },
  {
   "cell_type": "code",
   "execution_count": null,
   "metadata": {
    "id": "Aw7VUWnafVIN"
   },
   "outputs": [],
   "source": [
    "# # En modo cluster\r",
    "# \n",
    "sc = pyspark.SparkContext(master=\"local[1]\", appName=\"pra2_mrusso\")"
   ]
  },
  {
   "cell_type": "code",
   "execution_count": null,
   "metadata": {
    "colab": {
     "base_uri": "https://localhost:8080/",
     "height": 200
    },
    "id": "w7qo0cmLfPnO",
    "outputId": "0aadb5d3-f675-4a55-f6c0-410261b5e9bd"
   },
   "outputs": [
    {
     "data": {
      "text/html": [
       "\n",
       "        <div>\n",
       "            <p><b>SparkContext</b></p>\n",
       "\n",
       "            <p><a href=\"http://f43e5af0c261:4050\">Spark UI</a></p>\n",
       "\n",
       "            <dl>\n",
       "              <dt>Version</dt>\n",
       "                <dd><code>v3.0.1</code></dd>\n",
       "              <dt>Master</dt>\n",
       "                <dd><code>local[*]</code></dd>\n",
       "              <dt>AppName</dt>\n",
       "                <dd><code>pyspark-shell</code></dd>\n",
       "            </dl>\n",
       "        </div>\n",
       "        "
      ],
      "text/plain": [
       "<SparkContext master=local[*] appName=pyspark-shell>"
      ]
     },
     "execution_count": 9,
     "metadata": {
      "tags": []
     },
     "output_type": "execute_result"
    }
   ],
   "source": [
    "# sc"
   ]
  },
  {
   "cell_type": "code",
   "execution_count": null,
   "metadata": {
    "colab": {
     "base_uri": "https://localhost:8080/"
    },
    "id": "99bDU9POfuCR",
    "outputId": "c7c09672-19f2-4a93-b401-716f7e4f6e39"
   },
   "outputs": [
    {
     "name": "stdout",
     "output_type": "stream",
     "text": [
      "['AT,V,AP,RH,PE', '14.96,41.76,1024.07,73.17,463.26', '25.18,62.96,1020.04,59.08,444.37', '5.11,39.4,1012.16,92.14,488.56', '20.86,57.32,1010.24,76.64,446.48']\n"
     ]
    }
   ],
   "source": [
    "# Cargamos los ficheros y guardamos la variable\r\n",
    "textosRDD = sc.textFile(\"/content/pra2\")\r\n",
    "print(textosRDD.take(5))"
   ]
  },
  {
   "cell_type": "code",
   "execution_count": null,
   "metadata": {
    "colab": {
     "base_uri": "https://localhost:8080/"
    },
    "id": "YfF29tysgaQj",
    "outputId": "b8c7ed28-c090-4da4-cf6b-e78b3922070a"
   },
   "outputs": [
    {
     "data": {
      "text/plain": [
       "pyspark.rdd.RDD"
      ]
     },
     "execution_count": 7,
     "metadata": {
      "tags": []
     },
     "output_type": "execute_result"
    }
   ],
   "source": [
    "# guardarmos el resultado\r\n",
    "data = textosRDD\r\n",
    "type(textosRDD)"
   ]
  },
  {
   "cell_type": "code",
   "execution_count": null,
   "metadata": {
    "colab": {
     "base_uri": "https://localhost:8080/"
    },
    "id": "RmWbcj9_gzO1",
    "outputId": "239ce73b-bd88-469c-ec1f-469d90161b3e"
   },
   "outputs": [
    {
     "data": {
      "text/plain": [
       "['AT,V,AP,RH,PE',\n",
       " '14.96,41.76,1024.07,73.17,463.26',\n",
       " '25.18,62.96,1020.04,59.08,444.37',\n",
       " '5.11,39.4,1012.16,92.14,488.56',\n",
       " '20.86,57.32,1010.24,76.64,446.48',\n",
       " '10.82,37.5,1009.23,96.62,473.9',\n",
       " '26.27,59.44,1012.23,58.77,443.67',\n",
       " '15.89,43.96,1014.02,75.24,467.35',\n",
       " '9.48,44.71,1019.12,66.43,478.42',\n",
       " '14.64,45,1021.78,41.25,475.98',\n",
       " '11.74,43.56,1015.14,70.72,477.5',\n",
       " '17.99,43.72,1008.64,75.04,453.02',\n",
       " '20.14,46.93,1014.66,64.22,453.99',\n",
       " '24.34,73.5,1011.31,84.15,440.29',\n",
       " '25.71,58.59,1012.77,61.83,451.28',\n",
       " '26.19,69.34,1009.48,87.59,433.99',\n",
       " '21.42,43.79,1015.76,43.08,462.19',\n",
       " '18.21,45,1022.86,48.84,467.54',\n",
       " '11.04,41.74,1022.6,77.51,477.2',\n",
       " '14.45,52.75,1023.97,63.59,459.85']"
      ]
     },
     "execution_count": 8,
     "metadata": {
      "tags": []
     },
     "output_type": "execute_result"
    }
   ],
   "source": [
    "data.take(20)"
   ]
  },
  {
   "cell_type": "markdown",
   "metadata": {
    "id": "epTOxfV6hmyH"
   },
   "source": [
    "A partir nuestra exploración inicial de una muestra de los datos, podemos hacer varias observaciones sobre el proceso de ETL:\r\n",
    "- Los datos son un conjunto de .csv (archivos con valores separados por coma) \r\n",
    "- Hay una fila de cabecera, que es el nombre de las columnas\r\n",
    "- Parece que el tipo de los datos en cada columna es constante (es decir, cada columna es de tipo double)\r\n",
    "\r\n",
    "El esquema de datos que hemos obtenido de UCI es:\r\n",
    "- AT = Atmospheric Temperature in C\r\n",
    "- V = Exhaust Vacuum Speed\r\n",
    "- AP = Atmospheric Pressure\r\n",
    "- RH = Relative Humidity\r\n",
    "- PE = Power Output.  Esta es la variable dependiente que queremos predecir usando los otras cuatro\r\n",
    "\r\n",
    "Para usar el paquete Spark CSV, usaremos el método [sqlContext.read.format()](https://spark.apache.org/docs/latest/api/python/pyspark.sql.html#pyspark.sql.DataFrameReader.format) para especificar el formato de la fuente de datos de entrada: `'csv'`\r\n",
    "\r\n",
    "Podemos especificar diferentes opciones de como importar los datos usando el método [options()](https://spark.apache.org/docs/latest/api/python/pyspark.sql.html#pyspark.sql.DataFrameReader.options).\r\n",
    "\r\n",
    "Usaremos las siguientes opciones:\r\n",
    "- `delimiter=','` porque nuestros datos se encuentran delimitados por comas\r\n",
    "- `header='true'` porque nuestro dataset tiene una fila que representa la cabecera de los datos\r\n",
    "- `inferschema='true'` porque creemos que todos los datos son números reales, por lo tanto la librería puede inferir el tipo de cada columna de forma automática.\r\n",
    "\r\n",
    "El ultimo componente necesario para crear un DataFrame es determinar la ubicación de los datos usando el método [load()](https://spark.apache.org/docs/latest/api/python/pyspark.sql.html#pyspark.sql.DataFrameReader.load).\r\n",
    "\r\n",
    "Juntando todo, usaremos la siguiente operación:\r\n",
    "\r\n",
    "`sqlContext.read.format().options().load()`"
   ]
  },
  {
   "cell_type": "markdown",
   "metadata": {
    "id": "1ox4Ckbbh_zo"
   },
   "source": [
    "### Ejercicio 1(c)\r\n",
    "\r\n",
    "Crear un DataFrame a partir de los datos.\r\n",
    "- El formato es csv\r\n",
    "\r\n",
    "En el campo opciones incluiremos 3, formadas por nombre de opción y valor, separadas por coma.\r\n",
    "- El separador es el tabulador\r\n",
    "- El fichero contiene cabecera 'header'\r\n",
    "- Para crear un dataframe necesitamos un esquema (schema). A partir de los datos Spark puede tratar de inferir el esquema, le diremos 'true'.\r\n",
    "\r\n",
    "El directorio a cargar es el especificado anteriormente. Es importante indicarle a Spark que es una ubicación ya montada en el sistema dbfs, como se ha mostrado en el ejercicio 2a."
   ]
  },
  {
   "cell_type": "code",
   "execution_count": null,
   "metadata": {
    "id": "MCwZ-nZAiAre"
   },
   "outputs": [],
   "source": [
    "from pyspark.sql import SQLContext\r\n",
    "sqlContext = SQLContext(sc)"
   ]
  },
  {
   "cell_type": "code",
   "execution_count": null,
   "metadata": {
    "id": "ss6qrDG7iWxa"
   },
   "outputs": [],
   "source": [
    "# Creamos el dataframe\r\n",
    "powerPlantDF = sqlContext.read.format('csv').options(delimiter=',',\r\n",
    "                                                     header='true',\r\n",
    "                                                     inferschema='true').load('/content/pra2/*.csv')"
   ]
  },
  {
   "cell_type": "code",
   "execution_count": null,
   "metadata": {
    "colab": {
     "base_uri": "https://localhost:8080/"
    },
    "id": "h42tIWO1jLy2",
    "outputId": "e9e6be3b-d2de-4ac2-fe5c-1f890210ffa9"
   },
   "outputs": [
    {
     "data": {
      "text/plain": [
       "pyspark.sql.dataframe.DataFrame"
      ]
     },
     "execution_count": 11,
     "metadata": {
      "tags": []
     },
     "output_type": "execute_result"
    }
   ],
   "source": [
    "type(powerPlantDF)"
   ]
  },
  {
   "cell_type": "code",
   "execution_count": null,
   "metadata": {
    "colab": {
     "base_uri": "https://localhost:8080/"
    },
    "id": "5ftVOf5zjTmQ",
    "outputId": "7478ae39-7614-41cc-cd20-515121f18a16"
   },
   "outputs": [
    {
     "data": {
      "text/plain": [
       "47840"
      ]
     },
     "execution_count": 12,
     "metadata": {
      "tags": []
     },
     "output_type": "execute_result"
    }
   ],
   "source": [
    "# Contamos cuantos datos tenemos en nuestro dataframe\r\n",
    "powerPlantDF.count()"
   ]
  },
  {
   "cell_type": "code",
   "execution_count": null,
   "metadata": {
    "id": "xUZ04D2gkH55"
   },
   "outputs": [],
   "source": [
    "# TEST\r\n",
    "expected = set([(s, 'double') for s in ('AP', 'AT', 'PE', 'RH', 'V')])\r\n",
    "assert expected==set(powerPlantDF.dtypes), \"Incorrect schema for powerPlantDF\""
   ]
  },
  {
   "cell_type": "code",
   "execution_count": null,
   "metadata": {
    "colab": {
     "base_uri": "https://localhost:8080/"
    },
    "id": "A4eXelfykPX6",
    "outputId": "f999d9e6-d24e-4528-ad90-a0eba1180d07"
   },
   "outputs": [
    {
     "name": "stdout",
     "output_type": "stream",
     "text": [
      "[('AT', 'double'), ('V', 'double'), ('AP', 'double'), ('RH', 'double'), ('PE', 'double')]\n"
     ]
    }
   ],
   "source": [
    "# Comprobamos los tipos de valores\r\n",
    "print(powerPlantDF.dtypes)"
   ]
  },
  {
   "cell_type": "code",
   "execution_count": null,
   "metadata": {
    "colab": {
     "base_uri": "https://localhost:8080/"
    },
    "id": "NMTtQO49kemW",
    "outputId": "209b3d36-b4a4-4413-f830-595b7c06a0fe"
   },
   "outputs": [
    {
     "data": {
      "text/plain": [
       "[Row(AT=14.96, V=41.76, AP=1024.07, RH=73.17, PE=463.26),\n",
       " Row(AT=25.18, V=62.96, AP=1020.04, RH=59.08, PE=444.37),\n",
       " Row(AT=5.11, V=39.4, AP=1012.16, RH=92.14, PE=488.56),\n",
       " Row(AT=20.86, V=57.32, AP=1010.24, RH=76.64, PE=446.48),\n",
       " Row(AT=10.82, V=37.5, AP=1009.23, RH=96.62, PE=473.9),\n",
       " Row(AT=26.27, V=59.44, AP=1012.23, RH=58.77, PE=443.67),\n",
       " Row(AT=15.89, V=43.96, AP=1014.02, RH=75.24, PE=467.35),\n",
       " Row(AT=9.48, V=44.71, AP=1019.12, RH=66.43, PE=478.42),\n",
       " Row(AT=14.64, V=45.0, AP=1021.78, RH=41.25, PE=475.98),\n",
       " Row(AT=11.74, V=43.56, AP=1015.14, RH=70.72, PE=477.5)]"
      ]
     },
     "execution_count": 15,
     "metadata": {
      "tags": []
     },
     "output_type": "execute_result"
    }
   ],
   "source": [
    "# Para mostrar el dataframe\r\n",
    "powerPlantDF.head(10)"
   ]
  },
  {
   "cell_type": "code",
   "execution_count": null,
   "metadata": {
    "colab": {
     "base_uri": "https://localhost:8080/"
    },
    "id": "yMGTl1_GkpLO",
    "outputId": "89ccdb18-45b8-4209-dbed-fba6c4993a17"
   },
   "outputs": [
    {
     "name": "stdout",
     "output_type": "stream",
     "text": [
      "+-----+-----+-------+-----+------+\n",
      "|   AT|    V|     AP|   RH|    PE|\n",
      "+-----+-----+-------+-----+------+\n",
      "|14.96|41.76|1024.07|73.17|463.26|\n",
      "|25.18|62.96|1020.04|59.08|444.37|\n",
      "| 5.11| 39.4|1012.16|92.14|488.56|\n",
      "|20.86|57.32|1010.24|76.64|446.48|\n",
      "|10.82| 37.5|1009.23|96.62| 473.9|\n",
      "|26.27|59.44|1012.23|58.77|443.67|\n",
      "|15.89|43.96|1014.02|75.24|467.35|\n",
      "| 9.48|44.71|1019.12|66.43|478.42|\n",
      "|14.64| 45.0|1021.78|41.25|475.98|\n",
      "|11.74|43.56|1015.14|70.72| 477.5|\n",
      "+-----+-----+-------+-----+------+\n",
      "only showing top 10 rows\n",
      "\n"
     ]
    }
   ],
   "source": [
    "# mostramos los 10 primeros resultados o show() los primeros 20\r\n",
    "powerPlantDF.show(10)"
   ]
  },
  {
   "cell_type": "markdown",
   "metadata": {
    "id": "WSbfe0xqh_mz"
   },
   "source": [
    "Ahora en lugar de usar [spark csv](https://spark.apache.org/docs/latest/api/python/pyspark.sql.html) para inferir (inferSchema()) los tipos de las columnas, especificaremos el esquema como [DataType](https://spark.apache.org/docs/latest/api/python/pyspark.sql.html#pyspark.sql.types.DataType), el cual es una lista de [StructField](https://spark.apache.org/docs/latest/api/python/pyspark.sql.html#pyspark.sql.types.StructType).\r\n",
    "\r\n",
    "La lista completa de tipos se encuentra en el modulo [pyspark.sql.types](https://spark.apache.org/docs/latest/api/python/pyspark.sql.html#module-pyspark.sql.types). Para nuestros datos, usaremos [DoubleType()](https://spark.apache.org/docs/latest/api/python/pyspark.sql.html#pyspark.sql.types.DoubleType).\r\n",
    "\r\n",
    "Por ejemplo, para especificar cual es el nombre de la columna usaremos: `StructField(`_name_`,` _type_`, True)`. (El tercer parámetro, `True`, significa que permitimos que la columna tenga valores null.)\r\n",
    "\r\n",
    "### Ejercicio 1(d)\r\n",
    "\r\n",
    "Crea un esquema a medida para el dataset."
   ]
  },
  {
   "cell_type": "code",
   "execution_count": null,
   "metadata": {
    "id": "f0J5KMotlK8h"
   },
   "outputs": [],
   "source": [
    "# para crear un nuevo schema importamos los métodos de los tipos\r\n",
    "from pyspark.sql.types import *\r\n",
    "\r\n",
    "# construimos el schema\r\n",
    "customSchema = StructType([ \\\r\n",
    "    StructField('AT', DoubleType(), True), \\\r\n",
    "    StructField('V', DoubleType(), True), \\\r\n",
    "    StructField('AP', DoubleType(), True), \\\r\n",
    "    StructField('RH', DoubleType(), True), \\\r\n",
    "    StructField('PE', DoubleType(), True)])"
   ]
  },
  {
   "cell_type": "code",
   "execution_count": null,
   "metadata": {
    "id": "n8eTWHjamWa4"
   },
   "outputs": [],
   "source": [
    "# TEST\r\n",
    "assert set([f.name for f in customSchema.fields])==set(['AT', 'V', 'AP', 'RH', 'PE']), 'Incorrect column names in schema.'\r\n",
    "assert set([f.dataType for f in customSchema.fields])==set([DoubleType(), DoubleType(), DoubleType(), DoubleType(), DoubleType()]), 'Incorrect column types in schema.'"
   ]
  },
  {
   "cell_type": "markdown",
   "metadata": {
    "id": "t18J4tXXmdzH"
   },
   "source": [
    "### Exercicio 1(e)\r\n",
    "\r\n",
    "Ahora, usaremos el esquema que acabamos de crear para leer los datos. Para realizar esta operación, modificaremos el paso anterior `sqlContext.read.format`. Podemos especificar el esquema haciendo:\r\n",
    "- Anadir `schema = customSchema` al método load (simplemente anadelo usando una coma justo después del nombre del archivo)\r\n",
    "- Eliminado la opción `inferschema='true'` ya que ahora especificamos el esquema que han de seguir los datos"
   ]
  },
  {
   "cell_type": "code",
   "execution_count": null,
   "metadata": {
    "id": "Dz0hokFhmeby"
   },
   "outputs": [],
   "source": [
    "# creamos el dataframe con un customSchema\r\n",
    "alt_powerPlantDF = sqlContext.read.format('csv') \\\r\n",
    "  .options(delimiter=',', header='true') \\\r\n",
    "  .schema(customSchema) \\\r\n",
    "  .load('/content/pra2/*.csv')"
   ]
  },
  {
   "cell_type": "code",
   "execution_count": null,
   "metadata": {
    "colab": {
     "base_uri": "https://localhost:8080/"
    },
    "id": "lKSAYIjlm-VB",
    "outputId": "706e7869-d0d1-4133-e865-397ab7dde259"
   },
   "outputs": [
    {
     "name": "stdout",
     "output_type": "stream",
     "text": [
      "+-----+-----+-------+-----+------+\n",
      "|   AT|    V|     AP|   RH|    PE|\n",
      "+-----+-----+-------+-----+------+\n",
      "|14.96|41.76|1024.07|73.17|463.26|\n",
      "|25.18|62.96|1020.04|59.08|444.37|\n",
      "| 5.11| 39.4|1012.16|92.14|488.56|\n",
      "|20.86|57.32|1010.24|76.64|446.48|\n",
      "|10.82| 37.5|1009.23|96.62| 473.9|\n",
      "|26.27|59.44|1012.23|58.77|443.67|\n",
      "|15.89|43.96|1014.02|75.24|467.35|\n",
      "| 9.48|44.71|1019.12|66.43|478.42|\n",
      "|14.64| 45.0|1021.78|41.25|475.98|\n",
      "|11.74|43.56|1015.14|70.72| 477.5|\n",
      "+-----+-----+-------+-----+------+\n",
      "only showing top 10 rows\n",
      "\n"
     ]
    }
   ],
   "source": [
    "alt_powerPlantDF.show(10)"
   ]
  },
  {
   "cell_type": "code",
   "execution_count": null,
   "metadata": {
    "colab": {
     "base_uri": "https://localhost:8080/"
    },
    "id": "3iwfczTAmXvI",
    "outputId": "97e61dfe-6072-4849-d0b1-4aec315de869"
   },
   "outputs": [
    {
     "name": "stdout",
     "output_type": "stream",
     "text": [
      "[('AT', 'double'), ('V', 'double'), ('AP', 'double'), ('RH', 'double'), ('PE', 'double')]\n"
     ]
    }
   ],
   "source": [
    "print(alt_powerPlantDF.dtypes)"
   ]
  },
  {
   "cell_type": "markdown",
   "metadata": {
    "id": "fm1wWhuNqtoY"
   },
   "source": [
    "## Parte 2: Explorar tus Datos\r\n",
    "\r\n",
    "### Ejercicio 2(a)\r\n",
    "\r\n",
    "​\r\n",
    "\r\n",
    "Ahora que ya hemos cargado los datos, el siguiente paso es explorarlos y realizar algunos análisis y visualizaciones básicas.\r\n",
    "\r\n",
    "​\r\n",
    "\r\n",
    "Este es un paso que siempre se debe realizar **antes de** intentar ajustar un modelo a los datos, ya que este paso muchas veces nos permitirá conocer una gran información sobre los datos.\r\n",
    "\r\n",
    "En primer lugar vamos a registrar nuestro DataFrame como una tabla de SQL llamado power_plant. Debido a que es posible que repitas esta práctica varias veces, vamos a tomar la precaución de eliminar cualquier tabla existente en primer lugar.\r\n",
    "\r\n",
    "Una vez ejecutado el paso anterior, podemos registrar nuestro DataFrame como una tabla de SQL usando sqlContext.registerDataFrameAsTable().\r\n",
    "\r\n",
    "Crea una tabla llamada power_plant con las indicaciones mostradas.\r\n"
   ]
  },
  {
   "cell_type": "code",
   "execution_count": null,
   "metadata": {
    "id": "0R6t02DJqufN"
   },
   "outputs": [],
   "source": [
    "sqlContext.registerDataFrameAsTable(alt_powerPlantDF, \"power_plant\")"
   ]
  },
  {
   "cell_type": "code",
   "execution_count": null,
   "metadata": {
    "colab": {
     "base_uri": "https://localhost:8080/"
    },
    "id": "-JAn1prjrIfM",
    "outputId": "a97e00e6-4baf-4b44-849e-d16a9103f7d5"
   },
   "outputs": [
    {
     "data": {
      "text/plain": [
       "DataFrame[AT: double, V: double, AP: double, RH: double, PE: double]"
      ]
     },
     "execution_count": 23,
     "metadata": {
      "tags": []
     },
     "output_type": "execute_result"
    }
   ],
   "source": [
    "# Para poder realizar consultas utilizamos queries de SQL\r\n",
    "sqlContext.sql(\"SELECT * FROM power_plant\")"
   ]
  },
  {
   "cell_type": "markdown",
   "metadata": {
    "id": "BfFLmhRxrZkK"
   },
   "source": [
    "Ahora que nuestro DataFrame existe como una tabla SQL, podemos explorarlo utilizando comandos SQL y `sqlContext.sql(...)`. Utiliza la función `show()` para visualizar el resultado del dataframe."
   ]
  },
  {
   "cell_type": "code",
   "execution_count": null,
   "metadata": {
    "colab": {
     "base_uri": "https://localhost:8080/"
    },
    "id": "Trj5RdqgraFJ",
    "outputId": "0159e349-423c-4808-8f36-5175ae8880a4"
   },
   "outputs": [
    {
     "name": "stdout",
     "output_type": "stream",
     "text": [
      "+-----+-----+-------+-----+------+\n",
      "|   AT|    V|     AP|   RH|    PE|\n",
      "+-----+-----+-------+-----+------+\n",
      "|14.96|41.76|1024.07|73.17|463.26|\n",
      "|25.18|62.96|1020.04|59.08|444.37|\n",
      "| 5.11| 39.4|1012.16|92.14|488.56|\n",
      "|20.86|57.32|1010.24|76.64|446.48|\n",
      "|10.82| 37.5|1009.23|96.62| 473.9|\n",
      "|26.27|59.44|1012.23|58.77|443.67|\n",
      "|15.89|43.96|1014.02|75.24|467.35|\n",
      "| 9.48|44.71|1019.12|66.43|478.42|\n",
      "|14.64| 45.0|1021.78|41.25|475.98|\n",
      "|11.74|43.56|1015.14|70.72| 477.5|\n",
      "|17.99|43.72|1008.64|75.04|453.02|\n",
      "|20.14|46.93|1014.66|64.22|453.99|\n",
      "|24.34| 73.5|1011.31|84.15|440.29|\n",
      "|25.71|58.59|1012.77|61.83|451.28|\n",
      "|26.19|69.34|1009.48|87.59|433.99|\n",
      "|21.42|43.79|1015.76|43.08|462.19|\n",
      "|18.21| 45.0|1022.86|48.84|467.54|\n",
      "|11.04|41.74| 1022.6|77.51| 477.2|\n",
      "|14.45|52.75|1023.97|63.59|459.85|\n",
      "|13.97|38.47|1015.15|55.28| 464.3|\n",
      "+-----+-----+-------+-----+------+\n",
      "only showing top 20 rows\n",
      "\n"
     ]
    }
   ],
   "source": [
    "dfAll = sqlContext.sql(\"SELECT * FROM power_plant\")\r\n",
    "dfAll.show()"
   ]
  },
  {
   "cell_type": "code",
   "execution_count": null,
   "metadata": {
    "colab": {
     "base_uri": "https://localhost:8080/"
    },
    "id": "LlHnRjnOrSZA",
    "outputId": "1a4226d0-f828-4d4c-f750-02d32f4e6dc5"
   },
   "outputs": [
    {
     "name": "stdout",
     "output_type": "stream",
     "text": [
      "+-----+-----+\n",
      "|   AT|    V|\n",
      "+-----+-----+\n",
      "|14.96|41.76|\n",
      "|25.18|62.96|\n",
      "| 5.11| 39.4|\n",
      "|20.86|57.32|\n",
      "|10.82| 37.5|\n",
      "|26.27|59.44|\n",
      "|15.89|43.96|\n",
      "| 9.48|44.71|\n",
      "|14.64| 45.0|\n",
      "|11.74|43.56|\n",
      "|17.99|43.72|\n",
      "|20.14|46.93|\n",
      "|24.34| 73.5|\n",
      "|25.71|58.59|\n",
      "|26.19|69.34|\n",
      "|21.42|43.79|\n",
      "|18.21| 45.0|\n",
      "|11.04|41.74|\n",
      "|14.45|52.75|\n",
      "|13.97|38.47|\n",
      "+-----+-----+\n",
      "only showing top 20 rows\n",
      "\n"
     ]
    }
   ],
   "source": [
    "# Realizamos una prueba con dos columnas\r\n",
    "sqlContext.sql(\"SELECT AT, V from power_plant\").show()"
   ]
  },
  {
   "cell_type": "code",
   "execution_count": null,
   "metadata": {
    "colab": {
     "base_uri": "https://localhost:8080/"
    },
    "id": "AKsJGO9CsNX4",
    "outputId": "66da812d-1a50-4cb6-c22d-fb22036e9195"
   },
   "outputs": [
    {
     "name": "stdout",
     "output_type": "stream",
     "text": [
      "root\n",
      " |-- AT: double (nullable = true)\n",
      " |-- V: double (nullable = true)\n",
      " |-- AP: double (nullable = true)\n",
      " |-- RH: double (nullable = true)\n",
      " |-- PE: double (nullable = true)\n",
      "\n"
     ]
    }
   ],
   "source": [
    "dfAll.printSchema()"
   ]
  },
  {
   "cell_type": "markdown",
   "metadata": {
    "id": "N2wWGWiRsjdo"
   },
   "source": [
    "**Definición de Esquema**\r\n",
    "\r\n",
    "Una vez más, nuestro esquema es el siguiente:\r\n",
    "\r\n",
    "- AT = Atmospheric Temperature in C\r\n",
    "- V = Exhaust Vacuum Speed\r\n",
    "- AP = Atmospheric Pressure\r\n",
    "- RH = Relative Humidity\r\n",
    "- PE = Power Output\r\n",
    "\r\n",
    "PE es nuestra variable objetivo. Este es el valor que intentamos predecir usando las otras mediciones.\r\n",
    "\r\n",
    "*Referencia [UCI Machine Learning Repository Combined Cycle Power Plant Data Set](https://archive.ics.uci.edu/ml/datasets/Combined+Cycle+Power+Plant)*"
   ]
  },
  {
   "cell_type": "markdown",
   "metadata": {
    "id": "SWp490t9tKtG"
   },
   "source": [
    "## 2b\r\n",
    "\r\n",
    "Ahora vamos a realizar un análisis estadístico básico de todas las columnas.\r\n",
    "\r\n",
    "Calculad y mostrad los resultados en modo tabla (la función `show()` os puede ser de ayuda):\r\n",
    "* Número de registros en nuestros datos\r\n",
    "* Media de cada columna\r\n",
    "* Máximo y mínimo de cada columna\r\n",
    "* Desviación estándar de cada columna\r\n",
    "\r\n",
    "Hint: Revisad [DataFrame](https://spark.apache.org/docs/latest/api/python/pyspark.sql.html#pyspark.sql.DataFrame) ya que contiene métodos que permiten realizar dichos cálculos de manera sencilla."
   ]
  },
  {
   "cell_type": "code",
   "execution_count": null,
   "metadata": {
    "colab": {
     "base_uri": "https://localhost:8080/"
    },
    "id": "qpMFKsLQtMtV",
    "outputId": "8b0e8b94-fb8c-4e18-ea46-1d36378c3645"
   },
   "outputs": [
    {
     "data": {
      "text/plain": [
       "pyspark.sql.dataframe.DataFrame"
      ]
     },
     "execution_count": 27,
     "metadata": {
      "tags": []
     },
     "output_type": "execute_result"
    }
   ],
   "source": [
    "df = sqlContext.table('power_plant')\r\n",
    "type(df)"
   ]
  },
  {
   "cell_type": "code",
   "execution_count": null,
   "metadata": {
    "colab": {
     "base_uri": "https://localhost:8080/"
    },
    "id": "25YA66HktbgS",
    "outputId": "d31199d1-d4b6-4514-cf8e-809b3d693498"
   },
   "outputs": [
    {
     "name": "stdout",
     "output_type": "stream",
     "text": [
      "+-------+------------------+-----------------+------------------+------------------+-----------------+\n",
      "|summary|                AT|                V|                AP|                RH|               PE|\n",
      "+-------+------------------+-----------------+------------------+------------------+-----------------+\n",
      "|  count|             47840|            47840|             47840|             47840|            47840|\n",
      "|   mean|19.651231187290794|54.30580372073523|1013.2590781772562| 73.30897784280961|454.3650094063599|\n",
      "| stddev|7.4521616583400005|12.70736170968581| 5.938535418520878|14.599658352081505|17.06628146683775|\n",
      "|    min|              1.81|            25.36|            992.89|             25.56|           420.26|\n",
      "|    max|             37.11|            81.56|            1033.3|            100.16|           495.76|\n",
      "+-------+------------------+-----------------+------------------+------------------+-----------------+\n",
      "\n"
     ]
    }
   ],
   "source": [
    "df.describe().show()"
   ]
  },
  {
   "cell_type": "markdown",
   "metadata": {
    "id": "xuK-xyvatxm9"
   },
   "source": [
    "## Parte 3: Visualizar los datos\r\n",
    "\r\n",
    "Para entender nuestros datos, intentamos buscar correlaciones entre las diferentes características y sus correspondientes etiquetas. Esto puede ser importante cuando seleccionamos un modelo. Por ejemplo, si una etiqueta y sus características se correlacionan de forma lineal, un modelo de regresión lineal obtendrá un buen rendimiento; por el contrario si la relación es no lineal, modelos más complejos, como arboles de decisión pueden ser una mejor opción. Podemos utilizar herramientas de visualización para observar cada uno de los posibles predictores en relación con la etiqueta como un gráfico de dispersión para ver la correlación entre ellos.\r\n",
    "\r\n",
    "============================================================================\r\n",
    "### Ejercicio 3(a)\r\n",
    "\r\n",
    "#### Añade las siguientes figuras: \r\n",
    "Vamos a ver si hay una correlación entre la temperatura y la potencia de salida. Podemos utilizar una consulta SQL para crear una nueva tabla que contenga solo el de temperatura (AT) y potencia (PE), y luego usar un gráfico de dispersión con la temperatura en el eje X y la potencia en el eje Y para visualizar la relación (si la hay) entre la temperatura y la energía.\r\n",
    "\r\n",
    "Realiza los siguientes pasos:\r\n",
    "- Carga una muestra de datos aleatorios de 1000 pares de valores para PE y AT. Puedes utilizar una ordenación aleatoria o un sample() sobre el resultado. Para hacer el plot puedes hacer un collect().\r\n",
    "- Utiliza matplotlib y Pandas para hacer un scatter plot (https://matplotlib.org/3.1.1/api/_as_gen/matplotlib.pyplot.scatter.html)"
   ]
  },
  {
   "cell_type": "code",
   "execution_count": null,
   "metadata": {
    "id": "cRjy6o7qt4KN"
   },
   "outputs": [],
   "source": [
    "from matplotlib import pyplot as plt\r\n",
    "import pandas as pd\r\n",
    "from pyspark.sql.functions import rand\r\n",
    "\r\n",
    "x_y = sqlContext.sql(\"SELECT AT, PE FROM power_plant\") \\\r\n",
    "  .orderBy(rand()) \\\r\n",
    "  .limit(1000) \\\r\n",
    "  .collect()"
   ]
  },
  {
   "cell_type": "code",
   "execution_count": null,
   "metadata": {
    "colab": {
     "base_uri": "https://localhost:8080/"
    },
    "id": "GqDfOKAHuyXa",
    "outputId": "e9cef98d-cb03-4e9c-e5a8-ca97b74039d8"
   },
   "outputs": [
    {
     "data": {
      "text/plain": [
       "list"
      ]
     },
     "execution_count": 46,
     "metadata": {
      "tags": []
     },
     "output_type": "execute_result"
    }
   ],
   "source": [
    "type(x_y)"
   ]
  },
  {
   "cell_type": "code",
   "execution_count": null,
   "metadata": {
    "colab": {
     "base_uri": "https://localhost:8080/"
    },
    "id": "qs43clcAu2el",
    "outputId": "c7179ab7-6849-4f2e-8b26-3279312d10bf"
   },
   "outputs": [
    {
     "data": {
      "text/plain": [
       "[Row(AT=8.07, PE=474.09),\n",
       " Row(AT=11.31, PE=471.92),\n",
       " Row(AT=7.14, PE=435.58),\n",
       " Row(AT=30.65, PE=432.08),\n",
       " Row(AT=28.54, PE=430.91),\n",
       " Row(AT=22.66, PE=448.68),\n",
       " Row(AT=11.57, PE=476.89),\n",
       " Row(AT=13.78, PE=445.98),\n",
       " Row(AT=15.33, PE=452.82),\n",
       " Row(AT=17.68, PE=458.12),\n",
       " Row(AT=27.14, PE=439.33),\n",
       " Row(AT=29.51, PE=431.18),\n",
       " Row(AT=19.89, PE=448.71),\n",
       " Row(AT=9.48, PE=485.36),\n",
       " Row(AT=4.99, PE=493.16),\n",
       " Row(AT=22.81, PE=440.4),\n",
       " Row(AT=21.0, PE=447.29),\n",
       " Row(AT=20.3, PE=457.6),\n",
       " Row(AT=26.73, PE=434.76),\n",
       " Row(AT=14.13, PE=461.96),\n",
       " Row(AT=29.42, PE=437.61),\n",
       " Row(AT=31.54, PE=430.07),\n",
       " Row(AT=28.86, PE=431.15),\n",
       " Row(AT=15.07, PE=464.7),\n",
       " Row(AT=6.8, PE=487.33),\n",
       " Row(AT=16.02, PE=455.48),\n",
       " Row(AT=26.11, PE=445.37),\n",
       " Row(AT=29.29, PE=428.73),\n",
       " Row(AT=23.99, PE=444.23),\n",
       " Row(AT=28.18, PE=438.49),\n",
       " Row(AT=26.53, PE=437.39),\n",
       " Row(AT=21.5, PE=447.83),\n",
       " Row(AT=8.36, PE=487.79),\n",
       " Row(AT=18.39, PE=449.96),\n",
       " Row(AT=15.45, PE=469.54),\n",
       " Row(AT=32.86, PE=429.32),\n",
       " Row(AT=5.17, PE=491.32),\n",
       " Row(AT=11.46, PE=470.55),\n",
       " Row(AT=26.08, PE=434.24),\n",
       " Row(AT=18.26, PE=451.09),\n",
       " Row(AT=21.88, PE=442.92),\n",
       " Row(AT=24.6, PE=434.07),\n",
       " Row(AT=27.02, PE=438.33),\n",
       " Row(AT=26.91, PE=438.73),\n",
       " Row(AT=12.9, PE=467.41),\n",
       " Row(AT=19.94, PE=449.6),\n",
       " Row(AT=6.75, PE=486.26),\n",
       " Row(AT=20.09, PE=449.47),\n",
       " Row(AT=17.48, PE=455.35),\n",
       " Row(AT=29.99, PE=435.87),\n",
       " Row(AT=27.99, PE=435.99),\n",
       " Row(AT=25.89, PE=440.92),\n",
       " Row(AT=23.34, PE=455.82),\n",
       " Row(AT=16.85, PE=472.63),\n",
       " Row(AT=12.31, PE=472.08),\n",
       " Row(AT=30.2, PE=431.77),\n",
       " Row(AT=26.13, PE=441.28),\n",
       " Row(AT=30.85, PE=431.77),\n",
       " Row(AT=28.73, PE=430.63),\n",
       " Row(AT=15.98, PE=467.22),\n",
       " Row(AT=13.17, PE=468.82),\n",
       " Row(AT=25.17, PE=437.01),\n",
       " Row(AT=23.0, PE=442.0),\n",
       " Row(AT=23.46, PE=445.57),\n",
       " Row(AT=13.5, PE=468.85),\n",
       " Row(AT=26.29, PE=439.86),\n",
       " Row(AT=16.76, PE=457.0),\n",
       " Row(AT=13.51, PE=471.99),\n",
       " Row(AT=23.18, PE=439.12),\n",
       " Row(AT=12.81, PE=475.5),\n",
       " Row(AT=10.32, PE=479.61),\n",
       " Row(AT=16.22, PE=461.06),\n",
       " Row(AT=17.75, PE=468.86),\n",
       " Row(AT=20.38, PE=456.56),\n",
       " Row(AT=24.26, PE=442.9),\n",
       " Row(AT=18.78, PE=452.86),\n",
       " Row(AT=27.22, PE=437.24),\n",
       " Row(AT=28.29, PE=438.25),\n",
       " Row(AT=18.01, PE=455.91),\n",
       " Row(AT=19.13, PE=453.31),\n",
       " Row(AT=14.76, PE=461.16),\n",
       " Row(AT=13.58, PE=472.73),\n",
       " Row(AT=26.27, PE=427.65),\n",
       " Row(AT=32.31, PE=449.65),\n",
       " Row(AT=24.7, PE=439.7),\n",
       " Row(AT=12.57, PE=466.68),\n",
       " Row(AT=20.3, PE=454.12),\n",
       " Row(AT=25.03, PE=441.58),\n",
       " Row(AT=15.51, PE=465.85),\n",
       " Row(AT=21.69, PE=447.06),\n",
       " Row(AT=17.46, PE=461.01),\n",
       " Row(AT=10.52, PE=469.03),\n",
       " Row(AT=24.62, PE=449.8),\n",
       " Row(AT=15.28, PE=467.92),\n",
       " Row(AT=29.26, PE=435.32),\n",
       " Row(AT=14.84, PE=466.0),\n",
       " Row(AT=22.57, PE=443.58),\n",
       " Row(AT=11.29, PE=473.74),\n",
       " Row(AT=18.42, PE=452.1),\n",
       " Row(AT=23.59, PE=448.42),\n",
       " Row(AT=28.32, PE=433.82),\n",
       " Row(AT=12.66, PE=466.49),\n",
       " Row(AT=28.87, PE=428.89),\n",
       " Row(AT=14.71, PE=462.87),\n",
       " Row(AT=18.15, PE=456.32),\n",
       " Row(AT=14.45, PE=462.16),\n",
       " Row(AT=28.31, PE=436.75),\n",
       " Row(AT=26.91, PE=436.84),\n",
       " Row(AT=15.98, PE=462.77),\n",
       " Row(AT=16.09, PE=454.23),\n",
       " Row(AT=18.95, PE=452.85),\n",
       " Row(AT=10.55, PE=473.6),\n",
       " Row(AT=20.61, PE=446.53),\n",
       " Row(AT=8.13, PE=486.19),\n",
       " Row(AT=16.6, PE=457.26),\n",
       " Row(AT=10.25, PE=481.94),\n",
       " Row(AT=29.07, PE=438.79),\n",
       " Row(AT=27.61, PE=437.85),\n",
       " Row(AT=10.54, PE=479.65),\n",
       " Row(AT=13.56, PE=470.67),\n",
       " Row(AT=14.85, PE=462.67),\n",
       " Row(AT=28.38, PE=439.83),\n",
       " Row(AT=8.05, PE=483.43),\n",
       " Row(AT=33.76, PE=429.83),\n",
       " Row(AT=8.0, PE=487.17),\n",
       " Row(AT=5.3, PE=484.42),\n",
       " Row(AT=12.54, PE=471.86),\n",
       " Row(AT=15.49, PE=462.28),\n",
       " Row(AT=14.36, PE=460.42),\n",
       " Row(AT=22.86, PE=445.66),\n",
       " Row(AT=20.35, PE=450.89),\n",
       " Row(AT=15.55, PE=466.83),\n",
       " Row(AT=27.67, PE=433.37),\n",
       " Row(AT=17.58, PE=467.33),\n",
       " Row(AT=26.44, PE=435.61),\n",
       " Row(AT=14.99, PE=466.85),\n",
       " Row(AT=18.4, PE=464.63),\n",
       " Row(AT=15.71, PE=462.6),\n",
       " Row(AT=8.65, PE=485.87),\n",
       " Row(AT=23.14, PE=444.38),\n",
       " Row(AT=29.7, PE=438.04),\n",
       " Row(AT=9.83, PE=478.21),\n",
       " Row(AT=27.39, PE=435.22),\n",
       " Row(AT=19.35, PE=454.02),\n",
       " Row(AT=12.2, PE=471.33),\n",
       " Row(AT=13.78, PE=474.9),\n",
       " Row(AT=11.77, PE=472.22),\n",
       " Row(AT=10.38, PE=474.44),\n",
       " Row(AT=15.7, PE=462.19),\n",
       " Row(AT=23.84, PE=436.05),\n",
       " Row(AT=14.65, PE=464.95),\n",
       " Row(AT=15.09, PE=463.27),\n",
       " Row(AT=21.17, PE=454.15),\n",
       " Row(AT=5.81, PE=479.66),\n",
       " Row(AT=30.35, PE=430.07),\n",
       " Row(AT=20.58, PE=467.76),\n",
       " Row(AT=19.27, PE=463.14),\n",
       " Row(AT=10.54, PE=479.65),\n",
       " Row(AT=12.42, PE=469.59),\n",
       " Row(AT=13.83, PE=472.95),\n",
       " Row(AT=23.71, PE=458.59),\n",
       " Row(AT=19.77, PE=458.21),\n",
       " Row(AT=11.24, PE=469.3),\n",
       " Row(AT=27.6, PE=440.6),\n",
       " Row(AT=26.9, PE=434.1),\n",
       " Row(AT=21.91, PE=439.29),\n",
       " Row(AT=8.7, PE=478.69),\n",
       " Row(AT=10.8, PE=478.8),\n",
       " Row(AT=12.62, PE=471.55),\n",
       " Row(AT=17.3, PE=455.75),\n",
       " Row(AT=13.8, PE=468.97),\n",
       " Row(AT=12.42, PE=469.59),\n",
       " Row(AT=14.74, PE=462.92),\n",
       " Row(AT=20.79, PE=454.78),\n",
       " Row(AT=15.02, PE=456.04),\n",
       " Row(AT=15.45, PE=464.37),\n",
       " Row(AT=25.3, PE=433.97),\n",
       " Row(AT=27.86, PE=439.49),\n",
       " Row(AT=30.68, PE=433.47),\n",
       " Row(AT=21.12, PE=450.93),\n",
       " Row(AT=21.3, PE=450.56),\n",
       " Row(AT=20.32, PE=456.18),\n",
       " Row(AT=12.27, PE=475.13),\n",
       " Row(AT=11.38, PE=469.9),\n",
       " Row(AT=11.01, PE=474.36),\n",
       " Row(AT=23.02, PE=443.44),\n",
       " Row(AT=29.23, PE=431.0),\n",
       " Row(AT=25.42, PE=439.43),\n",
       " Row(AT=23.08, PE=443.5),\n",
       " Row(AT=22.59, PE=442.0),\n",
       " Row(AT=13.84, PE=468.66),\n",
       " Row(AT=8.85, PE=482.3),\n",
       " Row(AT=8.99, PE=476.09),\n",
       " Row(AT=21.69, PE=446.61),\n",
       " Row(AT=12.48, PE=475.96),\n",
       " Row(AT=26.19, PE=440.13),\n",
       " Row(AT=14.62, PE=470.79),\n",
       " Row(AT=31.38, PE=431.33),\n",
       " Row(AT=28.99, PE=428.28),\n",
       " Row(AT=6.03, PE=488.57),\n",
       " Row(AT=7.5, PE=485.98),\n",
       " Row(AT=23.19, PE=442.45),\n",
       " Row(AT=6.13, PE=483.8),\n",
       " Row(AT=21.61, PE=449.26),\n",
       " Row(AT=23.5, PE=457.51),\n",
       " Row(AT=26.71, PE=436.66),\n",
       " Row(AT=18.13, PE=455.81),\n",
       " Row(AT=21.93, PE=449.17),\n",
       " Row(AT=21.75, PE=452.84),\n",
       " Row(AT=13.95, PE=465.24),\n",
       " Row(AT=25.34, PE=433.34),\n",
       " Row(AT=13.97, PE=459.84),\n",
       " Row(AT=10.57, PE=472.62),\n",
       " Row(AT=19.1, PE=462.28),\n",
       " Row(AT=13.15, PE=462.3),\n",
       " Row(AT=20.4, PE=450.07),\n",
       " Row(AT=24.58, PE=437.16),\n",
       " Row(AT=21.41, PE=443.63),\n",
       " Row(AT=23.74, PE=445.47),\n",
       " Row(AT=19.72, PE=464.54),\n",
       " Row(AT=10.07, PE=467.01),\n",
       " Row(AT=22.77, PE=440.67),\n",
       " Row(AT=24.62, PE=436.89),\n",
       " Row(AT=21.84, PE=448.61),\n",
       " Row(AT=29.08, PE=438.24),\n",
       " Row(AT=10.1, PE=474.09),\n",
       " Row(AT=23.03, PE=453.77),\n",
       " Row(AT=9.93, PE=480.54),\n",
       " Row(AT=15.82, PE=460.2),\n",
       " Row(AT=6.16, PE=490.92),\n",
       " Row(AT=13.93, PE=466.47),\n",
       " Row(AT=24.34, PE=446.09),\n",
       " Row(AT=14.55, PE=458.82),\n",
       " Row(AT=24.44, PE=443.5),\n",
       " Row(AT=21.96, PE=452.48),\n",
       " Row(AT=27.52, PE=429.67),\n",
       " Row(AT=26.98, PE=431.12),\n",
       " Row(AT=27.91, PE=435.21),\n",
       " Row(AT=20.37, PE=453.94),\n",
       " Row(AT=30.32, PE=436.72),\n",
       " Row(AT=28.53, PE=436.16),\n",
       " Row(AT=24.44, PE=440.2),\n",
       " Row(AT=24.43, PE=437.26),\n",
       " Row(AT=8.03, PE=492.26),\n",
       " Row(AT=22.48, PE=444.71),\n",
       " Row(AT=25.57, PE=444.81),\n",
       " Row(AT=32.51, PE=435.23),\n",
       " Row(AT=23.37, PE=441.56),\n",
       " Row(AT=6.33, PE=484.57),\n",
       " Row(AT=17.67, PE=457.99),\n",
       " Row(AT=11.37, PE=475.94),\n",
       " Row(AT=15.59, PE=458.87),\n",
       " Row(AT=14.38, PE=473.41),\n",
       " Row(AT=25.66, PE=432.82),\n",
       " Row(AT=8.64, PE=484.45),\n",
       " Row(AT=14.5, PE=465.32),\n",
       " Row(AT=21.12, PE=445.9),\n",
       " Row(AT=15.12, PE=463.78),\n",
       " Row(AT=16.71, PE=467.46),\n",
       " Row(AT=21.64, PE=442.52),\n",
       " Row(AT=13.73, PE=464.94),\n",
       " Row(AT=26.74, PE=436.02),\n",
       " Row(AT=7.98, PE=481.93),\n",
       " Row(AT=22.57, PE=443.58),\n",
       " Row(AT=16.14, PE=463.5),\n",
       " Row(AT=24.17, PE=442.62),\n",
       " Row(AT=19.45, PE=445.1),\n",
       " Row(AT=11.82, PE=466.95),\n",
       " Row(AT=13.08, PE=474.13),\n",
       " Row(AT=15.83, PE=458.6),\n",
       " Row(AT=27.06, PE=429.18),\n",
       " Row(AT=12.36, PE=465.14),\n",
       " Row(AT=25.07, PE=442.44),\n",
       " Row(AT=12.27, PE=468.55),\n",
       " Row(AT=18.21, PE=455.88),\n",
       " Row(AT=27.41, PE=429.21),\n",
       " Row(AT=26.85, PE=426.58),\n",
       " Row(AT=5.65, PE=487.09),\n",
       " Row(AT=14.8, PE=466.27),\n",
       " Row(AT=24.47, PE=436.29),\n",
       " Row(AT=19.51, PE=448.04),\n",
       " Row(AT=32.16, PE=429.64),\n",
       " Row(AT=24.15, PE=436.55),\n",
       " Row(AT=10.68, PE=476.22),\n",
       " Row(AT=32.31, PE=449.65),\n",
       " Row(AT=21.17, PE=455.66),\n",
       " Row(AT=16.32, PE=463.57),\n",
       " Row(AT=26.78, PE=433.25),\n",
       " Row(AT=21.59, PE=441.71),\n",
       " Row(AT=14.89, PE=469.37),\n",
       " Row(AT=10.58, PE=473.19),\n",
       " Row(AT=24.24, PE=437.75),\n",
       " Row(AT=17.64, PE=455.75),\n",
       " Row(AT=27.97, PE=446.11),\n",
       " Row(AT=32.26, PE=431.96),\n",
       " Row(AT=22.8, PE=437.98),\n",
       " Row(AT=27.04, PE=433.25),\n",
       " Row(AT=30.54, PE=434.62),\n",
       " Row(AT=24.24, PE=436.6),\n",
       " Row(AT=11.23, PE=475.04),\n",
       " Row(AT=23.99, PE=443.66),\n",
       " Row(AT=23.03, PE=444.85),\n",
       " Row(AT=16.63, PE=458.66),\n",
       " Row(AT=25.15, PE=436.0),\n",
       " Row(AT=22.16, PE=451.86),\n",
       " Row(AT=26.8, PE=447.85),\n",
       " Row(AT=10.72, PE=478.29),\n",
       " Row(AT=22.65, PE=445.36),\n",
       " Row(AT=22.95, PE=438.83),\n",
       " Row(AT=20.11, PE=449.03),\n",
       " Row(AT=12.32, PE=471.6),\n",
       " Row(AT=27.44, PE=442.19),\n",
       " Row(AT=21.38, PE=446.8),\n",
       " Row(AT=31.24, PE=435.2),\n",
       " Row(AT=25.91, PE=432.07),\n",
       " Row(AT=13.43, PE=472.94),\n",
       " Row(AT=16.88, PE=457.0),\n",
       " Row(AT=27.38, PE=437.78),\n",
       " Row(AT=17.19, PE=451.87),\n",
       " Row(AT=11.94, PE=474.02),\n",
       " Row(AT=23.04, PE=437.65),\n",
       " Row(AT=19.61, PE=454.22),\n",
       " Row(AT=24.16, PE=446.17),\n",
       " Row(AT=8.82, PE=482.71),\n",
       " Row(AT=20.08, PE=457.14),\n",
       " Row(AT=12.2, PE=469.41),\n",
       " Row(AT=24.95, PE=437.47),\n",
       " Row(AT=9.58, PE=478.5),\n",
       " Row(AT=10.82, PE=473.9),\n",
       " Row(AT=10.96, PE=473.28),\n",
       " Row(AT=16.32, PE=465.38),\n",
       " Row(AT=21.92, PE=452.49),\n",
       " Row(AT=30.56, PE=432.26),\n",
       " Row(AT=18.21, PE=455.88),\n",
       " Row(AT=20.46, PE=454.06),\n",
       " Row(AT=7.9, PE=485.26),\n",
       " Row(AT=8.33, PE=479.12),\n",
       " Row(AT=23.97, PE=443.87),\n",
       " Row(AT=28.21, PE=442.47),\n",
       " Row(AT=8.5, PE=485.76),\n",
       " Row(AT=18.32, PE=454.11),\n",
       " Row(AT=16.96, PE=454.14),\n",
       " Row(AT=33.6, PE=430.32),\n",
       " Row(AT=13.14, PE=466.95),\n",
       " Row(AT=20.77, PE=442.85),\n",
       " Row(AT=26.85, PE=444.39),\n",
       " Row(AT=29.01, PE=430.26),\n",
       " Row(AT=18.09, PE=453.02),\n",
       " Row(AT=23.65, PE=434.11),\n",
       " Row(AT=11.99, PE=469.23),\n",
       " Row(AT=21.4, PE=444.15),\n",
       " Row(AT=21.36, PE=456.85),\n",
       " Row(AT=25.59, PE=443.91),\n",
       " Row(AT=20.83, PE=443.17),\n",
       " Row(AT=21.52, PE=449.08),\n",
       " Row(AT=20.33, PE=450.25),\n",
       " Row(AT=21.47, PE=448.11),\n",
       " Row(AT=14.03, PE=457.98),\n",
       " Row(AT=24.44, PE=430.3),\n",
       " Row(AT=9.05, PE=486.55),\n",
       " Row(AT=17.76, PE=468.27),\n",
       " Row(AT=13.8, PE=470.93),\n",
       " Row(AT=18.75, PE=458.31),\n",
       " Row(AT=16.46, PE=456.64),\n",
       " Row(AT=27.2, PE=440.13),\n",
       " Row(AT=13.28, PE=466.78),\n",
       " Row(AT=5.79, PE=489.6),\n",
       " Row(AT=31.54, PE=431.27),\n",
       " Row(AT=14.68, PE=461.91),\n",
       " Row(AT=23.16, PE=438.29),\n",
       " Row(AT=34.33, PE=435.76),\n",
       " Row(AT=24.2, PE=449.03),\n",
       " Row(AT=22.56, PE=447.15),\n",
       " Row(AT=32.96, PE=438.93),\n",
       " Row(AT=13.94, PE=467.9),\n",
       " Row(AT=11.18, PE=472.02),\n",
       " Row(AT=19.16, PE=451.0),\n",
       " Row(AT=7.91, PE=485.95),\n",
       " Row(AT=33.11, PE=431.77),\n",
       " Row(AT=13.35, PE=474.68),\n",
       " Row(AT=28.32, PE=436.97),\n",
       " Row(AT=15.46, PE=462.96),\n",
       " Row(AT=12.54, PE=475.02),\n",
       " Row(AT=21.54, PE=454.32),\n",
       " Row(AT=27.58, PE=430.53),\n",
       " Row(AT=3.98, PE=489.64),\n",
       " Row(AT=21.97, PE=449.6),\n",
       " Row(AT=33.37, PE=430.42),\n",
       " Row(AT=13.18, PE=467.0),\n",
       " Row(AT=22.49, PE=442.58),\n",
       " Row(AT=13.5, PE=471.34),\n",
       " Row(AT=29.12, PE=432.46),\n",
       " Row(AT=28.97, PE=434.7),\n",
       " Row(AT=19.48, PE=457.16),\n",
       " Row(AT=23.09, PE=450.31),\n",
       " Row(AT=21.87, PE=451.97),\n",
       " Row(AT=28.71, PE=435.85),\n",
       " Row(AT=13.51, PE=463.86),\n",
       " Row(AT=9.95, PE=477.88),\n",
       " Row(AT=31.19, PE=430.48),\n",
       " Row(AT=10.75, PE=481.96),\n",
       " Row(AT=15.09, PE=468.8),\n",
       " Row(AT=22.7, PE=444.02),\n",
       " Row(AT=27.82, PE=436.48),\n",
       " Row(AT=8.83, PE=483.38),\n",
       " Row(AT=16.97, PE=458.59),\n",
       " Row(AT=23.34, PE=445.24),\n",
       " Row(AT=30.58, PE=431.59),\n",
       " Row(AT=29.55, PE=430.98),\n",
       " Row(AT=18.74, PE=468.84),\n",
       " Row(AT=25.65, PE=435.91),\n",
       " Row(AT=6.05, PE=481.02),\n",
       " Row(AT=25.71, PE=438.16),\n",
       " Row(AT=13.25, PE=469.18),\n",
       " Row(AT=27.23, PE=432.55),\n",
       " Row(AT=13.07, PE=460.14),\n",
       " Row(AT=11.39, PE=474.93),\n",
       " Row(AT=12.71, PE=475.38),\n",
       " Row(AT=14.52, PE=466.88),\n",
       " Row(AT=20.15, PE=462.65),\n",
       " Row(AT=22.47, PE=444.5),\n",
       " Row(AT=24.35, PE=438.4),\n",
       " Row(AT=25.51, PE=433.02),\n",
       " Row(AT=28.07, PE=442.59),\n",
       " Row(AT=5.02, PE=485.28),\n",
       " Row(AT=18.81, PE=450.72),\n",
       " Row(AT=29.01, PE=446.22),\n",
       " Row(AT=8.14, PE=477.05),\n",
       " Row(AT=21.19, PE=447.06),\n",
       " Row(AT=25.39, PE=441.51),\n",
       " Row(AT=23.97, PE=443.87),\n",
       " Row(AT=28.97, PE=438.08),\n",
       " Row(AT=17.89, PE=457.74),\n",
       " Row(AT=19.6, PE=449.23),\n",
       " Row(AT=26.97, PE=443.75),\n",
       " Row(AT=11.24, PE=469.3),\n",
       " Row(AT=27.44, PE=442.19),\n",
       " Row(AT=31.84, PE=432.04),\n",
       " Row(AT=21.02, PE=448.08),\n",
       " Row(AT=9.82, PE=478.02),\n",
       " Row(AT=27.57, PE=436.61),\n",
       " Row(AT=7.36, PE=476.8),\n",
       " Row(AT=10.41, PE=474.2),\n",
       " Row(AT=6.38, PE=492.96),\n",
       " Row(AT=26.43, PE=441.01),\n",
       " Row(AT=28.81, PE=433.74),\n",
       " Row(AT=18.34, PE=455.22),\n",
       " Row(AT=9.89, PE=478.13),\n",
       " Row(AT=16.82, PE=465.64),\n",
       " Row(AT=10.11, PE=476.8),\n",
       " Row(AT=10.47, PE=476.55),\n",
       " Row(AT=12.67, PE=473.13),\n",
       " Row(AT=20.9, PE=443.46),\n",
       " Row(AT=11.95, PE=464.57),\n",
       " Row(AT=10.5, PE=482.85),\n",
       " Row(AT=17.76, PE=461.8),\n",
       " Row(AT=37.11, PE=429.25),\n",
       " Row(AT=24.04, PE=442.25),\n",
       " Row(AT=15.4, PE=471.66),\n",
       " Row(AT=10.87, PE=474.07),\n",
       " Row(AT=31.75, PE=430.82),\n",
       " Row(AT=26.7, PE=435.03),\n",
       " Row(AT=22.78, PE=445.45),\n",
       " Row(AT=14.16, PE=464.91),\n",
       " Row(AT=23.09, PE=443.27),\n",
       " Row(AT=16.64, PE=463.49),\n",
       " Row(AT=18.22, PE=465.78),\n",
       " Row(AT=22.28, PE=446.55),\n",
       " Row(AT=35.2, PE=434.37),\n",
       " Row(AT=16.39, PE=467.68),\n",
       " Row(AT=20.61, PE=449.72),\n",
       " Row(AT=26.66, PE=437.87),\n",
       " Row(AT=6.04, PE=480.39),\n",
       " Row(AT=26.65, PE=442.66),\n",
       " Row(AT=25.71, PE=451.28),\n",
       " Row(AT=23.33, PE=440.11),\n",
       " Row(AT=7.19, PE=486.05),\n",
       " Row(AT=25.17, PE=442.15),\n",
       " Row(AT=31.95, PE=432.79),\n",
       " Row(AT=32.88, PE=431.74),\n",
       " Row(AT=10.03, PE=482.16),\n",
       " Row(AT=27.62, PE=442.13),\n",
       " Row(AT=12.65, PE=471.46),\n",
       " Row(AT=10.35, PE=472.63),\n",
       " Row(AT=7.87, PE=486.2),\n",
       " Row(AT=10.54, PE=479.65),\n",
       " Row(AT=10.07, PE=480.54),\n",
       " Row(AT=22.53, PE=449.02),\n",
       " Row(AT=26.94, PE=430.34),\n",
       " Row(AT=12.51, PE=471.96),\n",
       " Row(AT=18.16, PE=454.98),\n",
       " Row(AT=27.78, PE=436.5),\n",
       " Row(AT=25.01, PE=435.73),\n",
       " Row(AT=16.43, PE=455.85),\n",
       " Row(AT=24.55, PE=443.39),\n",
       " Row(AT=30.15, PE=436.92),\n",
       " Row(AT=13.97, PE=461.96),\n",
       " Row(AT=14.77, PE=470.39),\n",
       " Row(AT=16.48, PE=458.67),\n",
       " Row(AT=25.06, PE=446.57),\n",
       " Row(AT=22.99, PE=447.62),\n",
       " Row(AT=23.21, PE=450.92),\n",
       " Row(AT=29.79, PE=440.27),\n",
       " Row(AT=27.77, PE=430.19),\n",
       " Row(AT=13.25, PE=470.46),\n",
       " Row(AT=27.33, PE=429.38),\n",
       " Row(AT=18.71, PE=456.88),\n",
       " Row(AT=25.14, PE=437.4),\n",
       " Row(AT=9.54, PE=481.18),\n",
       " Row(AT=13.19, PE=469.62),\n",
       " Row(AT=4.99, PE=493.16),\n",
       " Row(AT=24.38, PE=444.36),\n",
       " Row(AT=28.19, PE=434.77),\n",
       " Row(AT=21.44, PE=446.17),\n",
       " Row(AT=35.1, PE=426.3),\n",
       " Row(AT=21.34, PE=452.0),\n",
       " Row(AT=16.88, PE=463.81),\n",
       " Row(AT=22.28, PE=448.97),\n",
       " Row(AT=29.53, PE=426.85),\n",
       " Row(AT=28.62, PE=432.11),\n",
       " Row(AT=18.84, PE=454.47),\n",
       " Row(AT=26.33, PE=450.67),\n",
       " Row(AT=18.4, PE=456.8),\n",
       " Row(AT=16.41, PE=457.94),\n",
       " Row(AT=12.78, PE=461.61),\n",
       " Row(AT=34.43, PE=431.39),\n",
       " Row(AT=17.83, PE=453.86),\n",
       " Row(AT=15.69, PE=462.18),\n",
       " Row(AT=15.43, PE=463.44),\n",
       " Row(AT=25.68, PE=442.98),\n",
       " Row(AT=31.88, PE=438.42),\n",
       " Row(AT=32.27, PE=429.72),\n",
       " Row(AT=20.76, PE=444.85),\n",
       " Row(AT=28.8, PE=435.45),\n",
       " Row(AT=29.09, PE=439.34),\n",
       " Row(AT=13.79, PE=461.16),\n",
       " Row(AT=21.54, PE=443.15),\n",
       " Row(AT=9.08, PE=476.69),\n",
       " Row(AT=29.01, PE=427.91),\n",
       " Row(AT=8.23, PE=474.52),\n",
       " Row(AT=24.96, PE=447.2),\n",
       " Row(AT=27.2, PE=430.55),\n",
       " Row(AT=16.78, PE=459.64),\n",
       " Row(AT=17.11, PE=453.22),\n",
       " Row(AT=16.97, PE=463.28),\n",
       " Row(AT=29.56, PE=436.46),\n",
       " Row(AT=13.69, PE=469.12),\n",
       " Row(AT=24.85, PE=439.96),\n",
       " Row(AT=12.25, PE=475.24),\n",
       " Row(AT=12.97, PE=452.07),\n",
       " Row(AT=28.21, PE=442.47),\n",
       " Row(AT=22.95, PE=438.83),\n",
       " Row(AT=22.99, PE=449.7),\n",
       " Row(AT=19.32, PE=464.38),\n",
       " Row(AT=9.89, PE=478.13),\n",
       " Row(AT=23.46, PE=435.36),\n",
       " Row(AT=27.14, PE=438.82),\n",
       " Row(AT=6.79, PE=488.69),\n",
       " Row(AT=9.28, PE=480.73),\n",
       " Row(AT=24.19, PE=446.3),\n",
       " Row(AT=30.91, PE=433.84),\n",
       " Row(AT=21.53, PE=440.93),\n",
       " Row(AT=27.43, PE=442.71),\n",
       " Row(AT=20.54, PE=442.86),\n",
       " Row(AT=5.85, PE=480.59),\n",
       " Row(AT=8.21, PE=481.32),\n",
       " Row(AT=32.63, PE=425.72),\n",
       " Row(AT=24.01, PE=443.09),\n",
       " Row(AT=24.27, PE=437.78),\n",
       " Row(AT=26.7, PE=438.92),\n",
       " Row(AT=30.24, PE=426.25),\n",
       " Row(AT=10.55, PE=473.99),\n",
       " Row(AT=10.4, PE=492.09),\n",
       " Row(AT=22.78, PE=446.12),\n",
       " Row(AT=9.48, PE=478.66),\n",
       " Row(AT=28.37, PE=441.37),\n",
       " Row(AT=5.21, PE=484.03),\n",
       " Row(AT=20.37, PE=463.2),\n",
       " Row(AT=20.98, PE=450.95),\n",
       " Row(AT=27.59, PE=439.31),\n",
       " Row(AT=11.83, PE=463.62),\n",
       " Row(AT=24.4, PE=436.68),\n",
       " Row(AT=15.09, PE=466.87),\n",
       " Row(AT=10.31, PE=480.61),\n",
       " Row(AT=12.36, PE=474.71),\n",
       " Row(AT=10.35, PE=477.8),\n",
       " Row(AT=5.84, PE=482.1),\n",
       " Row(AT=31.82, PE=433.32),\n",
       " Row(AT=20.36, PE=450.23),\n",
       " Row(AT=18.42, PE=452.1),\n",
       " Row(AT=22.18, PE=449.77),\n",
       " Row(AT=19.15, PE=450.26),\n",
       " Row(AT=18.9, PE=451.5),\n",
       " Row(AT=8.34, PE=483.92),\n",
       " Row(AT=10.48, PE=473.3),\n",
       " Row(AT=21.47, PE=440.0),\n",
       " Row(AT=21.19, PE=455.93),\n",
       " Row(AT=12.66, PE=472.44),\n",
       " Row(AT=8.09, PE=484.81),\n",
       " Row(AT=18.76, PE=452.5),\n",
       " Row(AT=20.45, PE=452.96),\n",
       " Row(AT=27.39, PE=441.45),\n",
       " Row(AT=25.81, PE=437.57),\n",
       " Row(AT=16.57, PE=462.52),\n",
       " Row(AT=29.7, PE=436.29),\n",
       " Row(AT=17.79, PE=457.72),\n",
       " Row(AT=18.26, PE=462.6),\n",
       " Row(AT=19.68, PE=468.27),\n",
       " Row(AT=24.8, PE=438.96),\n",
       " Row(AT=19.13, PE=457.83),\n",
       " Row(AT=26.41, PE=436.71),\n",
       " Row(AT=11.01, PE=473.96),\n",
       " Row(AT=29.08, PE=435.57),\n",
       " Row(AT=21.04, PE=439.53),\n",
       " Row(AT=29.64, PE=438.12),\n",
       " Row(AT=10.59, PE=479.85),\n",
       " Row(AT=17.28, PE=459.26),\n",
       " Row(AT=11.6, PE=460.7),\n",
       " Row(AT=4.99, PE=472.52),\n",
       " Row(AT=7.47, PE=489.59),\n",
       " Row(AT=4.44, PE=486.53),\n",
       " Row(AT=14.26, PE=471.19),\n",
       " Row(AT=10.59, PE=471.38),\n",
       " Row(AT=19.48, PE=450.55),\n",
       " Row(AT=11.23, PE=475.04),\n",
       " Row(AT=23.56, PE=439.48),\n",
       " Row(AT=24.34, PE=440.67),\n",
       " Row(AT=21.46, PE=457.28),\n",
       " Row(AT=15.56, PE=464.42),\n",
       " Row(AT=16.18, PE=455.14),\n",
       " Row(AT=20.71, PE=447.06),\n",
       " Row(AT=21.05, PE=447.45),\n",
       " Row(AT=21.41, PE=441.41),\n",
       " Row(AT=15.79, PE=465.62),\n",
       " Row(AT=21.29, PE=447.78),\n",
       " Row(AT=9.53, PE=481.83),\n",
       " Row(AT=12.38, PE=467.55),\n",
       " Row(AT=13.38, PE=468.15),\n",
       " Row(AT=16.1, PE=471.46),\n",
       " Row(AT=15.29, PE=466.27),\n",
       " Row(AT=15.14, PE=463.1),\n",
       " Row(AT=11.23, PE=475.41),\n",
       " Row(AT=22.07, PE=442.4),\n",
       " Row(AT=28.52, PE=431.36),\n",
       " Row(AT=16.18, PE=460.81),\n",
       " Row(AT=23.17, PE=439.29),\n",
       " Row(AT=13.78, PE=467.22),\n",
       " Row(AT=29.23, PE=428.9),\n",
       " Row(AT=13.58, PE=467.15),\n",
       " Row(AT=15.4, PE=469.18),\n",
       " Row(AT=17.44, PE=457.67),\n",
       " Row(AT=28.16, PE=430.46),\n",
       " Row(AT=21.93, PE=443.91),\n",
       " Row(AT=13.96, PE=460.95),\n",
       " Row(AT=11.58, PE=478.06),\n",
       " Row(AT=26.28, PE=437.01),\n",
       " Row(AT=15.43, PE=467.21),\n",
       " Row(AT=7.18, PE=487.63),\n",
       " Row(AT=22.97, PE=437.41),\n",
       " Row(AT=13.84, PE=463.27),\n",
       " Row(AT=11.96, PE=469.34),\n",
       " Row(AT=30.9, PE=433.44),\n",
       " Row(AT=13.97, PE=463.64),\n",
       " Row(AT=13.91, PE=469.02),\n",
       " Row(AT=24.9, PE=427.77),\n",
       " Row(AT=28.53, PE=438.17),\n",
       " Row(AT=10.2, PE=482.26),\n",
       " Row(AT=24.86, PE=447.2),\n",
       " Row(AT=28.59, PE=431.55),\n",
       " Row(AT=13.49, PE=467.92),\n",
       " Row(AT=11.17, PE=474.64),\n",
       " Row(AT=15.66, PE=463.57),\n",
       " Row(AT=14.05, PE=475.54),\n",
       " Row(AT=27.33, PE=443.89),\n",
       " Row(AT=10.8, PE=478.19),\n",
       " Row(AT=30.84, PE=432.03),\n",
       " Row(AT=11.42, PE=477.5),\n",
       " Row(AT=17.98, PE=455.71),\n",
       " Row(AT=31.94, PE=432.03),\n",
       " Row(AT=13.48, PE=464.58),\n",
       " Row(AT=23.79, PE=435.49),\n",
       " Row(AT=15.02, PE=460.82),\n",
       " Row(AT=7.85, PE=478.68),\n",
       " Row(AT=9.06, PE=477.38),\n",
       " Row(AT=9.64, PE=478.37),\n",
       " Row(AT=14.88, PE=466.73),\n",
       " Row(AT=18.21, PE=455.88),\n",
       " Row(AT=30.69, PE=431.01),\n",
       " Row(AT=14.84, PE=472.07),\n",
       " Row(AT=27.81, PE=439.48),\n",
       " Row(AT=7.69, PE=483.54),\n",
       " Row(AT=17.42, PE=456.57),\n",
       " Row(AT=21.24, PE=459.81),\n",
       " Row(AT=20.46, PE=444.88),\n",
       " Row(AT=7.46, PE=482.83),\n",
       " Row(AT=22.35, PE=445.34),\n",
       " Row(AT=8.34, PE=483.14),\n",
       " Row(AT=21.5, PE=460.2),\n",
       " Row(AT=8.48, PE=483.5),\n",
       " Row(AT=19.26, PE=450.66),\n",
       " Row(AT=16.77, PE=459.91),\n",
       " Row(AT=10.95, PE=474.07),\n",
       " Row(AT=30.05, PE=434.92),\n",
       " Row(AT=10.8, PE=478.21),\n",
       " Row(AT=26.95, PE=430.07),\n",
       " Row(AT=26.55, PE=435.64),\n",
       " Row(AT=12.41, PE=468.14),\n",
       " Row(AT=30.87, PE=436.96),\n",
       " Row(AT=32.55, PE=432.07),\n",
       " Row(AT=27.91, PE=430.73),\n",
       " Row(AT=13.69, PE=470.76),\n",
       " Row(AT=23.83, PE=446.23),\n",
       " Row(AT=21.19, PE=469.76),\n",
       " Row(AT=20.05, PE=457.01),\n",
       " Row(AT=11.48, PE=472.9),\n",
       " Row(AT=13.48, PE=466.88),\n",
       " Row(AT=22.44, PE=447.3),\n",
       " Row(AT=22.02, PE=440.26),\n",
       " Row(AT=3.99, PE=492.06),\n",
       " Row(AT=20.76, PE=442.82),\n",
       " Row(AT=26.13, PE=441.28),\n",
       " Row(AT=27.98, PE=440.68),\n",
       " Row(AT=14.79, PE=465.77),\n",
       " Row(AT=16.69, PE=458.96),\n",
       " Row(AT=32.0, PE=428.69),\n",
       " Row(AT=30.4, PE=430.23),\n",
       " Row(AT=8.73, PE=479.25),\n",
       " Row(AT=9.43, PE=474.16),\n",
       " Row(AT=28.57, PE=431.58),\n",
       " Row(AT=29.48, PE=433.53),\n",
       " Row(AT=13.84, PE=463.27),\n",
       " Row(AT=27.51, PE=440.81),\n",
       " Row(AT=33.15, PE=428.89),\n",
       " Row(AT=21.02, PE=448.08),\n",
       " Row(AT=15.62, PE=463.21),\n",
       " Row(AT=25.99, PE=432.41),\n",
       " Row(AT=22.95, PE=457.91),\n",
       " Row(AT=22.86, PE=451.82),\n",
       " Row(AT=30.28, PE=432.64),\n",
       " Row(AT=30.34, PE=431.18),\n",
       " Row(AT=5.33, PE=491.17),\n",
       " Row(AT=11.09, PE=490.96),\n",
       " Row(AT=13.32, PE=465.57),\n",
       " Row(AT=33.82, PE=435.58),\n",
       " Row(AT=9.47, PE=475.48),\n",
       " Row(AT=23.02, PE=440.5),\n",
       " Row(AT=24.26, PE=442.56),\n",
       " Row(AT=27.71, PE=447.06),\n",
       " Row(AT=15.11, PE=465.42),\n",
       " Row(AT=21.85, PE=445.62),\n",
       " Row(AT=30.1, PE=435.27),\n",
       " Row(AT=30.3, PE=431.12),\n",
       " Row(AT=13.27, PE=464.82),\n",
       " Row(AT=31.44, PE=433.59),\n",
       " Row(AT=33.38, PE=430.98),\n",
       " Row(AT=18.61, PE=443.57),\n",
       " Row(AT=15.47, PE=462.58),\n",
       " Row(AT=24.81, PE=439.33),\n",
       " Row(AT=29.13, PE=435.61),\n",
       " Row(AT=7.68, PE=479.16),\n",
       " Row(AT=9.38, PE=474.1),\n",
       " Row(AT=26.06, PE=451.47),\n",
       " Row(AT=20.96, PE=444.31),\n",
       " Row(AT=12.86, PE=472.04),\n",
       " Row(AT=25.88, PE=443.94),\n",
       " Row(AT=15.57, PE=460.91),\n",
       " Row(AT=14.81, PE=470.41),\n",
       " Row(AT=4.88, PE=491.29),\n",
       " Row(AT=18.25, PE=462.78),\n",
       " Row(AT=29.3, PE=431.07),\n",
       " Row(AT=19.35, PE=455.29),\n",
       " Row(AT=28.28, PE=445.61),\n",
       " Row(AT=5.52, PE=492.39),\n",
       " Row(AT=26.38, PE=442.38),\n",
       " Row(AT=22.3, PE=449.86),\n",
       " Row(AT=13.18, PE=468.36),\n",
       " Row(AT=13.64, PE=468.85),\n",
       " Row(AT=18.81, PE=450.72),\n",
       " Row(AT=12.1, PE=462.28),\n",
       " Row(AT=27.27, PE=436.64),\n",
       " Row(AT=23.66, PE=435.39),\n",
       " Row(AT=28.08, PE=434.0),\n",
       " Row(AT=17.53, PE=457.61),\n",
       " Row(AT=23.43, PE=441.6),\n",
       " Row(AT=20.03, PE=450.6),\n",
       " Row(AT=25.99, PE=452.09),\n",
       " Row(AT=21.94, PE=444.89),\n",
       " Row(AT=11.3, PE=476.72),\n",
       " Row(AT=16.81, PE=459.01),\n",
       " Row(AT=10.88, PE=469.57),\n",
       " Row(AT=12.69, PE=472.68),\n",
       " Row(AT=30.92, PE=434.12),\n",
       " Row(AT=26.2, PE=440.07),\n",
       " Row(AT=11.42, PE=479.23),\n",
       " Row(AT=27.05, PE=441.39),\n",
       " Row(AT=13.18, PE=470.88),\n",
       " Row(AT=23.55, PE=447.65),\n",
       " Row(AT=20.01, PE=457.01),\n",
       " Row(AT=27.09, PE=438.9),\n",
       " Row(AT=22.24, PE=451.95),\n",
       " Row(AT=18.2, PE=452.21),\n",
       " Row(AT=20.79, PE=456.01),\n",
       " Row(AT=24.01, PE=443.81),\n",
       " Row(AT=20.23, PE=445.82),\n",
       " Row(AT=25.32, PE=436.67),\n",
       " Row(AT=19.68, PE=456.89),\n",
       " Row(AT=28.59, PE=427.53),\n",
       " Row(AT=13.56, PE=459.76),\n",
       " Row(AT=27.27, PE=428.93),\n",
       " Row(AT=4.87, PE=482.05),\n",
       " Row(AT=10.05, PE=481.38),\n",
       " Row(AT=14.12, PE=468.45),\n",
       " Row(AT=21.98, PE=442.65),\n",
       " Row(AT=21.84, PE=450.25),\n",
       " Row(AT=29.72, PE=430.36),\n",
       " Row(AT=19.83, PE=463.72),\n",
       " Row(AT=31.07, PE=428.63),\n",
       " Row(AT=24.7, PE=444.65),\n",
       " Row(AT=14.39, PE=465.88),\n",
       " Row(AT=13.51, PE=465.89),\n",
       " Row(AT=17.72, PE=457.44),\n",
       " Row(AT=27.04, PE=431.1),\n",
       " Row(AT=31.11, PE=435.69),\n",
       " Row(AT=31.54, PE=427.31),\n",
       " Row(AT=14.66, PE=459.23),\n",
       " Row(AT=20.32, PE=443.59),\n",
       " Row(AT=26.41, PE=428.52),\n",
       " Row(AT=26.93, PE=437.58),\n",
       " Row(AT=18.91, PE=460.19),\n",
       " Row(AT=26.89, PE=435.56),\n",
       " Row(AT=10.61, PE=471.26),\n",
       " Row(AT=9.33, PE=478.43),\n",
       " Row(AT=15.28, PE=460.75),\n",
       " Row(AT=27.54, PE=450.22),\n",
       " Row(AT=13.97, PE=459.84),\n",
       " Row(AT=4.41, PE=488.36),\n",
       " Row(AT=25.39, PE=441.51),\n",
       " Row(AT=30.54, PE=435.46),\n",
       " Row(AT=26.45, PE=436.89),\n",
       " Row(AT=23.13, PE=438.8),\n",
       " Row(AT=10.93, PE=479.83),\n",
       " Row(AT=21.43, PE=448.51),\n",
       " Row(AT=26.33, PE=450.16),\n",
       " Row(AT=14.09, PE=468.09),\n",
       " Row(AT=21.36, PE=456.85),\n",
       " Row(AT=19.08, PE=458.94),\n",
       " Row(AT=28.98, PE=432.2),\n",
       " Row(AT=32.87, PE=433.1),\n",
       " Row(AT=13.16, PE=468.4),\n",
       " Row(AT=8.82, PE=481.44),\n",
       " Row(AT=27.33, PE=439.12),\n",
       " Row(AT=18.11, PE=454.29),\n",
       " Row(AT=16.47, PE=459.69),\n",
       " Row(AT=30.56, PE=429.2),\n",
       " Row(AT=16.7, PE=456.2),\n",
       " Row(AT=23.33, PE=436.33),\n",
       " Row(AT=26.12, PE=433.67),\n",
       " Row(AT=24.96, PE=442.36),\n",
       " Row(AT=15.34, PE=459.77),\n",
       " Row(AT=13.0, PE=477.71),\n",
       " Row(AT=18.95, PE=462.73),\n",
       " Row(AT=11.82, PE=475.61),\n",
       " Row(AT=18.62, PE=455.75),\n",
       " Row(AT=6.14, PE=485.94),\n",
       " Row(AT=8.76, PE=483.79),\n",
       " Row(AT=29.45, PE=438.11),\n",
       " Row(AT=23.43, PE=454.86),\n",
       " Row(AT=22.71, PE=441.24),\n",
       " Row(AT=21.08, PE=440.59),\n",
       " Row(AT=32.67, PE=425.75),\n",
       " Row(AT=16.98, PE=464.01),\n",
       " Row(AT=21.02, PE=448.08),\n",
       " Row(AT=8.03, PE=488.02),\n",
       " Row(AT=14.26, PE=462.87),\n",
       " Row(AT=19.21, PE=452.84),\n",
       " Row(AT=6.86, PE=487.49),\n",
       " Row(AT=23.11, PE=437.91),\n",
       " Row(AT=24.78, PE=436.62),\n",
       " Row(AT=25.62, PE=430.56),\n",
       " Row(AT=26.6, PE=436.19),\n",
       " Row(AT=29.97, PE=434.14),\n",
       " Row(AT=24.37, PE=440.22),\n",
       " Row(AT=24.32, PE=435.34),\n",
       " Row(AT=28.75, PE=437.94),\n",
       " Row(AT=27.09, PE=438.9),\n",
       " Row(AT=2.64, PE=481.29),\n",
       " Row(AT=29.08, PE=442.78),\n",
       " Row(AT=28.45, PE=439.86),\n",
       " Row(AT=24.38, PE=454.85),\n",
       " Row(AT=6.62, PE=479.74),\n",
       " Row(AT=18.18, PE=451.14),\n",
       " Row(AT=26.45, PE=433.44),\n",
       " Row(AT=15.1, PE=466.14),\n",
       " Row(AT=12.51, PE=452.84),\n",
       " Row(AT=25.34, PE=443.94),\n",
       " Row(AT=24.41, PE=439.51),\n",
       " Row(AT=12.26, PE=471.13),\n",
       " Row(AT=21.09, PE=451.98),\n",
       " Row(AT=25.23, PE=441.48),\n",
       " Row(AT=17.51, PE=457.45),\n",
       " Row(AT=23.01, PE=445.72),\n",
       " Row(AT=5.67, PE=478.44),\n",
       " Row(AT=18.89, PE=450.0),\n",
       " Row(AT=18.41, PE=452.66),\n",
       " Row(AT=26.19, PE=440.13),\n",
       " Row(AT=18.21, PE=457.53),\n",
       " Row(AT=21.79, PE=446.94),\n",
       " Row(AT=24.38, PE=444.59),\n",
       " Row(AT=18.86, PE=452.0),\n",
       " Row(AT=19.24, PE=449.26),\n",
       " Row(AT=25.79, PE=440.75),\n",
       " Row(AT=27.55, PE=440.75),\n",
       " Row(AT=30.17, PE=430.3),\n",
       " Row(AT=17.34, PE=454.97),\n",
       " Row(AT=30.56, PE=442.24),\n",
       " Row(AT=26.85, PE=433.48),\n",
       " Row(AT=9.08, PE=477.26),\n",
       " Row(AT=20.19, PE=443.58),\n",
       " Row(AT=13.26, PE=472.17),\n",
       " Row(AT=13.77, PE=459.75),\n",
       " Row(AT=24.35, PE=448.19),\n",
       " Row(AT=24.18, PE=438.85),\n",
       " Row(AT=13.8, PE=471.7),\n",
       " Row(AT=23.82, PE=438.42),\n",
       " Row(AT=24.39, PE=442.04),\n",
       " Row(AT=7.3, PE=485.1),\n",
       " Row(AT=8.27, PE=479.16),\n",
       " Row(AT=7.25, PE=477.45),\n",
       " Row(AT=11.64, PE=479.53),\n",
       " Row(AT=19.27, PE=447.63),\n",
       " Row(AT=33.26, PE=429.38),\n",
       " Row(AT=20.14, PE=444.84),\n",
       " Row(AT=26.17, PE=434.56),\n",
       " Row(AT=23.87, PE=452.59),\n",
       " Row(AT=11.9, PE=477.75),\n",
       " Row(AT=17.2, PE=462.55),\n",
       " Row(AT=19.87, PE=451.14),\n",
       " Row(AT=13.61, PE=462.67),\n",
       " Row(AT=13.08, PE=474.81),\n",
       " Row(AT=22.1, PE=442.35),\n",
       " Row(AT=24.16, PE=459.27),\n",
       " Row(AT=23.2, PE=444.69),\n",
       " Row(AT=30.2, PE=436.17),\n",
       " Row(AT=14.64, PE=462.72),\n",
       " Row(AT=27.23, PE=443.78),\n",
       " Row(AT=18.15, PE=449.48),\n",
       " Row(AT=10.06, PE=476.92),\n",
       " Row(AT=31.92, PE=430.07),\n",
       " Row(AT=9.26, PE=483.51),\n",
       " Row(AT=23.49, PE=450.28),\n",
       " Row(AT=11.8, PE=466.52),\n",
       " Row(AT=22.55, PE=447.42),\n",
       " Row(AT=15.3, PE=463.7),\n",
       " Row(AT=9.84, PE=477.62),\n",
       " Row(AT=22.33, PE=436.74),\n",
       " Row(AT=20.6, PE=443.76),\n",
       " Row(AT=23.93, PE=440.66),\n",
       " Row(AT=7.09, PE=485.04),\n",
       " Row(AT=33.8, PE=427.28),\n",
       " Row(AT=12.55, PE=472.31),\n",
       " Row(AT=32.28, PE=433.42),\n",
       " Row(AT=19.45, PE=451.96),\n",
       " Row(AT=18.34, PE=457.17),\n",
       " Row(AT=29.43, PE=434.6),\n",
       " Row(AT=13.85, PE=471.45),\n",
       " Row(AT=10.8, PE=478.21),\n",
       " Row(AT=15.21, PE=464.08),\n",
       " Row(AT=20.85, PE=444.44),\n",
       " Row(AT=30.98, PE=432.99),\n",
       " Row(AT=20.92, PE=449.09),\n",
       " Row(AT=13.93, PE=470.39),\n",
       " Row(AT=20.96, PE=448.77),\n",
       " Row(AT=11.4, PE=465.79),\n",
       " Row(AT=7.87, PE=486.2),\n",
       " Row(AT=13.04, PE=464.91),\n",
       " Row(AT=29.3, PE=434.11),\n",
       " Row(AT=31.17, PE=428.94),\n",
       " Row(AT=10.34, PE=478.03),\n",
       " Row(AT=30.86, PE=433.71),\n",
       " Row(AT=8.44, PE=486.15),\n",
       " Row(AT=11.88, PE=465.47),\n",
       " Row(AT=22.35, PE=454.72),\n",
       " Row(AT=15.55, PE=466.2),\n",
       " Row(AT=30.49, PE=438.09),\n",
       " Row(AT=16.58, PE=463.51),\n",
       " Row(AT=5.71, PE=485.75),\n",
       " Row(AT=18.98, PE=453.37),\n",
       " Row(AT=24.82, PE=444.81),\n",
       " Row(AT=11.37, PE=480.54),\n",
       " Row(AT=18.68, PE=459.89),\n",
       " Row(AT=18.6, PE=453.94),\n",
       " Row(AT=14.1, PE=468.22),\n",
       " Row(AT=20.27, PE=454.29),\n",
       " Row(AT=13.8, PE=471.7),\n",
       " Row(AT=12.74, PE=475.63),\n",
       " Row(AT=26.45, PE=433.16),\n",
       " Row(AT=7.32, PE=482.1),\n",
       " Row(AT=29.7, PE=436.29),\n",
       " Row(AT=12.19, PE=475.36),\n",
       " Row(AT=11.8, PE=470.57)]"
      ]
     },
     "execution_count": 47,
     "metadata": {
      "tags": []
     },
     "output_type": "execute_result"
    }
   ],
   "source": [
    "x_y"
   ]
  },
  {
   "cell_type": "code",
   "execution_count": null,
   "metadata": {
    "id": "-S1fgrDGuklB"
   },
   "outputs": [],
   "source": [
    "x_y_DF = pd.DataFrame(x_y, columns=['AT', 'PE'])"
   ]
  },
  {
   "cell_type": "code",
   "execution_count": null,
   "metadata": {
    "colab": {
     "base_uri": "https://localhost:8080/",
     "height": 363
    },
    "id": "2Ls0C2azutyV",
    "outputId": "4cf2db23-d5cf-48cd-b22d-3999bb013b6f"
   },
   "outputs": [
    {
     "data": {
      "text/html": [
       "<div>\n",
       "<style scoped>\n",
       "    .dataframe tbody tr th:only-of-type {\n",
       "        vertical-align: middle;\n",
       "    }\n",
       "\n",
       "    .dataframe tbody tr th {\n",
       "        vertical-align: top;\n",
       "    }\n",
       "\n",
       "    .dataframe thead th {\n",
       "        text-align: right;\n",
       "    }\n",
       "</style>\n",
       "<table border=\"1\" class=\"dataframe\">\n",
       "  <thead>\n",
       "    <tr style=\"text-align: right;\">\n",
       "      <th></th>\n",
       "      <th>AT</th>\n",
       "      <th>PE</th>\n",
       "    </tr>\n",
       "  </thead>\n",
       "  <tbody>\n",
       "    <tr>\n",
       "      <th>0</th>\n",
       "      <td>8.87</td>\n",
       "      <td>477.97</td>\n",
       "    </tr>\n",
       "    <tr>\n",
       "      <th>1</th>\n",
       "      <td>6.15</td>\n",
       "      <td>494.30</td>\n",
       "    </tr>\n",
       "    <tr>\n",
       "      <th>2</th>\n",
       "      <td>21.61</td>\n",
       "      <td>449.11</td>\n",
       "    </tr>\n",
       "    <tr>\n",
       "      <th>3</th>\n",
       "      <td>15.75</td>\n",
       "      <td>468.60</td>\n",
       "    </tr>\n",
       "    <tr>\n",
       "      <th>4</th>\n",
       "      <td>28.80</td>\n",
       "      <td>426.87</td>\n",
       "    </tr>\n",
       "    <tr>\n",
       "      <th>5</th>\n",
       "      <td>28.78</td>\n",
       "      <td>439.74</td>\n",
       "    </tr>\n",
       "    <tr>\n",
       "      <th>6</th>\n",
       "      <td>11.67</td>\n",
       "      <td>475.07</td>\n",
       "    </tr>\n",
       "    <tr>\n",
       "      <th>7</th>\n",
       "      <td>22.92</td>\n",
       "      <td>447.48</td>\n",
       "    </tr>\n",
       "    <tr>\n",
       "      <th>8</th>\n",
       "      <td>10.11</td>\n",
       "      <td>479.83</td>\n",
       "    </tr>\n",
       "    <tr>\n",
       "      <th>9</th>\n",
       "      <td>30.27</td>\n",
       "      <td>435.67</td>\n",
       "    </tr>\n",
       "  </tbody>\n",
       "</table>\n",
       "</div>"
      ],
      "text/plain": [
       "      AT      PE\n",
       "0   8.87  477.97\n",
       "1   6.15  494.30\n",
       "2  21.61  449.11\n",
       "3  15.75  468.60\n",
       "4  28.80  426.87\n",
       "5  28.78  439.74\n",
       "6  11.67  475.07\n",
       "7  22.92  447.48\n",
       "8  10.11  479.83\n",
       "9  30.27  435.67"
      ]
     },
     "execution_count": 31,
     "metadata": {
      "tags": []
     },
     "output_type": "execute_result"
    }
   ],
   "source": [
    "x_y_DF.head(10)"
   ]
  },
  {
   "cell_type": "code",
   "execution_count": null,
   "metadata": {
    "colab": {
     "base_uri": "https://localhost:8080/",
     "height": 295
    },
    "id": "MHROaWMUthtm",
    "outputId": "5e94d69a-4390-43ca-99b9-e9bee8188b1f"
   },
   "outputs": [
    {
     "data": {
      "image/png": "[encoded data removed]",
      "text/plain": [
       "<Figure size 432x288 with 1 Axes>"
      ]
     },
     "metadata": {
      "needs_background": "light",
      "tags": []
     },
     "output_type": "display_data"
    }
   ],
   "source": [
    "# creamos un gráfico tipo scatterplot\r\n",
    "plt.scatter(x = x_y_DF['PE'],\r\n",
    "            y = x_y_DF['AT'])\r\n",
    "plt.xlabel(\"Potencia\")\r\n",
    "plt.ylabel(\"Temperatura\")\r\n",
    "plt.title(\"Dispersión temperatura VS potencia\")\r\n",
    "plt.show()"
   ]
  },
  {
   "cell_type": "markdown",
   "metadata": {
    "id": "TABQ8mjVw9ID"
   },
   "source": [
    "### Ejercicio 3(b)\r\n",
    "\r\n",
    "Repitiendo el proceso anterior, usa una sentencia SQL para crear un gráfico de dispersión entre las variables Power (PE) y Exhaust Vacuum Speed (V)."
   ]
  },
  {
   "cell_type": "code",
   "execution_count": null,
   "metadata": {
    "colab": {
     "base_uri": "https://localhost:8080/",
     "height": 295
    },
    "id": "CintSFUtw9vm",
    "outputId": "dda6b835-8615-4439-8d6a-1f0d5455fd70"
   },
   "outputs": [
    {
     "data": {
      "image/png": "[encoded data removed]",
      "text/plain": [
       "<Figure size 432x288 with 1 Axes>"
      ]
     },
     "metadata": {
      "needs_background": "light",
      "tags": []
     },
     "output_type": "display_data"
    }
   ],
   "source": [
    "x_y_vacuum=sqlContext.sql('SELECT PE, V FROM power_plant').orderBy(rand()).limit(1000).collect()\r\n",
    "x_y_DF_vacuum = pd.DataFrame(x_y_vacuum, columns=['PE', 'V']);\r\n",
    "\r\n",
    "plt.scatter(x=x_y_DF_vacuum['PE'], \r\n",
    "            y=x_y_DF_vacuum['V'])\r\n",
    "plt.xlabel(\"Potencia\")\r\n",
    "plt.ylabel(\"Exhaust Vacuum Speed\")\r\n",
    "plt.title(\"Dispersión potencia vs exhaust vacuum speed\")\r\n",
    "#OPCIONES DE MATPLOTLIB - Titulo, x-y-label...\r\n",
    "plt.show()"
   ]
  },
  {
   "cell_type": "markdown",
   "metadata": {
    "id": "CAtDEVTo1ru0"
   },
   "source": [
    "Ahora vamos a repetir este ejercicio con el resto de variables y la etiqueta Power Output.\r\n",
    "\r\n",
    "### Ejercicio 3(c)\r\n",
    "\r\n",
    "Usa una sentencia SQL para crear un gráfico de dispersión entre las variables Power (PE) y Pressure (AP)."
   ]
  },
  {
   "cell_type": "code",
   "execution_count": null,
   "metadata": {
    "colab": {
     "base_uri": "https://localhost:8080/",
     "height": 295
    },
    "id": "9s1irroA1uio",
    "outputId": "9d942ac0-c156-490f-aa02-19719438f756"
   },
   "outputs": [
    {
     "data": {
      "image/png": "[encoded data removed]",
      "text/plain": [
       "<Figure size 432x288 with 1 Axes>"
      ]
     },
     "metadata": {
      "needs_background": "light",
      "tags": []
     },
     "output_type": "display_data"
    }
   ],
   "source": [
    "x_y_pressure=sqlContext.sql('SELECT PE, AP FROM power_plant').orderBy(rand()).limit(1000).collect()\r\n",
    "x_y_DF_pressure = pd.DataFrame(x_y_pressure, columns=['PE', 'AP']);\r\n",
    "\r\n",
    "plt.scatter(x=x_y_DF_pressure['PE'], \r\n",
    "            y=x_y_DF_pressure['AP'])\r\n",
    "plt.xlabel(\"Potencia\")\r\n",
    "plt.ylabel(\"Presión\")\r\n",
    "plt.title(\"Dispersión potencia vs presión\")\r\n",
    "#OPCIONES DE MATPLOTLIB - Titulo, x-y-label...\r\n",
    "plt.show()"
   ]
  },
  {
   "cell_type": "markdown",
   "metadata": {
    "id": "Godaz0Q6xGh7"
   },
   "source": [
    "### Ejercicio 3(d)\r\n",
    "\r\n",
    "Usa una sentencia SQL para crear un gráfico de dispersión entre las variables Power (PE) y Humidity (RH)."
   ]
  },
  {
   "cell_type": "code",
   "execution_count": null,
   "metadata": {
    "colab": {
     "base_uri": "https://localhost:8080/",
     "height": 295
    },
    "id": "zRZ4U1QlxHWq",
    "outputId": "bf4ce6b7-e693-489f-9468-272515f64476"
   },
   "outputs": [
    {
     "data": {
      "image/png": "[encoded data removed]",
      "text/plain": [
       "<Figure size 432x288 with 1 Axes>"
      ]
     },
     "metadata": {
      "needs_background": "light",
      "tags": []
     },
     "output_type": "display_data"
    }
   ],
   "source": [
    "x_y_humidity=sqlContext.sql('SELECT PE, RH FROM power_plant').orderBy(rand()).limit(1000).collect()\r\n",
    "x_y_DF_humidity = pd.DataFrame(x_y_humidity, columns=['PE', 'RH']);\r\n",
    "\r\n",
    "plt.scatter(x=x_y_DF_humidity['PE'], \r\n",
    "            y=x_y_DF_humidity['RH'])\r\n",
    "plt.xlabel(\"Potencia\")\r\n",
    "plt.ylabel(\"Humedad\")\r\n",
    "plt.title(\"Dispersión potencia vs humedad\")\r\n",
    "#OPCIONES DE MATPLOTLIB - Titulo, x-y-label...\r\n",
    "plt.show()"
   ]
  },
  {
   "cell_type": "markdown",
   "metadata": {
    "id": "qhlLtyxbiKFu"
   },
   "source": [
    "## Parte 4: Preparación de los datos\r\n",
    "\r\n",
    "El siguiente paso es preparar los datos para aplicar la regresión. Dado que todo el dataset es numérico y consistente, esta será una tarea sencilla y directa.\r\n",
    "\r\n",
    "El objetivo es utilizar el método de regresión para determinar una función que nos de la potencia de salida como una función de un conjunto de características de predicción. El primer paso en la construcción de nuestra regresión es convertir las características de predicción de nuestro DataFrame a un vector de características utilizando el método [pyspark.ml.feature.VectorAssembler()](https://spark.apache.org/docs/latest/api/python/pyspark.ml.html#pyspark.ml.feature.VectorAssembler).\r\n",
    "\r\n",
    "El VectorAssembler es una transformación que combina una lista dada de columnas en un único vector. Esta transformación es muy útil cuando queremos combinar características en crudo de los datos con otras generadas al aplicar diferentes funciones sobre los datos en un único vector de características. Para integrar en un único vector toda esta información antes de ejecutar un algoritmo de aprendizaje automático, el VectorAssembler toma una lista con los nombres de las columnas de entrada (lista de strings) y el nombre de la columna de salida (string)."
   ]
  },
  {
   "cell_type": "markdown",
   "metadata": {
    "id": "nSCUNERKjth1"
   },
   "source": [
    "============\r\n",
    "### Ejercicio 4\r\n",
    "\r\n",
    "- Leer la documentación y los ejemplos de uso de [VectorAssembler](https://spark.apache.org/docs/latest/ml-features.html#vectorassembler)\r\n",
    "- Convertir la tabla SQL `power_plant` en un `dataset` llamado datasetDF\r\n",
    "- Establecer las columnas de entrada del VectorAssember: `[\"AT\", \"V\", \"AP\", \"RH\"]`\r\n",
    "- Establecer la columnas de salida como `\"features\"`"
   ]
  },
  {
   "cell_type": "markdown",
   "metadata": {
    "id": "se2FaprEpbOv"
   },
   "source": [
    "En entorno **BATCH** podemos utilizar tanto Scikit-Learn con dataframe de Pandas o seguir con SparkML o MLlib (esta práctica utilizaremos ML de Spark).\r\n",
    "\r\n",
    "NOTA: En **STREAMING**, siempre es aconsejable utilizar ML en streaming (Spark Streaming ML, Apache Mahout, MLflow...) mejor no utilizar scikit-Learn"
   ]
  },
  {
   "cell_type": "code",
   "execution_count": null,
   "metadata": {
    "id": "2-E9wzc8o1eY"
   },
   "outputs": [],
   "source": [
    "# creamos el dataset para vectorizarlo\r\n",
    "from pyspark.ml.feature import VectorAssembler\r\n",
    "\r\n",
    "datasetDF = sqlContext.table('power_plant')\r\n",
    "\r\n",
    "vectorizer = VectorAssembler()"
   ]
  },
  {
   "cell_type": "code",
   "execution_count": null,
   "metadata": {
    "colab": {
     "base_uri": "https://localhost:8080/"
    },
    "id": "Ci2UYZxZqr7l",
    "outputId": "f21ea4b3-7af8-42db-ec40-752f21343c41"
   },
   "outputs": [
    {
     "data": {
      "text/plain": [
       "VectorAssembler_34eac896581d"
      ]
     },
     "execution_count": 37,
     "metadata": {
      "tags": []
     },
     "output_type": "execute_result"
    }
   ],
   "source": [
    "# Creamos las columnas INPUT\r\n",
    "vectorizer.setInputCols(['AT','V','AP','RH'])\r\n",
    "vectorizer.setOutputCol('features')"
   ]
  },
  {
   "cell_type": "code",
   "execution_count": null,
   "metadata": {
    "colab": {
     "base_uri": "https://localhost:8080/"
    },
    "id": "g3y8_CNorrQa",
    "outputId": "66c83682-3fa3-4624-bac4-2fd8f271cdfc"
   },
   "outputs": [
    {
     "data": {
      "text/plain": [
       "DenseVector([14.96, 41.76, 1024.07, 73.17])"
      ]
     },
     "execution_count": 39,
     "metadata": {
      "tags": []
     },
     "output_type": "execute_result"
    }
   ],
   "source": [
    "# aplicamos el vectorizer al dataframe\r\n",
    "vectorizer.transform(datasetDF).head().features"
   ]
  },
  {
   "cell_type": "markdown",
   "metadata": {
    "id": "wU5iwpIXtWID"
   },
   "source": [
    "## Parte 5: Modelar los datos\r\n",
    "\r\n",
    "Ahora vamos a modelar nuestros datos para predecir que potencia de salida se dara cuando tenemos una serie de lecturas de los sensores\r\n",
    "\r\n",
    "La API de [Apache Spark MLlib](https://spark.apache.org/docs/latest/api/python/pyspark.ml.html#module-pyspark.ml) ofrece diferentes implementaciones de técnicas de regresion para modelar datasets. Ene ste ejercicio vamos a modelar nuestros datos para predecir que potencia de salida se dara cuando tenemos una serie de lecturas de los sensores basándonos en una simple regresion lineal ya que vimos algunos patrones lineales en nuestros datos en los graficos de dispersion durante la etapa de exploracion.\r\n",
    "\r\n",
    "Necesitamos una forma de evaluar como de bien nuestro modelo de [regresion lineal](https://spark.apache.org/docs/latest/api/python/pyspark.ml.html#pyspark.ml.regression.LinearRegression) predice la produccion de potencia en funcion de parametros de entrada. Podemos hacer esto mediante la division de nuestros datos iniciales establecidos en un _Training set_ utilizado para entrenar a nuestro modelo y un _Test set_ utilizado para evaluar el rendimiento de nuestro modelo. Podemos usar el metodo nativo de los DataFrames [randomSplit()](https://spark.apache.org/docs/latest/api/python/pyspark.sql.html#pyspark.sql.DataFrame.randomSplit) para dividir nuestro dataset. El metodo toma una lista de pesos y una semilla aleatoria opcional. La semilla se utiliza para inicializar el generador de numeros aleatorios utilizado por la funcion de division.\r\n",
    "\r\n",
    "NOTA: Animamos a los alumnos a explorar las diferentes técnicas de regresión disponibles en la [API ML de Spark](https://spark.apache.org/docs/latest/api/python/pyspark.ml.html#module-pyspark.ml.classification)"
   ]
  },
  {
   "cell_type": "markdown",
   "metadata": {
    "id": "774WV1xhtjev"
   },
   "source": [
    "================================================================================\r\n",
    "### Ejercicio 5(a)\r\n",
    "\r\n",
    "Utiliza el método [randomSplit()](https://spark.apache.org/docs/latest/api/python/pyspark.sql.html#pyspark.sql.DataFrame.randomSplit) para dividir `datasetDF` en trainingSetDF (80% del DataFrame de entrada) y testSetDF (20% del DataFrame de entrada), para poder reproducir siempre el mismo resultado, usar la semilla 1800009193. Finalmente, cachea (cache()) cada datafrane en memoria para maximizar el rendimiento."
   ]
  },
  {
   "cell_type": "code",
   "execution_count": null,
   "metadata": {
    "id": "yG6chR4ytnNb"
   },
   "outputs": [],
   "source": [
    "=seed)"
   ]
  },
  {
   "cell_type": "markdown",
   "metadata": {
    "id": "P4dqkSdRx3wZ"
   },
   "source": [
    "A continuacion vamos a crear un modelo de regresion lineal y utilizar su ayda para entender como entrenarlo. Ver la API de [Linear Regression](https://spark.apache.org/docs/latest/api/python/pyspark.ml.html#pyspark.ml.regression.LinearRegression) para mas detalles.\r\n",
    "\r\n",
    "### Ejercicio 5(b)\r\n",
    "\r\n",
    "- Lee la documentacion y los ejemplos de [Linear Regression](https://spark.apache.org/docs/latest/ml-classification-regression.html#linear-regression)\r\n",
    "- Ejecuta la siguiente celda"
   ]
  },
  {
   "cell_type": "markdown",
   "metadata": {
    "id": "H91E2HAU9X52"
   },
   "source": [
    "La siguiente celda esta basada en [Spark ML Pipeline API for Linear Regression](https://spark.apache.org/docs/latest/api/python/pyspark.ml.html#pyspark.ml.regression.LinearRegression).\r\n",
    "\r\n",
    "El primer paso es establecer los valores de los parametros siguientes:\r\n",
    "- Define el nombre de la columna a donde guardaremos la prediccion como \"Predicted_PE\"\r\n",
    "- Define el nombre de la columna que contiene la etiqueta como \"PE\"\r\n",
    "- Define el numero maximo de iteraciones a 100\r\n",
    "- Define el parametro de regularizacion a 0.1\r\n",
    "\r\n",
    "Ahora, crearemos el [ML Pipeline](https://spark.apache.org/docs/latest/api/python/pyspark.ml.html#pyspark.ml.Pipeline) (flujo de ejecucion) y estableceremos las fases del pipeline como vectorizar y posteriormente aplicar el regresor lineal que hemos definido.\r\n",
    "\r\n",
    "Finalmente, crearemos el modelo entrenandolo con el DataFrame `trainingSetDF`.\r\n",
    "\r\n",
    "### Ejercicio 5(c)\r\n",
    "\r\n",
    "- Lee la documentacion [Linear Regression](https://spark.apache.org/docs/latest/api/python/pyspark.ml.html#pyspark.ml.regression.LinearRegression) documentation\r\n",
    "- Completa y ejecuta la siguiente celda introduciendo los pará,etros descritos para nuestra regresion."
   ]
  },
  {
   "cell_type": "code",
   "execution_count": null,
   "metadata": {
    "colab": {
     "base_uri": "https://localhost:8080/"
    },
    "id": "M3S9sTPs9YnJ",
    "outputId": "3485d9ae-bb10-4b50-a0ab-c0a1751e942d"
   },
   "outputs": [
    {
     "data": {
      "text/plain": [
       "LinearRegression_76031609d751"
      ]
     },
     "execution_count": 47,
     "metadata": {
      "tags": []
     },
     "output_type": "execute_result"
    }
   ],
   "source": [
    "0.1)"
   ]
  },
  {
   "cell_type": "markdown",
   "metadata": {
    "id": "3Ecs5ylfO6F2"
   },
   "source": [
    "Del articulo de Wikipedia [Linear Regression](https://en.wikipedia.org/wiki/Linear_regression) podemos leer:\r\n",
    "> In statistics, linear regression is an approach for modeling the relationship between a scalar dependent variable \\\\( y \\\\) and one or more explanatory variables (or independent variables) denoted \\\\(X\\\\). In linear regression, the relationships are modeled using linear predictor functions whose unknown model parameters are estimated from the data. Such models are called linear models.\r\n",
    "\r\n",
    "Los modelos de regresion lineal tienen muchos usos practicos. La mayoria de los cuales se clasifican en de las siguientes dos categorias:\r\n",
    "- Si el objetivo es la prediccion o la reduccion de errores, la regresion lineal puede utilizarse para adaptar un modelo predictivo a un conjunto de datos observados \\\\(y\\\\) y \\\\(X\\\\). Despues de desarrollar un modelo de este tipo, dado un cierto valor  \\\\( X\\\\) del que no conocemos su valor de \\\\(y \\\\), el modelo ajustado se puede utilizarse para hacer una prediccion del valor del posible valor \\\\(y \\\\).\r\n",
    "- Dada una variable \\\\(y\\\\) y un numero de variables \\\\( X_1 \\\\), ..., \\\\( X_p \\\\) que pueden estar relacionadas con \\\\(y\\\\), un analisis de regresion lineal puede ser aplicado a cuantificar como de fuerte es la relacion entre \\\\(y\\\\) y cada \\\\( X_j\\\\), para evaluar que \\\\( X_j \\\\) puede no tener ninguna relacion con \\\\(y\\\\), y de esta forma identificar que subconjuntos de \\\\( X_j \\\\) contienen informacion redundante sobre \\\\(y\\\\).\r\n",
    "\r\n",
    "Como estamos interesados en ambos usos, nos gustaria para predecir la potencia de salida en funcion de las variables de entrada, y nos gustaria saber cuales de las variables de entrada estan debilmente o fuertemente correlacionadas con la potencia de salida.\r\n",
    "\r\n",
    "Ya que una regresion lineal tan solo calcula la linea que minimiza el error cuadratico medio en el dataset de entrenamiento, dadas multiples dimensiones de entrada podemos expresar cada predictor como una funcion lineal en la forma:\r\n",
    "\r\n",
    "\\\\[ y = a + b x_1 + b x_2 + b x_i ... \\\\]\r\n",
    "\r\n",
    "donde \\\\(a\\\\) es el intercept (valor para el punto 0) y las \\\\(b\\\\) son los coeficientes.\r\n",
    "\r\n",
    "Para expresar los coeficientes de esa linea podemos recuperar la etapa del Estimador del Modelo del pipeline y de expresar los pesos y el intercept de la funcion.\r\n",
    "\r\n",
    "### Ejercicio 5(d)\r\n",
    "\r\n",
    "Ejecuta la celda siguiente y asegurate que entiendes lo que sucede."
   ]
  },
  {
   "cell_type": "code",
   "execution_count": null,
   "metadata": {
    "colab": {
     "base_uri": "https://localhost:8080/"
    },
    "id": "Vfw2dWLHS_as",
    "outputId": "b1eef0d4-ce24-4a0d-a811-60830735a310"
   },
   "outputs": [
    {
     "data": {
      "text/plain": [
       "LinearRegressionModel: uid=LinearRegression_76031609d751, numFeatures=4"
      ]
     },
     "execution_count": 56,
     "metadata": {
      "tags": []
     },
     "output_type": "execute_result"
    }
   ],
   "source": []
  },
  {
   "cell_type": "markdown",
   "metadata": {
    "id": "urBACmakXtIq"
   },
   "source": [
    "### PREGUNTA\r\n",
    "\r\n",
    "- Que obtenemos como resultado de esta ejecución?\r\n",
    "\r\n",
    "La ecuación devuelve nuestra observación meno el coeficiente positivo o negativo por cada uno de los atributos o variables indipendientes (predictores), cuanto más pequeños y se acerca a nuestra observación, el valor predicho es casi a cero, significa que la predicción se acerca a nuestra intercepta, cuando más lejano se encuentra (positivo o negativo), significa que el valor predicho se encuentra lejos a nivel de distancia de nuestra intercepta. Hay que examinar entre ellos los valores residuales, ya que valores muy ajustados produciría un **overfitting** y muy lejos **underfitting**."
   ]
  },
  {
   "cell_type": "markdown",
   "metadata": {
    "id": "tU88j44mbUiJ"
   },
   "source": [
    "***\r\n",
    "\r\n",
    "### Ejercicio 5(e)\r\n",
    "\r\n",
    "Ahora estudiaremos como se comportan nuestras predicciones en este modelo. Aplicamos nuestro modelo de regresion lineal para el 20% de los datos que hemos separado del conjunto de datos de entrada. La salida del modelo sera una columna de produccion de electricidad teorica llamada \"Predicted_PE\".\r\n",
    "\r\n",
    "- Ejecuta la siguiente celda\r\n",
    "- Desplazate por la tabla de resultados y observa como los valores de la columna de salida de corriente (PE) se comparan con los valores correspondientes en la salida de potencia predecida  (Predicted_PE)"
   ]
  },
  {
   "cell_type": "code",
   "execution_count": null,
   "metadata": {
    "colab": {
     "base_uri": "https://localhost:8080/",
     "height": 36
    },
    "id": "4qjzOU7fbVFa",
    "outputId": "227d271b-90dd-4add-ecef-3dc9f1ba6141"
   },
   "outputs": [
    {
     "data": {
      "text/plain": [
       "DataFrame[AT: double, V: double, AP: double, RH: double, PE: double, Predicted_PE: double]"
      ]
     },
     "metadata": {
      "tags": []
     },
     "output_type": "display_data"
    }
   ],
   "source": [
    "lDF)"
   ]
  },
  {
   "cell_type": "markdown",
   "metadata": {
    "id": "RuopUWaTdXj-"
   },
   "source": [
    "A partir de una inspección visual de las predicciones, podemos ver que están cerca de los valores reales.\r\n",
    "\r\n",
    "Sin embargo, nos gustaría disponer de una medida científica exacta de la bondad del modelo. Para realizar esta medición, podemos utilizar una métrica de evaluación como la [Error cuadrático medio](https://en.wikipedia.org/wiki/Root-mean-square_deviation) (RMSE) para validar nuestro modelo.\r\n",
    "\r\n",
    "RSME se define como: \\\\( RMSE = \\sqrt{\\frac{\\sum_{i = 1}^{n} (x_i - y_i)^2}{n}}\\\\) donde \\\\(y_i\\\\) es el valor observado \\\\(x_i\\\\) es el valor predicho\r\n",
    "\r\n",
    "RMSE es una medida muy habitual para calcular las diferencias entre los valores predichos por un modelo o un estimador y los valores realmente observados. Cuanto menor sea el RMSE, mejor será nuestro modelo.\r\n",
    "\r\n",
    "Spark ML Pipeline proporciona diferentes métricas para evaluar modelos de regresión, incluyendo [RegressionEvaluator()](https://spark.apache.org/docs/latest/api/python/pyspark.ml.html#pyspark.ml.evaluation.RegressionEvaluator).\r\n",
    "\r\n",
    "Después de crear una instancia de [RegressionEvaluator](https://spark.apache.org/docs/latest/api/python/pyspark.ml.html#pyspark.ml.evaluation.RegressionEvaluator), fijaremos el nombre de la columna objetivo \"PE\" y  el nombre de la columna de predicción a \"Predicted_PE\". A continuación, invocaremos el evaluador en las predicciones.\r\n",
    "\r\n",
    "### Ejercicio 5(f)\r\n",
    "Completa y ejecuta la celda siguiente:"
   ]
  },
  {
   "cell_type": "code",
   "execution_count": null,
   "metadata": {
    "id": "2orr8v-XdYZt"
   },
   "outputs": [],
   "source": [
    "se\"\r\n",
    ")"
   ]
  },
  {
   "cell_type": "markdown",
   "metadata": {
    "id": "ygtvoTHZfGmA"
   },
   "source": [
    "Otra medida de evaluación estadística muy útil es el coeficiente de determinación, que se denota \\\\(R ^ 2 \\\\) o \\\\(r ^ 2\\\\) y pronunciado \"R cuadrado\". Es un número que indica la proporción de la variación en la variable dependiente que es predecible a partir de las variables independientes y proporciona una medida de lo bien que los resultados observados son replicados por el modelo, basado en la proporción de la variación total de los resultados explicada por el modelo. El coeficiente de determinación va de 0 a 1 (más cerca de 1), y cuanto mayor sea el valor, mejor es nuestro modelo.\r\n",
    "\r\n",
    "\r\n",
    "Para calcular \\\\(r^2\\\\), hemos de ejecutar el evaluador `regEval.metricName: \"r2\"`\r\n",
    "\r\n",
    "Vamos a calcularlo ejecutando la celda siguiente."
   ]
  },
  {
   "cell_type": "code",
   "execution_count": null,
   "metadata": {
    "colab": {
     "base_uri": "https://localhost:8080/"
    },
    "id": "0keav9vvfHDf",
    "outputId": "ac9f2073-1309-4ffb-9b03-de50ada673c8"
   },
   "outputs": [
    {
     "name": "stdout",
     "output_type": "stream",
     "text": [
      "r2: 0.93\n"
     ]
    }
   ],
   "source": [
    "2))"
   ]
  },
  {
   "cell_type": "markdown",
   "metadata": {
    "id": "4Zpp39l_ffkZ"
   },
   "source": [
    "- Que resultado de \\\\(r^2\\\\) hemos obtenido? A partir de dicho parametro, crees que el modelo calculado se ajusta bien a los datos?\n",
    "\n",
    "### RESPUESTA\n",
    "El R2 indica la proporción de la varianza entre la variable dependiente y los atributos indipendientes. Al variar entre 0 y 1 cuanto más cercano esté al 1 es mejor, que corresponde al 100% es decir 1. En este caso tenemos 0.93, al parecer es un buen indicador.\n",
    "\n",
    "***\n",
    "\n",
    "***\r\n"
   ]
  },
  {
   "cell_type": "markdown",
   "metadata": {
    "id": "MEiTPpgKge0F"
   },
   "source": [
    "En general, suponiendo una distribución Gaussiana de errores, un buen modelo tendrá 68% de las predicciones dentro de 1 RMSE y 95% dentro de 2 RMSE del valor real (ver http://statweb.stanford.edu/~susan/courses/s60/split/node60.html).\r\n",
    "\r\n",
    "Vamos a examinar las predicciones y ver si un RMSE como el obtenido cumple este criterio.\r\n",
    "\r\n",
    "Crearemos un nuevo DataFrame usando [selectExpr()](https://spark.apache.org/docs/latest/api/python/pyspark.sql.html#pyspark.sql.DataFrame.selectExpr) para generar un conjunto de expresiones SQL, y registrar el DataFrame como una tabla de SQL utilizando [registerTempTable()](https://spark.apache.org/docs/latest/api/python/pyspark.sql.html#pyspark.sql.DataFrame.registerTempTable).\r\n",
    "\r\n",
    "### Ejercicio 5(g)\r\n",
    "\r\n",
    "Ejecuta la celda siguiente y asegúrate que entiendes lo que sucede."
   ]
  },
  {
   "cell_type": "code",
   "execution_count": null,
   "metadata": {
    "id": "k6YAO4kVgff4"
   },
   "outputs": [],
   "source": [
    "on\")"
   ]
  },
  {
   "cell_type": "markdown",
   "metadata": {
    "id": "XC-n-2JQgzO-"
   },
   "source": [
    "Podemos utilizar sentencias SQL para explorar la tabla `Power_Plant_RMSE_Evaluation`. En primer lugar vamos a ver qué datos en la tabla utilizando una sentencia SELECT de SQL.\r\n",
    "\r\n",
    "Completa la siguiente consulta para que devuelva los elementos de la tabla `Power_Plant_RMSE_Evaluation` y muestra algunos por pantalla con la acción show()."
   ]
  },
  {
   "cell_type": "markdown",
   "metadata": {
    "id": "0GCUt45aiuln"
   },
   "source": [
    "## TAREA PARA CASA - parte 1\r\n",
    "\r\n",
    "## Responde las siguientes preguntas\r\n",
    "- ¿A partir de los resultados del ejercicio 5, te parece que el modelo ajusta bien los datos?\r\n",
    "- ¿Qué otras técnicas de regresión usaríais a partir del análisis de datos del apartado 3? ¿Estan todas disponibles en Spark? ¿Y si no es el caso, qué otros librarias y herramientas de Machine Learning podriamos usar?\r\n",
    "\r\n"
   ]
  },
  {
   "cell_type": "markdown",
   "metadata": {
    "id": "A6gJchfqhruC"
   },
   "source": [
    "### Ejercicio 5(h)Mostrad el RMSE como un histograma.\r\n",
    "https://matplotlib.org/3.1.1/api/_as_gen/matplotlib.pyplot.hist.htmlPuedes jugar con los diferentes parámetros del histograma como el numero de 'bins' o el parámetro densidad, que cambia entre el 'contaje' de elementos en cada bin o la normalización para que el area del histograma sea 1.\r\n",
    "De forma similar al ejercicio 3, toma una muestra aleatoria de 2000 elementos y haz un collect para hacer el plot."
   ]
  },
  {
   "cell_type": "code",
   "execution_count": null,
   "metadata": {
    "id": "kJs1-HtNh2IG"
   },
   "outputs": [],
   "source": [
    "import numpy as np\r\n",
    "df_x=sqlContext.sql(<FILL_IN>)\r\n",
    "\r\n",
    "#MATPLOTLIB \r\n",
    "#LO PODÉIS MODIFICAR PARA QUE PODÁIS MOSTRAR LA DISTRIBUCIÓN EN HISTOGRAMA DE RSME\r\n",
    "#ESTO ES SOLO UNA BASE, PERO HAY MANERAS DIFERENTES\r\n",
    "\r\n",
    "x = pd.DataFrame(<FILL_IN>).to_numpy()\r\n",
    "\r\n",
    "num_bins=<FILL_IN>\r\n",
    "\r\n",
    "plt.hist(<FILL_IN>)\r\n",
    "plt.show()"
   ]
  },
  {
   "cell_type": "markdown",
   "metadata": {
    "id": "zB8wqOzxiAHb"
   },
   "source": [
    "Observa que el histograma deberia mostrar claramente que el RMSE se centra alrededor de 0 con la gran mayoría de errores dentro de 2 RMSE.\r\n",
    "\r\n",
    "Usando una instrucción SELECT de SQL un poco más compleja, podemos contar el número de predicciones dentro de + o - 1,0 y + o - 2,0.\r\n",
    "\r\n",
    "Cuantas predicciones estan dentro de cada uno de los intervalos (+-1 RSME, +-2RSME y más allá)? Completad la parte de código que falta para poder averiguarlo."
   ]
  },
  {
   "cell_type": "markdown",
   "metadata": {
    "id": "Ir_ZqGlwiDo3"
   },
   "source": [
    "- ¿Cuantas predicciones estan a 1 RMSE como máximo de los valores reales?\r\n",
    "- ¿Y cuantas predicciones estan a 2 RMSE como máximo de los valores reales?"
   ]
  },
  {
   "cell_type": "markdown",
   "metadata": {
    "id": "V-MvBB-giFSJ"
   },
   "source": [
    "## Responde las siguientes preguntas\r\n",
    "1. ¿A partir de los resultados del ejercicio 5, te parece que el modelo ajusta bien los datos?\r\n",
    "2. ¿Qué otras técnicas de regresión usaríais a partir del análisis de datos del apartado 3? ¿Estan todas disponibles en Spark? ¿Y si no es el caso, qué otros librarias y herramientas de Machine Learning podriamos usar?\r\n",
    "3. Investigad el modelo **LinearRegression** y observad los resultados al cambiar el resto de parámetros\r\n",
    "4. Pueden ir investigando el resto de estimadores y observar y comparar los resultados"
   ]
  }
 ],
 "metadata": {
  "colab": {
   "collapsed_sections": [],
   "name": "02_Spark_Standalone_en_Google_Colab_022021_SparkML",
   "provenance": []
  },
  "kernelspec": {
   "display_name": "Python 3",
   "language": "python",
   "name": "python3"
  },
  "language_info": {
   "codemirror_mode": {
    "name": "ipython",
    "version": 3
   },
   "file_extension": ".py",
   "mimetype": "text/x-python",
   "name": "python",
   "nbconvert_exporter": "python",
   "pygments_lexer": "ipython3",
   "version": "3.8.6"
  }
 },
 "nbformat": 4,
 "nbformat_minor": 4
}
