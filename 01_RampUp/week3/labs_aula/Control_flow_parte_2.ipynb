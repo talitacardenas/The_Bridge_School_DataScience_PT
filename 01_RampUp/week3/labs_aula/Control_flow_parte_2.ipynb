{
  "nbformat": 4,
  "nbformat_minor": 0,
  "metadata": {
    "colab": {
      "name": "Control_flow_parte_2",
      "provenance": [],
      "collapsed_sections": []
    },
    "kernelspec": {
      "name": "python3",
      "display_name": "Python 3"
    },
    "language_info": {
      "name": "python"
    }
  },
  "cells": [
    {
      "cell_type": "code",
      "metadata": {
        "id": "oJL241WLnPSr"
      },
      "source": [
        "country_codes = {34:'Spain', 376:'Andorra', \n",
        "                 33:'France', 'Italy':39, 424:None}"
      ],
      "execution_count": 3,
      "outputs": []
    },
    {
      "cell_type": "code",
      "metadata": {
        "colab": {
          "base_uri": "https://localhost:8080/"
        },
        "id": "r0DMHPvVnmgo",
        "outputId": "ea18da2a-5e31-4c3c-b94c-63c71ec668aa"
      },
      "source": [
        "type(country_codes)"
      ],
      "execution_count": 4,
      "outputs": [
        {
          "output_type": "execute_result",
          "data": {
            "text/plain": [
              "dict"
            ]
          },
          "metadata": {
            "tags": []
          },
          "execution_count": 4
        }
      ]
    },
    {
      "cell_type": "code",
      "metadata": {
        "colab": {
          "base_uri": "https://localhost:8080/"
        },
        "id": "TZE1WuQwnoQc",
        "outputId": "40f10ecd-3f9e-4dbf-e9f5-e3be3ada9183"
      },
      "source": [
        "# Buscamos por valores o key o clave o párametro\n",
        "for country_code in country_codes:\n",
        "  print(country_code)"
      ],
      "execution_count": 5,
      "outputs": [
        {
          "output_type": "stream",
          "text": [
            "34\n",
            "376\n",
            "33\n",
            "Italy\n",
            "424\n"
          ],
          "name": "stdout"
        }
      ]
    },
    {
      "cell_type": "code",
      "metadata": {
        "colab": {
          "base_uri": "https://localhost:8080/"
        },
        "id": "sgfID4s9oc1f",
        "outputId": "cb551018-65cb-4ab0-c3cf-9178414241a1"
      },
      "source": [
        "country_codes.items() # devuelve n tuplas en una lista"
      ],
      "execution_count": 8,
      "outputs": [
        {
          "output_type": "execute_result",
          "data": {
            "text/plain": [
              "dict_items([(34, 'Spain'), (376, 'Andorra'), (33, 'France'), ('Italy', 39), (424, None)])"
            ]
          },
          "metadata": {
            "tags": []
          },
          "execution_count": 8
        }
      ]
    },
    {
      "cell_type": "code",
      "metadata": {
        "colab": {
          "base_uri": "https://localhost:8080/"
        },
        "id": "gJv03hcPovxQ",
        "outputId": "2cd6d048-46d9-4382-83e2-bfcab4b6d5dc"
      },
      "source": [
        "country_codes.keys() # devuelve una lista de keys"
      ],
      "execution_count": 9,
      "outputs": [
        {
          "output_type": "execute_result",
          "data": {
            "text/plain": [
              "dict_keys([34, 376, 33, 'Italy', 424])"
            ]
          },
          "metadata": {
            "tags": []
          },
          "execution_count": 9
        }
      ]
    },
    {
      "cell_type": "code",
      "metadata": {
        "colab": {
          "base_uri": "https://localhost:8080/"
        },
        "id": "HjZDrn83oyP5",
        "outputId": "27511604-1eb3-458b-9994-7c5b3281f2bc"
      },
      "source": [
        "country_codes.values()"
      ],
      "execution_count": 11,
      "outputs": [
        {
          "output_type": "execute_result",
          "data": {
            "text/plain": [
              "dict_values(['Spain', 'Andorra', 'France', 39, None])"
            ]
          },
          "metadata": {
            "tags": []
          },
          "execution_count": 11
        }
      ]
    },
    {
      "cell_type": "code",
      "metadata": {
        "colab": {
          "base_uri": "https://localhost:8080/"
        },
        "id": "cYjPgl4ToG50",
        "outputId": "09d5c843-aac8-466e-f7a1-578e13f999b9"
      },
      "source": [
        "# Pero la forma correcta sería:\n",
        "for code in country_codes.keys():\n",
        "  print(code)"
      ],
      "execution_count": 10,
      "outputs": [
        {
          "output_type": "stream",
          "text": [
            "34\n",
            "376\n",
            "33\n",
            "Italy\n",
            "424\n"
          ],
          "name": "stdout"
        }
      ]
    },
    {
      "cell_type": "code",
      "metadata": {
        "colab": {
          "base_uri": "https://localhost:8080/"
        },
        "id": "ujbD7aaeqWqx",
        "outputId": "1945e5fe-a496-4a16-acb2-deee3f444bdc"
      },
      "source": [
        "for value in country_codes.values():\n",
        "  print(value)"
      ],
      "execution_count": 12,
      "outputs": [
        {
          "output_type": "stream",
          "text": [
            "Spain\n",
            "Andorra\n",
            "France\n",
            "39\n",
            "None\n"
          ],
          "name": "stdout"
        }
      ]
    },
    {
      "cell_type": "code",
      "metadata": {
        "colab": {
          "base_uri": "https://localhost:8080/"
        },
        "id": "FYa1Yzuhqcue",
        "outputId": "0faf880b-dd56-4345-f1ac-6599eaafbb4f"
      },
      "source": [
        "for country_code, country in country_codes.items():\n",
        "  print(country_code, country)"
      ],
      "execution_count": 13,
      "outputs": [
        {
          "output_type": "stream",
          "text": [
            "34 Spain\n",
            "376 Andorra\n",
            "33 France\n",
            "Italy 39\n",
            "424 None\n"
          ],
          "name": "stdout"
        }
      ]
    },
    {
      "cell_type": "markdown",
      "metadata": {
        "id": "kKgjuO9lqvsu"
      },
      "source": [
        "***\n",
        "Evaluaciones de elementos"
      ]
    },
    {
      "cell_type": "code",
      "metadata": {
        "colab": {
          "base_uri": "https://localhost:8080/"
        },
        "id": "YSaX_DQqqx2w",
        "outputId": "321ed8e6-9599-4f2f-b96a-810a567f2d15"
      },
      "source": [
        "words = ['play', 'filling', 'bar', 'theatre', 'easygoing', 'date', 'lead', 'that', 'story',  'island']\n",
        "types = []\n",
        "for w in words:\n",
        "  print(w)"
      ],
      "execution_count": 15,
      "outputs": [
        {
          "output_type": "stream",
          "text": [
            "play\n",
            "filling\n",
            "bar\n",
            "theatre\n",
            "easygoing\n",
            "date\n",
            "lead\n",
            "that\n",
            "story\n",
            "island\n"
          ],
          "name": "stdout"
        }
      ]
    },
    {
      "cell_type": "code",
      "metadata": {
        "colab": {
          "base_uri": "https://localhost:8080/"
        },
        "id": "XyjWQk2lqofo",
        "outputId": "13962323-f533-4576-9bfb-3c38f790c027"
      },
      "source": [
        "# Realizamos una evaluación de cada elemento\n",
        "# Por ejemplo convertir en mayúscula\n",
        "for w in words:\n",
        "  print(w.upper())\n"
      ],
      "execution_count": 16,
      "outputs": [
        {
          "output_type": "stream",
          "text": [
            "PLAY\n",
            "FILLING\n",
            "BAR\n",
            "THEATRE\n",
            "EASYGOING\n",
            "DATE\n",
            "LEAD\n",
            "THAT\n",
            "STORY\n",
            "ISLAND\n"
          ],
          "name": "stdout"
        }
      ]
    },
    {
      "cell_type": "code",
      "metadata": {
        "colab": {
          "base_uri": "https://localhost:8080/"
        },
        "id": "KBfjVIRNria1",
        "outputId": "1dfb4750-fa2b-4f6d-88ba-d607d2bfe3ad"
      },
      "source": [
        "for w in words:\n",
        "  word_upper = w.upper()\n",
        "  types.append(word_upper)\n",
        "print(types) # utilizamos el print porque return es solo para las funciones"
      ],
      "execution_count": 21,
      "outputs": [
        {
          "output_type": "stream",
          "text": [
            "['PLAY', 'FILLING', 'BAR', 'THEATRE', 'EASYGOING', 'DATE', 'LEAD', 'THAT', 'STORY', 'ISLAND', 'PLAY', 'FILLING', 'BAR', 'THEATRE', 'EASYGOING', 'DATE', 'LEAD', 'THAT', 'STORY', 'ISLAND', 'PLAY', 'FILLING', 'BAR', 'THEATRE', 'EASYGOING', 'DATE', 'LEAD', 'THAT', 'STORY', 'ISLAND', 'PLAY', 'FILLING', 'BAR', 'THEATRE', 'EASYGOING', 'DATE', 'LEAD', 'THAT', 'STORY', 'ISLAND']\n"
          ],
          "name": "stdout"
        }
      ]
    },
    {
      "cell_type": "code",
      "metadata": {
        "id": "EZsR84XhrrBf"
      },
      "source": [
        "def uppercase(lista_objeto_de_palabras):\n",
        "  elementos = []\n",
        "  for w in lista_objeto_de_palabras:\n",
        "    word_upper = w.upper()\n",
        "    elementos.append(word_upper)\n",
        "  return elementos"
      ],
      "execution_count": 37,
      "outputs": []
    },
    {
      "cell_type": "code",
      "metadata": {
        "colab": {
          "base_uri": "https://localhost:8080/"
        },
        "id": "iTWNdKDjsg-7",
        "outputId": "d34b7ca0-dd18-465b-b9be-d23d665da324"
      },
      "source": [
        "uppercase(words)"
      ],
      "execution_count": 38,
      "outputs": [
        {
          "output_type": "execute_result",
          "data": {
            "text/plain": [
              "['PLAY',\n",
              " 'FILLING',\n",
              " 'BAR',\n",
              " 'THEATRE',\n",
              " 'EASYGOING',\n",
              " 'DATE',\n",
              " 'LEAD',\n",
              " 'THAT',\n",
              " 'STORY',\n",
              " 'ISLAND']"
            ]
          },
          "metadata": {
            "tags": []
          },
          "execution_count": 38
        }
      ]
    },
    {
      "cell_type": "code",
      "metadata": {
        "colab": {
          "base_uri": "https://localhost:8080/",
          "height": 174
        },
        "id": "CzjGsoXGssIa",
        "outputId": "439d303f-b370-4de7-f1ed-e7285a4a8a9a"
      },
      "source": [
        "elementos # no está definida porque la variables está declarada como local"
      ],
      "execution_count": 40,
      "outputs": [
        {
          "output_type": "error",
          "ename": "NameError",
          "evalue": "ignored",
          "traceback": [
            "\u001b[0;31m---------------------------------------------------------------------------\u001b[0m",
            "\u001b[0;31mNameError\u001b[0m                                 Traceback (most recent call last)",
            "\u001b[0;32m<ipython-input-40-9949ca4ccc56>\u001b[0m in \u001b[0;36m<module>\u001b[0;34m()\u001b[0m\n\u001b[0;32m----> 1\u001b[0;31m \u001b[0melementos\u001b[0m\u001b[0;34m\u001b[0m\u001b[0;34m\u001b[0m\u001b[0m\n\u001b[0m",
            "\u001b[0;31mNameError\u001b[0m: name 'elementos' is not defined"
          ]
        }
      ]
    },
    {
      "cell_type": "code",
      "metadata": {
        "colab": {
          "base_uri": "https://localhost:8080/"
        },
        "id": "Rn78iCS6tZZN",
        "outputId": "54929f7e-6e87-4186-f945-119a3233d56c"
      },
      "source": [
        "long_word = []\n",
        "for w in words:\n",
        "  if len(w) > 6: # realizamos una evaluación y guardamos resultado\n",
        "    long_word.append(w)\n",
        "    print(f\"{w} es una palabra larga\")\n",
        "  else:\n",
        "    print(f\"{w} es una palabra corta\")\n",
        "print(\"El listado de palabras largas es: \", long_word)"
      ],
      "execution_count": 45,
      "outputs": [
        {
          "output_type": "stream",
          "text": [
            "play es una palabra corta\n",
            "filling es una palabra larga\n",
            "bar es una palabra corta\n",
            "theatre es una palabra larga\n",
            "easygoing es una palabra larga\n",
            "date es una palabra corta\n",
            "lead es una palabra corta\n",
            "that es una palabra corta\n",
            "story es una palabra corta\n",
            "island es una palabra corta\n",
            "El listado de palabras largas es:  ['filling', 'theatre', 'easygoing']\n"
          ],
          "name": "stdout"
        }
      ]
    },
    {
      "cell_type": "code",
      "metadata": {
        "colab": {
          "base_uri": "https://localhost:8080/"
        },
        "id": "9mTeqtJOthQc",
        "outputId": "8e96f81f-92d2-4128-edec-68497415b81a"
      },
      "source": [
        "long_word"
      ],
      "execution_count": 42,
      "outputs": [
        {
          "output_type": "execute_result",
          "data": {
            "text/plain": [
              "['filling', 'theatre', 'easygoing']"
            ]
          },
          "metadata": {
            "tags": []
          },
          "execution_count": 42
        }
      ]
    },
    {
      "cell_type": "markdown",
      "metadata": {
        "id": "u4KkchF2vFa9"
      },
      "source": [
        "***\n",
        "Realizamos evaluación en un rango"
      ]
    },
    {
      "cell_type": "code",
      "metadata": {
        "id": "NCs0-dv0vI-r"
      },
      "source": [
        "def eval_rango():\n",
        "  for i in range(10):\n",
        "    print(i)\n",
        "  return"
      ],
      "execution_count": 65,
      "outputs": []
    },
    {
      "cell_type": "code",
      "metadata": {
        "colab": {
          "base_uri": "https://localhost:8080/"
        },
        "id": "Xf_U2nAiwCCT",
        "outputId": "b4973268-71b9-4b0a-ea5f-ff66ce5f7bff"
      },
      "source": [
        "eval_rango()"
      ],
      "execution_count": 66,
      "outputs": [
        {
          "output_type": "stream",
          "text": [
            "0\n",
            "1\n",
            "2\n",
            "3\n",
            "4\n",
            "5\n",
            "6\n",
            "7\n",
            "8\n",
            "9\n"
          ],
          "name": "stdout"
        }
      ]
    },
    {
      "cell_type": "markdown",
      "metadata": {
        "id": "jGF7kr6Wxskw"
      },
      "source": [
        "## Ahorrando memoria de cómputo porque en Python cada byte cuenta."
      ]
    },
    {
      "cell_type": "code",
      "metadata": {
        "colab": {
          "base_uri": "https://localhost:8080/"
        },
        "id": "VY_3usUnwvhR",
        "outputId": "56e3536e-edbf-4c54-d3de-aa186f0cd640"
      },
      "source": [
        "# Se realizará en 221 pasos (check en pythontutor)\n",
        "for i in range(100):\n",
        "  if i % 5 == 0:\n",
        "    print(i)"
      ],
      "execution_count": 67,
      "outputs": [
        {
          "output_type": "stream",
          "text": [
            "0\n",
            "5\n",
            "10\n",
            "15\n",
            "20\n",
            "25\n",
            "30\n",
            "35\n",
            "40\n",
            "45\n",
            "50\n",
            "55\n",
            "60\n",
            "65\n",
            "70\n",
            "75\n",
            "80\n",
            "85\n",
            "90\n",
            "95\n"
          ],
          "name": "stdout"
        }
      ]
    },
    {
      "cell_type": "code",
      "metadata": {
        "colab": {
          "base_uri": "https://localhost:8080/"
        },
        "id": "JNu1yJLjw40T",
        "outputId": "ff9b2857-f7e3-4741-8710-4c29c9387dc6"
      },
      "source": [
        "# Esta forma más corta nos ahorramos 100 pasos...\n",
        "[num for num in range(100) if num % 5 == 0]"
      ],
      "execution_count": 68,
      "outputs": [
        {
          "output_type": "execute_result",
          "data": {
            "text/plain": [
              "[0, 5, 10, 15, 20, 25, 30, 35, 40, 45, 50, 55, 60, 65, 70, 75, 80, 85, 90, 95]"
            ]
          },
          "metadata": {
            "tags": []
          },
          "execution_count": 68
        }
      ]
    },
    {
      "cell_type": "code",
      "metadata": {
        "colab": {
          "base_uri": "https://localhost:8080/"
        },
        "id": "gVngZ-eXxFsy",
        "outputId": "803ae2af-38e7-46c6-ae80-54248e1a9926"
      },
      "source": [
        "# for x in range(10):\n",
        "[7 for x in range(26)]"
      ],
      "execution_count": 79,
      "outputs": [
        {
          "output_type": "execute_result",
          "data": {
            "text/plain": [
              "[7, 7, 7, 7, 7, 7, 7, 7, 7, 7, 7, 7, 7, 7, 7, 7, 7, 7, 7, 7, 7, 7, 7, 7, 7, 7]"
            ]
          },
          "metadata": {
            "tags": []
          },
          "execution_count": 79
        }
      ]
    },
    {
      "cell_type": "code",
      "metadata": {
        "colab": {
          "base_uri": "https://localhost:8080/"
        },
        "id": "rF1T5bPQySKV",
        "outputId": "82ca6cfd-6496-4323-ba92-5d9dc70fa2d4"
      },
      "source": [
        "[x ** 2 for x in range(50)]"
      ],
      "execution_count": 72,
      "outputs": [
        {
          "output_type": "execute_result",
          "data": {
            "text/plain": [
              "[0,\n",
              " 1,\n",
              " 4,\n",
              " 9,\n",
              " 16,\n",
              " 25,\n",
              " 36,\n",
              " 49,\n",
              " 64,\n",
              " 81,\n",
              " 100,\n",
              " 121,\n",
              " 144,\n",
              " 169,\n",
              " 196,\n",
              " 225,\n",
              " 256,\n",
              " 289,\n",
              " 324,\n",
              " 361,\n",
              " 400,\n",
              " 441,\n",
              " 484,\n",
              " 529,\n",
              " 576,\n",
              " 625,\n",
              " 676,\n",
              " 729,\n",
              " 784,\n",
              " 841,\n",
              " 900,\n",
              " 961,\n",
              " 1024,\n",
              " 1089,\n",
              " 1156,\n",
              " 1225,\n",
              " 1296,\n",
              " 1369,\n",
              " 1444,\n",
              " 1521,\n",
              " 1600,\n",
              " 1681,\n",
              " 1764,\n",
              " 1849,\n",
              " 1936,\n",
              " 2025,\n",
              " 2116,\n",
              " 2209,\n",
              " 2304,\n",
              " 2401]"
            ]
          },
          "metadata": {
            "tags": []
          },
          "execution_count": 72
        }
      ]
    },
    {
      "cell_type": "code",
      "metadata": {
        "id": "gOmQA5r21sau"
      },
      "source": [
        "## Ejemplo de Evaluación multiple\n",
        "## Double list comprehensions\n",
        "countries = [\"Brasil\", \"Italy\", \"Morocco\", \"Spain\", \"France\"]\n",
        "friends = [\"Alice\", \"Bob\", \"Eve\", \"John\"]"
      ],
      "execution_count": 80,
      "outputs": []
    },
    {
      "cell_type": "code",
      "metadata": {
        "colab": {
          "base_uri": "https://localhost:8080/"
        },
        "id": "azBXNXnm3ztD",
        "outputId": "d3814c06-2f2c-473a-8bd5-ba794991ca66"
      },
      "source": [
        "%%timeit\n",
        "pairs = []\n",
        "for c in countries:\n",
        "  for f in friends:\n",
        "    pairs.append(f\"{f} loves {c}\")"
      ],
      "execution_count": 108,
      "outputs": [
        {
          "output_type": "stream",
          "text": [
            "100000 loops, best of 5: 3.64 µs per loop\n"
          ],
          "name": "stdout"
        }
      ]
    },
    {
      "cell_type": "code",
      "metadata": {
        "colab": {
          "base_uri": "https://localhost:8080/"
        },
        "id": "KZxPN8M64FXs",
        "outputId": "b7c95fde-25fa-4b06-a6df-45ff375ce484"
      },
      "source": [
        "pairs"
      ],
      "execution_count": 82,
      "outputs": [
        {
          "output_type": "execute_result",
          "data": {
            "text/plain": [
              "['Alice loves Brasil',\n",
              " 'Bob loves Brasil',\n",
              " 'Eve loves Brasil',\n",
              " 'John loves Brasil',\n",
              " 'Alice loves Italy',\n",
              " 'Bob loves Italy',\n",
              " 'Eve loves Italy',\n",
              " 'John loves Italy',\n",
              " 'Alice loves Morocco',\n",
              " 'Bob loves Morocco',\n",
              " 'Eve loves Morocco',\n",
              " 'John loves Morocco',\n",
              " 'Alice loves Spain',\n",
              " 'Bob loves Spain',\n",
              " 'Eve loves Spain',\n",
              " 'John loves Spain',\n",
              " 'Alice loves France',\n",
              " 'Bob loves France',\n",
              " 'Eve loves France',\n",
              " 'John loves France']"
            ]
          },
          "metadata": {
            "tags": []
          },
          "execution_count": 82
        }
      ]
    },
    {
      "cell_type": "code",
      "metadata": {
        "colab": {
          "base_uri": "https://localhost:8080/"
        },
        "id": "1avqWSbM4wz0",
        "outputId": "de01ac23-15e3-4a5e-d020-1eab7af3fc41"
      },
      "source": [
        "# la forma alternativa en una sola línea de código\n",
        "%%timeit\n",
        "[f\"{f} loves {c}\" for f in friends for c in countries]"
      ],
      "execution_count": 109,
      "outputs": [
        {
          "output_type": "stream",
          "text": [
            "The slowest run took 4.23 times longer than the fastest. This could mean that an intermediate result is being cached.\n",
            "100000 loops, best of 5: 2.74 µs per loop\n"
          ],
          "name": "stdout"
        }
      ]
    },
    {
      "cell_type": "code",
      "metadata": {
        "colab": {
          "base_uri": "https://localhost:8080/"
        },
        "id": "1FFUXsIZ5dt4",
        "outputId": "6512a96a-b115-4932-a956-6bef3cd8451f"
      },
      "source": [
        "friends"
      ],
      "execution_count": 84,
      "outputs": [
        {
          "output_type": "execute_result",
          "data": {
            "text/plain": [
              "['Alice', 'Bob', 'Eve', 'John']"
            ]
          },
          "metadata": {
            "tags": []
          },
          "execution_count": 84
        }
      ]
    },
    {
      "cell_type": "code",
      "metadata": {
        "colab": {
          "base_uri": "https://localhost:8080/"
        },
        "id": "TVdbLeS95eqz",
        "outputId": "a4f1693d-b2b1-4b57-aca9-56bdb5fbac86"
      },
      "source": [
        "[f.upper() for f in friends] # resultado FOR elemento IN objeto"
      ],
      "execution_count": 85,
      "outputs": [
        {
          "output_type": "execute_result",
          "data": {
            "text/plain": [
              "['ALICE', 'BOB', 'EVE', 'JOHN']"
            ]
          },
          "metadata": {
            "tags": []
          },
          "execution_count": 85
        }
      ]
    },
    {
      "cell_type": "code",
      "metadata": {
        "id": "RsN0ysWZ5ngP"
      },
      "source": [
        "lista_en_lista = [[f, f.upper(), f.lower()] for f in friends]"
      ],
      "execution_count": 86,
      "outputs": []
    },
    {
      "cell_type": "code",
      "metadata": {
        "colab": {
          "base_uri": "https://localhost:8080/"
        },
        "id": "cGtk8xnR53LF",
        "outputId": "21b575b2-c6b2-4719-d8de-a7e017e894a7"
      },
      "source": [
        "lista_en_lista"
      ],
      "execution_count": 87,
      "outputs": [
        {
          "output_type": "execute_result",
          "data": {
            "text/plain": [
              "[['Alice', 'ALICE', 'alice'],\n",
              " ['Bob', 'BOB', 'bob'],\n",
              " ['Eve', 'EVE', 'eve'],\n",
              " ['John', 'JOHN', 'john']]"
            ]
          },
          "metadata": {
            "tags": []
          },
          "execution_count": 87
        }
      ]
    },
    {
      "cell_type": "code",
      "metadata": {
        "colab": {
          "base_uri": "https://localhost:8080/"
        },
        "id": "SMdiBVBR5-wS",
        "outputId": "cf23872b-2cc4-4158-a040-93ae8aa5279f"
      },
      "source": [
        "# método tradicional\n",
        "for f in friends:\n",
        "  print(f),\n",
        "  print(f.upper())\n",
        "  print(f.lower())"
      ],
      "execution_count": 89,
      "outputs": [
        {
          "output_type": "stream",
          "text": [
            "Alice\n",
            "ALICE\n",
            "alice\n",
            "Bob\n",
            "BOB\n",
            "bob\n",
            "Eve\n",
            "EVE\n",
            "eve\n",
            "John\n",
            "JOHN\n",
            "john\n"
          ],
          "name": "stdout"
        }
      ]
    },
    {
      "cell_type": "code",
      "metadata": {
        "colab": {
          "base_uri": "https://localhost:8080/"
        },
        "id": "lfFRLcFX6MBs",
        "outputId": "d74104a5-06e0-4f23-e62f-ffa98e66ac82"
      },
      "source": [
        "for f in friends:\n",
        "  print([f, f.upper(), f.lower()])"
      ],
      "execution_count": 90,
      "outputs": [
        {
          "output_type": "stream",
          "text": [
            "['Alice', 'ALICE', 'alice']\n",
            "['Bob', 'BOB', 'bob']\n",
            "['Eve', 'EVE', 'eve']\n",
            "['John', 'JOHN', 'john']\n"
          ],
          "name": "stdout"
        }
      ]
    },
    {
      "cell_type": "markdown",
      "metadata": {
        "id": "twt8ZvoD6dfT"
      },
      "source": [
        "## Diccionarios"
      ]
    },
    {
      "cell_type": "code",
      "metadata": {
        "colab": {
          "base_uri": "https://localhost:8080/"
        },
        "id": "mCCsYetb6fCh",
        "outputId": "d056b37f-1faa-4622-f70a-d55fe52cba0c"
      },
      "source": [
        "words"
      ],
      "execution_count": 91,
      "outputs": [
        {
          "output_type": "execute_result",
          "data": {
            "text/plain": [
              "['play',\n",
              " 'filling',\n",
              " 'bar',\n",
              " 'theatre',\n",
              " 'easygoing',\n",
              " 'date',\n",
              " 'lead',\n",
              " 'that',\n",
              " 'story',\n",
              " 'island']"
            ]
          },
          "metadata": {
            "tags": []
          },
          "execution_count": 91
        }
      ]
    },
    {
      "cell_type": "code",
      "metadata": {
        "colab": {
          "base_uri": "https://localhost:8080/"
        },
        "id": "TX4WgSmO6fgE",
        "outputId": "54d882ff-9ff1-47ea-ff56-45b17eb19304"
      },
      "source": [
        "word_lengths = dict()\n",
        "type(word_lengths)"
      ],
      "execution_count": 92,
      "outputs": [
        {
          "output_type": "execute_result",
          "data": {
            "text/plain": [
              "dict"
            ]
          },
          "metadata": {
            "tags": []
          },
          "execution_count": 92
        }
      ]
    },
    {
      "cell_type": "code",
      "metadata": {
        "colab": {
          "base_uri": "https://localhost:8080/"
        },
        "id": "SKgTHw9m6ZiV",
        "outputId": "c4905e04-1d0f-41ac-8bbf-8184a6d9a2cd"
      },
      "source": [
        "# necesitos saber la longitud de cada palabra\n",
        "word_lengths # tiene que guardar los elementos y la longitud en una var."
      ],
      "execution_count": 94,
      "outputs": [
        {
          "output_type": "execute_result",
          "data": {
            "text/plain": [
              "{}"
            ]
          },
          "metadata": {
            "tags": []
          },
          "execution_count": 94
        }
      ]
    },
    {
      "cell_type": "code",
      "metadata": {
        "id": "oWKs8SDd60Rw"
      },
      "source": [
        "word_lengths['españa'] = 6 # con esto creamos el elemento y creamos el valor"
      ],
      "execution_count": 95,
      "outputs": []
    },
    {
      "cell_type": "code",
      "metadata": {
        "colab": {
          "base_uri": "https://localhost:8080/"
        },
        "id": "_mhcpkhG7KRp",
        "outputId": "29f08b4a-0c7b-45ac-a65f-023ab91d27c9"
      },
      "source": [
        "len('españa')"
      ],
      "execution_count": 97,
      "outputs": [
        {
          "output_type": "execute_result",
          "data": {
            "text/plain": [
              "6"
            ]
          },
          "metadata": {
            "tags": []
          },
          "execution_count": 97
        }
      ]
    },
    {
      "cell_type": "code",
      "metadata": {
        "colab": {
          "base_uri": "https://localhost:8080/"
        },
        "id": "QnPmIDHw67f0",
        "outputId": "83476dfd-34f6-4e43-c0d5-137f7acc220b"
      },
      "source": [
        "word_lengths"
      ],
      "execution_count": 96,
      "outputs": [
        {
          "output_type": "execute_result",
          "data": {
            "text/plain": [
              "{'españa': 6}"
            ]
          },
          "metadata": {
            "tags": []
          },
          "execution_count": 96
        }
      ]
    },
    {
      "cell_type": "code",
      "metadata": {
        "id": "auG1Y79O68VA"
      },
      "source": [
        "for w in words:\n",
        "  word_lengths[w] = len(w)"
      ],
      "execution_count": 98,
      "outputs": []
    },
    {
      "cell_type": "code",
      "metadata": {
        "colab": {
          "base_uri": "https://localhost:8080/"
        },
        "id": "h2nY4k6A7T2i",
        "outputId": "e874f6e0-4428-43a3-c526-fb407a9175c1"
      },
      "source": [
        "word_lengths"
      ],
      "execution_count": 99,
      "outputs": [
        {
          "output_type": "execute_result",
          "data": {
            "text/plain": [
              "{'bar': 3,\n",
              " 'date': 4,\n",
              " 'easygoing': 9,\n",
              " 'españa': 6,\n",
              " 'filling': 7,\n",
              " 'island': 6,\n",
              " 'lead': 4,\n",
              " 'play': 4,\n",
              " 'story': 5,\n",
              " 'that': 4,\n",
              " 'theatre': 7}"
            ]
          },
          "metadata": {
            "tags": []
          },
          "execution_count": 99
        }
      ]
    },
    {
      "cell_type": "code",
      "metadata": {
        "colab": {
          "base_uri": "https://localhost:8080/"
        },
        "id": "8oWXRhRz7aT0",
        "outputId": "c16df0f1-488a-4ab9-d4fc-0ff80b966630"
      },
      "source": [
        "# en dict comprehensions su equivalente\n",
        "{w:len(w) for w in words}"
      ],
      "execution_count": 100,
      "outputs": [
        {
          "output_type": "execute_result",
          "data": {
            "text/plain": [
              "{'bar': 3,\n",
              " 'date': 4,\n",
              " 'easygoing': 9,\n",
              " 'filling': 7,\n",
              " 'island': 6,\n",
              " 'lead': 4,\n",
              " 'play': 4,\n",
              " 'story': 5,\n",
              " 'that': 4,\n",
              " 'theatre': 7}"
            ]
          },
          "metadata": {
            "tags": []
          },
          "execution_count": 100
        }
      ]
    },
    {
      "cell_type": "code",
      "metadata": {
        "colab": {
          "base_uri": "https://localhost:8080/"
        },
        "id": "uQwKPvWv7q9r",
        "outputId": "49e29037-d267-4e19-8417-7f063f396a53"
      },
      "source": [
        "{w.upper(): len(w) for w in words}"
      ],
      "execution_count": 101,
      "outputs": [
        {
          "output_type": "execute_result",
          "data": {
            "text/plain": [
              "{'BAR': 3,\n",
              " 'DATE': 4,\n",
              " 'EASYGOING': 9,\n",
              " 'FILLING': 7,\n",
              " 'ISLAND': 6,\n",
              " 'LEAD': 4,\n",
              " 'PLAY': 4,\n",
              " 'STORY': 5,\n",
              " 'THAT': 4,\n",
              " 'THEATRE': 7}"
            ]
          },
          "metadata": {
            "tags": []
          },
          "execution_count": 101
        }
      ]
    },
    {
      "cell_type": "code",
      "metadata": {
        "colab": {
          "base_uri": "https://localhost:8080/"
        },
        "id": "8HpOGv2o7zBJ",
        "outputId": "1f68f5cb-2196-4d1a-f9b2-37b091c7552b"
      },
      "source": [
        "{w.upper(): 1 for w in words} # a cada palabra le asociamos un valor fijo"
      ],
      "execution_count": 103,
      "outputs": [
        {
          "output_type": "execute_result",
          "data": {
            "text/plain": [
              "{'BAR': 1,\n",
              " 'DATE': 1,\n",
              " 'EASYGOING': 1,\n",
              " 'FILLING': 1,\n",
              " 'ISLAND': 1,\n",
              " 'LEAD': 1,\n",
              " 'PLAY': 1,\n",
              " 'STORY': 1,\n",
              " 'THAT': 1,\n",
              " 'THEATRE': 1}"
            ]
          },
          "metadata": {
            "tags": []
          },
          "execution_count": 103
        }
      ]
    },
    {
      "cell_type": "code",
      "metadata": {
        "colab": {
          "base_uri": "https://localhost:8080/"
        },
        "id": "w1THJehS7_l_",
        "outputId": "96c1cc37-ae97-48eb-888a-83fff9883dde"
      },
      "source": [
        "{w.upper(): idx for idx, w in enumerate(words)}"
      ],
      "execution_count": 104,
      "outputs": [
        {
          "output_type": "execute_result",
          "data": {
            "text/plain": [
              "{'BAR': 2,\n",
              " 'DATE': 5,\n",
              " 'EASYGOING': 4,\n",
              " 'FILLING': 1,\n",
              " 'ISLAND': 9,\n",
              " 'LEAD': 6,\n",
              " 'PLAY': 0,\n",
              " 'STORY': 8,\n",
              " 'THAT': 7,\n",
              " 'THEATRE': 3}"
            ]
          },
          "metadata": {
            "tags": []
          },
          "execution_count": 104
        }
      ]
    },
    {
      "cell_type": "markdown",
      "metadata": {
        "id": "7AxIuF7k9Tm3"
      },
      "source": [
        "### Timing\n",
        "\n",
        "Para poder realizar las comprobaciones del consumo de la memoria en Python, utilizamos `%%timeit`"
      ]
    },
    {
      "cell_type": "code",
      "metadata": {
        "id": "sA_O94A69U37"
      },
      "source": [
        "nums = list(range(10 ** 6))"
      ],
      "execution_count": 105,
      "outputs": []
    },
    {
      "cell_type": "code",
      "metadata": {
        "colab": {
          "base_uri": "https://localhost:8080/"
        },
        "id": "qUlq5_zm8Ibo",
        "outputId": "5cb23f5e-975c-49a5-cf14-2b130d158551"
      },
      "source": [
        "%%timeit\n",
        "squares = []\n",
        "for n in nums:\n",
        "  squares.append(n ** 2)"
      ],
      "execution_count": 106,
      "outputs": [
        {
          "output_type": "stream",
          "text": [
            "1 loop, best of 5: 305 ms per loop\n"
          ],
          "name": "stdout"
        }
      ]
    },
    {
      "cell_type": "code",
      "metadata": {
        "colab": {
          "base_uri": "https://localhost:8080/"
        },
        "id": "ufb2KhZf9qO8",
        "outputId": "fcaeee11-31a3-48bd-bd5c-a91f030a0ed0"
      },
      "source": [
        "%%timeit\n",
        "[x ** 2 for x in nums]"
      ],
      "execution_count": 107,
      "outputs": [
        {
          "output_type": "stream",
          "text": [
            "1 loop, best of 5: 271 ms per loop\n"
          ],
          "name": "stdout"
        }
      ]
    }
  ]
}