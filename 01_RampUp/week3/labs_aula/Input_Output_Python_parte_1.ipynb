{
  "nbformat": 4,
  "nbformat_minor": 0,
  "metadata": {
    "colab": {
      "name": "Input_Output_Python_parte 1",
      "provenance": [],
      "collapsed_sections": []
    },
    "kernelspec": {
      "name": "python3",
      "display_name": "Python 3"
    },
    "language_info": {
      "name": "python"
    }
  },
  "cells": [
    {
      "cell_type": "code",
      "metadata": {
        "id": "UvYW5BaC-THp"
      },
      "source": [
        "# Para poder realizar operaciones de lectura y escritura\n",
        "import os"
      ],
      "execution_count": 1,
      "outputs": []
    },
    {
      "cell_type": "code",
      "metadata": {
        "id": "CdrTDWGg-btd"
      },
      "source": [
        "# Para poder abrir un fichero ejemplo a.txt, y escribir en ello\n",
        "out = open('a_file.txt', 'w')\n",
        "\n",
        "# Vamos a realizar una escritura de 10 líneas de 0 a 9\n",
        "for i in range(10):\n",
        "  # Para poder escribir utilizamos el método write()\n",
        "  # Para el salto de línea os.linesep\n",
        "  # Para indicar el número de línea %d indica número entero y %s string\n",
        "  out.write(\"Línea %d%s\" % (i, os.linesep))\n",
        "out.close()"
      ],
      "execution_count": 3,
      "outputs": []
    },
    {
      "cell_type": "code",
      "metadata": {
        "colab": {
          "base_uri": "https://localhost:8080/"
        },
        "id": "OepJpkdV_706",
        "outputId": "667fb3b3-909b-4157-c37b-70abf95c7b34"
      },
      "source": [
        "# Pasamos con la lectura del fichero - mode = 'r'\n",
        "# Primer método\n",
        "f = open('a_file.txt', 'r')\n",
        "for line in f:\n",
        "  print(line, end = \"\") # end = \"\" anulamos el espacio entre líneas\n",
        "f.close()\n",
        "print()"
      ],
      "execution_count": 9,
      "outputs": [
        {
          "output_type": "stream",
          "text": [
            "Línea 0\n",
            "Línea 1\n",
            "Línea 2\n",
            "Línea 3\n",
            "Línea 4\n",
            "Línea 5\n",
            "Línea 6\n",
            "Línea 7\n",
            "Línea 8\n",
            "Línea 9\n",
            "\n"
          ],
          "name": "stdout"
        }
      ]
    },
    {
      "cell_type": "code",
      "metadata": {
        "colab": {
          "base_uri": "https://localhost:8080/"
        },
        "id": "0WP7nRBnAeM2",
        "outputId": "c7fcc36f-b8dc-4739-e148-d00ba64f7785"
      },
      "source": [
        "# Segundo método\n",
        "f = open('a_file.txt', 'r')\n",
        "lines = f.readlines()\n",
        "for line in lines:\n",
        "  print(line, end = \"\")\n",
        "f.close()"
      ],
      "execution_count": 12,
      "outputs": [
        {
          "output_type": "stream",
          "text": [
            "Línea 0\n",
            "Línea 1\n",
            "Línea 2\n",
            "Línea 3\n",
            "Línea 4\n",
            "Línea 5\n",
            "Línea 6\n",
            "Línea 7\n",
            "Línea 8\n",
            "Línea 9\n"
          ],
          "name": "stdout"
        }
      ]
    },
    {
      "cell_type": "code",
      "metadata": {
        "colab": {
          "base_uri": "https://localhost:8080/"
        },
        "id": "N3m4pbZwBBlb",
        "outputId": "e5ee9a02-c6c1-47a5-cee1-54fe4e1995c2"
      },
      "source": [
        "# Tercer método y más utilizado\n",
        "with open('a_file.txt', 'r') as f:\n",
        "  for line in f:\n",
        "    print(line, end=\"\")\n",
        "  f.close()"
      ],
      "execution_count": 14,
      "outputs": [
        {
          "output_type": "stream",
          "text": [
            "Línea 0\n",
            "Línea 1\n",
            "Línea 2\n",
            "Línea 3\n",
            "Línea 4\n",
            "Línea 5\n",
            "Línea 6\n",
            "Línea 7\n",
            "Línea 8\n",
            "Línea 9\n"
          ],
          "name": "stdout"
        }
      ]
    },
    {
      "cell_type": "code",
      "metadata": {
        "colab": {
          "base_uri": "https://localhost:8080/"
        },
        "id": "E7H94fYtCKnh",
        "outputId": "d9ebd99b-ba52-46b0-cea4-44838b5ebdb2"
      },
      "source": [
        "# Mostramos como está construido realmente el fichero\n",
        "fichero = open(\"a_file.txt\", 'r')\n",
        "lines = fichero.readlines()\n",
        "lines # se compone del texto Línea más el número y salto de línea \\n"
      ],
      "execution_count": 17,
      "outputs": [
        {
          "output_type": "execute_result",
          "data": {
            "text/plain": [
              "['Línea 0\\n',\n",
              " 'Línea 1\\n',\n",
              " 'Línea 2\\n',\n",
              " 'Línea 3\\n',\n",
              " 'Línea 4\\n',\n",
              " 'Línea 5\\n',\n",
              " 'Línea 6\\n',\n",
              " 'Línea 7\\n',\n",
              " 'Línea 8\\n',\n",
              " 'Línea 9\\n']"
            ]
          },
          "metadata": {
            "tags": []
          },
          "execution_count": 17
        }
      ]
    },
    {
      "cell_type": "code",
      "metadata": {
        "colab": {
          "base_uri": "https://localhost:8080/"
        },
        "id": "BpiPTG-OCiou",
        "outputId": "18e683f0-0f0e-47ce-c2d0-646810ca5fa2"
      },
      "source": [
        "print(lines)"
      ],
      "execution_count": 18,
      "outputs": [
        {
          "output_type": "stream",
          "text": [
            "['Línea 0\\n', 'Línea 1\\n', 'Línea 2\\n', 'Línea 3\\n', 'Línea 4\\n', 'Línea 5\\n', 'Línea 6\\n', 'Línea 7\\n', 'Línea 8\\n', 'Línea 9\\n']\n"
          ],
          "name": "stdout"
        }
      ]
    },
    {
      "cell_type": "code",
      "metadata": {
        "colab": {
          "base_uri": "https://localhost:8080/"
        },
        "id": "XhrsBLn-CpBt",
        "outputId": "af600351-2079-40c3-d0c4-b2ccded0dc0e"
      },
      "source": [
        "lines"
      ],
      "execution_count": 19,
      "outputs": [
        {
          "output_type": "execute_result",
          "data": {
            "text/plain": [
              "['Línea 0\\n',\n",
              " 'Línea 1\\n',\n",
              " 'Línea 2\\n',\n",
              " 'Línea 3\\n',\n",
              " 'Línea 4\\n',\n",
              " 'Línea 5\\n',\n",
              " 'Línea 6\\n',\n",
              " 'Línea 7\\n',\n",
              " 'Línea 8\\n',\n",
              " 'Línea 9\\n']"
            ]
          },
          "metadata": {
            "tags": []
          },
          "execution_count": 19
        }
      ]
    },
    {
      "cell_type": "markdown",
      "metadata": {
        "id": "ptPVLvPnCz8p"
      },
      "source": [
        "***\n",
        "\n",
        "## EJERCICIO 1\n",
        "\n",
        "Escribid una función que dado un número entero positivo, `N`, genere un fichero con el nombre `output.txt` que contendrá `N` líneas, donde cada línea deberá mostrar una número consecutivo de letras `A`.\n",
        "\n",
        "Por ejemplo, si `N = 4`, el fichero generado deberá contener el siguiente contenido:\n",
        "\n",
        "```\n",
        "A\n",
        "AA\n",
        "AAA\n",
        "AAAA\n",
        "```"
      ]
    },
    {
      "cell_type": "code",
      "metadata": {
        "id": "clzjRe5uCtbj"
      },
      "source": [
        "# importamos la librería\n",
        "import os\n",
        "out = open(\"out.txt\", \"w\")\n",
        "lineas = 10\n",
        "letras = \"\"\n",
        "for i in range(lineas):\n",
        "  letras += 'A'\n",
        "  out.write(\"%s%s\" % (letras, os.linesep))\n",
        "out.close()"
      ],
      "execution_count": 21,
      "outputs": []
    },
    {
      "cell_type": "code",
      "metadata": {
        "colab": {
          "base_uri": "https://localhost:8080/"
        },
        "id": "LAyQyGMkDjNv",
        "outputId": "a40f3a3d-e0b0-4339-dab2-94751e7d6499"
      },
      "source": [
        "with open('out.txt', 'r') as file_out:\n",
        "  for line in file_out:\n",
        "    print(line, end=\"\")"
      ],
      "execution_count": 22,
      "outputs": [
        {
          "output_type": "stream",
          "text": [
            "A\n",
            "AA\n",
            "AAA\n",
            "AAAA\n",
            "AAAAA\n",
            "AAAAAA\n",
            "AAAAAAA\n",
            "AAAAAAAA\n",
            "AAAAAAAAA\n",
            "AAAAAAAAAA\n"
          ],
          "name": "stdout"
        }
      ]
    },
    {
      "cell_type": "code",
      "metadata": {
        "id": "sMby0d_1D90R"
      },
      "source": [
        ""
      ],
      "execution_count": null,
      "outputs": []
    }
  ]
}