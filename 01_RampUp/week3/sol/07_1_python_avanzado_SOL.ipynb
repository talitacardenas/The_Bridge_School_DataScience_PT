{
  "nbformat": 4,
  "nbformat_minor": 0,
  "metadata": {
    "kernelspec": {
      "display_name": "Python 3",
      "language": "python",
      "name": "python3"
    },
    "language_info": {
      "codemirror_mode": {
        "name": "ipython",
        "version": 3
      },
      "file_extension": ".py",
      "mimetype": "text/x-python",
      "name": "python",
      "nbconvert_exporter": "python",
      "pygments_lexer": "ipython3",
      "version": "3.8.6"
    },
    "colab": {
      "name": "07.1_python_avanzado - SOL",
      "provenance": []
    }
  },
  "cells": [
    {
      "cell_type": "markdown",
      "metadata": {
        "id": "nOzaTG1rtRbL"
      },
      "source": [
        "Programación para *Data Science*\n",
        "============================\n",
        "\n",
        "Intro101 - 05.1: Conceptos avanzados de Python\n",
        "--------------------------------------\n",
        "\n",
        "En este Notebook encontraréis dos conjuntos de ejercicios: un primer conjunto de ejercicios para practicar y que no puntuan, pero que recomendamos intentar resolver y un segundo conjunto que evaluaremos como actividad."
      ]
    },
    {
      "cell_type": "markdown",
      "metadata": {
        "id": "a4KgmNmntRbQ"
      },
      "source": [
        "## Ejercicios para practicar\n",
        "\n",
        "**Los siguientes 3 ejercicios no puntuan**, pero os recomendamos que los intentéis resolver antes de pasar a los ejercicios propios. También podéis encontrar las soluciones a estos ejercicios al final del Notebook. "
      ]
    },
    {
      "cell_type": "markdown",
      "metadata": {
        "id": "X4IsVetMtRbS"
      },
      "source": [
        "### Ejercicio 1\n",
        "\n",
        "El siguiente ejercicio consiste en pasar un número en base 16 (hexadecimal, 0-9/A-F) a base 10 (decimal). Para hacerlo, debéis crear una **función** que dado un _string_ que representa un número en hexadecimal, por ejemplo, `AE3F`, devuelva el número \n",
        "natural correspondiente. En este caso, el resultado sería `44607`."
      ]
    },
    {
      "cell_type": "code",
      "metadata": {
        "id": "IGQe168htRbT"
      },
      "source": [
        "# Respuesta"
      ],
      "execution_count": null,
      "outputs": []
    },
    {
      "cell_type": "markdown",
      "metadata": {
        "id": "ixGGob0mtRbU"
      },
      "source": [
        "### Ejercicio 2\n",
        "\n",
        "Las excepciones son errores detectados en tiempo de ejecución. Pueden y deben ser manejadas por el programador para minimizar el riesgo de que un determinado programa falle de forma no controlada. Escribid, en lenguaje Python, cómo generar y capturar la siguiente excepción: **ZeroDivisionError**."
      ]
    },
    {
      "cell_type": "code",
      "metadata": {
        "id": "lQ2tq3rHtRbV"
      },
      "source": [
        "# Respuesta"
      ],
      "execution_count": null,
      "outputs": []
    },
    {
      "cell_type": "markdown",
      "metadata": {
        "id": "DJCN2-lgtRbd"
      },
      "source": [
        "### Ejercicio 3\n",
        "\n",
        "Completad el código necesario para calcular el número de vocales y de consonantes respectivamente de un texto."
      ]
    },
    {
      "cell_type": "code",
      "metadata": {
        "id": "QWilM4JutRbe",
        "outputId": "d5a269b8-96b4-46ac-f3da-c88ce902b672"
      },
      "source": [
        "texto = \"Hola a todos!\"\n",
        "print(texto)"
      ],
      "execution_count": null,
      "outputs": [
        {
          "output_type": "stream",
          "text": [
            "Hola a todos!\n"
          ],
          "name": "stdout"
        }
      ]
    },
    {
      "cell_type": "code",
      "metadata": {
        "id": "ak4AxMhttRbg",
        "outputId": "524bebc4-d83a-4bbb-a1d9-707d23c016ec"
      },
      "source": [
        "texto_2 = \"Bienvenidos!\"\n",
        "print(texto_2)"
      ],
      "execution_count": null,
      "outputs": [
        {
          "output_type": "stream",
          "text": [
            "Bienvenidos!\n"
          ],
          "name": "stdout"
        }
      ]
    },
    {
      "cell_type": "code",
      "metadata": {
        "id": "UqxS0YXQtRbi"
      },
      "source": [
        "def imprime(argumento):\n",
        "    nuevo = argumento + texto_2\n",
        "    print(nuevo)"
      ],
      "execution_count": null,
      "outputs": []
    },
    {
      "cell_type": "code",
      "metadata": {
        "id": "F0NLQqfNtRbj",
        "outputId": "2ad8a377-672a-4c78-c71a-a472ba52e1bb"
      },
      "source": [
        "imprime(texto)"
      ],
      "execution_count": null,
      "outputs": [
        {
          "output_type": "stream",
          "text": [
            "Hola a todos!Bienvenidos!\n"
          ],
          "name": "stdout"
        }
      ]
    },
    {
      "cell_type": "code",
      "metadata": {
        "id": "WeHtXBZItRbk"
      },
      "source": [
        ""
      ],
      "execution_count": null,
      "outputs": []
    },
    {
      "cell_type": "code",
      "metadata": {
        "id": "dIPH8qTptRbk",
        "outputId": "1a719236-a807-4418-e590-9f5c276c8b18"
      },
      "source": [
        "imprime(texto)"
      ],
      "execution_count": null,
      "outputs": [
        {
          "output_type": "stream",
          "text": [
            "Hola a todos!Bienvenidos!\n"
          ],
          "name": "stdout"
        }
      ]
    },
    {
      "cell_type": "code",
      "metadata": {
        "id": "U_ibY3zJtRbm"
      },
      "source": [
        ""
      ],
      "execution_count": null,
      "outputs": []
    },
    {
      "cell_type": "markdown",
      "metadata": {
        "id": "gLljo52_tRbm"
      },
      "source": [
        "Pseudocódigo\n",
        "\n",
        "Dado un texto con n palabras\n",
        "la operación tiene que contar vocales y consonantes\n",
        "\n",
        "SI en el texto existe una vocal\n",
        "    IF:\n",
        "        num_vocales +1\n",
        "    ELSE desde (A AND la Z) OR (ç AND ñ):\n",
        "        num_consonantes +1"
      ]
    },
    {
      "cell_type": "code",
      "metadata": {
        "attributes": {
          "classes": [
            "sourceCode"
          ],
          "id": ""
        },
        "id": "JOd8Uw6ntRbm",
        "outputId": "079fdc0b-e4a5-4dcd-8eb3-f814f7ee2f6b"
      },
      "source": [
        "def contar_vocales_y_consonantes(texto):\n",
        "    # Cuenta las vocales contenidas en el string texto y también las consonantes.\n",
        "    num_vocales = 0\n",
        "    num_consonantes = 0\n",
        "\n",
        "    # Código que hay que completar.\n",
        "    #texto = texto.decode('utf-8')\n",
        "    \n",
        "    # Definimos una lista con las vocales en unicode\n",
        "    vocales = [u'a', u'e', u'i', u'o', u'u', u'à', u'á', u'ä', u'ï', u'è', u'é', u'í', u'ï', u'ò', u'ó', u'ú', u'ü']\n",
        "    \n",
        "    for t in texto.lower():\n",
        "        if t in vocales:\n",
        "            num_vocales += 1\n",
        "        elif t > 'a' and t <= 'z' or t == u'ç' or t == u'ñ':\n",
        "            num_consonantes += 1\n",
        "            \n",
        "    return num_vocales, num_consonantes\n",
        "\n",
        "texto = \"Orbiting Earth in the spaceship, I saw how beautiful our planet is. \\\n",
        "            People, let us preserve and increase this beauty, not destroy it!\"\n",
        "\n",
        "num_vocales, num_consonantes = contar_vocales_y_consonantes(texto)\n",
        "print (\"El número de vocales es %d.\" % num_vocales)\n",
        "print (\"El número de consonantes es %d.\" % num_consonantes)"
      ],
      "execution_count": null,
      "outputs": [
        {
          "output_type": "stream",
          "text": [
            "El número de vocales es 44.\n",
            "El número de consonantes es 62.\n"
          ],
          "name": "stdout"
        }
      ]
    },
    {
      "cell_type": "markdown",
      "metadata": {
        "id": "t1QAux3KtRbn"
      },
      "source": [
        "---\n",
        "\n",
        "## Ejercicios y preguntas teóricas\n",
        "\n",
        "A continuación encontraréis los **ejercicios y preguntas teóricas que debéis completar en este módulo intro-101** y que forman parte de la evaluación de esta unidad."
      ]
    },
    {
      "cell_type": "markdown",
      "metadata": {
        "id": "-hsaAAtYtRbo"
      },
      "source": [
        "### Pregunta 1\n",
        "\n",
        "Las funciones _range_ y _xrange_ pueden utilizarse con la misma finalidad, pero su funcionamiento es diferente. Poned un ejemplo donde sería recomendable intercambiar la función _range_ por la función _xrange_.\n",
        "\n",
        "**Respuesta:**"
      ]
    },
    {
      "cell_type": "markdown",
      "metadata": {
        "id": "94tfxtJjtRbp"
      },
      "source": [
        "Escribid vuestra respuesta aquí\n",
        "\n",
        "La función *range* devuelve por defecto una lista con el número de elementos que le hayamos indicado empezando por el elemento 0. En cambio, la función *xrange*, aunque con idéntica sintaxis, no nos devuelve una lista completa, si no un objeto cuyo objetivo es que lo utilicemos en una iteración para generar en el momento en el que sea necesario el número que sigue en la serie.\n",
        "\n",
        "Esta diferencia es muy importante para iteraciones largas de muchos elementos. Por ejemplo, imaginemos que queremos iterar 100000 números. Si utilizamos *range(100000)*, nos devolverá esta función una lista con 100000 números, que en memoria si cada número entero está codificado con 16 bytes tenemos un total de **¡100000 * 16 = 1.6MB!** En cambio, si utilizamos la función *xrange()*, no generaremos la lista y la tendremos en memoria, si no que calcularemos el siguiente elemento de la lista *al vuelo* y nos ahorraremos una buena cantidad de memoria. Esto lo consigue gracias a la palabra reservada *yield* en Python, que consiste en una especie de *return* de una función, pero que no rompe el flujo del bucle en el que está presente y nos permite ir devolviendo elementos al vuelo."
      ]
    },
    {
      "cell_type": "markdown",
      "metadata": {
        "id": "4pue7-TCtRbw"
      },
      "source": [
        "### Pregunta 2\n",
        "\n",
        "a) Explicad brevemente cada línea de código del siguiente bloque (añadid comentarios en el mismo bloque de código):"
      ]
    },
    {
      "cell_type": "code",
      "metadata": {
        "tags": [],
        "id": "_X6OVYJGtRbx",
        "outputId": "f88b16ea-b072-44aa-bda6-84ed21eccbf5"
      },
      "source": [
        "# Añadid vuestros comentarios de código en este mismo bloque\n",
        "\n",
        "def create_generator():\n",
        "    for i in range(10):\n",
        "        yield i\n",
        "        \n",
        "num_generator = create_generator()\n",
        "for i in num_generator:\n",
        "    print(\"Primera iteración: número generado =\", i)\n",
        "    \n",
        "for j in num_generator:\n",
        "    print(\"Segunda iteración: número generado =\", j)"
      ],
      "execution_count": null,
      "outputs": [
        {
          "output_type": "stream",
          "text": [
            "Primera iteración: número generado = 0\n",
            "Primera iteración: número generado = 1\n",
            "Primera iteración: número generado = 2\n",
            "Primera iteración: número generado = 3\n",
            "Primera iteración: número generado = 4\n",
            "Primera iteración: número generado = 5\n",
            "Primera iteración: número generado = 6\n",
            "Primera iteración: número generado = 7\n",
            "Primera iteración: número generado = 8\n",
            "Primera iteración: número generado = 9\n"
          ],
          "name": "stdout"
        }
      ]
    },
    {
      "cell_type": "markdown",
      "metadata": {
        "id": "9uD35pf8tRby"
      },
      "source": [
        "b) Explicad brevemente la salida por pantalla que observamos al ejecutar el código anterior.\n",
        "\n",
        "\n",
        "**Respuesta**"
      ]
    },
    {
      "cell_type": "markdown",
      "metadata": {
        "id": "kkUEVQBatRbz"
      },
      "source": [
        "Escribid vuestra respuesta aquí\n",
        "\n",
        "En el apartado anterior hemos utilizado la palabra clave `yield` para crear un _generador_ de números enteros entre el 0 y el 9. Es decir, cuando llamamos a la función `create_generator()` no se ejecuta el código del bucle sino que se guarda el primer elemento de la serie y este será retornado cuando iteremos sobre el generador (`for i in num_generator`). Una particularidad de los generadores es que pueden **iterar una única vez**. Es decir, el generador calcula el elemento 0 y después de devolver su valor lo \"olvida\". Dicho de otra manera, el generador elimina de memoria los elementos que ya ha retornado. Es por esto que la segunda vez que iteramos sobre el generador (`for j in num_generator`) no obtenemos ningún resultado."
      ]
    },
    {
      "cell_type": "markdown",
      "metadata": {
        "id": "HLB8e5MgtRbz"
      },
      "source": [
        "### Ejercicio 1\n",
        "\n",
        "Escribid una función que dada una lista de planetas del sistema solar, pregunte al usuario que introduzca una posición y muestre el plante correspondiente a dicha posición. Por ejemplo, si tenemos la siguiente lista: `['Mercurio', 'Venus', 'Tierra', 'Marte']` y el usuario nos ha introducido la posición `3`, hemos de mostrar como resultado por pantalla: `Tierra`.\n",
        "\n",
        "Consideraciones:\n",
        "\n",
        "- La posición que introduzca el usuario tiene que ser un número entero estrictamente positivo.\n",
        "- La función debe controlar el acceso a una posición fuera de la lista mediante una **excepción**. Por ejemplo, en el caso anterior debemos mostrar una mensaje de error si el usuario pide acceder a la posición 10.\n"
      ]
    },
    {
      "cell_type": "code",
      "metadata": {
        "id": "chczpAC1tRbz",
        "outputId": "22b8595f-3fb1-4d89-b539-310c772facc9"
      },
      "source": [
        "# Respuesta\n",
        "planetas = ['Mercurio', 'Venus', 'Tierra', 'Marte']\n",
        "planetas"
      ],
      "execution_count": null,
      "outputs": [
        {
          "output_type": "execute_result",
          "data": {
            "text/plain": [
              "['Mercurio', 'Venus', 'Tierra', 'Marte']"
            ]
          },
          "metadata": {
            "tags": []
          },
          "execution_count": 9
        }
      ]
    },
    {
      "cell_type": "code",
      "metadata": {
        "id": "t6hDKDErtRb0",
        "outputId": "a988bfa0-6132-4312-d24e-9bb6f3745e34"
      },
      "source": [
        "type(planetas)"
      ],
      "execution_count": null,
      "outputs": [
        {
          "output_type": "execute_result",
          "data": {
            "text/plain": [
              "list"
            ]
          },
          "metadata": {
            "tags": []
          },
          "execution_count": 10
        }
      ]
    },
    {
      "cell_type": "code",
      "metadata": {
        "id": "3EeYSO7XtRb0",
        "outputId": "2c58b1e8-7230-4f24-c066-6de69ca314b7"
      },
      "source": [
        "len(planetas)"
      ],
      "execution_count": null,
      "outputs": [
        {
          "output_type": "execute_result",
          "data": {
            "text/plain": [
              "4"
            ]
          },
          "metadata": {
            "tags": []
          },
          "execution_count": 11
        }
      ]
    },
    {
      "cell_type": "code",
      "metadata": {
        "id": "Fw4zirrjtRb1",
        "outputId": "d5bbefc8-ef77-487a-c17e-cae5389593bf"
      },
      "source": [
        "planetas[0]"
      ],
      "execution_count": null,
      "outputs": [
        {
          "output_type": "execute_result",
          "data": {
            "text/plain": [
              "'Mercurio'"
            ]
          },
          "metadata": {
            "tags": []
          },
          "execution_count": 12
        }
      ]
    },
    {
      "cell_type": "code",
      "metadata": {
        "id": "q2MOL5pptRb2",
        "outputId": "0f15b9d9-80c3-41ba-db16-7edf4762b889"
      },
      "source": [
        "planetas[1]"
      ],
      "execution_count": null,
      "outputs": [
        {
          "output_type": "execute_result",
          "data": {
            "text/plain": [
              "'Venus'"
            ]
          },
          "metadata": {
            "tags": []
          },
          "execution_count": 13
        }
      ]
    },
    {
      "cell_type": "code",
      "metadata": {
        "id": "fOuTJWCPtRb2",
        "outputId": "a97ad46d-47ba-436d-b974-609b130a68db"
      },
      "source": [
        "for planeta in planetas:\n",
        "    print(planeta)"
      ],
      "execution_count": null,
      "outputs": [
        {
          "output_type": "stream",
          "text": [
            "Mercurio\n",
            "Venus\n",
            "Tierra\n",
            "Marte\n"
          ],
          "name": "stdout"
        }
      ]
    },
    {
      "cell_type": "code",
      "metadata": {
        "id": "U2W3RP_ttRb3",
        "outputId": "d29a0ca8-1206-4e88-f1f3-56090388fbb9"
      },
      "source": [
        "for i, planeta in enumerate(planetas):\n",
        "    print(i, planeta)"
      ],
      "execution_count": null,
      "outputs": [
        {
          "output_type": "stream",
          "text": [
            "0 Mercurio\n",
            "1 Venus\n",
            "2 Tierra\n",
            "3 Marte\n"
          ],
          "name": "stdout"
        }
      ]
    },
    {
      "cell_type": "code",
      "metadata": {
        "id": "q_GIrJj8tRb3"
      },
      "source": [
        "# Respuesta\n",
        "\n",
        "# Función que retorna True o False en función de si \n",
        "# la posición introducida cumple con los requisitos o no\n",
        "def comprueba_posicion(posicion):\n",
        "    # Inicializamos una variable booleana que recogerá el resultado final\n",
        "    es_valida = False\n",
        "    \n",
        "    try:\n",
        "        # Intentamos convertir la posición a un número entero.\n",
        "        # Esta instrucción lanzará una excepción de tipo ValueError\n",
        "        # si no se ha podido realizar la conversión.\n",
        "        posicion_int = int(posicion)\n",
        "        \n",
        "        # Comprobamos que la posición es estrictamente mayor que 0\n",
        "        es_valida = posicion_int > 0\n",
        "    except ValueError:\n",
        "        # En caso que no se haya podido convertir el parámetro posición\n",
        "        # a un número entero, retornamos False\n",
        "        es_valida = False\n",
        "        \n",
        "    return es_valida\n",
        "\n",
        "\n",
        "def escoge_planeta(planetas):\n",
        "    # Preguntamos al usuario por la posición deseada.\n",
        "    # Utilizamos la función raw_input para evitar que Python evalue la expresión introducida\n",
        "    # y así tener más control sobre el input del usuario.\n",
        "    posicion = raw_input('Introduce la posición deseada: ')\n",
        "    \n",
        "    # Comprobamos que la posición introducida por el usuario cumple con los requisitos\n",
        "    if (comprueba_posicion(posicion)):\n",
        "        try:\n",
        "            # Accedemos a la posición posicion - 1 del array de planetas\n",
        "            # dado que en Python el índice de los arrays empieza por el 0.\n",
        "            print planetas[int(posicion) - 1]\n",
        "        except IndexError:\n",
        "            # Si el usuario ha introducido una posición fuera del array, mostramos un mensaje de error\n",
        "            print '¡Cuidado! Has introducido una posición no válida.'\n",
        "    else:\n",
        "        # Si el que ha introducido el usuario no cumple las condiciones indicadas\n",
        "        # también se lo haremos saber.\n",
        "        print '¡Cuidado! La posición introducida no cumple el formato establecido.'\n",
        "        \n",
        "escoge_planeta(['Mercurio', 'Venus', 'Tierra', 'Marte'])"
      ],
      "execution_count": null,
      "outputs": []
    },
    {
      "cell_type": "markdown",
      "metadata": {
        "id": "D8HFXWygtRb4"
      },
      "source": [
        "### Ejercicio 2\n",
        "\n",
        "Dada una lista de planetas del sistema solar, determinad cuales de estos planetas tienen una masa superior a la de la Tierra. Por ejemplo, si la lista inicial es `['Venus', 'Marte', 'Saturno']`, el resultado que mostraríamos por pantalla sería `['Saturno']` ya que el planeta Saturno tiene una masa `95.2` veces superior a la Tierra.\n",
        "\n",
        "Consideraciones:\n",
        "\n",
        "- Debéis tener en cuenta que el nombre de los planetas que nos pasan por parámetro puede estar en minúsculas, mayúsculas o una combinación de ambas.\n",
        "- Podéis asumir que no habrá acentos en el nombre de los planetas.\n",
        "- Debéis determinar aquellos planetas que tiene una massa estrictamente superior a la de la Tierra.\n",
        "- No habrá planetas repetidos en la lista que nos pasan por parámetro.\n"
      ]
    },
    {
      "cell_type": "code",
      "metadata": {
        "id": "7Q3zmm5gtRb4"
      },
      "source": [
        "masas = {'Mercurio': 0.06, 'Venus': 0.82, 'Tierra': 1, 'Marte': 0.11, 'Jupiter': 317.8, \n",
        "          'Saturno': 95.2, 'Urano': 14.6, 'Neptuno': 17.2, 'Pluto': 0.0022}"
      ],
      "execution_count": null,
      "outputs": []
    },
    {
      "cell_type": "code",
      "metadata": {
        "id": "__7zVn9VtRb6",
        "outputId": "6322f178-9677-4bc3-fffa-3565760ea98e"
      },
      "source": [
        "type(masas)"
      ],
      "execution_count": null,
      "outputs": [
        {
          "output_type": "execute_result",
          "data": {
            "text/plain": [
              "dict"
            ]
          },
          "metadata": {
            "tags": []
          },
          "execution_count": 17
        }
      ]
    },
    {
      "cell_type": "code",
      "metadata": {
        "id": "1YfhJTyrtRb6",
        "outputId": "8f77a24a-8a2d-4238-dc20-db20e5ca90c6"
      },
      "source": [
        "len(masas)"
      ],
      "execution_count": null,
      "outputs": [
        {
          "output_type": "execute_result",
          "data": {
            "text/plain": [
              "9"
            ]
          },
          "metadata": {
            "tags": []
          },
          "execution_count": 18
        }
      ]
    },
    {
      "cell_type": "code",
      "metadata": {
        "id": "t9ensrjAtRb7",
        "outputId": "22c23337-8907-4d04-a32b-774d8031c2b1"
      },
      "source": [
        "# Llamar el primer elemento del diccionario\n",
        "masas['Mercurio']"
      ],
      "execution_count": null,
      "outputs": [
        {
          "output_type": "execute_result",
          "data": {
            "text/plain": [
              "0.06"
            ]
          },
          "metadata": {
            "tags": []
          },
          "execution_count": 19
        }
      ]
    },
    {
      "cell_type": "code",
      "metadata": {
        "id": "Eopi_ZSVtRb8",
        "outputId": "b9807e1b-a7ca-44a1-d9d3-3bd86bdea825"
      },
      "source": [
        "masas.keys()"
      ],
      "execution_count": null,
      "outputs": [
        {
          "output_type": "execute_result",
          "data": {
            "text/plain": [
              "dict_keys(['Mercurio', 'Venus', 'Tierra', 'Marte', 'Jupiter', 'Saturno', 'Urano', 'Neptuno', 'Pluto'])"
            ]
          },
          "metadata": {
            "tags": []
          },
          "execution_count": 20
        }
      ]
    },
    {
      "cell_type": "code",
      "metadata": {
        "id": "66gQEbO3tRb9",
        "outputId": "b5eca9eb-de27-4813-e12b-c27f6ff2d6eb"
      },
      "source": [
        "masas.values()"
      ],
      "execution_count": null,
      "outputs": [
        {
          "output_type": "execute_result",
          "data": {
            "text/plain": [
              "dict_values([0.06, 0.82, 1, 0.11, 317.8, 95.2, 14.6, 17.2, 0.0022])"
            ]
          },
          "metadata": {
            "tags": []
          },
          "execution_count": 21
        }
      ]
    },
    {
      "cell_type": "code",
      "metadata": {
        "id": "4wDllg2UtRb9",
        "outputId": "861af845-3da3-498b-c2f7-1764e7aa7096"
      },
      "source": [
        "masas['Neptuno']"
      ],
      "execution_count": null,
      "outputs": [
        {
          "output_type": "execute_result",
          "data": {
            "text/plain": [
              "17.2"
            ]
          },
          "metadata": {
            "tags": []
          },
          "execution_count": 22
        }
      ]
    },
    {
      "cell_type": "code",
      "metadata": {
        "id": "SbitzxAUtRb-"
      },
      "source": [
        ""
      ],
      "execution_count": null,
      "outputs": []
    },
    {
      "cell_type": "code",
      "metadata": {
        "attributes": {
          "classes": [
            "sourceCode"
          ],
          "id": ""
        },
        "id": "C5MQV8k5tRb-",
        "outputId": "3a4a1b6d-16cc-4622-fa84-510127e4c164"
      },
      "source": [
        "# Masas medidas con respecto a la Tierra\n",
        "# Es decir, un valor de 14.6 representaria una masa 14.6 veces superior a la de la Tierra\n",
        "masas = {'Mercurio': 0.06, 'Venus': 0.82, 'Tierra': 1, 'Marte': 0.11, 'Jupiter': 317.8, \n",
        "          'Saturno': 95.2, 'Urano': 14.6, 'Neptuno': 17.2, 'Pluto': 0.0022}\n",
        "\n",
        "def planetas_mas_grandes_que_Tierra(planetas):\n",
        "    \"\"\"\n",
        "    Planetas con una masa superior a la de la Tierra\n",
        "    \"\"\"\n",
        "    planetas_masa_superior = []\n",
        "\n",
        "    # Accedemos al valor de la masa correspondiente al planeta Tierra\n",
        "    masa_Tierra = masas['Tierra']\n",
        "    \n",
        "    # Iteramos sobre el array de planetas que nos han pasado por parámetro\n",
        "    for planeta in planetas:\n",
        "        # Accedemos al valor de la masa correspondiente al planeta.\n",
        "        # Utilizamos la función capitalize de Python para asegurarnos\n",
        "        # que el formato del nombre del planeta es siempre una primera letra\n",
        "        # mayúscula y el resto de letras en minúscula.\n",
        "        masa_planeta = masas[planeta.capitalize()]\n",
        "        \n",
        "        # Si la masa obtenida es superior a la masa de la Tierra,\n",
        "        # añadimos el nombre del planeta al array que retornamos como resultado.\n",
        "        if masa_planeta > masa_Tierra:\n",
        "            planetas_masa_superior.append(planeta)\n",
        "\n",
        "    return planetas_masa_superior\n",
        "\n",
        "# Ejemplos de uso de la función anterior\n",
        "print planetas_mas_grandes_que_Tierra(['Venus', 'Mercurio', 'Marte'])\n",
        "print planetas_mas_grandes_que_Tierra(['Jupiter', 'Saturno', 'Pluto'])\n",
        "print planetas_mas_grandes_que_Tierra(['urano', 'tierra', 'neptuno', 'marte', 'Venus'])\n",
        "print planetas_mas_grandes_que_Tierra(['Tierra', 'MeRcUrIo', 'PLUTO', 'SATURNO'])\n",
        "\n",
        "# Podéis añadir más ejemplos si lo consideráis oportuno"
      ],
      "execution_count": null,
      "outputs": [
        {
          "output_type": "stream",
          "text": [
            "[]\n",
            "[]\n",
            "[]\n",
            "[]\n"
          ],
          "name": "stdout"
        }
      ]
    },
    {
      "cell_type": "markdown",
      "metadata": {
        "id": "jMIkow6jtRb_"
      },
      "source": [
        "### Ejercicio 3\n",
        "\n",
        "Completad las siguientes funciones y documentad el código si lo consideráis oportuno. Finalmente, escribid al menos un ejemplo de uso para cada función.\n"
      ]
    },
    {
      "cell_type": "code",
      "metadata": {
        "id": "nEBtvgGptRcA",
        "outputId": "7e8f237d-dd9a-4f37-baf2-efd6404505b1"
      },
      "source": [
        "# Completad las funciones matemáticas siguientes\n",
        "import math\n",
        "\n",
        "\"\"\"Función que calcula la altura en un movimiento de caída libre\n",
        "\n",
        "Suponemos que dejamos caer un objeto des de un edificio de altura desconocida.\n",
        "El parámetro duracion_caida nos indica el tiempo (en segundos) que tarda el objeto en llegar a \n",
        "la tierra. La función debería calcular la altura del edificio des del cual se ha \n",
        "lanzado el objeto.\n",
        "\n",
        "Podéis encontrar más información sobre el movimiento de caída libre en el siguiente \n",
        "enlace: https://www.fisicalab.com/apartado/caida-libre#contenidos.\n",
        "\"\"\"\n",
        "\n",
        "def calcular_altura_caida_libre(duracion_caida):\n",
        "    # Definimos las variables que intervendran en la equación\n",
        "    velocidad_inicial = 0 # la velocidad inicial seria 0 dado que estamos dejando caer el objeto\n",
        "    acceleracion = 9.81 # aproximamos el valor de la gravedad\n",
        "\n",
        "    # Según la fórmula, podemos deducir que para calcular la altura hemos de realizar el siguiente cálculo\n",
        "    h = velocidad_inicial * duracion_caida + 1/2. * acceleracion * duracion_caida**2\n",
        "    \n",
        "    return h\n",
        "\n",
        "\n",
        "\"\"\"Función que calcula las coordenadas cartesianas de un punto representado en coordenadas polares\n",
        "\n",
        "Dado un punto representado por sus coordenadas polares (radio y angulo), la función debería calcular \n",
        "las correspondientes coordenadas cartesianas y devolver una tupla con su valor.\n",
        "\n",
        "Podéis encontrar más información sobre el sistema de coordenadas polares y su conversión al sistema \n",
        "cartesiano en el siguiente enlace: https://es.wikipedia.org/wiki/Coordenadas_polares.\n",
        "\"\"\"\n",
        "\n",
        "def calcular_coordenadas_cartesianas(radio, angulo_en_grados):\n",
        "    # Convertimos el ángulo a radianes\n",
        "    angulo_radianes = math.radians(angulo_en_grados)\n",
        "    \n",
        "    # Calculamos las coordenadas cartesianas correspondientes\n",
        "    x = radio * math.cos(angulo_radianes)\n",
        "    y = radio * math.sin(angulo_radianes)\n",
        "    \n",
        "    return x, y\n",
        "\n",
        "# Escribid aquí al menos un ejemplo de uso utilizando las funciones anteriores. Por ejemplo:\n",
        "print \"El objeto se ha dejado caer des de una altura de %f metros\" % calcular_altura_caida_libre(10)\n",
        "print \"El objeto se ha dejado caer des de una altura de %f metros\" % calcular_altura_caida_libre(1.5)\n",
        "\n",
        "print \"Las coordenadas en el sistema cartesiano del punto (13, 23) son (%f, %f).\" % calcular_coordenadas_cartesianas(13, 23)\n",
        "print \"Las coordenadas en el sistema cartesiano del punto (5, 90) son (%f, %f).\" % calcular_coordenadas_cartesianas(5, 90)"
      ],
      "execution_count": null,
      "outputs": [
        {
          "output_type": "execute_result",
          "data": {
            "text/plain": [
              "'Función que calcula las coordenadas cartesianas de un punto representado en coordenadas polares\\n\\nDado un punto representado por sus coordenadas polares (radio y angulo), la función debería calcular \\nlas correspondientes coordenadas cartesianas y devolver una tupla con su valor.\\n\\nPodéis encontrar más información sobre el sistema de coordenadas polares y su conversión al sistema \\ncartesiano en el siguiente enlace: https://es.wikipedia.org/wiki/Coordenadas_polares.\\n'"
            ]
          },
          "metadata": {
            "tags": []
          },
          "execution_count": 29
        }
      ]
    },
    {
      "cell_type": "code",
      "metadata": {
        "id": "LVKEWNpftRcA"
      },
      "source": [
        ""
      ],
      "execution_count": null,
      "outputs": []
    },
    {
      "cell_type": "markdown",
      "metadata": {
        "id": "I-E_pHiwtRcC"
      },
      "source": [
        "### Ejercicio 4\n",
        "\n",
        "Escribid una función que dado un número entero positivo, `N`, genere un fichero con el nombre `output.txt` que contendrá `N` líneas, donde cada línea deberá mostrar una número consecutivo de letras `A`.\n",
        "\n",
        "Por ejemplo, si `N = 4`, el fichero generado deberá contener el siguiente contenido:\n",
        "\n",
        "```\n",
        "A\n",
        "AA\n",
        "AAA\n",
        "AAAA\n",
        "```\n"
      ]
    },
    {
      "cell_type": "code",
      "metadata": {
        "attributes": {
          "classes": [
            "sourceCode"
          ],
          "id": ""
        },
        "id": "uC4h4WVvtRcD"
      },
      "source": [
        "# Definimos una función que recibirá un número entero por parámetro\n",
        "def generar_fichero(N):\n",
        "    # Abrimos el fichero output.txt en modo escritura.\n",
        "    # El parámetro 'w' hará que si el fichero existe, este se sobreescribirá.\n",
        "    with open('output.txt', 'w') as fd:\n",
        "        \n",
        "        # Iteramos sobre el rango [0 ... N-1]\n",
        "        for i in range(N):\n",
        "            # Generamos una cadena con un número ascendente de carácteres A\n",
        "            linea = 'A' * (i + 1)\n",
        "            # Escribimos cada cadena generada en el fichero, añadiendo un salto de línea\n",
        "            fd.write(linea + '\\n')\n",
        "            \n",
        "generar_fichero(5)"
      ],
      "execution_count": null,
      "outputs": []
    },
    {
      "cell_type": "code",
      "metadata": {
        "id": "bgdsKLLdt_gu"
      },
      "source": [
        "# Definimos una función para ver el contenido del fichero generado\n",
        "def ver_fichero():\n",
        "    # Abrimos el fichero output.txt en modo lectura.\n",
        "    with open('output.txt', 'r') as fd:\n",
        "        # Iteramos sobre todas las líneas del fichero\n",
        "        for linea in fd:\n",
        "            # Añadimos una coma (\",\") al final de la instrucción print para evitar\n",
        "            # que se añada un salto de línea addicional al mostrar el contenido por pantalla.\n",
        "            print linea,\n",
        "\n",
        "ver_fichero()"
      ],
      "execution_count": null,
      "outputs": []
    },
    {
      "cell_type": "markdown",
      "metadata": {
        "id": "cQ3IzgUktRcE"
      },
      "source": [
        "### Ejercicio 5 \n",
        "\n",
        "Dada una cadena de caracteres, `s`, de longitud `n` y un número entero positivo `k`, siendo `k` un divisor de `n`, podemos dividir la cadena `s` en `n / k` sub-cadenas de la misma longitud.\n",
        "\n",
        "Escribid una función que, dada una cadena `s` y un número entero `k`, devuelva las `n/k` sub-cadenas teniendo en cuenta las siguientes consideraciones:\n",
        "\n",
        "- El orden de los caracteres en las sub-cadenas debe ser el mismo que en la cadena original.\n",
        "- Todos los caracteres de las sub-cadenas deben aparecer una única vez. Es decir, si un caracter se repite dentro de una sub-cadena, sólo hemos de mostrar la primera ocurrencia.\n",
        "\n",
        "Por ejemplo, si tenemmos\n",
        "<code>\n",
        "s = AABCCAADA\n",
        "k = 3\n",
        "</code>\n",
        "\n",
        "el resultado a mostrar por pantalla sería:\n",
        "<code>\n",
        "AB\n",
        "CA\n",
        "AD\n",
        "</code>\n",
        "\n",
        "Tenemos que la longitud de la cadena es 9 y por lo tanto, podemos formar 3 sub-cadenas:\n",
        "\n",
        "`AAB -> AB` (el caracter A se repite dos veces)\n",
        "\n",
        "`CCA -> CA` (el caracter C se repite dos veces)\n",
        "\n",
        "`ADA -> AD` (el caracter A se repite dos veces)\n"
      ]
    },
    {
      "cell_type": "code",
      "metadata": {
        "id": "_MB4Or4ltRcF"
      },
      "source": [
        "# Respuesta\n",
        "\n",
        "def generador_subcadenas(s, k):\n",
        "    # Calculamos la longitud que deberían tener las subcadenas\n",
        "    # sin eliminar los caracteres duplicados.\n",
        "    longitud_subcadenas = len(s) / k\n",
        "    \n",
        "    # Dividimos primero la cadena original en subcadenas de la misma longitud\n",
        "    subcadenas = []\n",
        "    \n",
        "    # Calculamos los puntos finales para cada subcadena\n",
        "    # Por ejemplo, si tenemos s = AABCCAADA y k = 3, tendremos:\n",
        "    #\n",
        "    # Caracter: A A B C C A A D A\n",
        "    # Posición: 0   2 3   5 6   8\n",
        "    #\n",
        "    # Encontraremos las subcadenas en los rangos 0:2, 3:5 y 6:8 respectivamente\n",
        "    for i in range(0, len(s), longitud_subcadenas):\n",
        "        subcadenas.append( s[i:i+longitud_subcadenas] )\n",
        "    \n",
        "    # Una vez tenemos las subcadenas, eliminamos los duplicados en cada una de ellas\n",
        "    for subcadena in subcadenas:\n",
        "        # Inicializamos la cadena sin duplicados\n",
        "        subcadena_sin_duplicados = ''\n",
        "        \n",
        "        # Iteramos secuencialmente los caracteres de la subcadena\n",
        "        for caracter in subcadena:\n",
        "            # Si el caracter no se encuentra ya en la subcadena, lo añadimos\n",
        "            if caracter not in subcadena_sin_duplicados:\n",
        "                subcadena_sin_duplicados += caracter\n",
        "    \n",
        "        print subcadena_sin_duplicados\n",
        "\n",
        "print \"Subcadenas correspondientes a 'AABCCAADA' con k = 3\" \n",
        "generador_subcadenas(\"AABCCAADA\", 3)\n",
        "\n",
        "print \"Subcadenas correspondientes a 'ABCDDDEEFGGI' con k = 4\"\n",
        "generador_subcadenas(\"ABCDDDEEFGGI\", 4)"
      ],
      "execution_count": null,
      "outputs": []
    },
    {
      "cell_type": "code",
      "metadata": {
        "id": "doDYMLBpuG9I"
      },
      "source": [
        "# Podemos escribir la misma función anterior de forma mucho más compacta\n",
        "# de la siguiente manera:\n",
        "\n",
        "def generador_subcadenas(s, k):\n",
        "    longitud_subcadenas = len(s) / k\n",
        "    \n",
        "    # Utilizamos list comprehensions para obtener las subcadenas originales\n",
        "    subcadenas = [s[i:i+longitud_subcadenas] for i in range(0, len(s), longitud_subcadenas)]\n",
        "    \n",
        "    # Una vez tenemos las subcadenas, eliminamos los duplicados en cada una de ellas\n",
        "    for subcadena in subcadenas:\n",
        "        diccionario = dict()\n",
        "        \n",
        "        # La función setdefault asignará el segundo parámetro como valor por defecto\n",
        "        # si la clave especificada en el primer parámetro no existe.\n",
        "        # La función join concatena todos los caracteres dados en el array.\n",
        "        print ''.join([ diccionario.setdefault(c, c) for c in subcadena if c not in diccionario ])\n",
        "    \n",
        "print \"Subcadenas correspondientes a 'AABCCAADA' con k = 3\" \n",
        "generador_subcadenas(\"AABCCAADA\", 3)\n",
        "\n",
        "print \"Subcadenas correspondientes a 'ABCDDDEEFGGI' con k = 4\"\n",
        "generador_subcadenas(\"ABCDDDEEFGGI\", 4)"
      ],
      "execution_count": null,
      "outputs": []
    },
    {
      "cell_type": "markdown",
      "metadata": {
        "id": "JURf20rYtRcF"
      },
      "source": [
        "### Ejercicio 6 (Opcional)\n",
        "\n",
        "Al final de la Edad Media, en Francia, el diplomático francés Blaise de Vigenère desarrollo un algoritmo para cifrar mensajes que nadie fue capaz de romper durante aproximadamente 250 años. El algoritmo se conoce con el nombre de [cifrado de Vigenère](https://es.wikipedia.org/wiki/Cifrado_de_Vigen%C3%A8re).\n",
        "\n",
        "El cifrado de Vigenère consiste en añadir a cada una de las letras de un texto un desplazamiento a partir de una clave secreta para conseguir una nueva letra diferente de la original. Veamos un ejemplo:\n",
        "\n",
        "Si asignamos el número 1 a la primera letra del abecedario, A, 2 a la siguiente, B, etc., imaginad que tenemos el siguiente mensaje:\n",
        "<code>\n",
        "ABC\n",
        "123\n",
        "</code>\n",
        "\n",
        "y la siguiente clave secreta:\n",
        "<code>\n",
        "DEF\n",
        "456\n",
        "</code>\n",
        "\n",
        "A cada letra del mensaje original aplicamos un desplazamiento en función de la misma posición dentro de la clave secreta. Por lo tanto, el mensaje cifrado quedaría de la siguiente forma:\n",
        "<code>\n",
        "   E       G       I\n",
        "(1 + 4) (2 + 5) (3 + 6)\n",
        "</code>\n",
        "\n",
        "Escribid una función que, dado un mensaje y una clave secreta, calcule y devuelva el mensaje cifrado.\n",
        "\n",
        "*Consideraciones.*\n",
        "\n",
        "- Utilizad como alfabeto de entrada **el alfabeto inglés en mayúsculas**.\n",
        "- El valor por defecto de la clave secreta será **DATASCI**."
      ]
    },
    {
      "cell_type": "code",
      "metadata": {
        "attributes": {
          "classes": [
            "sourceCode"
          ],
          "id": ""
        },
        "id": "GcSIsPJztRcG",
        "outputId": "22197a20-5c7f-453a-e387-733f843f9983"
      },
      "source": [
        "def cifrado_vigenere(mensaje, clave=\"DATASCI\"):\n",
        "    \"\"\"\n",
        "    Cifra el mensaje utilizando el cifrado de Vigenère\n",
        "    \"\"\"\n",
        "    \n",
        "    # Definimos el abecedario inglés en mayúsculas\n",
        "    abecedario = 'ABCDEFGHIJKLMNOPQRSTUVWXYZ'\n",
        "\n",
        "    # Inicializamos el mensaje cifrado\n",
        "    mensaje_cifrado = \"\"\n",
        "    \n",
        "    # Mantenemos la posición de la clave que hemos de utilizar en cada iteración\n",
        "    posicion_actual_clave = 0\n",
        "    \n",
        "    # Aplicamos el algoritmo de cifrado para cada caracter del mensaje original\n",
        "    for caracter in mensaje:\n",
        "        # Si encontramos un caracter no reconocido en nuestro diccionario,\n",
        "        # mantenemos este caracter en el mensaje cifrado.\n",
        "        if caracter not in abecedario:\n",
        "            mensaje_cifrado += caracter\n",
        "            \n",
        "        else:\n",
        "            # Buscamos el índice del caracter al abecedario\n",
        "            index_caracter = abecedario.find(caracter)\n",
        "\n",
        "            # Buscamos el índice del caracter de la clave que hemos de utilizar en esta iteración\n",
        "            index_clau = abecedario.find(clave[posicion_actual_clave])\n",
        "\n",
        "            # Calculamos cuál seria el índice del caracter cifrado.\n",
        "            # Aplicamos el módulo a la longitud del abecedario para evitar un \"overflow\"\n",
        "            # (cuando la suma de los índices del caracter y de la clave es mayor que la longitud del abecedario).\n",
        "            index_caracter_cifrado = (index_caracter + index_clau) % len(abecedario)\n",
        "            \n",
        "            # Añadimos al mensaje cifrado el caracter resultante de la operación anterior\n",
        "            mensaje_cifrado += abecedario[index_caracter_cifrado]\n",
        "            \n",
        "            # Actualizamos la posición a utilizar de la clave, teniendo en cuenta también su longitud\n",
        "            posicion_actual_clave = (posicion_actual_clave + 1) % len(clave)\n",
        "\n",
        "    # Retornamos el mensaje cifrado\n",
        "    return mensaje_cifrado\n",
        "\n",
        "# Aquí podéis añadir más ejemplos:\n",
        "print cifrado_vigenere(\"ATACAREMOS DE MADRUGADA\")\n",
        "print cifrado_vigenere(\"LA CLAVE SECRETA ES PYTHON\", \"PYTHON\")"
      ],
      "execution_count": null,
      "outputs": [
        {
          "output_type": "stream",
          "text": [
            "\n"
          ],
          "name": "stdout"
        }
      ]
    },
    {
      "cell_type": "markdown",
      "metadata": {
        "id": "IjpP-dImtRcH"
      },
      "source": [
        "---\n",
        "\n",
        "## Soluciones ejercicios para practicar"
      ]
    },
    {
      "cell_type": "markdown",
      "metadata": {
        "id": "d-GRUR9htRcH"
      },
      "source": [
        "### Ejercicio 1\n",
        "\n",
        "El siguiente ejercicio consiste en pasar un número en base 16 (hexadecimal, 0-9/A-F) a base 10 (decimal). Para hacerlo, debéis crear una **función** que dado un _string_ que representa un número en hexadecimal, por ejemplo, `AE3F`, devuelva el número \n",
        "natural correspondiente. En este caso, el resultado sería `44607`.\n",
        "\n",
        "**Respuesta**"
      ]
    },
    {
      "cell_type": "markdown",
      "metadata": {
        "id": "kxwwow9RtRcI"
      },
      "source": [
        "En Python disponemos de una función muy útil que nos permite pasar a un número decimal des de cualquier base (```int(x, base=y)```). Dado que el objetivo es jugar un poco con el lenguaje Python, vamos a usar dicha función sólo de forma parcial para calcular el número decimal correspondiente a cada carácter hexadecimal individualmente.\n",
        "\n",
        "La fórmula para convertir un número hexadecimal a un número decimal, tomando como ejemplo el número AE3F, es:\n",
        "\n",
        "```A * 16**3 + E * 16**2 + 3 * 16**1 + F * 16**0 = 10 * 16**3 + 14 * 16**2 + 3 * 16**1 + 15 * 16**0```"
      ]
    },
    {
      "cell_type": "code",
      "metadata": {
        "id": "3A921cagtRcI",
        "outputId": "ccdb1231-bf6a-49ed-b89b-1178a728062f"
      },
      "source": [
        "# Importamos el string '0123456789abcdefABCDEF' que nos puede ser muy útil para comprobar el formato \n",
        "from string import hexdigits\n",
        "\n",
        "def hex_to_dec(numero_hexadecimal):\n",
        "    # Primero, comprobamos que el número que se pasa por parámetro es hexadecimal\n",
        "    if all(c in hexdigits for c in numero_hexadecimal):\n",
        "        # Definimos la base para realizar las operaciones\n",
        "        base = 16\n",
        "        numero_decimal = 0\n",
        "        \n",
        "        # Invertimos el número hexadecimal para que nos sea más fácil trabajar con los índices\n",
        "        numero_hexadecimal = numero_hexadecimal[::-1]\n",
        "        \n",
        "        for i in range(len(numero_hexadecimal)):\n",
        "            # Para cada carácter hexadecimal aplicamos la formula c * base ** i,\n",
        "            # donde c es la representación decimal del carácter y \n",
        "            # sumamos el resultado al resultado obtenido en la iteración anterior\n",
        "            numero_decimal += int(numero_hexadecimal[i], 16) * base**i\n",
        "            \n",
        "        return numero_decimal\n",
        "    else:\n",
        "        print('El número introducido no es hexadecimal')\n",
        "\n",
        "print(hex_to_dec('AE3F'))\n",
        "print(hex_to_dec('FFF'))\n",
        "print(hex_to_dec('123'))"
      ],
      "execution_count": null,
      "outputs": [
        {
          "output_type": "stream",
          "text": [
            "44607\n",
            "4095\n",
            "291\n"
          ],
          "name": "stdout"
        }
      ]
    },
    {
      "cell_type": "markdown",
      "metadata": {
        "id": "tURQp6u0tRcJ"
      },
      "source": [
        "### Ejercicio 2\n",
        "\n",
        "Las excepciones son errores detectados en tiempo de ejecución. Pueden y deben ser manejadas por el programador para minimizar el riesgo de que un determinado programa falle de forma no controlada. Escribid, en lenguaje Python, cómo generar y capturar la siguiente excepción: **ZeroDivisionError**.\n",
        "\n",
        "**Respuesta**"
      ]
    },
    {
      "cell_type": "markdown",
      "metadata": {
        "id": "EUK9raULtRcJ"
      },
      "source": [
        "En Pyhon podemos utilizar el bloque try ... except para capturar excepciones. Primero se intentará ejecutar el código dentro del bloque try y si hay una excepción se buscará una instrucción except que capture dicha excepción. En caso de encontrarla se ejecutará el código dentro del bloque except."
      ]
    },
    {
      "cell_type": "code",
      "metadata": {
        "id": "Q9Xj17aGtRcJ",
        "outputId": "4df94a9a-110a-407d-d702-ff5841c2ed2d"
      },
      "source": [
        "try:\n",
        "    print( 5/0) # División por cero - genera ZeroDivisionError\n",
        "except ZeroDivisionError:\n",
        "    print(\"¡Cuidado! División por cero.\")"
      ],
      "execution_count": null,
      "outputs": [
        {
          "output_type": "stream",
          "text": [
            "¡Cuidado! División por cero.\n"
          ],
          "name": "stdout"
        }
      ]
    },
    {
      "cell_type": "markdown",
      "metadata": {
        "id": "tJZ9gCxitRcJ"
      },
      "source": [
        "### Ejercicio 3\n",
        "\n",
        "Completad el código necesario para calcular el número de vocales y de consonantes respectivamente de un texto.\n",
        "\n",
        "**Respuesta**"
      ]
    },
    {
      "cell_type": "code",
      "metadata": {
        "id": "HJs4pkP9tRcK",
        "outputId": "afde1a0a-f851-487d-8e79-b866e1560476"
      },
      "source": [
        "def contar_vocales_y_consonantes(texto):\n",
        "    # Cuenta las vocales contenidas en el string texto y también las consonantes.\n",
        "    num_vocales = 0\n",
        "    num_consonantes = 0\n",
        "    \n",
        "    # Definimos una lista con las vocales\n",
        "    vocales = ['a', 'e', 'i', 'o', 'u']\n",
        "    \n",
        "    for c in texto.lower(): # Podemos convertir el texto a minúsculas para simplificar los cálculos\n",
        "        if c in vocales:\n",
        "            num_vocales += 1\n",
        "        elif c > 'a' and c <= 'z':\n",
        "            num_consonantes += 1\n",
        "    \n",
        "    return num_vocales, num_consonantes\n",
        "\n",
        "texto = \"Orbiting Earth in the spaceship, I saw how beautiful our planet is. \\\n",
        "            People, let us preserve and increase this beauty, not destroy it!\"\n",
        "\n",
        "num_vocales, num_consonantes = contar_vocales_y_consonantes(texto)\n",
        "print (\"El número de vocales es de %d\" % num_vocales)\n",
        "print (\"El número de consonantes es de %d\" % num_consonantes)"
      ],
      "execution_count": null,
      "outputs": [
        {
          "output_type": "stream",
          "text": [
            "El número de vocales es de 44\n",
            "El número de consonantes es de 62\n"
          ],
          "name": "stdout"
        }
      ]
    },
    {
      "cell_type": "markdown",
      "metadata": {
        "id": "rraeuefktRcK"
      },
      "source": [
        "Si queremos considerar también las vocales acentuadas o caracteres especiales, podemos modificar el código anterior para tenerlo en cuenta:"
      ]
    },
    {
      "cell_type": "code",
      "metadata": {
        "id": "uqJWVV9itRcK",
        "outputId": "d401c178-33cc-4409-f50c-c8b7d159263e"
      },
      "source": [
        "def contar_vocales_y_consonantes(texto):\n",
        "    # Cuenta las vocales contenidas en el string texto y también las consonantes.\n",
        "    num_vocales = 0\n",
        "    num_consonantes = 0\n",
        "    \n",
        "    # Convertimos el texto a Unicode\n",
        "    # En este caso sabemos seguro que la codificación de caracteres es UTF-8,  \n",
        "    # pero si nuestro código se puediera ejecutar fuera del Notebook podríamos \n",
        "    # incluir la codificación como otro parámetro de la función\n",
        "    texto = texto.decode('utf-8')\n",
        "    \n",
        "    # Definimos una lista con las vocales en unicode\n",
        "    vocales = [u'a', u'e', u'i', u'o', u'u', u'à', u'á', u'è', u'é', u'í', u'ï', u'ò', u'ó', u'ú', u'ü']\n",
        "    \n",
        "    for c in texto.lower(): # Podemos convertir el texto a minúsculas para simplificar los cálculos\n",
        "        if c in vocales:\n",
        "            num_vocales += 1\n",
        "        elif c > 'a' and c <= 'z' or c == u'ç' or c == u'ñ':\n",
        "            num_consonantes += 1\n",
        "    \n",
        "    return num_vocales, num_consonantes\n",
        "\n",
        "texto = \"Orbiting Earth in the spaceship, I saw how beautiful our planet is. \\\n",
        "            People, let us preserve and increase this beauty, not destroy it!\"\n",
        "\n",
        "num_vocales, num_consonantes = contar_vocales_y_consonantes(texto)\n",
        "print (\"El número de vocales es de %d\" % num_vocales)\n",
        "print (\"El número de consonantes es de %d\" % num_consonantes)\n",
        "\n",
        "texto = \"áéióúY\"\n",
        "num_vocales, num_consonantes = contar_vocales_y_consonantes(texto)\n",
        "print( \"El número de vocales es de %d\" % num_vocales)\n",
        "print (\"El número de consonantes es de %d\" % num_consonantes)"
      ],
      "execution_count": null,
      "outputs": [
        {
          "output_type": "stream",
          "text": [
            "El número de vocales es de 44\n",
            "El número de consonantes es de 62\n",
            "El número de vocales es de 5\n",
            "El número de consonantes es de 1\n"
          ],
          "name": "stdout"
        }
      ]
    }
  ]
}