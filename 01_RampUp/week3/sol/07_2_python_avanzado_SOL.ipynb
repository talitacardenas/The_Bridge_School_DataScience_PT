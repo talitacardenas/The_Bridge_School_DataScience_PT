{
  "nbformat": 4,
  "nbformat_minor": 0,
  "metadata": {
    "kernelspec": {
      "display_name": "Python 3",
      "language": "python",
      "name": "python3"
    },
    "language_info": {
      "codemirror_mode": {
        "name": "ipython",
        "version": 3
      },
      "file_extension": ".py",
      "mimetype": "text/x-python",
      "name": "python",
      "nbconvert_exporter": "python",
      "pygments_lexer": "ipython3",
      "version": "3.8.6"
    },
    "colab": {
      "name": "07.2_python_avanzado SOL",
      "provenance": []
    }
  },
  "cells": [
    {
      "cell_type": "markdown",
      "metadata": {
        "id": "B_kt29U3uZ4L"
      },
      "source": [
        "Programación para *Data Science*\n",
        "============================\n",
        "\n",
        "Intro101 - 05.1: Conceptos avanzados de Python\n",
        "--------------------------------------\n",
        "\n",
        "En este Notebook encontraréis dos conjuntos de ejercicios: un primer conjunto de ejercicios para practicar y que no puntuan, pero que recomendamos intentar resolver y un segundo conjunto que evaluaremos como actividad.\n",
        "\n",
        "\n",
        "Además, veréis que todas las actividades tienen una etiqueta que indica los recursos necesarios para llevarla a cabo. Hay tres posibles etiquetas:\n",
        "\n",
        "* <span style=\"font-family: Courier New; background-color: #82b74b; color: #000000; padding: 3px; \">NM</span> **Sólo materiales**: las herramientas necesarias para realizar la actividad se pueden encontrar en los materiales de la asignatura. \n",
        "\n",
        "* <span style=\"font-family: Courier New; background-color: #ffcc5c; color: #000000; padding: 3px; \">EG</span> **Consulta externa guiada**: la actividad puede requerir hacer uso de herramientas que no se encuentran en los materiales de la asignatura, pero el enunciado contiene indicaciones de dónde o cómo encontrar la información adicional necesaria para resolver la actividad.\n",
        "\n",
        "* <span style=\"font-family: Courier New; background-color: #f2ae72; color: #000000; padding: 3px; \">EI</span> **Consulta externa independente**: la actividad puede requerir hacer uso de herramientas que no se encuentran en los materiales de la asignatura, y el enunciado puede no incluir la descripción de dónde o cómo encontrar esta información adicional. Será necesario que el estudiante busque esta información utilizando los recursos que se han explicado en la asignatura.\n",
        "\n",
        "Es importante notar que estas etiquetas no indican el nivel de dificultad del ejercicio, sino únicamente la necesidad de consulta de documentación externa para su resolución. Además, recordad que las **etiquetas son informativas**, pero podréis consultar referencias externas en cualquier momento (aunque no se indique explícitamente) o puede ser que podáis hacer una actividad sin consultar ningún tipo de documentación. Por ejemplo, para resolver una actividad que sólo requiera los materiales de la asignatura, puedéis consultar referencias externas si queréis, ya sea tanto para ayudaros en la resolución como para ampliar el conocimiento!\n"
      ]
    },
    {
      "cell_type": "markdown",
      "metadata": {
        "id": "Tq3aVtQ2uZ4P"
      },
      "source": [
        "---\n",
        "\n",
        "## Ejercicios y preguntas teóricas para la actividad\n",
        "\n",
        "A continuación, encontraréis los **ejercicios y preguntas teóricas que debéis completar en esta actividad** y que forman parte de la evaluación de esta unidad."
      ]
    },
    {
      "cell_type": "markdown",
      "metadata": {
        "id": "s7mGTT1FuZ4R"
      },
      "source": [
        "### Ejercicio 1\n",
        "\n",
        "Un número primo es aquél que solo es divisible por él mismo y por 1.\n",
        "\n",
        "a) Escribe un código que compruebe si un número `x = 15` es solo divisible por 1 o por el mismo.  Escribe este código usando un iterador (un `for` o un `while`) que barra todos los valores desde `2` a `x-1`. Crea una variable `divisible`  que tenga por defecto valor `False` y asigne el valor `True` si a lo largo de la iteración encuentra un número natural divisible. Puedes usar el operador modulo `a % b` para saber si un numero `b` es divisible por `a`.\n",
        "\n",
        "<span style=\"font-family: Courier New; background-color: #82b74b; color: #000000; padding: 2px; \">NM</span>"
      ]
    },
    {
      "cell_type": "code",
      "metadata": {
        "id": "JSdoAd1IuZ4S"
      },
      "source": [
        "# Respuesta\n",
        "\n",
        "# Definimos primero x como el 15 y la etiqueta divisible\n",
        "\n",
        "x = 15\n",
        "\n",
        "divisible = False\n",
        "# Respuesta\n",
        "\n",
        "\n",
        "# Creamos un iterador desde 2 a x-1 (range(2,x) donde x no estará incluido)\n",
        "# Miramos, para cada valor del iterador, si es divisible con\n",
        "#       la función modulo %, si es así, la función modulo\n",
        "#       nos devolvera 0 y asignaremos divisible a True\n",
        "#       En este caso el número no sera primo\n",
        "\n",
        "for i in range(2,x):\n",
        "    if not x%i:\n",
        "        divisible = True\n",
        "\n",
        "print(divisible)"
      ],
      "execution_count": null,
      "outputs": []
    },
    {
      "cell_type": "markdown",
      "metadata": {
        "id": "5Kz1JxrtuZ4T"
      },
      "source": [
        "\n",
        "b) Convierte tu código anterior en una función que compruebe si el número del argumento es primo o no, devolviendo True is es primo y False si no es primo. Comprueba tu función con los valores 492366587, 492366585, 48947 y 2,\n",
        "\n",
        "<span style=\"font-family: Courier New; background-color: #82b74b; color: #000000; padding: 2px; \">NM</span>"
      ]
    },
    {
      "cell_type": "code",
      "metadata": {
        "id": "8srLfKfBuZ4U"
      },
      "source": [
        "# Respuesta\n",
        "\n",
        "def primo(x):\n",
        "    divisible = False\n",
        "    for i in range(2,x):\n",
        "        if not x%i:\n",
        "            divisible = True\n",
        "    return(not divisible)\n",
        "\n",
        "\n",
        "primo(492366587)\n",
        "primo(492366585)\n",
        "primo(48947)\n",
        "primo(2)"
      ],
      "execution_count": null,
      "outputs": []
    },
    {
      "cell_type": "markdown",
      "metadata": {
        "id": "DVibXzBzuZ4W"
      },
      "source": [
        "\n",
        "c) En el cálculo de la función anterior, una vez se ha encontrado un número que es divisible dentro del rango ya no tiene sentido comprobar el resto de números del rango. Por ejemplo si 10 ya es divisble entre 2, ya no hace falta probar de 3 en adelante pues ya sabemos que el número no es primo. \n",
        "\n",
        "Modifica la función anterior de la siguiente forma: \n",
        "- Una vez se encuentra el divisor, la iteración se interrumpe para no probar el resto de enteros. \n",
        "- La función devuelve\n",
        "    - **Si es primo**: True\n",
        "    - **Si no es primo**, el primer divisor mayor que 1.\n",
        "    \n",
        "Puedes hacer uso del comando *break* dentro de un bucle para interrumpir este, puedes consultar más información sobre break en la documentación de python [aquí](https://docs.python.org/2/tutorial/controlflow.html).\n",
        "\n",
        "Comprueba tu función con los valores 492366585, 492366587, 48947 y 2,\n",
        "\n",
        "<span style=\"font-family: Courier New; background-color: #82b74b; color: #000000; padding: 2px; \">NM</span>"
      ]
    },
    {
      "cell_type": "code",
      "metadata": {
        "id": "waAPw4AjuZ4X"
      },
      "source": [
        "# Respuesta\n",
        "\n",
        "\n",
        "# Una forma fácil de hacer el ejercio es definir la salida por defecto\n",
        "#     como True, y si encontramos un divisor devolvemos el divisor \n",
        "#     durante la iteración\n",
        "\n",
        "def primo(x):\n",
        "    salida = True\n",
        "    for i in range(2,x):\n",
        "        if not x%i:\n",
        "            return(i)\n",
        "    return(salida)\n",
        "\n",
        "\n",
        "# Quizás una forma alternativa es utilizando el comando break para \n",
        "#      salir de del bucle tal y como se propone en el enunciado\n",
        "\n",
        "def primo(x):\n",
        "    salida = True\n",
        "    for i in range(2,x):\n",
        "        if not x%i:\n",
        "            salida = False\n",
        "            break\n",
        "    if salida:\n",
        "        return(True)\n",
        "    else:\n",
        "        return(i)\n",
        "\n",
        "\n",
        "primo(492366587)\n",
        "primo(492366585)\n",
        "primo(48947)\n",
        "primo(2)"
      ],
      "execution_count": null,
      "outputs": []
    },
    {
      "cell_type": "markdown",
      "metadata": {
        "id": "q2hVI1MJuZ4X"
      },
      "source": [
        "### Ejercicio 2\n",
        "\n",
        "La Covid-19 es una enfermedad producida por la infección del virus SARS-CoV-2. La infección es transmisible de persona a persona y su contagiosidad depende de la cantidad del virus en las vías respiratorias. Si cada persona contagiada transmite la enfermedad a $\\beta$ contactos en promedio por periodo de tiempo $t$, es posible estimar la evolución del contagio con un modelo matemático sencillo.\n",
        "\n",
        "Para $t=1$día, las transmisiones en España se han estimado a partir de su histórico de las semanas de Febrero y Marzo del 2020 una $\\beta = 0.35$ transmissiones por día por infectado.\n",
        "\n",
        "Durante un periodo de tiempo (por ejempo un día $d$) la tasa de nuevos contagios se puede estimar como  una proporción al número de contagiados del periodo anterior $N$: \n",
        "\n",
        "$$ \\Delta N = N_{1} - N = \\beta \\cdot N$$ (1)\n",
        "\n",
        "Por tanto, podemos proyectar el número futuro de afectados como \n",
        "\n",
        "$$ N_{1} = N + \\beta \\cdot N = (1+\\beta) \\cdot N$$ (2) \n",
        "\n",
        "En dos días:\n",
        "\n",
        "$$ N_{2} = (1+\\beta) \\cdot N_{1} = (1+\\beta)^2 \\cdot N$$  (3)\n",
        "\n",
        "Y en general en D días tendremos \n",
        "\n",
        "$$N_{D} = (1+\\beta)^D \\cdot N$$  (4)\n",
        " \n",
        "Asumiendo este sencillo modelo: \n",
        "\n",
        "a) Implementa una función de dos parámetros (N: población infectada inicial, D: número de días), que devuelva el cálculo de afectados para D días siguiendo la ecuación (4). Suponiendo una población afectada de 4250 (población afectada en españa a día 13 de Marzo de 2020), usa la función para calcular la población estimada en 1, 2, 7 y 30 días. \n",
        "\n",
        "<span style=\"font-family: Courier New; background-color: #82b74b; color: #000000; padding: 2px; \">NM</span>"
      ]
    },
    {
      "cell_type": "code",
      "metadata": {
        "id": "f4BA8eftuZ4Z"
      },
      "source": [
        "# Respuesta\n",
        "# La función es muy sencilla de definir, sencillamente implentando la ecuación (4)\n",
        "def covid(N,D):\n",
        "    return(N*(1.35)**D)\n",
        "\n",
        "\n",
        "# Respuesta: Llamadas a la función\n",
        "N=4250\n",
        "for i in [1,2,7,30]:\n",
        "    print(\"El número de afectados en %d días es %d \" % (i, covid(N,i)))\n",
        "         "
      ],
      "execution_count": null,
      "outputs": []
    },
    {
      "cell_type": "markdown",
      "metadata": {
        "id": "biwlqnfauZ4b"
      },
      "source": [
        "\n",
        "b) Sabiendo que los Servicios de Medicina Intensiva (SMI) disponen de 3363 camas para enfermos graves, y suponiendo que un 10% de los afectados por el covid-19 requerirán de SMI y una supervivencia del 2,5% (Exitus), escribe un código que calcule:\n",
        "- El día en curso (Día)\n",
        "- El total de afectados por el virus para cada día d (Afectados)\n",
        "- El total de ingresados en SMI por el virus para cada día d (Críticos)\n",
        "- El total de Exitus por el virus para cada día d (Exitus)\n",
        "- Si los servicios de SMI no pueden aceptar los ingresados para cada día $d$ (Estado: indicando Saturación/No Saturación)\n",
        "\n",
        "Imprime en pantalla la información de cada día durante una simulación de tres semanas, suponiendo que no hay recuperaciones, con una población afectada inicial 4250 y una $\\beta = 0.35$ constante. \n",
        "\n",
        "\n",
        "<span style=\"font-family: Courier New; background-color: #82b74b; color: #000000; padding: 2px; \">NM</span>"
      ]
    },
    {
      "cell_type": "code",
      "metadata": {
        "id": "5SxUkf11uZ4b"
      },
      "source": [
        "# Respuesta\n",
        "# R\n",
        "N = 4250\n",
        "D = 27\n",
        "camasSMI = 3363\n",
        "for i in range(21):\n",
        "    afectados = covid(N,i)\n",
        "    criticos = afectados*.1\n",
        "    exitus = afectados*.025\n",
        "    if criticos > camasSMI:  # Comparamos los críticos con las camas disponibles\n",
        "        estadoSMI = \"Saturación\"\n",
        "    else:\n",
        "        estadoSMI = \"No Saturación\"    \n",
        "    # Finalmente invocamos a print con la información requerida    \n",
        "    print(\"Día: %d, Afectados: %d, Críticos %d, Exitus %d, Estado: %s\" % (i,afectados,criticos, exitus, estadoSMI ))"
      ],
      "execution_count": null,
      "outputs": []
    },
    {
      "cell_type": "markdown",
      "metadata": {
        "id": "oC1W8ZhZuZ4c"
      },
      "source": [
        "\n",
        "c) Convierte el código anterior en una función que genere un archivo de texto con nombre `output.txt`, siguiendo este formato: \n",
        "```\n",
        "Dia, Afectados, Críticos, Exitus, Estado\n",
        "0, 4250, 425,  106, No Saturación\n",
        "1, 5737, 573,  143, No Saturación\n",
        "2, 7745, 774,  193, No Saturación\n",
        "...\n",
        "```\n",
        "Con los parámetros de entrada $N$, $D$, $\\beta$, camas SMI.\n",
        "\n",
        "<span style=\"font-family: Courier New; background-color: #82b74b; color: #000000; padding: 2px; \">NM</span>"
      ]
    },
    {
      "cell_type": "code",
      "metadata": {
        "id": "RR7WtkFzuZ4c"
      },
      "source": [
        "# Respuesta\n",
        "# Realizamos una función en base al código anterior, para eso necesito\n",
        "#     modificar la función anterior para incluir beta como argumento de entrada\n",
        "\n",
        "def covid(N,D, beta):\n",
        "    return(N*(1+beta)**D)\n",
        "\n",
        "def simulacion(N = 4250,  D = 21, beta=0.35, camasSMI = 3363 ):\n",
        "    with open(\"output.txt\",\"wt\") as f:\n",
        "        f.write( \"Dia, Afectados, criticos, exitus, estado\\n\")\n",
        "        for i in range(D):\n",
        "            afectados = covid(N,i,beta)\n",
        "            criticos, exitus = afectados*.1, afectados*.025\n",
        "            if criticos > camasSMI: \n",
        "                estadoSMI = \"Saturación\"\n",
        "            else:\n",
        "                estadoSMI = \"No Saturación\"     \n",
        "            f.write( \"%d, %d, %d, %d, %s \\n\" % (i,afectados,criticos, exitus, estadoSMI ))"
      ],
      "execution_count": null,
      "outputs": []
    },
    {
      "cell_type": "code",
      "metadata": {
        "id": "S9qsJHoCv744"
      },
      "source": [
        "simulacion()"
      ],
      "execution_count": null,
      "outputs": []
    },
    {
      "cell_type": "code",
      "metadata": {
        "id": "ob8lO2qev8Xt"
      },
      "source": [
        "# vemos si el fichero contiene la información requerida\n",
        "# Observamos que tenemos una saturación de SMI a partir\n",
        "# del dia 7\n",
        "%cat output.txt"
      ],
      "execution_count": null,
      "outputs": []
    },
    {
      "cell_type": "markdown",
      "metadata": {
        "id": "EwcvAoA8uZ4d"
      },
      "source": [
        "### Ejercicio 3\n",
        "\n",
        "Dado el siguiente diccionario:"
      ]
    },
    {
      "cell_type": "code",
      "metadata": {
        "id": "1QY24vgduZ4e"
      },
      "source": [
        "d = {\"Alex\":344334443, \"Eva\":5533443, \"Cristina\":443355, \"Jonas\":33223324}"
      ],
      "execution_count": null,
      "outputs": []
    },
    {
      "cell_type": "markdown",
      "metadata": {
        "id": "cEzUxI_uuZ4e"
      },
      "source": [
        "Escribid una función que pregunte al usuario que introduzca el nombre de una persona y muestre por pantalla el nombre de la persona y su teléfono. \n",
        "\n",
        "Tened en cuenta que:\n",
        "\n",
        "- La función debe controlar que el valor introducido por el usuario es un nombre que existe en el diccionario. En caso contrario, mostrará un mensaje de error (\"El nombre introducido no corresponde a ninguna persona\") y devolverá el valor False.\n",
        "- Debéis tener en cuenta que el nombre de las personas que nos pasan por parámetro puede ser en minúsculas, mayúsculas o una combinación de ambas, y que debemos encontrar el número de teléfono aunque la capitalización de la cadena entrada por el usuario no sea exactamente la misma que hemos almacenado en el diccionario.\n",
        "- Suponed que  no hay acentos en los nombres.\n",
        "\n",
        "Nota 1: Para realizar la actividad, tendréis que capturar un texto que entrará el usuario. Consultad la [documentación oficial de la función input](https://docs.python.org/3/library/functions.html#input) para ver cómo hacerlo.\n",
        "\n",
        "Nota 2: También tendréis que pensar cómo tratar el hecho de que el usuario pueda utilizar mayúsculas y minúsculas en la escritura del nombre en el diccionario. ¡Os animamos a usar un buscador para intentar encontrar alguna alternativa para resolver este subproblema! ¡Recordad citar las referencias que hayáis usado para resolverlo!\n",
        "\n",
        "<span style=\"font-family: Courier New; background-color: #ffcc5c; color: #000000; padding: 3px; \">EG</span>"
      ]
    },
    {
      "cell_type": "code",
      "metadata": {
        "id": "eRzQPVDtuZ4f"
      },
      "source": [
        "d = {\"Alex\":344334443, \"Eva\":5533443, \"Cristina\":443355, \"Jonas\":33223324}\n",
        "\n",
        "# Respuesta\n",
        "# La solución propuesta considera un argumento de entrada con el diccionario\n",
        "def listin(d):\n",
        "    n = input(\"nombre? \")\n",
        "    if n.capitalize() in d:\n",
        "        print(\"El número de %s es %d\" % (n, d[n.capitalize()]))\n",
        "    else: \n",
        "        print(False)\n",
        "\n",
        "listin(d)"
      ],
      "execution_count": null,
      "outputs": []
    },
    {
      "cell_type": "markdown",
      "metadata": {
        "id": "MWQ6Ozf6uZ4g"
      },
      "source": [
        "Referencias consultadas:\n",
        "\n",
        "*Incluir aquí las referencias*"
      ]
    },
    {
      "cell_type": "markdown",
      "metadata": {
        "id": "Erc0s26XuZ4o"
      },
      "source": [
        "###  Ejercicio 4\n",
        "\n",
        "Python dispone de un **idiom** muy útil conocido como `list comprehension`. Utilizando este **idiom**, proporcionad una expresión que devuelva las listas siguientes.\n",
        "\n",
        "Nota: Para realizar esta actividad necesitaréis investigar qué son las `list comprehension` y qué sintaxis utilizan. Para ello, se recomienda en primer lugar que utilicéis un buscador para encontrar información genérica sobre esta construcción. Después, os recomendamos que consultéis stackoverflow para ver algunos ejemplos de problemas que se pueden resolver con esta construcción.\n",
        "\n",
        "\n",
        "[stackoverflow](https://stackoverflow.com/) es un sitio de preguntas-y-respuestas muy popular entre programadores. Veréis que para la gran mayoría de las dudas que tengáis, habrá alguien que ya les habrá tenido (y consultado) anteriormente! Así pues, más allá de preguntar vosotros mismos las dudas allí (nosotros ya tenemos el foro del aula para ello!), consultar esta web os permitirá ver qué soluciones proponen otros programadores a estas dudas. A menudo habrá más de una solución a un mismo problema, y podréis valorar cuál es la más adecuada para vuestro problema.\n",
        "\n",
        "Para ver ejemplos de problemas que son adecuados para resolver con **list comprehensions**, os recomendamos leer las siguientes páginas:\n",
        "* https://stackoverflow.com/questions/12555443/squaring-all-elements-in-a-list\n",
        "* https://stackoverflow.com/questions/18551458/how-to-frame-two-for-loops-in-list-comprehension-python\n",
        "* https://stackoverflow.com/questions/24442091/list-comprehension-with-condition\n",
        "* https://stackoverflow.com/questions/41676212/i-want-to-return-only-the-odd-numbers-in-a-list\n",
        "* https://stackoverflow.com/questions/4260280/if-else-in-a-list-comprehension\n",
        "\n",
        "<span style=\"font-family: Courier New; background-color: #ffcc5c; color: #000000; padding: 3px; \">EG</span>\n"
      ]
    },
    {
      "cell_type": "markdown",
      "metadata": {
        "id": "BhMhxs4BuZ4p"
      },
      "source": [
        "a) Una lista con los valores $4 x^2$ donde $x$ es cada uno de los números de la lista `list_1`:"
      ]
    },
    {
      "cell_type": "code",
      "metadata": {
        "id": "NUCL7UAguZ4q"
      },
      "source": [
        "list_1 = [1, 2, 3, 4, 5, 6, 7, 8, 9]\n",
        "\n",
        "# Respuesta\n",
        "[4*i**2 for i in list_1]"
      ],
      "execution_count": null,
      "outputs": []
    },
    {
      "cell_type": "markdown",
      "metadata": {
        "id": "c4IqfI_CuZ4q"
      },
      "source": [
        "b) Una lista con los valores $x/(x+1)$ donde $x$ es cada uno de los números de la lista `list_1`:"
      ]
    },
    {
      "cell_type": "code",
      "metadata": {
        "id": "V932Ny_TuZ4q"
      },
      "source": [
        "list_1 = [1, 2, 3, 4, 5, 6, 7, 8, 9]\n",
        "\n",
        "# Respuesta\n",
        "[i/(i+1) for i in list_1]"
      ],
      "execution_count": null,
      "outputs": []
    },
    {
      "cell_type": "markdown",
      "metadata": {
        "id": "Gm3CKsdAuZ4r"
      },
      "source": [
        "c) Una lista con los valores $4x^2/(4x^2-1)$ donde $x$ es cada uno de los números de la lista `list_1`:"
      ]
    },
    {
      "cell_type": "code",
      "metadata": {
        "id": "mKma0h0muZ4r"
      },
      "source": [
        "list_1 = [1, 2, 3, 4, 5, 6, 7, 8, 9]\n",
        "\n",
        "# Respuesta\n",
        "[(4.*i**2)/(4.*i**2 -1) for i in list_1]"
      ],
      "execution_count": null,
      "outputs": []
    },
    {
      "cell_type": "markdown",
      "metadata": {
        "id": "-Qu5gcKouZ4r"
      },
      "source": [
        "### Ejercicio 5\n",
        "\n",
        "Las funciones `lambda` son formas de expresar y definir funciones pequeñas sin necesidad de usar el constructor `def funcion():`.\n",
        "\n",
        "Lee sobre las funciones lambda, por ejemplo [aquí](https://www.w3schools.com/python/python_lambda.asp) o [aquí](https://realpython.com/python-lambda/)\n",
        "\n",
        "Escribe una función $f$ con argumento $n$, $f(n)$, que **devuelva una función** lambda, que esta a su vez devuelva $n$ copias de una cadena de caracteres en su argumento: \n",
        "\n",
        "<span style=\"font-family: Courier New; background-color: #f2ae72; color: #000000; padding: 3px; \">EI</span>"
      ]
    },
    {
      "cell_type": "code",
      "metadata": {
        "jupyter": {
          "source_hidden": true
        },
        "id": "muJ76RV9uZ4r"
      },
      "source": [
        "# Respuesta\n",
        "\n",
        "def f(n): \n",
        "    # Definir de la función usando una método lambda\n",
        "    return()\n",
        "r = f(5)\n",
        "r(\"hola\")  # Donde deberíamos ver 5 copias del literal \"Hola \""
      ],
      "execution_count": null,
      "outputs": []
    },
    {
      "cell_type": "code",
      "metadata": {
        "id": "nU0ll1lcwHqw"
      },
      "source": [
        "#Solución\n",
        "def f(n):\n",
        "    return lambda x: x*n"
      ],
      "execution_count": null,
      "outputs": []
    },
    {
      "cell_type": "code",
      "metadata": {
        "id": "fpbOsyB7wIpW"
      },
      "source": [
        "r = f(5)\n",
        "r(\"Hola \")"
      ],
      "execution_count": null,
      "outputs": []
    },
    {
      "cell_type": "markdown",
      "metadata": {
        "id": "oqLgz_vGuZ4t"
      },
      "source": [
        "### Ejercicio Opcional\n",
        "\n",
        "Existe una expresión atribuida a John Wallis (1616) para la estimación del valor de $\\pi$, consistente en: \n",
        "\n",
        "$$\n",
        "\\frac{\\pi}{2} = \\prod_{n=1}^{N} (\\frac{4n^2}{4n^2 - 1})\n",
        "$$\n",
        "si $N$ es suficientemente grande  $N \\to \\infty$. \n",
        "\n",
        "Escribe una función que, dado una aproximación N, calcule una estimación de $\\pi$ siguiendo la fórmula de Wallis. \n",
        "\n",
        "\n",
        "\n",
        "**Consideraciones:**\n",
        "\n",
        "- Investigad las funciones map, reduce\n",
        "- También podéis usar una list comprehension\n",
        "- Las funciones lambda os pueden ser útiles\n",
        "\n",
        "<span style=\"font-family: Courier New; background-color: #f2ae72; color: #000000; padding: 3px; \">EI</span>"
      ]
    },
    {
      "cell_type": "code",
      "metadata": {
        "attributes": {
          "classes": [
            "sourceCode"
          ],
          "id": ""
        },
        "id": "bdwJG2uNuZ4t"
      },
      "source": [
        "# Respuesta\n",
        "# Propuesta de solución para Wallis-pi\n",
        "# Nos proponemos usar map/reduce \n",
        "# para eso debemos importar reduce de functools\n",
        "\n",
        "from functools import reduce\n",
        "\n",
        "\n",
        "def pi(n):\n",
        "    m = map(lambda n:(4.*n**2)/(4.*n**2 -1), range(1,N)) # Calculamos cada término del productorio\n",
        "    p = reduce(lambda x,y: x*y, m) # Aplicamos el productorio con ayuda de un reduce\n",
        "    return(p*2) # Como obtememos pi/2, debemos multiplicar por dos el resultado"
      ],
      "execution_count": null,
      "outputs": []
    },
    {
      "cell_type": "code",
      "metadata": {
        "id": "F7-sBUXnwLhZ"
      },
      "source": [
        "pi(100)"
      ],
      "execution_count": null,
      "outputs": []
    }
  ]
}