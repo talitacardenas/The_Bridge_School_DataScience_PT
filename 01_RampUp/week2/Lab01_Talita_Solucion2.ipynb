{
 "cells": [
  {
   "cell_type": "markdown",
   "metadata": {
    "id": "6emPPi8Zvt30"
   },
   "source": [
    "# Python - intro 101\n",
    "\n",
    "## Lab 1 - Qué va a crear\n",
    "\n",
    "En este desafío, creará un contador de calorías que solicita al usuario lo siguiente:\n",
    "\n",
    "- La fecha actual (en cualquier formato)\n",
    "- Calorías ingeridas en el desayuno\n",
    "- Calorías ingeridas en la comida\n",
    "- Calorías ingeridas en la cena\n",
    "- Calorías ingeridas en tentempiés\n",
    "\n",
    "Después, el programa sumará todas las calorías y les dará formato de mensaje."
   ]
  },
  {
   "cell_type": "code",
   "execution_count": 7,
   "metadata": {
    "colab": {
     "base_uri": "https://localhost:8080/"
    },
    "id": "mID9DJRxvvU5",
    "outputId": "605200fe-2f8e-4d49-f972-2d607fce4acc"
   },
   "outputs": [
    {
     "name": "stdout",
     "output_type": "stream",
     "text": [
      "¿Què día es hoy?\n"
     ]
    }
   ],
   "source": [
    "# Creamos las variables del contador\n",
    "print(\"¿Què día es hoy?\")"
   ]
  },
  {
   "cell_type": "code",
   "execution_count": 1,
   "metadata": {
    "colab": {
     "base_uri": "https://localhost:8080/"
    },
    "id": "GAHuwqUcwEEB",
    "outputId": "a8dd35c4-ca24-4db4-e355-f110f9a9a965"
   },
   "outputs": [
    {
     "name": "stdin",
     "output_type": "stream",
     "text": [
      " 18/05/2021\n"
     ]
    }
   ],
   "source": [
    "# Para la fecha creamos una variable del tipo input()\n",
    "date = input()"
   ]
  },
  {
   "cell_type": "code",
   "execution_count": 2,
   "metadata": {
    "colab": {
     "base_uri": "https://localhost:8080/",
     "height": 36
    },
    "id": "_hfmKA2iu1R9",
    "outputId": "c7b311a4-c931-4479-9d7f-e37b4d6496b8"
   },
   "outputs": [
    {
     "data": {
      "text/plain": [
       "'18/05/2021'"
      ]
     },
     "execution_count": 2,
     "metadata": {},
     "output_type": "execute_result"
    }
   ],
   "source": [
    "date"
   ]
  },
  {
   "cell_type": "code",
   "execution_count": 3,
   "metadata": {
    "colab": {
     "base_uri": "https://localhost:8080/"
    },
    "id": "zvc8A-XlwRxC",
    "outputId": "8380d820-94b6-4a1a-8529-6095d616b043"
   },
   "outputs": [
    {
     "name": "stdout",
     "output_type": "stream",
     "text": [
      "Calorias desayuno\n"
     ]
    }
   ],
   "source": [
    "print(\"Calorias desayuno\")"
   ]
  },
  {
   "cell_type": "code",
   "execution_count": 5,
   "metadata": {
    "colab": {
     "base_uri": "https://localhost:8080/"
    },
    "id": "XG9qlmvywdDi",
    "outputId": "1edf60f1-973f-4f79-f288-8531ddfce0d6"
   },
   "outputs": [
    {
     "name": "stdin",
     "output_type": "stream",
     "text": [
      " 560\n"
     ]
    }
   ],
   "source": [
    "breakfast = int(input())"
   ]
  },
  {
   "cell_type": "code",
   "execution_count": 6,
   "metadata": {
    "colab": {
     "base_uri": "https://localhost:8080/"
    },
    "id": "XuhvBuDwwkBC",
    "outputId": "ec20aad4-7158-4588-a417-6a6adf9ece3e"
   },
   "outputs": [
    {
     "data": {
      "text/plain": [
       "560"
      ]
     },
     "execution_count": 6,
     "metadata": {},
     "output_type": "execute_result"
    }
   ],
   "source": [
    "breakfast"
   ]
  },
  {
   "cell_type": "code",
   "execution_count": 7,
   "metadata": {},
   "outputs": [
    {
     "name": "stdout",
     "output_type": "stream",
     "text": [
      "Calorias comida\n"
     ]
    }
   ],
   "source": [
    "print(\"Calorias comida\")"
   ]
  },
  {
   "cell_type": "code",
   "execution_count": 8,
   "metadata": {},
   "outputs": [
    {
     "name": "stdin",
     "output_type": "stream",
     "text": [
      " 300\n"
     ]
    }
   ],
   "source": [
    "lunch = int(input())"
   ]
  },
  {
   "cell_type": "code",
   "execution_count": 9,
   "metadata": {},
   "outputs": [
    {
     "data": {
      "text/plain": [
       "300"
      ]
     },
     "execution_count": 9,
     "metadata": {},
     "output_type": "execute_result"
    }
   ],
   "source": [
    "lunch"
   ]
  },
  {
   "cell_type": "code",
   "execution_count": 10,
   "metadata": {},
   "outputs": [
    {
     "name": "stdout",
     "output_type": "stream",
     "text": [
      "Caloriías cena\n"
     ]
    }
   ],
   "source": [
    "print(\"Caloriías cena\")"
   ]
  },
  {
   "cell_type": "code",
   "execution_count": 11,
   "metadata": {},
   "outputs": [
    {
     "name": "stdin",
     "output_type": "stream",
     "text": [
      " 400\n"
     ]
    }
   ],
   "source": [
    "diner = int(input())"
   ]
  },
  {
   "cell_type": "code",
   "execution_count": 12,
   "metadata": {},
   "outputs": [
    {
     "data": {
      "text/plain": [
       "400"
      ]
     },
     "execution_count": 12,
     "metadata": {},
     "output_type": "execute_result"
    }
   ],
   "source": [
    "diner"
   ]
  },
  {
   "cell_type": "code",
   "execution_count": 13,
   "metadata": {},
   "outputs": [
    {
     "name": "stdout",
     "output_type": "stream",
     "text": [
      "Calorias tentempiés\n"
     ]
    }
   ],
   "source": [
    "print(\"Calorías tentempiés\")"
   ]
  },
  {
   "cell_type": "code",
   "execution_count": 16,
   "metadata": {},
   "outputs": [
    {
     "name": "stdin",
     "output_type": "stream",
     "text": [
      " 200\n"
     ]
    }
   ],
   "source": [
    "snack= int(input())"
   ]
  },
  {
   "cell_type": "code",
   "execution_count": 17,
   "metadata": {},
   "outputs": [
    {
     "data": {
      "text/plain": [
       "200"
      ]
     },
     "execution_count": 17,
     "metadata": {},
     "output_type": "execute_result"
    }
   ],
   "source": [
    "snack"
   ]
  },
  {
   "cell_type": "code",
   "execution_count": 18,
   "metadata": {},
   "outputs": [],
   "source": [
    "totalcalories = breakfast + lunch + diner + snack"
   ]
  },
  {
   "cell_type": "code",
   "execution_count": 20,
   "metadata": {},
   "outputs": [
    {
     "data": {
      "text/plain": [
       "1460"
      ]
     },
     "execution_count": 20,
     "metadata": {},
     "output_type": "execute_result"
    }
   ],
   "source": [
    "totalcalories\n"
   ]
  },
  {
   "cell_type": "code",
   "execution_count": 36,
   "metadata": {},
   "outputs": [
    {
     "name": "stdout",
     "output_type": "stream",
     "text": [
      "El total de las calorías del día : 18/05/2021 , han sido de 1460 Kcal.\n"
     ]
    }
   ],
   "source": [
    "print(\"El total de las calorías del día : {0} , han sido de {1} Kcal.\".format(date, totalcalories))\n"
   ]
  },
  {
   "cell_type": "code",
   "execution_count": 37,
   "metadata": {},
   "outputs": [
    {
     "name": "stdout",
     "output_type": "stream",
     "text": [
      "El total de las calorías del día : 18/05/2021 , han sido de 1460 Kcal.\n"
     ]
    }
   ],
   "source": [
    "print(\"El total de las calorías del día : %s , han sido de %s Kcal.\" % (date, totalcalories))\n"
   ]
  },
  {
   "cell_type": "code",
   "execution_count": 35,
   "metadata": {
    "id": "6N8Zj1NPwipJ"
   },
   "outputs": [],
   "source": [
    "# Tiene que recoger los demás datos y sumarlos\n",
    "# AQUI VUESTRO CÓDIGO"
   ]
  },
  {
   "cell_type": "code",
   "execution_count": null,
   "metadata": {
    "id": "Crw3e9Edw06d"
   },
   "outputs": [],
   "source": [
    "# Sumar \n",
    "#totalCal = # sumamos las variables anteriores"
   ]
  },
  {
   "cell_type": "code",
   "execution_count": null,
   "metadata": {
    "id": "vkhH1wwLw90S"
   },
   "outputs": [],
   "source": [
    "# OUTPUT\n",
    "print(\"El total de las calorías del día : \", totalcalories, \" Kcal\")"
   ]
  },
  {
   "cell_type": "code",
   "execution_count": null,
   "metadata": {
    "id": "DQCB4siBw7bm"
   },
   "outputs": [],
   "source": [
    "#Esta solución he desarolado en JupyterLab para saber trabajar con los 2 entornos, tanto Colab cuano Jupyter"
   ]
  },
  {
   "cell_type": "code",
   "execution_count": null,
   "metadata": {
    "id": "cSIznB79wwQz"
   },
   "outputs": [],
   "source": []
  },
  {
   "cell_type": "code",
   "execution_count": null,
   "metadata": {
    "id": "dyVHq-CKwgX7"
   },
   "outputs": [],
   "source": []
  },
  {
   "cell_type": "code",
   "execution_count": null,
   "metadata": {},
   "outputs": [],
   "source": []
  }
 ],
 "metadata": {
  "colab": {
   "name": "Lab01.ipynb",
   "provenance": []
  },
  "kernelspec": {
   "display_name": "Python 3",
   "language": "python",
   "name": "python3"
  },
  "language_info": {
   "codemirror_mode": {
    "name": "ipython",
    "version": 3
   },
   "file_extension": ".py",
   "mimetype": "text/x-python",
   "name": "python",
   "nbconvert_exporter": "python",
   "pygments_lexer": "ipython3",
   "version": "3.8.8"
  }
 },
 "nbformat": 4,
 "nbformat_minor": 4
}
