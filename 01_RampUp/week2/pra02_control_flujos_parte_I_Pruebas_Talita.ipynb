{
  "nbformat": 4,
  "nbformat_minor": 0,
  "metadata": {
    "colab": {
      "name": "Lab02_control_flujos_parte_I",
      "provenance": [],
      "collapsed_sections": [],
      "toc_visible": true
    },
    "kernelspec": {
      "name": "python3",
      "display_name": "Python 3"
    },
    "language_info": {
      "name": "python"
    }
  },
  "cells": [
    {
      "cell_type": "markdown",
      "metadata": {
        "id": "dBjeqD-8E3jy"
      },
      "source": [
        "# Condicionales IF...ELIF...ELSE\n",
        "\n",
        "nos permite realizar evaluaciones basada en respuestas TRUE o FALSE\n"
      ]
    },
    {
      "cell_type": "code",
      "metadata": {
        "id": "7nZIQcUfE8rG"
      },
      "source": [
        "if respuesta == 'SI' or respuesta == 'S' or respuesta == 'si':\n",
        "    print(\"Continuar...\")\n",
        "    print(\"Completado!\")\n",
        "elif respuesta == 'not' or respuesta == 'N' or respuesta == 'no':\n",
        "    print(\"Salida!\")\n",
        "else:\n",
        "    print(\"Intentalo nuevamente....\")"
      ],
      "execution_count": null,
      "outputs": []
    },
    {
      "cell_type": "markdown",
      "metadata": {
        "id": "tkXkkar9FMGX"
      },
      "source": [
        "# Vamos con el laboratorio 2\n",
        "\n",
        "Escribir un programa que convierta la temperatura de Fahrenheit a Celsius\n",
        "\n",
        "En este código se muestra la fórmula matemática para convertir una temperatura medida en grados Fahrenheit a una temperatura medida en grados Celsius:\n",
        "\n",
        "celsius = (fahrenheit - 32) * 5/9\n",
        "\n",
        "Use esta fórmula para compilar un programa que **solicite a los usuarios** una temperatura en grados Fahrenheit, realice la conversión a Celsius y, después, muestre la temperatura en grados Celsius.\n",
        "\n",
        "Si el usuario escribe el valor 55, el programa debe generar este resultado:\n",
        "\n",
        "*OUTPUT What is the temperature in fahrenheit? 55 Temperature in celsius is 12 *\n",
        "\n",
        "Pero si el usuario escribe un valor no válido, el programa debe indicarle que hay un problema y, después, cerrar el programa. En este caso, si el usuario escribe el valor Bob, el programa debe generar este resultado:\n",
        "\n",
        "OUTPUT What is the temperature in fahrenheit? bob Input is not a number.\n",
        "\n",
        "Nota\n",
        "\n",
        "Para comprobar el trabajo, use un conversor de temperatura en línea y confirme que el resultado del programa coincide con el del conversor.\n",
        "\n",
        "Tanto si tiene dificultades y necesita echar un vistazo a la solución como si finaliza el ejercicio correctamente, continúe para ver una solución a este desafío."
      ]
    },
    {
      "cell_type": "code",
      "metadata": {
        "colab": {
          "base_uri": "https://localhost:8080/"
        },
        "id": "jDE1hTKUEuAu",
        "outputId": "427e983b-47b3-43e6-96dd-4b421d5f663f"
      },
      "source": [
        "a = 56\n",
        "type(a)"
      ],
      "execution_count": 50,
      "outputs": [
        {
          "output_type": "execute_result",
          "data": {
            "text/plain": [
              "int"
            ]
          },
          "metadata": {
            "tags": []
          },
          "execution_count": 50
        }
      ]
    },
    {
      "cell_type": "code",
      "metadata": {
        "colab": {
          "base_uri": "https://localhost:8080/"
        },
        "id": "jKJlfrFuFijZ",
        "outputId": "0fda9239-a919-4354-c50d-0b5c32bcb381"
      },
      "source": [
        "fahrenheit = input(\"Cuál es la temperatura FAH de: \")"
      ],
      "execution_count": 51,
      "outputs": [
        {
          "output_type": "stream",
          "text": [
            "Cuál es la temperatura FAH de: 55\n"
          ],
          "name": "stdout"
        }
      ]
    },
    {
      "cell_type": "markdown",
      "metadata": {
        "id": "yIgosPBfFue7"
      },
      "source": [
        "### GENERAR UN PSEUDOCÓDIGO\n",
        "```\n",
        "fah = introducir un valor numérico\n",
        "evaluamos este valor numèrico, y \n",
        "SI es valor NO ES numérico, \n",
        "ELSE print (Este valor no es numèrico)\n",
        "o reintenta\n",
        "\n",
        "SI el valor ES numérico\n",
        "celsius = int(fah - 32) * 5/9\n",
        "print(La temperatura es CELSIUS)\n",
        "\n",
        "```"
      ]
    },
    {
      "cell_type": "code",
      "metadata": {
        "colab": {
          "base_uri": "https://localhost:8080/"
        },
        "id": "qtvrayjsFvMY",
        "outputId": "2a78001d-b41d-403a-9278-b3e6903eaa40"
      },
      "source": [
        "type(fahrenheit) # la evaluación de un valor almacenado a través de un input, lo transforma en STRING (cadena de texto)"
      ],
      "execution_count": null,
      "outputs": [
        {
          "output_type": "execute_result",
          "data": {
            "text/plain": [
              "str"
            ]
          },
          "metadata": {
            "tags": []
          },
          "execution_count": 3
        }
      ]
    },
    {
      "cell_type": "code",
      "metadata": {
        "id": "ZGOQ74ssF2gv"
      },
      "source": [
        "# celsius = (fahrenheit - 32) * 5/9"
      ],
      "execution_count": null,
      "outputs": []
    },
    {
      "cell_type": "markdown",
      "metadata": {
        "id": "4wenjYUt85aX"
      },
      "source": [
        ""
      ]
    },
    {
      "cell_type": "markdown",
      "metadata": {
        "id": "o-TVVfuz86jo"
      },
      "source": [
        "Aquí empieza la práctica - Talita"
      ]
    },
    {
      "cell_type": "code",
      "metadata": {
        "id": "cq1xR3c0F-U3",
        "colab": {
          "base_uri": "https://localhost:8080/"
        },
        "outputId": "98d74b7b-6ee9-45d3-abf0-607f3de3a9c3"
      },
      "source": [
        "print (\"Por favor informar la temperatura en Fahrenheit\")\n",
        "fah = int(input())"
      ],
      "execution_count": 231,
      "outputs": [
        {
          "output_type": "stream",
          "text": [
            "Por favor informar la temperatura en Fahrenheit\n",
            "100\n"
          ],
          "name": "stdout"
        }
      ]
    },
    {
      "cell_type": "code",
      "metadata": {
        "colab": {
          "base_uri": "https://localhost:8080/"
        },
        "id": "jXa47oyC3j5I",
        "outputId": "70e88b44-3c85-4d63-a8fe-03dedba687d7"
      },
      "source": [
        "type(fah) # Para coprobar el tipo"
      ],
      "execution_count": 178,
      "outputs": [
        {
          "output_type": "execute_result",
          "data": {
            "text/plain": [
              "int"
            ]
          },
          "metadata": {
            "tags": []
          },
          "execution_count": 178
        }
      ]
    },
    {
      "cell_type": "code",
      "metadata": {
        "id": "Lcd1-qe4-EZA"
      },
      "source": [
        "celsius = int((int(fah)-32)*5/9)"
      ],
      "execution_count": 219,
      "outputs": []
    },
    {
      "cell_type": "code",
      "metadata": {
        "id": "b2KvzX-L-dFD",
        "outputId": "f3fa43f8-fe63-468e-fd60-d415d46dabaa",
        "colab": {
          "base_uri": "https://localhost:8080/"
        }
      },
      "source": [
        "celsius # por comprobar"
      ],
      "execution_count": 220,
      "outputs": [
        {
          "output_type": "execute_result",
          "data": {
            "text/plain": [
              "148"
            ]
          },
          "metadata": {
            "tags": []
          },
          "execution_count": 220
        }
      ]
    },
    {
      "cell_type": "code",
      "metadata": {
        "id": "bZWzUeOm-phb",
        "outputId": "c4a53e6c-8324-4330-f5c4-c6bf38a6ab67",
        "colab": {
          "base_uri": "https://localhost:8080/"
        }
      },
      "source": [
        "type(celsius) # por comprobar"
      ],
      "execution_count": 170,
      "outputs": [
        {
          "output_type": "execute_result",
          "data": {
            "text/plain": [
              "int"
            ]
          },
          "metadata": {
            "tags": []
          },
          "execution_count": 170
        }
      ]
    },
    {
      "cell_type": "code",
      "metadata": {
        "colab": {
          "base_uri": "https://localhost:8080/"
        },
        "id": "cUOXfg964XhS",
        "outputId": "b9864b6b-4d4c-42c3-939b-13075b462671"
      },
      "source": [
        "if type(fah) == int:\n",
        "  print (\"Su temperatura es de\",celsius, \" Celsius.\")\n",
        "else:\n",
        "   print (fah, \"no es un valor numerico, informe un valor valido\")\n",
        "\n"
      ],
      "execution_count": 228,
      "outputs": [
        {
          "output_type": "stream",
          "text": [
            "Su temperatura es de 148  Celsius.\n"
          ],
          "name": "stdout"
        }
      ]
    },
    {
      "cell_type": "code",
      "metadata": {
        "id": "nu5RV5ubNEbR"
      },
      "source": [
        ""
      ],
      "execution_count": null,
      "outputs": []
    },
    {
      "cell_type": "markdown",
      "metadata": {
        "id": "LejHEp7LNHuQ"
      },
      "source": [
        "Segundo test"
      ]
    },
    {
      "cell_type": "code",
      "metadata": {
        "id": "gG5cLK4EJBS2",
        "outputId": "54cfec7b-0bbd-4f27-956f-445c7338819f",
        "colab": {
          "base_uri": "https://localhost:8080/"
        }
      },
      "source": [
        "print (\"Por favor informar la temperatura en Fahrenheit\")\n",
        "fah2 = input()"
      ],
      "execution_count": 276,
      "outputs": [
        {
          "output_type": "stream",
          "text": [
            "Por favor informar la temperatura en Fahrenheit\n",
            "BA\n"
          ],
          "name": "stdout"
        }
      ]
    },
    {
      "cell_type": "code",
      "metadata": {
        "id": "zBnAMPhlJPTe",
        "outputId": "e3aed957-0680-4824-fcdf-da8feab7047b",
        "colab": {
          "base_uri": "https://localhost:8080/"
        }
      },
      "source": [
        "type(fah2)"
      ],
      "execution_count": 268,
      "outputs": [
        {
          "output_type": "execute_result",
          "data": {
            "text/plain": [
              "str"
            ]
          },
          "metadata": {
            "tags": []
          },
          "execution_count": 268
        }
      ]
    },
    {
      "cell_type": "code",
      "metadata": {
        "id": "R0XxY_Z0QvLm",
        "outputId": "54e31721-e746-494e-bcd8-612aa1d2804d",
        "colab": {
          "base_uri": "https://localhost:8080/",
          "height": 164
        }
      },
      "source": [
        "fah4 = int(fah2)"
      ],
      "execution_count": 277,
      "outputs": [
        {
          "output_type": "error",
          "ename": "ValueError",
          "evalue": "ignored",
          "traceback": [
            "\u001b[0;31m---------------------------------------------------------------------------\u001b[0m",
            "\u001b[0;31mValueError\u001b[0m                                Traceback (most recent call last)",
            "\u001b[0;32m<ipython-input-277-18b03bb6ad46>\u001b[0m in \u001b[0;36m<module>\u001b[0;34m()\u001b[0m\n\u001b[0;32m----> 1\u001b[0;31m \u001b[0mfah4\u001b[0m \u001b[0;34m=\u001b[0m \u001b[0mint\u001b[0m\u001b[0;34m(\u001b[0m\u001b[0mfah2\u001b[0m\u001b[0;34m)\u001b[0m\u001b[0;34m\u001b[0m\u001b[0;34m\u001b[0m\u001b[0m\n\u001b[0m",
            "\u001b[0;31mValueError\u001b[0m: invalid literal for int() with base 10: 'BA'"
          ]
        }
      ]
    },
    {
      "cell_type": "code",
      "metadata": {
        "id": "C-tHZfe_Qz25",
        "outputId": "05ffd92c-aab9-4cdd-c0a2-b8a0be536b1a",
        "colab": {
          "base_uri": "https://localhost:8080/"
        }
      },
      "source": [
        "type (fah4)"
      ],
      "execution_count": 271,
      "outputs": [
        {
          "output_type": "execute_result",
          "data": {
            "text/plain": [
              "int"
            ]
          },
          "metadata": {
            "tags": []
          },
          "execution_count": 271
        }
      ]
    },
    {
      "cell_type": "code",
      "metadata": {
        "id": "ATVPoz2xJIGX"
      },
      "source": [
        "celsius2 = int((int(fah4)-32)*5/9)"
      ],
      "execution_count": 272,
      "outputs": []
    },
    {
      "cell_type": "code",
      "metadata": {
        "id": "TMky__XbH_HZ"
      },
      "source": [
        "numb = list(range(0,1000))"
      ],
      "execution_count": 244,
      "outputs": []
    },
    {
      "cell_type": "code",
      "metadata": {
        "id": "fbqKuRw-LGvn",
        "outputId": "6ae0543f-3dca-4e0d-9a44-6481b8adcc31",
        "colab": {
          "base_uri": "https://localhost:8080/"
        }
      },
      "source": [
        "fah4 in numb #Por comprobar"
      ],
      "execution_count": 274,
      "outputs": [
        {
          "output_type": "execute_result",
          "data": {
            "text/plain": [
              "True"
            ]
          },
          "metadata": {
            "tags": []
          },
          "execution_count": 274
        }
      ]
    },
    {
      "cell_type": "code",
      "metadata": {
        "id": "XdyN0BGxMXsB",
        "outputId": "9e3762a8-06f0-4b2f-c64a-22fcfee54084",
        "colab": {
          "base_uri": "https://localhost:8080/"
        }
      },
      "source": [
        "if fah4 in numb:\n",
        "  print(\"Su temperatura es de \", celsius2,\" Celsius.\")\n",
        "else:\n",
        "  print (fah2, \"no es un valor numerico, informe un valor valido.\")"
      ],
      "execution_count": 275,
      "outputs": [
        {
          "output_type": "stream",
          "text": [
            "Su temperatura es de  426  Celsius.\n"
          ],
          "name": "stdout"
        }
      ]
    },
    {
      "cell_type": "code",
      "metadata": {
        "id": "jOr_YqkgOYaQ"
      },
      "source": [
        ""
      ],
      "execution_count": null,
      "outputs": []
    },
    {
      "cell_type": "markdown",
      "metadata": {
        "id": "j4g-pf8COZb1"
      },
      "source": [
        "Tercer tentativa"
      ]
    },
    {
      "cell_type": "code",
      "metadata": {
        "id": "Afh1ZPemJgxw",
        "outputId": "2f626593-d8cb-47c5-b30b-e04cfe813b8b",
        "colab": {
          "base_uri": "https://localhost:8080/"
        }
      },
      "source": [
        "print(\"Por favor informar la temperatura en Fahrenheit :\")\n",
        "fah3 = input()"
      ],
      "execution_count": 262,
      "outputs": [
        {
          "output_type": "stream",
          "text": [
            "Por favor informar la temperatura en Fahrenheit :\n",
            "800\n"
          ],
          "name": "stdout"
        }
      ]
    },
    {
      "cell_type": "code",
      "metadata": {
        "id": "TGN_WeAjKHax",
        "outputId": "7af69997-a26d-49b1-9ef6-659a30e3e5ca",
        "colab": {
          "base_uri": "https://localhost:8080/"
        }
      },
      "source": [
        "type (fah3)"
      ],
      "execution_count": 261,
      "outputs": [
        {
          "output_type": "execute_result",
          "data": {
            "text/plain": [
              "str"
            ]
          },
          "metadata": {
            "tags": []
          },
          "execution_count": 261
        }
      ]
    },
    {
      "cell_type": "code",
      "metadata": {
        "id": "rVBoxHAWKkz-"
      },
      "source": [
        "celsius3 = int((int(fah3)-32)*5/9)"
      ],
      "execution_count": 257,
      "outputs": []
    },
    {
      "cell_type": "code",
      "metadata": {
        "id": "HJmMFO9sJfu-",
        "outputId": "fb9219b7-48d0-4a7b-e8b9-0d26eedd2f3b",
        "colab": {
          "base_uri": "https://localhost:8080/"
        }
      },
      "source": [
        "if type(int(fah3))== int:\n",
        "  print (\"Su temperatura es de \", celsius3,\" Celsius.\")\n",
        "else:\n",
        "  print (fah3, \"no es un valor numerico, informe un valor valido.\")"
      ],
      "execution_count": 265,
      "outputs": [
        {
          "output_type": "stream",
          "text": [
            "Su temperatura es de  426  Celsius.\n"
          ],
          "name": "stdout"
        }
      ]
    },
    {
      "cell_type": "markdown",
      "metadata": {
        "id": "5VxivDbeOcoK"
      },
      "source": [
        "# es tarde no estoy segura si soy capaz\n",
        "Si determino a principio que el input es un integer, cuando intento poner letras me da error, pero si no determino quees un integer a principios, no reconoce en en momento de la cmprobación.\n",
        "He intentado con lista de rango, pero tampoco me sirve.\n",
        "He pensado que la comprobacion debe ir a principios, en el momento que inputa el dato, pero no lo sé hacerlo.\n",
        "Si la intención es que el usário informe lo que quiera, no veo como "
      ]
    }
  ]
}