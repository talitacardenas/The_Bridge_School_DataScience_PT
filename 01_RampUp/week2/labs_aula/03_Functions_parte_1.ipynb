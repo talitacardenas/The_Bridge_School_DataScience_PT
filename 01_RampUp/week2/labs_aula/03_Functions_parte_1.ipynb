{
  "nbformat": 4,
  "nbformat_minor": 0,
  "metadata": {
    "colab": {
      "name": "03_Functions_parte_1",
      "provenance": [],
      "collapsed_sections": []
    },
    "kernelspec": {
      "name": "python3",
      "display_name": "Python 3"
    },
    "language_info": {
      "name": "python"
    }
  },
  "cells": [
    {
      "cell_type": "markdown",
      "metadata": {
        "id": "eSFeqdjRwmP7"
      },
      "source": [
        "## Built-in Functions\n",
        "\n",
        "https://docs.python.org/3/library/functions.html\n",
        "\n"
      ]
    },
    {
      "cell_type": "code",
      "metadata": {
        "colab": {
          "base_uri": "https://localhost:8080/"
        },
        "id": "i1T_QHl7wujC",
        "outputId": "22dc09ba-a7f9-46f6-a462-be70cb2c8f58"
      },
      "source": [
        "print(\"Hola Mundo\", \"Adiós\", \"Marco\")"
      ],
      "execution_count": 1,
      "outputs": [
        {
          "output_type": "stream",
          "text": [
            "Hola Mundo Adiós Marco\n"
          ],
          "name": "stdout"
        }
      ]
    },
    {
      "cell_type": "code",
      "metadata": {
        "id": "5989WflBw0m8"
      },
      "source": [
        "frase = \"la clase de hoy no me dejará dormir\""
      ],
      "execution_count": 2,
      "outputs": []
    },
    {
      "cell_type": "code",
      "metadata": {
        "colab": {
          "base_uri": "https://localhost:8080/"
        },
        "id": "jsnAsdOWxNWC",
        "outputId": "6558d919-9da5-4f87-c16f-e55cc76d6255"
      },
      "source": [
        "frase.split(\"e\") # calculará el máximo de ocurrencias"
      ],
      "execution_count": 7,
      "outputs": [
        {
          "output_type": "execute_result",
          "data": {
            "text/plain": [
              "['la clas', ' d', ' hoy no m', ' d', 'jará dormir']"
            ]
          },
          "metadata": {
            "tags": []
          },
          "execution_count": 7
        }
      ]
    },
    {
      "cell_type": "code",
      "metadata": {
        "colab": {
          "base_uri": "https://localhost:8080/"
        },
        "id": "NX4UhjTGw5Lj",
        "outputId": "dc815380-1eaa-4db4-dbac-4d1f786d00c3"
      },
      "source": [
        "frase.split(\"e\", maxsplit=3) # el parámetro maxsplit se utilizará para limitar esta función"
      ],
      "execution_count": 8,
      "outputs": [
        {
          "output_type": "execute_result",
          "data": {
            "text/plain": [
              "['la clas', ' d', ' hoy no m', ' dejará dormir']"
            ]
          },
          "metadata": {
            "tags": []
          },
          "execution_count": 8
        }
      ]
    },
    {
      "cell_type": "code",
      "metadata": {
        "colab": {
          "base_uri": "https://localhost:8080/"
        },
        "id": "xGaCddTKxX6P",
        "outputId": "dcee1f3d-36c4-4fd1-b633-6615274c3545"
      },
      "source": [
        "len(frase)"
      ],
      "execution_count": 9,
      "outputs": [
        {
          "output_type": "execute_result",
          "data": {
            "text/plain": [
              "35"
            ]
          },
          "metadata": {
            "tags": []
          },
          "execution_count": 9
        }
      ]
    },
    {
      "cell_type": "code",
      "metadata": {
        "colab": {
          "base_uri": "https://localhost:8080/"
        },
        "id": "g0GfdbiPxc0J",
        "outputId": "291c0af1-ee89-4dee-de45-5211b225f696"
      },
      "source": [
        "len(\"Hola\")"
      ],
      "execution_count": 10,
      "outputs": [
        {
          "output_type": "execute_result",
          "data": {
            "text/plain": [
              "4"
            ]
          },
          "metadata": {
            "tags": []
          },
          "execution_count": 10
        }
      ]
    },
    {
      "cell_type": "markdown",
      "metadata": {
        "id": "uojgFu9Nx4M7"
      },
      "source": [
        "## Funciones heredadas\n",
        "\n",
        "Las funciones que provienen de librerías importadas"
      ]
    },
    {
      "cell_type": "code",
      "metadata": {
        "colab": {
          "base_uri": "https://localhost:8080/"
        },
        "id": "wi60pCjYxeIO",
        "outputId": "6a0ae724-0c69-4fdf-8751-98fd214c7953"
      },
      "source": [
        "import math\n",
        "math.log10(1000)"
      ],
      "execution_count": 11,
      "outputs": [
        {
          "output_type": "execute_result",
          "data": {
            "text/plain": [
              "3.0"
            ]
          },
          "metadata": {
            "tags": []
          },
          "execution_count": 11
        }
      ]
    },
    {
      "cell_type": "code",
      "metadata": {
        "id": "xXSay-Njx2YE"
      },
      "source": [
        "import random"
      ],
      "execution_count": 12,
      "outputs": []
    },
    {
      "cell_type": "code",
      "metadata": {
        "colab": {
          "base_uri": "https://localhost:8080/"
        },
        "id": "Fby3whJDyBPK",
        "outputId": "dc1cf6b8-bfcb-4011-f36c-70b5266c93da"
      },
      "source": [
        "random.uniform(0,1)"
      ],
      "execution_count": 13,
      "outputs": [
        {
          "output_type": "execute_result",
          "data": {
            "text/plain": [
              "0.5010989378845107"
            ]
          },
          "metadata": {
            "tags": []
          },
          "execution_count": 13
        }
      ]
    },
    {
      "cell_type": "markdown",
      "metadata": {
        "id": "niH1cnv5yQ0t"
      },
      "source": [
        "***\n",
        "\n",
        "## ¿Por qué necesitamos las funciones UDF (User Defined Function)?\n",
        "\n",
        "Al crear funciones definidas por nosotros, también se utilizan las built-in functions de Python. Además de todo lo aprendido hasta ahora..."
      ]
    },
    {
      "cell_type": "code",
      "metadata": {
        "id": "AyO-7vuHyWIu"
      },
      "source": [
        "# Problema: Calcular la edad basada en la fecha de nacimiento\n",
        "years = [1964, 1950, 1981, 1880, 1980, 1981, 1963, 2001]"
      ],
      "execution_count": 14,
      "outputs": []
    },
    {
      "cell_type": "code",
      "metadata": {
        "colab": {
          "base_uri": "https://localhost:8080/"
        },
        "id": "Qkll5be_yr70",
        "outputId": "b51d675c-96fa-4d17-c59b-9dde84e4a1a1"
      },
      "source": [
        "ages = [] # recordad que la lista es un objeto mutable\n",
        "for year in years:\n",
        "  # procedo con el cálculo de la edad YEAR actual - YEAR del listado\n",
        "  age = 2021 - year\n",
        "  # procedemos con almacenar la variable en la lista anterior creada `ages`\n",
        "  ages.append(age)\n",
        "print(ages)"
      ],
      "execution_count": 17,
      "outputs": [
        {
          "output_type": "stream",
          "text": [
            "[57, 71, 40, 141, 41, 40, 58, 20]\n"
          ],
          "name": "stdout"
        }
      ]
    },
    {
      "cell_type": "code",
      "metadata": {
        "colab": {
          "base_uri": "https://localhost:8080/"
        },
        "id": "V5ChNT65zj67",
        "outputId": "1d4d734e-46bf-494b-b928-54100ced13af"
      },
      "source": [
        "ages[3:6] # podemos recorrer una lista con la función slice:dice"
      ],
      "execution_count": 18,
      "outputs": [
        {
          "output_type": "execute_result",
          "data": {
            "text/plain": [
              "[141, 41, 40]"
            ]
          },
          "metadata": {
            "tags": []
          },
          "execution_count": 18
        }
      ]
    },
    {
      "cell_type": "code",
      "metadata": {
        "colab": {
          "base_uri": "https://localhost:8080/"
        },
        "id": "63Tzkvfp0EV0",
        "outputId": "cf780a1f-55d2-495d-c08e-0dc1dff48626"
      },
      "source": [
        "ages_sum = sum(ages)\n",
        "ages_sum"
      ],
      "execution_count": 20,
      "outputs": [
        {
          "output_type": "execute_result",
          "data": {
            "text/plain": [
              "468"
            ]
          },
          "metadata": {
            "tags": []
          },
          "execution_count": 20
        }
      ]
    },
    {
      "cell_type": "code",
      "metadata": {
        "colab": {
          "base_uri": "https://localhost:8080/"
        },
        "id": "8HR7RvAp0Nna",
        "outputId": "03fe6e80-10f8-4e36-9830-979441a1b5ad"
      },
      "source": [
        "n_people = len(ages)\n",
        "n_people"
      ],
      "execution_count": 21,
      "outputs": [
        {
          "output_type": "execute_result",
          "data": {
            "text/plain": [
              "8"
            ]
          },
          "metadata": {
            "tags": []
          },
          "execution_count": 21
        }
      ]
    },
    {
      "cell_type": "code",
      "metadata": {
        "colab": {
          "base_uri": "https://localhost:8080/"
        },
        "id": "PxUxtexa0Spb",
        "outputId": "ab673e5d-846b-4e3e-b91b-cc0238be0656"
      },
      "source": [
        "age_mean = ages_sum / n_people\n",
        "age_mean"
      ],
      "execution_count": 22,
      "outputs": [
        {
          "output_type": "execute_result",
          "data": {
            "text/plain": [
              "58.5"
            ]
          },
          "metadata": {
            "tags": []
          },
          "execution_count": 22
        }
      ]
    },
    {
      "cell_type": "markdown",
      "metadata": {
        "id": "f1FjATnU1TuJ"
      },
      "source": [
        "***\n",
        "\n",
        "¿Cómo podemos mejorar este proceso tan largo?"
      ]
    },
    {
      "cell_type": "code",
      "metadata": {
        "id": "kYUZFN8X1fkr"
      },
      "source": [
        "from datetime import datetime"
      ],
      "execution_count": 24,
      "outputs": []
    },
    {
      "cell_type": "code",
      "metadata": {
        "colab": {
          "base_uri": "https://localhost:8080/"
        },
        "id": "Bi6t0Wo-1hYu",
        "outputId": "83d62ddb-9eac-42f2-f430-2615b86160f2"
      },
      "source": [
        "today = datetime.today() # por defecto es GMT 0\n",
        "today"
      ],
      "execution_count": 25,
      "outputs": [
        {
          "output_type": "execute_result",
          "data": {
            "text/plain": [
              "datetime.datetime(2021, 5, 22, 11, 29, 38, 412374)"
            ]
          },
          "metadata": {
            "tags": []
          },
          "execution_count": 25
        }
      ]
    },
    {
      "cell_type": "code",
      "metadata": {
        "colab": {
          "base_uri": "https://localhost:8080/"
        },
        "id": "9jItgLiz1nxw",
        "outputId": "4582bc06-e842-4855-9fab-39c375840122"
      },
      "source": [
        "today.year"
      ],
      "execution_count": 26,
      "outputs": [
        {
          "output_type": "execute_result",
          "data": {
            "text/plain": [
              "2021"
            ]
          },
          "metadata": {
            "tags": []
          },
          "execution_count": 26
        }
      ]
    },
    {
      "cell_type": "code",
      "metadata": {
        "colab": {
          "base_uri": "https://localhost:8080/"
        },
        "id": "mzLyr8Ur1y-H",
        "outputId": "542956c2-5cee-46e4-8313-e5434098fc74"
      },
      "source": [
        "today.hour"
      ],
      "execution_count": 27,
      "outputs": [
        {
          "output_type": "execute_result",
          "data": {
            "text/plain": [
              "11"
            ]
          },
          "metadata": {
            "tags": []
          },
          "execution_count": 27
        }
      ]
    },
    {
      "cell_type": "markdown",
      "metadata": {
        "id": "AcRauscX2Evy"
      },
      "source": [
        "### Pasamos con la creación de una función"
      ]
    },
    {
      "cell_type": "code",
      "metadata": {
        "id": "YZD0gqVc2HL9"
      },
      "source": [
        "# PASO 1: creamos la función personalizada para calcular la edad\n",
        "def get_average_age(birth_year):\n",
        "  # recogemos el valor YEAR actual\n",
        "  this_year = datetime.today().year\n",
        "\n",
        "  # calculamos los años de la edad\n",
        "  ages = [] # recordad que la lista es un objeto mutable\n",
        "  for year in birth_year:\n",
        "    # procedo con el cálculo de la edad YEAR actual - YEAR del listado\n",
        "    age = this_year - year\n",
        "    # procedemos con almacenar la variable en la lista anterior creada `ages`\n",
        "    ages.append(age)\n",
        "  print(ages)"
      ],
      "execution_count": 33,
      "outputs": []
    },
    {
      "cell_type": "code",
      "metadata": {
        "colab": {
          "base_uri": "https://localhost:8080/"
        },
        "id": "pQY_e-SJ2yIr",
        "outputId": "b31ef7e0-5cdc-4377-b3a1-dbb9af28d38b"
      },
      "source": [
        "get_average_age(years) # nombre función creada por mí y le indico el objeto a tratar."
      ],
      "execution_count": 34,
      "outputs": [
        {
          "output_type": "stream",
          "text": [
            "[57, 71, 40, 141, 41, 40, 58, 20]\n"
          ],
          "name": "stdout"
        }
      ]
    },
    {
      "cell_type": "code",
      "metadata": {
        "id": "t8GfrwH121Hj"
      },
      "source": [
        "# PASO 2: añadir la funcionalidad de cálculo del promedio de edades\n",
        "def get_average_age(birth_year):\n",
        "  # recogemos el valor YEAR actual\n",
        "  this_year = datetime.today().year\n",
        "\n",
        "  # calculamos los años de la edad\n",
        "  ages = [] # recordad que la lista es un objeto mutable\n",
        "  for year in birth_year:\n",
        "    # procedo con el cálculo de la edad YEAR actual - YEAR del listado\n",
        "    age = this_year - year\n",
        "    # procedemos con almacenar la variable en la lista anterior creada `ages`\n",
        "    ages.append(age)\n",
        "  print(\"***\"*20)\n",
        "  print(ages) # imprimir el resultado\n",
        "\n",
        "  # calculamos el promedio\n",
        "  age_sum = sum(ages)\n",
        "  n_people = len(ages)\n",
        "  age_mean = age_sum / n_people\n",
        "\n",
        "  print(\"***\"*20)\n",
        "  return age_mean # devuelve el valor hacía fuera del función\n",
        "  print(\"^^^\"*20)"
      ],
      "execution_count": 52,
      "outputs": []
    },
    {
      "cell_type": "code",
      "metadata": {
        "colab": {
          "base_uri": "https://localhost:8080/"
        },
        "id": "UyGqbyph1-sX",
        "outputId": "1ff7ec28-9a18-4820-b09b-8d2301eee896"
      },
      "source": [
        "get_average_age(years)"
      ],
      "execution_count": 53,
      "outputs": [
        {
          "output_type": "stream",
          "text": [
            "************************************************************\n",
            "[57, 71, 40, 141, 41, 40, 58, 20]\n",
            "************************************************************\n"
          ],
          "name": "stdout"
        },
        {
          "output_type": "execute_result",
          "data": {
            "text/plain": [
              "58.5"
            ]
          },
          "metadata": {
            "tags": []
          },
          "execution_count": 53
        }
      ]
    },
    {
      "cell_type": "markdown",
      "metadata": {
        "id": "MjW43eZk5vNY"
      },
      "source": [
        "### Las funciones son reutilizables\n",
        "\n",
        "siempre si cumplan la condición, pueden reciclarse para otro fines."
      ]
    },
    {
      "cell_type": "code",
      "metadata": {
        "id": "qoDp1byw19xx"
      },
      "source": [
        "nacimientos = [2020, 2018, 2013, 2014, 2011, 2007, 2006]"
      ],
      "execution_count": 54,
      "outputs": []
    },
    {
      "cell_type": "code",
      "metadata": {
        "colab": {
          "base_uri": "https://localhost:8080/"
        },
        "id": "pnZxMHFw5pol",
        "outputId": "c3f1baa0-a198-4453-cc95-b35bf6731504"
      },
      "source": [
        "get_average_age(nacimientos)"
      ],
      "execution_count": 55,
      "outputs": [
        {
          "output_type": "stream",
          "text": [
            "************************************************************\n",
            "[1, 3, 8, 7, 10, 14, 15]\n",
            "************************************************************\n"
          ],
          "name": "stdout"
        },
        {
          "output_type": "execute_result",
          "data": {
            "text/plain": [
              "8.285714285714286"
            ]
          },
          "metadata": {
            "tags": []
          },
          "execution_count": 55
        }
      ]
    },
    {
      "cell_type": "markdown",
      "metadata": {
        "id": "MHcwUDFZ7T7m"
      },
      "source": [
        "## Anatomía de una función UDF\n",
        "\n",
        "```\n",
        "def function_name(argument1, argument2,...):\n",
        "  EXECUTE código\n",
        "  ...\n",
        "  RETURN algo\n",
        "```\n"
      ]
    },
    {
      "cell_type": "code",
      "metadata": {
        "id": "wqYjK0AW7lZe"
      },
      "source": [
        "def square_number(x):\n",
        "  # calculamos el cuadrado basado con el valor x que le pasamos a principio\n",
        "  return x ** 2"
      ],
      "execution_count": 56,
      "outputs": []
    },
    {
      "cell_type": "code",
      "metadata": {
        "colab": {
          "base_uri": "https://localhost:8080/"
        },
        "id": "sU3LfBkQ7yPf",
        "outputId": "eafcb782-2a8b-495e-a02a-2fb0ca796b04"
      },
      "source": [
        "square_number(8)"
      ],
      "execution_count": 57,
      "outputs": [
        {
          "output_type": "execute_result",
          "data": {
            "text/plain": [
              "64"
            ]
          },
          "metadata": {
            "tags": []
          },
          "execution_count": 57
        }
      ]
    },
    {
      "cell_type": "code",
      "metadata": {
        "colab": {
          "base_uri": "https://localhost:8080/"
        },
        "id": "HaCYFg1370aN",
        "outputId": "ebb0eefe-5adc-4512-df17-125b2e69e952"
      },
      "source": [
        "square_number(91)"
      ],
      "execution_count": 58,
      "outputs": [
        {
          "output_type": "execute_result",
          "data": {
            "text/plain": [
              "8281"
            ]
          },
          "metadata": {
            "tags": []
          },
          "execution_count": 58
        }
      ]
    },
    {
      "cell_type": "code",
      "metadata": {
        "colab": {
          "base_uri": "https://localhost:8080/",
          "height": 267
        },
        "id": "xQyqSCve72I0",
        "outputId": "759e2441-3a91-49e8-e6c1-94abcb9996cc"
      },
      "source": [
        "square_number(\"ABC\")"
      ],
      "execution_count": 59,
      "outputs": [
        {
          "output_type": "error",
          "ename": "TypeError",
          "evalue": "ignored",
          "traceback": [
            "\u001b[0;31m---------------------------------------------------------------------------\u001b[0m",
            "\u001b[0;31mTypeError\u001b[0m                                 Traceback (most recent call last)",
            "\u001b[0;32m<ipython-input-59-4caf347a342e>\u001b[0m in \u001b[0;36m<module>\u001b[0;34m()\u001b[0m\n\u001b[0;32m----> 1\u001b[0;31m \u001b[0msquare_number\u001b[0m\u001b[0;34m(\u001b[0m\u001b[0;34m\"ABC\"\u001b[0m\u001b[0;34m)\u001b[0m\u001b[0;34m\u001b[0m\u001b[0;34m\u001b[0m\u001b[0m\n\u001b[0m",
            "\u001b[0;32m<ipython-input-56-43b2978031dd>\u001b[0m in \u001b[0;36msquare_number\u001b[0;34m(x)\u001b[0m\n\u001b[1;32m      1\u001b[0m \u001b[0;32mdef\u001b[0m \u001b[0msquare_number\u001b[0m\u001b[0;34m(\u001b[0m\u001b[0mx\u001b[0m\u001b[0;34m)\u001b[0m\u001b[0;34m:\u001b[0m\u001b[0;34m\u001b[0m\u001b[0;34m\u001b[0m\u001b[0m\n\u001b[1;32m      2\u001b[0m   \u001b[0;31m# calculamos el cuadrado basado con el valor x que le pasamos a principio\u001b[0m\u001b[0;34m\u001b[0m\u001b[0;34m\u001b[0m\u001b[0;34m\u001b[0m\u001b[0m\n\u001b[0;32m----> 3\u001b[0;31m   \u001b[0;32mreturn\u001b[0m \u001b[0mx\u001b[0m \u001b[0;34m**\u001b[0m \u001b[0;36m2\u001b[0m\u001b[0;34m\u001b[0m\u001b[0;34m\u001b[0m\u001b[0m\n\u001b[0m",
            "\u001b[0;31mTypeError\u001b[0m: unsupported operand type(s) for ** or pow(): 'str' and 'int'"
          ]
        }
      ]
    },
    {
      "cell_type": "code",
      "metadata": {
        "colab": {
          "base_uri": "https://localhost:8080/",
          "height": 174
        },
        "id": "mGr42srm75jM",
        "outputId": "7bc43c64-5c87-4553-d11a-61122b523e6f"
      },
      "source": [
        "square_number()"
      ],
      "execution_count": 60,
      "outputs": [
        {
          "output_type": "error",
          "ename": "TypeError",
          "evalue": "ignored",
          "traceback": [
            "\u001b[0;31m---------------------------------------------------------------------------\u001b[0m",
            "\u001b[0;31mTypeError\u001b[0m                                 Traceback (most recent call last)",
            "\u001b[0;32m<ipython-input-60-f50d5d41631d>\u001b[0m in \u001b[0;36m<module>\u001b[0;34m()\u001b[0m\n\u001b[0;32m----> 1\u001b[0;31m \u001b[0msquare_number\u001b[0m\u001b[0;34m(\u001b[0m\u001b[0;34m)\u001b[0m\u001b[0;34m\u001b[0m\u001b[0;34m\u001b[0m\u001b[0m\n\u001b[0m",
            "\u001b[0;31mTypeError\u001b[0m: square_number() missing 1 required positional argument: 'x'"
          ]
        }
      ]
    },
    {
      "cell_type": "code",
      "metadata": {
        "colab": {
          "base_uri": "https://localhost:8080/",
          "height": 174
        },
        "id": "W_p6iC_E7-c-",
        "outputId": "61141e82-5168-4198-9e8a-447e1d253089"
      },
      "source": [
        "square_number(5,8)"
      ],
      "execution_count": 61,
      "outputs": [
        {
          "output_type": "error",
          "ename": "TypeError",
          "evalue": "ignored",
          "traceback": [
            "\u001b[0;31m---------------------------------------------------------------------------\u001b[0m",
            "\u001b[0;31mTypeError\u001b[0m                                 Traceback (most recent call last)",
            "\u001b[0;32m<ipython-input-61-cad4a7bc8fe9>\u001b[0m in \u001b[0;36m<module>\u001b[0;34m()\u001b[0m\n\u001b[0;32m----> 1\u001b[0;31m \u001b[0msquare_number\u001b[0m\u001b[0;34m(\u001b[0m\u001b[0;36m5\u001b[0m\u001b[0;34m,\u001b[0m\u001b[0;36m8\u001b[0m\u001b[0;34m)\u001b[0m\u001b[0;34m\u001b[0m\u001b[0;34m\u001b[0m\u001b[0m\n\u001b[0m",
            "\u001b[0;31mTypeError\u001b[0m: square_number() takes 1 positional argument but 2 were given"
          ]
        }
      ]
    },
    {
      "cell_type": "markdown",
      "metadata": {
        "id": "-_LIqF0r8XCh"
      },
      "source": [
        "### Las funciones UDF también se crean sin pasarle argumentos"
      ]
    },
    {
      "cell_type": "code",
      "metadata": {
        "id": "Fl_p30gj8aO0"
      },
      "source": [
        "def dame_un_numero():\n",
        "  return 1"
      ],
      "execution_count": 62,
      "outputs": []
    },
    {
      "cell_type": "code",
      "metadata": {
        "colab": {
          "base_uri": "https://localhost:8080/"
        },
        "id": "ZCORyode8dTT",
        "outputId": "cc775b97-8fd2-413c-ba71-cd2df5bd1bb2"
      },
      "source": [
        "dame_un_numero()"
      ],
      "execution_count": 63,
      "outputs": [
        {
          "output_type": "execute_result",
          "data": {
            "text/plain": [
              "1"
            ]
          },
          "metadata": {
            "tags": []
          },
          "execution_count": 63
        }
      ]
    },
    {
      "cell_type": "code",
      "metadata": {
        "colab": {
          "base_uri": "https://localhost:8080/"
        },
        "id": "Fu6ubxym8eVi",
        "outputId": "95b577ea-d4aa-400f-857a-333d110f3ed8"
      },
      "source": [
        "dame_un_numero # sin indicarle los paréntesis me devuelve la estructura de la propia función"
      ],
      "execution_count": 64,
      "outputs": [
        {
          "output_type": "execute_result",
          "data": {
            "text/plain": [
              "<function __main__.dame_un_numero>"
            ]
          },
          "metadata": {
            "tags": []
          },
          "execution_count": 64
        }
      ]
    },
    {
      "cell_type": "markdown",
      "metadata": {
        "id": "56Ffh4Bv8tHy"
      },
      "source": [
        "### Función con dos argumentos"
      ]
    },
    {
      "cell_type": "code",
      "metadata": {
        "id": "2DM-vJ3X8vDs"
      },
      "source": [
        "def dame_tu_nombre_completo(name, surname):\n",
        "  full_name = name + \" \" + surname\n",
        "\n",
        "  return full_name"
      ],
      "execution_count": 65,
      "outputs": []
    },
    {
      "cell_type": "code",
      "metadata": {
        "colab": {
          "base_uri": "https://localhost:8080/",
          "height": 36
        },
        "id": "DCWpyq_J9MQp",
        "outputId": "e9ee822b-92df-4956-abcc-4aacc7096141"
      },
      "source": [
        "dame_tu_nombre_completo(\"Marco\", \"Russo\")"
      ],
      "execution_count": 66,
      "outputs": [
        {
          "output_type": "execute_result",
          "data": {
            "application/vnd.google.colaboratory.intrinsic+json": {
              "type": "string"
            },
            "text/plain": [
              "'Marco Russo'"
            ]
          },
          "metadata": {
            "tags": []
          },
          "execution_count": 66
        }
      ]
    },
    {
      "cell_type": "code",
      "metadata": {
        "colab": {
          "base_uri": "https://localhost:8080/",
          "height": 174
        },
        "id": "1ueNau659Pe9",
        "outputId": "6f1a79b7-e52e-443b-e9e9-ea857c353ceb"
      },
      "source": [
        "dame_tu_nombre_completo(\"Marco\")"
      ],
      "execution_count": 67,
      "outputs": [
        {
          "output_type": "error",
          "ename": "TypeError",
          "evalue": "ignored",
          "traceback": [
            "\u001b[0;31m---------------------------------------------------------------------------\u001b[0m",
            "\u001b[0;31mTypeError\u001b[0m                                 Traceback (most recent call last)",
            "\u001b[0;32m<ipython-input-67-678af5f49082>\u001b[0m in \u001b[0;36m<module>\u001b[0;34m()\u001b[0m\n\u001b[0;32m----> 1\u001b[0;31m \u001b[0mdame_tu_nombre_completo\u001b[0m\u001b[0;34m(\u001b[0m\u001b[0;34m\"Marco\"\u001b[0m\u001b[0;34m)\u001b[0m\u001b[0;34m\u001b[0m\u001b[0;34m\u001b[0m\u001b[0m\n\u001b[0m",
            "\u001b[0;31mTypeError\u001b[0m: dame_tu_nombre_completo() missing 1 required positional argument: 'surname'"
          ]
        }
      ]
    },
    {
      "cell_type": "code",
      "metadata": {
        "colab": {
          "base_uri": "https://localhost:8080/",
          "height": 286
        },
        "id": "uXuGVuTf9SKQ",
        "outputId": "beeba84e-1eb9-487d-83bf-a3f93df3ac9a"
      },
      "source": [
        "dame_tu_nombre_completo(1, 5)"
      ],
      "execution_count": 68,
      "outputs": [
        {
          "output_type": "error",
          "ename": "TypeError",
          "evalue": "ignored",
          "traceback": [
            "\u001b[0;31m---------------------------------------------------------------------------\u001b[0m",
            "\u001b[0;31mTypeError\u001b[0m                                 Traceback (most recent call last)",
            "\u001b[0;32m<ipython-input-68-be53503ba892>\u001b[0m in \u001b[0;36m<module>\u001b[0;34m()\u001b[0m\n\u001b[0;32m----> 1\u001b[0;31m \u001b[0mdame_tu_nombre_completo\u001b[0m\u001b[0;34m(\u001b[0m\u001b[0;36m1\u001b[0m\u001b[0;34m,\u001b[0m \u001b[0;36m5\u001b[0m\u001b[0;34m)\u001b[0m\u001b[0;34m\u001b[0m\u001b[0;34m\u001b[0m\u001b[0m\n\u001b[0m",
            "\u001b[0;32m<ipython-input-65-c360a7489873>\u001b[0m in \u001b[0;36mdame_tu_nombre_completo\u001b[0;34m(name, surname)\u001b[0m\n\u001b[1;32m      1\u001b[0m \u001b[0;32mdef\u001b[0m \u001b[0mdame_tu_nombre_completo\u001b[0m\u001b[0;34m(\u001b[0m\u001b[0mname\u001b[0m\u001b[0;34m,\u001b[0m \u001b[0msurname\u001b[0m\u001b[0;34m)\u001b[0m\u001b[0;34m:\u001b[0m\u001b[0;34m\u001b[0m\u001b[0;34m\u001b[0m\u001b[0m\n\u001b[0;32m----> 2\u001b[0;31m   \u001b[0mfull_name\u001b[0m \u001b[0;34m=\u001b[0m \u001b[0mname\u001b[0m \u001b[0;34m+\u001b[0m \u001b[0;34m\" \"\u001b[0m \u001b[0;34m+\u001b[0m \u001b[0msurname\u001b[0m\u001b[0;34m\u001b[0m\u001b[0;34m\u001b[0m\u001b[0m\n\u001b[0m\u001b[1;32m      3\u001b[0m \u001b[0;34m\u001b[0m\u001b[0m\n\u001b[1;32m      4\u001b[0m   \u001b[0;32mreturn\u001b[0m \u001b[0mfull_name\u001b[0m\u001b[0;34m\u001b[0m\u001b[0;34m\u001b[0m\u001b[0m\n",
            "\u001b[0;31mTypeError\u001b[0m: unsupported operand type(s) for +: 'int' and 'str'"
          ]
        }
      ]
    },
    {
      "cell_type": "markdown",
      "metadata": {
        "id": "lV2ODhnX99WE"
      },
      "source": [
        "***\n",
        "\n",
        "Creamos otro ejemplo con control de flujo"
      ]
    },
    {
      "cell_type": "code",
      "metadata": {
        "id": "Q-C8R1Gu9VuE"
      },
      "source": [
        "def get_longest_word(w1, w2):\n",
        "  if len(w1) > len(w2):\n",
        "    return w1\n",
        "  else:\n",
        "    return w2"
      ],
      "execution_count": 70,
      "outputs": []
    },
    {
      "cell_type": "code",
      "metadata": {
        "colab": {
          "base_uri": "https://localhost:8080/",
          "height": 36
        },
        "id": "ekv_3ucK9rk1",
        "outputId": "1d9d833b-8643-433b-c270-1bee185417af"
      },
      "source": [
        "palabra1 = \"Marco\"\n",
        "palabra2 = \"Russo\"\n",
        "get_longest_word(palabra1, palabra2)"
      ],
      "execution_count": 71,
      "outputs": [
        {
          "output_type": "execute_result",
          "data": {
            "application/vnd.google.colaboratory.intrinsic+json": {
              "type": "string"
            },
            "text/plain": [
              "'Russo'"
            ]
          },
          "metadata": {
            "tags": []
          },
          "execution_count": 71
        }
      ]
    },
    {
      "cell_type": "code",
      "metadata": {
        "id": "V4b1LvNk91sf"
      },
      "source": [
        "# Alternativa de la función anterior\n",
        "def get_longest_word(w1, w2):\n",
        "  if len(w1) > len(w2):\n",
        "    longest = w1\n",
        "  else:\n",
        "    longest = w2\n",
        "  \n",
        "  return longest"
      ],
      "execution_count": 72,
      "outputs": []
    },
    {
      "cell_type": "code",
      "metadata": {
        "colab": {
          "base_uri": "https://localhost:8080/",
          "height": 36
        },
        "id": "Dm6qU17_-a-F",
        "outputId": "c323df59-fb44-4214-b2fa-a88f7fd5b789"
      },
      "source": [
        "get_longest_word(palabra1, palabra2)"
      ],
      "execution_count": 73,
      "outputs": [
        {
          "output_type": "execute_result",
          "data": {
            "application/vnd.google.colaboratory.intrinsic+json": {
              "type": "string"
            },
            "text/plain": [
              "'Russo'"
            ]
          },
          "metadata": {
            "tags": []
          },
          "execution_count": 73
        }
      ]
    },
    {
      "cell_type": "code",
      "metadata": {
        "id": "-wyKT25L-fE_"
      },
      "source": [
        ""
      ],
      "execution_count": null,
      "outputs": []
    },
    {
      "cell_type": "code",
      "metadata": {
        "id": "3xR3US-G9pmd"
      },
      "source": [
        ""
      ],
      "execution_count": null,
      "outputs": []
    },
    {
      "cell_type": "code",
      "metadata": {
        "id": "uKrKveiK8fcS"
      },
      "source": [
        ""
      ],
      "execution_count": null,
      "outputs": []
    },
    {
      "cell_type": "code",
      "metadata": {
        "id": "6ghAbAhh8EjE"
      },
      "source": [
        ""
      ],
      "execution_count": null,
      "outputs": []
    },
    {
      "cell_type": "code",
      "metadata": {
        "id": "RvHSaz8W7jsX"
      },
      "source": [
        ""
      ],
      "execution_count": null,
      "outputs": []
    },
    {
      "cell_type": "code",
      "metadata": {
        "id": "VSHTFh117Vw6"
      },
      "source": [
        ""
      ],
      "execution_count": null,
      "outputs": []
    },
    {
      "cell_type": "code",
      "metadata": {
        "id": "3PzSGBnj17c6"
      },
      "source": [
        ""
      ],
      "execution_count": null,
      "outputs": []
    },
    {
      "cell_type": "code",
      "metadata": {
        "id": "UM-QmL2-1U3k"
      },
      "source": [
        ""
      ],
      "execution_count": null,
      "outputs": []
    },
    {
      "cell_type": "code",
      "metadata": {
        "id": "KjVrYP7tz84u"
      },
      "source": [
        ""
      ],
      "execution_count": null,
      "outputs": []
    },
    {
      "cell_type": "code",
      "metadata": {
        "id": "eGO3PY-ryLYR"
      },
      "source": [
        ""
      ],
      "execution_count": null,
      "outputs": []
    },
    {
      "cell_type": "code",
      "metadata": {
        "id": "6Y_H41F8xL99"
      },
      "source": [
        ""
      ],
      "execution_count": null,
      "outputs": []
    },
    {
      "cell_type": "code",
      "metadata": {
        "id": "-lxEexy2xJ58"
      },
      "source": [
        ""
      ],
      "execution_count": null,
      "outputs": []
    },
    {
      "cell_type": "code",
      "metadata": {
        "id": "Dohh5sgbxG6w"
      },
      "source": [
        ""
      ],
      "execution_count": null,
      "outputs": []
    },
    {
      "cell_type": "code",
      "metadata": {
        "id": "_sTjS2FZw_uT"
      },
      "source": [
        ""
      ],
      "execution_count": null,
      "outputs": []
    },
    {
      "cell_type": "code",
      "metadata": {
        "id": "Ig7JkUW3weaL"
      },
      "source": [
        ""
      ],
      "execution_count": null,
      "outputs": []
    }
  ]
}