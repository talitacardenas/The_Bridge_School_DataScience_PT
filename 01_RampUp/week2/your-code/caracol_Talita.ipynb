{
  "nbformat": 4,
  "nbformat_minor": 0,
  "metadata": {
    "kernelspec": {
      "display_name": "Python 3",
      "language": "python",
      "name": "python3"
    },
    "language_info": {
      "codemirror_mode": {
        "name": "ipython",
        "version": 3
      },
      "file_extension": ".py",
      "mimetype": "text/x-python",
      "name": "python",
      "nbconvert_exporter": "python",
      "pygments_lexer": "ipython3",
      "version": "3.8.6"
    },
    "colab": {
      "name": "caracol.ipynb",
      "provenance": []
    }
  },
  "cells": [
    {
      "cell_type": "markdown",
      "metadata": {
        "id": "l_5V9iqKXgko"
      },
      "source": [
        "# 01 - Caracol y el pozo\n",
        "\n",
        "Un caracol cae en el fondo de un pozo de 125 cm. Cada día el caracol sube 30 cm. pero por la noche, mientras duerme, resbala 20 cm debido a que las paredes son húmedas. ¿Cuantos días tarda en escapar del pozo?\n",
        "\n",
        "TIP: https://www.vix.com/es/btg/curiosidades/59215/acertijos-matematicos-el-caracol-en-el-pozo-facil\n",
        "\n",
        "TIP: http://puzzles.nigelcoldwell.co.uk/sixtytwo.htm"
      ]
    },
    {
      "cell_type": "markdown",
      "metadata": {
        "id": "ak2mHyT9Xgks"
      },
      "source": [
        "## Solución"
      ]
    },
    {
      "cell_type": "code",
      "metadata": {
        "id": "2dgArbpvXgkt"
      },
      "source": [
        "# Asigna los datos del problema a variables con nombres representativos\n",
        "# altura del pozo, avance diario, retroceso nocturno, distancia acumulada\n",
        "\n",
        "\n",
        "# Asigna 0 a la variable que representa la solución\n",
        "\n",
        "\n",
        "# Escribe el código que soluciona el problema\n",
        "\n",
        "\n",
        "# Imprime el resultado con print('Dias =', dias)\n",
        "\n"
      ],
      "execution_count": null,
      "outputs": []
    },
    {
      "cell_type": "markdown",
      "metadata": {
        "id": "QKa8VWROXgku"
      },
      "source": [
        "## Objetivos\n",
        "\n",
        "1. Tratamiento de variables\n",
        "2. Uso de bucle **while**\n",
        "3. Uso de condicionales **if-else**\n",
        "4. Imprimir por consola"
      ]
    },
    {
      "cell_type": "markdown",
      "metadata": {
        "id": "XtXDIxnWXgkv"
      },
      "source": [
        "## Bonus\n",
        "La distancia recorrida por el caracol viene ahora definida por una lista. \n",
        "```\n",
        "avance_cm = [30, 21, 33, 77, 44, 45, 23, 45, 12, 34, 55]\n",
        "```\n",
        "¿Cuánto tarda en subir el pozo?\n",
        "¿Cuál es su máximo de desplazamiento en un día? ¿Y su mínimo?\n",
        "¿Cuál es su media de velocidad durante el día?\n",
        "¿Cuál es la desviación típica de su desplazamiento durante el día?"
      ]
    },
    {
      "cell_type": "code",
      "metadata": {
        "id": "G63dekFwXgkw"
      },
      "source": [
        "# Asigna los datos del problema a variables con nombres representativos\n",
        "# altura del pozo, avance diario, retroceso nocturno, distancia acumulada\n",
        "\n",
        "\n",
        "# Asigna 0 a la variable que representa la solución\n",
        "\n",
        "\n",
        "# Escribe el código que soluciona el problema\n",
        "\n",
        "\n",
        "# Imprime el resultado con print('Dias =', dias)\n",
        "\n",
        "\n",
        "# ¿Cuál es su máximo de desplazamiento en un día? ¿Y su mínimo?\n",
        "\n",
        "\n",
        "# ¿Cuál es su media de avance?\n",
        "\n",
        "\n",
        "# ¿Cuál es la desviación típica de su desplazamiento durante el día?\n",
        "\n"
      ],
      "execution_count": null,
      "outputs": []
    },
    {
      "cell_type": "code",
      "metadata": {
        "id": "xB9K3xzhXgkx"
      },
      "source": [
        "alt_pozo = int(125)\n",
        "cm_subidos = int(30)\n",
        "cm_resbalados = int(20)\n",
        "desp_diario = cm_subidos - cm_resbalados"
      ],
      "execution_count": 6,
      "outputs": []
    },
    {
      "cell_type": "code",
      "metadata": {
        "id": "nLyWltpgZrbC"
      },
      "source": [
        "avance_cm = [30, 21, 33, 77, 44, 45, 23, 45, 12, 34, 55]"
      ],
      "execution_count": 71,
      "outputs": []
    },
    {
      "cell_type": "code",
      "metadata": {
        "colab": {
          "base_uri": "https://localhost:8080/"
        },
        "id": "v8FllAbleL5H",
        "outputId": "b6adf330-cca4-4c91-ceb8-06a51d6871a2"
      },
      "source": [
        "dia = 0\n",
        "desp_total = 0\n",
        "while desp_total < alt_pozo:\n",
        "  desp_total += desp_diario  \n",
        "  avance_cm.append(desp_total)\n",
        "  if desp_total in avance_cm:\n",
        "    dia += 1\n",
        "    print (dia)\n",
        "    \n"
      ],
      "execution_count": 73,
      "outputs": [
        {
          "output_type": "stream",
          "text": [
            "1\n",
            "2\n",
            "3\n",
            "4\n",
            "5\n",
            "6\n",
            "7\n",
            "8\n",
            "9\n",
            "10\n",
            "11\n",
            "12\n",
            "13\n"
          ],
          "name": "stdout"
        }
      ]
    },
    {
      "cell_type": "code",
      "metadata": {
        "id": "RQyHUGowvPvi"
      },
      "source": [
        ""
      ],
      "execution_count": null,
      "outputs": []
    }
  ]
}