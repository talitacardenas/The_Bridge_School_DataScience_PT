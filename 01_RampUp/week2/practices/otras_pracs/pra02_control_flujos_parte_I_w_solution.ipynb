{
  "nbformat": 4,
  "nbformat_minor": 0,
  "metadata": {
    "colab": {
      "name": "Lab02_control_flujos_parte_I - w/solution",
      "provenance": [],
      "collapsed_sections": []
    },
    "kernelspec": {
      "name": "python3",
      "display_name": "Python 3"
    },
    "language_info": {
      "name": "python"
    }
  },
  "cells": [
    {
      "cell_type": "markdown",
      "metadata": {
        "id": "dBjeqD-8E3jy"
      },
      "source": [
        "# Condicionales IF...ELIF...ELSE\n",
        "\n",
        "nos permite realizar evaluaciones basada en respuestas TRUE o FALSE\n"
      ]
    },
    {
      "cell_type": "code",
      "metadata": {
        "id": "7nZIQcUfE8rG"
      },
      "source": [
        "if respuesta == 'SI' or respuesta == 'S' or respuesta == 'si':\n",
        "    print(\"Continuar...\")\n",
        "    print(\"Completado!\")\n",
        "elif respuesta == 'not' or respuesta == 'N' or respuesta == 'no':\n",
        "    print(\"Salida!\")\n",
        "else:\n",
        "    print(\"Intentalo nuevamente....\")"
      ],
      "execution_count": null,
      "outputs": []
    },
    {
      "cell_type": "markdown",
      "metadata": {
        "id": "tkXkkar9FMGX"
      },
      "source": [
        "# Vamos con el laboratorio 2\n",
        "\n",
        "Escribir un programa que convierta la temperatura de Fahrenheit a Celsius\n",
        "\n",
        "En este código se muestra la fórmula matemática para convertir una temperatura medida en grados Fahrenheit a una temperatura medida en grados Celsius:\n",
        "\n",
        "celsius = (fahrenheit - 32) * 5/9\n",
        "\n",
        "Use esta fórmula para compilar un programa que **solicite a los usuarios** una temperatura en grados Fahrenheit, realice la conversión a Celsius y, después, muestre la temperatura en grados Celsius.\n",
        "\n",
        "Si el usuario escribe el valor 55, el programa debe generar este resultado:\n",
        "\n",
        "*OUTPUT What is the temperature in fahrenheit? 55 Temperature in celsius is 12 *\n",
        "\n",
        "Pero si el usuario escribe un valor no válido, el programa debe indicarle que hay un problema y, después, cerrar el programa. En este caso, si el usuario escribe el valor Bob, el programa debe generar este resultado:\n",
        "\n",
        "OUTPUT What is the temperature in fahrenheit? bob Input is not a number.\n",
        "\n",
        "Nota\n",
        "\n",
        "Para comprobar el trabajo, use un conversor de temperatura en línea y confirme que el resultado del programa coincide con el del conversor.\n",
        "\n",
        "Tanto si tiene dificultades y necesita echar un vistazo a la solución como si finaliza el ejercicio correctamente, continúe para ver una solución a este desafío."
      ]
    },
    {
      "cell_type": "code",
      "metadata": {
        "colab": {
          "base_uri": "https://localhost:8080/"
        },
        "id": "jDE1hTKUEuAu",
        "outputId": "e5feaf44-94c3-42b4-df27-07bcc8addcd6"
      },
      "source": [
        "a = 56\n",
        "type(a)"
      ],
      "execution_count": null,
      "outputs": [
        {
          "output_type": "execute_result",
          "data": {
            "text/plain": [
              "int"
            ]
          },
          "metadata": {
            "tags": []
          },
          "execution_count": 1
        }
      ]
    },
    {
      "cell_type": "code",
      "metadata": {
        "colab": {
          "base_uri": "https://localhost:8080/"
        },
        "id": "jKJlfrFuFijZ",
        "outputId": "3fa0b648-8daf-4a9c-ac7f-a6c9da6899ba"
      },
      "source": [
        "fahrenheit = input(\"Cuál es la temperatura FAH de: \")"
      ],
      "execution_count": null,
      "outputs": [
        {
          "output_type": "stream",
          "text": [
            "Cuál es la temperatura FAH de: 56\n"
          ],
          "name": "stdout"
        }
      ]
    },
    {
      "cell_type": "markdown",
      "metadata": {
        "id": "yIgosPBfFue7"
      },
      "source": [
        "### GENERAR UN PSEUDOCÓDIGO\n",
        "```\n",
        "fah = introducir un valor numérico\n",
        "evaluamos este valor numèrico, y \n",
        "SI es valor NO ES numérico, \n",
        "ELSE print (Este valor no es numèrico)\n",
        "o reintenta\n",
        "\n",
        "SI el valor ES numérico\n",
        "celsius = int(fah - 32) * 5/9\n",
        "print(La temperatura es CELSIUS)\n",
        "\n",
        "```"
      ]
    },
    {
      "cell_type": "code",
      "metadata": {
        "colab": {
          "base_uri": "https://localhost:8080/"
        },
        "id": "qtvrayjsFvMY",
        "outputId": "2a78001d-b41d-403a-9278-b3e6903eaa40"
      },
      "source": [
        "type(fahrenheit) # la evaluación de un valor almacenado a través de un input, lo transforma en STRING (cadena de texto)"
      ],
      "execution_count": null,
      "outputs": [
        {
          "output_type": "execute_result",
          "data": {
            "text/plain": [
              "str"
            ]
          },
          "metadata": {
            "tags": []
          },
          "execution_count": 3
        }
      ]
    },
    {
      "cell_type": "code",
      "metadata": {
        "id": "ZGOQ74ssF2gv"
      },
      "source": [
        "# celsius = (fahrenheit - 32) * 5/9"
      ],
      "execution_count": null,
      "outputs": []
    },
    {
      "cell_type": "code",
      "metadata": {
        "id": "cq1xR3c0F-U3"
      },
      "source": [
        ""
      ],
      "execution_count": null,
      "outputs": []
    },
    {
      "cell_type": "markdown",
      "metadata": {
        "id": "GYViZRYAicdZ"
      },
      "source": [
        "## Propuesta de solución 1"
      ]
    },
    {
      "cell_type": "code",
      "metadata": {
        "colab": {
          "base_uri": "https://localhost:8080/"
        },
        "id": "ynvB6FBjifpc",
        "outputId": "59dfa866-6dbf-49aa-e19e-6d37001a380f"
      },
      "source": [
        "fahrenheit = int(input(\"Cuál es la Temperatura FAH de: \"))"
      ],
      "execution_count": 1,
      "outputs": [
        {
          "output_type": "stream",
          "text": [
            "Cuál es la Temperatura FAH de: 100\n"
          ],
          "name": "stdout"
        }
      ]
    },
    {
      "cell_type": "code",
      "metadata": {
        "colab": {
          "base_uri": "https://localhost:8080/"
        },
        "id": "pTbmA9voitj1",
        "outputId": "baebcf24-bd19-40e2-bc3b-67632b5356d7"
      },
      "source": [
        "type(fahrenheit)"
      ],
      "execution_count": 2,
      "outputs": [
        {
          "output_type": "execute_result",
          "data": {
            "text/plain": [
              "int"
            ]
          },
          "metadata": {
            "tags": []
          },
          "execution_count": 2
        }
      ]
    },
    {
      "cell_type": "code",
      "metadata": {
        "colab": {
          "base_uri": "https://localhost:8080/"
        },
        "id": "0-kp-nchixh7",
        "outputId": "f18060e7-6417-4809-a29b-9a316501c498"
      },
      "source": [
        "if type(fahrenheit) is int:\n",
        "    celsius = (fahrenheit - 32) * 5/9\n",
        "    print(f\"La temperatura en FAH es {celsius}\")"
      ],
      "execution_count": 5,
      "outputs": [
        {
          "output_type": "stream",
          "text": [
            "La temperatura en FAH es 37.77777777777778\n"
          ],
          "name": "stdout"
        }
      ]
    },
    {
      "cell_type": "markdown",
      "metadata": {
        "id": "0ZzDAZuZjC8O"
      },
      "source": [
        "***"
      ]
    },
    {
      "cell_type": "code",
      "metadata": {
        "colab": {
          "base_uri": "https://localhost:8080/"
        },
        "id": "RVkHz-bUjDvc",
        "outputId": "78f5fff1-bb91-47b6-ba0a-883aba79d402"
      },
      "source": [
        "# segunda propuesta de solución mejorada\n",
        "fahrenheit = input(\"Cuál es la Temperatura FAH de: \")"
      ],
      "execution_count": 6,
      "outputs": [
        {
          "output_type": "stream",
          "text": [
            "Cuál es la Temperatura FAH de: 500\n"
          ],
          "name": "stdout"
        }
      ]
    },
    {
      "cell_type": "code",
      "metadata": {
        "colab": {
          "base_uri": "https://localhost:8080/"
        },
        "id": "ohhml7VwkxZO",
        "outputId": "31a62806-f687-4b8b-8991-f08eff7c7ed7"
      },
      "source": [
        "type(fahrenheit)"
      ],
      "execution_count": 3,
      "outputs": [
        {
          "output_type": "execute_result",
          "data": {
            "text/plain": [
              "str"
            ]
          },
          "metadata": {
            "tags": []
          },
          "execution_count": 3
        }
      ]
    },
    {
      "cell_type": "code",
      "metadata": {
        "colab": {
          "base_uri": "https://localhost:8080/"
        },
        "id": "32wWduw3jos0",
        "outputId": "e94fda81-2190-4aad-939b-be97c491df85"
      },
      "source": [
        "if fahrenheit.isnumeric() == False:\n",
        "  print(\"El valor introducido no es númerico\")\n",
        "  exit()\n",
        "fahrenheit = int(fahrenheit)\n",
        "celsius = ((fahrenheit -32) * 5/9)\n",
        "print(f\"La temperatura en FAH es {celsius}\")"
      ],
      "execution_count": 4,
      "outputs": [
        {
          "output_type": "stream",
          "text": [
            "La temperatura en FAH es 37.77777777777778\n"
          ],
          "name": "stdout"
        }
      ]
    },
    {
      "cell_type": "code",
      "metadata": {
        "colab": {
          "base_uri": "https://localhost:8080/"
        },
        "id": "e0DO4Hfykb1g",
        "outputId": "beb3cca3-bfaa-4be5-ce35-3cbd9ddb0bab"
      },
      "source": [
        "if fahrenheit.isalnum() == False:\n",
        "  print(\"El valor introducido no es númerico\")\n",
        "  exit()\n",
        "fahrenheit = int(fahrenheit)\n",
        "celsius = ((fahrenheit -32) * 5/9)\n",
        "print(f\"La temperatura en FAH es {celsius}\")"
      ],
      "execution_count": 7,
      "outputs": [
        {
          "output_type": "stream",
          "text": [
            "La temperatura en FAH es 260.0\n"
          ],
          "name": "stdout"
        }
      ]
    },
    {
      "cell_type": "markdown",
      "metadata": {
        "id": "HADIJd5Gl8TY"
      },
      "source": [
        "***"
      ]
    },
    {
      "cell_type": "code",
      "metadata": {
        "id": "lqtY2ymdl8-i"
      },
      "source": [
        "# Método alternativo con una función\n",
        "# siempre se definen con `def`\n",
        "def calcular_celsius():\n",
        "  respuesta = input(\"Cuál es la Temperatura FAH de:\")\n",
        "\n",
        "   # evaluación de la variable\n",
        "  if respuesta.isalnum() == True:\n",
        "    fahrenheit = int(respuesta)\n",
        "    celsius = ((fahrenheit -32) * 5/9)\n",
        "    print(f\"La temperatura en FAH es {celsius}\")\n",
        "  else:\n",
        "    print(\"El valor introducido no es númerico\")\n",
        "    exit()"
      ],
      "execution_count": 17,
      "outputs": []
    },
    {
      "cell_type": "code",
      "metadata": {
        "colab": {
          "base_uri": "https://localhost:8080/"
        },
        "id": "98HyUgzdmpS0",
        "outputId": "70b42ba1-3b09-4142-88c2-cc80d56a1d29"
      },
      "source": [
        "calcular_celsius()"
      ],
      "execution_count": 18,
      "outputs": [
        {
          "output_type": "stream",
          "text": [
            "Cuál es la Temperatura FAH de:500\n",
            "La temperatura en FAH es 260.0\n"
          ],
          "name": "stdout"
        }
      ]
    },
    {
      "cell_type": "markdown",
      "metadata": {
        "id": "toXcRnlBn7pK"
      },
      "source": [
        "***"
      ]
    },
    {
      "cell_type": "code",
      "metadata": {
        "id": "9lNV2eg2n81w"
      },
      "source": [
        "# Método con una función 2\n",
        "# creamos una primera función para realizar el cálculo de conversión\n",
        "def fah2cel(fah):\n",
        "  celsius = int((fah - 32) * 5/9)\n",
        "  print(f\"La temperatura en CELSIUS de FAH es {celsius}\")"
      ],
      "execution_count": 26,
      "outputs": []
    },
    {
      "cell_type": "code",
      "metadata": {
        "colab": {
          "base_uri": "https://localhost:8080/"
        },
        "id": "9fO4xGmpoRAR",
        "outputId": "d63dd225-8693-4232-d595-4d3ae76af242"
      },
      "source": [
        "fah2cel(100) # aquí le pasamos el parámetro"
      ],
      "execution_count": 21,
      "outputs": [
        {
          "output_type": "stream",
          "text": [
            "La temperatura en FAH es 37\n"
          ],
          "name": "stdout"
        }
      ]
    },
    {
      "cell_type": "code",
      "metadata": {
        "colab": {
          "base_uri": "https://localhost:8080/"
        },
        "id": "oeHTU8eQoXYo",
        "outputId": "9cd361c4-4631-44dc-9099-1595a3de21bc"
      },
      "source": [
        "fah = 100\n",
        "fah2cel(fah) # el parámetro a la función se lo pasamos con una variable global"
      ],
      "execution_count": 22,
      "outputs": [
        {
          "output_type": "stream",
          "text": [
            "La temperatura en FAH es 37\n"
          ],
          "name": "stdout"
        }
      ]
    },
    {
      "cell_type": "code",
      "metadata": {
        "id": "Xbp32KQNocn4"
      },
      "source": [
        "# Creamos la función de validación del valor introducido\n",
        "def validation(valor_introducido):\n",
        "  if type(valor_introducido) is not int:\n",
        "    fah = int(valor_introducido) # guardamos esta variable local\n",
        "    fah2cel(fah) # llamamos en causa la función de conversión\n",
        "  else:\n",
        "    # imprimimos el mensaje de error\n",
        "    print(\"El valor introducido no es un valor numérico\")\n",
        "    exit()"
      ],
      "execution_count": 23,
      "outputs": []
    },
    {
      "cell_type": "code",
      "metadata": {
        "colab": {
          "base_uri": "https://localhost:8080/"
        },
        "id": "jQKjDVmJo9ZG",
        "outputId": "f077d2d4-e599-4292-9c43-684ecc87052c"
      },
      "source": [
        "fah2cel(100)"
      ],
      "execution_count": 27,
      "outputs": [
        {
          "output_type": "stream",
          "text": [
            "La temperatura en CELSIUS de FAH es 37\n"
          ],
          "name": "stdout"
        }
      ]
    },
    {
      "cell_type": "code",
      "metadata": {
        "colab": {
          "base_uri": "https://localhost:8080/"
        },
        "id": "4uPOhM19pAh9",
        "outputId": "542ee862-eac5-4276-f0bb-711c8c81a2ba"
      },
      "source": [
        "fah2cel(800)"
      ],
      "execution_count": 28,
      "outputs": [
        {
          "output_type": "stream",
          "text": [
            "La temperatura en CELSIUS de FAH es 426\n"
          ],
          "name": "stdout"
        }
      ]
    },
    {
      "cell_type": "code",
      "metadata": {
        "colab": {
          "base_uri": "https://localhost:8080/",
          "height": 286
        },
        "id": "pvaUDOzrpCeS",
        "outputId": "18fc380a-9ea6-49ab-be81-14a056e15dc5"
      },
      "source": [
        "fah2cel(\"bob\")"
      ],
      "execution_count": 29,
      "outputs": [
        {
          "output_type": "error",
          "ename": "TypeError",
          "evalue": "ignored",
          "traceback": [
            "\u001b[0;31m---------------------------------------------------------------------------\u001b[0m",
            "\u001b[0;31mTypeError\u001b[0m                                 Traceback (most recent call last)",
            "\u001b[0;32m<ipython-input-29-b24d247cde69>\u001b[0m in \u001b[0;36m<module>\u001b[0;34m()\u001b[0m\n\u001b[0;32m----> 1\u001b[0;31m \u001b[0mfah2cel\u001b[0m\u001b[0;34m(\u001b[0m\u001b[0;34m\"bob\"\u001b[0m\u001b[0;34m)\u001b[0m\u001b[0;34m\u001b[0m\u001b[0;34m\u001b[0m\u001b[0m\n\u001b[0m",
            "\u001b[0;32m<ipython-input-26-bf1eb6a4fa72>\u001b[0m in \u001b[0;36mfah2cel\u001b[0;34m(fah)\u001b[0m\n\u001b[1;32m      2\u001b[0m \u001b[0;31m# creamos una primera función para realizar el cálculo de conversión\u001b[0m\u001b[0;34m\u001b[0m\u001b[0;34m\u001b[0m\u001b[0;34m\u001b[0m\u001b[0m\n\u001b[1;32m      3\u001b[0m \u001b[0;32mdef\u001b[0m \u001b[0mfah2cel\u001b[0m\u001b[0;34m(\u001b[0m\u001b[0mfah\u001b[0m\u001b[0;34m)\u001b[0m\u001b[0;34m:\u001b[0m\u001b[0;34m\u001b[0m\u001b[0;34m\u001b[0m\u001b[0m\n\u001b[0;32m----> 4\u001b[0;31m   \u001b[0mcelsius\u001b[0m \u001b[0;34m=\u001b[0m \u001b[0mint\u001b[0m\u001b[0;34m(\u001b[0m\u001b[0;34m(\u001b[0m\u001b[0mfah\u001b[0m \u001b[0;34m-\u001b[0m \u001b[0;36m32\u001b[0m\u001b[0;34m)\u001b[0m \u001b[0;34m*\u001b[0m \u001b[0;36m5\u001b[0m\u001b[0;34m/\u001b[0m\u001b[0;36m9\u001b[0m\u001b[0;34m)\u001b[0m\u001b[0;34m\u001b[0m\u001b[0;34m\u001b[0m\u001b[0m\n\u001b[0m\u001b[1;32m      5\u001b[0m   \u001b[0mprint\u001b[0m\u001b[0;34m(\u001b[0m\u001b[0;34mf\"La temperatura en CELSIUS de FAH es {celsius}\"\u001b[0m\u001b[0;34m)\u001b[0m\u001b[0;34m\u001b[0m\u001b[0;34m\u001b[0m\u001b[0m\n",
            "\u001b[0;31mTypeError\u001b[0m: unsupported operand type(s) for -: 'str' and 'int'"
          ]
        }
      ]
    },
    {
      "cell_type": "markdown",
      "metadata": {
        "id": "4uHZcfeZpdcq"
      },
      "source": [
        "***"
      ]
    },
    {
      "cell_type": "code",
      "metadata": {
        "id": "I4TD8IAFpeFo"
      },
      "source": [
        "# mejoramos la última función de validación\n",
        "def validation(valor_introducido):\n",
        "  if valor_introducido.isnumeric() == True:\n",
        "    fah = int(valor_introducido)\n",
        "    fah2cel(fah)\n",
        "  else:\n",
        "    print(\"El valor introducido no es un valor numérico\")\n",
        "    pass"
      ],
      "execution_count": 30,
      "outputs": []
    },
    {
      "cell_type": "code",
      "metadata": {
        "id": "qm56O0AxpxPg"
      },
      "source": [
        "def pregunta():\n",
        "  valor_introducido = input(\"Cuál es la temperatura ºC de FAH de: \")\n",
        "  validation(valor_introducido)"
      ],
      "execution_count": 33,
      "outputs": []
    },
    {
      "cell_type": "code",
      "metadata": {
        "id": "ryUu0gwqqBMp"
      },
      "source": [
        ""
      ],
      "execution_count": null,
      "outputs": []
    },
    {
      "cell_type": "code",
      "metadata": {
        "colab": {
          "base_uri": "https://localhost:8080/"
        },
        "id": "8m0QZnEmp77U",
        "outputId": "b3541433-72d1-4b09-b327-b7e2e4814d3e"
      },
      "source": [
        "pregunta()"
      ],
      "execution_count": 35,
      "outputs": [
        {
          "output_type": "stream",
          "text": [
            "Cuál es la temperatura ºC de FAH de: Bob\n",
            "El valor introducido no es un valor numérico\n"
          ],
          "name": "stdout"
        }
      ]
    },
    {
      "cell_type": "code",
      "metadata": {
        "id": "0_Tsyb6gqDCH"
      },
      "source": [
        ""
      ],
      "execution_count": null,
      "outputs": []
    },
    {
      "cell_type": "code",
      "metadata": {
        "id": "VWQJ8N3jqBvy"
      },
      "source": [
        ""
      ],
      "execution_count": null,
      "outputs": []
    },
    {
      "cell_type": "code",
      "metadata": {
        "id": "SQkfz8N2p-_Z"
      },
      "source": [
        ""
      ],
      "execution_count": null,
      "outputs": []
    },
    {
      "cell_type": "code",
      "metadata": {
        "id": "JdGadbzZpND0"
      },
      "source": [
        ""
      ],
      "execution_count": null,
      "outputs": []
    },
    {
      "cell_type": "code",
      "metadata": {
        "id": "SMF7nTMroUS4"
      },
      "source": [
        ""
      ],
      "execution_count": null,
      "outputs": []
    },
    {
      "cell_type": "code",
      "metadata": {
        "id": "3NYhuf72m4yG"
      },
      "source": [
        ""
      ],
      "execution_count": null,
      "outputs": []
    },
    {
      "cell_type": "code",
      "metadata": {
        "id": "ojGwp3vNmtLK"
      },
      "source": [
        ""
      ],
      "execution_count": null,
      "outputs": []
    },
    {
      "cell_type": "code",
      "metadata": {
        "id": "hEpmNSmIkat_"
      },
      "source": [
        ""
      ],
      "execution_count": null,
      "outputs": []
    },
    {
      "cell_type": "code",
      "metadata": {
        "id": "YtjZG3DnkZcN"
      },
      "source": [
        ""
      ],
      "execution_count": null,
      "outputs": []
    },
    {
      "cell_type": "code",
      "metadata": {
        "id": "IjI9wMV4kDxW"
      },
      "source": [
        ""
      ],
      "execution_count": null,
      "outputs": []
    },
    {
      "cell_type": "code",
      "metadata": {
        "id": "T03tiabci-ms"
      },
      "source": [
        ""
      ],
      "execution_count": null,
      "outputs": []
    },
    {
      "cell_type": "code",
      "metadata": {
        "id": "Fuq8OoQxi8Z-"
      },
      "source": [
        ""
      ],
      "execution_count": null,
      "outputs": []
    },
    {
      "cell_type": "code",
      "metadata": {
        "id": "ymguMk5bi26m"
      },
      "source": [
        ""
      ],
      "execution_count": null,
      "outputs": []
    },
    {
      "cell_type": "code",
      "metadata": {
        "id": "6AFwrBYHFnE_"
      },
      "source": [
        ""
      ],
      "execution_count": null,
      "outputs": []
    }
  ]
}