{
  "nbformat": 4,
  "nbformat_minor": 0,
  "metadata": {
    "kernelspec": {
      "display_name": "Python 3",
      "language": "python",
      "name": "python3"
    },
    "language_info": {
      "codemirror_mode": {
        "name": "ipython",
        "version": 3
      },
      "file_extension": ".py",
      "mimetype": "text/x-python",
      "name": "python",
      "nbconvert_exporter": "python",
      "pygments_lexer": "ipython3",
      "version": "3.6.7"
    },
    "colab": {
      "name": "bus.ipynb",
      "provenance": []
    }
  },
  "cells": [
    {
      "cell_type": "markdown",
      "metadata": {
        "id": "QV7emVbPQSWr"
      },
      "source": [
        "# Bus\n",
        "\n",
        "Este bus tiene un sistema de control de subida y bajada de pasajeros para monitorizar el número de ocupantes que lleva y así detectar cuando hay un aforo demasiado alto. \n",
        "\n",
        "En cada parada la subida y bajada de pasajeros se representa por una tupla compuesta por dos números enteros. \n",
        "```\n",
        "bus_stop = (in, out)\n",
        "```\n",
        "La sucesión de paradas se representa con una lista estas tuplas.\n",
        "```\n",
        "stops = [(in1, out1), (in2, out2), (in3, out3), (in4, out4)]\n",
        "```\n",
        "\n",
        "## Objetivos: \n",
        "* listas, tuplas\n",
        "* bucles while/for\n",
        "* mínimo, máximo, longitud\n",
        "* media, desviación estandard\n",
        "\n",
        "## Tareas\n",
        "1. Calcula el número de paradas. \n",
        "2. Asigna a una variable una lista cuyos elementos sean el número de pasajeros en cada parada (in-out), \n",
        "3. Halla el máximo de ocupación del autobús. \n",
        "4. Calcula la media de la ocupación. Y la desviación estandard. \n"
      ]
    },
    {
      "cell_type": "code",
      "metadata": {
        "id": "OV3bny8lQSWx"
      },
      "source": [
        "\n",
        "stops = [(10, 0), (4, 1), (3, 5), (3, 4), (5, 1), (1, 5), (5, 8), (4, 6), (2, 3)]\n",
        "\n",
        "# 1. Calcula el número de paradas. \n",
        "\n",
        "\n",
        "# 2. Asigna a una variable una lista cuyos elementos sean el número de pasajeros en \n",
        "# cada parada: Cada elemento depende del elemento previo en la lista + in - out.  \n",
        "\n",
        "\n",
        "# 3. Halla el máximo de ocupación del autobús. \n",
        "\n",
        "\n",
        "# 4. Calcula la media de la ocupación. Y la desviación estandard. \n",
        "\n"
      ],
      "execution_count": 14,
      "outputs": []
    },
    {
      "cell_type": "code",
      "metadata": {
        "id": "l6AqooFoQSWz",
        "colab": {
          "base_uri": "https://localhost:8080/"
        },
        "outputId": "3ed79a66-9727-45ae-a8f9-46df52ffbe56"
      },
      "source": [
        "stops = [(10, 0), (4, 1), (3, 5), (3, 4), (5, 1), (1, 5), (5, 8), (4, 6), (2, 3)]\n",
        "\n",
        "# 1. Calcula el número de paradas.\n",
        "len(stops)\n",
        "\n",
        "            "
      ],
      "execution_count": 186,
      "outputs": [
        {
          "output_type": "execute_result",
          "data": {
            "text/plain": [
              "9"
            ]
          },
          "metadata": {
            "tags": []
          },
          "execution_count": 186
        }
      ]
    },
    {
      "cell_type": "code",
      "metadata": {
        "id": "qWAP79i6lQFk"
      },
      "source": [
        "# 2. Asigna a una variable una lista cuyos elementos sean el número de pasajeros en \n",
        "# cada parada: Cada elemento depende del elemento previo en la lista + in - out.  \n",
        "up = (stops [0][0], stops[1][0], stops[2][0], stops[3][0], stops[4][0], stops[5][0], stops[6][0], stops[7][0], stops[8][0])\n",
        "down = (stops [0][1], stops[1][1], stops[2][1], stops[3][1], stops[4][1], stops[5][1], stops[6][1], stops[7][1], stops[8][1])"
      ],
      "execution_count": 383,
      "outputs": []
    },
    {
      "cell_type": "code",
      "metadata": {
        "colab": {
          "base_uri": "https://localhost:8080/"
        },
        "id": "vkQB4uxSYVmG",
        "outputId": "9e691852-0c19-48ab-882e-ee6895514c1e"
      },
      "source": [
        "ocup_acum = []\n",
        "ocupa_bus = 0\n",
        "for u,d in zip(up,down):\n",
        "  ocupa_bus = ocupa_bus +(u-d)\n",
        "  ocup_acum.append(ocupa_bus)\n",
        "  print(ocupa_bus)"
      ],
      "execution_count": 384,
      "outputs": [
        {
          "output_type": "stream",
          "text": [
            "10\n",
            "13\n",
            "11\n",
            "10\n",
            "14\n",
            "10\n",
            "7\n",
            "5\n",
            "4\n"
          ],
          "name": "stdout"
        }
      ]
    },
    {
      "cell_type": "code",
      "metadata": {
        "colab": {
          "base_uri": "https://localhost:8080/"
        },
        "id": "J8MrcuuPp2NQ",
        "outputId": "ef03ecca-c329-4e28-d0f6-6e61a695b310"
      },
      "source": [
        "print(ocup_acum)"
      ],
      "execution_count": 385,
      "outputs": [
        {
          "output_type": "stream",
          "text": [
            "[10, 13, 11, 10, 14, 10, 7, 5, 4]\n"
          ],
          "name": "stdout"
        }
      ]
    },
    {
      "cell_type": "code",
      "metadata": {
        "colab": {
          "base_uri": "https://localhost:8080/"
        },
        "id": "PqdI4q5VZ2GU",
        "outputId": "50069c41-7ada-4afc-f1ac-0059ce65db61"
      },
      "source": [
        "# 3. Halla el máximo de ocupación del autobús. \n",
        "max_acum = max(ocup_acum)\n",
        "print(max_acum)\n",
        "\n",
        "  "
      ],
      "execution_count": 386,
      "outputs": [
        {
          "output_type": "stream",
          "text": [
            "14\n"
          ],
          "name": "stdout"
        }
      ]
    },
    {
      "cell_type": "code",
      "metadata": {
        "colab": {
          "base_uri": "https://localhost:8080/"
        },
        "id": "VLpev_bleMhB",
        "outputId": "0f64cb93-ca6d-45b3-9d23-23ba0cfa4bf2"
      },
      "source": [
        "# 4. Calcula la media de la ocupación. Y la desviación estandard.\n",
        "def aver_ocupa(ocup_acum):\n",
        "  return sum(ocup_acum) / len(ocup_acum)\n",
        "\n",
        "print (aver_ocupa(ocup_acum))"
      ],
      "execution_count": 387,
      "outputs": [
        {
          "output_type": "stream",
          "text": [
            "9.333333333333334\n"
          ],
          "name": "stdout"
        }
      ]
    },
    {
      "cell_type": "code",
      "metadata": {
        "colab": {
          "base_uri": "https://localhost:8080/"
        },
        "id": "pAGlEZ_-v-Lf",
        "outputId": "bdf9f4fd-1121-464f-e29c-6e2990f90f75"
      },
      "source": [
        "# Desviación Standard\n",
        "\n",
        "for i in ocup_acum:\n",
        "  dev = dev + ((i - aver_ocupa(ocup_acum))**2)/9\n",
        "  print (dev)"
      ],
      "execution_count": 398,
      "outputs": [
        {
          "output_type": "stream",
          "text": [
            "0.24691358024691315\n",
            "1.7407407407407398\n",
            "2.0493827160493816\n",
            "2.098765432098764\n",
            "4.518518518518516\n",
            "4.567901234567899\n",
            "5.172839506172838\n",
            "7.259259259259258\n",
            "10.419753086419753\n"
          ],
          "name": "stdout"
        }
      ]
    },
    {
      "cell_type": "code",
      "metadata": {
        "colab": {
          "base_uri": "https://localhost:8080/"
        },
        "id": "5QoG5UDWwUhV",
        "outputId": "393a44f0-16fb-4432-d2ed-776dec1087ce"
      },
      "source": [
        "print(\"la desviación standard es:\" , dev)"
      ],
      "execution_count": 399,
      "outputs": [
        {
          "output_type": "stream",
          "text": [
            "la desviación standard es: 10.419753086419753\n"
          ],
          "name": "stdout"
        }
      ]
    }
  ]
}