{
 "cells": [
  {
   "cell_type": "markdown",
   "metadata": {
    "id": "H-b7OAvi7QtP"
   },
   "source": [
    "# Encabezado tipo 1\n",
    "## Encabezado tipo 2\n",
    "\n",
    "Se llama **Markdown**\n",
    "\n",
    "1.   Elemento de lista\n",
    "2.   Elemento de lista\n",
    "\n"
   ]
  },
  {
   "cell_type": "markdown",
   "metadata": {
    "id": "vRJ5gaTr7x1I"
   },
   "source": [
    "En Jupyter para ejecutar una celda tecleamos:\n",
    "\n",
    "- CTRL + ENTER\n",
    "\n",
    "O si queremos añadir una nueva línea de código y a la vez ejecutar\n",
    "\n",
    "- ALT + ENTER"
   ]
  },
  {
   "cell_type": "code",
   "execution_count": 5,
   "metadata": {
    "id": "PF5gAlQk6p7y"
   },
   "outputs": [],
   "source": [
    "# Si quiero escribir un comentario en una celda utilizamos el fragmento #\n",
    "# Si son más líneas también\n",
    "suma = 20 + 10 # también podemos redactar un comentario al lado del código"
   ]
  },
  {
   "cell_type": "code",
   "execution_count": 8,
   "metadata": {
    "colab": {
     "base_uri": "https://localhost:8080/"
    },
    "id": "G_ZuzkIn8REL",
    "outputId": "b3c2e9c5-4896-4b87-b916-a62da9000357"
   },
   "outputs": [
    {
     "name": "stdout",
     "output_type": "stream",
     "text": [
      "30\n"
     ]
    }
   ],
   "source": [
    "print(suma) # imprimimos el valor resultante de la variable anterior"
   ]
  },
  {
   "cell_type": "code",
   "execution_count": 10,
   "metadata": {
    "colab": {
     "base_uri": "https://localhost:8080/"
    },
    "id": "yWbP54oU8a5Z",
    "outputId": "574868b1-851f-44da-f652-7be96405400e"
   },
   "outputs": [
    {
     "data": {
      "text/plain": [
       "30"
      ]
     },
     "execution_count": 10,
     "metadata": {
      "tags": []
     },
     "output_type": "execute_result"
    }
   ],
   "source": [
    "suma"
   ]
  },
  {
   "cell_type": "code",
   "execution_count": 12,
   "metadata": {
    "colab": {
     "base_uri": "https://localhost:8080/",
     "height": 173
    },
    "id": "3lJ5r4TC8lmI",
    "outputId": "54bf08ba-f41f-44d1-ac65-476d424a4628"
   },
   "outputs": [
    {
     "ename": "TypeError",
     "evalue": "ignored",
     "output_type": "error",
     "traceback": [
      "\u001b[0;31m---------------------------------------------------------------------------\u001b[0m",
      "\u001b[0;31mTypeError\u001b[0m                                 Traceback (most recent call last)",
      "\u001b[0;32m<ipython-input-12-58c739808e22>\u001b[0m in \u001b[0;36m<module>\u001b[0;34m()\u001b[0m\n\u001b[0;32m----> 1\u001b[0;31m \u001b[0mprint\u001b[0m\u001b[0;34m(\u001b[0m\u001b[0;34m\"El resultado de esta operación es: \"\u001b[0m \u001b[0;34m+\u001b[0m \u001b[0msuma\u001b[0m\u001b[0;34m)\u001b[0m\u001b[0;34m\u001b[0m\u001b[0;34m\u001b[0m\u001b[0m\n\u001b[0m",
      "\u001b[0;31mTypeError\u001b[0m: can only concatenate str (not \"int\") to str"
     ]
    }
   ],
   "source": [
    "print(\"El resultado de esta operación es: \" + suma)"
   ]
  },
  {
   "cell_type": "markdown",
   "metadata": {
    "id": "ie4QAJjX9SkW"
   },
   "source": [
    "Veamos que nos devolverá un error porque estamos intentando imprimir una cadena de texto y un valor numérico.\n",
    "La solución sería de transformar nuestro valor numérico en STRING"
   ]
  },
  {
   "cell_type": "code",
   "execution_count": 15,
   "metadata": {
    "colab": {
     "base_uri": "https://localhost:8080/"
    },
    "id": "bEvsL80s8YDN",
    "outputId": "e512f050-05d5-4aa4-efcd-6b580c7d62b7"
   },
   "outputs": [
    {
     "name": "stdout",
     "output_type": "stream",
     "text": [
      "El resultado de esta operación es: 30\n"
     ]
    }
   ],
   "source": [
    "# Volvemos a repetir la operación anterior convertiendo la variable numérica en string\n",
    "print(\"El resultado de esta operación es: \" + str(suma))"
   ]
  },
  {
   "cell_type": "code",
   "execution_count": null,
   "metadata": {
    "id": "BJkaw6UE8YZb"
   },
   "outputs": [],
   "source": [
    "sum"
   ]
  },
  {
   "cell_type": "code",
   "execution_count": 3,
   "metadata": {
    "id": "UsswaMi_7pAn"
   },
   "outputs": [],
   "source": []
  }
 ],
 "metadata": {
  "colab": {
   "collapsed_sections": [],
   "name": "w1d1 - Primer notebook de Jupyter en GoogleColab - 12052021",
   "provenance": []
  },
  "kernelspec": {
   "display_name": "Python 3",
   "language": "python",
   "name": "python3"
  },
  "language_info": {
   "codemirror_mode": {
    "name": "ipython",
    "version": 3
   },
   "file_extension": ".py",
   "mimetype": "text/x-python",
   "name": "python",
   "nbconvert_exporter": "python",
   "pygments_lexer": "ipython3",
   "version": "3.8.8"
  }
 },
 "nbformat": 4,
 "nbformat_minor": 4
}
